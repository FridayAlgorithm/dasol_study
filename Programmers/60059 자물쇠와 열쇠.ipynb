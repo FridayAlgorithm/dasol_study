{
 "cells": [
  {
   "cell_type": "markdown",
   "metadata": {},
   "source": [
    "# 자물쇠와 열쇠\n",
    "\n",
    "[문제로 이동](https://programmers.co.kr/learn/courses/30/lessons/60059)\n",
    "\n",
    "- 튜브는 고대 유적지의 자물쇠를 풀고자 한다\n",
    "- 열쇠는 회전과 이동이 가능하다\n",
    "- 열쇠와 자물쇠를 나타내는 2차원배열이 주어질때 열리면 True, 열 수 없으면 False를 반환하라"
   ]
  },
  {
   "cell_type": "code",
   "execution_count": null,
   "metadata": {},
   "outputs": [],
   "source": [
    "def solution(key, lock):\n",
    "    answer = True\n",
    "    return answer"
   ]
  }
 ],
 "metadata": {
  "kernelspec": {
   "display_name": "Python 3",
   "language": "python",
   "name": "python3"
  },
  "language_info": {
   "codemirror_mode": {
    "name": "ipython",
    "version": 3
   },
   "file_extension": ".py",
   "mimetype": "text/x-python",
   "name": "python",
   "nbconvert_exporter": "python",
   "pygments_lexer": "ipython3",
   "version": "3.8.3"
  }
 },
 "nbformat": 4,
 "nbformat_minor": 4
}
