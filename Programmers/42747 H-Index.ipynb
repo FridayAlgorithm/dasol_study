{
 "cells": [
  {
   "cell_type": "markdown",
   "metadata": {},
   "source": [
    "# H-Index\n",
    "\n",
    "[H-Index](https://programmers.co.kr/learn/courses/30/lessons/42747)\n",
    "\n",
    "- 발표한 논문 n편 중 h번 이상 인용된 논문이 h편 이상, 나머지가 h번 이하\n",
    "- h의 최댓값이 H-Index\n",
    "- [3 0 6 1 5] => 3편의 논문 3회 이상 인용 => H-Index==3"
   ]
  },
  {
   "cell_type": "code",
   "execution_count": 6,
   "metadata": {},
   "outputs": [
    {
     "name": "stdout",
     "output_type": "stream",
     "text": [
      "3\n",
      "0\n"
     ]
    }
   ],
   "source": [
    "def solution(citations):\n",
    "    if (sum(citations)==0):\n",
    "        return 0 #tc16\n",
    "    citations.sort()\n",
    "    n=len(citations)\n",
    "    for i in range(n):\n",
    "        if (citations[i] >= n-i):\n",
    "            return n-i\n",
    "\n",
    "print(solution([3, 0, 6, 1, 5]))\n",
    "print(solution([0,0,0]))\n",
    "        "
   ]
  },
  {
   "cell_type": "code",
   "execution_count": null,
   "metadata": {},
   "outputs": [],
   "source": []
  }
 ],
 "metadata": {
  "kernelspec": {
   "display_name": "Python 3",
   "language": "python",
   "name": "python3"
  },
  "language_info": {
   "codemirror_mode": {
    "name": "ipython",
    "version": 3
   },
   "file_extension": ".py",
   "mimetype": "text/x-python",
   "name": "python",
   "nbconvert_exporter": "python",
   "pygments_lexer": "ipython3",
   "version": "3.8.3"
  }
 },
 "nbformat": 4,
 "nbformat_minor": 4
}
