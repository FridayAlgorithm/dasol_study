{
 "cells": [
  {
   "cell_type": "markdown",
   "metadata": {},
   "source": [
    "# 프린터\n",
    "\n",
    "[프린터](https://programmers.co.kr/learn/courses/30/lessons/42587)\n",
    "\n",
    "\n",
    "1. 인쇄 대기목록의 가장 앞에 있는 문서(J)를 대기목록에서 꺼냅니다.\n",
    "2. 나머지 인쇄 대기목록에서 J보다 중요도가 높은 문서가 한 개라도 존재하면 J를 대기목록의 가장 마지막에 넣습니다.\n",
    "3. 그렇지 않으면 J를 인쇄합니다."
   ]
  },
  {
   "cell_type": "code",
   "execution_count": 13,
   "metadata": {},
   "outputs": [
    {
     "name": "stdout",
     "output_type": "stream",
     "text": [
      "1\n",
      "5\n"
     ]
    }
   ],
   "source": [
    "def solution(priorities, location):\n",
    "    count=0\n",
    "    target=[0]*len(priorities)\n",
    "    target[location]=1\n",
    "    \n",
    "    while (True):\n",
    "        maxValue=max(priorities)\n",
    "        if (priorities[0] == maxValue):\n",
    "            count+=1\n",
    "            if(target[0]):\n",
    "                return count\n",
    "            else:\n",
    "                priorities.pop(0)\n",
    "                target.pop(0)\n",
    "        else:\n",
    "            priorities.append(priorities.pop(0))\n",
    "            target.append(target.pop(0))\n",
    "                \n",
    "print(solution([2, 1, 3, 2], 2))\n",
    "print(solution([1, 1, 9, 1, 1, 1], 0))\n",
    "        "
   ]
  },
  {
   "cell_type": "code",
   "execution_count": null,
   "metadata": {},
   "outputs": [],
   "source": []
  }
 ],
 "metadata": {
  "kernelspec": {
   "display_name": "Python 3",
   "language": "python",
   "name": "python3"
  },
  "language_info": {
   "codemirror_mode": {
    "name": "ipython",
    "version": 3
   },
   "file_extension": ".py",
   "mimetype": "text/x-python",
   "name": "python",
   "nbconvert_exporter": "python",
   "pygments_lexer": "ipython3",
   "version": "3.8.3"
  }
 },
 "nbformat": 4,
 "nbformat_minor": 4
}
