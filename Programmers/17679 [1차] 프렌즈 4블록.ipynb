{
 "cells": [
  {
   "cell_type": "markdown",
   "metadata": {},
   "source": [
    "# 프렌즈 4블록\n",
    "\n",
    "[문제로 이동](https://programmers.co.kr/learn/courses/30/lessons/17679)\n",
    "\n",
    "- 라이언은 같은 모양의 블럭이 2x2 형태로 붙어있을 경우 점수를 얻는 게임을 개발하고자 한다\n",
    "- 블록이 지워진 후 위에 있는 블록이 아래로 떨어져 빈 공간을 채운다\n",
    "- 입력으로 판의 높이, 폭, 정보가 들어온다\n",
    "- 지워지는 블록은 모두 몇개인지 판단하는 프로그램을 제작하라"
   ]
  },
  {
   "cell_type": "code",
   "execution_count": 1,
   "metadata": {},
   "outputs": [],
   "source": [
    "def friends(m, n, board, visited):\n",
    "    for i in range(m-1):\n",
    "        for j in range(1, n):\n",
    "            if board[i][j] != ' ' and board[i][j] == board[i][j-1] and board[i][j-1:j+1] == board[i+1][j-1:j+1]:\n",
    "                    visited[i][j] = True\n",
    "                    visited[i][j-1] = True\n",
    "                    visited[i+1][j] = True\n",
    "                    visited[i+1][j-1] = True\n",
    "    \n",
    "def deleteBlock(m, n, board, visited):\n",
    "    cnt = 0\n",
    "    for i in range(m):\n",
    "        for j in range(n):\n",
    "            if visited[i][j] == True:\n",
    "                cnt += 1\n",
    "                board[i] = board[i][:j] + ' ' + board[i][j+1:]\n",
    "    \n",
    "    rotation_board = []\n",
    "    for i in range(n):\n",
    "        tmp = ''\n",
    "        for j in range(m):\n",
    "            tmp += board[j][i]\n",
    "        rotation_board.append(tmp)\n",
    "        \n",
    "    for i in range(n):\n",
    "        for j in range(1, m):\n",
    "            if rotation_board[i][j] == ' ':\n",
    "                rotation_board[i] = ' ' + rotation_board[i][:j] + rotation_board[i][j+1:]\n",
    "    \n",
    "    tmp_board = []\n",
    "    for i in range(m):\n",
    "        tmp = ''\n",
    "        for j in range(n):\n",
    "            tmp += rotation_board[j][i]\n",
    "        tmp_board.append(tmp)\n",
    "    board = tmp_board\n",
    "    return board, cnt\n",
    "    \n",
    "def solution(m, n, board):\n",
    "    answer = 0\n",
    "    result = 1\n",
    "    while result:\n",
    "        visited = [[False] * n for _ in range(m)]\n",
    "        friends(m, n, board, visited)\n",
    "        board, result = deleteBlock(m, n, board, visited)\n",
    "        answer += result\n",
    "    return answer"
   ]
  },
  {
   "cell_type": "code",
   "execution_count": 2,
   "metadata": {},
   "outputs": [
    {
     "name": "stdout",
     "output_type": "stream",
     "text": [
      "14\n",
      "15\n"
     ]
    }
   ],
   "source": [
    "print(solution(4,5,[\"CCBDE\", \"AAADE\", \"AAABF\", \"CCBBF\"]))\n",
    "print(solution(6,6,[\"TTTANT\", \"RRFACC\", \"RRRFCC\", \"TRRRAA\", \"TTMMMF\", \"TMMTTJ\"]))"
   ]
  },
  {
   "cell_type": "code",
   "execution_count": null,
   "metadata": {},
   "outputs": [],
   "source": []
  }
 ],
 "metadata": {
  "kernelspec": {
   "display_name": "Python 3",
   "language": "python",
   "name": "python3"
  },
  "language_info": {
   "codemirror_mode": {
    "name": "ipython",
    "version": 3
   },
   "file_extension": ".py",
   "mimetype": "text/x-python",
   "name": "python",
   "nbconvert_exporter": "python",
   "pygments_lexer": "ipython3",
   "version": "3.8.3"
  }
 },
 "nbformat": 4,
 "nbformat_minor": 4
}
