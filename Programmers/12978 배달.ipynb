{
 "cells": [
  {
   "cell_type": "markdown",
   "metadata": {},
   "source": [
    "# 배달\n",
    "\n",
    "[문제로 이동](https://programmers.co.kr/learn/courses/30/lessons/12978)\n",
    "\n",
    "- N개의 마을로 이루어진 나라가 있다\n",
    "- 각 마을은 양방향으로 통행 가능하다 (도로 지날 때 걸리는 시간은 다 다르다)\n",
    "- N개의 마을 중 K 시간 이하로 배달 가능한 마을에서만 주문을 받으려 한다\n",
    "- 마을 개수, 도로 정보, 배달 가능 시간이 주어질 때 음식 주문이 가능한 마을 수를 반환하는 함수를 작성하라"
   ]
  },
  {
   "cell_type": "code",
   "execution_count": 64,
   "metadata": {},
   "outputs": [
    {
     "name": "stdout",
     "output_type": "stream",
     "text": [
      "4\n",
      "4\n"
     ]
    }
   ],
   "source": [
    "import heapq\n",
    "def dijkstra(graph, start):\n",
    "    distances={node: float('inf') for node in graph}\n",
    "    distances[start] = 0  \n",
    "    queue = []\n",
    "    heapq.heappush(queue, [distances[start], start])\n",
    "\n",
    "    while queue: \n",
    "        curDistance, curDestination = heapq.heappop(queue)\n",
    "        if distances[curDestination] < curDistance: \n",
    "            continue\n",
    "\n",
    "        for newDestination, newDistance in graph[curDestination].items():\n",
    "            distance = curDistance + newDistance  \n",
    "            if distance < distances[newDestination]:  \n",
    "                distances[newDestination] = distance\n",
    "                heapq.heappush(queue, [distance, newDestination])  \n",
    "    return distances\n",
    "    \n",
    "def solution(N, road, K):\n",
    "    answer=0\n",
    "    graphDic={}\n",
    "    for i in range(1,N+1):\n",
    "        graphDic[i]={}\n",
    "    for i in road:\n",
    "        if (i[1] in graphDic[i[0]]):\n",
    "            if (i[2]<graphDic[i[0]][i[1]]):\n",
    "                graphDic[i[0]][i[1]]=i[2]\n",
    "        else: graphDic[i[0]][i[1]]=i[2]\n",
    "            \n",
    "        if (i[0] in graphDic[i[1]]):\n",
    "            if (i[2]<graphDic[i[1]][i[0]]):\n",
    "                graphDic[i[1]][i[0]]=i[2]\n",
    "        else: graphDic[i[1]][i[0]]=i[2]\n",
    "    \n",
    "    distanceRes=dijkstra(graphDic,1).values()\n",
    "#     print(graphDic)\n",
    "#     print(distanceRes)\n",
    "    for i in distanceRes:\n",
    "        if (i<=K): answer+=1\n",
    "    return answer\n",
    "    \n",
    "\n",
    "print(solution(5, [[1,2,1],[2,3,3],[5,2,2],[1,4,2],[5,3,1],[5,4,2]], 3))\n",
    "print(solution(6, [[1,2,1],[1,3,2],[2,3,2],[3,4,3],[3,5,2],[3,5,3],[5,6,1]], 4))"
   ]
  },
  {
   "cell_type": "code",
   "execution_count": null,
   "metadata": {},
   "outputs": [],
   "source": [
    "# 다른 사람 풀이\n",
    "def solution(N, road, K):\n",
    "    visited = [False] * (N + 1)\n",
    "    costs = [float('inf')] * (N + 1)\n",
    "    costs[1] = 0\n",
    "    parents = [1]          \n",
    "    while (parents):\n",
    "        parent = parents.pop(0)\n",
    "        visited[parent] = True\n",
    "        for a, b, cost in road:\n",
    "            if (a == parent or b == parent):\n",
    "                target = b if a == parent else a\n",
    "                if costs[target] > costs[parent] + cost:\n",
    "                    costs[target] = costs[parent] + cost\n",
    "                    parents.append(target)\n",
    "\n",
    "    return sum(1 for c in costs if c <= K)"
   ]
  }
 ],
 "metadata": {
  "kernelspec": {
   "display_name": "Python 3",
   "language": "python",
   "name": "python3"
  },
  "language_info": {
   "codemirror_mode": {
    "name": "ipython",
    "version": 3
   },
   "file_extension": ".py",
   "mimetype": "text/x-python",
   "name": "python",
   "nbconvert_exporter": "python",
   "pygments_lexer": "ipython3",
   "version": "3.8.3"
  }
 },
 "nbformat": 4,
 "nbformat_minor": 4
}
