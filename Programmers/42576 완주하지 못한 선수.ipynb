{
 "cells": [
  {
   "cell_type": "markdown",
   "metadata": {},
   "source": [
    "# 완주하지 못한 선수\n",
    "\n",
    "[완주하지 못한 선수](https://programmers.co.kr/learn/courses/30/lessons/42576)\n",
    "\n",
    "- 수많은 마라톤 선수들 중 단 한 명을 제외하고 마라톤을 완주하였다\n",
    "- 마라톤 참여 선수 명단과 완주한 선수 명단이 주어진다\n",
    "- 완주하지 못한 선수의 이름을 반환하는 함수를 작성하라\n",
    "- 참가자 중에는 동명이인이 있을 수 있다"
   ]
  },
  {
   "cell_type": "code",
   "execution_count": 16,
   "metadata": {},
   "outputs": [
    {
     "name": "stdout",
     "output_type": "stream",
     "text": [
      "vinko\n",
      "mislav\n"
     ]
    }
   ],
   "source": [
    "# 효율성 테스트 실패\n",
    "def solution(participant, completion):\n",
    "    res=participant.copy()\n",
    "    for person in participant:\n",
    "        if (person in completion):\n",
    "            res.remove(person)\n",
    "            completion.remove(person)\n",
    "    return res[0]\n",
    "\n",
    "print(solution([\"marina\", \"josipa\", \"nikola\", \"vinko\", \"filipa\"],\n",
    "              [\"josipa\", \"filipa\", \"marina\", \"nikola\"]))\n",
    "print(solution([\"mislav\", \"stanko\", \"mislav\", \"ana\"],\n",
    "              [\"stanko\", \"ana\", \"mislav\"]))"
   ]
  },
  {
   "cell_type": "code",
   "execution_count": 1,
   "metadata": {},
   "outputs": [
    {
     "name": "stdout",
     "output_type": "stream",
     "text": [
      "vinko\n",
      "mislav\n"
     ]
    }
   ],
   "source": [
    "def solution(participant, completion):\n",
    "    participant.sort()\n",
    "    completion.sort()\n",
    "    for i in range(len(completion)):\n",
    "        if (participant[i]!=completion[i]):\n",
    "            return participant[i]\n",
    "    return participant[i+1]\n",
    "\n",
    "print(solution([\"marina\", \"josipa\", \"nikola\", \"vinko\", \"filipa\"],\n",
    "              [\"josipa\", \"filipa\", \"marina\", \"nikola\"]))\n",
    "print(solution([\"mislav\", \"stanko\", \"mislav\", \"ana\"],\n",
    "              [\"stanko\", \"ana\", \"mislav\"]))"
   ]
  },
  {
   "cell_type": "code",
   "execution_count": 20,
   "metadata": {},
   "outputs": [
    {
     "name": "stdout",
     "output_type": "stream",
     "text": [
      "vinko\n",
      "mislav\n"
     ]
    }
   ],
   "source": [
    "# 다른 풀이..\n",
    "import collections\n",
    "\n",
    "def solution(participant, completion):\n",
    "    answer = collections.Counter(participant) - collections.Counter(completion)\n",
    "    return list(answer.keys())[0]\n",
    "\n",
    "print(solution([\"marina\", \"josipa\", \"nikola\", \"vinko\", \"filipa\"],\n",
    "              [\"josipa\", \"filipa\", \"marina\", \"nikola\"]))\n",
    "print(solution([\"mislav\", \"stanko\", \"mislav\", \"ana\"],\n",
    "              [\"stanko\", \"ana\", \"mislav\"]))"
   ]
  },
  {
   "cell_type": "code",
   "execution_count": null,
   "metadata": {},
   "outputs": [],
   "source": [
    "#"
   ]
  }
 ],
 "metadata": {
  "kernelspec": {
   "display_name": "Python 3",
   "language": "python",
   "name": "python3"
  },
  "language_info": {
   "codemirror_mode": {
    "name": "ipython",
    "version": 3
   },
   "file_extension": ".py",
   "mimetype": "text/x-python",
   "name": "python",
   "nbconvert_exporter": "python",
   "pygments_lexer": "ipython3",
   "version": "3.8.3"
  }
 },
 "nbformat": 4,
 "nbformat_minor": 4
}
