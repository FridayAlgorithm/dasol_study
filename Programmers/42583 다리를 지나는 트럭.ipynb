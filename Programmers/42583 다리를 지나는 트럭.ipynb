{
 "cells": [
  {
   "cell_type": "markdown",
   "metadata": {},
   "source": [
    "# 다리를 지나는 트럭\n",
    "\n",
    "[다리를 지나는 트럭](https://programmers.co.kr/learn/courses/30/lessons/42583)\n",
    "\n",
    "- 트럭 여러 대가 일 차선 다리를 정해진 순으로 건너려 한다\n",
    "- 모든 트럭은 1초의 1만큼 움직인다\n",
    "- 매개변수로 다리길이, 다리가 견디는 무게, 트럭별 무게가 주어진다\n",
    "- 모든 트럭이 다리를 건널 때의 최소 시간을 구하는 함수를 작성하라"
   ]
  },
  {
   "cell_type": "code",
   "execution_count": 10,
   "metadata": {},
   "outputs": [
    {
     "name": "stdout",
     "output_type": "stream",
     "text": [
      "8\n"
     ]
    }
   ],
   "source": [
    "#test5 시간초과\n",
    "from collections import deque\n",
    "\n",
    "def solution (bridgeLength, weight, truckWeight):\n",
    "    truckWeight = deque(truckWeight)\n",
    "    inBridge = deque([0]*bridgeLength)\n",
    "    time = 0\n",
    "    while (inBridge):\n",
    "        time+=1\n",
    "        inBridge.popleft()\n",
    "        if (truckWeight):\n",
    "            if (sum(inBridge)+truckWeight[0] <= weight):\n",
    "                inBridge.append(truckWeight.popleft())\n",
    "            else:\n",
    "                inBridge.append(0)\n",
    "    return time\n",
    "\n",
    "print(solution(2,10,[7,4,5,6]))"
   ]
  },
  {
   "cell_type": "code",
   "execution_count": 12,
   "metadata": {},
   "outputs": [
    {
     "name": "stdout",
     "output_type": "stream",
     "text": [
      "8\n"
     ]
    }
   ],
   "source": [
    "def solution (bridgeLength, weight, truckWeight):\n",
    "    inBridge = [0]*bridgeLength\n",
    "    time = 0\n",
    "    while (inBridge):\n",
    "        time+=1\n",
    "        inBridge.pop(0)\n",
    "        if (truckWeight):\n",
    "            if (sum(inBridge)+truckWeight[0] <= weight):\n",
    "                inBridge.append(truckWeight.pop(0))\n",
    "            else:\n",
    "                inBridge.append(0)\n",
    "    return time\n",
    "\n",
    "print(solution(2,10,[7,4,5,6]))"
   ]
  },
  {
   "cell_type": "code",
   "execution_count": null,
   "metadata": {},
   "outputs": [],
   "source": []
  }
 ],
 "metadata": {
  "kernelspec": {
   "display_name": "Python 3",
   "language": "python",
   "name": "python3"
  },
  "language_info": {
   "codemirror_mode": {
    "name": "ipython",
    "version": 3
   },
   "file_extension": ".py",
   "mimetype": "text/x-python",
   "name": "python",
   "nbconvert_exporter": "python",
   "pygments_lexer": "ipython3",
   "version": "3.8.3"
  }
 },
 "nbformat": 4,
 "nbformat_minor": 4
}
