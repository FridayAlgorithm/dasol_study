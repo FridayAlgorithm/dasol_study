{
 "cells": [
  {
   "cell_type": "markdown",
   "metadata": {},
   "source": [
    "# 신규 아이디 추천\n",
    "\n",
    "[신규 아이디 추천](https://programmers.co.kr/learn/courses/30/lessons/72410)\n",
    "\n",
    "- 가입하는 유저들이 규칙에 맞지 않는 아이디를 생성하면 아이디를 추천\n",
    "   * 아이디의 길이는 3이상 15이하\n",
    "   * 아디이는 소문자, 숫자,-,_,마침표만 사용 가능\n",
    "   * 마침표는 처음과 끝에 사용할 수 없고 연속 사용도 불가\n",
    "\n",
    "\n",
    "- 다음의 7단계의 순차적인 처리 과정을 통해 검사하고 추천\n",
    "   *  new_id의 모든 대문자를 대응되는 소문자로 치환합니다.\n",
    "   * new_id에서 알파벳 소문자, 숫자, 빼기(-), 밑줄(_), 마침표(.)를 제외한 모든 문자를 제거합니다.\n",
    "   * new_id에서 마침표(.)가 2번 이상 연속된 부분을 하나의 마침표(.)로 치환합니다.\n",
    "   * new_id에서 마침표(.)가 처음이나 끝에 위치한다면 제거합니다.\n",
    "   * new_id가 빈 문자열이라면, new_id에 \"a\"를 대입합니다.\n",
    "   * new_id의 길이가 16자 이상이면, new_id의 첫 15개의 문자를 제외한 나머지 문자들을 모두 제거합니다. <br> 만약 제거 후 마침표(.)가 new_id의 끝에 위치한다면 끝에 위치한 마침표(.) 문자를 제거합니다.\n",
    "   * new_id의 길이가 2자 이하라면, new_id의 마지막 문자를 new_id의 길이가 3이 될 때까지 반복해서 끝에 붙입니다."
   ]
  },
  {
   "cell_type": "code",
   "execution_count": 2,
   "metadata": {},
   "outputs": [
    {
     "name": "stdout",
     "output_type": "stream",
     "text": [
      "bat.y.abcdefghi\n",
      "z--\n",
      "123_.def\n",
      "abcdefghijklmn\n"
     ]
    }
   ],
   "source": [
    "def solution(new_id):\n",
    "    answer = ''\n",
    "    \n",
    "    #1단계 대문자 -> 소문자\n",
    "    new_id=new_id.lower()\n",
    "    \n",
    "    #2단계 소문자,숫자, -, _, . 제외 제거\n",
    "    temp=''\n",
    "    for i in new_id:\n",
    "        if i=='-' or i=='_' or i=='.' or i.isalpha() or i.isdigit():\n",
    "            temp+=i\n",
    "    new_id=temp\n",
    "    \n",
    "    #3단계 마침표 2개 연속 나오면 하나 제거\n",
    "    temp=''\n",
    "    check=False\n",
    "    for i in new_id:\n",
    "        if i=='.':\n",
    "            if check==False:\n",
    "                temp+=i\n",
    "                check=True\n",
    "        else:\n",
    "            check=False\n",
    "            temp+=i\n",
    "    new_id=temp\n",
    "    \n",
    "    #4단계 .이 처음 or 마지막에 위치하면 제거\n",
    "    if len(new_id)>0:\n",
    "        if new_id[0]=='.':\n",
    "            new_id=new_id[1:]\n",
    "    if len(new_id)>0:\n",
    "        if new_id[-1]=='.':\n",
    "            new_id=new_id[:-1]\n",
    "    \n",
    "    #5단계 빈 문자열이면 'a' 대입\n",
    "    if new_id=='':\n",
    "        new_id='a'\n",
    "        \n",
    "    #6단계 아이디가 16자 이상이면 15개의 문자만 남긴다\n",
    "    #      15개만 남겼을 때 마지막이 .이면 제거 \n",
    "    if len(new_id)>=16:\n",
    "        new_id=new_id[:15]\n",
    "        if new_id[-1]=='.':\n",
    "            new_id=new_id[:-1]\n",
    "        \n",
    "    #7단계 아이디가 2자 이하라면 마지막 문자를 반복하여 붙인다\n",
    "    while len(new_id)<3:\n",
    "        new_id=new_id+new_id[-1]\n",
    "    \n",
    "    answer=new_id\n",
    "    return answer\n",
    "\n",
    "print(solution(\"...!@BaT#*..y.abcdefghijklm\"))\n",
    "print(solution(\"z-+.^.\"))\n",
    "print(solution(\"123_.def\"))\n",
    "print(solution(\"abcdefghijklmn.p\"))"
   ]
  },
  {
   "cell_type": "code",
   "execution_count": 3,
   "metadata": {},
   "outputs": [
    {
     "name": "stdout",
     "output_type": "stream",
     "text": [
      "bat.y.abcdefghi\n",
      "z--\n",
      "123_.def\n",
      "abcdefghijklmn\n"
     ]
    }
   ],
   "source": [
    "#정규식 사용..\n",
    "from re import sub\n",
    "\n",
    "def solution(new_id):\n",
    "    new_id = new_id.lower()\n",
    "    new_id = sub(\"[^a-z0-9-_.]\", \"\", new_id)\n",
    "    new_id = sub(\"\\.+\", \".\", new_id)\n",
    "    new_id = sub(\"(^\\.|\\.$)\", \"\", new_id)\n",
    "    new_id = new_id if new_id else \"a\"\n",
    "    new_id = sub(\"\\.$\", \"\", new_id[:15])\n",
    "    new_id = new_id if len(new_id) > 3 else new_id + new_id[-1] * (3 - len(new_id))\n",
    "    return new_id\n",
    "\n",
    "print(solution(\"...!@BaT#*..y.abcdefghijklm\"))\n",
    "print(solution(\"z-+.^.\"))\n",
    "print(solution(\"123_.def\"))\n",
    "print(solution(\"abcdefghijklmn.p\"))"
   ]
  },
  {
   "cell_type": "code",
   "execution_count": null,
   "metadata": {},
   "outputs": [],
   "source": []
  }
 ],
 "metadata": {
  "kernelspec": {
   "display_name": "Python 3",
   "language": "python",
   "name": "python3"
  },
  "language_info": {
   "codemirror_mode": {
    "name": "ipython",
    "version": 3
   },
   "file_extension": ".py",
   "mimetype": "text/x-python",
   "name": "python",
   "nbconvert_exporter": "python",
   "pygments_lexer": "ipython3",
   "version": "3.8.3"
  }
 },
 "nbformat": 4,
 "nbformat_minor": 4
}
