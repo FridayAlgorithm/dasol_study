{
 "cells": [
  {
   "cell_type": "markdown",
   "metadata": {},
   "source": [
    "### [두 정수 사이의 합](https://programmers.co.kr/learn/courses/30/lessons/12912) \n",
    "\n",
    "* 두 정수를 입력받아 두 정수 사이의 모든 숫자 합을 출력하는 프로그램"
   ]
  },
  {
   "cell_type": "code",
   "execution_count": null,
   "metadata": {},
   "outputs": [],
   "source": [
    "a,b=map(int,input().split())\n",
    "if (a > b):\n",
    "    a,b = b,a\n",
    "result=0\n",
    "for i in range(a,b+1):\n",
    "    result+=i\n",
    "print(result)"
   ]
  },
  {
   "cell_type": "code",
   "execution_count": null,
   "metadata": {},
   "outputs": [],
   "source": [
    "def solution(a, b):\n",
    "    if(a>b):\n",
    "        a,b=b,a\n",
    "    result=0\n",
    "    for i in range(a,b+1):\n",
    "        result+=i\n",
    "    print(result)\n",
    "    return result"
   ]
  },
  {
   "cell_type": "markdown",
   "metadata": {},
   "source": [
    "### [수박수박수박수?](https://programmers.co.kr/learn/courses/30/lessons/12922) \n",
    "\n",
    "* 길이를 입력받아 수박수박수박수..와 같은 패턴을 유지하는 문자열을 출력하는 프로그램"
   ]
  },
  {
   "cell_type": "code",
   "execution_count": null,
   "metadata": {},
   "outputs": [],
   "source": [
    "a=int(input())\n",
    "if (a%2==0):\n",
    "    print(\"수박\"*int(a/2))\n",
    "else:\n",
    "    print(\"수박\"*int(a/2)+\"수\")"
   ]
  },
  {
   "cell_type": "code",
   "execution_count": null,
   "metadata": {},
   "outputs": [],
   "source": [
    "def solution(n):\n",
    "    if(n%2==0):\n",
    "        return(\"수박\"*int(n/2))\n",
    "    else:\n",
    "        return(\"수박\"*int(n/2)+\"수\")"
   ]
  },
  {
   "cell_type": "markdown",
   "metadata": {},
   "source": [
    "### [서울에서 김서방 찾기](https://programmers.co.kr/learn/courses/30/lessons/12919) \n",
    "\n",
    "* 배열 seoul의 원소 중 \"Kim\"위 위치를 찾아 \"김서방은 x에 있다\"를 반환하는 프로그램"
   ]
  },
  {
   "cell_type": "code",
   "execution_count": null,
   "metadata": {},
   "outputs": [],
   "source": [
    "def solution(seoul):\n",
    "    length=len(seoul)\n",
    "    for i in range(length):\n",
    "        if(seoul[i]==\"Kim\"):\n",
    "            res=\"김서방은 \"+str(i)+\"에 있다\"\n",
    "            return res"
   ]
  },
  {
   "cell_type": "markdown",
   "metadata": {},
   "source": [
    "### [약수의 합](https://programmers.co.kr/learn/courses/30/lessons/12928) \n",
    "\n",
    "* 정수 n을 입력받아 n의 약수를 모두 더한 값을 출력하는 프로그램"
   ]
  },
  {
   "cell_type": "code",
   "execution_count": null,
   "metadata": {},
   "outputs": [],
   "source": [
    "n=int(input())\n",
    "result=0\n",
    "for i in range(1,n+1):\n",
    "    if (n%i==0):\n",
    "        result+=i\n",
    "print(result)"
   ]
  },
  {
   "cell_type": "markdown",
   "metadata": {},
   "source": [
    "### [문자열 내 p와 y의 개수](https://programmers.co.kr/learn/courses/30/lessons/12916) \n",
    "\n",
    "* 문자열에 p의 개수와 y의 개수가 같다면 True, 다르면 False를 출력하는 프로그램"
   ]
  },
  {
   "cell_type": "code",
   "execution_count": null,
   "metadata": {},
   "outputs": [],
   "source": [
    "s=\"pyy\"\n",
    "num=len(s)\n",
    "pcount=0; ycount=0;\n",
    "for i in range(num):\n",
    "    if (s[i]==\"y\" or s[i]==\"Y\"):\n",
    "        ycount+=1\n",
    "    elif (s[i]==\"p\" or s[i]==\"P\"):\n",
    "        pcount+=1\n",
    "if(ycount==pcount):\n",
    "    print(True)\n",
    "else:\n",
    "    print(False)"
   ]
  },
  {
   "cell_type": "code",
   "execution_count": null,
   "metadata": {},
   "outputs": [],
   "source": [
    "def solution(s):\n",
    "    num=len(s)\n",
    "    pcount=0; ycount=0;\n",
    "    for i in range(num):\n",
    "        if (s[i]==\"y\" or s[i]==\"Y\"):\n",
    "            ycount+=1\n",
    "        elif (s[i]==\"p\" or s[i]==\"P\"):\n",
    "            pcount+=1\n",
    "    if(ycount==pcount):\n",
    "        return(True)\n",
    "    else:\n",
    "        return(False)"
   ]
  },
  {
   "cell_type": "markdown",
   "metadata": {},
   "source": [
    "### [같은 숫자는 싫어](https://programmers.co.kr/learn/courses/30/lessons/12906) \n",
    "\n",
    "* 배열에서 연속적으로 나타나는 숫자는 하나만 남기고 전부 제거하는 프로그램"
   ]
  },
  {
   "cell_type": "code",
   "execution_count": null,
   "metadata": {},
   "outputs": [],
   "source": [
    "# 비효율!\n",
    "arr=[1,1,3,3,0,1,1]\n",
    "num=len(arr)-1\n",
    "while(num>0):\n",
    "    if(arr[num]==arr[num-1]):\n",
    "        del arr[num]\n",
    "    num-=1\n",
    "print(arr)"
   ]
  },
  {
   "cell_type": "code",
   "execution_count": null,
   "metadata": {},
   "outputs": [],
   "source": []
  },
  {
   "cell_type": "markdown",
   "metadata": {},
   "source": [
    "### [가운데 글자 가져오기](https://programmers.co.kr/learn/courses/30/lessons/12903) \n",
    "\n",
    "* 단어 s의 가운데 글자를 반환하는 프로그램"
   ]
  },
  {
   "cell_type": "code",
   "execution_count": null,
   "metadata": {},
   "outputs": [],
   "source": [
    "s=\"qwer\"\n",
    "arr=list(s)\n",
    "size=len(arr)\n",
    "if size%2==0:\n",
    "    res=arr[int(size/2-1)]+arr[int(size/2)]\n",
    "else:\n",
    "    res=arr[int(size/2)]\n",
    "print(res)"
   ]
  },
  {
   "cell_type": "markdown",
   "metadata": {},
   "source": [
    "### [x만큼 간격이 있는 n개의 숫자](https://programmers.co.kr/learn/courses/30/lessons/12954#qna) \n",
    "\n",
    "* 정수 x와 자연수 n을 입력 받아, x부터 시작해 x씩 증가하는 숫자를 n개 지니는 리스트를 출력하는 프로그램"
   ]
  },
  {
   "cell_type": "code",
   "execution_count": null,
   "metadata": {},
   "outputs": [],
   "source": [
    "x,n=map(int,input().split())\n",
    "res=[x]\n",
    "for i in range(2,n+1):\n",
    "    res.append(x*i)\n",
    "print(res)"
   ]
  },
  {
   "cell_type": "markdown",
   "metadata": {},
   "source": [
    "### [직사각형 별찍기](https://programmers.co.kr/learn/courses/30/lessons/12969) \n",
    "\n",
    "* 두 개의 정수 n과 m을 입력받아 별(*) 문자를 이용해 가로의 길이가 n, 세로의 길이가 m인 직사각형 형태를 출력하는 프로그램"
   ]
  },
  {
   "cell_type": "code",
   "execution_count": null,
   "metadata": {},
   "outputs": [],
   "source": [
    "n,m=map(int,input().split())\n",
    "for i in range(m):\n",
    "    for j in range(n):\n",
    "        print(\"*\",end=\"\")\n",
    "    print()"
   ]
  },
  {
   "cell_type": "markdown",
   "metadata": {},
   "source": [
    "### [평균 구하기](https://programmers.co.kr/learn/courses/30/lessons/12944?language=python3) \n",
    "\n",
    "* 정수를 담고 있는 배열 arr의 평균값을 출력하는 프로그램"
   ]
  },
  {
   "cell_type": "code",
   "execution_count": null,
   "metadata": {},
   "outputs": [],
   "source": [
    "arr=[1,2,3,4]\n",
    "num=len(arr)\n",
    "print(sum(arr)/num)"
   ]
  },
  {
   "cell_type": "markdown",
   "metadata": {},
   "source": [
    "### [행렬의 덧셈](https://programmers.co.kr/learn/courses/30/lessons/12950) \n",
    "\n",
    "* 2개의 행렬 arr1과 arr2를 입력받아, 행렬 덧셈의 결과를 반환하는 프로그램"
   ]
  },
  {
   "cell_type": "code",
   "execution_count": null,
   "metadata": {},
   "outputs": [],
   "source": [
    "arr1=[[1,2],[2,3]]\n",
    "arr2=[[3,4],[5,6]]"
   ]
  },
  {
   "cell_type": "code",
   "execution_count": null,
   "metadata": {},
   "outputs": [],
   "source": []
  }
 ],
 "metadata": {
  "kernelspec": {
   "display_name": "Python 3",
   "language": "python",
   "name": "python3"
  },
  "language_info": {
   "codemirror_mode": {
    "name": "ipython",
    "version": 3
   },
   "file_extension": ".py",
   "mimetype": "text/x-python",
   "name": "python",
   "nbconvert_exporter": "python",
   "pygments_lexer": "ipython3",
   "version": "3.8.3"
  }
 },
 "nbformat": 4,
 "nbformat_minor": 4
}
