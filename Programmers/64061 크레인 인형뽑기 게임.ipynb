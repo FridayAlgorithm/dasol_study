{
 "cells": [
  {
   "cell_type": "markdown",
   "metadata": {},
   "source": [
    "# 크레인 인형뽑기 게임\n",
    "\n",
    "[크레인 인형뽑기 게임](https://programmers.co.kr/learn/courses/30/lessons/64061)\n",
    "\n",
    "- 게임 화면은 NxN 크기의 정사각 격자이다\n",
    "- 각 격자 칸에 인형이 들어있으며 인형이 없는 칸은 빈칸이다\n",
    "- 사용자는 크레인을 좌우로 움직여 멈춘 위치의 최상단 인형을 집을 수 있다\n",
    "- 집어올린 인형은 바꾸니에 순서대로 쌓인다\n",
    "- 같은 모양의 인형 두 개가 바구니에 쌓이면 두 인형은 바구니에서 사라진다\n",
    "- 아무 인형이 없는 곳에 크레인을 작동시키면 아무 일도 일어나지 않는다\n",
    "- 크레인을 모두 작동 시킨 후 사라진 인형의 개수를 구하는 함수를 완성하라\n"
   ]
  },
  {
   "cell_type": "code",
   "execution_count": 1,
   "metadata": {},
   "outputs": [
    {
     "name": "stdout",
     "output_type": "stream",
     "text": [
      "4\n"
     ]
    }
   ],
   "source": [
    "def solution (board, move):\n",
    "    res=0\n",
    "    basket=[]\n",
    "    for m in move:\n",
    "        for loc in board:\n",
    "            if (loc[m-1] != 0):\n",
    "                if (basket and basket[-1]==loc[m-1]):\n",
    "                    basket.pop()\n",
    "                    res+=2\n",
    "                else:\n",
    "                    basket.append(loc[m-1])\n",
    "                loc[m-1]=0\n",
    "                break\n",
    "    return res\n",
    "\n",
    "print(solution([[0,0,0,0,0],\n",
    "                [0,0,1,0,3],\n",
    "                [0,2,5,0,1],\n",
    "                [4,2,4,4,2],\n",
    "                [3,5,1,3,1]]\n",
    "              ,[1,5,3,5,1,2,1,4]))\n",
    "                    "
   ]
  },
  {
   "cell_type": "code",
   "execution_count": null,
   "metadata": {},
   "outputs": [],
   "source": []
  }
 ],
 "metadata": {
  "kernelspec": {
   "display_name": "Python 3",
   "language": "python",
   "name": "python3"
  },
  "language_info": {
   "codemirror_mode": {
    "name": "ipython",
    "version": 3
   },
   "file_extension": ".py",
   "mimetype": "text/x-python",
   "name": "python",
   "nbconvert_exporter": "python",
   "pygments_lexer": "ipython3",
   "version": "3.8.3"
  }
 },
 "nbformat": 4,
 "nbformat_minor": 4
}
