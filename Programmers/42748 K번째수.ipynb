{
 "cells": [
  {
   "cell_type": "markdown",
   "metadata": {},
   "source": [
    "# K번째수\n",
    "\n",
    "[K번째수](https://programmers.co.kr/learn/courses/30/lessons/42748)\n",
    "\n",
    "- 배열을 i번째에서 j번짺지 자르고 정렬했을 때 k번째 수를 구하라\n",
    "- [1 5 2 6 3 7 4] i=2, j=5, k=3\n",
    "- [5 2 6 3] => [2 3 5 6] 의 k번째 수==5 "
   ]
  },
  {
   "cell_type": "code",
   "execution_count": 17,
   "metadata": {},
   "outputs": [
    {
     "name": "stdout",
     "output_type": "stream",
     "text": [
      "[5, 6, 3]\n"
     ]
    }
   ],
   "source": [
    "def solution (array, command):\n",
    "    res=[]\n",
    "    for c in command:\n",
    "        temp=[];\n",
    "        i=c[0]; j=c[1]; k=c[2]\n",
    "        for a in range(i-1,j):\n",
    "            temp.append(array[a])\n",
    "        temp.sort()\n",
    "        res.append(temp[k-1])\n",
    "    return res\n",
    "\n",
    "print(solution([1, 5, 2, 6, 3, 7, 4],\n",
    "              [[2, 5, 3], [4, 4, 1], [1, 7, 3]]))"
   ]
  },
  {
   "cell_type": "code",
   "execution_count": null,
   "metadata": {},
   "outputs": [],
   "source": []
  }
 ],
 "metadata": {
  "kernelspec": {
   "display_name": "Python 3",
   "language": "python",
   "name": "python3"
  },
  "language_info": {
   "codemirror_mode": {
    "name": "ipython",
    "version": 3
   },
   "file_extension": ".py",
   "mimetype": "text/x-python",
   "name": "python",
   "nbconvert_exporter": "python",
   "pygments_lexer": "ipython3",
   "version": "3.8.3"
  }
 },
 "nbformat": 4,
 "nbformat_minor": 4
}
