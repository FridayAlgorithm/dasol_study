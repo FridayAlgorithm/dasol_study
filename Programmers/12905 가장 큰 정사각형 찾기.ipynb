{
 "cells": [
  {
   "cell_type": "markdown",
   "metadata": {},
   "source": [
    "# 가장 큰 정사각형 찾기\n",
    "\n",
    "[가장 큰 정사각형 찾기](https://programmers.co.kr/learn/courses/30/lessons/12905)\n",
    "\n",
    "- 1 * 1의 정사각형이 1과 0으로 채워진 표가 있다\n",
    "- 표에서 1로 이루어진 가장 큰 정사각형을 찾아 넓이를 반환하는 함수 작성하라"
   ]
  },
  {
   "cell_type": "code",
   "execution_count": 24,
   "metadata": {},
   "outputs": [
    {
     "name": "stdout",
     "output_type": "stream",
     "text": [
      "9\n",
      "4\n"
     ]
    }
   ],
   "source": [
    "def solution(board):\n",
    "    res=0\n",
    "    x=len(board[0]); y=len(board)\n",
    "    for i in range(1, y):\n",
    "        for j in range(1, x):\n",
    "            if (board[i][j]>=1):\n",
    "                board[i][j]=min(board[i-1][j-1], board[i-1][j]\n",
    "                                                    , board[i][j-1])+1\n",
    "    for i in board:\n",
    "        temp=max(i)\n",
    "        res=max(temp, res)\n",
    "    return res**2\n",
    "\n",
    "print(solution([[0,1,1,1],[1,1,1,1],[1,1,1,1],[0,0,1,0]]))\n",
    "print(solution([[0,0,1,1],[1,1,1,1]]))"
   ]
  },
  {
   "cell_type": "code",
   "execution_count": null,
   "metadata": {},
   "outputs": [],
   "source": []
  }
 ],
 "metadata": {
  "kernelspec": {
   "display_name": "Python 3",
   "language": "python",
   "name": "python3"
  },
  "language_info": {
   "codemirror_mode": {
    "name": "ipython",
    "version": 3
   },
   "file_extension": ".py",
   "mimetype": "text/x-python",
   "name": "python",
   "nbconvert_exporter": "python",
   "pygments_lexer": "ipython3",
   "version": "3.8.3"
  }
 },
 "nbformat": 4,
 "nbformat_minor": 4
}
