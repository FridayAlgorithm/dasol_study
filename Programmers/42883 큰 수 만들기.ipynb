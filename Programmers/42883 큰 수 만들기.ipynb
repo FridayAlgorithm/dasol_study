{
 "cells": [
  {
   "cell_type": "markdown",
   "metadata": {},
   "source": [
    "# 큰 수 만들기\n",
    "\n",
    "[큰 수 만들기](https://programmers.co.kr/learn/courses/30/lessons/42883)\n",
    "\n",
    "- 어떤 숫자에서 k개의 수를 제거했을 때 얻을 수 있는 가장 큰 숫자 구해라\n",
    "- 1924 => [19, 12, 14, 92, 94, 24] => 94"
   ]
  },
  {
   "cell_type": "code",
   "execution_count": 1,
   "metadata": {},
   "outputs": [
    {
     "name": "stdout",
     "output_type": "stream",
     "text": [
      "94\n",
      "3234\n",
      "775841\n"
     ]
    }
   ],
   "source": [
    "def solution(number, k):\n",
    "    stack = []\n",
    "    for i in number:\n",
    "        while (stack and k>0):\n",
    "            if (i>stack[-1]):\n",
    "                stack.pop()\n",
    "                k -= 1\n",
    "            else:\n",
    "                break\n",
    "        stack.append(i)\n",
    "    while k > 0:\n",
    "        stack.pop()\n",
    "        k-=1\n",
    "    res= \"\".join(stack)\n",
    "    return res\n",
    "\n",
    "print(solution(\"1924\",2))\n",
    "print(solution(\"1231234\",3))\n",
    "print(solution(\"4177252841\",4))"
   ]
  },
  {
   "cell_type": "code",
   "execution_count": null,
   "metadata": {},
   "outputs": [],
   "source": []
  }
 ],
 "metadata": {
  "kernelspec": {
   "display_name": "Python 3",
   "language": "python",
   "name": "python3"
  },
  "language_info": {
   "codemirror_mode": {
    "name": "ipython",
    "version": 3
   },
   "file_extension": ".py",
   "mimetype": "text/x-python",
   "name": "python",
   "nbconvert_exporter": "python",
   "pygments_lexer": "ipython3",
   "version": "3.8.3"
  }
 },
 "nbformat": 4,
 "nbformat_minor": 4
}
