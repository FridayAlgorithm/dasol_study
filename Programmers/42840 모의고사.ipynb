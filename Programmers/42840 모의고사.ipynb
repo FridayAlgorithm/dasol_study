{
 "cells": [
  {
   "cell_type": "markdown",
   "metadata": {},
   "source": [
    "# 모의고사\n",
    "\n",
    "[모의고사](https://programmers.co.kr/learn/courses/30/lessons/42840)\n",
    "\n",
    "- 1번 수포자 : 1, 2, 3, 4, 5, 1, 2, 3, 4, 5 \n",
    "- 2번 수포자 : 2, 1, 2, 3, 2, 4, 2, 5, 2, 1, 2, 3, 2, 4, 2, 5\n",
    "- 3번 수포자 : 3, 3, 1, 1, 2, 2, 4, 4, 5, 5, 3, 3, 1, 1, 2, 2, 4, 4, 5, 5\n",
    "- 모의고사 정답이 주어질 때 가장 높은 점수를 맞는 수포자는 누구인가?\n"
   ]
  },
  {
   "cell_type": "code",
   "execution_count": 1,
   "metadata": {},
   "outputs": [
    {
     "name": "stdout",
     "output_type": "stream",
     "text": [
      "[1]\n",
      "[1, 2, 3]\n"
     ]
    }
   ],
   "source": [
    "def solution(answer):\n",
    "    res=[]\n",
    "    s1=[1,2,3,4,5]\n",
    "    s2=[2,1,2,3,2,4,2,5]\n",
    "    s3=[3,3,1,1,2,2,4,4,5,5]\n",
    "    score1=0; score2=0; score3=0\n",
    "    for i in range(len(answer)):\n",
    "        if (answer[i]==s1[i%5]):\n",
    "            score1+=1\n",
    "        if (answer[i]==s2[i%8]):\n",
    "            score2+=1\n",
    "        if (answer[i]==s3[i%10]):\n",
    "            score3+=1\n",
    "    maxScore=max(score1,score2,score3)\n",
    "    if (maxScore==score1):\n",
    "        res.append(1)\n",
    "    if (maxScore==score2):\n",
    "        res.append(2)\n",
    "    if (maxScore==score3):\n",
    "        res.append(3)\n",
    "    return res\n",
    "            \n",
    "print(solution([1,2,3,4,5]))\n",
    "print(solution([1,3,2,4,2]))"
   ]
  },
  {
   "cell_type": "code",
   "execution_count": null,
   "metadata": {},
   "outputs": [],
   "source": []
  }
 ],
 "metadata": {
  "kernelspec": {
   "display_name": "Python 3",
   "language": "python",
   "name": "python3"
  },
  "language_info": {
   "codemirror_mode": {
    "name": "ipython",
    "version": 3
   },
   "file_extension": ".py",
   "mimetype": "text/x-python",
   "name": "python",
   "nbconvert_exporter": "python",
   "pygments_lexer": "ipython3",
   "version": "3.8.3"
  }
 },
 "nbformat": 4,
 "nbformat_minor": 4
}
