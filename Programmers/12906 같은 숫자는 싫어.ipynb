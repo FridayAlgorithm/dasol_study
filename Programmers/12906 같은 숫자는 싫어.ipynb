{
 "cells": [
  {
   "cell_type": "markdown",
   "metadata": {},
   "source": [
    "# 같은 숫자는 싫어\n",
    "\n",
    "[같은 숫자는 싫어](https://programmers.co.kr/learn/courses/30/lessons/12906)\n",
    "\n",
    "- 배열의 각 원소는 숫자 0~9로 이루어져 있다\n",
    "- 배열에서 연속적으로 나타나는 숫자는 하나만 남기고 전부 제거하려고 한다\n",
    "- 제거된 후 남은 수들을 반환할 때는 원래 배열 순서를 유지해야 한다\n",
    "- 배열에서 연속적으로 나타나는 숫자를 제거하고 남은수를 반환하는 함수를 작성하라"
   ]
  },
  {
   "cell_type": "code",
   "execution_count": 2,
   "metadata": {},
   "outputs": [
    {
     "name": "stdout",
     "output_type": "stream",
     "text": [
      "[1, 3, 0, 1]\n",
      "[4, 3]\n"
     ]
    }
   ],
   "source": [
    "# 효율성 테스트 실패\n",
    "def solution1(arr):\n",
    "    num=len(arr)-1\n",
    "    while(num>0):\n",
    "        if(arr[num]==arr[num-1]):\n",
    "            del arr[num]\n",
    "        num-=1\n",
    "    return(arr)\n",
    "\n",
    "print(solution1([1,1,3,3,0,1,1]))\n",
    "print(solution1([4,4,4,3,3]))"
   ]
  },
  {
   "cell_type": "code",
   "execution_count": 3,
   "metadata": {},
   "outputs": [
    {
     "name": "stdout",
     "output_type": "stream",
     "text": [
      "[1, 3, 0, 1]\n",
      "[4, 3]\n"
     ]
    }
   ],
   "source": [
    "def solution(arr):\n",
    "    resArr=[]\n",
    "    resArr.append(arr[0])\n",
    "    for i in range(1, len(arr)):\n",
    "        if (resArr[-1]!=arr[i]):\n",
    "            resArr.append(arr[i])\n",
    "    return resArr\n",
    "    \n",
    "print(solution([1,1,3,3,0,1,1]))\n",
    "print(solution([4,4,4,3,3]))"
   ]
  },
  {
   "cell_type": "code",
   "execution_count": null,
   "metadata": {},
   "outputs": [],
   "source": []
  }
 ],
 "metadata": {
  "kernelspec": {
   "display_name": "Python 3",
   "language": "python",
   "name": "python3"
  },
  "language_info": {
   "codemirror_mode": {
    "name": "ipython",
    "version": 3
   },
   "file_extension": ".py",
   "mimetype": "text/x-python",
   "name": "python",
   "nbconvert_exporter": "python",
   "pygments_lexer": "ipython3",
   "version": "3.8.3"
  }
 },
 "nbformat": 4,
 "nbformat_minor": 4
}
