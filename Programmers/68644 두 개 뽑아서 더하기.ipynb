{
 "cells": [
  {
   "cell_type": "markdown",
   "metadata": {},
   "source": [
    "# 두 개 뽑아서 더하기\n",
    "\n",
    "[두 개 뽑아서 더하기](https://programmers.co.kr/learn/courses/30/lessons/68644)\n",
    "\n",
    "\n",
    "- 정수 배열 numbers가 주어집니다. \n",
    "- numbers에서 서로 다른 인덱스에 있는 두 개의 수를 뽑아 더해서 만들 수 있는 모든 수를 배열에 오름차순으로 담아 return"
   ]
  },
  {
   "cell_type": "code",
   "execution_count": 7,
   "metadata": {},
   "outputs": [
    {
     "name": "stdout",
     "output_type": "stream",
     "text": [
      "[2, 3, 4, 5, 6, 7]\n",
      "[2, 5, 7, 9, 12]\n"
     ]
    }
   ],
   "source": [
    "def solution (inputArr):\n",
    "    res=[]\n",
    "    for i in range(1, len(inputArr)):\n",
    "        for j in range(i):\n",
    "            res.append(inputArr[i]+inputArr[j])\n",
    "    res=list(set(res))\n",
    "    res.sort()\n",
    "    return res\n",
    "\n",
    "a=[2,1,3,4,1]\n",
    "print(solution(a))\n",
    "b=[5,0,2,7]\n",
    "print(solution(b))"
   ]
  }
 ],
 "metadata": {
  "kernelspec": {
   "display_name": "Python 3",
   "language": "python",
   "name": "python3"
  },
  "language_info": {
   "codemirror_mode": {
    "name": "ipython",
    "version": 3
   },
   "file_extension": ".py",
   "mimetype": "text/x-python",
   "name": "python",
   "nbconvert_exporter": "python",
   "pygments_lexer": "ipython3",
   "version": "3.8.3"
  }
 },
 "nbformat": 4,
 "nbformat_minor": 4
}
