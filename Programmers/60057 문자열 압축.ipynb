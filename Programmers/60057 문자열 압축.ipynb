{
 "cells": [
  {
   "cell_type": "markdown",
   "metadata": {},
   "source": [
    "# 문자열 압축\n",
    "\n",
    "[문자열 압축](https://programmers.co.kr/learn/courses/30/lessons/60057)\n",
    "\n",
    "- 어피치는 문자열에서 같은 값이 연속되면 반복 문자 개수과 값으로 문자열 줄이는 알고리즘을 공부중\n",
    "- aabbaccc  ->  2a2ba3c  (1은 생략)\n",
    "- 이 방식은 반복 문자가 적으면 압축률이 낮다는 단점이 있다\n",
    "- 문자열을 1개 이상의 단위로 잘라 더 짧은 문자열로 표현할 방법을 찾겠다\n",
    "- ababcdcdababdcdc  ->  2ab2cd2ab2cd\n",
    "- 문자열 s가 매개변수로 주어질 때 문자열을 압축하여 가장 짧은 길이를 return하라"
   ]
  },
  {
   "cell_type": "code",
   "execution_count": 8,
   "metadata": {},
   "outputs": [
    {
     "name": "stdout",
     "output_type": "stream",
     "text": [
      "9\n",
      "14\n",
      "17\n"
     ]
    }
   ],
   "source": [
    "def solution(s):\n",
    "    length =[]\n",
    "    result = \"\"\n",
    "    if len(s)==1:\n",
    "         return 1\n",
    "    for cut in range(1, len(s)//2+1): \n",
    "        temp = s[:cut]\n",
    "        num = 1\n",
    "        for i in range(cut, len(s), cut): \n",
    "            if s[i:i+cut] == temp: \n",
    "                num+=1 \n",
    "            else:\n",
    "                if num == 1:\n",
    "                    num=\"\"\n",
    "                result += str(num)+temp\n",
    "                temp = s[i:i+cut]\n",
    "                num=1 \n",
    "        if num == 1:\n",
    "            num=\"\"\n",
    "        result +=str(num)+temp\n",
    "        length.append(len(result))\n",
    "        result=\"\"\n",
    "    return min(length)\n",
    "\n",
    "print(solution(\"ababcdcdababcdcd\"))\n",
    "print(solution(\"abcabcabcabcdededededede\"))\n",
    "print(solution(\"xababcdcdababcdcd\"))"
   ]
  },
  {
   "cell_type": "code",
   "execution_count": null,
   "metadata": {},
   "outputs": [],
   "source": []
  }
 ],
 "metadata": {
  "kernelspec": {
   "display_name": "Python 3",
   "language": "python",
   "name": "python3"
  },
  "language_info": {
   "codemirror_mode": {
    "name": "ipython",
    "version": 3
   },
   "file_extension": ".py",
   "mimetype": "text/x-python",
   "name": "python",
   "nbconvert_exporter": "python",
   "pygments_lexer": "ipython3",
   "version": "3.8.3"
  }
 },
 "nbformat": 4,
 "nbformat_minor": 4
}
