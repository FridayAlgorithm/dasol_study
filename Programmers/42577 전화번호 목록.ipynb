{
 "cells": [
  {
   "cell_type": "markdown",
   "metadata": {},
   "source": [
    "# 전화번호 목록\n",
    "\n",
    "[전화번호 목록](https://programmers.co.kr/learn/courses/30/lessons/42577)\n",
    "\n",
    "- 전화번호 중 한 번호가 다른 번호의 접두어인 경우가 있는지 확인하려 한다\n",
    "- 구조대 : 119\n",
    "- 지영석 : 11 9552 4421\n",
    "- 구조대는 지영석 번호의 접두사\n",
    "- 전화번호 배열에서 어떤 번호가 다른 번호의 접두사인 경우가 있다면 Flase, 아니면 True를 반환하라"
   ]
  },
  {
   "cell_type": "code",
   "execution_count": 3,
   "metadata": {},
   "outputs": [
    {
     "name": "stdout",
     "output_type": "stream",
     "text": [
      "False\n",
      "True\n",
      "False\n"
     ]
    }
   ],
   "source": [
    "#효율성 테스트 실패,,\n",
    "def solution(phoneBook):\n",
    "    answer = True\n",
    "    for phoneNum in phoneBook:\n",
    "        temp = \"\"\n",
    "        for number in phoneNum:  \n",
    "            temp += number\n",
    "            if temp in phoneBook and temp!=phoneNum: \n",
    "                answer = False\n",
    "    return answer\n",
    "\n",
    "print(solution([\"119\", \"97674223\", \"1195524421\"]))\n",
    "print(solution([\"123\",\"456\",\"789\"]))\n",
    "print(solution([\"12\",\"123\",\"1235\",\"567\",\"88\"]))"
   ]
  },
  {
   "cell_type": "code",
   "execution_count": 2,
   "metadata": {},
   "outputs": [
    {
     "name": "stdout",
     "output_type": "stream",
     "text": [
      "{'119': 1, '97674223': 1, '1195524421': 1}\n",
      "False\n",
      "{'123': 1, '456': 1, '789': 1}\n",
      "True\n",
      "{'12': 1, '123': 1, '1235': 1, '567': 1, '88': 1}\n",
      "False\n"
     ]
    }
   ],
   "source": [
    "#해시 사용해보자\n",
    "def solution(phoneBook):\n",
    "    answer = True\n",
    "    hashMap = {}\n",
    "    for phoneNum in phoneBook:\n",
    "        hashMap[phoneNum] = 1\n",
    "        \n",
    "    for phoneNum in phoneBook:\n",
    "        temp = \"\"\n",
    "        for number in phoneNum:\n",
    "            temp += number\n",
    "            if temp in hashMap and temp != phoneNum:\n",
    "                answer = False\n",
    "    return answer\n",
    "\n",
    "print(solution([\"119\", \"97674223\", \"1195524421\"]))\n",
    "print(solution([\"123\",\"456\",\"789\"]))\n",
    "print(solution([\"12\",\"123\",\"1235\",\"567\",\"88\"]))"
   ]
  },
  {
   "cell_type": "code",
   "execution_count": null,
   "metadata": {},
   "outputs": [],
   "source": []
  }
 ],
 "metadata": {
  "kernelspec": {
   "display_name": "Python 3",
   "language": "python",
   "name": "python3"
  },
  "language_info": {
   "codemirror_mode": {
    "name": "ipython",
    "version": 3
   },
   "file_extension": ".py",
   "mimetype": "text/x-python",
   "name": "python",
   "nbconvert_exporter": "python",
   "pygments_lexer": "ipython3",
   "version": "3.8.3"
  }
 },
 "nbformat": 4,
 "nbformat_minor": 4
}
