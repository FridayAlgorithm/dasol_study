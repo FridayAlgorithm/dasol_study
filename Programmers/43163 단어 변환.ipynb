{
 "cells": [
  {
   "cell_type": "markdown",
   "metadata": {},
   "source": [
    "# 단어 변환\n",
    "\n",
    "[문제로 이동](https://programmers.co.kr/learn/courses/30/lessons/43163)\n",
    "\n",
    "- 다음 규칙을 이용하여 begin에서 target으로 변환하는 가장 짧은 변환 과정을 찾으려고 한다\n",
    "  * 한 번에 한 개의 알파벳만 바꿀 수 있다\n",
    "  * words에 있는 단어로만 변환할 수 있다\n",
    "- begin, target, words가 주어질 때 최소 몇 단계를 거쳐야하는지 반환하라\n",
    "- 변환이 불가능한 경우 0을 반환한다"
   ]
  },
  {
   "cell_type": "code",
   "execution_count": 1,
   "metadata": {},
   "outputs": [
    {
     "name": "stdout",
     "output_type": "stream",
     "text": [
      "4\n",
      "0\n"
     ]
    }
   ],
   "source": [
    "def compare(word, current):\n",
    "    equal=0\n",
    "    for a,b in zip(current, word):\n",
    "        if (a==b): equal+=1\n",
    "    if (equal == len(word)-1): return True\n",
    "    else: return False\n",
    "\n",
    "def solution(begin, target, words):\n",
    "    if target not in words: return 0\n",
    "    answer=0\n",
    "    visit=[0]*len(words)\n",
    "    stack=[begin]\n",
    "    \n",
    "    while stack:\n",
    "        current = stack.pop()\n",
    "        if (current == target):\n",
    "            return answer\n",
    "        for i in range(len(words)):\n",
    "            if not visit[i]:\n",
    "                if (compare(current, words[i])):\n",
    "                    visit[i]=1\n",
    "                    stack.append(words[i])\n",
    "        answer+=1\n",
    "    return answer\n",
    "\n",
    "print(solution(\"hit\", \"cog\", [\"hot\", \"dot\", \"dog\", \"lot\", \"log\", \"cog\"]))\n",
    "print(solution(\"hit\", \"cog\", [\"hot\", \"dot\", \"dog\", \"lot\", \"log\"]))"
   ]
  },
  {
   "cell_type": "code",
   "execution_count": null,
   "metadata": {},
   "outputs": [],
   "source": []
  }
 ],
 "metadata": {
  "kernelspec": {
   "display_name": "Python 3",
   "language": "python",
   "name": "python3"
  },
  "language_info": {
   "codemirror_mode": {
    "name": "ipython",
    "version": 3
   },
   "file_extension": ".py",
   "mimetype": "text/x-python",
   "name": "python",
   "nbconvert_exporter": "python",
   "pygments_lexer": "ipython3",
   "version": "3.8.3"
  }
 },
 "nbformat": 4,
 "nbformat_minor": 4
}
