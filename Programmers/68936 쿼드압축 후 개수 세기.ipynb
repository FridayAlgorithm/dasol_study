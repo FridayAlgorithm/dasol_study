{
 "cells": [
  {
   "cell_type": "markdown",
   "metadata": {},
   "source": [
    "# 쿼드압축 후 개수 세기\n",
    "\n",
    "[문제로 이동](https://programmers.co.kr/learn/courses/30/lessons/68936)\n",
    "\n",
    "- 0과 1로 이루어진 2^n*2^n 크기의 2차원 정수 배열이 있다\n",
    "- 쿼드 트리와 같은 방식으로 압축하고자 한다\n",
    "  * 압축하고자 하는 특정 영역을 S라고 정의하자\n",
    "  * S 내부의 모든 수가 같은 값이라면 S를 해당 수 하나로 압축한다\n",
    "  * 그렇지 않다면 S를 균일한 4개의 정사각형 영역으로 쪼개서 압축을 시도한다\n",
    "- arr이 매개변수로 주어질 때 최종 배열의 0의 개수와 1의 개수를 반환하라"
   ]
  },
  {
   "cell_type": "code",
   "execution_count": 6,
   "metadata": {},
   "outputs": [
    {
     "name": "stdout",
     "output_type": "stream",
     "text": [
      "[4, 9]\n",
      "[10, 15]\n"
     ]
    }
   ],
   "source": [
    "def check(x,y,n,arr):\n",
    "    if (n==1):\n",
    "        if(arr[x][y]==1): return [0,1]\n",
    "        else: return [1,0]\n",
    "        \n",
    "    leftUp=check(x, y, n//2, arr)\n",
    "    rightUp=check(x, y+n//2, n//2, arr)\n",
    "    leftDown=check(x+n//2, y, n//2, arr)\n",
    "    rightDown=check(x+n//2, y+n//2, n//2, arr)\n",
    "    if (leftUp==rightUp==leftDown==rightDown==[0,1]\n",
    "       or leftUp==rightUp==leftDown==rightDown==[1,0]):\n",
    "        return leftUp\n",
    "    else:\n",
    "         return list(map(sum,zip(leftUp,rightUp,rightDown,leftDown)))\n",
    "    \n",
    "def solution(arr):\n",
    "    return check(0,0,len(arr),arr)\n",
    "\n",
    "print(solution([[1,1,0,0],[1,0,0,0],[1,0,0,1],[1,1,1,1]]))\n",
    "print(solution([[1,1,1,1,1,1,1,1],\n",
    "                [0,1,1,1,1,1,1,1],\n",
    "                [0,0,0,0,1,1,1,1],\n",
    "                [0,1,0,0,1,1,1,1],\n",
    "                [0,0,0,0,0,0,1,1],\n",
    "                [0,0,0,0,0,0,0,1],\n",
    "                [0,0,0,0,1,0,0,1],\n",
    "                [0,0,0,0,1,1,1,1]]))"
   ]
  },
  {
   "cell_type": "code",
   "execution_count": null,
   "metadata": {},
   "outputs": [],
   "source": []
  }
 ],
 "metadata": {
  "kernelspec": {
   "display_name": "Python 3",
   "language": "python",
   "name": "python3"
  },
  "language_info": {
   "codemirror_mode": {
    "name": "ipython",
    "version": 3
   },
   "file_extension": ".py",
   "mimetype": "text/x-python",
   "name": "python",
   "nbconvert_exporter": "python",
   "pygments_lexer": "ipython3",
   "version": "3.8.3"
  }
 },
 "nbformat": 4,
 "nbformat_minor": 4
}
