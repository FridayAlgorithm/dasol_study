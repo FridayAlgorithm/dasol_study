{
 "cells": [
  {
   "cell_type": "markdown",
   "metadata": {},
   "source": [
    "# 소수찾기\n",
    "\n",
    "[소수찾기](https://programmers.co.kr/learn/courses/30/lessons/42839)\n",
    "\n",
    "- 한자리 숫자가 적힌 종이 조각을 붙여 소수를 몇 개 만들 수 있는가?\n",
    "- 각 종이 조각에 적힌 숫자가 주어졌을 때 만들 수 있는 소수 개수를 반환하는 함수를 작성하라\n",
    "\n"
   ]
  },
  {
   "cell_type": "code",
   "execution_count": 6,
   "metadata": {},
   "outputs": [
    {
     "name": "stdout",
     "output_type": "stream",
     "text": [
      "['1', '7']\n",
      "['17', '71']\n",
      "3\n",
      "['0', '1', '1']\n",
      "['01', '01', '10', '11', '10', '11']\n",
      "['011', '011', '101', '110', '101', '110']\n",
      "2\n"
     ]
    }
   ],
   "source": [
    "from itertools import permutations as permut\n",
    "import math\n",
    "\n",
    "def isPrime(num):\n",
    "    maxNum=int(math.sqrt(num))\n",
    "    if (num<2):\n",
    "        return False\n",
    "    for i in range(2,maxNum+1):\n",
    "        if(num%i==0):\n",
    "            return False\n",
    "    return True\n",
    "\n",
    "def solution(numbers):\n",
    "    prime=[]\n",
    "    for i in range(1, len(numbers)+1):\n",
    "        test=list(map(''.join, permut(list(numbers),i)))\n",
    "        for j in list(set(test)):\n",
    "            if (isPrime(int(j))):\n",
    "                prime.append(int(j))\n",
    "    return len(set(prime))\n",
    "\n",
    "print(solution(\"17\"))\n",
    "print(solution(\"011\"))"
   ]
  },
  {
   "cell_type": "code",
   "execution_count": null,
   "metadata": {},
   "outputs": [],
   "source": []
  }
 ],
 "metadata": {
  "kernelspec": {
   "display_name": "Python 3",
   "language": "python",
   "name": "python3"
  },
  "language_info": {
   "codemirror_mode": {
    "name": "ipython",
    "version": 3
   },
   "file_extension": ".py",
   "mimetype": "text/x-python",
   "name": "python",
   "nbconvert_exporter": "python",
   "pygments_lexer": "ipython3",
   "version": "3.8.3"
  }
 },
 "nbformat": 4,
 "nbformat_minor": 4
}
