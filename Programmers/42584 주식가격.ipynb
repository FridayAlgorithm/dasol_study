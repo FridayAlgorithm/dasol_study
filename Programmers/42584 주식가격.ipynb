{
 "cells": [
  {
   "cell_type": "markdown",
   "metadata": {},
   "source": [
    "# 주식가격\n",
    "\n",
    "[주식가격](https://programmers.co.kr/learn/courses/30/lessons/42584)\n",
    "\n",
    "- 초 단위로 기록된 주식가격이 담긴 배열이 주어진다\n",
    "- 가격이 떨어지지 않은 기간은 몇 초인지 return 하는 함수를 만들어라"
   ]
  },
  {
   "cell_type": "code",
   "execution_count": 16,
   "metadata": {},
   "outputs": [
    {
     "name": "stdout",
     "output_type": "stream",
     "text": [
      "[4, 3, 1, 1, 0]\n"
     ]
    }
   ],
   "source": [
    "def solution(price):\n",
    "    res=[0]*len(price)\n",
    "    for i in range(len(price)):\n",
    "        for j in range(i+1,len(price)):\n",
    "            if (price[i]<=price[j]):\n",
    "                res[i]+=1\n",
    "            else:\n",
    "                res[i]+=1\n",
    "                break\n",
    "    return res\n",
    "\n",
    "print(solution([1, 2, 3, 2, 3]))      "
   ]
  },
  {
   "cell_type": "code",
   "execution_count": 22,
   "metadata": {},
   "outputs": [
    {
     "name": "stdout",
     "output_type": "stream",
     "text": [
      "[4, 3, 1, 1, 0]\n"
     ]
    }
   ],
   "source": [
    "#pop(0)는 효율성 테스트 실패\n",
    "from collections import deque\n",
    "\n",
    "def solution (price):\n",
    "    price=deque(price)\n",
    "    res=[]\n",
    "    while (price):\n",
    "        count=0\n",
    "        current=price.popleft()\n",
    "        for i in price:\n",
    "            count+=1\n",
    "            if (current>i):\n",
    "                break\n",
    "        res.append(count)\n",
    "    return res\n",
    "        \n",
    "print(solution([1, 2, 3, 2, 3])) "
   ]
  },
  {
   "cell_type": "code",
   "execution_count": null,
   "metadata": {},
   "outputs": [],
   "source": []
  }
 ],
 "metadata": {
  "kernelspec": {
   "display_name": "Python 3",
   "language": "python",
   "name": "python3"
  },
  "language_info": {
   "codemirror_mode": {
    "name": "ipython",
    "version": 3
   },
   "file_extension": ".py",
   "mimetype": "text/x-python",
   "name": "python",
   "nbconvert_exporter": "python",
   "pygments_lexer": "ipython3",
   "version": "3.8.3"
  }
 },
 "nbformat": 4,
 "nbformat_minor": 4
}
