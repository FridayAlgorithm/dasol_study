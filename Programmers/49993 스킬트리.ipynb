{
 "cells": [
  {
   "cell_type": "markdown",
   "metadata": {},
   "source": [
    "# 스킬트리\n",
    "\n",
    "[스킬트리](https://programmers.co.kr/learn/courses/30/lessons/49993)\n",
    "\n",
    "- 스킬을 배우기 전에 먼저 배워야 하는 선행 스킬이 있다\n",
    "- 선행 스킬 순서에 없는 스킬은 순서에 상관없이 배울 수 있다\n",
    "- 선행 스킬이 있는 스킬들은 스킬 순서를 지켜야 한다.\n",
    "- 선행 스킬 순서와 스킬트리가 있을 때 가능한 스킬 트리의 개수를 구하라"
   ]
  },
  {
   "cell_type": "code",
   "execution_count": 10,
   "metadata": {},
   "outputs": [
    {
     "name": "stdout",
     "output_type": "stream",
     "text": [
      "2\n"
     ]
    }
   ],
   "source": [
    "def solution (skill, skillTree):\n",
    "    res=0;\n",
    "    for tc in skillTree:\n",
    "        learn=[]; poss=True\n",
    "        for i in tc:\n",
    "            if i in skill:\n",
    "                learn.append(i)\n",
    "        for i in range(len(learn)):\n",
    "            if (skill[i]!=learn[i]):\n",
    "                poss=False\n",
    "                break\n",
    "        if (poss):\n",
    "            res+=1\n",
    "    return res\n",
    "    \n",
    "print(solution(\"CBD\", [\"BACDE\", \"CBADF\", \"AECB\", \"BDA\"]))"
   ]
  },
  {
   "cell_type": "code",
   "execution_count": null,
   "metadata": {},
   "outputs": [],
   "source": []
  }
 ],
 "metadata": {
  "kernelspec": {
   "display_name": "Python 3",
   "language": "python",
   "name": "python3"
  },
  "language_info": {
   "codemirror_mode": {
    "name": "ipython",
    "version": 3
   },
   "file_extension": ".py",
   "mimetype": "text/x-python",
   "name": "python",
   "nbconvert_exporter": "python",
   "pygments_lexer": "ipython3",
   "version": "3.8.3"
  }
 },
 "nbformat": 4,
 "nbformat_minor": 4
}
