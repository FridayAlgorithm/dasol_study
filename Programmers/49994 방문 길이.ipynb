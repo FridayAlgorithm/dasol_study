{
 "cells": [
  {
   "cell_type": "markdown",
   "metadata": {},
   "source": [
    "# 방문 길이\n",
    "\n",
    "[문제로 이동](https://programmers.co.kr/learn/courses/30/lessons/49994)\n",
    "\n",
    "- 게임 캐릭터를 U, D, R,L로 조작한다\n",
    "- 캐릭터는 (0,0)에서 시작하면 좌표는 x,y -5~+5 범위로 이루어져있다\n",
    "- 캐릭터가 지나간 길 중 캐릭터가 처음 걸어본 길의 길이를 구하려고 한다"
   ]
  },
  {
   "cell_type": "code",
   "execution_count": 1,
   "metadata": {},
   "outputs": [
    {
     "name": "stdout",
     "output_type": "stream",
     "text": [
      "7\n",
      "7\n"
     ]
    }
   ],
   "source": [
    "def solution(dirs):\n",
    "    move={'L':(-1,0),'R':(1,0),'U':(0,1),'D':(0,-1)}\n",
    "    road=set()\n",
    "    curX,curY=(0,0)\n",
    "    \n",
    "    for d in dirs:\n",
    "        nextX,nextY=curX+move[d][0],curY+move[d][1]\n",
    "        if (-5<=nextX<=5 and -5<=nextY<=5):\n",
    "            road.add((curX,curY,nextX,nextY))\n",
    "            road.add((nextX,nextY,curX,curY))\n",
    "            curX,curY=nextX,nextY\n",
    "    return len(road)//2\n",
    "\n",
    "print(solution(\"ULURRDLLU\"))\n",
    "print(solution(\"LULLLLLLU\"))"
   ]
  },
  {
   "cell_type": "code",
   "execution_count": null,
   "metadata": {},
   "outputs": [],
   "source": []
  }
 ],
 "metadata": {
  "kernelspec": {
   "display_name": "Python 3",
   "language": "python",
   "name": "python3"
  },
  "language_info": {
   "codemirror_mode": {
    "name": "ipython",
    "version": 3
   },
   "file_extension": ".py",
   "mimetype": "text/x-python",
   "name": "python",
   "nbconvert_exporter": "python",
   "pygments_lexer": "ipython3",
   "version": "3.8.3"
  }
 },
 "nbformat": 4,
 "nbformat_minor": 4
}
