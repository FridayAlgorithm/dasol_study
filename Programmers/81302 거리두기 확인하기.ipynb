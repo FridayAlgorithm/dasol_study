{
 "cells": [
  {
   "cell_type": "markdown",
   "metadata": {},
   "source": [
    "# 거리두기 확인하기\n",
    "\n",
    "[문제로 이동](https://programmers.co.kr/learn/courses/30/lessons/81302)\n",
    "\n",
    "- 다음과 같은 규칙으로 대기실에 거리를 두고 앉도록 안내하고 있다\n",
    "  * 대기실은 5개이며, 각 대기실은 5*5 크기이다\n",
    "  * 거리두기를 위하여 응시자들은 맨해튼거리가 2 이하로 앉으면 안된다\n",
    "  * 응시자가 앉아있는 자리 사이가 파티션으로 막혀있는 경우는 허용된다\n",
    "- 응시자들이 거리두기를 잘 지키고 있다면 1, 지키지 않는다면 0을 반환하라"
   ]
  },
  {
   "cell_type": "code",
   "execution_count": null,
   "metadata": {},
   "outputs": [],
   "source": [
    "def solution(places):\n",
    "    answer = []\n",
    "    for room in places:\n",
    "        \n",
    "    return answer\n",
    "\n",
    "print(solution([[\"POOOP\", \"OXXOX\", \"OPXPX\", \"OOXOX\", \"POXXP\"], \n",
    "                [\"POOPX\", \"OXPXP\", \"PXXXO\", \"OXXXO\", \"OOOPP\"], \n",
    "                [\"PXOPX\", \"OXOXP\", \"OXPOX\", \"OXXOP\", \"PXPOX\"], \n",
    "                [\"OOOXX\", \"XOOOX\", \"OOOXX\", \"OXOOX\", \"OOOOO\"], \n",
    "                [\"PXPXP\", \"XPXPX\", \"PXPXP\", \"XPXPX\", \"PXPXP\"]]))"
   ]
  }
 ],
 "metadata": {
  "kernelspec": {
   "display_name": "Python 3",
   "language": "python",
   "name": "python3"
  },
  "language_info": {
   "codemirror_mode": {
    "name": "ipython",
    "version": 3
   },
   "file_extension": ".py",
   "mimetype": "text/x-python",
   "name": "python",
   "nbconvert_exporter": "python",
   "pygments_lexer": "ipython3",
   "version": "3.8.3"
  }
 },
 "nbformat": 4,
 "nbformat_minor": 4
}
