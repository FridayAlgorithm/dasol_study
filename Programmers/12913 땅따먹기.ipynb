{
 "cells": [
  {
   "cell_type": "markdown",
   "metadata": {},
   "source": [
    "# 땅따먹기\n",
    "\n",
    "[문제로 이동](https://programmers.co.kr/learn/courses/30/lessons/12913)\n",
    "\n",
    "- 땅따먹기 게임의 땅은 N행 4열로 이루어져 있다\n",
    "- 땅따먹기 게임에는 같은 열을 연속해서 밟을 수 없다.\n",
    "- 마지막 행까지 내려왔을 때 얻을 수 있는 점수의 최댓값을 반환하는 함수를 작성하라"
   ]
  },
  {
   "cell_type": "code",
   "execution_count": 1,
   "metadata": {},
   "outputs": [
    {
     "name": "stdout",
     "output_type": "stream",
     "text": [
      "16\n"
     ]
    }
   ],
   "source": [
    "def solution(land):\n",
    "    for i in range(1,len(land)):\n",
    "        land[i][0]+=max(land[i-1][1],land[i-1][2],land[i-1][3])\n",
    "        land[i][1]+=max(land[i-1][0],land[i-1][2],land[i-1][3])\n",
    "        land[i][2]+=max(land[i-1][0],land[i-1][1],land[i-1][3])\n",
    "        land[i][3]+=max(land[i-1][0],land[i-1][1],land[i-1][2])\n",
    "    return max(land[-1])\n",
    "\n",
    "print(solution([[1,2,3,5],\n",
    "                [5,6,7,8],\n",
    "                [4,3,2,1]]))"
   ]
  },
  {
   "cell_type": "code",
   "execution_count": null,
   "metadata": {},
   "outputs": [],
   "source": [
    "#다른 사람 풀이\n",
    "#반복부분 for문으로 묶기!\n",
    "def solution(land):\n",
    "    for i in range(1, len(land)):\n",
    "        for j in range(len(land[0])):\n",
    "            land[i][j] = max(land[i -1][: j] + land[i - 1][j + 1:]) + land[i][j]\n",
    "    return max(land[-1])"
   ]
  }
 ],
 "metadata": {
  "kernelspec": {
   "display_name": "Python 3",
   "language": "python",
   "name": "python3"
  },
  "language_info": {
   "codemirror_mode": {
    "name": "ipython",
    "version": 3
   },
   "file_extension": ".py",
   "mimetype": "text/x-python",
   "name": "python",
   "nbconvert_exporter": "python",
   "pygments_lexer": "ipython3",
   "version": "3.8.3"
  }
 },
 "nbformat": 4,
 "nbformat_minor": 4
}
