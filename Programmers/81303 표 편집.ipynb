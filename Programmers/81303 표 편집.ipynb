{
 "cells": [
  {
   "cell_type": "markdown",
   "metadata": {},
   "source": [
    "# 표편집\n",
    "\n",
    "[문제로 이동](https://programmers.co.kr/learn/courses/30/lessons/81303)\n",
    "\n",
    "- 명령어 기반으로 표의 행을 선택, 삭제, 복구하는 프로그램을 작성해야한다\n",
    "- 요구사항은 다음과 같다\n",
    "  * 한 번에 한 행만 선택할 수 있으며 표의 범위를 벗어날 수 없다\n",
    "  * \"U X\" : 현재 선택된 행에서 X칸 위의 행을 선택한다\n",
    "  * \"D X\" : 현재 선택된 행에서 X칸 아래의 행을 선택한다\n",
    "  * \"C\" : 선택된 행을 삭제한 후 바로 아래 행을 선택한다\n",
    "  * \"Z\" : 가장 최근에 삭제된 행을 원래대로 복구한다 (선택행은 변경 X)\n",
    "- 처음 표의 행 개수, 처음 선택된 행 위치, 명령어 배열이 주어질 때 삭제된 행은 X, 삭제되지 않은 행은 O로 표시하여 문자열 형태로 반환하라"
   ]
  },
  {
   "cell_type": "code",
   "execution_count": 24,
   "metadata": {},
   "outputs": [
    {
     "name": "stdout",
     "output_type": "stream",
     "text": [
      "OOOOXOOO\n",
      "OOXOXOOO\n"
     ]
    }
   ],
   "source": [
    "def solution(n, k, cmd):\n",
    "    answer = [1 for _ in range(n)]\n",
    "    up = [-1] + [x for x in range(n - 1)]\n",
    "    down = [x for x in range(1, n)] + [-1]\n",
    "    deleted = []\n",
    "    \n",
    "    for c in cmd:\n",
    "        op = c[0]\n",
    "        if op == 'U':\n",
    "            n = int(c.split()[1])\n",
    "            for _ in range(n):\n",
    "                k = up[k]            \n",
    "        elif op == 'D':\n",
    "            n = int(c.split()[1])\n",
    "            for _ in range(n):\n",
    "                k = down[k]\n",
    "        elif op == 'C':\n",
    "            if up[k] != -1:\n",
    "                down[up[k]] = down[k]\n",
    "            if down[k] != -1:\n",
    "                up[down[k]] = up[k]\n",
    "            answer[k] = 0\n",
    "            deleted.append(k)\n",
    "            k = down[k] if down[k] != -1 else up[k]\n",
    "        elif op == 'Z':\n",
    "            d = deleted.pop()\n",
    "            if up[d] != -1:\n",
    "                down[up[d]] = d\n",
    "            if down[d] != -1:\n",
    "                up[down[d]] = d\n",
    "            answer[d] = 1\n",
    "    return ''.join(['O' if (x==1) else 'X' for x in answer])\n",
    "\n",
    "print(solution(8,2,[\"D 2\",\"C\",\"U 3\",\"C\",\"D 4\",\"C\",\"U 2\",\"Z\",\"Z\"]))\n",
    "print(solution(8,2,[\"D 2\",\"C\",\"U 3\",\"C\",\"D 4\",\"C\",\"U 2\",\"Z\",\"Z\",\"U 1\",\"C\"]))"
   ]
  },
  {
   "cell_type": "code",
   "execution_count": null,
   "metadata": {},
   "outputs": [],
   "source": []
  }
 ],
 "metadata": {
  "kernelspec": {
   "display_name": "Python 3",
   "language": "python",
   "name": "python3"
  },
  "language_info": {
   "codemirror_mode": {
    "name": "ipython",
    "version": 3
   },
   "file_extension": ".py",
   "mimetype": "text/x-python",
   "name": "python",
   "nbconvert_exporter": "python",
   "pygments_lexer": "ipython3",
   "version": "3.8.3"
  }
 },
 "nbformat": 4,
 "nbformat_minor": 4
}
