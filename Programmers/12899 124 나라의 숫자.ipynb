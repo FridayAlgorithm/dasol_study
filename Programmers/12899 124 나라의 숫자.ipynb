{
 "cells": [
  {
   "cell_type": "markdown",
   "metadata": {},
   "source": [
    "# 124 나라의 숫자\n",
    "\n",
    "[124 나라의 숫자](https://programmers.co.kr/learn/courses/30/lessons/12899)\n",
    "\n",
    "- 모든 수를 표현할 때 1, 2, 4만 사용한다\n",
    "- 1 -> 1 <br>  2 -> 2  <br>  3 -> 4  <br>  4 -> 11\n",
    "\n",
    "<hr>\n",
    "\n",
    "- 1  2  4\n",
    "- 11 12 14\n",
    "- 21 22 24\n",
    "- 41 42 44\n",
    "- 111 112 114\n",
    "- 121 122 124\n",
    "- 141 142 144\n",
    "\n",
    "\n",
    "|n|몫|나머지|\n",
    "|:------:|:---:|:---:|\n",
    "|1|0|1|\n",
    "|2|0|2|\n",
    "|3|1|0|\n",
    "|4|1|1|\n",
    "|5|1|2|\n",
    "|6|2|0|\n",
    "|7|2|1|\n",
    "|8|2|2|\n",
    "|9|3|0|\n",
    "|10|3|1|"
   ]
  },
  {
   "cell_type": "code",
   "execution_count": 6,
   "metadata": {},
   "outputs": [
    {
     "name": "stdout",
     "output_type": "stream",
     "text": [
      "1\n",
      "12\n",
      "24\n",
      "41\n"
     ]
    }
   ],
   "source": [
    "def solution (n):\n",
    "    res=''\n",
    "    numDic={0:\"4\",1:\"1\",2:\"2\"}\n",
    "    q=1; r=1;\n",
    "    \n",
    "    while (q!=0):\n",
    "        q=n//3\n",
    "        r=n%3\n",
    "        if (r==0): q-=1\n",
    "        n=q\n",
    "        res=numDic[r]+res\n",
    "    return res\n",
    "\n",
    "print(solution(1))\n",
    "print(solution(5))\n",
    "print(solution(9))\n",
    "print(solution(10))"
   ]
  },
  {
   "cell_type": "code",
   "execution_count": null,
   "metadata": {},
   "outputs": [],
   "source": []
  }
 ],
 "metadata": {
  "kernelspec": {
   "display_name": "Python 3",
   "language": "python",
   "name": "python3"
  },
  "language_info": {
   "codemirror_mode": {
    "name": "ipython",
    "version": 3
   },
   "file_extension": ".py",
   "mimetype": "text/x-python",
   "name": "python",
   "nbconvert_exporter": "python",
   "pygments_lexer": "ipython3",
   "version": "3.8.3"
  }
 },
 "nbformat": 4,
 "nbformat_minor": 4
}
