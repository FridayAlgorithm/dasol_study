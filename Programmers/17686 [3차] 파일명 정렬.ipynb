{
 "cells": [
  {
   "cell_type": "markdown",
   "metadata": {},
   "source": [
    "# [3차] 파일명 정렬\n",
    "\n",
    "[문제로 이동](https://programmers.co.kr/learn/courses/30/lessons/17686)\n",
    "\n",
    "- 단순한 문자코드 순이 아닌 파일명에 포함된 숫자를 반영한 정렬 기능을 구현하고자 한다\n",
    "- 파일은 크게 head, number, tail의 세 부분으로 구성된다\n",
    "- 파일은 다음의 정렬 기준을 따른다\n",
    "  * 우선 head부분 기준으로 사전 순으로 정렬한다\n",
    "  * head 정렬 후에 number의 숫자 순으로 정렬한다 (앞의 0은 무시)\n",
    "  * 두 파일의 head와 number의 숫자도 같을 경우 입력의 순서를 유지한다"
   ]
  },
  {
   "cell_type": "code",
   "execution_count": 5,
   "metadata": {},
   "outputs": [
    {
     "name": "stdout",
     "output_type": "stream",
     "text": [
      "['img1.png', 'IMG01.GIF', 'img02.png', 'img2.JPG', 'img10.png', 'img12.png']\n",
      "['A-10 Thunderbolt II', 'B-50 Superfortress', 'F-5 Freedom Fighter', 'F-14 Tomcat']\n"
     ]
    }
   ],
   "source": [
    "def solution(files):\n",
    "    temp,answer=[],[]\n",
    "    for name in files:\n",
    "        head, number, tail='','',''\n",
    "        flag=False\n",
    "        for i in range(len(name)):\n",
    "            if (name[i].isdigit()):\n",
    "                number+=name[i]\n",
    "                flag=True\n",
    "            elif (not flag):\n",
    "                head+=name[i]\n",
    "            else:\n",
    "                tail+=name[i:]\n",
    "                break\n",
    "        temp.append((head,number,tail))\n",
    "    temp.sort(key=lambda x:(x[0].upper(),int(x[1])))\n",
    "    for t in temp:\n",
    "        answer.append(''.join(t))\n",
    "    return answer\n",
    "    \n",
    "\n",
    "print(solution([\"img12.png\", \"img10.png\", \"img02.png\", \"img1.png\", \"IMG01.GIF\", \"img2.JPG\"]))\n",
    "print(solution([\"F-5 Freedom Fighter\", \"B-50 Superfortress\", \"A-10 Thunderbolt II\", \"F-14 Tomcat\"]))"
   ]
  }
 ],
 "metadata": {
  "kernelspec": {
   "display_name": "Python 3",
   "language": "python",
   "name": "python3"
  },
  "language_info": {
   "codemirror_mode": {
    "name": "ipython",
    "version": 3
   },
   "file_extension": ".py",
   "mimetype": "text/x-python",
   "name": "python",
   "nbconvert_exporter": "python",
   "pygments_lexer": "ipython3",
   "version": "3.8.3"
  }
 },
 "nbformat": 4,
 "nbformat_minor": 4
}
