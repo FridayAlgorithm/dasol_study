{
 "cells": [
  {
   "cell_type": "markdown",
   "metadata": {},
   "source": [
    "# 디스코 컨트롤러\n",
    "\n",
    "[문제로 이동](https://programmers.co.kr/learn/courses/30/lessons/42627)\n",
    "\n",
    "- 하드디스크는 한 번에 하나의 작업만 수행할 수 있습니다\n",
    "- 작업의 요청부터 종료까지 걸린 시간의 평균이 최소가 되는 평균을 반환하는 함수를 작성하라"
   ]
  },
  {
   "cell_type": "code",
   "execution_count": 22,
   "metadata": {},
   "outputs": [
    {
     "name": "stdout",
     "output_type": "stream",
     "text": [
      "9\n"
     ]
    }
   ],
   "source": [
    "import heapq\n",
    "\n",
    "def solution(jobs):\n",
    "    finish, cur, answer=0,-1,0\n",
    "    heap=[]\n",
    "    time=0\n",
    "    while (finish<len(jobs)):\n",
    "        for s,t in jobs:\n",
    "            if (cur<s<=time):\n",
    "                heapq.heappush(heap, (t,s))\n",
    "        if (heap):\n",
    "            finish+=1\n",
    "            cur=time\n",
    "            term, start=heapq.heappop(heap)\n",
    "            time+=term\n",
    "            answer+=(time-start)\n",
    "        else:\n",
    "            time+=1\n",
    "    return answer//len(jobs)\n",
    "    \n",
    "\n",
    "print(solution([[0, 3], [1, 9], [2, 6]]))"
   ]
  },
  {
   "cell_type": "code",
   "execution_count": null,
   "metadata": {},
   "outputs": [],
   "source": []
  }
 ],
 "metadata": {
  "kernelspec": {
   "display_name": "Python 3",
   "language": "python",
   "name": "python3"
  },
  "language_info": {
   "codemirror_mode": {
    "name": "ipython",
    "version": 3
   },
   "file_extension": ".py",
   "mimetype": "text/x-python",
   "name": "python",
   "nbconvert_exporter": "python",
   "pygments_lexer": "ipython3",
   "version": "3.8.3"
  }
 },
 "nbformat": 4,
 "nbformat_minor": 4
}
