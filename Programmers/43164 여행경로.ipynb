{
 "cells": [
  {
   "cell_type": "markdown",
   "metadata": {},
   "source": [
    "# 여행경로\n",
    "\n",
    "[문제로 이동](https://programmers.co.kr/learn/courses/30/lessons/43164)\n",
    "\n",
    "- 주어진 항공권을 모두 이용하여 여행경로를 짜려고 한다\n",
    "- 항상 'ICN' 공항에서 출발한다"
   ]
  },
  {
   "cell_type": "code",
   "execution_count": 5,
   "metadata": {},
   "outputs": [
    {
     "name": "stdout",
     "output_type": "stream",
     "text": [
      "['ICN', 'JFK', 'HND', 'IAD']\n",
      "['ICN', 'ATL', 'ICN', 'SFO', 'ATL', 'SFO']\n"
     ]
    }
   ],
   "source": [
    "def DFS(ticket, start, used):\n",
    "    for i in range(len(ticket)):\n",
    "        if (ticket[i][0]==start) and (i not in used):\n",
    "            used.append(i)\n",
    "            DFS(ticket, ticket[i][1],used)\n",
    "            if (len(used)==len(ticket)):\n",
    "                return\n",
    "            else:\n",
    "                used.pop()\n",
    "                \n",
    "def solution(tickets):\n",
    "    answer = []\n",
    "    ticket=sorted(tickets, key=lambda x:(x[0],x[1]))\n",
    "    used=[]\n",
    "    DFS(ticket,\"ICN\",used)\n",
    "    answer=[\"ICN\"]\n",
    "    for t in used:\n",
    "        answer.append(ticket[t][1])\n",
    "    return answer\n",
    "\n",
    "print(solution([[\"ICN\", \"JFK\"], [\"HND\", \"IAD\"], [\"JFK\", \"HND\"]]))\n",
    "print(solution([[\"ICN\", \"SFO\"], [\"ICN\", \"ATL\"], [\"SFO\", \"ATL\"], [\"ATL\", \"ICN\"], [\"ATL\",\"SFO\"]]))"
   ]
  },
  {
   "cell_type": "code",
   "execution_count": null,
   "metadata": {},
   "outputs": [],
   "source": []
  }
 ],
 "metadata": {
  "kernelspec": {
   "display_name": "Python 3",
   "language": "python",
   "name": "python3"
  },
  "language_info": {
   "codemirror_mode": {
    "name": "ipython",
    "version": 3
   },
   "file_extension": ".py",
   "mimetype": "text/x-python",
   "name": "python",
   "nbconvert_exporter": "python",
   "pygments_lexer": "ipython3",
   "version": "3.8.3"
  }
 },
 "nbformat": 4,
 "nbformat_minor": 4
}
