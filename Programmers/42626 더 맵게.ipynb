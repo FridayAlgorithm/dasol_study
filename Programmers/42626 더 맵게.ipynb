{
 "cells": [
  {
   "cell_type": "markdown",
   "metadata": {},
   "source": [
    "# 더 맵게\n",
    "\n",
    "[더 맵게](https://programmers.co.kr/learn/courses/30/lessons/42626)\n",
    "\n",
    "- 모든 음식의 스코빌 지수를 K 이상으로 만들고 싶다.\n",
    "- 섞은 음식의 스코빌 지수 = 가장 맵지 않은 음식 + (두번째로 맵지 않은 음식 *2)\n",
    "- 모든 음식의 스코빌 지수가 K 이상이 될 때까지 반복하여 섞는다.\n",
    "- 가진 음식의 스코빌 지수가 주어질때 섞어야하는 최소 횟수를 반환하는 함수를 작성하라\n",
    "\n"
   ]
  },
  {
   "cell_type": "code",
   "execution_count": 21,
   "metadata": {},
   "outputs": [
    {
     "name": "stdout",
     "output_type": "stream",
     "text": [
      "2\n",
      "-1\n"
     ]
    }
   ],
   "source": [
    "import heapq\n",
    "\n",
    "def solution(scoville, K):\n",
    "    res=0\n",
    "    heap=[]\n",
    "    for i in (scoville):\n",
    "        heapq.heappush(heap, i)\n",
    "    while (len(heap)>1):\n",
    "        if (heap[0]>=K):\n",
    "            return res\n",
    "        res+=1\n",
    "        temp1=heapq.heappop(heap)\n",
    "        temp2=heapq.heappop(heap)\n",
    "        mix = temp1+(2*temp2)\n",
    "        heapq.heappush(heap, mix)\n",
    "    if (heap[0]>=K): return res\n",
    "    else: return -1\n",
    "\n",
    "print(solution([1, 2, 3, 9, 10, 12],7))\n",
    "print(solution([0,0,0,0],7))"
   ]
  },
  {
   "cell_type": "code",
   "execution_count": null,
   "metadata": {},
   "outputs": [],
   "source": []
  }
 ],
 "metadata": {
  "kernelspec": {
   "display_name": "Python 3",
   "language": "python",
   "name": "python3"
  },
  "language_info": {
   "codemirror_mode": {
    "name": "ipython",
    "version": 3
   },
   "file_extension": ".py",
   "mimetype": "text/x-python",
   "name": "python",
   "nbconvert_exporter": "python",
   "pygments_lexer": "ipython3",
   "version": "3.8.3"
  }
 },
 "nbformat": 4,
 "nbformat_minor": 4
}
