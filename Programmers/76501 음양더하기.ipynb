{
 "cells": [
  {
   "cell_type": "markdown",
   "metadata": {},
   "source": [
    "# 음양더하기\n",
    "\n",
    "[음양더하기](https://programmers.co.kr/learn/courses/30/lessons/76501)\n",
    "\n",
    "- 정수들의 절댓값을 담은 정수배열과 부호를 담은 불리언배열이 매개변수로 주어진다\n",
    "- 실제 정수들의 합을 구하여 반환하는 함수를 작성하라"
   ]
  },
  {
   "cell_type": "code",
   "execution_count": 3,
   "metadata": {},
   "outputs": [
    {
     "name": "stdout",
     "output_type": "stream",
     "text": [
      "9\n",
      "0\n"
     ]
    }
   ],
   "source": [
    "def solution(absolutes, signs):\n",
    "    res=0\n",
    "    for i in range(len(absolutes)):\n",
    "        if (signs[i]):\n",
    "            res+=absolutes[i]\n",
    "        else:\n",
    "            res-=absolutes[i]\n",
    "    return res\n",
    "\n",
    "print(solution([4,7,12], [True,False,True]))\n",
    "print(solution([1,2,3], [False,False,True]))"
   ]
  },
  {
   "cell_type": "code",
   "execution_count": null,
   "metadata": {},
   "outputs": [],
   "source": []
  }
 ],
 "metadata": {
  "kernelspec": {
   "display_name": "Python 3",
   "language": "python",
   "name": "python3"
  },
  "language_info": {
   "codemirror_mode": {
    "name": "ipython",
    "version": 3
   },
   "file_extension": ".py",
   "mimetype": "text/x-python",
   "name": "python",
   "nbconvert_exporter": "python",
   "pygments_lexer": "ipython3",
   "version": "3.8.3"
  }
 },
 "nbformat": 4,
 "nbformat_minor": 4
}
