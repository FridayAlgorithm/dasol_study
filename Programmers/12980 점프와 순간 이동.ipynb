{
 "cells": [
  {
   "cell_type": "markdown",
   "metadata": {},
   "source": [
    "# 점프와 순간 이동\n",
    "\n",
    "[문제로 이동](https://programmers.co.kr/learn/courses/30/lessons/12980)\n",
    "\n",
    "- 한번에 k칸을 앞으로 점프하거나 현재까지 온거리의 2배의 위치로 순간이동하는 수트를 개발하고 있다\n",
    "- 순간이동을 하면 건전지 사용량이 줄지 않고, 앞으로 이동하면 k만큼 건전지가 사용된다\n",
    "- 거리가 N만큼 떨어진 장소로 갈 때 건전지 사용량을 최소로하는 사용량을 반환하라"
   ]
  },
  {
   "cell_type": "code",
   "execution_count": 1,
   "metadata": {},
   "outputs": [
    {
     "name": "stdout",
     "output_type": "stream",
     "text": [
      "2\n",
      "2\n",
      "5\n"
     ]
    }
   ],
   "source": [
    "def solution(n):\n",
    "    battery=1\n",
    "    while True:\n",
    "        if (n==1):\n",
    "            break\n",
    "        if (n%2==0):\n",
    "            n=n//2\n",
    "        else:\n",
    "            n=(n-1)/2\n",
    "            battery+=1\n",
    "    return battery\n",
    "\n",
    "print(solution(5))\n",
    "print(solution(6))\n",
    "print(solution(5000))\n"
   ]
  },
  {
   "cell_type": "code",
   "execution_count": null,
   "metadata": {},
   "outputs": [],
   "source": [
    "#다른 사람 풀이..\n",
    "def solution(n):\n",
    "    return bin(n).count('1')"
   ]
  }
 ],
 "metadata": {
  "kernelspec": {
   "display_name": "Python 3",
   "language": "python",
   "name": "python3"
  },
  "language_info": {
   "codemirror_mode": {
    "name": "ipython",
    "version": 3
   },
   "file_extension": ".py",
   "mimetype": "text/x-python",
   "name": "python",
   "nbconvert_exporter": "python",
   "pygments_lexer": "ipython3",
   "version": "3.8.3"
  }
 },
 "nbformat": 4,
 "nbformat_minor": 4
}
