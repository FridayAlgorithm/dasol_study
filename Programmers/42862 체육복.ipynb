{
 "cells": [
  {
   "cell_type": "markdown",
   "metadata": {},
   "source": [
    "# 체육복\n",
    "\n",
    "[체육복](https://programmers.co.kr/learn/courses/30/lessons/42862)\n",
    "\n",
    "- 학생들의 번호는 체격 순으로, 바로 앞이나 뒤 학생에게만 체육복이 맞는다\n",
    "- 체육복을 적절히 빌려 최대한 많은 학생이 체육 수업을 들어야 한다.\n",
    "- 전체학생수, 도난당한 학생 번호, 여벌을 가진 학생 번호가 주어진다\n",
    "- 체육 수업을 들을 수 있는 최대 학생 수를 반환하는 함수를 작성하라"
   ]
  },
  {
   "cell_type": "code",
   "execution_count": 18,
   "metadata": {},
   "outputs": [
    {
     "name": "stdout",
     "output_type": "stream",
     "text": [
      "5\n",
      "4\n",
      "10\n",
      "6\n",
      "2\n",
      "3\n"
     ]
    }
   ],
   "source": [
    "def solution (n, lost, reserve):\n",
    "    for give in reserve:\n",
    "        if give in lost:\n",
    "            lost.remove(give)\n",
    "            reserve.remove(give)\n",
    "    \n",
    "    res=n-len(lost)\n",
    "    for i in lost:\n",
    "        if i in reserve:\n",
    "            #없으면 1,3,5,7 틀림\n",
    "            res+=1\n",
    "            reserve.remove(i)\n",
    "        elif (i-1) in reserve:\n",
    "            res+=1\n",
    "            reserve.remove(i-1)\n",
    "        elif (i+1) in reserve:\n",
    "            res+=1\n",
    "            reserve.remove(i+1)\n",
    "    return res\n",
    "\n",
    "print(solution(5, [2,4], [1,3,5]))\n",
    "print(solution(5, [2, 4], [3])) \n",
    "print(solution(10, [5, 7, 9], [1, 2, 3, 4, 6, 8]))\n",
    "print(solution(12, [1,2,3,4,8,9,10,11],[9,10]))     \n",
    "print(solution(2,[1,2],[1,2]))\n",
    "print(solution(4, [3, 1, 2], [2, 4, 3]))"
   ]
  },
  {
   "cell_type": "code",
   "execution_count": null,
   "metadata": {},
   "outputs": [],
   "source": []
  }
 ],
 "metadata": {
  "kernelspec": {
   "display_name": "Python 3",
   "language": "python",
   "name": "python3"
  },
  "language_info": {
   "codemirror_mode": {
    "name": "ipython",
    "version": 3
   },
   "file_extension": ".py",
   "mimetype": "text/x-python",
   "name": "python",
   "nbconvert_exporter": "python",
   "pygments_lexer": "ipython3",
   "version": "3.8.3"
  }
 },
 "nbformat": 4,
 "nbformat_minor": 4
}
