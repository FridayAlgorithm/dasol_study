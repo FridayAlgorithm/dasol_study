{
 "cells": [
  {
   "cell_type": "markdown",
   "metadata": {},
   "source": [
    "# 위장\n",
    "\n",
    "[위장](https://programmers.co.kr/learn/courses/30/lessons/42578)\n",
    "\n",
    "- 스파이들은 매일 다른 옷을 조합하여 자신을 위장\n",
    "- 스파이가 가진 의상 배열이 주어질 때 조합 수를 반환하는 함수를 작성하라"
   ]
  },
  {
   "cell_type": "code",
   "execution_count": 5,
   "metadata": {},
   "outputs": [
    {
     "name": "stdout",
     "output_type": "stream",
     "text": [
      "5\n",
      "3\n"
     ]
    }
   ],
   "source": [
    "def solution(clothes):    \n",
    "    hashMap={}\n",
    "    for c in clothes:\n",
    "        if c[1] not in hashMap:\n",
    "            hashMap[c[1]] = [c[0]]\n",
    "        else:\n",
    "            hashMap[c[1]].append(c[0])\n",
    "            \n",
    "    res=1\n",
    "    for key in hashMap:\n",
    "        res*=(len(hashMap[key])+1)\n",
    "    return res -1\n",
    "\n",
    "print(solution([[\"yellowhat\", \"headgear\"], \n",
    "                [\"bluesunglasses\", \"eyewear\"], \n",
    "                [\"green_turban\", \"headgear\"]]))\n",
    "print(solution([[\"crowmask\", \"face\"], \n",
    "                [\"bluesunglasses\", \"face\"], \n",
    "                [\"smoky_makeup\", \"face\"]]))"
   ]
  }
 ],
 "metadata": {
  "kernelspec": {
   "display_name": "Python 3",
   "language": "python",
   "name": "python3"
  },
  "language_info": {
   "codemirror_mode": {
    "name": "ipython",
    "version": 3
   },
   "file_extension": ".py",
   "mimetype": "text/x-python",
   "name": "python",
   "nbconvert_exporter": "python",
   "pygments_lexer": "ipython3",
   "version": "3.8.3"
  }
 },
 "nbformat": 4,
 "nbformat_minor": 4
}
