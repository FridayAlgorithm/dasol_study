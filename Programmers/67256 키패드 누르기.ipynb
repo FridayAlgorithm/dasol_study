{
 "cells": [
  {
   "cell_type": "markdown",
   "metadata": {},
   "source": [
    "# 키패드 누르기\n",
    "\n",
    "[키패드 누르기](https://programmers.co.kr/learn/courses/30/lessons/67256)\n",
    "\n",
    "- 전화 키패드를 왼손과 오른손의 엄지손가락을 이용하여 숫자를 입력하려고 한다\n",
    "- 맨 처음 왼손엄지는 *, 오른손엄지손가락은 #에서 시작한다\n",
    "- 엄지손가락을 움직이는 규칙은 다음과 같다\n",
    "   1. 엄지손가락은 상하좌우 4가지 방향으로만 이동가능하다\n",
    "   2. 1,4,7은 왼손, 3,6,9는 오른손을 이용한다\n",
    "   3. 2,5,8,0은 두 엄지손가락 중 더 가까운 엄지손가락을 사용한다 <br>\n",
    "      (거리가 같다면 오른손잡이는 오른손, 왼손잡이는 왼손을 사용한다)\n",
    "- 누를 번호가 담긴 배열과 왼손잡이, 오른손잡이인지 나타내는 문자열이 매개변수로 주어진다\n",
    "- 각 번호를 누를 손가락을 문자열 형태로 반환하라"
   ]
  },
  {
   "cell_type": "code",
   "execution_count": 2,
   "metadata": {},
   "outputs": [
    {
     "name": "stdout",
     "output_type": "stream",
     "text": [
      "LRLLLRLLRRL\n",
      "LRLLRRLLLRR\n",
      "LLRLLRLLRL\n"
     ]
    }
   ],
   "source": [
    "def solution(numbers, hand):\n",
    "    res = ''\n",
    "    leftFinger = '*'\n",
    "    rightFinger = '#'\n",
    "    numpad = {\n",
    "        1: (1, 1), 2: (2, 1), 3: (3, 1),\n",
    "        4: (1, 2), 5: (2, 2), 6: (3, 2),\n",
    "        7: (1, 3), 8: (2, 3), 9: (3, 3),\n",
    "        '*': (1, 4), 0: (2, 4), '#': (3, 4)\n",
    "    }\n",
    "    for number in numbers:\n",
    "        if number in [1, 4, 7]:\n",
    "            res += 'L'\n",
    "            leftFinger = number\n",
    "        elif number in [3, 6, 9]:\n",
    "            res += 'R'\n",
    "            rightFinger = number\n",
    "        else:\n",
    "            leftX = abs(numpad[number][0] - numpad[leftFinger][0])\n",
    "            leftY = abs(numpad[number][1] - numpad[leftFinger][1])\n",
    "            leftDistance = leftX + leftY\n",
    "            rightX = abs(numpad[number][0] - numpad[rightFinger][0])\n",
    "            rightY = abs(numpad[number][1] - numpad[rightFinger][1])\n",
    "            rightDistance = rightX + rightY\n",
    "            if leftDistance < rightDistance:\n",
    "                res += 'L'\n",
    "                leftFinger = number\n",
    "            elif leftDistance > rightDistance:\n",
    "                res += 'R'\n",
    "                rightFinger = number\n",
    "            elif leftDistance == rightDistance:\n",
    "                if hand == 'left':\n",
    "                    res += 'L'\n",
    "                    leftFinger = number\n",
    "                elif hand == 'right':\n",
    "                    res += 'R'\n",
    "                    rightFinger = number\n",
    "    return res\n",
    "\n",
    "print(solution([1, 3, 4, 5, 8, 2, 1, 4, 5, 9, 5], \"right\"))\n",
    "print(solution([7, 0, 8, 2, 8, 3, 1, 5, 7, 6, 2], \"left\"))\n",
    "print(solution([1, 2, 3, 4, 5, 6, 7, 8, 9, 0], \"right\"))"
   ]
  },
  {
   "cell_type": "code",
   "execution_count": null,
   "metadata": {},
   "outputs": [],
   "source": []
  }
 ],
 "metadata": {
  "kernelspec": {
   "display_name": "Python 3",
   "language": "python",
   "name": "python3"
  },
  "language_info": {
   "codemirror_mode": {
    "name": "ipython",
    "version": 3
   },
   "file_extension": ".py",
   "mimetype": "text/x-python",
   "name": "python",
   "nbconvert_exporter": "python",
   "pygments_lexer": "ipython3",
   "version": "3.8.3"
  }
 },
 "nbformat": 4,
 "nbformat_minor": 4
}
