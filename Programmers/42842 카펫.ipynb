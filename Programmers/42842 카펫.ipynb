{
 "cells": [
  {
   "cell_type": "markdown",
   "metadata": {},
   "source": [
    "# 카펫\n",
    "\n",
    "[카펫](https://programmers.co.kr/learn/courses/30/lessons/42842)\n",
    "\n",
    "- 중앙은 노란색, 테두리는 갈색으로 칠해져있는 격자 모양 카펫\n",
    "- 카펫의 갈색격자와 노란격자의 갯수를 할 때 카펫의 가로,세로 길이를 반환"
   ]
  },
  {
   "cell_type": "code",
   "execution_count": 2,
   "metadata": {},
   "outputs": [
    {
     "name": "stdout",
     "output_type": "stream",
     "text": [
      "[4, 3]\n",
      "[3, 3]\n",
      "[8, 6]\n"
     ]
    }
   ],
   "source": [
    "def solution(brown, yellow):\n",
    "    shape=[]\n",
    "    for i in range(1, yellow+1):\n",
    "        if (yellow%i==0):\n",
    "            shape.append(i)\n",
    "    \n",
    "    for i in range(len(shape)//2+1):\n",
    "        h=shape[i]; w=shape[-i-1]\n",
    "        if (((w+2)*(h+2)-yellow) == brown):\n",
    "            return [w+2, h+2]\n",
    "        \n",
    "print(solution(10,2))\n",
    "print(solution(8,1))\n",
    "print(solution(24,24))"
   ]
  },
  {
   "cell_type": "code",
   "execution_count": null,
   "metadata": {},
   "outputs": [],
   "source": []
  }
 ],
 "metadata": {
  "kernelspec": {
   "display_name": "Python 3",
   "language": "python",
   "name": "python3"
  },
  "language_info": {
   "codemirror_mode": {
    "name": "ipython",
    "version": 3
   },
   "file_extension": ".py",
   "mimetype": "text/x-python",
   "name": "python",
   "nbconvert_exporter": "python",
   "pygments_lexer": "ipython3",
   "version": "3.8.3"
  }
 },
 "nbformat": 4,
 "nbformat_minor": 4
}
