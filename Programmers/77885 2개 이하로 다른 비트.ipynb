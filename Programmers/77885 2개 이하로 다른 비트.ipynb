{
 "cells": [
  {
   "cell_type": "markdown",
   "metadata": {},
   "source": [
    "# 2개 이하로 다른 비트 \n",
    "\n",
    "[문제로 이동](https://programmers.co.kr/learn/courses/30/lessons/77885)\n",
    "\n",
    "- 양의 정수 x에 대한 f(x)는 다음과 같다\n",
    "  * x보다 크고 x와 비트가 1~2개 다른 수들 중에서 제일 작은 수\n",
    "  * (ex. f(2)=3, f(7)=11\n",
    "- 정수들이 담긴 배열 numbers가 주어질 때 각 수의 f값을 배열에 담아 반환하는 함수를 작성하라"
   ]
  },
  {
   "cell_type": "code",
   "execution_count": 35,
   "metadata": {},
   "outputs": [
    {
     "name": "stdout",
     "output_type": "stream",
     "text": [
      "[3, 11]\n"
     ]
    }
   ],
   "source": [
    "#테스트 10, 11 시간초과\n",
    "def solution(numbers):\n",
    "    answer=[]\n",
    "    for number in numbers:\n",
    "        binNum=bin(number); binNum=binNum[2:]\n",
    "        compareNum=number+1\n",
    "        while(True):\n",
    "            binCompare=bin(compareNum); binCompare=binCompare[2:]\n",
    "            if len(binCompare)!=len(binNum):\n",
    "                binNum='0'*(len(binCompare)-len(binNum))+binNum\n",
    "            differ=0\n",
    "            for i in range(len(binCompare)):\n",
    "                if (binCompare[i]!=binNum[i]):\n",
    "                    differ+=1\n",
    "            if (differ<=2):\n",
    "                answer.append(compareNum)\n",
    "                break\n",
    "            compareNum+=1\n",
    "    return answer\n",
    "\n",
    "print(solution([2,7]))"
   ]
  },
  {
   "cell_type": "code",
   "execution_count": 54,
   "metadata": {},
   "outputs": [
    {
     "name": "stdout",
     "output_type": "stream",
     "text": [
      "[3, 11]\n"
     ]
    }
   ],
   "source": [
    "def solution(numbers):\n",
    "    answer=[]\n",
    "    for number in numbers:\n",
    "        if (number%2==0):\n",
    "            answer.append(number+1)\n",
    "            continue\n",
    "        binNum=list('0'+bin(number)[2:])\n",
    "        for i in range(len(binNum)-1,-1,-1):\n",
    "            if(binNum[i]=='0'):\n",
    "                binNum[i]='1'\n",
    "                binNum[i+1]='0'\n",
    "                break\n",
    "        temp=int(''.join(binNum),2)\n",
    "        answer.append(temp)\n",
    "    return answer\n",
    "\n",
    "print(solution([2,7]))"
   ]
  },
  {
   "cell_type": "code",
   "execution_count": null,
   "metadata": {},
   "outputs": [],
   "source": []
  }
 ],
 "metadata": {
  "kernelspec": {
   "display_name": "Python 3",
   "language": "python",
   "name": "python3"
  },
  "language_info": {
   "codemirror_mode": {
    "name": "ipython",
    "version": 3
   },
   "file_extension": ".py",
   "mimetype": "text/x-python",
   "name": "python",
   "nbconvert_exporter": "python",
   "pygments_lexer": "ipython3",
   "version": "3.8.3"
  }
 },
 "nbformat": 4,
 "nbformat_minor": 4
}
