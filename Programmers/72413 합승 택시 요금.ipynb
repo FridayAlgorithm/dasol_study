{
 "cells": [
  {
   "cell_type": "markdown",
   "metadata": {},
   "source": [
    "# 합승 택시 요금\n",
    "\n",
    "[문제로 이동](https://programmers.co.kr/learn/courses/30/lessons/72413)\n",
    "\n",
    "- 무지는 어피치와 택시 합승을 적절히 이용하여 택시요금을 얼마나 아낄 수 있을 지 계산하고자 한다\n",
    "- 이동가능한 반경 사이의 택시 요금이 주어진다\n",
    "- 지점 개수, 출발지점과 도착지점, 택시 요금이 주어질 때 최저 예상 택시 요금을 계산하여 반환하라"
   ]
  },
  {
   "cell_type": "code",
   "execution_count": 12,
   "metadata": {},
   "outputs": [
    {
     "name": "stdout",
     "output_type": "stream",
     "text": [
      "82\n",
      "14\n",
      "18\n"
     ]
    }
   ],
   "source": [
    "def solution(n, s, a, b, fares):\n",
    "    maxDis=100001*len(fares)\n",
    "    answer = maxDis\n",
    "    distance=[[maxDis for _ in range(n+1)] for _ in range(n+1)]\n",
    "    for i in range(1,n+1):\n",
    "        distance[i][i]=0\n",
    "    for (start, end, weight) in fares:\n",
    "        distance[start][end]=weight\n",
    "        distance[end][start]=weight\n",
    "    \n",
    "    for k in range(1, n+1):\n",
    "        for i in range(1, n+1):\n",
    "            for j in range(1, n+1):\n",
    "                if (distance[i][j]>distance[i][k]+distance[k][j]):\n",
    "                    distance[i][j]=distance[i][k]+distance[k][j]\n",
    "    for i in range(1, n+1):\n",
    "        answer=min(answer,distance[s][i]+distance[i][a]+distance[i][b])\n",
    "    return answer\n",
    "\n",
    "\n",
    "print(solution(6,4,6,2,[[4, 1, 10], [3, 5, 24], [5, 6, 2], [3, 1, 41], [5, 1, 24], [4, 6, 50], [2, 4, 66], [2, 3, 22], [1, 6, 25]]))\n",
    "print(solution(7,3,4,1,[[5, 7, 9], [4, 6, 4], [3, 6, 1], [3, 2, 3], [2, 1, 6]]))\n",
    "print(solution(6,4,5,6,[[2,6,6], [6,3,7], [4,6,7], [6,5,11], [2,5,12], [5,3,20], [2,4,8], [4,3,9]]))"
   ]
  },
  {
   "cell_type": "code",
   "execution_count": null,
   "metadata": {},
   "outputs": [],
   "source": []
  }
 ],
 "metadata": {
  "kernelspec": {
   "display_name": "Python 3",
   "language": "python",
   "name": "python3"
  },
  "language_info": {
   "codemirror_mode": {
    "name": "ipython",
    "version": 3
   },
   "file_extension": ".py",
   "mimetype": "text/x-python",
   "name": "python",
   "nbconvert_exporter": "python",
   "pygments_lexer": "ipython3",
   "version": "3.8.3"
  }
 },
 "nbformat": 4,
 "nbformat_minor": 4
}
