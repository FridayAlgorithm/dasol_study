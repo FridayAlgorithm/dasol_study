{
 "cells": [
  {
   "cell_type": "markdown",
   "metadata": {},
   "source": [
    "# 괄호 회전하기\n",
    "\n",
    "[문제로 이동](https://programmers.co.kr/learn/courses/30/lessons/76502)\n",
    "\n",
    "- 다음 규칙을 지키는 문자열을 올바른 괄호 문자열이라고 한다\n",
    "  * (), {}, []은 모두 올바른 괄호 문자열이다\n",
    "  * A가 올바른 괄호 문자열이라면, (A), {A}, [A]도 올바른 괄호 문자열이다\n",
    "  * A, B가 올바른 괄호 문자열이면 AB도 올바른 괄호 문자열이다\n",
    "- 문자열 s가 매개변수로 주어질때 왼쪽으로 회전시 올바른 문자열이 되는 수를 반환하라"
   ]
  },
  {
   "cell_type": "code",
   "execution_count": 6,
   "metadata": {},
   "outputs": [
    {
     "name": "stdout",
     "output_type": "stream",
     "text": [
      "3\n",
      "2\n",
      "0\n",
      "0\n"
     ]
    }
   ],
   "source": [
    "def isCorrect(s):\n",
    "    pairDic={']':'[','}':'{',')':'('}\n",
    "    if (s[0] in [')','}',']']):\n",
    "        return False\n",
    "    stack=[]; recent=[]\n",
    "    for i in s:\n",
    "        if i in (['(','{','[']):\n",
    "            recent.append(i)\n",
    "            stack.append(i)\n",
    "        else:\n",
    "            if recent :\n",
    "                if (pairDic[i]==recent.pop()):\n",
    "                    stack.append(i)\n",
    "                else: return False\n",
    "            else: return False\n",
    "    if (len(stack)%2!=0):\n",
    "        return False\n",
    "    return True\n",
    "\n",
    "def solution(s):\n",
    "    answer=0\n",
    "    s=list(s)\n",
    "    if isCorrect(s):\n",
    "        answer+=1\n",
    "    for i in range(len(s)-1):\n",
    "        temp=s.pop(0)\n",
    "        s.append(temp)\n",
    "        if isCorrect(s):\n",
    "            answer+=1\n",
    "    return answer\n",
    "\n",
    "print(solution(\"[](){}\"))    \n",
    "print(solution(\"}]()[{\"))\n",
    "print(solution(\"[)(]\"))\n",
    "print(solution(\"}}}\"))"
   ]
  },
  {
   "cell_type": "code",
   "execution_count": null,
   "metadata": {},
   "outputs": [],
   "source": []
  }
 ],
 "metadata": {
  "kernelspec": {
   "display_name": "Python 3",
   "language": "python",
   "name": "python3"
  },
  "language_info": {
   "codemirror_mode": {
    "name": "ipython",
    "version": 3
   },
   "file_extension": ".py",
   "mimetype": "text/x-python",
   "name": "python",
   "nbconvert_exporter": "python",
   "pygments_lexer": "ipython3",
   "version": "3.8.3"
  }
 },
 "nbformat": 4,
 "nbformat_minor": 4
}
