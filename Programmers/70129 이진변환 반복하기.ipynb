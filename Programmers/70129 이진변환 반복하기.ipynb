{
 "cells": [
  {
   "cell_type": "markdown",
   "metadata": {},
   "source": [
    "# 이진변환 반복하기\n",
    "\n",
    "[문제로 이동](https://programmers.co.kr/learn/courses/30/lessons/70129)\n",
    "\n",
    "- 0과 1로 이루어진 문자열에 이진변환을 다음과 같이 정의한다\n",
    "  * x의 모든 0을 제거한다\n",
    "  * x의 길이를 c라고 할 때 x를 c를 2진법으로 표현한 문자열로 바꾼다\n",
    "- 0과 1로 이루어진 문자열 s가 매개변수로 주어진다\n",
    "- s가 1이 될때까지 이진변환의 횟수와 제거된 모든 0의 개수를 반환하라"
   ]
  },
  {
   "cell_type": "code",
   "execution_count": 37,
   "metadata": {},
   "outputs": [],
   "source": [
    "def solution(s):\n",
    "    answer=[]\n",
    "    zero=0; conversion=0\n",
    "    while (True):\n",
    "        if (s=='1'): break\n",
    "        conversion+=1\n",
    "        zero+=s.count('0')\n",
    "        s=s.replace('0','')\n",
    "        s=bin(len(s))[2:]\n",
    "    answer.append(conversion); answer.append(zero)\n",
    "    return answer"
   ]
  },
  {
   "cell_type": "code",
   "execution_count": 38,
   "metadata": {},
   "outputs": [
    {
     "name": "stdout",
     "output_type": "stream",
     "text": [
      "[3, 8]\n",
      "[3, 3]\n",
      "[4, 1]\n"
     ]
    }
   ],
   "source": [
    "# print(solution(\"0111010\"))\n",
    "print(solution(\"110010101001\")) #[3,8]\n",
    "print(solution(\"01110\"))        #[3,3]\n",
    "print(solution(\"1111111\"))      #\t[4,1]"
   ]
  },
  {
   "cell_type": "code",
   "execution_count": null,
   "metadata": {},
   "outputs": [],
   "source": []
  }
 ],
 "metadata": {
  "kernelspec": {
   "display_name": "Python 3",
   "language": "python",
   "name": "python3"
  },
  "language_info": {
   "codemirror_mode": {
    "name": "ipython",
    "version": 3
   },
   "file_extension": ".py",
   "mimetype": "text/x-python",
   "name": "python",
   "nbconvert_exporter": "python",
   "pygments_lexer": "ipython3",
   "version": "3.8.3"
  }
 },
 "nbformat": 4,
 "nbformat_minor": 4
}
