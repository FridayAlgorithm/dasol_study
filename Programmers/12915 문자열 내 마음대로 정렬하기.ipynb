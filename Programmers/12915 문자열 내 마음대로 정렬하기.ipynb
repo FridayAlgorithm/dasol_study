{
 "cells": [
  {
   "cell_type": "markdown",
   "metadata": {},
   "source": [
    "# 문자열 내 마음대로 정렬하기\n",
    "\n",
    "[문제로 이동](https://programmers.co.kr/learn/courses/30/lessons/12915)\n",
    "\n",
    "- 문자열 리스트와 정수 n이 주어질 때 인덱스 n번째 기준으로 정렬하려 한다\n",
    "- 문자열 리스트와 n이 주어질 때 정렬한 리스트를 반환하라"
   ]
  },
  {
   "cell_type": "code",
   "execution_count": 9,
   "metadata": {},
   "outputs": [
    {
     "name": "stdout",
     "output_type": "stream",
     "text": [
      "['car', 'bed', 'sun']\n",
      "['abcd', 'abce', 'cdx']\n"
     ]
    }
   ],
   "source": [
    "def solution(strings, n):\n",
    "    strings.sort()\n",
    "    strings.sort(key=lambda x:x[n])\n",
    "    return strings\n",
    "\n",
    "print(solution([\"sun\", \"bed\", \"car\"],1))\n",
    "print(solution([\"abce\", \"abcd\", \"cdx\"],2))"
   ]
  },
  {
   "cell_type": "code",
   "execution_count": null,
   "metadata": {},
   "outputs": [],
   "source": []
  }
 ],
 "metadata": {
  "kernelspec": {
   "display_name": "Python 3",
   "language": "python",
   "name": "python3"
  },
  "language_info": {
   "codemirror_mode": {
    "name": "ipython",
    "version": 3
   },
   "file_extension": ".py",
   "mimetype": "text/x-python",
   "name": "python",
   "nbconvert_exporter": "python",
   "pygments_lexer": "ipython3",
   "version": "3.8.3"
  }
 },
 "nbformat": 4,
 "nbformat_minor": 4
}
