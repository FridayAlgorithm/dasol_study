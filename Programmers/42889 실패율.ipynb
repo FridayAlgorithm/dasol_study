{
 "cells": [
  {
   "cell_type": "markdown",
   "metadata": {},
   "source": [
    "# 실패율\n",
    "\n",
    "[실패율](https://programmers.co.kr/learn/courses/30/lessons/42889)\n",
    "\n",
    "- 실패율 : 스테이지에 도달했으나 클리어하지 못한 플레이어 / 스테이지에 도달한 플레이어\n",
    "- 전체 스테이지의 개수와 사용자들의 스테이지 번호 배열이 주어질 때 실패율이 높은 스테이지부터 내림차순으로 반환하라"
   ]
  },
  {
   "cell_type": "code",
   "execution_count": 30,
   "metadata": {},
   "outputs": [
    {
     "name": "stdout",
     "output_type": "stream",
     "text": [
      "[3, 4, 2, 1, 5]\n",
      "[4, 1, 2, 3]\n"
     ]
    }
   ],
   "source": [
    "def solution(N, stages):\n",
    "    answer = []\n",
    "    failRate=[]\n",
    "    playerNum=len(stages)\n",
    "    for level in range(1,N+1) :\n",
    "        if playerNum !=0 :\n",
    "            fail=stages.count(level)/playerNum\n",
    "            playerNum-=stages.count(level)\n",
    "            failRate.append([level,fail])\n",
    "        else :\n",
    "            failRate.append([level,0])\n",
    "    failRate.sort(key=lambda x : (-x[1]))\n",
    "\n",
    "    for i in failRate:\n",
    "        answer.append(i[0])\n",
    "    return answer\n",
    "\n",
    "print(solution(5, [2, 1, 2, 6, 2, 4, 3, 3]))\n",
    "print(solution(4, [4,4,4,4,4]))"
   ]
  },
  {
   "cell_type": "code",
   "execution_count": null,
   "metadata": {},
   "outputs": [],
   "source": []
  }
 ],
 "metadata": {
  "kernelspec": {
   "display_name": "Python 3",
   "language": "python",
   "name": "python3"
  },
  "language_info": {
   "codemirror_mode": {
    "name": "ipython",
    "version": 3
   },
   "file_extension": ".py",
   "mimetype": "text/x-python",
   "name": "python",
   "nbconvert_exporter": "python",
   "pygments_lexer": "ipython3",
   "version": "3.8.3"
  }
 },
 "nbformat": 4,
 "nbformat_minor": 4
}
