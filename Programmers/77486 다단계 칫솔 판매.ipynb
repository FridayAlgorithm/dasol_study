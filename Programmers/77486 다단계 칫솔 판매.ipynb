{
 "cells": [
  {
   "cell_type": "markdown",
   "metadata": {},
   "source": [
    "# 다단계 칫솔 판매\n",
    "\n",
    "[문제로 이동](https://programmers.co.kr/learn/courses/30/lessons/77486)\n",
    "\n",
    "- 판매원 각각은 자신을 조직에 참여시킨 추천인에 연결되어 피라미드 구조를 이룬다\n",
    "- 모든 판매원은 칫솔 판매이익 10%를 추천인에게 배분하고 나머지는 자신이 가진다\n",
    "- 가입시킨 판매원에게서 발생하는 10% 또한 자신의 이익이 된다\n",
    "- 10%를 계산한 금액이 1원 미만인 경우에는 이득을 분해하지 않고 자신이 모두 가진다\n",
    "- 각 판매원과 판매원을 조직에 참여시킨 다른 판매원의 이름을 담은 배열, 판매량 집계 데이터, 판매수량이 주어질 때 각 판매원의 이익금을 나열한 배열을 반환하라"
   ]
  },
  {
   "cell_type": "code",
   "execution_count": 33,
   "metadata": {},
   "outputs": [
    {
     "name": "stdout",
     "output_type": "stream",
     "text": [
      "[360, 958, 108, 0, 450, 18, 180, 1080]\n"
     ]
    }
   ],
   "source": [
    "#테스트 11, 12, 13, 14 시간초과\n",
    "def solution(enroll, referral, seller, amount):\n",
    "    answer = [0]*len(enroll)    \n",
    "    for i, name in enumerate(seller):   \n",
    "        price=100*amount[i] \n",
    "        answer[enroll.index(name)] += price\n",
    "        \n",
    "        while referral[enroll.index(name)]!=\"-\":\n",
    "            answer[enroll.index(name)]-=price//10\n",
    "            name=referral[enroll.index(name)]\n",
    "            answer[enroll.index(name)]+=price//10\n",
    "            price=price//10\n",
    "            if price==0:\n",
    "                break\n",
    "        answer[enroll.index(name)]-=price//10\n",
    "    return answer\n",
    "\n",
    "print(solution([\"john\", \"mary\", \"edward\", \"sam\", \"emily\", \"jaimie\", \"tod\", \"young\"],\n",
    "              [\"-\", \"-\", \"mary\", \"edward\", \"mary\", \"mary\", \"jaimie\", \"edward\"],\n",
    "              [\"young\", \"john\", \"tod\", \"emily\", \"mary\"],\n",
    "              [12, 4, 2, 5, 10]))"
   ]
  },
  {
   "cell_type": "code",
   "execution_count": 40,
   "metadata": {},
   "outputs": [
    {
     "name": "stdout",
     "output_type": "stream",
     "text": [
      "[360, 958, 108, 0, 450, 18, 180, 1080]\n"
     ]
    }
   ],
   "source": [
    "#index 구하는 과정 dictionary 이용\n",
    "def solution(enroll, referral, seller, amount):\n",
    "    answer = [0]*len(enroll)\n",
    "    indexDic={}\n",
    "    for i,name in enumerate(enroll):\n",
    "        indexDic[name]=i\n",
    "        \n",
    "    for i, name in enumerate(seller):   \n",
    "        price=100*amount[i] \n",
    "        answer[indexDic[name]] += price\n",
    "        \n",
    "        while referral[indexDic[name]]!=\"-\":\n",
    "            answer[indexDic[name]]-=price//10\n",
    "            name=referral[indexDic[name]]\n",
    "            answer[indexDic[name]]+=price//10\n",
    "            price=price//10\n",
    "            if price==0:\n",
    "                break\n",
    "        answer[indexDic[name]]-=price//10\n",
    "    return answer\n",
    "\n",
    "print(solution([\"john\", \"mary\", \"edward\", \"sam\", \"emily\", \"jaimie\", \"tod\", \"young\"],\n",
    "              [\"-\", \"-\", \"mary\", \"edward\", \"mary\", \"mary\", \"jaimie\", \"edward\"],\n",
    "              [\"young\", \"john\", \"tod\", \"emily\", \"mary\"],\n",
    "              [12, 4, 2, 5, 10]))"
   ]
  },
  {
   "cell_type": "code",
   "execution_count": null,
   "metadata": {},
   "outputs": [],
   "source": []
  },
  {
   "cell_type": "code",
   "execution_count": 11,
   "metadata": {},
   "outputs": [
    {
     "name": "stdout",
     "output_type": "stream",
     "text": [
      "[0, 0, 0, 0, 0, 0, 0, 0]\n",
      "줘야할돈  120\n",
      "[0, 0, 120, 0, 0, 0, 0, 1080]\n",
      "[360, 0, 120, 0, 0, 0, 0, 1080]\n",
      "줘야할돈  20\n",
      "[360, 0, 120, 0, 0, 20, 180, 1080]\n",
      "줘야할돈  50\n",
      "[360, 50, 120, 0, 450, 20, 180, 1080]\n",
      "[360, 950, 120, 0, 450, 20, 180, 1080]\n"
     ]
    }
   ],
   "source": [
    "def solution(enroll, referral, seller, amount):\n",
    "    answer = [0]*len(enroll)\n",
    "    for i in range(len(seller)):\n",
    "        print(answer)\n",
    "        idx=enroll.index(seller[i])\n",
    "        if (referral[idx]!='-'):\n",
    "            giveIdx=enroll.index(referral[idx])\n",
    "            give=round((100*amount[i])*0.1)\n",
    "            if (give <1):\n",
    "                answer[idx]+=round(100*amount[i])\n",
    "            else:\n",
    "                answer[idx]+=round((100*amount[i])*(0.9))\n",
    "                answer[giveIdx]+=give\n",
    "        else:\n",
    "            answer[idx]+=round((100*amount[i])*(0.9))\n",
    "    return answer\n",
    "\n",
    "\n",
    "print(solution([\"john\", \"mary\", \"edward\", \"sam\", \"emily\", \"jaimie\", \"tod\", \"young\"],\n",
    "              [\"-\", \"-\", \"mary\", \"edward\", \"mary\", \"mary\", \"jaimie\", \"edward\"],\n",
    "              [\"young\", \"john\", \"tod\", \"emily\", \"mary\"],\n",
    "              [12, 4, 2, 5, 10]))\n",
    "\n",
    "# print(solution([\"john\", \"mary\", \"edward\", \"sam\", \"emily\", \"jaimie\", \"tod\", \"young\"],\n",
    "#               [\"-\", \"-\", \"mary\", \"edward\", \"mary\", \"mary\", \"jaimie\", \"edward\"],\n",
    "#               [\"sam\", \"emily\", \"jaimie\", \"edward\"],\n",
    "#               [2, 3, 5, 4]))"
   ]
  },
  {
   "cell_type": "code",
   "execution_count": 23,
   "metadata": {},
   "outputs": [
    {
     "name": "stdout",
     "output_type": "stream",
     "text": [
      "[400, 1000, 0, 0, 500, 0, 200, 1200]\n",
      "[400, 2092, 108, 0, 500, 0, 200, 1080]\n",
      "[760, 2092, 108, 0, 500, 0, 200, 1080]\n",
      "[760, 2274, 108, 0, 500, 18, 180, 1080]\n",
      "[760, 2774, 108, 0, 450, 18, 180, 1080]\n",
      "[760, 3674, 108, 0, 450, 18, 180, 1080]\n"
     ]
    }
   ],
   "source": [
    "def solution(enroll, referral, seller, amount):\n",
    "    answer=[0]*len(enroll)\n",
    "    for i, name in enumerate(seller):\n",
    "        answer[enroll.index(name)]=amount[i]*100\n",
    "    stack=[]\n",
    "    \n",
    "    for i, name in enumerate(seller):\n",
    "        print(answer)\n",
    "        stack.append(name)\n",
    "        while (stack):\n",
    "            cur=stack.pop()\n",
    "            idx=enroll.index(cur)\n",
    "            if (referral[idx]!='-'):\n",
    "                price=answer[idx]\n",
    "                answer[idx]=round(price*0.9)\n",
    "                answer[enroll.index(referral[idx])]+=round(price*0.1)\n",
    "                stack.append(referral[idx])\n",
    "            else:\n",
    "                answer[idx]+=round((100*amount[i])*0.9)\n",
    "    return answer\n",
    "\n",
    "\n",
    "print(solution([\"john\", \"mary\", \"edward\", \"sam\", \"emily\", \"jaimie\", \"tod\", \"young\"],\n",
    "              [\"-\", \"-\", \"mary\", \"edward\", \"mary\", \"mary\", \"jaimie\", \"edward\"],\n",
    "              [\"young\", \"john\", \"tod\", \"emily\", \"mary\"],\n",
    "              [12, 4, 2, 5, 10]))"
   ]
  },
  {
   "cell_type": "code",
   "execution_count": 25,
   "metadata": {},
   "outputs": [
    {
     "name": "stdout",
     "output_type": "stream",
     "text": [
      "[0, 0, 0, 0, 0, 0, 0, 0]\n",
      "[0, 1200, 1080, 0, 0, 0, 0, 1080]\n",
      "[360, 1200, 1080, 0, 0, 0, 0, 1080]\n",
      "[360, 1400, 1080, 0, 0, 180, 180, 1080]\n",
      "[360, 1900, 1080, 0, 450, 180, 180, 1080]\n",
      "[360, 2800, 1080, 0, 450, 180, 180, 1080]\n"
     ]
    }
   ],
   "source": [
    "def solution(enroll, referral, seller, amount):\n",
    "    answer=[0]*len(enroll)\n",
    "    stack=[]\n",
    "    \n",
    "    for i, name in enumerate(seller):\n",
    "        print(answer)\n",
    "        stack.append(name)\n",
    "        while (stack):\n",
    "            cur=stack.pop()\n",
    "            idx=enroll.index(cur)\n",
    "            if (referral[idx]!='-'):\n",
    "                price=amount[i]*100\n",
    "                answer[idx]=round(price*0.9)\n",
    "                answer[enroll.index(referral[idx])]+=round(price*0.1)\n",
    "                stack.append(referral[idx])\n",
    "            else:\n",
    "                answer[idx]+=round((100*amount[i])*0.9)\n",
    "    return answer\n",
    "\n",
    "print(solution([\"john\", \"mary\", \"edward\", \"sam\", \"emily\", \"jaimie\", \"tod\", \"young\"],\n",
    "              [\"-\", \"-\", \"mary\", \"edward\", \"mary\", \"mary\", \"jaimie\", \"edward\"],\n",
    "              [\"young\", \"john\", \"tod\", \"emily\", \"mary\"],\n",
    "              [12, 4, 2, 5, 10]))"
   ]
  },
  {
   "cell_type": "code",
   "execution_count": null,
   "metadata": {},
   "outputs": [],
   "source": []
  }
 ],
 "metadata": {
  "kernelspec": {
   "display_name": "Python 3",
   "language": "python",
   "name": "python3"
  },
  "language_info": {
   "codemirror_mode": {
    "name": "ipython",
    "version": 3
   },
   "file_extension": ".py",
   "mimetype": "text/x-python",
   "name": "python",
   "nbconvert_exporter": "python",
   "pygments_lexer": "ipython3",
   "version": "3.8.3"
  }
 },
 "nbformat": 4,
 "nbformat_minor": 4
}
