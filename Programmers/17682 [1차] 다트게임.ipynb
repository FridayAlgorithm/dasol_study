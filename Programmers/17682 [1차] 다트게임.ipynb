{
 "cells": [
  {
   "cell_type": "markdown",
   "metadata": {},
   "source": [
    "# [1차] 다트 게임\n",
    "\n",
    "[문제로 이동](https://programmers.co.kr/learn/courses/30/lessons/17682)\n",
    "\n",
    "- 다트게임은 총 3번의 기회로 구성된다\n",
    "- 각 기회마다 0점~10점까지 얻을 수 있다\n",
    "- 점수와 함께 Single, Double, Triple영역이 존재하고 영역 당첨시 1,2,3제곱 점수로 계산된다 (점수마다 하나씩 존재)\n",
    "- 옵션으로 *상, #상이 존재하면 *은 해담점수와 바로 전 얻은 점수를 2배로, #은 해당 점수가 마이너스가 된다\n",
    "- *의 효과는 중첩 가능하다. (#과 중첩시 점수는 -2배가 된다)\n",
    "- 문자열이 입력될 시 총 점수를 반환하는 함수를 작성하라"
   ]
  },
  {
   "cell_type": "code",
   "execution_count": 1,
   "metadata": {},
   "outputs": [
    {
     "name": "stdout",
     "output_type": "stream",
     "text": [
      "37\n",
      "9\n",
      "3\n",
      "23\n",
      "5\n",
      "-4\n",
      "59\n"
     ]
    }
   ],
   "source": [
    "def solution(dartResult):\n",
    "    dart=''\n",
    "    score=[]\n",
    "    for i in dartResult:\n",
    "        if (i.isdigit()):\n",
    "            dart+=i\n",
    "        elif i=='S':\n",
    "            dart=int(dart)**1\n",
    "            score.append(dart)\n",
    "            dart=''\n",
    "        elif i=='D':\n",
    "            dart=int(dart)**2\n",
    "            score.append(dart)\n",
    "            dart=''\n",
    "        elif i=='T':\n",
    "            dart=int(dart)**3\n",
    "            score.append(dart)\n",
    "            dart=''\n",
    "        elif i=='*':\n",
    "            if (len(score)>1):\n",
    "                score[-2]*=2\n",
    "                score[-1]*=2\n",
    "            else:\n",
    "                score[-1]*=2\n",
    "        elif i=='#':\n",
    "            score[-1]*=(-1)        \n",
    "    return sum(score)\n",
    "\n",
    "print(solution('1S2D*3T'))\n",
    "print(solution('1D2S#10S'))\n",
    "print(solution('1D2S0T'))\n",
    "print(solution('1S*2T*3S'))\n",
    "print(solution('1D#2S*3S'))\n",
    "print(solution('1T2D3D#'))\n",
    "print(solution('1D2S3T*'))"
   ]
  },
  {
   "cell_type": "code",
   "execution_count": null,
   "metadata": {},
   "outputs": [],
   "source": [
    "#다른 사람 풀이\n",
    "import re\n",
    "\n",
    "def solution(dartResult):\n",
    "    bonus = {'S' : 1, 'D' : 2, 'T' : 3}\n",
    "    option = {'' : 1, '*' : 2, '#' : -1}\n",
    "    p = re.compile('(\\d+)([SDT])([*#]?)')\n",
    "    dart = p.findall(dartResult)\n",
    "    for i in range(len(dart)):\n",
    "        if dart[i][2] == '*' and i > 0:\n",
    "            dart[i-1] *= 2\n",
    "        dart[i] = int(dart[i][0]) ** bonus[dart[i][1]] * option[dart[i][2]]\n",
    "\n",
    "    answer = sum(dart)\n",
    "    return answer"
   ]
  }
 ],
 "metadata": {
  "kernelspec": {
   "display_name": "Python 3",
   "language": "python",
   "name": "python3"
  },
  "language_info": {
   "codemirror_mode": {
    "name": "ipython",
    "version": 3
   },
   "file_extension": ".py",
   "mimetype": "text/x-python",
   "name": "python",
   "nbconvert_exporter": "python",
   "pygments_lexer": "ipython3",
   "version": "3.8.3"
  }
 },
 "nbformat": 4,
 "nbformat_minor": 4
}
