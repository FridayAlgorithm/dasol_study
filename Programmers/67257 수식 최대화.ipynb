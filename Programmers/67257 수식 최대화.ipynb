{
 "cells": [
  {
   "cell_type": "markdown",
   "metadata": {},
   "source": [
    "# 수식 최대화\n",
    "\n",
    "[문제 이동](https://programmers.co.kr/learn/courses/30/lessons/67257)\n",
    "\n",
    "- 수식은 연산자의 우선순위에 따라 결과가 달라질 수 있다\n",
    "- 연산수식이 담긴 문자열이 주어질 때 수식의 절댓값이 가장 크도록 함수를 완성하라\n"
   ]
  },
  {
   "cell_type": "code",
   "execution_count": 1,
   "metadata": {},
   "outputs": [
    {
     "name": "stdout",
     "output_type": "stream",
     "text": [
      "60420\n",
      "300\n"
     ]
    }
   ],
   "source": [
    "from itertools import permutations\n",
    "\n",
    "def solution(expression):\n",
    "    answer = 0\n",
    "    divideExpression=[]\n",
    "    tempNum=''\n",
    "    for i in range(len(expression)):\n",
    "        if (expression[i].isdigit()):  \n",
    "            tempNum += expression[i]\n",
    "        else:              \n",
    "            divideExpression.append(tempNum)\n",
    "            tempNum = ''\n",
    "            divideExpression.append(expression[i])\n",
    "    divideExpression.append(tempNum)  \n",
    "\n",
    "    operators = ['+', '-', '*']\n",
    "    for priorityOp in permutations(operators, 3):\n",
    "        copyEx = divideExpression.copy()  \n",
    "        for op in priorityOp:\n",
    "            index = 0  \n",
    "            while index < len(copyEx):\n",
    "                if copyEx[index] == op:\n",
    "                    if op == '-':\n",
    "                        res = int(copyEx[index-1]) - int(copyEx[index+1])\n",
    "                    elif op == '+':\n",
    "                        res = int(copyEx[index-1]) + int(copyEx[index+1])\n",
    "                    else:\n",
    "                        res = int(copyEx[index-1]) * int(copyEx[index+1])\n",
    "                    #계산값 다시 리스트에 넣어야한다\n",
    "                    copyEx = copyEx[:index-1] + list(str(res).split()) + copyEx[index+2:]\n",
    "                else:\n",
    "                    index += 1\n",
    "        answer=max(answer, abs(int(copyEx[0]))) \n",
    "    return answer\n",
    "\n",
    "\n",
    "print(solution(\"100-200*300-500+20\"))\n",
    "print(solution(\"50*6-3*2\"))"
   ]
  },
  {
   "cell_type": "code",
   "execution_count": null,
   "metadata": {},
   "outputs": [],
   "source": []
  }
 ],
 "metadata": {
  "kernelspec": {
   "display_name": "Python 3",
   "language": "python",
   "name": "python3"
  },
  "language_info": {
   "codemirror_mode": {
    "name": "ipython",
    "version": 3
   },
   "file_extension": ".py",
   "mimetype": "text/x-python",
   "name": "python",
   "nbconvert_exporter": "python",
   "pygments_lexer": "ipython3",
   "version": "3.8.3"
  }
 },
 "nbformat": 4,
 "nbformat_minor": 4
}
