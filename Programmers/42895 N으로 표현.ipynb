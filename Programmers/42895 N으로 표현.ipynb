{
 "cells": [
  {
   "cell_type": "markdown",
   "metadata": {},
   "source": [
    "# N으로 표현\n",
    "\n",
    "[문제로 이동](https://programmers.co.kr/learn/courses/30/lessons/42895)\n",
    "\n",
    "- 5와 사칙연산만으로 12를 표현할 수 있다.\n",
    "- 숫자 N과 number가 주어질 때 N과 사칙연산만 사용하여 표현할 수 있는 방법 중 N 사용 횟수의 최솟값을 반환하라"
   ]
  },
  {
   "cell_type": "code",
   "execution_count": 11,
   "metadata": {},
   "outputs": [
    {
     "name": "stdout",
     "output_type": "stream",
     "text": [
      "4\n",
      "3\n"
     ]
    }
   ],
   "source": [
    "def solution(N, number):\n",
    "    if (N==number): return 1\n",
    "    answer=-1\n",
    "    dp=[set() for _ in range(8)]\n",
    "    for i in range(8):\n",
    "        dp[i].add(int(str(N)*(i+1)))\n",
    "#     print('dp',dp)\n",
    "    for i in range(1, len(dp)):\n",
    "        for j in range(i):\n",
    "            for op1 in dp[j]:\n",
    "                for op2 in dp[i-j-1]:\n",
    "#                     print(\"op1 : \",op1,\"  op2 : \",op2)\n",
    "                    dp[i].add(op1+op2)\n",
    "                    dp[i].add(op1-op2)\n",
    "                    dp[i].add(op1*op2)\n",
    "                    if (op2!=0):\n",
    "                        dp[i].add(op1//op2)\n",
    "#         print('dp : ', dp)\n",
    "        if number in dp[i]:\n",
    "            answer=i+1\n",
    "            break\n",
    "    return answer\n",
    "\n",
    "print(solution(5, 12))\n",
    "print(solution(2, 11))"
   ]
  },
  {
   "cell_type": "code",
   "execution_count": null,
   "metadata": {},
   "outputs": [],
   "source": []
  }
 ],
 "metadata": {
  "kernelspec": {
   "display_name": "Python 3",
   "language": "python",
   "name": "python3"
  },
  "language_info": {
   "codemirror_mode": {
    "name": "ipython",
    "version": 3
   },
   "file_extension": ".py",
   "mimetype": "text/x-python",
   "name": "python",
   "nbconvert_exporter": "python",
   "pygments_lexer": "ipython3",
   "version": "3.8.3"
  }
 },
 "nbformat": 4,
 "nbformat_minor": 4
}
