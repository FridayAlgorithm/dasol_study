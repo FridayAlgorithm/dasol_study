{
 "cells": [
  {
   "cell_type": "markdown",
   "metadata": {},
   "source": [
    "# 조이스틱\n",
    "\n",
    "[조이스틱](https://programmers.co.kr/learn/courses/30/lessons/42860)\n",
    "\n",
    "▲ - 다음 알파벳 <br>\n",
    "▼ - 이전 알파벳 (A에서 아래쪽으로 이동하면 Z로) <br>\n",
    "◀ - 커서를 왼쪽으로 이동 (처음에서 왼쪽으로 이동하면 마지막문자) <br>\n",
    "▶ - 커서를 오른쪽으로 이동 <br>\n",
    "\n",
    "- 시작은 A로만 이루어져 있다.\n",
    "- 만들고자 하는 이름이 매개변수로 주어진다\n",
    "- 이름을 만들기위한 조이스틱 최소 조작 횟수를 반환하는 함수를 작성하라"
   ]
  },
  {
   "cell_type": "code",
   "execution_count": 26,
   "metadata": {},
   "outputs": [
    {
     "name": "stdout",
     "output_type": "stream",
     "text": [
      "46\n"
     ]
    }
   ],
   "source": [
    "#첫시작만 'A'\n",
    "#그 이후로는 바뀐 위치에서의 최소 이동찾아야한다.\n",
    "def solution(name):\n",
    "    cur = ord('A')\n",
    "    move=0\n",
    "    for i in name:\n",
    "        if (ord(i)-cur>=cur-ord(i)):\n",
    "            move+=ord(i)-cur\n",
    "            cur=ord(i)\n",
    "        else:\n",
    "            move+=cur-ord(i)\n",
    "            cur=ord(i)\n",
    "        move+=1\n",
    "    return move\n",
    "\n",
    "print(solution(\"JAZ\"))"
   ]
  },
  {
   "cell_type": "code",
   "execution_count": 50,
   "metadata": {},
   "outputs": [
    {
     "name": "stdout",
     "output_type": "stream",
     "text": [
      "11\n",
      "56\n",
      "23\n"
     ]
    }
   ],
   "source": [
    "def solution(name):\n",
    "    minMove=[]\n",
    "    for i in name:\n",
    "        minMove.append(min((ord(i)-ord('A'),ord('Z')-ord(i)+1)))\n",
    "    \n",
    "    index=0; move=0\n",
    "    while True:\n",
    "        move += minMove[index]\n",
    "        minMove[index] = 0\n",
    "        #print(\"minMove\",minMove)\n",
    "        if sum(minMove) ==0: \n",
    "            return move\n",
    "        left=1; right=1\n",
    "        for i in range(1, len(minMove)):\n",
    "            if (minMove[index+i]==0):\n",
    "                right+=1\n",
    "            else: break\n",
    "            if (minMove[index-i]==0):\n",
    "                left+=1\n",
    "            else: break\n",
    "        #print(\"right\", right, \"  left\",left, end=' ')\n",
    "                \n",
    "        if (left<right):\n",
    "            move+=left\n",
    "            index-=left\n",
    "        else:\n",
    "            move+=right\n",
    "            index+=right\n",
    "\n",
    "print(solution(\"JAZ\"))\n",
    "print(solution(\"JEROEN\"))\n",
    "print(solution(\"JAN\"))"
   ]
  },
  {
   "cell_type": "code",
   "execution_count": null,
   "metadata": {},
   "outputs": [],
   "source": []
  }
 ],
 "metadata": {
  "kernelspec": {
   "display_name": "Python 3",
   "language": "python",
   "name": "python3"
  },
  "language_info": {
   "codemirror_mode": {
    "name": "ipython",
    "version": 3
   },
   "file_extension": ".py",
   "mimetype": "text/x-python",
   "name": "python",
   "nbconvert_exporter": "python",
   "pygments_lexer": "ipython3",
   "version": "3.8.3"
  }
 },
 "nbformat": 4,
 "nbformat_minor": 4
}
