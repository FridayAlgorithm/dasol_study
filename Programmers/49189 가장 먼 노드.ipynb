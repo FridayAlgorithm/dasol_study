{
 "cells": [
  {
   "cell_type": "markdown",
   "metadata": {},
   "source": [
    "# 가장 먼 노드\n",
    "\n",
    "[문제로 이동](https://programmers.co.kr/learn/courses/30/lessons/49189)\n",
    "\n",
    "- n개의 노드가 있는 그래프가 있다 (각 노드는 번호가 적혀있다)\n",
    "- 1번 노드에서 가장 멀리 떨어진 노드의 갯수를 구하려고 한다.\n",
    "- 가장 멀리 떨어진 노드란 최단경로로 이동했을 때 간선의 수가 가장 많은 노드를 의미한다.\n",
    "- 노드의 개수와 간선에 대한 정보가 주어질 때 가장 멀리 떨어진 노드가 몇개인지를 반환하는 함수를 작성하라"
   ]
  },
  {
   "cell_type": "code",
   "execution_count": 4,
   "metadata": {},
   "outputs": [
    {
     "name": "stdout",
     "output_type": "stream",
     "text": [
      "3\n"
     ]
    }
   ],
   "source": [
    "def solution(n, edge):\n",
    "    answer = 0\n",
    "    distance=[-1 for _ in range(n+1)]\n",
    "    distance[1]=0\n",
    "    \n",
    "    node=[[] for _ in range(n+1)]\n",
    "    for [i,j] in edge:\n",
    "        node[i].append(j)\n",
    "        node[j].append(i)\n",
    "        \n",
    "    edges=[]\n",
    "    for i in node[1]:\n",
    "        edges.append((1,i))\n",
    "    while (edges):\n",
    "#         print('edges',edges)\n",
    "        top=edges.pop(0)\n",
    "        start, end=top[0],top[1]\n",
    "        if (distance[end]==-1):\n",
    "            distance[end]=distance[start]+1\n",
    "            for i in node[end]:\n",
    "                edges.append((end,i))\n",
    "    return distance.count(max(distance))\n",
    "\n",
    "\n",
    "print(solution(6, [[3, 6], [4, 3], [3, 2], [1, 3], [1, 2], [2, 4], [5, 2]]))"
   ]
  },
  {
   "cell_type": "code",
   "execution_count": null,
   "metadata": {},
   "outputs": [],
   "source": []
  }
 ],
 "metadata": {
  "kernelspec": {
   "display_name": "Python 3",
   "language": "python",
   "name": "python3"
  },
  "language_info": {
   "codemirror_mode": {
    "name": "ipython",
    "version": 3
   },
   "file_extension": ".py",
   "mimetype": "text/x-python",
   "name": "python",
   "nbconvert_exporter": "python",
   "pygments_lexer": "ipython3",
   "version": "3.8.3"
  }
 },
 "nbformat": 4,
 "nbformat_minor": 4
}
