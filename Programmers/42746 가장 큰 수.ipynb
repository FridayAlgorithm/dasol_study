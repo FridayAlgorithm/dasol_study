{
 "cells": [
  {
   "cell_type": "markdown",
   "metadata": {},
   "source": [
    "# 가장 큰 수\n",
    "\n",
    "[가장 큰 수](https://programmers.co.kr/learn/courses/30/lessons/42746)\n",
    "\n",
    "- 0 또는 양의 정수가 주어질 때 이어붙여 만들 수 있는 가장 큰 수를 알아내라\n",
    "- [6, 10, 2] => [6102, 6210, 1062, 1026, 2610, 2106] => 6210\n"
   ]
  },
  {
   "cell_type": "code",
   "execution_count": 25,
   "metadata": {},
   "outputs": [
    {
     "name": "stdout",
     "output_type": "stream",
     "text": [
      "6210\n",
      "9534330\n"
     ]
    }
   ],
   "source": [
    "#시간초과..\n",
    "from itertools import permutations as permut\n",
    "\n",
    "def solution(numbers):\n",
    "    able=list(permut(numbers, len(numbers)))\n",
    "    strArr=[]\n",
    "    for i in able:\n",
    "        strArr.append(''.join(map(str,i)))\n",
    "    return max(strArr)\n",
    "\n",
    "print(solution([6, 10, 2]))\n",
    "print(solution([3, 30, 34, 5, 9]))"
   ]
  },
  {
   "cell_type": "code",
   "execution_count": 31,
   "metadata": {},
   "outputs": [
    {
     "name": "stdout",
     "output_type": "stream",
     "text": [
      "6210\n",
      "9534330\n",
      "0\n"
     ]
    }
   ],
   "source": [
    "def solution(numbers):\n",
    "    #numbers의 요소 문자열로 변환\n",
    "    numbers = list(map(str,numbers)) \n",
    "    #앞의 숫자가 큰수대로 정렬\n",
    "    numbers.sort(key=lambda x: x * 3, reverse=True) \n",
    "    if sum(list(map(int,numbers))) == 0: \n",
    "        numbers = list(set(numbers))\n",
    "    return \"\".join(numbers)\n",
    "\n",
    "print(solution([6, 10, 2]))\n",
    "print(solution([3, 30, 34, 5, 9]))\n",
    "print(solution([0,0,0,0,0]))"
   ]
  },
  {
   "cell_type": "code",
   "execution_count": null,
   "metadata": {},
   "outputs": [],
   "source": []
  }
 ],
 "metadata": {
  "kernelspec": {
   "display_name": "Python 3",
   "language": "python",
   "name": "python3"
  },
  "language_info": {
   "codemirror_mode": {
    "name": "ipython",
    "version": 3
   },
   "file_extension": ".py",
   "mimetype": "text/x-python",
   "name": "python",
   "nbconvert_exporter": "python",
   "pygments_lexer": "ipython3",
   "version": "3.8.3"
  }
 },
 "nbformat": 4,
 "nbformat_minor": 4
}
