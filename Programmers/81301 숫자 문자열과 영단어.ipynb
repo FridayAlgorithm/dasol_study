{
 "cells": [
  {
   "cell_type": "markdown",
   "metadata": {},
   "source": [
    "# 숫자 문자열과 영단어\n",
    "\n",
    "[문제로 이동](https://programmers.co.kr/learn/courses/30/lessons/81301)\n",
    "\n",
    "- 네오가 프로도에게 숫자를 건낼 때 일부 자릿수를 영단어로 바꾼 카드를 건네주면 프로도는 원래 숫자를 찾는 게임입니다\n",
    "- 다음은 숫자의 일부 자릿수를 영단어로 바꾸는 예시이다\n",
    "  * 1478  -> one4seveneight\n",
    "  * 234567 -> 23four5six7\n",
    "  * 10203 -> 1zerotwozero3\n",
    "- 문자열 s가 주어질 때 s가 의미하는 원래 숫자를 반환하라"
   ]
  },
  {
   "cell_type": "code",
   "execution_count": 15,
   "metadata": {},
   "outputs": [
    {
     "name": "stdout",
     "output_type": "stream",
     "text": [
      "1478\n",
      "234567\n",
      "234567\n",
      "123\n"
     ]
    }
   ],
   "source": [
    "def solution(s):\n",
    "    answer = ''\n",
    "    idx=0\n",
    "    while(idx<len(s)):\n",
    "        if (s[idx].isdigit()):\n",
    "            answer+=s[idx]\n",
    "            idx+=1\n",
    "        elif (s[idx]=='z'):\n",
    "            answer+='0'\n",
    "            idx+=4\n",
    "        elif (s[idx]=='o'):\n",
    "            answer+='1'\n",
    "            idx+=3\n",
    "        elif (s[idx]=='e'):\n",
    "            answer+='8'\n",
    "            idx+=5\n",
    "        elif (s[idx]=='n'):\n",
    "            answer+='9'\n",
    "            idx+=4\n",
    "        elif (s[idx]=='t'):\n",
    "            if (s[idx+1]=='w'):\n",
    "                answer+='2'\n",
    "                idx+=3\n",
    "            else:\n",
    "                answer+='3'\n",
    "                idx+=5\n",
    "        elif (s[idx]=='f'):\n",
    "            if (s[idx+1]=='o'):\n",
    "                answer+='4'\n",
    "                idx+=4\n",
    "            else:\n",
    "                answer+='5'\n",
    "                idx+=4  \n",
    "        elif (s[idx]=='s'):\n",
    "            if (s[idx+1]=='i'):\n",
    "                answer+='6'\n",
    "                idx+=3\n",
    "            else:\n",
    "                answer+='7'\n",
    "                idx+=5      \n",
    "    return int(answer)\n",
    "\n",
    "print(solution(\"one4seveneight\"))\n",
    "print(solution(\"23four5six7\"))\n",
    "print(solution(\"2three45sixseven\"))\n",
    "print(solution(\"123\"))"
   ]
  },
  {
   "cell_type": "code",
   "execution_count": 16,
   "metadata": {},
   "outputs": [
    {
     "name": "stdout",
     "output_type": "stream",
     "text": [
      "1478\n",
      "234567\n",
      "234567\n",
      "123\n"
     ]
    }
   ],
   "source": [
    "def solution(s):\n",
    "    numDic={'zero':0,'one':1,'two':2,'three':3,'four':4,\n",
    "            'five':5,'six':6,'seven':7,'eight':8,'nine':9}\n",
    "    for n in numDic:\n",
    "        s=s.replace(n,str(numDic.get(n)))\n",
    "    return int(s)\n",
    "\n",
    "print(solution(\"one4seveneight\"))\n",
    "print(solution(\"23four5six7\"))\n",
    "print(solution(\"2three45sixseven\"))\n",
    "print(solution(\"123\"))"
   ]
  },
  {
   "cell_type": "code",
   "execution_count": null,
   "metadata": {},
   "outputs": [],
   "source": []
  }
 ],
 "metadata": {
  "kernelspec": {
   "display_name": "Python 3",
   "language": "python",
   "name": "python3"
  },
  "language_info": {
   "codemirror_mode": {
    "name": "ipython",
    "version": 3
   },
   "file_extension": ".py",
   "mimetype": "text/x-python",
   "name": "python",
   "nbconvert_exporter": "python",
   "pygments_lexer": "ipython3",
   "version": "3.8.3"
  }
 },
 "nbformat": 4,
 "nbformat_minor": 4
}
