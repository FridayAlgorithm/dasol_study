{
 "cells": [
  {
   "cell_type": "markdown",
   "metadata": {},
   "source": [
    "# 삼각달팽이\n",
    "\n",
    "[삼각달팽이](https://programmers.co.kr/learn/courses/30/lessons/68645)\n",
    "\n",
    "- 밑변의 길이와 높이가 n인 삼각형에서 달팽이 채우기를 진행한다\n",
    "- 첫 행부터 마지막 행까지 순서대로 합친 새로운 배열을 반환하라"
   ]
  },
  {
   "cell_type": "code",
   "execution_count": 1,
   "metadata": {},
   "outputs": [
    {
     "name": "stdout",
     "output_type": "stream",
     "text": [
      "[1, 0, 0, 0, 0, 2, 12, 0, 0, 0, 3, 13, 11, 0, 0, 4, 14, 15, 10, 0, 5, 6, 7, 8, 9]\n"
     ]
    }
   ],
   "source": [
    "from itertools import chain\n",
    "\n",
    "def solution(n):\n",
    "    res=[]\n",
    "    tri=[[0 for _ in range(n)] for _ in range(n)]\n",
    "    x=0; y=-1\n",
    "    num=1\n",
    "    for i in range(n):\n",
    "        for j in range(i,n):\n",
    "            if (i%3==0):\n",
    "                y+=1\n",
    "            elif (i%3==1):\n",
    "                x+=1\n",
    "            else:\n",
    "                y-=1; x-=1\n",
    "            tri[y][x]=num\n",
    "            num+=1\n",
    "    for i in chain(*tri):\n",
    "        if (i!=0):\n",
    "            res.append(i)\n",
    "    return res\n",
    "\n",
    "print(solution(5))"
   ]
  },
  {
   "cell_type": "code",
   "execution_count": null,
   "metadata": {},
   "outputs": [],
   "source": []
  }
 ],
 "metadata": {
  "kernelspec": {
   "display_name": "Python 3",
   "language": "python",
   "name": "python3"
  },
  "language_info": {
   "codemirror_mode": {
    "name": "ipython",
    "version": 3
   },
   "file_extension": ".py",
   "mimetype": "text/x-python",
   "name": "python",
   "nbconvert_exporter": "python",
   "pygments_lexer": "ipython3",
   "version": "3.8.3"
  }
 },
 "nbformat": 4,
 "nbformat_minor": 4
}
