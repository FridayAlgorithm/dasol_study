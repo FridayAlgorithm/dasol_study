{
 "cells": [
  {
   "cell_type": "markdown",
   "metadata": {},
   "source": [
    "# 3진법 뒤집기\n",
    "\n",
    "[3진법 뒤집기](https://programmers.co.kr/learn/courses/30/lessons/68935)\n",
    "\n",
    "- 자연수가 주어질 때 3진법 변환 후 뒤집는다\n",
    "- 뒤집은 수를 다시 10진법으로 표현하여 반환하는 함수를 작성하라"
   ]
  },
  {
   "cell_type": "code",
   "execution_count": 16,
   "metadata": {},
   "outputs": [
    {
     "name": "stdout",
     "output_type": "stream",
     "text": [
      "7\n",
      "229\n"
     ]
    }
   ],
   "source": [
    "from math import pow\n",
    "\n",
    "def solution(n):\n",
    "    answer=0\n",
    "    threeStr=\"\"\n",
    "    while(n!=0):\n",
    "        threeStr+=str(n%3)\n",
    "        n//=3\n",
    "    \n",
    "    for i in range(len(threeStr)-1,-1,-1):\n",
    "        answer+=int(pow(3,i))*int(threeStr[-(i+1)])\n",
    "    return answer\n",
    "\n",
    "\n",
    "print(solution(45))\n",
    "print(solution(125))"
   ]
  },
  {
   "cell_type": "code",
   "execution_count": null,
   "metadata": {},
   "outputs": [],
   "source": []
  }
 ],
 "metadata": {
  "kernelspec": {
   "display_name": "Python 3",
   "language": "python",
   "name": "python3"
  },
  "language_info": {
   "codemirror_mode": {
    "name": "ipython",
    "version": 3
   },
   "file_extension": ".py",
   "mimetype": "text/x-python",
   "name": "python",
   "nbconvert_exporter": "python",
   "pygments_lexer": "ipython3",
   "version": "3.8.3"
  }
 },
 "nbformat": 4,
 "nbformat_minor": 4
}
