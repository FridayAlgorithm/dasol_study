{
 "cells": [
  {
   "cell_type": "markdown",
   "metadata": {},
   "source": [
    "# 정수삼각형\n",
    "\n",
    "[문제로 이동](https://programmers.co.kr/learn/courses/30/lessons/43105)\n",
    "\n",
    "- 삼각형의 꼭대기에서 바닥까지 이어지는 경로 중 거쳐간 숫자의 합이 가장 큰 경우를 찾아보려고 한다. \n",
    "- 아래칸으로 이동시에는 대각선 오른쪽 또는 왼쪽으로만 이동 가능합니다.\n",
    "- 삼각형의 정보가 주어질 때 거쳐간 숫자의 최댓값을 반환하라"
   ]
  },
  {
   "cell_type": "code",
   "execution_count": 13,
   "metadata": {},
   "outputs": [
    {
     "name": "stdout",
     "output_type": "stream",
     "text": [
      "[7]\n",
      "[10, 15]\n",
      "[18, 16, 15]\n",
      "[20, 25, 20, 19]\n",
      "[24, 30, 27, 26, 24]\n",
      "30\n"
     ]
    }
   ],
   "source": [
    "def solution(triangle):\n",
    "    for i in range(1, len(triangle)):\n",
    "        for j in range(i+1):\n",
    "            if (j==0):\n",
    "                triangle[i][j]+=triangle[i-1][j]\n",
    "            elif (i==j):\n",
    "                triangle[i][j]+=triangle[i-1][j-1]\n",
    "            else:\n",
    "                triangle[i][j]+=max(triangle[i-1][j-1],triangle[i-1][j])\n",
    "    return max(triangle[-1])\n",
    "\n",
    "print(solution([[7], \n",
    "                [3, 8], \n",
    "                [8, 1, 0], \n",
    "                [2, 7, 4, 4], \n",
    "                [4, 5, 2, 6, 5]]))\n"
   ]
  },
  {
   "cell_type": "code",
   "execution_count": null,
   "metadata": {},
   "outputs": [],
   "source": []
  }
 ],
 "metadata": {
  "kernelspec": {
   "display_name": "Python 3",
   "language": "python",
   "name": "python3"
  },
  "language_info": {
   "codemirror_mode": {
    "name": "ipython",
    "version": 3
   },
   "file_extension": ".py",
   "mimetype": "text/x-python",
   "name": "python",
   "nbconvert_exporter": "python",
   "pygments_lexer": "ipython3",
   "version": "3.8.3"
  }
 },
 "nbformat": 4,
 "nbformat_minor": 4
}
