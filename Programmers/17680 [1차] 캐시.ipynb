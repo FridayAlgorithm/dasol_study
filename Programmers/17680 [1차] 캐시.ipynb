{
 "cells": [
  {
   "cell_type": "markdown",
   "metadata": {},
   "source": [
    "# [1차] 캐시\n",
    "\n",
    "[문제로 이동](https://programmers.co.kr/learn/courses/30/lessons/17680)\n",
    "\n",
    "- 제이지는 도시이름을 검색하면 관련되 맛집 게시물들을 보여주는 서비스를 개발중이다\n",
    "- 제이지는 성능 개선을 위한 캐시 크기가 얼마인지 몰라 난감한 상황\n",
    "- DB 캐시를 적용할 때 캐시 크기에 따른 실행시간 측정 프로그램을 작성하라\n",
    "- 캐시크기와 도시이름 배열이 주어진다\n",
    "- 도시 이름 배열을 순서대로 처리할 때 총 실행시간을 출력한다\n",
    "- 캐시 교체 알고리즘은 LRU (Least Recently Used)를 사용한다\n",
    "- cache hit일 경우 실행시간은 1, cache miss일 경우 실행시간은 5이다"
   ]
  },
  {
   "cell_type": "code",
   "execution_count": 40,
   "metadata": {},
   "outputs": [],
   "source": [
    "def solution(cacheSize, cities):\n",
    "    answer=0\n",
    "    cacheCity=[]\n",
    "    for city in cities:\n",
    "        #print(answer,'  캐시:',cacheCity)\n",
    "        city=city.upper()\n",
    "        if (len(cacheCity)<cacheSize):\n",
    "            if (city in cacheCity): answer+=1\n",
    "            else: answer+=5\n",
    "            cacheCity.append(city)\n",
    "            continue\n",
    "        if (city in cacheCity):\n",
    "            if (cacheCity):\n",
    "                cacheCity.remove(city)\n",
    "                cacheCity.append(city)\n",
    "            answer+=1\n",
    "        else:\n",
    "            if (cacheCity):\n",
    "                cacheCity.pop(0)\n",
    "                cacheCity.append(city)\n",
    "            answer+=5\n",
    "    return answer"
   ]
  },
  {
   "cell_type": "code",
   "execution_count": 45,
   "metadata": {},
   "outputs": [
    {
     "name": "stdout",
     "output_type": "stream",
     "text": [
      "50\n",
      "21\n",
      "60\n",
      "52\n",
      "16\n",
      "25\n",
      "7\n"
     ]
    }
   ],
   "source": [
    "print(solution(3, [\"Jeju\", \"Pangyo\", \"Seoul\", \"NewYork\", \"LA\", \"Jeju\", \"Pangyo\", \"Seoul\", \"NewYork\", \"LA\"]))\n",
    "print(solution(3, [\"Jeju\", \"Pangyo\", \"Seoul\", \"Jeju\", \"Pangyo\", \"Seoul\", \"Jeju\", \"Pangyo\", \"Seoul\"]))\n",
    "print(solution(2, [\"Jeju\", \"Pangyo\", \"Seoul\", \"NewYork\", \"LA\", \"SanFrancisco\", \"Seoul\", \"Rome\", \"Paris\", \"Jeju\", \"NewYork\", \"Rome\"]))\n",
    "print(solution(5, \t[\"Jeju\", \"Pangyo\", \"Seoul\", \"NewYork\", \"LA\", \"SanFrancisco\", \"Seoul\", \"Rome\", \"Paris\", \"Jeju\", \"NewYork\", \"Rome\"]))\n",
    "print(solution(2, [\"Jeju\", \"Pangyo\", \"NewYork\", \"newyork\"]))\n",
    "print(solution(0, [\"Jeju\", \"Pangyo\", \"Seoul\", \"NewYork\", \"LA\"]))\n",
    "print(solution(5, [\"Seoul\",\"Seoul\",\"Seoul\"]))"
   ]
  },
  {
   "cell_type": "code",
   "execution_count": 46,
   "metadata": {},
   "outputs": [],
   "source": [
    "def solution(cacheSize, cities):\n",
    "    import collections\n",
    "    cache = collections.deque(maxlen=cacheSize)\n",
    "    time = 0\n",
    "    for i in cities:\n",
    "        s = i.lower()\n",
    "        if s in cache:\n",
    "            cache.remove(s)\n",
    "            cache.append(s)\n",
    "            time += 1\n",
    "        else:\n",
    "            cache.append(s)\n",
    "            time += 5\n",
    "    return time"
   ]
  },
  {
   "cell_type": "code",
   "execution_count": 47,
   "metadata": {},
   "outputs": [
    {
     "name": "stdout",
     "output_type": "stream",
     "text": [
      "50\n",
      "21\n",
      "60\n",
      "52\n",
      "16\n",
      "25\n",
      "7\n"
     ]
    }
   ],
   "source": [
    "print(solution(3, [\"Jeju\", \"Pangyo\", \"Seoul\", \"NewYork\", \"LA\", \"Jeju\", \"Pangyo\", \"Seoul\", \"NewYork\", \"LA\"]))\n",
    "print(solution(3, [\"Jeju\", \"Pangyo\", \"Seoul\", \"Jeju\", \"Pangyo\", \"Seoul\", \"Jeju\", \"Pangyo\", \"Seoul\"]))\n",
    "print(solution(2, [\"Jeju\", \"Pangyo\", \"Seoul\", \"NewYork\", \"LA\", \"SanFrancisco\", \"Seoul\", \"Rome\", \"Paris\", \"Jeju\", \"NewYork\", \"Rome\"]))\n",
    "print(solution(5, \t[\"Jeju\", \"Pangyo\", \"Seoul\", \"NewYork\", \"LA\", \"SanFrancisco\", \"Seoul\", \"Rome\", \"Paris\", \"Jeju\", \"NewYork\", \"Rome\"]))\n",
    "print(solution(2, [\"Jeju\", \"Pangyo\", \"NewYork\", \"newyork\"]))\n",
    "print(solution(0, [\"Jeju\", \"Pangyo\", \"Seoul\", \"NewYork\", \"LA\"]))\n",
    "print(solution(5, [\"Seoul\",\"Seoul\",\"Seoul\"]))"
   ]
  },
  {
   "cell_type": "code",
   "execution_count": null,
   "metadata": {},
   "outputs": [],
   "source": []
  }
 ],
 "metadata": {
  "kernelspec": {
   "display_name": "Python 3",
   "language": "python",
   "name": "python3"
  },
  "language_info": {
   "codemirror_mode": {
    "name": "ipython",
    "version": 3
   },
   "file_extension": ".py",
   "mimetype": "text/x-python",
   "name": "python",
   "nbconvert_exporter": "python",
   "pygments_lexer": "ipython3",
   "version": "3.8.3"
  }
 },
 "nbformat": 4,
 "nbformat_minor": 4
}
