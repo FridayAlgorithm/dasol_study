{
 "cells": [
  {
   "cell_type": "markdown",
   "metadata": {},
   "source": [
    "# 입국심사\n",
    "\n",
    "[문제로 이동](https://programmers.co.kr/learn/courses/30/lessons/43238)\n",
    "\n",
    "- n명이 입국심사를 위해 기다리고 있고 각 입국심사대의 심사관마다 걸리는 시간은 다르다\n",
    "- 처음에 모든 심사대는 비어있다.\n",
    "- 모든 사람이 심사를 받는데 걸리는 시간을 최소로 하고 싶다\n",
    "- 기다리는 사람 수와 심사관이 걸리는 시간이 담긴 배열이 주어질 때 최소 시간을 반환하라"
   ]
  },
  {
   "cell_type": "code",
   "execution_count": 1,
   "metadata": {},
   "outputs": [
    {
     "name": "stdout",
     "output_type": "stream",
     "text": [
      "28\n"
     ]
    }
   ],
   "source": [
    "def solution(n, times):\n",
    "    answer = 0\n",
    "    left=1\n",
    "    right=((len(times)+1)*max(times))\n",
    "    \n",
    "    while(left<=right):\n",
    "        mid=(left+right)//2\n",
    "        finish=0\n",
    "        for t in times:\n",
    "            finish+=mid//t\n",
    "            if (finish>=n):\n",
    "                break\n",
    "        if (finish>=n):\n",
    "            answer=mid\n",
    "            right=mid-1\n",
    "        elif (finish<n):\n",
    "            left=mid+1\n",
    "    return answer\n",
    "\n",
    "print(solution(6, [7, 10]))"
   ]
  },
  {
   "cell_type": "code",
   "execution_count": null,
   "metadata": {},
   "outputs": [],
   "source": []
  }
 ],
 "metadata": {
  "kernelspec": {
   "display_name": "Python 3",
   "language": "python",
   "name": "python3"
  },
  "language_info": {
   "codemirror_mode": {
    "name": "ipython",
    "version": 3
   },
   "file_extension": ".py",
   "mimetype": "text/x-python",
   "name": "python",
   "nbconvert_exporter": "python",
   "pygments_lexer": "ipython3",
   "version": "3.8.3"
  }
 },
 "nbformat": 4,
 "nbformat_minor": 4
}
