{
 "cells": [
  {
   "cell_type": "markdown",
   "metadata": {},
   "source": [
    "# 이중우선순위큐\n",
    "\n",
    "[문제로 이동](https://programmers.co.kr/learn/courses/30/lessons/42628)\n",
    "\n",
    "- 우선순위큐는 다음 연산을 할 수 있는 자료구조를 말한다\n",
    "  * |숫자 : 큐에 주어진 숫자를 삽입\n",
    "  * D 1 : 큐에서 최댓값을 삭제\n",
    "  * D -1 : 큐에서 최솟값을 삭제\n",
    "- 우선순위 큐가 할 연산이 매개변수로 주어질 때 모든 연산을 처리한 후 큐가 비어있다면 [0, 0], 값이 있다면 [최댓값, 최솟값]을 반환하라"
   ]
  },
  {
   "cell_type": "code",
   "execution_count": 37,
   "metadata": {},
   "outputs": [
    {
     "name": "stdout",
     "output_type": "stream",
     "text": [
      "[0, 0]\n",
      "[0, 0]\n",
      "[7, 5]\n"
     ]
    }
   ],
   "source": [
    "import heapq\n",
    "\n",
    "def solution(operations):\n",
    "    minHeap, maxHeap=[],[]\n",
    "    for op in (operations):\n",
    "        if (op[0]=='I'):\n",
    "            heapq.heappush(minHeap,int(op[2:]))\n",
    "            heapq.heappush(maxHeap,[-int(op[2:]),int(op[2:])])\n",
    "        elif(op[0]=='D' and minHeap and maxHeap):\n",
    "            if (op[2]=='-'):\n",
    "                heapq.heappop(minHeap)\n",
    "                del(maxHeap[-1])\n",
    "            else:\n",
    "                heapq.heappop(maxHeap)\n",
    "                del(minHeap[-1])\n",
    "    if ((not minHeap) or (not maxHeap)):\n",
    "        return [0,0]\n",
    "    else: return [maxHeap[0][1],minHeap[0]]\n",
    "    \n",
    "\n",
    "print(solution(\t[\"I 16\", \"I -5643\", \"D -1\", \"D 1\", \"D 1\", \"I 123\", \"D -1\"]))\n",
    "print(solution([\"I 16\",\"D 1\"]))\n",
    "print(solution([\"I 7\",\"I 5\",\"I -5\",\"D -1\"]))"
   ]
  },
  {
   "cell_type": "code",
   "execution_count": null,
   "metadata": {},
   "outputs": [],
   "source": []
  }
 ],
 "metadata": {
  "kernelspec": {
   "display_name": "Python 3",
   "language": "python",
   "name": "python3"
  },
  "language_info": {
   "codemirror_mode": {
    "name": "ipython",
    "version": 3
   },
   "file_extension": ".py",
   "mimetype": "text/x-python",
   "name": "python",
   "nbconvert_exporter": "python",
   "pygments_lexer": "ipython3",
   "version": "3.8.3"
  }
 },
 "nbformat": 4,
 "nbformat_minor": 4
}
