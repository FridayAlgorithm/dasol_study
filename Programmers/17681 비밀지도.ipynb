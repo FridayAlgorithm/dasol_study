{
 "cells": [
  {
   "cell_type": "markdown",
   "metadata": {},
   "source": [
    "# 비밀지도\n",
    "\n",
    "[문제로 이동](https://programmers.co.kr/learn/courses/30/lessons/17681)\n",
    "\n",
    "- 네오는 프로도가 비상금을 숨겨놓은 비밀지도를 손에 넣었다\n",
    "- 비밀지도는 다음 해독 방법에 맞게 해독해야 한다\n",
    "  * 지도는 정사각형 배열 형태로 각 칸은 공백 또는 벽이다\n",
    "  * 전체 지도는 두 장의 지도를 겹쳐 얻을 수 있다. \n",
    "  * 두 장의 지도에서 모두 공백인 부분은 전체 지도에서도 공백이다\n",
    "  * 지도 1과 지도 2는 각각 정수 배열로 암호화되어있다\n",
    "  * 암호화된 배열은 지도의 각 가로줄에서 벽 부분을 1, 공백을 0으로 부호화했을 때 얻어지는 이진수에 해당하는 값의 배열이다\n",
    "- 네오가 프로도의 비상금을 훔칠수 있도록 도와줄 프로그램을 작성하라"
   ]
  },
  {
   "cell_type": "code",
   "execution_count": 49,
   "metadata": {},
   "outputs": [],
   "source": [
    "def conversion(length, number):\n",
    "    number=bin(number)[2:]\n",
    "    if (len(number)<length):\n",
    "        number='0'*(length-len(number))+number\n",
    "    return number\n",
    "\n",
    "def solution(n, arr1, arr2):\n",
    "    realMap=[]\n",
    "    map1=[]; map2=[];\n",
    "    for i,j in zip(arr1, arr2):\n",
    "        res=''\n",
    "        temp1=list(conversion(n,i))\n",
    "        temp2=list(conversion(n,j))\n",
    "        #print('temp1', temp1, '  temp2', temp2)\n",
    "        for k in range(n):\n",
    "            if (temp1[k]=='1' or temp2[k]=='1'):\n",
    "                res+='#'\n",
    "            else:\n",
    "                res+=' '\n",
    "        realMap.append(res)\n",
    "    return realMap"
   ]
  },
  {
   "cell_type": "code",
   "execution_count": 51,
   "metadata": {},
   "outputs": [
    {
     "name": "stdout",
     "output_type": "stream",
     "text": [
      "['#####', '# # #', '### #', '#  ##', '#####']\n",
      "['######', '###  #', '##  ##', ' #### ', ' #####', '### # ']\n"
     ]
    }
   ],
   "source": [
    "print(solution(5, [9, 20, 28, 18, 11], [30, 1, 21, 17, 28]))\n",
    "# [\"#####\",\"# # #\", \"### #\", \"# ##\", \"#####\"]\n",
    "print(solution(6, [46, 33, 33 ,22, 31, 50], [27 ,56, 19, 14, 14, 10]))\n",
    "# [\"######\", \"### #\", \"## ##\", \" #### \", \" #####\", \"### # \"]"
   ]
  },
  {
   "cell_type": "code",
   "execution_count": null,
   "metadata": {},
   "outputs": [],
   "source": [
    "# 다른 사람의 풀이\n",
    "# rjust(전체길이, 대체) 오른쪽정렬\n",
    "# 대체값을 설정하지 않을시 공백으로 채운다.\n",
    "def solution(n, arr1, arr2):\n",
    "    answer = []\n",
    "    for i,j in zip(arr1,arr2):\n",
    "        a12 = str(bin(i|j)[2:]) #2진수 구한후 or\n",
    "        a12=a12.rjust(n,'0')\n",
    "        a12=a12.replace('1','#')\n",
    "        a12=a12.replace('0',' ')\n",
    "        answer.append(a12)\n",
    "    return answer"
   ]
  }
 ],
 "metadata": {
  "kernelspec": {
   "display_name": "Python 3",
   "language": "python",
   "name": "python3"
  },
  "language_info": {
   "codemirror_mode": {
    "name": "ipython",
    "version": 3
   },
   "file_extension": ".py",
   "mimetype": "text/x-python",
   "name": "python",
   "nbconvert_exporter": "python",
   "pygments_lexer": "ipython3",
   "version": "3.8.3"
  }
 },
 "nbformat": 4,
 "nbformat_minor": 4
}
