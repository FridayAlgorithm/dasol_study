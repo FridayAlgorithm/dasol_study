{
 "cells": [
  {
   "cell_type": "markdown",
   "metadata": {},
   "source": [
    "# 오픈채팅방\n",
    "\n",
    "[오픈채팅방](https://programmers.co.kr/learn/courses/30/lessons/42888)\n",
    "\n",
    "- 오픈채팅방에는 가상의 닉네임을 사용하여 채팅방에 들어갈 수있다\n",
    "- 오픈채팅방 개설한 사람을 위해 관리자창을 만들고자한다.\n",
    "- 누군가 들어오면 \"[닉네임]님이 들어왔습니다\" 메시지를 출력한다\n",
    "- 누군가 나가면 \"[닉네임]님이 나갔습니다\" 메시지를 출력한다\n",
    "- 채팅방에서 닉네임을 변경하는 방법은 다음 두 가지이다\n",
    "  1. 채팅방을 나간 후 새로운 닉네임으로 다시 들어간다\n",
    "  2. 채팅방에서 닉네임을 변경한다\n",
    "- 채팅창 들어오거나 나가는 기록담긴 배열과 방을 개설한 사람이 보게되는 메시지를 문자열 배열로 반환하도록 함수를 작성하라"
   ]
  },
  {
   "cell_type": "code",
   "execution_count": 20,
   "metadata": {},
   "outputs": [
    {
     "name": "stdout",
     "output_type": "stream",
     "text": [
      "['Prodo님이 들어왔습니다.', 'Ryan님이 들어왔습니다.', 'Prodo님이 나갔습니다.', 'Prodo님이 들어왔습니다.']\n"
     ]
    }
   ],
   "source": [
    "def solution(record):\n",
    "    res=[]\n",
    "    nameDic={}\n",
    "    for string in record:\n",
    "        temp=list(string.split())\n",
    "        if (temp[0] != 'Leave'):\n",
    "            nameDic[temp[1]]=temp[2]\n",
    "    for s in record:\n",
    "        temp=list(s.split())\n",
    "        if (temp[0]=='Enter'):\n",
    "            res.append(nameDic[temp[1]]+'님이 들어왔습니다.')\n",
    "        elif (temp[0]=='Leave'):\n",
    "            res.append(nameDic[temp[1]]+'님이 나갔습니다.')\n",
    "    return res\n",
    "    \n",
    "\n",
    "print(solution([\"Enter uid1234 Muzi\", \n",
    "                \"Enter uid4567 Prodo\",\n",
    "                \"Leave uid1234\",\n",
    "                \"Enter uid1234 Prodo\",\n",
    "                \"Change uid4567 Ryan\"]))"
   ]
  },
  {
   "cell_type": "code",
   "execution_count": null,
   "metadata": {},
   "outputs": [],
   "source": []
  }
 ],
 "metadata": {
  "kernelspec": {
   "display_name": "Python 3",
   "language": "python",
   "name": "python3"
  },
  "language_info": {
   "codemirror_mode": {
    "name": "ipython",
    "version": 3
   },
   "file_extension": ".py",
   "mimetype": "text/x-python",
   "name": "python",
   "nbconvert_exporter": "python",
   "pygments_lexer": "ipython3",
   "version": "3.8.3"
  }
 },
 "nbformat": 4,
 "nbformat_minor": 4
}
