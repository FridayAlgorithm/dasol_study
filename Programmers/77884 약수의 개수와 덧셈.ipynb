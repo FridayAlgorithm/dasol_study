{
 "cells": [
  {
   "cell_type": "markdown",
   "metadata": {},
   "source": [
    "# 약수의 개수와 덧셈\n",
    "\n",
    "[약수의 개수와 덧셈](https://programmers.co.kr/learn/courses/30/lessons/77884)\n",
    "\n",
    "- 두 정수를 매개변수로 받는다\n",
    "- 두 수 사이 약수의 개수가 짝수면 더하고, 홀수면 뺀다\n",
    "- 결과를 반환하는 함수를 작성하라"
   ]
  },
  {
   "cell_type": "code",
   "execution_count": 7,
   "metadata": {},
   "outputs": [
    {
     "name": "stdout",
     "output_type": "stream",
     "text": [
      "43\n",
      "52\n"
     ]
    }
   ],
   "source": [
    "import math\n",
    "\n",
    "def getDivisorNum (num):\n",
    "    res=0\n",
    "    for i in range(1,num+1):\n",
    "        if (num%i==0):\n",
    "            res+=1\n",
    "    return res\n",
    "\n",
    "def solution(left, right):\n",
    "    res=0\n",
    "    for i in range(left, right+1):\n",
    "        if (getDivisorNum(i)%2==0):\n",
    "            res+=i\n",
    "        else:\n",
    "            res-=i\n",
    "    return res\n",
    "\n",
    "print(solution(13,17))\n",
    "print(solution(24,27))"
   ]
  },
  {
   "cell_type": "code",
   "execution_count": null,
   "metadata": {},
   "outputs": [],
   "source": []
  }
 ],
 "metadata": {
  "kernelspec": {
   "display_name": "Python 3",
   "language": "python",
   "name": "python3"
  },
  "language_info": {
   "codemirror_mode": {
    "name": "ipython",
    "version": 3
   },
   "file_extension": ".py",
   "mimetype": "text/x-python",
   "name": "python",
   "nbconvert_exporter": "python",
   "pygments_lexer": "ipython3",
   "version": "3.8.3"
  }
 },
 "nbformat": 4,
 "nbformat_minor": 4
}
