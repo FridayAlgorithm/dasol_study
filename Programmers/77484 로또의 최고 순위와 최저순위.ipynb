{
 "cells": [
  {
   "cell_type": "markdown",
   "metadata": {},
   "source": [
    "# 로또의 최고순위 최저순위\n",
    "\n",
    "[로또의 최고순위 최저순위](https://programmers.co.kr/learn/courses/30/lessons/77484)\n",
    "\n",
    "- 로또는 1~45까지의 숫자 중 6개를 찍어서 맞히는 복권이다\n",
    "- 로또의 순위는 다음과 같다\n",
    "\n",
    "|순위|당첨 내용|\n",
    "|:------:|:---:|\n",
    "|1등|6개 번호 모두 일치|\n",
    "|2등|5개 번호 일치|\n",
    "|3등|4개 번호 일치|\n",
    "|4등|3개 번호 일치|\n",
    "|5등|2개 번호 일치|\n",
    "|6등 (낙첨)|그 외|\n",
    "\n",
    "- 로또의 일부 번호를 알아볼 수 없게되었을 때 가능한 최고순위, 최저순위를 구해라\n",
    "- 로또 번호와 당첨 번호를 담은 배열이 매개변수로 주어질 때 최고, 최저 순위를 반환하는 함수를 작성하라\n",
    "- 0은 알아볼 수 없는 숫자를 의미한다"
   ]
  },
  {
   "cell_type": "code",
   "execution_count": 5,
   "metadata": {},
   "outputs": [
    {
     "name": "stdout",
     "output_type": "stream",
     "text": [
      "[3, 5]\n",
      "[1, 6]\n",
      "[1, 1]\n"
     ]
    }
   ],
   "source": [
    "def solution(lottos, win_nums):\n",
    "    lottoDic={2:5, 3:4, 4:3, 5:2, 6:1}\n",
    "    res=[]\n",
    "    zero=lottos.count(0)\n",
    "    correct=0\n",
    "    for i in lottos:\n",
    "        if i in win_nums:\n",
    "            correct+=1\n",
    "    maxNum=correct+zero\n",
    "    if (correct>=2):\n",
    "        res.append(lottoDic.get(maxNum))\n",
    "        res.append(lottoDic.get(correct))\n",
    "    else:\n",
    "        if (maxNum>=2):\n",
    "            res.append(lottoDic.get(maxNum))\n",
    "        else:\n",
    "            res.append(6)\n",
    "        res.append(6)\n",
    "    return res\n",
    "    \n",
    "\n",
    "print(solution([44, 1, 0, 0, 31, 25], [31, 10, 45, 1, 6, 19]))\n",
    "print(solution([0, 0, 0, 0, 0, 0], [38, 19, 20, 40, 15, 25]))\n",
    "print(solution([45, 4, 35, 20, 3, 9], [20, 9, 3, 45, 4, 35]))"
   ]
  },
  {
   "cell_type": "code",
   "execution_count": 6,
   "metadata": {},
   "outputs": [
    {
     "name": "stdout",
     "output_type": "stream",
     "text": [
      "(3, 5)\n",
      "(1, 6)\n",
      "(1, 1)\n"
     ]
    }
   ],
   "source": [
    "#다른 사람 풀이\n",
    "#리스트 인덱스 사용하니까 깔끔하네..\n",
    "\n",
    "def solution(lottos, win_nums):\n",
    "    rank=[6,6,5,4,3,2,1]\n",
    "\n",
    "    cnt_0 = lottos.count(0)\n",
    "    ans = 0\n",
    "    for x in win_nums:\n",
    "        if x in lottos:\n",
    "            ans += 1\n",
    "    return rank[cnt_0 + ans],rank[ans]\n",
    "\n",
    "print(solution([44, 1, 0, 0, 31, 25], [31, 10, 45, 1, 6, 19]))\n",
    "print(solution([0, 0, 0, 0, 0, 0], [38, 19, 20, 40, 15, 25]))\n",
    "print(solution([45, 4, 35, 20, 3, 9], [20, 9, 3, 45, 4, 35]))"
   ]
  },
  {
   "cell_type": "code",
   "execution_count": null,
   "metadata": {},
   "outputs": [],
   "source": []
  }
 ],
 "metadata": {
  "kernelspec": {
   "display_name": "Python 3",
   "language": "python",
   "name": "python3"
  },
  "language_info": {
   "codemirror_mode": {
    "name": "ipython",
    "version": 3
   },
   "file_extension": ".py",
   "mimetype": "text/x-python",
   "name": "python",
   "nbconvert_exporter": "python",
   "pygments_lexer": "ipython3",
   "version": "3.8.3"
  }
 },
 "nbformat": 4,
 "nbformat_minor": 4
}
