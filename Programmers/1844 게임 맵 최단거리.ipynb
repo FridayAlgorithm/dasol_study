{
 "cells": [
  {
   "cell_type": "markdown",
   "metadata": {},
   "source": [
    "# 게임 맵 최단거리\n",
    "\n",
    "[문제 이동](https://programmers.co.kr/learn/courses/30/lessons/1844)\n",
    "\n",
    "- 각 팀은 상대 팀 진영에 최대한 빨리 도착하여 진영을 파괴해야한다\n",
    "- 벽에 막혀 갈수 없는 길이 존재하며, 캐릭터는 동,서,남,북 한 칸씩 이동 가능하다\n",
    "- 게임 맵이 주어질 때 최단 이동 개수를 반환하는 함수를 작성하라\n",
    "- 상대 진영에 도착이 불가능할 때는 -1을 반환한다"
   ]
  },
  {
   "cell_type": "code",
   "execution_count": 1,
   "metadata": {},
   "outputs": [],
   "source": [
    "from collections import deque\n",
    "\n",
    "def solution(maps):\n",
    "    n=len(maps); m=len(maps[0])\n",
    "    dx=[1,-1,0,0]; dy=[0,0,1,-1]\n",
    "    visit=[[0 for _ in range(m)] for _ in range(n)]\n",
    "    visit[0][0]=1\n",
    "    que=deque([(0,0)])\n",
    "    count=0\n",
    "    while que:\n",
    "        x, y=que.popleft()\n",
    "        if (x==n-1 and y==m-1):\n",
    "            return visit[x][y]\n",
    "        for i in range(4):\n",
    "            nx,ny=x+dx[i],y+dy[i]\n",
    "            if (0<=nx<n and 0<=ny<m and visit[nx][ny]==0 and maps[x][y]==1):\n",
    "                visit[nx][ny]=visit[x][y]+1\n",
    "                que.append((nx,ny))\n",
    "    return -1"
   ]
  },
  {
   "cell_type": "code",
   "execution_count": 2,
   "metadata": {},
   "outputs": [
    {
     "name": "stdout",
     "output_type": "stream",
     "text": [
      "11\n",
      "-1\n"
     ]
    }
   ],
   "source": [
    "print(solution([[1,0,1,1,1],[1,0,1,0,1],[1,0,1,1,1],[1,1,1,0,1],[0,0,0,0,1]]))\n",
    "print(solution([[1,0,1,1,1],[1,0,1,0,1],[1,0,1,1,1],[1,1,1,0,0],[0,0,0,0,1]]))"
   ]
  },
  {
   "cell_type": "code",
   "execution_count": null,
   "metadata": {},
   "outputs": [],
   "source": []
  }
 ],
 "metadata": {
  "kernelspec": {
   "display_name": "Python 3",
   "language": "python",
   "name": "python3"
  },
  "language_info": {
   "codemirror_mode": {
    "name": "ipython",
    "version": 3
   },
   "file_extension": ".py",
   "mimetype": "text/x-python",
   "name": "python",
   "nbconvert_exporter": "python",
   "pygments_lexer": "ipython3",
   "version": "3.8.3"
  }
 },
 "nbformat": 4,
 "nbformat_minor": 4
}
