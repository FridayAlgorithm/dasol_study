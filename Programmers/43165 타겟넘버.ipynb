{
 "cells": [
  {
   "cell_type": "markdown",
   "metadata": {},
   "source": [
    "# 타겟넘버\n",
    "\n",
    "[타겟넘버](https://programmers.co.kr/learn/courses/30/lessons/43165)\n",
    "\n",
    "- n개의 음이 아닌 정수를 적절히 더하거나 빼서 타겟넘버를 만들고자 한다\n",
    "- [1 1 1 1 1]  => 5\n",
    "  - -1+1+1+1+1 = 3\n",
    "  - +1-1+1+1+1 = 3\n",
    "  - +1+1-1+1+1 = 3\n",
    "  - +1+1+1-1+1 = 3\n",
    "  - +1+1+1+1-1 = 3\n",
    "- 사용할 수 있는 숫자 배열과 타겟넘버가 주어질 때 경우의 수를 반환하라"
   ]
  },
  {
   "cell_type": "code",
   "execution_count": 1,
   "metadata": {},
   "outputs": [
    {
     "name": "stdout",
     "output_type": "stream",
     "text": [
      "5\n"
     ]
    }
   ],
   "source": [
    "res=0\n",
    "def dfs(idx, numbers, target, value):\n",
    "    global res\n",
    "    N = len(numbers)\n",
    "    if(idx== N and target == value):\n",
    "        res += 1\n",
    "        return\n",
    "    if(idx == N):\n",
    "        return\n",
    "    dfs(idx+1,numbers,target,value+numbers[idx])\n",
    "    dfs(idx+1,numbers,target,value-numbers[idx])\n",
    "    \n",
    "def solution(numbers, target):\n",
    "    global res\n",
    "    dfs(0,numbers,target,0)\n",
    "    return res\n",
    "\n",
    "print(solution([1, 1, 1, 1, 1], 3))"
   ]
  },
  {
   "cell_type": "code",
   "execution_count": null,
   "metadata": {},
   "outputs": [],
   "source": []
  }
 ],
 "metadata": {
  "kernelspec": {
   "display_name": "Python 3",
   "language": "python",
   "name": "python3"
  },
  "language_info": {
   "codemirror_mode": {
    "name": "ipython",
    "version": 3
   },
   "file_extension": ".py",
   "mimetype": "text/x-python",
   "name": "python",
   "nbconvert_exporter": "python",
   "pygments_lexer": "ipython3",
   "version": "3.8.3"
  }
 },
 "nbformat": 4,
 "nbformat_minor": 4
}
