{
 "cells": [
  {
   "cell_type": "markdown",
   "metadata": {},
   "source": [
    "# 불량 사용자\n",
    "\n",
    "[문제로 이동](https://programmers.co.kr/learn/courses/30/lessons/64064)\n",
    "\n",
    "- 무지는 비정상적인 당첨을 시도한 응모자들을 발견했다\n",
    "- 불량사용자 이름의 목록으로 당첨 처리시 제외하도록 만들고자 한다\n",
    "- 개인정보보호를 위해 사용자 id중 일부를 *로 가려서 전달한다\n",
    "- 응모자 아이디목록과 불량 사용자 아이디 목록이 담긴 배열이 매개변수로 주어질 때 당첨에서 제외되어야할 제재 아이디 목록의 경우의 수를 반환하라"
   ]
  },
  {
   "cell_type": "code",
   "execution_count": null,
   "metadata": {},
   "outputs": [],
   "source": []
  }
 ],
 "metadata": {
  "kernelspec": {
   "display_name": "Python 3",
   "language": "python",
   "name": "python3"
  },
  "language_info": {
   "codemirror_mode": {
    "name": "ipython",
    "version": 3
   },
   "file_extension": ".py",
   "mimetype": "text/x-python",
   "name": "python",
   "nbconvert_exporter": "python",
   "pygments_lexer": "ipython3",
   "version": "3.8.3"
  }
 },
 "nbformat": 4,
 "nbformat_minor": 4
}
