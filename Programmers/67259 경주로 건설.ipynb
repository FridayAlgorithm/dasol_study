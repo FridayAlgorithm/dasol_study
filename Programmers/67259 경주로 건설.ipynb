{
 "cells": [
  {
   "cell_type": "markdown",
   "metadata": {},
   "source": [
    "# 경주로 건설\n",
    "\n",
    "[문제로 이동](https://programmers.co.kr/learn/courses/30/lessons/67259)\n",
    "\n",
    "- 경주로는 N\\*N크기의 정사각형 격자 형태이며 각 격자는 1\\*1 크기이다\n",
    "- 설계 도면의 0은 비어있음을, 1은 벽으로 채워져있음을 나타낸다\n",
    "- 죠르디는 (0,0)에서 (N-1,N-1)까지 끊기지 않도록 경주로를 건설해야한다\n",
    "- 상하좌우를 연결하는 경주로를 직선도로, 서로 직각으로 만나는 지점을 코너라고 부른다.\n",
    "- 직선도로는 100원, 코너를 만들 때는 500원 비용이 발생한다\n",
    "- 경주로 건설을 위한 최소 비용을 계산하라"
   ]
  },
  {
   "cell_type": "code",
   "execution_count": 12,
   "metadata": {},
   "outputs": [
    {
     "name": "stdout",
     "output_type": "stream",
     "text": [
      "900\n",
      "3800\n",
      "2100\n",
      "3200\n"
     ]
    }
   ],
   "source": [
    "import sys\n",
    "from collections import deque\n",
    "\n",
    "def solution(board):\n",
    "    def BFS(start):\n",
    "        answer=sys.maxsize\n",
    "        dx=[-1,0,1,0]; dy=[0,1,0,-1]\n",
    "        N=len(board)\n",
    "        costArr=[[sys.maxsize]*N for _ in range(N)]\n",
    "        costArr[0][0]=0\n",
    "\n",
    "        queue=deque([start])\n",
    "        while (queue):\n",
    "            x,y,cost,direction=queue.popleft()\n",
    "            for i in range(4):\n",
    "                nx=x+dx[i]\n",
    "                ny=y+dy[i]\n",
    "\n",
    "                if (0<=nx<N and 0<=ny<N and board[nx][ny]==0):\n",
    "                    if (i==direction):\n",
    "                        nowCost=cost+100\n",
    "                    else:\n",
    "                        nowCost=cost+600\n",
    "                    if (nowCost<costArr[nx][ny]):\n",
    "                        costArr[nx][ny]=nowCost\n",
    "                        queue.append([nx,ny,nowCost,i])\n",
    "        return costArr[-1][-1]\n",
    "    return min([BFS((0,0,0,1)),BFS((0,0,0,2))])\n",
    "\n",
    "\n",
    "print(solution([[0,0,0],[0,0,0],[0,0,0]]))\n",
    "print(solution([[0,0,0,0,0,0,0,1],\n",
    "                [0,0,0,0,0,0,0,0],\n",
    "                [0,0,0,0,0,1,0,0],\n",
    "                [0,0,0,0,1,0,0,0],\n",
    "                [0,0,0,1,0,0,0,1],\n",
    "                [0,0,1,0,0,0,1,0],\n",
    "                [0,1,0,0,0,1,0,0],\n",
    "                [1,0,0,0,0,0,0,0]]))\n",
    "print(solution([[0,0,1,0],\n",
    "                [0,0,0,0],\n",
    "                [0,1,0,1],\n",
    "                [1,0,0,0]]))\n",
    "print(solution([[0,0,0,0,0,0],\n",
    "                [0,1,1,1,1,0],\n",
    "                [0,0,1,0,0,0],\n",
    "                [1,0,0,1,0,1],\n",
    "                [0,1,0,0,0,1],\n",
    "                [0,0,0,0,0,0]]))"
   ]
  },
  {
   "cell_type": "code",
   "execution_count": null,
   "metadata": {},
   "outputs": [],
   "source": [
    "def solution(board):\n",
    "    dx=[0,1,-1,0]; dy=[-1,0,0,1]\n",
    "    N=len(board)\n",
    "    arr=[[[sys.maxsize]*4 for _ in range(N)] for _ in range(N)]\n",
    "    queue=deque()\n",
    "    queue.append([0,0,-1])\n",
    "    arr[0][0]=[0,0,0,0]\n",
    "    \n",
    "    while (queue):\n",
    "        x,y,direction=queue.popleft()\n",
    "        for i in range(4):\n",
    "            if i+direction==3:\n",
    "                continue\n",
    "            nx=x+dx[i]\n",
    "            ny=y+dy[i]\n",
    "            cost=100\n",
    "            if i!=direction and direction !=-1:\n",
    "                cost+=500\n",
    "            if (0<=nx<N and 0<=ny<N and board[nx][ny]!=1 and arr[nx][ny][i]>cost+arr[x][y][direction]):\n",
    "                arr[nx][ny][i]=cost+arr[x][y][direction]\n",
    "                queue.append([nx,ny,i])\n",
    "    return min(arr[N-1][N-1])"
   ]
  },
  {
   "cell_type": "code",
   "execution_count": null,
   "metadata": {},
   "outputs": [],
   "source": []
  }
 ],
 "metadata": {
  "kernelspec": {
   "display_name": "Python 3",
   "language": "python",
   "name": "python3"
  },
  "language_info": {
   "codemirror_mode": {
    "name": "ipython",
    "version": 3
   },
   "file_extension": ".py",
   "mimetype": "text/x-python",
   "name": "python",
   "nbconvert_exporter": "python",
   "pygments_lexer": "ipython3",
   "version": "3.8.3"
  }
 },
 "nbformat": 4,
 "nbformat_minor": 4
}
