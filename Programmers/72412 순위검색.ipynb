{
 "cells": [
  {
   "cell_type": "markdown",
   "metadata": {},
   "source": [
    "# 순위 검색\n",
    "\n",
    "[순위검색](https://programmers.co.kr/learn/courses/30/lessons/72412)\n",
    "\n",
    "- 개발언어, 지원직군, 경력구분, 소울푸드를 선택해야 한다\n",
    "- 코테 결과를 분석하여 지원 조건에 맞는 지원자가 몇명인지 알 수 있는 도구 만들고자 한다\n",
    "- 지원서의 4가지 정보와 코딩테스트 점수가 주어질 때 조건에 맞는 사람수를 반환하는 함수를 작성하라"
   ]
  },
  {
   "cell_type": "code",
   "execution_count": 4,
   "metadata": {},
   "outputs": [
    {
     "name": "stdout",
     "output_type": "stream",
     "text": [
      "[1, 1, 1, 1, 2, 4]\n"
     ]
    }
   ],
   "source": [
    "from itertools import combinations\n",
    "\n",
    "def solution(info, query):\n",
    "    answer = []\n",
    "    db = {}\n",
    "    for i in info:                   \n",
    "        temp = i.split()\n",
    "        conditions = temp[:-1]       # 점수 제외 조건들만 모으고, 점수 따로\n",
    "        score = int(temp[-1])  \n",
    "        for n in range(5):           # 조건들에 대해 조합을 이용해서  \n",
    "            combi = list(combinations(range(4), n))\n",
    "            for c in combi:\n",
    "                t_c = conditions.copy()\n",
    "                for v in c:          # '-'를 포함한 새로운 조건을 만들어냄.\n",
    "                    t_c[v] = '-'\n",
    "                changed_t_c = '/'.join(t_c)\n",
    "                if changed_t_c in db:     # 모든 조건의 경우에 수에 대해 딕셔너리\n",
    "                    db[changed_t_c].append(score)\n",
    "                else:\n",
    "                    db[changed_t_c] = [score]\n",
    "\n",
    "    for value in db.values():             # 딕셔너리 내 모든 값 정렬\n",
    "        value.sort()\n",
    " \n",
    "    for q in query:                       # query의 모든 조건에 대해서\n",
    "        qry = [i for i in q.split() if i != 'and']\n",
    "        qry_cnd = '/'.join(qry[:-1])\n",
    "        qry_score = int(qry[-1])\n",
    "        if qry_cnd in db:                 # 딕셔너리 내에 값이 존재한다면,\n",
    "            data = db[qry_cnd]\n",
    "            if len(data) > 0:          \n",
    "                start, end = 0, len(data)     # lower bound 알고리즘 통해 인덱스 찾고,\n",
    "                while start != end and start != len(data):\n",
    "                    if data[(start + end) // 2] >= qry_score:\n",
    "                        end = (start + end) // 2\n",
    "                    else:\n",
    "                        start = (start + end) // 2 + 1\n",
    "                answer.append(len(data) - start)      # 해당 인덱스부터 끝까지의 갯수가 정답\n",
    "        else:\n",
    "            answer.append(0)\n",
    "\n",
    "    return answer\n",
    "\n",
    "print(solution([\"java backend junior pizza 150\",\"python frontend senior chicken 210\",\"python frontend senior chicken 150\",\"cpp backend senior pizza 260\",\"java backend junior chicken 80\",\"python backend senior chicken 50\"],\n",
    "              [\"java and backend and junior and pizza 100\",\"python and frontend and senior and chicken 200\",\"cpp and - and senior and pizza 250\",\"- and backend and senior and - 150\",\"- and - and - and chicken 100\",\"- and - and - and - 150\"]))\n"
   ]
  },
  {
   "cell_type": "code",
   "execution_count": null,
   "metadata": {},
   "outputs": [],
   "source": []
  }
 ],
 "metadata": {
  "kernelspec": {
   "display_name": "Python 3",
   "language": "python",
   "name": "python3"
  },
  "language_info": {
   "codemirror_mode": {
    "name": "ipython",
    "version": 3
   },
   "file_extension": ".py",
   "mimetype": "text/x-python",
   "name": "python",
   "nbconvert_exporter": "python",
   "pygments_lexer": "ipython3",
   "version": "3.8.3"
  }
 },
 "nbformat": 4,
 "nbformat_minor": 4
}
