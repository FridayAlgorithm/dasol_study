{
 "cells": [
  {
   "cell_type": "markdown",
   "metadata": {},
   "source": [
    "# 베스트앨범\n",
    "\n",
    "[베스트 앨범](https://programmers.co.kr/learn/courses/30/lessons/42579)\n",
    "\n",
    "- 스트리밍 사이트에서 장르 별로 가장 많이 재생된 노래를 모아 베스트 앨범을 출시하고자 한다\n",
    "   * 속한 노래가 많이 재생된 장르를 먼저 수록한다\n",
    "   * 장르 내에서 많이 재생된 노래를 먼저 수록한다\n",
    "   * 재생 횟수가 같은 노래 중에서는 고유 번호가 낮은 노래를 먼저 수록한다\n",
    "- 장르 나타내는 배열과 노래별 재생 횟수 배열이 주어질 때 베스트 앨범에 들어갈 노래의 고유번호를 반환하도록 함수를 작성하라"
   ]
  },
  {
   "cell_type": "code",
   "execution_count": 4,
   "metadata": {},
   "outputs": [
    {
     "name": "stdout",
     "output_type": "stream",
     "text": [
      "[4, 1, 3, 0]\n"
     ]
    }
   ],
   "source": [
    "def solution(genres, plays):\n",
    "    answer=[]\n",
    "    songDic={}\n",
    "    for i in range(len(genres)):\n",
    "        if genres[i] not in songDic.keys():\n",
    "            songDic[genres[i]]={'total':plays[i],i:plays[i]}\n",
    "        else:\n",
    "            songDic[genres[i]]['total']+=plays[i]\n",
    "            songDic[genres[i]][i]=plays[i]\n",
    "    sortDic=sorted(songDic.items(),key=lambda x:x[1]['total'],reverse=True)\n",
    "#     print(sortDic)\n",
    "    for i in range(len(sortDic)):\n",
    "        genreDic=sortDic[i][1]\n",
    "        sortSong=sorted(genreDic.items(), key=lambda x:x[1], reverse=True)\n",
    "\n",
    "        k=1\n",
    "        while (k<=2):\n",
    "            answer.append(sortSong[k][0])\n",
    "            if (len(sortSong)<3):\n",
    "                break\n",
    "            k+=1\n",
    "    return answer\n",
    "    \n",
    "print(solution([\"classic\", \"pop\", \"classic\", \"classic\", \"pop\"],\n",
    "              [500, 600, 150, 800, 2500]))"
   ]
  },
  {
   "cell_type": "code",
   "execution_count": null,
   "metadata": {},
   "outputs": [],
   "source": []
  }
 ],
 "metadata": {
  "kernelspec": {
   "display_name": "Python 3",
   "language": "python",
   "name": "python3"
  },
  "language_info": {
   "codemirror_mode": {
    "name": "ipython",
    "version": 3
   },
   "file_extension": ".py",
   "mimetype": "text/x-python",
   "name": "python",
   "nbconvert_exporter": "python",
   "pygments_lexer": "ipython3",
   "version": "3.8.3"
  }
 },
 "nbformat": 4,
 "nbformat_minor": 4
}
