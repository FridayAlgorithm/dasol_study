{
 "cells": [
  {
   "cell_type": "markdown",
   "metadata": {},
   "source": [
    "# 2016년\n",
    "\n",
    "[2016년](https://programmers.co.kr/learn/courses/30/lessons/12901)\n",
    "\n",
    "- 2016년 1월 1일은 금요일\n",
    "- 2016년 a월 b일은 무슨 요일인가?\n",
    "- a와 b를 입력받아 요일을 반환하는 함수를 작성하라\n",
    "* 2016년은 윤년이다"
   ]
  },
  {
   "cell_type": "code",
   "execution_count": 3,
   "metadata": {},
   "outputs": [
    {
     "name": "stdout",
     "output_type": "stream",
     "text": [
      "index 5\n",
      "FRI\n",
      "index 2\n",
      "TUE\n",
      "index 6\n",
      "SAT\n"
     ]
    }
   ],
   "source": [
    "def solution(a, b):\n",
    "    dayOfWeek=[\"SUN\",\"MON\",\"TUE\",\"WED\",\"THU\",\"FRI\",\"SAT\"]\n",
    "    month=[31,29,31,30,31,30,31,31,30,31,30,31]\n",
    "    sum=b\n",
    "    for i in range(a-1):\n",
    "        sum+=month[i]\n",
    "    index=(4+sum)%7\n",
    "    print(\"index\",index)\n",
    "    return dayOfWeek[index]\n",
    "\n",
    "print(solution(1,1))\n",
    "print(solution(5,24)) #화\n",
    "print(solution(7,23)) #토"
   ]
  },
  {
   "cell_type": "code",
   "execution_count": null,
   "metadata": {},
   "outputs": [],
   "source": [
    "#리스트 슬라이싱 사용해서 합 구하면 깔끔!\n",
    "days[(sum(months[:a-1])+b-1)%7]"
   ]
  },
  {
   "cell_type": "code",
   "execution_count": 1,
   "metadata": {},
   "outputs": [
    {
     "name": "stdout",
     "output_type": "stream",
     "text": [
      "TUE\n"
     ]
    }
   ],
   "source": [
    "#datetime 사용할 수도 있다\n",
    "import datetime\n",
    "\n",
    "def getDayName(a,b):\n",
    "    t = 'MON TUE WED THU FRI SAT SUN'.split()\n",
    "    return t[datetime.datetime(2016, a, b).weekday()]\n",
    "\n",
    "print(getDayName(5,24))"
   ]
  },
  {
   "cell_type": "code",
   "execution_count": null,
   "metadata": {},
   "outputs": [],
   "source": []
  }
 ],
 "metadata": {
  "kernelspec": {
   "display_name": "Python 3",
   "language": "python",
   "name": "python3"
  },
  "language_info": {
   "codemirror_mode": {
    "name": "ipython",
    "version": 3
   },
   "file_extension": ".py",
   "mimetype": "text/x-python",
   "name": "python",
   "nbconvert_exporter": "python",
   "pygments_lexer": "ipython3",
   "version": "3.8.3"
  }
 },
 "nbformat": 4,
 "nbformat_minor": 4
}
