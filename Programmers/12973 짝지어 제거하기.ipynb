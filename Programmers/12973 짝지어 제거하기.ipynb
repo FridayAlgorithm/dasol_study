{
 "cells": [
  {
   "cell_type": "markdown",
   "metadata": {},
   "source": [
    "# 짝지어 제거하기\n",
    "\n",
    "[짝지어 제거하기](https://programmers.co.kr/learn/courses/30/lessons/12973)\n",
    "\n",
    "- 알파벳 소문자로 이루어진 문자열을 가지고 시작한다\n",
    "- 같은 알파벳이 2개 붙어있는 짝을 찾아 제거한 후 앞뒤로 문자열을 이어붙인다\n",
    "- 위의 과정을 반복하여 문자열을 모두 제거하면 짝지어 제거하기가 종료된다\n",
    "- 문자열이 주어질 때 짝지어 제거하기가 성공할 수 있는지를 반환하라"
   ]
  },
  {
   "cell_type": "code",
   "execution_count": 17,
   "metadata": {},
   "outputs": [
    {
     "name": "stdout",
     "output_type": "stream",
     "text": [
      "1\n",
      "0\n"
     ]
    }
   ],
   "source": [
    "#실패!\n",
    "def solution(s):\n",
    "    s=list(s)\n",
    "    index=0; isAbleNum=len(s)\n",
    "    while(isAbleNum):\n",
    "        if(index==len(s)-1 or ):\n",
    "            return 0\n",
    "        if(s[index]==s[index+1]):\n",
    "            isAbleNum-=2\n",
    "            if(index>0): index-=1\n",
    "            continue\n",
    "        index+=1\n",
    "    return 1\n",
    "\n",
    "print(solution('baabaa'))\n",
    "print(solution('cdcd'))"
   ]
  },
  {
   "cell_type": "code",
   "execution_count": 19,
   "metadata": {},
   "outputs": [
    {
     "name": "stdout",
     "output_type": "stream",
     "text": [
      "1\n",
      "0\n"
     ]
    }
   ],
   "source": [
    "def solution(s):\n",
    "    s=list(s)\n",
    "    stack=[]\n",
    "    for i in s:\n",
    "        if (not stack):\n",
    "            stack.append(i)\n",
    "        elif (stack[-1]==i):\n",
    "            stack.pop()\n",
    "        else:\n",
    "            stack.append(i)\n",
    "    if (stack): return 0\n",
    "    else: return 1\n",
    "    \n",
    "print(solution('baabaa'))\n",
    "print(solution('cdcd'))"
   ]
  },
  {
   "cell_type": "code",
   "execution_count": null,
   "metadata": {},
   "outputs": [],
   "source": []
  }
 ],
 "metadata": {
  "kernelspec": {
   "display_name": "Python 3",
   "language": "python",
   "name": "python3"
  },
  "language_info": {
   "codemirror_mode": {
    "name": "ipython",
    "version": 3
   },
   "file_extension": ".py",
   "mimetype": "text/x-python",
   "name": "python",
   "nbconvert_exporter": "python",
   "pygments_lexer": "ipython3",
   "version": "3.8.3"
  }
 },
 "nbformat": 4,
 "nbformat_minor": 4
}
