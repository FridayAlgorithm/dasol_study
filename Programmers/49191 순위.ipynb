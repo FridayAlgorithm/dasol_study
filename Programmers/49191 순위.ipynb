{
 "cells": [
  {
   "cell_type": "markdown",
   "metadata": {},
   "source": [
    "# 순위\n",
    "\n",
    "[문제로 이동](https://programmers.co.kr/learn/courses/30/lessons/49191)\n",
    "\n",
    "- n명의 권투선수가 권투 대회에 참여하여 번호를 부여받았다\n",
    "- 권투 경기는 1대1로 실력이 좋다면 반드시 이긴다\n",
    "- 심판은 경기 결과로 선수들의 순위를 매기고자 했지만 경기 결과를 잃어버렸다\n",
    "- 선수의 수와 경기 결과를 담은 배열이 주어질 때 순위를 매길수 있는 선수의 수를 반환하라\n",
    "\n",
    "\n",
    "[.](https://roomedia.tistory.com/entry/%ED%94%84%EB%A1%9C%EA%B7%B8%EB%9E%98%EB%A8%B8%EC%8A%A4-%EC%88%9C%EC%9C%84-%ED%8C%8C%EC%9D%B4%EC%8D%AC-%EA%B7%B8%EB%9E%98%ED%94%84-Floyd-Warshall-Level3)"
   ]
  },
  {
   "cell_type": "code",
   "execution_count": 4,
   "metadata": {},
   "outputs": [
    {
     "name": "stdout",
     "output_type": "stream",
     "text": [
      "[-1, 1, -1, -1, -1]\n",
      "[0, -1, 0, 0, 1]\n",
      "[-1, 1, -1, 0, -1]\n",
      "[-1, 1, 1, -1, -1]\n",
      "[-1, 0, -1, -1, -1]\n",
      "2\n"
     ]
    }
   ],
   "source": [
    "def solution(n, results):\n",
    "    answer = 0\n",
    "    match = [[-1 for _ in range(n)] for _ in range(n)]\n",
    "    for win, lose in results:\n",
    "        match[win-1][lose-1] = 1\n",
    "        match[lose-1][win-1] = 0\n",
    "#     print(*match, sep='\\n')\n",
    "    for i in range(n):\n",
    "        for j in range(n):\n",
    "            for k in range(n):\n",
    "                if match[j][i] == -1:\n",
    "                    continue\n",
    "                if match[j][i] == match[i][k]:\n",
    "                    match[j][k] = match[j][i]\n",
    "                    match[k][j] = not match[j][i]\n",
    "                    \n",
    "    for i in range(n):\n",
    "        if (-1) in match[i][:i] + match[i][i+1:]:\n",
    "            continue\n",
    "        answer += 1\n",
    "    return answer\n",
    "\n",
    "print(solution(5, [[4, 3], [4, 2], [3, 2], [1, 2], [2, 5]]))"
   ]
  },
  {
   "cell_type": "code",
   "execution_count": 1,
   "metadata": {},
   "outputs": [
    {
     "name": "stdout",
     "output_type": "stream",
     "text": [
      "15\n"
     ]
    }
   ],
   "source": [
    "a={1:[1,2,3,4,5], 2:[1,1,1,1,1],3:[2,2,2,2,2]}\n",
    "print(sum(a[1]))"
   ]
  },
  {
   "cell_type": "code",
   "execution_count": null,
   "metadata": {},
   "outputs": [],
   "source": []
  }
 ],
 "metadata": {
  "kernelspec": {
   "display_name": "Python 3",
   "language": "python",
   "name": "python3"
  },
  "language_info": {
   "codemirror_mode": {
    "name": "ipython",
    "version": 3
   },
   "file_extension": ".py",
   "mimetype": "text/x-python",
   "name": "python",
   "nbconvert_exporter": "python",
   "pygments_lexer": "ipython3",
   "version": "3.8.3"
  }
 },
 "nbformat": 4,
 "nbformat_minor": 4
}
