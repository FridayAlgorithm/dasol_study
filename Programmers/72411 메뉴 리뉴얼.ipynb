{
 "cells": [
  {
   "cell_type": "markdown",
   "metadata": {},
   "source": [
    "# 메뉴 리뉴얼\n",
    "\n",
    "[메뉴 리뉴얼](https://programmers.co.kr/learn/courses/30/lessons/72411)\n",
    "\n",
    "- 함께 많이 주문된 단품 메뉴를 조합하여 코스요리 형태로 제공하기로 했다\n",
    "- 손님들이 주문한 단품메뉴와 코스요리 구성 개수가 주어질 때 메뉴 구성을 반환"
   ]
  },
  {
   "cell_type": "code",
   "execution_count": 13,
   "metadata": {},
   "outputs": [
    {
     "name": "stdout",
     "output_type": "stream",
     "text": [
      "['AC', 'ACDE', 'BCFG', 'CDE']\n",
      "['ACD', 'AD', 'ADE', 'CD', 'XYZ']\n",
      "['WX', 'XY']\n"
     ]
    }
   ],
   "source": [
    "from itertools import combinations\n",
    "\n",
    "def solution(orders, course):\n",
    "    answer = []\n",
    "    for c in course:\n",
    "        menu = {}; temp = []\n",
    "        for order in orders:\n",
    "            temp.extend(list(combinations(sorted(order), c)))\n",
    "        \n",
    "        for t in temp:\n",
    "            key = ''.join(t)\n",
    "            if key in menu:\n",
    "                menu[key]+=1\n",
    "            else:\n",
    "                menu[key]=1\n",
    "        for m in menu:\n",
    "            if max(menu.values()) > 1:\n",
    "                if (menu[m] == max(menu.values())):\n",
    "                    answer.append(m)\n",
    "    answer.sort()\n",
    "    return answer\n",
    "\n",
    "print(solution([\"ABCFG\", \"AC\", \"CDE\", \"ACDE\", \"BCFG\", \"ACDEH\"], [2, 3, 4]))\n",
    "print(solution([\"ABCDE\", \"AB\", \"CD\", \"ADE\", \"XYZ\", \"XYZ\", \"ACD\"], [2, 3, 5]))\n",
    "print(solution([\"XYZ\", \"XWY\", \"WXA\"], [2, 3, 4]))"
   ]
  },
  {
   "cell_type": "code",
   "execution_count": null,
   "metadata": {},
   "outputs": [],
   "source": []
  }
 ],
 "metadata": {
  "kernelspec": {
   "display_name": "Python 3",
   "language": "python",
   "name": "python3"
  },
  "language_info": {
   "codemirror_mode": {
    "name": "ipython",
    "version": 3
   },
   "file_extension": ".py",
   "mimetype": "text/x-python",
   "name": "python",
   "nbconvert_exporter": "python",
   "pygments_lexer": "ipython3",
   "version": "3.8.3"
  }
 },
 "nbformat": 4,
 "nbformat_minor": 4
}
