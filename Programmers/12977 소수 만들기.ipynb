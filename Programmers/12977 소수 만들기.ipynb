{
 "cells": [
  {
   "cell_type": "markdown",
   "metadata": {},
   "source": [
    "# 소수 만들기\n",
    "\n",
    "[소수 만들기](https://programmers.co.kr/learn/courses/30/lessons/12977)\n",
    "\n",
    "- 주어진 숫자 중 3개의 수를 더했을 때 소수가 되는 경우의 개수를 구하려고 한다\n",
    "- 숫자 배열이 매개변수로 주어질 때 서로 다른 3개를 골라 소수가 되는 개수를 반환하는 함수를 작성하라"
   ]
  },
  {
   "cell_type": "code",
   "execution_count": 3,
   "metadata": {},
   "outputs": [
    {
     "name": "stdout",
     "output_type": "stream",
     "text": [
      "1\n",
      "4\n"
     ]
    }
   ],
   "source": [
    "import math\n",
    "from itertools import combinations as combi\n",
    "\n",
    "def isPrime(num):\n",
    "    maxNum=int(math.sqrt(num))\n",
    "    if (num<2):\n",
    "        return False\n",
    "    for i in range(2,maxNum+1):\n",
    "        if(num%i==0):\n",
    "            return False\n",
    "    return True\n",
    "    \n",
    "def solution(nums):\n",
    "    res=0\n",
    "    tc=list(combi(nums, 3))\n",
    "    for i in tc:\n",
    "        total=0\n",
    "        for j in i:\n",
    "            total+=j\n",
    "        if (isPrime(total)):\n",
    "            res+=1\n",
    "    return res\n",
    "\n",
    "print(solution([1,2,3,4]))\n",
    "print(solution([1,2,7,6,4]))"
   ]
  },
  {
   "cell_type": "code",
   "execution_count": null,
   "metadata": {},
   "outputs": [],
   "source": []
  }
 ],
 "metadata": {
  "kernelspec": {
   "display_name": "Python 3",
   "language": "python",
   "name": "python3"
  },
  "language_info": {
   "codemirror_mode": {
    "name": "ipython",
    "version": 3
   },
   "file_extension": ".py",
   "mimetype": "text/x-python",
   "name": "python",
   "nbconvert_exporter": "python",
   "pygments_lexer": "ipython3",
   "version": "3.8.3"
  }
 },
 "nbformat": 4,
 "nbformat_minor": 4
}
