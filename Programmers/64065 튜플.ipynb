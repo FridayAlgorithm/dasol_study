{
 "cells": [
  {
   "cell_type": "markdown",
   "metadata": {},
   "source": [
    "# 튜플\n",
    "\n",
    "[튜플](https://programmers.co.kr/learn/courses/30/lessons/64065)\n",
    "\n",
    "- 개수가 n인 중복이 없는 튜플이 주어질 때 집합기호로 표현가능하다\n",
    "- 특정 튜플을 표현하는 집합이 담긴 문자열 s가 주어질 때 튜플을 배열에 담아 반환하라"
   ]
  },
  {
   "cell_type": "code",
   "execution_count": 56,
   "metadata": {},
   "outputs": [
    {
     "name": "stdout",
     "output_type": "stream",
     "text": [
      "[2, 1, 3, 4]\n",
      "[2, 1, 3, 4]\n",
      "[111, 20]\n",
      "[123]\n"
     ]
    }
   ],
   "source": [
    "def solution(s):\n",
    "    answer = []\n",
    "    s = s[2:-2]\n",
    "    s = s.split(\"},{\")\n",
    "    s.sort(key = len)\n",
    "    for i in s:\n",
    "        temp = i.split(',')\n",
    "        for j in temp:\n",
    "            if int(j) not in answer:\n",
    "                answer.append(int(j))\n",
    "    return answer\n",
    "\n",
    "print(solution(\"{{2},{2,1},{2,1,3},{2,1,3,4}}\"))\n",
    "print(solution(\"{{1,2,3},{2,1},{1,2,4,3},{2}}\"))\n",
    "print(solution(\"{{20,111},{111}}\"))\n",
    "print(solution(\"{{123}}\"))"
   ]
  },
  {
   "cell_type": "code",
   "execution_count": null,
   "metadata": {},
   "outputs": [],
   "source": []
  }
 ],
 "metadata": {
  "kernelspec": {
   "display_name": "Python 3",
   "language": "python",
   "name": "python3"
  },
  "language_info": {
   "codemirror_mode": {
    "name": "ipython",
    "version": 3
   },
   "file_extension": ".py",
   "mimetype": "text/x-python",
   "name": "python",
   "nbconvert_exporter": "python",
   "pygments_lexer": "ipython3",
   "version": "3.8.3"
  }
 },
 "nbformat": 4,
 "nbformat_minor": 4
}
