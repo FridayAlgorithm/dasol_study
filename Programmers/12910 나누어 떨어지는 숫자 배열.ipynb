{
 "cells": [
  {
   "cell_type": "markdown",
   "metadata": {},
   "source": [
    "# 나누어 떨어지는 숫자 배열\n",
    "\n",
    "[문제로 이동](https://programmers.co.kr/learn/courses/30/lessons/12910)\n",
    "\n",
    "- 배열의 각 원소 중 divisor로 나누어 떨어지는 값을 오름차순으로 정렬한 배열을 반환하는 함수를 작성하라"
   ]
  },
  {
   "cell_type": "code",
   "execution_count": 2,
   "metadata": {},
   "outputs": [
    {
     "name": "stdout",
     "output_type": "stream",
     "text": [
      "[5, 10]\n",
      "[1, 2, 3, 36]\n",
      "[-1]\n"
     ]
    }
   ],
   "source": [
    "def solution(arr, divisor):\n",
    "    answer = []\n",
    "    for e in arr:\n",
    "        if (e%divisor==0):\n",
    "            answer.append(e)\n",
    "    answer.sort()\n",
    "    if (not answer): return [-1]\n",
    "    return answer\n",
    "\n",
    "print(solution([5, 9, 7, 10],5))\n",
    "print(solution([2, 36, 1, 3],1))\n",
    "print(solution([3,2,6],10))"
   ]
  },
  {
   "cell_type": "code",
   "execution_count": null,
   "metadata": {},
   "outputs": [],
   "source": [
    "#다른 사람 풀이\n",
    "def solution(arr, divisor): \n",
    "    return sorted([n for n in arr if n%divisor == 0]) or [-1]"
   ]
  }
 ],
 "metadata": {
  "kernelspec": {
   "display_name": "Python 3",
   "language": "python",
   "name": "python3"
  },
  "language_info": {
   "codemirror_mode": {
    "name": "ipython",
    "version": 3
   },
   "file_extension": ".py",
   "mimetype": "text/x-python",
   "name": "python",
   "nbconvert_exporter": "python",
   "pygments_lexer": "ipython3",
   "version": "3.8.3"
  }
 },
 "nbformat": 4,
 "nbformat_minor": 4
}
