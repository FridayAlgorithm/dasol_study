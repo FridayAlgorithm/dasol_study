{
 "cells": [
  {
   "cell_type": "markdown",
   "metadata": {},
   "source": [
    "# 폰켓몬\n",
    "\n",
    "[폰켓몬](https://programmers.co.kr/learn/courses/30/lessons/1845)\n",
    "\n",
    "- 총 N마리의 폰켓몬 중에서 N/2마리를 가져갈 수 있다\n",
    "- 폰켓몬은 종류에 따라 번호를 붙여 구분한다\n",
    "- 최대한 많은 종류의 폰켓몬을 포함하여 N/2마리를 선택하려 한다\n",
    "- N/2마리의 폰켓몬을 선택하는 방법 중 많은 종류를 선택하는 방법을 찾아 종류 번호 개수를 반환하는 함수를 만들어라"
   ]
  },
  {
   "cell_type": "code",
   "execution_count": 13,
   "metadata": {},
   "outputs": [
    {
     "name": "stdout",
     "output_type": "stream",
     "text": [
      "2\n",
      "3\n",
      "2\n"
     ]
    }
   ],
   "source": [
    "#시간 초과\n",
    "from itertools import combinations\n",
    "\n",
    "def solution2(nums):\n",
    "    able = list(combinations(nums, len(nums)//2))\n",
    "    poketmonType=[]\n",
    "    for i in able:\n",
    "        poketmonType.append(len(set(i)))\n",
    "    return max(poketmonType)\n",
    "\n",
    "print(solution([3,1,2,3]))\n",
    "print(solution([3,3,3,2,2,4]))\n",
    "print(solution([3,3,3,2,2,2]))"
   ]
  },
  {
   "cell_type": "code",
   "execution_count": 19,
   "metadata": {},
   "outputs": [
    {
     "name": "stdout",
     "output_type": "stream",
     "text": [
      "2\n",
      "3\n",
      "2\n"
     ]
    }
   ],
   "source": [
    "def solution(nums):\n",
    "    ableMax=len(nums)//2\n",
    "    nums=list(set(nums))\n",
    "    if (len(nums)>=ableMax):\n",
    "        return ableMax\n",
    "    else:\n",
    "        return len(nums)\n",
    "\n",
    "print(solution([3,1,2,3]))\n",
    "print(solution([3,3,3,2,2,4]))\n",
    "print(solution([3,3,3,2,2,2]))"
   ]
  },
  {
   "cell_type": "code",
   "execution_count": 20,
   "metadata": {},
   "outputs": [
    {
     "name": "stdout",
     "output_type": "stream",
     "text": [
      "2\n",
      "3\n",
      "2\n"
     ]
    }
   ],
   "source": [
    "#다른 사람 풀이\n",
    "def solution(nums):\n",
    "    return min(len(set(nums)), len(nums)//2)\n",
    "\n",
    "print(solution([3,1,2,3]))\n",
    "print(solution([3,3,3,2,2,4]))\n",
    "print(solution([3,3,3,2,2,2]))"
   ]
  },
  {
   "cell_type": "code",
   "execution_count": null,
   "metadata": {},
   "outputs": [],
   "source": []
  }
 ],
 "metadata": {
  "kernelspec": {
   "display_name": "Python 3",
   "language": "python",
   "name": "python3"
  },
  "language_info": {
   "codemirror_mode": {
    "name": "ipython",
    "version": 3
   },
   "file_extension": ".py",
   "mimetype": "text/x-python",
   "name": "python",
   "nbconvert_exporter": "python",
   "pygments_lexer": "ipython3",
   "version": "3.8.3"
  }
 },
 "nbformat": 4,
 "nbformat_minor": 4
}
