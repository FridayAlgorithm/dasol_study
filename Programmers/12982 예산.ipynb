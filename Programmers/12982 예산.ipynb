{
 "cells": [
  {
   "cell_type": "markdown",
   "metadata": {},
   "source": [
    "# 예산\n",
    "\n",
    "[예산](https://programmers.co.kr/learn/courses/30/lessons/12982)\n",
    "\n",
    "- 각 부서별 필요 금액을 조사하여 정해진 예산 내에 많은 부서를 지원하려고 한다\n",
    "- 각 부서의 물품 구매시 신청한 금액의 전부를 지원해주어야 한다\n",
    "- 부서별 신청금액배열과 예산이 매개변수로 주어질 때 지원 가능한 최대 부서 수를 반환하는 함수를 작성하라"
   ]
  },
  {
   "cell_type": "code",
   "execution_count": 2,
   "metadata": {},
   "outputs": [
    {
     "name": "stdout",
     "output_type": "stream",
     "text": [
      "3\n",
      "4\n"
     ]
    }
   ],
   "source": [
    "def solution(d, budget):\n",
    "    answer = 0\n",
    "    d.sort()\n",
    "    for i in d:\n",
    "        if (budget-i>=0):\n",
    "            answer+=1\n",
    "            budget-=i\n",
    "        else:\n",
    "            break\n",
    "    return answer\n",
    "        \n",
    "print(solution([1,3,2,5,4],9))\n",
    "print(solution([2,2,3,3],10))"
   ]
  },
  {
   "cell_type": "code",
   "execution_count": null,
   "metadata": {},
   "outputs": [],
   "source": []
  }
 ],
 "metadata": {
  "kernelspec": {
   "display_name": "Python 3",
   "language": "python",
   "name": "python3"
  },
  "language_info": {
   "codemirror_mode": {
    "name": "ipython",
    "version": 3
   },
   "file_extension": ".py",
   "mimetype": "text/x-python",
   "name": "python",
   "nbconvert_exporter": "python",
   "pygments_lexer": "ipython3",
   "version": "3.8.3"
  }
 },
 "nbformat": 4,
 "nbformat_minor": 4
}
