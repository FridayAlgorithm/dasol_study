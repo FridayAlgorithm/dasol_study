{
 "cells": [
  {
   "cell_type": "markdown",
   "metadata": {},
   "source": [
    "# [1차] 추석 트래픽\n",
    "\n",
    "[문제로 이동](https://programmers.co.kr/learn/courses/30/lessons/17676)\n",
    "\n",
    "- 어피치는 로그 데이터를 분석하여 초당 최대 처리량을 계산하기로 했다\n",
    "- 초당 최대 처리량은 요청의 응답 완료 여부에 관계없이 임의시간부터 1초간 처리하는 요청의 최대 개수를 의미한다\n",
    "- 처리시간은 시작시간과 끝 시간을 포함한다"
   ]
  },
  {
   "cell_type": "code",
   "execution_count": 1,
   "metadata": {},
   "outputs": [
    {
     "name": "stdout",
     "output_type": "stream",
     "text": [
      "1\n",
      "2\n",
      "7\n"
     ]
    }
   ],
   "source": [
    "def solution(lines):\n",
    "    answer = 0\n",
    "    startTime, endTime=[],[]\n",
    "\n",
    "    for line in lines:\n",
    "        logs = line.split(\" \")\n",
    "        time = logs[1].split(\":\")\n",
    "\n",
    "        process = float(logs[2][:-1]) * 1000 - 1 \n",
    "        end = (int(time[0]) * 60 * 60 * 1000) + (int(time[1]) * 60 * 1000) + (float(time[2]) * 1000)\n",
    "        endTime.append(end)\n",
    "\n",
    "        start = end - process\n",
    "        startTime.append(start)\n",
    "\n",
    "    for i in range(len(startTime)):\n",
    "        cnt = 0\n",
    "        startRange = startTime[i] - 999\n",
    "        for j in range(len(startTime)):\n",
    "            if startRange <= startTime[j] <= startTime[i]:\n",
    "                cnt += 1\n",
    "            elif startTime[j] <= startRange <= endTime[j]:\n",
    "                cnt += 1\n",
    "        answer = max(answer, cnt)\n",
    "    return answer\n",
    "\n",
    "print(solution([\"2016-09-15 01:00:04.001 2.0s\",\"2016-09-15 01:00:07.000 2s\"]))\n",
    "print(solution([\"2016-09-15 01:00:04.002 2.0s\",\"2016-09-15 01:00:07.000 2s\"]))\n",
    "print(solution( [\"2016-09-15 20:59:57.421 0.351s\",\n",
    "                 \"2016-09-15 20:59:58.233 1.181s\",\n",
    "                 \"2016-09-15 20:59:58.299 0.8s\",\n",
    "                 \"2016-09-15 20:59:58.688 1.041s\",\n",
    "                 \"2016-09-15 20:59:59.591 1.412s\",\n",
    "                 \"2016-09-15 21:00:00.464 1.466s\",\n",
    "                 \"2016-09-15 21:00:00.741 1.581s\",\n",
    "                 \"2016-09-15 21:00:00.748 2.31s\",\n",
    "                 \"2016-09-15 21:00:00.966 0.381s\",\n",
    "                 \"2016-09-15 21:00:02.066 2.62s\"]))"
   ]
  },
  {
   "cell_type": "code",
   "execution_count": null,
   "metadata": {},
   "outputs": [],
   "source": []
  }
 ],
 "metadata": {
  "kernelspec": {
   "display_name": "Python 3",
   "language": "python",
   "name": "python3"
  },
  "language_info": {
   "codemirror_mode": {
    "name": "ipython",
    "version": 3
   },
   "file_extension": ".py",
   "mimetype": "text/x-python",
   "name": "python",
   "nbconvert_exporter": "python",
   "pygments_lexer": "ipython3",
   "version": "3.8.3"
  }
 },
 "nbformat": 4,
 "nbformat_minor": 4
}
