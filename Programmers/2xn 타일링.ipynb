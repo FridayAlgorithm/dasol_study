{
 "cells": [
  {
   "cell_type": "markdown",
   "metadata": {},
   "source": [
    "# 2 x n 타일링\n",
    "\n",
    "[문제로 이동](https://programmers.co.kr/learn/courses/30/lessons/12900)\n",
    "\n",
    "- 가로길이가 2이고 세로의 길이가 1인 직사각형 모양의 타일이 있다\n",
    "- 직사각형 타일을 사용하여 세로 길이가 2이고 가로 길이가 n인 바닥을 채우려고 한다\n",
    "- 타일을 사용하여 직사각형을 채우는 경우의 수를 반환하는 함수를 작성하라"
   ]
  },
  {
   "cell_type": "code",
   "execution_count": 6,
   "metadata": {},
   "outputs": [
    {
     "name": "stdout",
     "output_type": "stream",
     "text": [
      "5\n"
     ]
    }
   ],
   "source": [
    "def solution(n):\n",
    "    dp=[0]*60001\n",
    "    dp[1]=1; dp[2]=2\n",
    "    for i in range (3, n+1):\n",
    "        dp[i]=(dp[i-1]+dp[i-2])%1000000007\n",
    "    return dp[n]\n",
    "\n",
    "print(solution(4))"
   ]
  },
  {
   "cell_type": "code",
   "execution_count": null,
   "metadata": {},
   "outputs": [],
   "source": []
  }
 ],
 "metadata": {
  "kernelspec": {
   "display_name": "Python 3",
   "language": "python",
   "name": "python3"
  },
  "language_info": {
   "codemirror_mode": {
    "name": "ipython",
    "version": 3
   },
   "file_extension": ".py",
   "mimetype": "text/x-python",
   "name": "python",
   "nbconvert_exporter": "python",
   "pygments_lexer": "ipython3",
   "version": "3.8.3"
  }
 },
 "nbformat": 4,
 "nbformat_minor": 4
}
