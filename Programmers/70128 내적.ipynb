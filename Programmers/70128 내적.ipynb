{
 "cells": [
  {
   "cell_type": "markdown",
   "metadata": {},
   "source": [
    "# 내적\n",
    "\n",
    "[내적](https://programmers.co.kr/learn/courses/30/lessons/70128)\n",
    "\n",
    "- 길이가 같은 두 1차원 정수 배열이 매개변수로 주어진다\n",
    "- 두 정수 배열의 내적을 반환하는 함수를 작성하라"
   ]
  },
  {
   "cell_type": "code",
   "execution_count": 1,
   "metadata": {},
   "outputs": [
    {
     "name": "stdout",
     "output_type": "stream",
     "text": [
      "3\n",
      "-2\n"
     ]
    }
   ],
   "source": [
    "def solution(a, b):\n",
    "    res=0\n",
    "    for i, j in zip(a,b):\n",
    "        res+=i*j\n",
    "    return res\n",
    "\n",
    "print(solution([1,2,3,4], [-3,-1,0,2]))\n",
    "print(solution([-1,0,1], [1,0,-1]))"
   ]
  },
  {
   "cell_type": "code",
   "execution_count": null,
   "metadata": {},
   "outputs": [],
   "source": []
  }
 ],
 "metadata": {
  "kernelspec": {
   "display_name": "Python 3",
   "language": "python",
   "name": "python3"
  },
  "language_info": {
   "codemirror_mode": {
    "name": "ipython",
    "version": 3
   },
   "file_extension": ".py",
   "mimetype": "text/x-python",
   "name": "python",
   "nbconvert_exporter": "python",
   "pygments_lexer": "ipython3",
   "version": "3.8.3"
  }
 },
 "nbformat": 4,
 "nbformat_minor": 4
}
