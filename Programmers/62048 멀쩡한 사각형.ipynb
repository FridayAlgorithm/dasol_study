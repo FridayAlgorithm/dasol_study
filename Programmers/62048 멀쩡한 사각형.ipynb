{
 "cells": [
  {
   "cell_type": "markdown",
   "metadata": {},
   "source": [
    "# 멀쩡한 사각형\n",
    "\n",
    "[멀쩡한 사각형](https://programmers.co.kr/learn/courses/30/lessons/62048)\n",
    "\n",
    "- 가로길이 W, 세로길이 H인 직사각형 종이\n",
    "- 직사각형 종이는 크기가 같은 직각삼각형 2개로 나누어진 상태이다\n",
    "- 사용할 수 있는 1x1의 정사각형의 갯수를 구하는 함수를 완성하라"
   ]
  },
  {
   "cell_type": "code",
   "execution_count": 4,
   "metadata": {},
   "outputs": [
    {
     "name": "stdout",
     "output_type": "stream",
     "text": [
      "80\n"
     ]
    }
   ],
   "source": [
    "def gcd (a,b):\n",
    "    while(a%b!=0):\n",
    "        a,b=b,a%b\n",
    "    return b\n",
    "\n",
    "def solution(w,h):\n",
    "    gcdNum=gcd(w,h)\n",
    "    hori=w//gcdNum\n",
    "    verti=h//gcdNum\n",
    "    imposs=(w//gcdNum+h//gcdNum-1)*gcdNum\n",
    "    #imposs=(w+h-1)*gcdNum\n",
    "    return w*h-imposs\n",
    "\n",
    "print(solution(8, 12))"
   ]
  },
  {
   "cell_type": "code",
   "execution_count": null,
   "metadata": {},
   "outputs": [],
   "source": []
  }
 ],
 "metadata": {
  "kernelspec": {
   "display_name": "Python 3",
   "language": "python",
   "name": "python3"
  },
  "language_info": {
   "codemirror_mode": {
    "name": "ipython",
    "version": 3
   },
   "file_extension": ".py",
   "mimetype": "text/x-python",
   "name": "python",
   "nbconvert_exporter": "python",
   "pygments_lexer": "ipython3",
   "version": "3.8.3"
  }
 },
 "nbformat": 4,
 "nbformat_minor": 4
}
