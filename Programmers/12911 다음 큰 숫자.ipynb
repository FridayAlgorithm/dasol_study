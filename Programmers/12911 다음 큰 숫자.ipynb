{
 "cells": [
  {
   "cell_type": "markdown",
   "metadata": {},
   "source": [
    "# 다음 큰 숫자\n",
    "\n",
    "[문제로 이동](https://programmers.co.kr/learn/courses/30/lessons/12911)\n",
    "\n",
    "- 자연수 n이 주어졌을 때 n의 다음 큰 숫자는 다음과 같다\n",
    "  1. n의 다음 큰 숫자는 n보다 큰 자연수\n",
    "  2. n의 다음 큰 숫자와 n은 2진수로 변환했을 때 1의 갯수가 같다\n",
    "  3. n의 다음 큰 숫자는 조건 1,2를 만족하는 수 중 가장 작은 수 이다\n",
    "- 자연수 n이 주어질 때 다음 큰 숫자를 반환하는 함수를 작성하라"
   ]
  },
  {
   "cell_type": "code",
   "execution_count": 17,
   "metadata": {},
   "outputs": [
    {
     "name": "stdout",
     "output_type": "stream",
     "text": [
      "83\n",
      "23\n"
     ]
    }
   ],
   "source": [
    "def solution(n):\n",
    "    check=bin(n)[2:].count('1')\n",
    "    for i in range(n+1, 1000001):\n",
    "        if (check==bin(i)[2:].count('1')):\n",
    "            return i\n",
    "        \n",
    "print(solution(78))\n",
    "print(solution(15))"
   ]
  },
  {
   "cell_type": "code",
   "execution_count": null,
   "metadata": {},
   "outputs": [],
   "source": []
  }
 ],
 "metadata": {
  "kernelspec": {
   "display_name": "Python 3",
   "language": "python",
   "name": "python3"
  },
  "language_info": {
   "codemirror_mode": {
    "name": "ipython",
    "version": 3
   },
   "file_extension": ".py",
   "mimetype": "text/x-python",
   "name": "python",
   "nbconvert_exporter": "python",
   "pygments_lexer": "ipython3",
   "version": "3.8.3"
  }
 },
 "nbformat": 4,
 "nbformat_minor": 4
}
