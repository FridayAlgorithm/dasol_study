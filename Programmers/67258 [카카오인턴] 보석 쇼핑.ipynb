{
 "cells": [
  {
   "cell_type": "markdown",
   "metadata": {},
   "source": [
    "# [카카오인턴] 보석 쇼핑\n",
    "\n",
    "[문제로 이동](https://programmers.co.kr/learn/courses/30/lessons/67258)\n",
    "\n",
    "- 진열된 모든 종류의 보석을 적어도 1개 이상 포함하는 가장 짧은 구간을 찾아서 구매\n",
    "- 진열대 번호 순으로 보석들이 저장된 배열이 주어질 때 모든 보석을 포함하는 가장 짧은 구간을 찾아서 반환하라"
   ]
  },
  {
   "cell_type": "code",
   "execution_count": null,
   "metadata": {},
   "outputs": [],
   "source": [
    "def solution(gems):\n",
    "    mini=len(set(gems))\n",
    "    count, end, buy=0,0,[]\n",
    "    for start in range(gems):\n",
    "        while (count<mini and end<len(gems)):\n",
    "            buy.append(gems[end])\n",
    "            end+=1\n",
    "        \n",
    "    answer = []\n",
    "    return answer\n",
    "\n",
    "print(solution([\"DIA\", \"RUBY\", \"RUBY\", \"DIA\", \"DIA\", \"EMERALD\", \"SAPPHIRE\", \"DIA\"]))\n",
    "print(solution([\"AA\", \"AB\", \"AC\", \"AA\", \"AC\"]))\n",
    "print(solution([\"XYZ\", \"XYZ\", \"XYZ\"]))\n",
    "print(solution([\"ZZZ\", \"YYY\", \"NNNN\", \"YYY\", \"BBB\"]))"
   ]
  }
 ],
 "metadata": {
  "kernelspec": {
   "display_name": "Python 3",
   "language": "python",
   "name": "python3"
  },
  "language_info": {
   "codemirror_mode": {
    "name": "ipython",
    "version": 3
   },
   "file_extension": ".py",
   "mimetype": "text/x-python",
   "name": "python",
   "nbconvert_exporter": "python",
   "pygments_lexer": "ipython3",
   "version": "3.8.3"
  }
 },
 "nbformat": 4,
 "nbformat_minor": 4
}
