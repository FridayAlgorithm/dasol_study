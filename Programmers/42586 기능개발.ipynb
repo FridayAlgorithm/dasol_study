{
 "cells": [
  {
   "cell_type": "markdown",
   "metadata": {},
   "source": [
    "# 기능 개발\n",
    "\n",
    "[기능개발](https://programmers.co.kr/learn/courses/30/lessons/42586)\n",
    "\n",
    "- 각 기능은 진도 100%일 때 서비스에 반영된다\n",
    "- 각 기능의 개발속도는 모두 다르기 때문에 뒤의 기능이 먼저 개발될 수 있다\n",
    "- 뒤의 기능은 먼저 개발되더라도 앞의 기능이 배포될 때 함께 배포된다\n",
    "- 각 배포마다 몇 개의 기능이 배포되는지 return하는 함수 작성하라"
   ]
  },
  {
   "cell_type": "code",
   "execution_count": 65,
   "metadata": {},
   "outputs": [
    {
     "name": "stdout",
     "output_type": "stream",
     "text": [
      "[2, 1]\n",
      "[1, 3, 2]\n"
     ]
    }
   ],
   "source": [
    "def solution(progress, speed):\n",
    "    res=[]\n",
    "    while progress:\n",
    "        for i in range(len(progress)):\n",
    "            progress[i] += speed[i]\n",
    "        count=0\n",
    "        while (progress and progress[0] >= 100):\n",
    "            progress.pop(0)\n",
    "            speed.pop(0)\n",
    "            count+= 1\n",
    "        if count> 0:\n",
    "            res.append(count)       \n",
    "    return res\n",
    "\n",
    "print(solution([93, 30, 55], [1, 30, 5]))\n",
    "print(solution([95, 90, 99, 99, 80, 99], [1, 1, 1, 1, 1, 1]))"
   ]
  },
  {
   "cell_type": "code",
   "execution_count": null,
   "metadata": {},
   "outputs": [],
   "source": []
  }
 ],
 "metadata": {
  "kernelspec": {
   "display_name": "Python 3",
   "language": "python",
   "name": "python3"
  },
  "language_info": {
   "codemirror_mode": {
    "name": "ipython",
    "version": 3
   },
   "file_extension": ".py",
   "mimetype": "text/x-python",
   "name": "python",
   "nbconvert_exporter": "python",
   "pygments_lexer": "ipython3",
   "version": "3.8.3"
  }
 },
 "nbformat": 4,
 "nbformat_minor": 4
}
