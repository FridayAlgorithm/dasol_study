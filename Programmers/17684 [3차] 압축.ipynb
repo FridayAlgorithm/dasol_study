{
 "cells": [
  {
   "cell_type": "markdown",
   "metadata": {},
   "source": [
    "# [3차] 압축\n",
    "\n",
    "[문제로 이동](https://programmers.co.kr/learn/courses/30/lessons/17684)\n",
    "\n",
    "- 카카오톡으로 전송되는 메시지를 압축하여 전송 효율을 높여야한다\n",
    "- LZW 압축을 구현하고자 한다\n",
    "  * 길이가 1인 모든 단어를 포함하도록 사전을 초기화한다\n",
    "  * 사전에서 현재 입력과 일치하는 가장 긴 문자열 w를 찾는다\n",
    "  * w에 해당하는 사전의 색인 번호를 출력하고 입력에서 w를 제거한다\n",
    "  * 입력에서 처리되지 않은 다음 글자가 남아있다면 c, w+c에 해당하는 단어를 사전에 등록한다\n",
    "  * 단계 2를 반복한다."
   ]
  },
  {
   "cell_type": "code",
   "execution_count": 2,
   "metadata": {},
   "outputs": [
    {
     "name": "stdout",
     "output_type": "stream",
     "text": [
      "[11, 1, 27, 15]\n",
      "[20, 15, 2, 5, 15, 18, 14, 15, 20, 27, 29, 31, 36, 30, 32, 34]\n",
      "[1, 2, 27, 29, 28, 31, 30]\n"
     ]
    }
   ],
   "source": [
    "def solution(msg):\n",
    "    answer=[]\n",
    "    dictionary=dict()\n",
    "    for i in range(26):\n",
    "        dictionary[chr(65+i)]=i+1\n",
    "    w,c=0,0\n",
    "    while (True):\n",
    "        c+=1\n",
    "        if (c==len(msg)):\n",
    "            answer.append(dictionary[msg[w:c]])\n",
    "            break\n",
    "        if (msg[w:c+1] not in dictionary):\n",
    "            dictionary[msg[w:c+1]]=len(dictionary)+1\n",
    "            answer.append(dictionary[msg[w:c]])\n",
    "            w=c\n",
    "    return answer\n",
    "\n",
    "print(solution('KAKAO'))\n",
    "print(solution('TOBEORNOTTOBEORTOBEORNOT'))\n",
    "print(solution('ABABABABABABABAB'))"
   ]
  },
  {
   "cell_type": "code",
   "execution_count": null,
   "metadata": {},
   "outputs": [],
   "source": []
  }
 ],
 "metadata": {
  "kernelspec": {
   "display_name": "Python 3",
   "language": "python",
   "name": "python3"
  },
  "language_info": {
   "codemirror_mode": {
    "name": "ipython",
    "version": 3
   },
   "file_extension": ".py",
   "mimetype": "text/x-python",
   "name": "python",
   "nbconvert_exporter": "python",
   "pygments_lexer": "ipython3",
   "version": "3.8.3"
  }
 },
 "nbformat": 4,
 "nbformat_minor": 4
}
