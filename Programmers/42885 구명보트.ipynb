{
 "cells": [
  {
   "cell_type": "markdown",
   "metadata": {},
   "source": [
    "# 구명보트\n",
    "\n",
    "[구명보트](https://programmers.co.kr/learn/courses/30/lessons/42885)\n",
    "\n",
    "- 무인도에 갇힌 사람들을 구명보트를 이용하여 구조하고자 한다.\n",
    "- 구명보트에는 최대 2명밖에 탈 수 없고, 무게 제한이 있다\n",
    "- 구명보트를 최대한 적게 사용하여 모든 사람을 구출하고자 한다.\n",
    "- 사람 몸무게 배열과 무게제한이 주어질 때 구명보트의 최솟값을 반환하라"
   ]
  },
  {
   "cell_type": "code",
   "execution_count": 20,
   "metadata": {},
   "outputs": [
    {
     "name": "stdout",
     "output_type": "stream",
     "text": [
      "3\n",
      "3\n"
     ]
    }
   ],
   "source": [
    "from collections import deque\n",
    "\n",
    "def solution(people, limit):\n",
    "    res=0\n",
    "    people.sort()\n",
    "    people=deque(people)\n",
    "    while (people):\n",
    "        weight=people.pop()\n",
    "        if (people and weight+people[0]<=limit):\n",
    "            people.popleft()\n",
    "        res+=1\n",
    "    return res\n",
    "\n",
    "print(solution([70, 50, 80, 50],100))\n",
    "print(solution([70, 50, 80, 50],100))"
   ]
  },
  {
   "cell_type": "code",
   "execution_count": null,
   "metadata": {},
   "outputs": [],
   "source": []
  }
 ],
 "metadata": {
  "kernelspec": {
   "display_name": "Python 3",
   "language": "python",
   "name": "python3"
  },
  "language_info": {
   "codemirror_mode": {
    "name": "ipython",
    "version": 3
   },
   "file_extension": ".py",
   "mimetype": "text/x-python",
   "name": "python",
   "nbconvert_exporter": "python",
   "pygments_lexer": "ipython3",
   "version": "3.8.3"
  }
 },
 "nbformat": 4,
 "nbformat_minor": 4
}
