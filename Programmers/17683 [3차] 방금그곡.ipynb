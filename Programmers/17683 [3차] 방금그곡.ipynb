{
 "cells": [
  {
   "cell_type": "markdown",
   "metadata": {},
   "source": [
    "# [3차] 방금 그 곡\n",
    "\n",
    "[문제로 이동](https://programmers.co.kr/learn/courses/30/lessons/17683)\n",
    "\n",
    "- 방금 그 곡 서비스는 음악 제목, 재생이 시작되고 끝난 시각, 악보를 제공\n",
    "- 음은 1분에 1개씩 재생된다. 음악 길이보다 재생시간이 길때는 처음부터 반복재생한다\n",
    "- 조건이 일치하는 음악이 여러 개일때는 재생 시간이 가장 긴 음악을 반환한다 시간이 같을경우 먼저 입력된 음악 제목을 반환한다\n",
    "- 조건이 일치하는 음악이 없을 때에는 (None)을 반환한다\n",
    "- 네오가 기억하는 멜로디 문자열과 곡 정보를 담고 있는 배열이 주어진다"
   ]
  },
  {
   "cell_type": "code",
   "execution_count": 14,
   "metadata": {},
   "outputs": [
    {
     "name": "stdout",
     "output_type": "stream",
     "text": [
      "HELLO\n",
      "FOO\n",
      "WORLD\n"
     ]
    }
   ],
   "source": [
    "def solution(m, musicinfos):\n",
    "    answer=[]\n",
    "    m=m.replace('C#','c').replace('D#','d').replace('F#','f').replace('G#','g').replace('A#','a')\n",
    "    for i in musicinfos:\n",
    "        startTime, endTime, name, code=i.split(\",\")\n",
    "        time=abs((int(startTime[:2])*60+int(startTime[3:]))-(int(endTime[:2])*60+int(endTime[3:])))\n",
    "        code=code.replace('C#','c').replace('D#','d').replace('F#','f').replace('G#','g').replace('A#','a')\n",
    "        music=''\n",
    "        for j in range(time):\n",
    "            music+=code[j%len(code)]\n",
    "        if (music.find(m)!=-1):\n",
    "            answer.append((name, time))\n",
    "    if not answer:\n",
    "        return \"(None)\"\n",
    "    answer.sort(reverse=True, key=lambda x:x[1])\n",
    "    return answer[0][0]\n",
    "\n",
    "print(solution(\"ABCDEFG\", [\"12:00,12:14,HELLO,CDEFGAB\", \"13:00,13:05,WORLD,ABCDEF\"]))\n",
    "print(solution(\"CC#BCC#BCC#BCC#B\", [\"03:00,03:30,FOO,CC#B\", \"04:00,04:08,BAR,CC#BCC#BCC#B\"]))\n",
    "print(solution(\"ABC\", [\"12:00,12:14,HELLO,C#DEFGAB\", \"13:00,13:05,WORLD,ABCDEF\"]))\n"
   ]
  },
  {
   "cell_type": "code",
   "execution_count": null,
   "metadata": {},
   "outputs": [],
   "source": []
  }
 ],
 "metadata": {
  "kernelspec": {
   "display_name": "Python 3",
   "language": "python",
   "name": "python3"
  },
  "language_info": {
   "codemirror_mode": {
    "name": "ipython",
    "version": 3
   },
   "file_extension": ".py",
   "mimetype": "text/x-python",
   "name": "python",
   "nbconvert_exporter": "python",
   "pygments_lexer": "ipython3",
   "version": "3.8.3"
  }
 },
 "nbformat": 4,
 "nbformat_minor": 4
}
