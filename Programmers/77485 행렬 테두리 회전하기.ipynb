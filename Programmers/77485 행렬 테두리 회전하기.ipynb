{
 "cells": [
  {
   "cell_type": "markdown",
   "metadata": {},
   "source": [
    "# 행렬 테두리 회전하기\n",
    "\n",
    "[문제 이동](https://programmers.co.kr/learn/courses/30/lessons/77485)\n",
    "\n",
    "- rows x columns 크기 행렬이 주어진다\n",
    "- 여러 숫자들을 입력받아 숫자범위의 테두리를 시계방향으로 회전시키려 한다\n",
    "- (a, b, c, d) 회전을 적용하면 a행 b열부터 c행 d열의 테두리가 회전한다\n",
    "- 회전이 적용된 후 위치가 바뀐 숫자를 작은 숫자부터 배열에 담아 반환하라"
   ]
  },
  {
   "cell_type": "code",
   "execution_count": 72,
   "metadata": {},
   "outputs": [],
   "source": [
    "def makeBoard(rows, columns):\n",
    "    board=[[0 for _ in range(columns)] for _ in range(rows)]\n",
    "    boardNum=1\n",
    "    for i in range(rows):\n",
    "        for j in range(columns):\n",
    "            board[i][j]=boardNum\n",
    "            boardNum+=1\n",
    "    return board\n",
    "\n",
    "def solution(rows, columns, queries):\n",
    "    answer=[]\n",
    "    board=makeBoard(rows, columns)\n",
    "    for startX, startY, endX, endY in queries:\n",
    "        temp=board[startX-1][startY-1]\n",
    "        res=temp;\n",
    "        for i in range(startX-1,endX-1):\n",
    "            change=board[i+1][startY-1]\n",
    "            board[i][startY-1]=change\n",
    "            res=min(res, change)\n",
    "            \n",
    "        for i in range(startY-1,endY-1):\n",
    "            change=board[endX-1][i+1]\n",
    "            board[endX-1][i]=change\n",
    "            res=min(res, change)\n",
    "            \n",
    "        for i in range(endX-1,startX-1,-1):\n",
    "            change=board[i-1][endY-1]\n",
    "            board[i][endY-1]=change\n",
    "            res=min(res, change)\n",
    "            \n",
    "        for i in range(endY-1,startY-1,-1):\n",
    "            change=board[startX-1][i-1]\n",
    "            board[startX-1][i]=change\n",
    "            res=min(res, change)\n",
    "            \n",
    "        board[startX-1][startY]=temp\n",
    "        answer.append(res)\n",
    "    return answer"
   ]
  },
  {
   "cell_type": "code",
   "execution_count": 73,
   "metadata": {},
   "outputs": [
    {
     "name": "stdout",
     "output_type": "stream",
     "text": [
      "[8, 10, 25]\n",
      "[1, 1, 5, 3]\n",
      "[1]\n"
     ]
    }
   ],
   "source": [
    "print(solution(6,6, [[2,2,5,4],[3,3,6,6],[5,1,6,3]]))\n",
    "print(solution(3,3, [[1,1,2,2],[1,2,2,3],[2,1,3,2],[2,2,3,3]]))\n",
    "print(solution(100, 97, [[1,1,100,97]]))"
   ]
  },
  {
   "cell_type": "code",
   "execution_count": null,
   "metadata": {},
   "outputs": [],
   "source": []
  }
 ],
 "metadata": {
  "kernelspec": {
   "display_name": "Python 3",
   "language": "python",
   "name": "python3"
  },
  "language_info": {
   "codemirror_mode": {
    "name": "ipython",
    "version": 3
   },
   "file_extension": ".py",
   "mimetype": "text/x-python",
   "name": "python",
   "nbconvert_exporter": "python",
   "pygments_lexer": "ipython3",
   "version": "3.8.3"
  }
 },
 "nbformat": 4,
 "nbformat_minor": 4
}
