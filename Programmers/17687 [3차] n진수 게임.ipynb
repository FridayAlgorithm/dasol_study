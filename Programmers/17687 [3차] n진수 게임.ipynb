{
 "cells": [
  {
   "cell_type": "markdown",
   "metadata": {},
   "source": [
    "# [3차] n진수 게임\n",
    "\n",
    "[문제로 이동](https://programmers.co.kr/learn/courses/30/lessons/17687)\n",
    "\n",
    "- 게임의 규칙은 다음과 같다\n",
    "  1. 숫자를 0부터 시작해서 차례대로 말한다. 첫 번째 사람은 0, 두 번째 사람은 1, … 열 번째 사람은 9를 말한다.\n",
    "  2. 10 이상의 숫자부터는 한 자리씩 끊어서 말한다. 즉 열한 번째 사람은 10의 첫 자리인 1, 열두 번째 사람은 둘째 자리인 0을 말한다.\n",
    "- 게임의 난이도를 높이기 위해 이진법에서 십육진법까지 모든 진법으로 게임을 진행하고자 한다\n",
    "- 자신이 말할 숫자를 미리 출력해주는 프로그램을 작성하라"
   ]
  },
  {
   "cell_type": "code",
   "execution_count": 5,
   "metadata": {},
   "outputs": [
    {
     "name": "stdout",
     "output_type": "stream",
     "text": [
      "0111\n",
      "02468ACE11111111\n",
      "13579BDF01234567\n"
     ]
    }
   ],
   "source": [
    "def change(num, base):\n",
    "    noti='0123456789ABCDEF'\n",
    "    q,r = divmod(num, base)\n",
    "    if (not q): \n",
    "        return noti[r]\n",
    "    else: \n",
    "        return change(q,base)+noti[r]\n",
    "\n",
    "def solution(n, t, m, p):\n",
    "    #n:진법, t:구할 숫자 수 m:참가자수, p:튜브 순서\n",
    "    answer = \"\"\n",
    "    changeNum = \"\"\n",
    "    for i in range(t*m):\n",
    "        changeNum+=change(i,n)\n",
    "        \n",
    "    while(len(answer)<t):\n",
    "        answer+=changeNum[p-1]\n",
    "        p+=m\n",
    "    return answer\n",
    "\n",
    "print(solution(2,4,2,1))\n",
    "print(solution(16,16,2,1))\n",
    "print(solution(16,16,2,2))"
   ]
  },
  {
   "cell_type": "code",
   "execution_count": null,
   "metadata": {},
   "outputs": [],
   "source": []
  }
 ],
 "metadata": {
  "kernelspec": {
   "display_name": "Python 3",
   "language": "python",
   "name": "python3"
  },
  "language_info": {
   "codemirror_mode": {
    "name": "ipython",
    "version": 3
   },
   "file_extension": ".py",
   "mimetype": "text/x-python",
   "name": "python",
   "nbconvert_exporter": "python",
   "pygments_lexer": "ipython3",
   "version": "3.8.3"
  }
 },
 "nbformat": 4,
 "nbformat_minor": 4
}
