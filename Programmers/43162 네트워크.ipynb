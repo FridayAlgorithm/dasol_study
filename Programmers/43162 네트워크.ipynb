{
 "cells": [
  {
   "cell_type": "markdown",
   "metadata": {},
   "source": [
    "# 네트워크\n",
    "\n",
    "[문제로 이동](https://programmers.co.kr/learn/courses/30/lessons/43162)\n",
    "\n",
    "- 네트워크란 컴퓨터 상호 간의 정보 교환을 위해 연결된 상태를 의미한다.\n",
    "- 컴퓨터의 개수와 연결에 대한 정보가 주어질 때 네트워크의 개수를 반환하라\n",
    "- i번 컴퓨터와 j번 컴퓨터가 연결되어 있므로 computer[i][j]를 1로 표현한다"
   ]
  },
  {
   "cell_type": "code",
   "execution_count": 3,
   "metadata": {},
   "outputs": [
    {
     "name": "stdout",
     "output_type": "stream",
     "text": [
      "2\n",
      "1\n"
     ]
    }
   ],
   "source": [
    "def solution(n, computers):\n",
    "    answer = 0\n",
    "    bfs = []\n",
    "    visit = [0]*n\n",
    "\n",
    "    while 0 in visit:\n",
    "        bfs.append(visit.index(0))\n",
    "        while bfs:\n",
    "            node = bfs.pop(0)\n",
    "            visit[node] = 1\n",
    "            for i in range(n):\n",
    "                if visit[i] == 0 and computers[node][i] == 1:\n",
    "                    bfs.append(i)\n",
    "        answer += 1\n",
    "    return answer\n",
    "\n",
    "print(solution(3, [[1, 1, 0], [1, 1, 0], [0, 0, 1]]))\n",
    "print(solution(3, [[1, 1, 0], [1, 1, 1], [0, 1, 1]]))"
   ]
  },
  {
   "cell_type": "code",
   "execution_count": null,
   "metadata": {},
   "outputs": [],
   "source": []
  }
 ],
 "metadata": {
  "kernelspec": {
   "display_name": "Python 3",
   "language": "python",
   "name": "python3"
  },
  "language_info": {
   "codemirror_mode": {
    "name": "ipython",
    "version": 3
   },
   "file_extension": ".py",
   "mimetype": "text/x-python",
   "name": "python",
   "nbconvert_exporter": "python",
   "pygments_lexer": "ipython3",
   "version": "3.8.3"
  }
 },
 "nbformat": 4,
 "nbformat_minor": 4
}
