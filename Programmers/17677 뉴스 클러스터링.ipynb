{
 "cells": [
  {
   "cell_type": "markdown",
   "metadata": {},
   "source": [
    "# 뉴스 클러스터링\n",
    "\n",
    "[문제 이동](https://programmers.co.kr/learn/courses/30/lessons/17677)\n",
    "\n",
    "- 튜브는 자카드 유사도 방법으로 기사들을 정렬하고자 한다\n",
    "- 자카드 유사도는 집합 간의 유사도를 검사하는 방법 중 하나이다\n",
    "- J(A, B)는 두 집합의 교집합의 크기를 두 집합의 합집합 크기로 나눈 값\n",
    "- A, B가 모두 공집합일 경우 J(A,B)=1로 정의한다\n",
    "- 입력으로 두 문자열이 들어온다\n",
    "- 두 문자열을 두 글자씩 다중 집합의 원소로 만든다\n",
    "- 영문으로된 글자쌍만 유효하고 기타 문자가 들어가있으면 버린다\n",
    "- 입력으로 들어온 두 문자열의 자카드 유사도에 65536을 곱하고 정수만 출력한다"
   ]
  },
  {
   "cell_type": "code",
   "execution_count": 28,
   "metadata": {},
   "outputs": [
    {
     "name": "stdout",
     "output_type": "stream",
     "text": [
      "16384\n",
      "65536\n",
      "43690\n",
      "65536\n"
     ]
    }
   ],
   "source": [
    "def divideToList(str):\n",
    "    temp=[]\n",
    "    for i in range(len(str)-1):\n",
    "        if(str[i].isalpha() and str[i+1].isalpha()):\n",
    "            tempStr=str[i]+str[i+1]\n",
    "            temp.append(tempStr)\n",
    "    return temp\n",
    "\n",
    "def solution(str1, str2):\n",
    "    str1=str1.upper(); str2=str2.upper()\n",
    "    first=divideToList(str1); second=divideToList(str2)\n",
    "    cup=0; cap=0\n",
    "    total=set(first+second)\n",
    "    for i in total:\n",
    "        cap+=min(first.count(i), second.count(i))\n",
    "        cup+=max(first.count(i), second.count(i))\n",
    "        \n",
    "    if (cup==0): return 65536\n",
    "    return int((cap/cup)*65536)   \n",
    "    \n",
    "    \n",
    "print(solution('FRANCE', 'french'))\n",
    "print(solution('handshake', 'shake hands'))\n",
    "print(solution('aa1+aa2', 'AAAA12'))\n",
    "print(solution('E=M*C^2', 'e=m*c^2'))\n"
   ]
  },
  {
   "cell_type": "code",
   "execution_count": null,
   "metadata": {},
   "outputs": [],
   "source": []
  }
 ],
 "metadata": {
  "kernelspec": {
   "display_name": "Python 3",
   "language": "python",
   "name": "python3"
  },
  "language_info": {
   "codemirror_mode": {
    "name": "ipython",
    "version": 3
   },
   "file_extension": ".py",
   "mimetype": "text/x-python",
   "name": "python",
   "nbconvert_exporter": "python",
   "pygments_lexer": "ipython3",
   "version": "3.8.3"
  }
 },
 "nbformat": 4,
 "nbformat_minor": 4
}
