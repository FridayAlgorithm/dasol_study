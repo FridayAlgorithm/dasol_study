{
 "cells": [
  {
   "cell_type": "markdown",
   "metadata": {},
   "source": [
    "# 후보키\n",
    "\n",
    "[후보키](https://programmers.co.kr/learn/courses/30/lessons/42590)\n",
    "\n",
    "- 제이지는 학생들의 인적사항 정리 중 후보키에 대한 고민이 생겼다\n",
    "- 학생들의 인적사항이 주어질 때 후보 키의 최대 개수를 구하라\n"
   ]
  },
  {
   "cell_type": "code",
   "execution_count": 9,
   "metadata": {},
   "outputs": [],
   "source": [
    "from itertools import combinations\n",
    " \n",
    "def solution(relation):\n",
    "    answer = 0\n",
    "    combiList=[]; uniqe = []\n",
    "    \n",
    "    colSize = len(relation[0])\n",
    "    rowSize = len(relation)\n",
    "        \n",
    "    #모든 컬럼의 조합 구하기(Set형태)\n",
    "    for i in range(1,colSize+1):\n",
    "        combiList.extend(combinations(range(colSize),i))\n",
    "    # 조합들의 유일성 검증\n",
    "\n",
    "    for comb in combiList:\n",
    "        #set에 추가하여 사이즈 비교로 검증\n",
    "        vaildSet = set()\n",
    "        #조합에 해당되는 로우를 하나의 str로 합쳐서 set에 넣음\n",
    "        for row in range(rowSize):\n",
    "            temp=''\n",
    "            for col in comb:\n",
    "                temp += relation[row][col]\n",
    "            vaildSet.add(temp)\n",
    "        # 유일성 확인하여 리스트에 추가\n",
    "        if len(vaildSet) ==rowSize:\n",
    "            uniqe.append(comb)\n",
    "\n",
    "        #최소성 검증\n",
    "        #삭제대상 Set(최소성 위배)\n",
    "        delSet = set()\n",
    "        #부분 집합 여부 확인\n",
    "        for std in uniqe:\n",
    "            for idx,comp in enumerate(uniqe):\n",
    "                #부분집합이면서 자기 자신이 아니라면 상위집합을 삭제 대상에 추가\n",
    "                if std.issubset(comp) and std !=comp:\n",
    "                    #인덱스만넣음\n",
    "                    delSet.add(uniqe.index(comp))\n",
    "        # 유일성 - 최소성 위배 \n",
    "        answer = len(uniqe)-len(delSet)                  \n",
    "            \n",
    "    return answer"
   ]
  },
  {
   "cell_type": "code",
   "execution_count": 7,
   "metadata": {},
   "outputs": [],
   "source": [
    "from itertools import combinations\n",
    "\n",
    "def solution(data):\n",
    "    result = 0\n",
    "    col=len(data[0])\n",
    "    colList=list(range(0,col))\n",
    "    combiList=[]\n",
    "    final=[]\n",
    "\n",
    "    for i in range(1,col+1):\n",
    "        c=list(combinations(colList,i))\n",
    "        combiList.extend(c)\n",
    "\n",
    "    # 유일성 만족하는 조합 찾기\n",
    "    for i in combiList:\n",
    "        finalTemp=[]\n",
    "        for row in range(0,len(data)):\n",
    "            tempList=[]\n",
    "            for t in i:\n",
    "                tempList.append(data[row][t])\n",
    "            finalTemp.append(tuple(tempList))\n",
    "        #check (컬럼 조합한 값에서 중복이 없어야 유일성 만족)\n",
    "        if len(set(finalTemp)) == len(data): \n",
    "            final.append(i)\n",
    "            \n",
    "    #최소성 만족하는 조합 골라내기\n",
    "    finalSet=set(final)\n",
    "    for i in range(0,len(final)-1):\n",
    "        for j in range(i+1,len(final)):\n",
    "            # 최소성을 만족하지 못한 경우\n",
    "            if set(final[i]) == set(final[i]) & set(final[j]):\n",
    "                finalSet.discard(final[j])\n",
    "\n",
    "    result = len(finalSet)\n",
    "    return result"
   ]
  },
  {
   "cell_type": "code",
   "execution_count": 10,
   "metadata": {},
   "outputs": [
    {
     "ename": "AttributeError",
     "evalue": "'tuple' object has no attribute 'issubset'",
     "output_type": "error",
     "traceback": [
      "\u001b[1;31m---------------------------------------------------------------------------\u001b[0m",
      "\u001b[1;31mAttributeError\u001b[0m                            Traceback (most recent call last)",
      "\u001b[1;32m<ipython-input-10-b3a63168a759>\u001b[0m in \u001b[0;36m<module>\u001b[1;34m\u001b[0m\n\u001b[1;32m----> 1\u001b[1;33m print(solution([[\"100\",\"ryan\",\"music\",\"2\"],\n\u001b[0m\u001b[0;32m      2\u001b[0m                 \u001b[1;33m[\u001b[0m\u001b[1;34m\"200\"\u001b[0m\u001b[1;33m,\u001b[0m\u001b[1;34m\"apeach\"\u001b[0m\u001b[1;33m,\u001b[0m\u001b[1;34m\"math\"\u001b[0m\u001b[1;33m,\u001b[0m\u001b[1;34m\"2\"\u001b[0m\u001b[1;33m]\u001b[0m\u001b[1;33m,\u001b[0m\u001b[1;33m\u001b[0m\u001b[1;33m\u001b[0m\u001b[0m\n\u001b[0;32m      3\u001b[0m                 \u001b[1;33m[\u001b[0m\u001b[1;34m\"300\"\u001b[0m\u001b[1;33m,\u001b[0m\u001b[1;34m\"tube\"\u001b[0m\u001b[1;33m,\u001b[0m\u001b[1;34m\"computer\"\u001b[0m\u001b[1;33m,\u001b[0m\u001b[1;34m\"3\"\u001b[0m\u001b[1;33m]\u001b[0m\u001b[1;33m,\u001b[0m\u001b[1;33m\u001b[0m\u001b[1;33m\u001b[0m\u001b[0m\n\u001b[0;32m      4\u001b[0m                 \u001b[1;33m[\u001b[0m\u001b[1;34m\"400\"\u001b[0m\u001b[1;33m,\u001b[0m\u001b[1;34m\"con\"\u001b[0m\u001b[1;33m,\u001b[0m\u001b[1;34m\"computer\"\u001b[0m\u001b[1;33m,\u001b[0m\u001b[1;34m\"4\"\u001b[0m\u001b[1;33m]\u001b[0m\u001b[1;33m,\u001b[0m\u001b[1;33m\u001b[0m\u001b[1;33m\u001b[0m\u001b[0m\n\u001b[0;32m      5\u001b[0m                 \u001b[1;33m[\u001b[0m\u001b[1;34m\"500\"\u001b[0m\u001b[1;33m,\u001b[0m\u001b[1;34m\"muzi\"\u001b[0m\u001b[1;33m,\u001b[0m\u001b[1;34m\"music\"\u001b[0m\u001b[1;33m,\u001b[0m\u001b[1;34m\"3\"\u001b[0m\u001b[1;33m]\u001b[0m\u001b[1;33m,\u001b[0m\u001b[1;33m\u001b[0m\u001b[1;33m\u001b[0m\u001b[0m\n",
      "\u001b[1;32m<ipython-input-9-04d113041df3>\u001b[0m in \u001b[0;36msolution\u001b[1;34m(relation)\u001b[0m\n\u001b[0;32m     33\u001b[0m             \u001b[1;32mfor\u001b[0m \u001b[0midx\u001b[0m\u001b[1;33m,\u001b[0m\u001b[0mcomp\u001b[0m \u001b[1;32min\u001b[0m \u001b[0menumerate\u001b[0m\u001b[1;33m(\u001b[0m\u001b[0muniqe\u001b[0m\u001b[1;33m)\u001b[0m\u001b[1;33m:\u001b[0m\u001b[1;33m\u001b[0m\u001b[1;33m\u001b[0m\u001b[0m\n\u001b[0;32m     34\u001b[0m                 \u001b[1;31m#부분집합이면서 자기 자신이 아니라면 상위집합을 삭제 대상에 추가\u001b[0m\u001b[1;33m\u001b[0m\u001b[1;33m\u001b[0m\u001b[1;33m\u001b[0m\u001b[0m\n\u001b[1;32m---> 35\u001b[1;33m                 \u001b[1;32mif\u001b[0m \u001b[0mstd\u001b[0m\u001b[1;33m.\u001b[0m\u001b[0missubset\u001b[0m\u001b[1;33m(\u001b[0m\u001b[0mcomp\u001b[0m\u001b[1;33m)\u001b[0m \u001b[1;32mand\u001b[0m \u001b[0mstd\u001b[0m \u001b[1;33m!=\u001b[0m\u001b[0mcomp\u001b[0m\u001b[1;33m:\u001b[0m\u001b[1;33m\u001b[0m\u001b[1;33m\u001b[0m\u001b[0m\n\u001b[0m\u001b[0;32m     36\u001b[0m                     \u001b[1;31m#인덱스만넣음\u001b[0m\u001b[1;33m\u001b[0m\u001b[1;33m\u001b[0m\u001b[1;33m\u001b[0m\u001b[0m\n\u001b[0;32m     37\u001b[0m                     \u001b[0mdelSet\u001b[0m\u001b[1;33m.\u001b[0m\u001b[0madd\u001b[0m\u001b[1;33m(\u001b[0m\u001b[0muniqe\u001b[0m\u001b[1;33m.\u001b[0m\u001b[0mindex\u001b[0m\u001b[1;33m(\u001b[0m\u001b[0mcomp\u001b[0m\u001b[1;33m)\u001b[0m\u001b[1;33m)\u001b[0m\u001b[1;33m\u001b[0m\u001b[1;33m\u001b[0m\u001b[0m\n",
      "\u001b[1;31mAttributeError\u001b[0m: 'tuple' object has no attribute 'issubset'"
     ]
    }
   ],
   "source": [
    "print(solution([[\"100\",\"ryan\",\"music\",\"2\"],\n",
    "                [\"200\",\"apeach\",\"math\",\"2\"],\n",
    "                [\"300\",\"tube\",\"computer\",\"3\"],\n",
    "                [\"400\",\"con\",\"computer\",\"4\"],\n",
    "                [\"500\",\"muzi\",\"music\",\"3\"],\n",
    "                [\"600\",\"apeach\",\"music\",\"2\"]]))"
   ]
  },
  {
   "cell_type": "code",
   "execution_count": null,
   "metadata": {},
   "outputs": [],
   "source": []
  }
 ],
 "metadata": {
  "kernelspec": {
   "display_name": "Python 3",
   "language": "python",
   "name": "python3"
  },
  "language_info": {
   "codemirror_mode": {
    "name": "ipython",
    "version": 3
   },
   "file_extension": ".py",
   "mimetype": "text/x-python",
   "name": "python",
   "nbconvert_exporter": "python",
   "pygments_lexer": "ipython3",
   "version": "3.8.3"
  }
 },
 "nbformat": 4,
 "nbformat_minor": 4
}
