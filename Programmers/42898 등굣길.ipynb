{
 "cells": [
  {
   "cell_type": "markdown",
   "metadata": {},
   "source": [
    "# 등굣길\n",
    "\n",
    "[문제로 이동](https://programmers.co.kr/learn/courses/30/lessons/42898)\n",
    "\n",
    "- 물에 잠기지 않은 지역을 통해 학교에 가려고 한다\n",
    "- 집의 좌표는 (1,1), 학교의 좌표는 (m, n)이다\n",
    "- 오른쪽과 아래쪽으로만 움직여 집에서 학교까지 가는 최단 경로의 개수를 1000000007로 나눈 나머지를 반환하라"
   ]
  },
  {
   "cell_type": "code",
   "execution_count": 21,
   "metadata": {},
   "outputs": [
    {
     "name": "stdout",
     "output_type": "stream",
     "text": [
      "4\n"
     ]
    }
   ],
   "source": [
    "def solution(m, n, puddles):\n",
    "    answer = 0\n",
    "    board=[[0]*m for _ in range(n)]\n",
    "    board[0][0]=1\n",
    "    able=[[True]*m for _ in range(n)]\n",
    "\n",
    "    for j,i in puddles:\n",
    "        board[i-1][j-1]=0\n",
    "        able[i-1][j-1]=False\n",
    "        \n",
    "    for i in range(n):\n",
    "        for j in range(m):\n",
    "            if(board[i][j]==0):\n",
    "                board[i][j]=(board[i-1][j]+board[i][j-1])%1000000007\n",
    "            if (not able[i][j]):\n",
    "                board[i][j]=0\n",
    "   \n",
    "    answer=(board[-1][-1])%1000000007\n",
    "    return answer\n",
    "\n",
    "print(solution(4,3,[[2,2]]))"
   ]
  },
  {
   "cell_type": "code",
   "execution_count": null,
   "metadata": {},
   "outputs": [],
   "source": []
  }
 ],
 "metadata": {
  "kernelspec": {
   "display_name": "Python 3",
   "language": "python",
   "name": "python3"
  },
  "language_info": {
   "codemirror_mode": {
    "name": "ipython",
    "version": 3
   },
   "file_extension": ".py",
   "mimetype": "text/x-python",
   "name": "python",
   "nbconvert_exporter": "python",
   "pygments_lexer": "ipython3",
   "version": "3.8.3"
  }
 },
 "nbformat": 4,
 "nbformat_minor": 4
}
