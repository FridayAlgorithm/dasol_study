{
 "cells": [
  {
   "cell_type": "markdown",
   "metadata": {},
   "source": [
    "# 영어 끝말잇기\n",
    "\n",
    "[문제로 이동](https://programmers.co.kr/learn/courses/30/lessons/12981)\n",
    "\n",
    "- 1부터 n까지의 사람이 영어 끝말잇기를 하고 있다\n",
    "- 사람수와 사람들이 말한 단어가 주어질 때 탈락하는 사람 번호와 몇번째 차례에서 탈락하는지 반환하라\n",
    "- 탈락자가 생기지 않는다면 [0, 0]을 반환하라"
   ]
  },
  {
   "cell_type": "code",
   "execution_count": 17,
   "metadata": {},
   "outputs": [
    {
     "name": "stdout",
     "output_type": "stream",
     "text": [
      "[3, 3]\n",
      "[0, 0]\n",
      "[1, 3]\n"
     ]
    }
   ],
   "source": [
    "def solution(n, words):\n",
    "    duplicated=[]; seq=1\n",
    "    for i in range(1, len(words)):\n",
    "        duplicated.append(words[i])\n",
    "        seq%=n\n",
    "        if (words[i-1][-1]!=words[i][0] or words[i] in words[0:i]):\n",
    "            return [seq+1, (i//n)+1]\n",
    "        seq+=1\n",
    "    return [0, 0]\n",
    "\n",
    "print(solution(3, [\"tank\", \"kick\", \"know\", \"wheel\", \"land\", \"dream\", \"mother\", \"robot\", \"tank\"]))\n",
    "print(solution(5, [\"hello\", \"observe\", \"effect\", \"take\", \"either\", \"recognize\", \"encourage\", \"ensure\", \"establish\", \"hang\", \"gather\", \"refer\", \"reference\", \"estimate\", \"executive\"]))\n",
    "print(solution(2, [\"hello\", \"one\", \"even\", \"never\", \"now\", \"world\", \"draw\"]))"
   ]
  },
  {
   "cell_type": "code",
   "execution_count": null,
   "metadata": {},
   "outputs": [],
   "source": []
  }
 ],
 "metadata": {
  "kernelspec": {
   "display_name": "Python 3",
   "language": "python",
   "name": "python3"
  },
  "language_info": {
   "codemirror_mode": {
    "name": "ipython",
    "version": 3
   },
   "file_extension": ".py",
   "mimetype": "text/x-python",
   "name": "python",
   "nbconvert_exporter": "python",
   "pygments_lexer": "ipython3",
   "version": "3.8.3"
  }
 },
 "nbformat": 4,
 "nbformat_minor": 4
}
