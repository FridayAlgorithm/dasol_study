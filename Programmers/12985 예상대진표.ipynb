{
 "cells": [
  {
   "cell_type": "markdown",
   "metadata": {},
   "source": [
    "# 예상대진표\n",
    "\n",
    "[문제로 이동](https://programmers.co.kr/learn/courses/30/lessons/12985)\n",
    "\n",
    "- N명의 참가자가 토너먼트 형식으로 게임대회가 진행된다\n",
    "- 게임에서 이긴 사람은 다음 라운드에 진출하며 새 번호를 배정받는다\n",
    "- 1,2번 참가자 중 승리자는 1번, 3,4번 참가자 중 승리자는 2번을 배정받는다\n",
    "- 게임참가자 수와 참가자번호, 경쟁자 번호가 매개변수로 주어진다\n",
    "- 참가자는 경쟁자를 몇 번째 라운드에서 만나는지 반환하라\n",
    "- 두 참가자가 대결할 때까지 둘은 항상 승리한다고 가정한다"
   ]
  },
  {
   "cell_type": "code",
   "execution_count": 26,
   "metadata": {},
   "outputs": [
    {
     "name": "stdout",
     "output_type": "stream",
     "text": [
      "3\n"
     ]
    }
   ],
   "source": [
    "#round는 반올림이라 틀림\n",
    "\n",
    "def solution(n,a,b):\n",
    "    answer = 0\n",
    "    while(a!=b):\n",
    "        answer+=1\n",
    "        a=(a+1)//2\n",
    "        b=(b+1)//2\n",
    "    return answer\n",
    "\n",
    "print(solution(8,4,7))"
   ]
  },
  {
   "cell_type": "code",
   "execution_count": null,
   "metadata": {},
   "outputs": [],
   "source": []
  }
 ],
 "metadata": {
  "kernelspec": {
   "display_name": "Python 3",
   "language": "python",
   "name": "python3"
  },
  "language_info": {
   "codemirror_mode": {
    "name": "ipython",
    "version": 3
   },
   "file_extension": ".py",
   "mimetype": "text/x-python",
   "name": "python",
   "nbconvert_exporter": "python",
   "pygments_lexer": "ipython3",
   "version": "3.8.3"
  }
 },
 "nbformat": 4,
 "nbformat_minor": 4
}
