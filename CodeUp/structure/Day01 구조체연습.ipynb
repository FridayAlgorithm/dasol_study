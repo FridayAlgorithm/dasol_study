{
 "cells": [
  {
   "cell_type": "code",
   "execution_count": 9,
   "metadata": {},
   "outputs": [
    {
     "name": "stdout",
     "output_type": "stream",
     "text": [
      "5\n",
      "50 23 54 24 123\n",
      "0 1 2 3 4 "
     ]
    }
   ],
   "source": [
    "#3004 데이터 재정렬\n",
    "num=int(input())\n",
    "inputArr = list(map(int,input().split()))\n",
    "\n",
    "temp=[] \n",
    "for i in range(0,num):\n",
    "    temp.append([inputArr[i],i])\n",
    "\n",
    "sortArr=sorted(temp)\n",
    "for i in range(0,num):\n",
    "    sortArr[i].append(i)\n",
    "\n",
    "result = sorted(sortArr, key = lambda x : x[1])\n",
    "for i in range(0,num):\n",
    "    print(result[i][2],end=' ')\n",
    "    \n",
    "#참고\n",
    "#리스트 입력 : https://velog.io/@dlrmwl15/%ED%8C%8C%EC%9D%B4%EC%8D%AC-%EC%9E%85%EB%A0%A5%EB%B0%9B%EA%B8%B0\n",
    "#정렬 : https://dailyheumsi.tistory.com/67"
   ]
  },
  {
   "cell_type": "code",
   "execution_count": 6,
   "metadata": {},
   "outputs": [
    {
     "name": "stdout",
     "output_type": "stream",
     "text": [
      "3 4\n",
      "ddobot 3\n",
      "poketmon 5\n",
      "ddobot 7\n",
      "ddobot\n",
      "poketmon\n",
      "ddobot\n",
      "hellocarbot\n",
      "10\n",
      "5\n",
      "10\n",
      "0\n"
     ]
    }
   ],
   "source": [
    "#3170 기억력 테스트 9\n",
    "wordNum,questNum=map(int,input().split())\n",
    "\n",
    "dictionary={}\n",
    "for i in range(wordNum):\n",
    "    word, number=input().split()\n",
    "    number=int(number)\n",
    "    if word in dictionary:\n",
    "        dictionary[word]=dictionary[word]+number\n",
    "    else:\n",
    "        dictionary[word]=number\n",
    "\n",
    "#질문\n",
    "answer=[]\n",
    "for i in range(questNum):\n",
    "    question = input()\n",
    "    if question in dictionary:\n",
    "        answer.append(dictionary[question])\n",
    "    else:\n",
    "        answer.append(0)\n",
    "\n",
    "for i in range(questNum):\n",
    "    print(answer[i])\n"
   ]
  },
  {
   "cell_type": "code",
   "execution_count": null,
   "metadata": {},
   "outputs": [],
   "source": []
  }
 ],
 "metadata": {
  "kernelspec": {
   "display_name": "Python 3",
   "language": "python",
   "name": "python3"
  },
  "language_info": {
   "codemirror_mode": {
    "name": "ipython",
    "version": 3
   },
   "file_extension": ".py",
   "mimetype": "text/x-python",
   "name": "python",
   "nbconvert_exporter": "python",
   "pygments_lexer": "ipython3",
   "version": "3.8.3"
  }
 },
 "nbformat": 4,
 "nbformat_minor": 4
}
