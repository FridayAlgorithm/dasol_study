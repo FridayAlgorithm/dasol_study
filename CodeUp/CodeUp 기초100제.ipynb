{
 "cells": [
  {
   "cell_type": "code",
   "execution_count": 7,
   "metadata": {},
   "outputs": [
    {
     "name": "stdout",
     "output_type": "stream",
     "text": [
      "┌┬┐\n",
      "\n",
      "├┼┤\n",
      "\n",
      "└┴┘\n",
      "\n"
     ]
    }
   ],
   "source": [
    "#1번 \"!@#$%^&*()\"\n",
    "print(\"\\u250C\\u252C\\u2510\\n\\u251C\\u253C\\u2524\\n\")\n",
    "print(\"\\u251C\\u253C\\u2524\\n\")\n",
    "print(\"\\u2514\\u2534\\u2518\\n\")"
   ]
  },
  {
   "cell_type": "code",
   "execution_count": null,
   "metadata": {},
   "outputs": [],
   "source": []
  }
 ],
 "metadata": {
  "kernelspec": {
   "display_name": "Python 3",
   "language": "python",
   "name": "python3"
  },
  "language_info": {
   "codemirror_mode": {
    "name": "ipython",
    "version": 3
   },
   "file_extension": ".py",
   "mimetype": "text/x-python",
   "name": "python",
   "nbconvert_exporter": "python",
   "pygments_lexer": "ipython3",
   "version": "3.8.3"
  }
 },
 "nbformat": 4,
 "nbformat_minor": 4
}
