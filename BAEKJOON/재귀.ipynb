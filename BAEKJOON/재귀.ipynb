{
 "cells": [
  {
   "cell_type": "code",
   "execution_count": 3,
   "metadata": {},
   "outputs": [
    {
     "name": "stdout",
     "output_type": "stream",
     "text": [
      "10\n",
      "3628800\n"
     ]
    }
   ],
   "source": [
    "#10872 팩토리얼\n",
    "def factorial(n):\n",
    "    if n==1 or n==0:\n",
    "        return 1\n",
    "    else:\n",
    "        return n*factorial(n-1)\n",
    "    \n",
    "n=int(input())\n",
    "print(factorial(n))"
   ]
  },
  {
   "cell_type": "code",
   "execution_count": 4,
   "metadata": {},
   "outputs": [
    {
     "name": "stdout",
     "output_type": "stream",
     "text": [
      "10\n",
      "55\n"
     ]
    }
   ],
   "source": [
    "#10870 피보나치 수5\n",
    "def fibonacci(n):\n",
    "    if (n==0):\n",
    "        return 0\n",
    "    elif (n==1 or n==2):\n",
    "        return 1\n",
    "    else :\n",
    "        return fibonacci(n-1)+fibonacci(n-2)\n",
    "\n",
    "n=int(input())\n",
    "print(fibonacci(n))"
   ]
  },
  {
   "cell_type": "code",
   "execution_count": 2,
   "metadata": {},
   "outputs": [
    {
     "name": "stdout",
     "output_type": "stream",
     "text": [
      "9\n",
      "*********\n",
      "* ** ** *\n",
      "*********\n",
      "***   ***\n",
      "* *   * *\n",
      "***   ***\n",
      "*********\n",
      "* ** ** *\n",
      "*********\n"
     ]
    }
   ],
   "source": [
    "#2021/01/17\n",
    "#2447 별찍기\n",
    "def printStar (i,j,n):\n",
    "    if((i//n)%3==1 and (j//n)%3==1):\n",
    "        print(\" \",end='')\n",
    "    else:\n",
    "        if(n//3==0):\n",
    "            print(\"*\",end='')\n",
    "        else:\n",
    "            printStar(i,j,n//3)\n",
    "            \n",
    "n=int(input())\n",
    "for i in range (n):\n",
    "    for j in range (n):\n",
    "        printStar(i,j,n)\n",
    "    print()"
   ]
  },
  {
   "cell_type": "code",
   "execution_count": 1,
   "metadata": {},
   "outputs": [
    {
     "name": "stdout",
     "output_type": "stream",
     "text": [
      "3\n",
      "7\n",
      "1 3\n",
      "1 2\n",
      "3 2\n",
      "1 3\n",
      "2 1\n",
      "2 3\n",
      "1 3\n"
     ]
    }
   ],
   "source": [
    "#11729 하노이 탑 이동 순서\n",
    "def hanoi(n, start, temp, finish):\n",
    "    global count\n",
    "    count+=1\n",
    "    if (n==1):\n",
    "        moveArr.append([start,finish])\n",
    "        return\n",
    "    hanoi(n-1,start,finish,temp)\n",
    "    moveArr.append([start,finish])\n",
    "    hanoi(n-1,temp,start,finish)\n",
    "        \n",
    "N=int(input())\n",
    "count=0\n",
    "moveArr=[]\n",
    "hanoi(N,1,2,3)\n",
    "print(count)\n",
    "for i in range(len(moveArr)):\n",
    "    print(moveArr[i][0], moveArr[i][1])\n"
   ]
  },
  {
   "cell_type": "code",
   "execution_count": null,
   "metadata": {},
   "outputs": [],
   "source": []
  }
 ],
 "metadata": {
  "kernelspec": {
   "display_name": "Python 3",
   "language": "python",
   "name": "python3"
  },
  "language_info": {
   "codemirror_mode": {
    "name": "ipython",
    "version": 3
   },
   "file_extension": ".py",
   "mimetype": "text/x-python",
   "name": "python",
   "nbconvert_exporter": "python",
   "pygments_lexer": "ipython3",
   "version": "3.7.9"
  }
 },
 "nbformat": 4,
 "nbformat_minor": 4
}
