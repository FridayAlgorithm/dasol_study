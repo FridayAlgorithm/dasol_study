{
 "cells": [
  {
   "cell_type": "markdown",
   "metadata": {},
   "source": [
    "# 60주차\n",
    "\n",
    "[60주차 문제집]\n",
    "\n",
    "* [1495 기타리스트](https://www.acmicpc.net/problem/1495)\n",
    "* [9656 돌게임2](https://www.acmicpc.net/problem/9656)\n",
    "* [15990 1,2,3 더하기5](https://www.acmicpc.net/problem/15990)\n",
    "* [2636 치즈](https://www.acmicpc.net/problem/2636)\n",
    "* [2470 두 용액](https://www.acmicpc.net/problem/2470)"
   ]
  },
  {
   "cell_type": "markdown",
   "metadata": {},
   "source": [
    "## 1495 기타리스트\n",
    "\n",
    "**문제로 이동** : [Baekjoon 기타리스트](https://www.acmicpc.net/problem/1495)\n",
    "\n",
    "- 강토는 N개의 곡을 매번 시작하기 전 볼륨을 바꾸고 연주하고자 한다.\n",
    "- 곡의 개수와 시작볼륨, 바꿀수 있는 볼륨의 리스트가 주어진다면 가능한 마지막 곡의 볼륨 중 최댓값을 구하라\n",
    "- 중간에 볼륨 조절을 할 수 없다면 -1을 출력한다."
   ]
  },
  {
   "cell_type": "code",
   "execution_count": 14,
   "metadata": {},
   "outputs": [
    {
     "name": "stdout",
     "output_type": "stream",
     "text": [
      "14 40 243\n",
      "74 39 127 95 63 140 99 96 154 18 137 162 14 88\n",
      "238\n"
     ]
    }
   ],
   "source": [
    "#메모리초과\n",
    "import sys\n",
    "\n",
    "#input=sys.stdin.readline\n",
    "N,S,M=map(int,input().split())\n",
    "volumn=list(map(int,input().split()))\n",
    "dp=[[] for _ in range(N+1)]\n",
    "dp[0].append(S)\n",
    "\n",
    "for i in range(1, N+1):\n",
    "    for j in dp[i-1]:\n",
    "        if j+volumn[i-1]<=M:\n",
    "            dp[i].append(j+volumn[i-1])\n",
    "        if j-volumn[i-1]>=0:\n",
    "            dp[i].append(j-volumn[i-1])\n",
    "\n",
    "if (dp[-1]):\n",
    "    print(max(dp[-1]))\n",
    "else:\n",
    "    print(-1)"
   ]
  },
  {
   "cell_type": "code",
   "execution_count": 32,
   "metadata": {},
   "outputs": [
    {
     "name": "stdout",
     "output_type": "stream",
     "text": [
      "4 8 20\n",
      "15 2 9 10\n",
      "[]\n",
      "-1\n"
     ]
    }
   ],
   "source": [
    "#시간초과\n",
    "import sys\n",
    "\n",
    "#input=sys.stdin.readline\n",
    "N,S,M=map(int,input().split())\n",
    "volumn=list(map(int,input().split()))\n",
    "temp=[S]\n",
    "\n",
    "for i in range(N):\n",
    "    tempLen=len(temp)\n",
    "    for _ in range(tempLen):\n",
    "        j=temp.pop(0)\n",
    "        up=j+volumn[i]\n",
    "        down=j-volumn[i]\n",
    "        if (up<=M):\n",
    "            temp.append(up)\n",
    "        if (down>=0):\n",
    "            temp.append(down)\n",
    "\n",
    "if (temp):print(max(temp))\n",
    "else: print(-1)"
   ]
  },
  {
   "cell_type": "code",
   "execution_count": 35,
   "metadata": {},
   "outputs": [
    {
     "name": "stdout",
     "output_type": "stream",
     "text": [
      "14 40 243\n",
      "74 39 127 95 63 140 99 96 154 18 137 162 14 88\n",
      "238\n"
     ]
    }
   ],
   "source": [
    "#메모리초과\n",
    "import sys\n",
    "from collections import deque\n",
    "\n",
    "#input=sys.stdin.readline\n",
    "N,S,M=map(int,input().split())\n",
    "volumn=list(map(int,input().split()))\n",
    "temp=deque()\n",
    "temp.append(S)\n",
    "\n",
    "for i in range(N):\n",
    "    tempLen=len(temp)\n",
    "    for _ in range(tempLen):\n",
    "        j=temp.popleft()\n",
    "        up=j+volumn[i]\n",
    "        down=j-volumn[i]\n",
    "        if (up<=M):\n",
    "            temp.append(up)\n",
    "        if (down>=0):\n",
    "            temp.append(down)\n",
    "\n",
    "if (temp):print(max(temp))\n",
    "else: print(-1)"
   ]
  },
  {
   "cell_type": "markdown",
   "metadata": {},
   "source": [
    "## 9656 돌게임2\n",
    "\n",
    "**문제로 이동** : [Baekjoon 돌게임2](https://www.acmicpc.net/problem/9656)\n",
    "\n",
    "- 탁자 위에 돌 N개가 있다.\n",
    "- 두 사람이 턴을 돌아가며 돌을 가져가면 1개 또는 3개까지 가져갈 수 있다\n",
    "- 마지막 돌을 가져가는 사람은 게임에서 진다\n",
    "- 두 사람이 완벽하게 게임했을 때 이기는 사람을 구하라\n",
    "- 게임은 항상 상근이가 먼저 시작한다."
   ]
  },
  {
   "cell_type": "code",
   "execution_count": 15,
   "metadata": {},
   "outputs": [
    {
     "name": "stdout",
     "output_type": "stream",
     "text": [
      "4\n",
      "SK\n"
     ]
    }
   ],
   "source": [
    "N=int(input())\n",
    "if (N%2==0): print(\"SK\")\n",
    "else: print(\"CY\")"
   ]
  },
  {
   "cell_type": "markdown",
   "metadata": {},
   "source": [
    "## 15990 1,2,3 더하기5\n",
    "\n",
    "**문제로 이동** : [Baekjoon 1,2,3 더하기 5](https://www.acmicpc.net/problem/15990)\n",
    "\n",
    "- 정수 4를 1,2,3의 합으로 나타내는 방법은 3가지이다.\n",
    "- 정수 n이 주어질 때 n을 1,2,3의 합으로 나타내는 방법의 수를 구하라"
   ]
  },
  {
   "cell_type": "code",
   "execution_count": 27,
   "metadata": {},
   "outputs": [
    {
     "name": "stdout",
     "output_type": "stream",
     "text": [
      "8\n",
      "0 1 0 1 0 0 0 1\n",
      "2\n",
      "1 3\n",
      "2 3\n",
      "[0, 1, 0, 1, 0, 0, 0, 1]\n",
      "[0, 1, 1, 1, 0, 1, 0, 1]\n",
      "1 0 0 0 1 1 0 1 "
     ]
    }
   ],
   "source": [
    "import sys\n",
    "\n",
    "#input=sys.stdin.readline\n",
    "t=int(input())\n",
    "dp=[[0]*3 for _ in range(100001)]\n",
    "dp[1]=[1,0,0]\n",
    "dp[2]=[0,1,0]\n",
    "dp[3]=[1,1,1]\n",
    "\n",
    "for _ in range(t):\n",
    "    n=int(input())\n",
    "    for i in range(4, n):\n",
    "        if not dp[i]:\n",
    "            dp[i][0]=dp[i-1][1]"
   ]
  },
  {
   "cell_type": "markdown",
   "metadata": {},
   "source": [
    "## 2636 치즈\n",
    "**문제로 이동** : [Baekjoon 치즈](https://www.acmicpc.net/problem/2636)\n",
    "\n",
    "- 정사각형 칸들로 이루어진 사각형 모양의 판이 있고 그 위에 얇은 치즈가 놓여있다.\n",
    "- 판의 가장자리에는 치즈가 놓여있지 않고 치즈에는 하나 이상의 구멍이 있을 수 있다.\n",
    "- 치즈를 공기 중에 놓으면 녹게되는데 공기와 접촉된 칸은 한시간이 지나면 녹아 없어진다. \n",
    "- 치즈의 구멍 속에는 공기가 없다."
   ]
  },
  {
   "cell_type": "code",
   "execution_count": 31,
   "metadata": {},
   "outputs": [
    {
     "name": "stdout",
     "output_type": "stream",
     "text": [
      "1 0 3\n",
      "4 2 5\n",
      "7 8 6\n",
      "3\n"
     ]
    }
   ],
   "source": [
    "\n"
   ]
  },
  {
   "cell_type": "markdown",
   "metadata": {},
   "source": [
    "## 2470 두 용액\n",
    "\n",
    "**문제로 이동** : [Baekjoon 두 용액](https://www.acmicpc.net/problem/2470)\n",
    "\n"
   ]
  },
  {
   "cell_type": "code",
   "execution_count": 14,
   "metadata": {},
   "outputs": [
    {
     "name": "stdout",
     "output_type": "stream",
     "text": [
      "26\n",
      "moomooomoomoooomoomooomoomooooomoomooomoomoooomoomooomoo\n",
      "m\n"
     ]
    }
   ],
   "source": []
  },
  {
   "cell_type": "code",
   "execution_count": null,
   "metadata": {},
   "outputs": [],
   "source": []
  }
 ],
 "metadata": {
  "kernelspec": {
   "display_name": "Python 3",
   "language": "python",
   "name": "python3"
  },
  "language_info": {
   "codemirror_mode": {
    "name": "ipython",
    "version": 3
   },
   "file_extension": ".py",
   "mimetype": "text/x-python",
   "name": "python",
   "nbconvert_exporter": "python",
   "pygments_lexer": "ipython3",
   "version": "3.8.3"
  }
 },
 "nbformat": 4,
 "nbformat_minor": 4
}
