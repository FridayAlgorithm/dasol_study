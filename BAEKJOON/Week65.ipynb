{
 "cells": [
  {
   "cell_type": "markdown",
   "metadata": {},
   "source": [
    "# 65주차\n",
    "\n",
    "#### [65주차 문제집](https://www.acmicpc.net/group/workbook/view/10320/45303)\n",
    "\n",
    "* [16947 서울 지하철 2호선](https://www.acmicpc.net/problem/16947)\n",
    "* [16954 움직이는 미로 탈출](https://www.acmicpc.net/problem/16954)\n",
    "* [2240 자두나무](https://www.acmicpc.net/problem/2240)\n",
    "* [17615 불 모이기](https://www.acmicpc.net/problem/17615)\n",
    "* [2564 경비원](https://www.acmicpc.net/problem/2564)"
   ]
  },
  {
   "cell_type": "markdown",
   "metadata": {},
   "source": [
    "## 16947 서울 지하철 2호선\n",
    "\n",
    "**문제로 이동** : [Baekjoon 서울 지하철 2호선](https://www.acmicpc.net/problem/16947)\n",
    "\n",
    "- 지하철 2호선에는 51개의 역이 있고 역과 역 사이를 연결하는 구간 51개가 있다.\n",
    "- 정점이 51개이고 양방향 간선이 51개인 그래프로 나타낼 수 있다\n",
    "- 한 역에 출발하여 계속 가면 다시 출발한 역으로 돌아올 수 있는 노선을 순환선이라 한다.\n",
    "- 지선은 순환선에 속하는 한 역에서 시작하는 트리 형태의 노선이다\n",
    "- 두 정점 사이의 거리는 지나야하는 구간의 개수이다.\n",
    "- 역 A와 순환선 사이의 거리는 A와 순환선에 속하는 역 사이의 거리중 최솟값이다.\n",
    "- 노선도가 주어질 때 각 역과 순환선 사이의 거리를 구해보자."
   ]
  },
  {
   "cell_type": "code",
   "execution_count": null,
   "metadata": {},
   "outputs": [],
   "source": [
    "import sys\n",
    "\n",
    "#input=sys.stdin.readline\n",
    "N=int(input())\n",
    "\n",
    "\n",
    "    \n"
   ]
  },
  {
   "cell_type": "markdown",
   "metadata": {},
   "source": [
    "## 16954 움직이는 미로 탈출\n",
    "\n",
    "**문제로 이동** : [Baekjoon 움직이는 미로 탈출](https://www.acmicpc.net/problem/16954)\n",
    "\n",
    "- 8\\*8인 체스판에서 탈출하는 게임을 만들었다.\n",
    "- 체스판의 모든 칸은 빈 칸 또는 벽 중 하나이다.\n",
    "- 캐릭터는 가장 왼쪽 아래 칸에 있고 캐릭터는 가장 오른쪽 윗 칸으로 이동해야한다\n",
    "- 게임의 특징은 벽이 움직인다는 점이다\n",
    "- 1초마다 모든 벽이 아래에 있는 행으로 한 칸씩 내려가고 가장 아래에서 내려가면 벽이 사라지게 된다.\n",
    "- 캐릭터는 1초에 인접한 한 칸 또는 대각선 방향으로 한 칸 이동하거나 그자리에 있을 수 있다.\n",
    "- 1초동안 캐릭터가 먼저 이동하고 벽이 이동한다. 벽이 캐릭터가 있는 칸으로 이동하면 더 이상 캐릭터는 이동할 수 없다.\n",
    "- 캐릭터가 가장 오른쪽 윗 칸으로 이동할 수 있는지 없는지 구해보자\n"
   ]
  },
  {
   "cell_type": "code",
   "execution_count": 5,
   "metadata": {},
   "outputs": [
    {
     "name": "stdout",
     "output_type": "stream",
     "text": [
      "........\n",
      "........\n",
      "........\n",
      "........\n",
      "........\n",
      "........\n",
      "........\n",
      "........\n",
      "1\n"
     ]
    },
    {
     "ename": "SystemExit",
     "evalue": "",
     "output_type": "error",
     "traceback": [
      "An exception has occurred, use %tb to see the full traceback.\n",
      "\u001b[1;31mSystemExit\u001b[0m\n"
     ]
    }
   ],
   "source": [
    "from collections import deque\n",
    "import sys\n",
    "\n",
    "#input=sys.stdin.readline\n",
    "board=[list(input()) for _ in range(8)]\n",
    "dx=[-1,-1,-1,0,0,0,1,1,1]\n",
    "dy=[-1,0,1,-1,0,1,-1,0,1]\n",
    "wall=[]\n",
    "\n",
    "for i in range(8):\n",
    "    for j in range(8):\n",
    "        if (board[i][j]=='#'):\n",
    "            wall.append([i,j])\n",
    "        \n",
    "def falling():\n",
    "    length=len(wall)\n",
    "    loop=0\n",
    "    while(length>0):\n",
    "        length-=1\n",
    "        if (wall[loop][1]+1>7):\n",
    "            wall.remove(wall[loop])\n",
    "            length-=1\n",
    "        else:\n",
    "            wall[loop]=[wall[loop][0], wall[loop][1]+1]\n",
    "        loop+=1\n",
    "        \n",
    "queue=deque()\n",
    "queue.append([7,0])\n",
    "visit=[[7,0]]\n",
    "while queue:\n",
    "    x,y=queue.popleft()\n",
    "    if (x==0 and y==7):\n",
    "        print(1)\n",
    "        sys.exit()\n",
    "    if ([x,y] in wall):\n",
    "        print(0)\n",
    "        sys.exit()\n",
    "    for i in range(9):\n",
    "        nx=x+dx[i]\n",
    "        ny=y+dy[i]\n",
    "        if (0<=nx<8 and 0<=ny<8 and [nx,ny] not in wall and [nx,ny] not in visit):\n",
    "            queue.append([nx,ny])\n",
    "            visit.append([nx,ny])\n",
    "            falling()"
   ]
  },
  {
   "cell_type": "code",
   "execution_count": null,
   "metadata": {},
   "outputs": [],
   "source": []
  },
  {
   "cell_type": "markdown",
   "metadata": {},
   "source": [
    "## 2240 자두나무\n",
    "\n",
    "**문제로 이동** : [Baekjoon 자두나무](https://www.acmicpc.net/problem/2240)\n",
    "\n",
    "- 자두는 키가 작아 자두를 따먹지 못하고 떨어지는 자두를 받아먹는다\n",
    "- 자두를 잡을 때에는 자두가 허공에 있을 때 잡아야한다.\n",
    "- 매 초마다 두 개의 나무 중 하나의 나무에서 열매가 떨어진다.\n",
    "- 열매가 떨어지는 나무 밑에 있다면 자두를 먹을 수 있다\n",
    "- 자두는 하나의 나무 아래에 서 있다가 다른 나무로 빠르게 움직일 수 있다\n",
    "- 자두는 T초동안 떨어지며 최대 W번만 움직이고 싶어한다.\n",
    "- 매 초마다 어느 나무에서 떨어지는지 정보가 주어질 때 자두가 먹을 수 있는 최대 자두의 수를 구하라.\n",
    "- 초기에 자두는 1번 나무 아래에 있다.\n",
    "\n",
    "https://deok2kim.tistory.com/101\n"
   ]
  },
  {
   "cell_type": "code",
   "execution_count": 6,
   "metadata": {},
   "outputs": [
    {
     "name": "stdout",
     "output_type": "stream",
     "text": [
      "7 2\n",
      "2\n",
      "1\n",
      "1\n",
      "2\n",
      "2\n",
      "1\n",
      "1\n",
      "6\n"
     ]
    }
   ],
   "source": [
    "import sys\n",
    "\n",
    "#input=sys.stdin.readline\n",
    "T, W=map(int,input().split())\n",
    "jadu=[int(input()) for _ in range(T)]\n",
    "dp=[[0 for _ in range(W+1)] for _ in range(T)]\n",
    "\n",
    "for i in range(T):\n",
    "    for j in range(W+1):\n",
    "        if j==0:\n",
    "            if jadu[i]==1:\n",
    "                dp[i][0]=dp[i-1][0]+1\n",
    "            else:\n",
    "                dp[i][0]=dp[i-1][0]\n",
    "        else:\n",
    "            if jadu[i]==1 and j%2==0:\n",
    "                dp[i][j]=max(dp[i-1][j], dp[i-1][j-1])+1\n",
    "            elif jadu[i]==2 and j%2==1:\n",
    "                dp[i][j]=max(dp[i-1][j], dp[i-1][j-1])+1\n",
    "            else:\n",
    "                dp[i][j]=max(dp[i-1][j], dp[i-1][j-1])\n",
    "print(max(dp[-1]))"
   ]
  },
  {
   "cell_type": "markdown",
   "metadata": {},
   "source": [
    "## 17615 볼 모으기\n",
    "\n",
    "**문제로 이동** : [Baekjoon 볼 모으기](https://www.acmicpc.net/problem/17615)\n",
    "\n",
    "- 빨간색 볼과 파란색 볼이 일직선 상에 놓여있을 때 볼을 옮겨 같은 색 볼끼리 인접하게 놓이도록 하려고 한다.\n",
    "- 볼을 옮기는 규칙은 다음과 같다\n",
    "  * 바로 옆에 다른 색깔의 볼 있으면 그 볼을 모두 뛰어넘어 옮길 수 있다\n",
    "  * 빨간색 볼은 옆에 있는 파란색 볼 무더기를 한 번에 뛰어 넘어 옮길수있다\n",
    "  * 파란색 볼은 옆에 있는 빨간색 볼 무더기를 한 번에 뛰어넘어 옮길 수 있다\n",
    "  * 옮길 수 있는 볼의 색깔은 한 가지이다.\n",
    "  * 빨간색 볼을 처음에 옮겼으면 다음에도 빨간색 볼만 옮길 수 있다\n",
    "- 일직선상에 놓여있는 볼에 관한 정보가 주어질 때 규칙에 따라 볼을 이동하여 같은 색끼리 모으되 최소이동횟수를 구하는 프로그램을 작성하시오"
   ]
  },
  {
   "cell_type": "code",
   "execution_count": 12,
   "metadata": {},
   "outputs": [
    {
     "name": "stdout",
     "output_type": "stream",
     "text": [
      "9\n",
      "RBBBRBRRR\n",
      "1\n"
     ]
    }
   ],
   "source": [
    "import sys\n",
    "\n",
    "#input=sys.stdin.readline\n",
    "N=int(input())\n",
    "ball=list(input())\n",
    "red=ball.count('R')\n",
    "blue=N-red\n",
    "\n",
    "res=min(red,blue)\n",
    "count=0\n",
    "for i in range(N):\n",
    "    if ball[i]!=ball[0]: \n",
    "        break\n",
    "    count+=1\n",
    "if ball[0]=='R':\n",
    "    res=min(res, red-count)\n",
    "else:\n",
    "    res=min(res, blue-count)\n",
    "\n",
    "count=0\n",
    "for i in range(N-1,-1,-1):\n",
    "    if ball[i]!=ball[N-1]:\n",
    "        break\n",
    "    count+=1\n",
    "if ball[N-1]=='R':\n",
    "    res=min(res, red-count)\n",
    "else:\n",
    "    res=min(res, blue-count)\n",
    "\n",
    "print(res)    "
   ]
  },
  {
   "cell_type": "markdown",
   "metadata": {},
   "source": [
    "## 2564 경비원\n",
    "\n",
    "**문제로 이동** : [Baekjoon 경비원](https://www.acmicpc.net/problem/2564)\n",
    "\n",
    "- 동근이는 무인 경비 회사 경비원으로 항상 대기하고 있다가 호출이 들어오면 경비차를 몰로 그 곳으로 달려가야 한다\n",
    "- 동근이가 담당하고 있는 곳은 직사각형 모양의 블록으로 블록 중간을 가로질러 차가 통과할만한 길이 없다. \n",
    "- 무인 경비를 의회한 3개의 상점이 있다고 할 때\n",
    "- 1번 상점에 호출이 들어오면 블록을 시계방향으로 돌아 이동하면 거리가 12가 된다. 반시계방향으로 이동하면 18가 된다\n",
    "- 마찬가지로 동근이 위치에서 2번 상점까지의 최단거리는 6, 3번까지는 5가된다.\n",
    "- 블록의 크기와 상점의 개수 및 위치가 주어질 때 동근이의 위치와 각 상점 사이의 최단 거리의 합을 구하라"
   ]
  },
  {
   "cell_type": "code",
   "execution_count": null,
   "metadata": {},
   "outputs": [],
   "source": [
    "import sys\n",
    "\n",
    "#input=sys.stdin.readline\n",
    "N,M=map(int,input().split())\n",
    "storeNum=int(input())\n",
    "store=[list(map(int,input().split())) for _ in range(storeNum)]\n",
    "myLocate, myNum=map(int,input().split())\n",
    "distance=[]\n",
    "res=0\n",
    "if myLocate==1:\n",
    "    for i,j in store:\n",
    "        if (i==myLocate):\n",
    "            res+=abs(myNum-j)\n",
    "        elif (i==2):\n",
    "            mini=min(j+myNum, N-j+N-myNum)\n",
    "            res=res+mini+M\n",
    "        elif (i==3):\n",
    "            res+=(j+myNum)\n",
    "        elif (i==4):\n",
    "            res+=(j+N-myNum)\n",
    "            \n",
    "elif myLocate==2:\n",
    "    for i,j in store:\n",
    "        if (i==myLocate):\n",
    "            res+=abs(myNum-j)\n",
    "        elif (i==1):\n",
    "            mini=min(j+myNum, N-j+N-myNum)\n",
    "            res=res+mini+M\n",
    "        elif (i==4):\n",
    "            res+=(M-j+N-myNum)\n",
    "        elif (i==3):\n",
    "            res+=(M-j+myNum)\n",
    "            \n",
    "elif myLocate==3:\n",
    "    for i,j in store:\n",
    "        if (i==myLocate):\n",
    "            res+=abs(myNum-j)\n",
    "        elif (i==4):\n",
    "            mini=min(j+myNum, M-j+M-myNum)\n",
    "            res=res+mini+N\n",
    "        elif (i==1):\n",
    "            res+=(j+myNum)\n",
    "        elif (i==2):\n",
    "            res+=(j+M-myNum)\n",
    "            \n",
    "elif myLocate==4:\n",
    "    for i,j in store:\n",
    "        if (i==myLocate):\n",
    "            res+=abs(myNum-j)\n",
    "        elif (i==2):\n",
    "            res+=(N-j+M-myNum)\n",
    "        elif (i==3):\n",
    "            mini=min(j+myNum, M-j+M-myNum)\n",
    "            res=res+mini+N\n",
    "        elif (i==1):\n",
    "            res+=(N-j+myNum)\n",
    "\n",
    "print(res)"
   ]
  },
  {
   "cell_type": "code",
   "execution_count": null,
   "metadata": {},
   "outputs": [],
   "source": []
  }
 ],
 "metadata": {
  "kernelspec": {
   "display_name": "Python 3",
   "language": "python",
   "name": "python3"
  },
  "language_info": {
   "codemirror_mode": {
    "name": "ipython",
    "version": 3
   },
   "file_extension": ".py",
   "mimetype": "text/x-python",
   "name": "python",
   "nbconvert_exporter": "python",
   "pygments_lexer": "ipython3",
   "version": "3.8.3"
  }
 },
 "nbformat": 4,
 "nbformat_minor": 4
}
