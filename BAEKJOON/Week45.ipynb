{
 "cells": [
  {
   "cell_type": "markdown",
   "metadata": {},
   "source": [
    "# 45주차\n",
    "\n",
    "[45주차 문제집](https://www.acmicpc.net/group/workbook/view/10320/39140)\n",
    "\n",
    "* [1509 팰린드롬 분할](https://www.acmicpc.net/problem/1509)\n",
    "* [1918 후위 표기식](https://www.acmicpc.net/problem/1918)\n",
    "* [1956 운동](https://www.acmicpc.net/problem/1956)\n",
    "* [2468 안전영역](https://www.acmicpc.net/problem/2468)\n",
    "* [13335 트럭](https://www.acmicpc.net/problem/13335)\n",
    "* [11404 플로이드](https://www.acmicpc.net/problem/11404)"
   ]
  },
  {
   "cell_type": "markdown",
   "metadata": {},
   "source": [
    "## 1509 팰린드롬 분할\n",
    "\n",
    "**문제로 이동** : [Baekjoon 팰린드롬 분할](https://www.acmicpc.net/problem/1509)\n",
    "\n",
    "- 어떤 문자열을 팰린드롬으로 분할하고자 한다\n",
    "- 문자열이 주어질 때 팰린드롬 분할의 최솟값을 출력하라"
   ]
  },
  {
   "cell_type": "code",
   "execution_count": null,
   "metadata": {},
   "outputs": [],
   "source": []
  },
  {
   "cell_type": "markdown",
   "metadata": {},
   "source": [
    "## 1918 후위표기식\n",
    "\n",
    "**문제로 이동** : [Baekjoon 후위표기식](https://www.acmicpc.net/problem/1918)\n",
    "\n",
    "- 중위표기식이 주어질 때 후위표기식으로 고치는 프로그램을 작성하라"
   ]
  },
  {
   "cell_type": "code",
   "execution_count": 1,
   "metadata": {},
   "outputs": [
    {
     "name": "stdout",
     "output_type": "stream",
     "text": [
      "A+B*C-D/E\n",
      "ABC*+DE/-\n"
     ]
    }
   ],
   "source": [
    "infix=list(map(str,input().strip()))\n",
    "stack=[]\n",
    "result=''\n",
    "while infix:\n",
    "    temp=infix.pop(0)\n",
    "    if temp.isalpha():\n",
    "        result+=temp\n",
    "    else:\n",
    "        if temp=='(':\n",
    "            stack.append(temp)\n",
    "        elif temp=='*' or temp=='/':\n",
    "            while stack and (stack[-1]=='*' or stack[-1]=='/'):\n",
    "                result+=stack.pop()\n",
    "            stack.append(temp)\n",
    "        elif temp=='+' or temp=='-':\n",
    "            while stack and (stack[-1]!='('):\n",
    "                result+=stack.pop()\n",
    "            stack.append(temp)\n",
    "        elif temp==')':\n",
    "            while stack and stack[-1]!='(':\n",
    "                result+=stack.pop()\n",
    "            stack.pop()\n",
    "            \n",
    "while stack:\n",
    "    result+=stack.pop()\n",
    "    \n",
    "print(result)"
   ]
  },
  {
   "cell_type": "markdown",
   "metadata": {},
   "source": [
    "## 1956 운동\n",
    "\n",
    "**문제로 이동** : [Baekjoon 운동](https://www.acmicpc.net/problem/1956)\n",
    "\n",
    "- V개의 마을과 E개의 도로로 구성되어있는 도시가 있다\n",
    "- 도로는 일방통행으로 V까지 번호가 매겨져있다\n",
    "- 사이클을 이루는 도로의 길이의 합이 최소가되는 운동경로를 찾고자한다\n",
    "- 도로의 정보가 주어질 때 도로 길이합이 가장 작은 사이클을 찾아라\n",
    "- 운동경로를 찾는 것이 불가능한 경우 -1을 출력한다"
   ]
  },
  {
   "cell_type": "code",
   "execution_count": 2,
   "metadata": {},
   "outputs": [
    {
     "name": "stdout",
     "output_type": "stream",
     "text": [
      "3 4\n",
      "1 2 1\n",
      "3 2 1\n",
      "1 3 5\n",
      "2 3 2\n",
      "3\n"
     ]
    }
   ],
   "source": [
    "#시간초과 -> pypy\n",
    "import sys\n",
    "\n",
    "#input = sys.stdin.readline\n",
    "V,E=map(int, input().split())\n",
    "minArr=[[1e10]*V for _ in range(V)]\n",
    "\n",
    "for _ in range(E):\n",
    "    a,b,c=map(int,input().split())\n",
    "    minArr[a-1][b-1]=c\n",
    "    \n",
    "for k in range(V):\n",
    "    for i in range(V):\n",
    "        for j in range(V):\n",
    "            minArr[i][j]=min(minArr[i][j], minArr[i][k]+minArr[k][j])\n",
    "            \n",
    "result=1e10\n",
    "for i in range(V):\n",
    "    result=min(result, minArr[i][i])\n",
    "    \n",
    "print(result if result!=1e10 else -1)"
   ]
  },
  {
   "cell_type": "markdown",
   "metadata": {},
   "source": [
    "## 2468 안전 영역\n",
    "\n",
    "**문제로 이동** : [Baekjoon 안전 영역](https://www.acmicpc.net/problem/2468)\n",
    "\n",
    "- 재난방재청에서 높은 지역을 파악하여 많은비가 내릴 때 안전영역이 최대 몇 개 만들어지는지 조사하고자 한다\n",
    "- 안전영역은 물에잠기지않는 지점이 인접해있으며 크기가 최대인 영역이다\n",
    "- 지역의 높이정보가 주어질 때 안전한 영역의 최대 개수를 구하라"
   ]
  },
  {
   "cell_type": "code",
   "execution_count": 7,
   "metadata": {},
   "outputs": [
    {
     "name": "stdout",
     "output_type": "stream",
     "text": [
      "5\n",
      "6 8 2 6 2\n",
      "3 2 3 4 6\n",
      "6 7 3 3 2\n",
      "7 2 5 3 6\n",
      "8 9 5 2 7\n",
      "5\n"
     ]
    }
   ],
   "source": [
    "from collections import deque\n",
    "import sys\n",
    "\n",
    "#input=sys.stdin.readline\n",
    "N=int(input())\n",
    "board=[list(map(int,input().split())) for _ in range(N)]\n",
    "minValue=min(map(min, board))\n",
    "maxValue=max(map(max, board))\n",
    "dx=[-1,1,0,0]\n",
    "dy=[0,0,-1,1]\n",
    "\n",
    "def bfs(x,y,safe):\n",
    "    queue=deque()\n",
    "    queue.append((x,y))\n",
    "    visit[x][y]=1\n",
    "    while queue:\n",
    "        x,y=queue.popleft()\n",
    "        for i in range(4):\n",
    "            nx=x+dx[i]\n",
    "            ny=y+dy[i]\n",
    "            if 0<=nx<N and 0<=ny<N:\n",
    "                if board[nx][ny]>=safe and not visit[nx][ny]:\n",
    "                    visit[nx][ny]=1\n",
    "                    queue.append((nx,ny))\n",
    "\n",
    "maxSafe=minValue\n",
    "for safe in range(minValue, maxValue+1):\n",
    "    visit=[[0]*N for _ in range(N)]\n",
    "    temp=0\n",
    "    for i in range(N):\n",
    "        for j in range(N):\n",
    "            if board[i][j]>=safe and not visit[i][j]:\n",
    "                bfs(i,j,safe)\n",
    "                temp+=1\n",
    "    if temp>maxSafe:\n",
    "        maxSafe=temp\n",
    "print(maxSafe)"
   ]
  },
  {
   "cell_type": "markdown",
   "metadata": {},
   "source": [
    "## 13335 트럭\n",
    "\n",
    "**문제로 이동** : [Baekjoon 트럭](https://www.acmicpc.net/problem/13335)\n",
    "\n",
    "- 강을 가로지르는 차선에 n개의 트럭이 건너가려고 한다\n",
    "- 트럭의 순서는 바꿀 수 없으며 무게는 서로 다르다\n",
    "- 다리 위에는 최대 w대의 트럭만 올라가고 다리의 길이는 w이다\n",
    "- 동시에 다리위에 올라간 트럭의 무게합은 다리 최대하중 이하여야한다\n",
    "- 다리 길이와 최대하중, 트럭들의 무게가 주어질 때 트럭이 다리를 건너는 최단시간을 구하라"
   ]
  },
  {
   "cell_type": "code",
   "execution_count": 6,
   "metadata": {},
   "outputs": [
    {
     "name": "stdout",
     "output_type": "stream",
     "text": [
      "4 2 10\n",
      "7 4 5 6\n",
      "8\n"
     ]
    }
   ],
   "source": [
    "n,w,l=map(int,input().split())\n",
    "truck=list(map(int,input().split()))\n",
    "\n",
    "bridge=[0 for _ in range(n)]\n",
    "ableWeight=l\n",
    "time=0\n",
    "\n",
    "moveFront, moveNext=0,0\n",
    "while True:\n",
    "    time+=1\n",
    "    for i in range(moveFront, moveNext):\n",
    "        bridge[i]+=1\n",
    "        if bridge[i]>w:\n",
    "            ableWeight+=truck[i]\n",
    "            moveFront+=1\n",
    "    if moveFront==n:\n",
    "        break\n",
    "    if moveNext<n:\n",
    "        if truck[moveNext]<=ableWeight:\n",
    "            ableWeight-=truck[moveNext]\n",
    "            bridge[moveNext]+=1\n",
    "            moveNext+=1\n",
    "            \n",
    "print(time)"
   ]
  },
  {
   "cell_type": "markdown",
   "metadata": {},
   "source": [
    "## 11404 플로이드\n",
    "\n",
    "**문제로 이동** : [Baekjoon 플로이드](https://www.acmicpc.net/problem/11404)\n",
    "\n",
    "- n개의 도시에 m개의 버스가 있다\n",
    "- 각 버스는 한 번 사용할 때 필요한 비용이 있다\n",
    "- 모든 도시의 쌍에 대해 도시 A에서 B로 가는데 필요한 비용의 최솟값을 구하라"
   ]
  },
  {
   "cell_type": "code",
   "execution_count": 8,
   "metadata": {},
   "outputs": [
    {
     "name": "stdout",
     "output_type": "stream",
     "text": [
      "5\n",
      "14\n",
      "1 2 2\n",
      "1 3 3\n",
      "1 4 1\n",
      "1 5 10\n",
      "2 4 2\n",
      "3 4 1\n",
      "3 5 1\n",
      "4 5 3\n",
      "3 5 10\n",
      "3 1 8\n",
      "1 4 2\n",
      "5 1 7\n",
      "3 4 2\n",
      "5 2 4\n",
      "0 2 3 1 4 \n",
      "12 0 15 2 5 \n",
      "8 5 0 1 1 \n",
      "10 7 13 0 3 \n",
      "7 4 10 6 0 \n"
     ]
    }
   ],
   "source": [
    "n=int(input())\n",
    "m=int(input())\n",
    "cost=[[100001 for _ in range(n)] for _ in range(n)]\n",
    "\n",
    "for _ in range(m):\n",
    "    start, end, c=map(int,input().split())\n",
    "    cost[start-1][end-1]=min(c, cost[start-1][end-1])\n",
    "    \n",
    "for k in range(n):\n",
    "    for i in range(n):\n",
    "        for j in range(n):\n",
    "            if i==j:\n",
    "                cost[i][j]=0\n",
    "            else:\n",
    "                cost[i][j]=min(cost[i][j], cost[i][k]+cost[k][j])\n",
    "                \n",
    "for i in range(n):\n",
    "    for j in range(n):\n",
    "        if cost[i][j]==100001: \n",
    "            print('0', end=' ')\n",
    "        else:\n",
    "            print(cost[i][j], end=' ')\n",
    "    print()"
   ]
  },
  {
   "cell_type": "code",
   "execution_count": null,
   "metadata": {},
   "outputs": [],
   "source": []
  }
 ],
 "metadata": {
  "kernelspec": {
   "display_name": "Python 3",
   "language": "python",
   "name": "python3"
  },
  "language_info": {
   "codemirror_mode": {
    "name": "ipython",
    "version": 3
   },
   "file_extension": ".py",
   "mimetype": "text/x-python",
   "name": "python",
   "nbconvert_exporter": "python",
   "pygments_lexer": "ipython3",
   "version": "3.8.3"
  }
 },
 "nbformat": 4,
 "nbformat_minor": 4
}
