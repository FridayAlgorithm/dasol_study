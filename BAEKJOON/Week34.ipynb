{
 "cells": [
  {
   "cell_type": "markdown",
   "metadata": {},
   "source": [
    "# 34주차 \n",
    "\n",
    "[34주차 문제집](https://www.acmicpc.net/group/workbook/view/10320/36422)\n",
    "\n",
    "* [16236 아기 상어](https://www.acmicpc.net/problem/16236)\n",
    "* [2206 벽 부수고 이동하기](https://www.acmicpc.net/problem/2206)\n",
    "* [1931 회의실 배정](https://www.acmicpc.net/problem/1931)\n",
    "* [1654 랜선 자르기](https://www.acmicpc.net/problem/1654)\n",
    "* [3109 빵집](https://www.acmicpc.net/problem/3109)\n",
    "* [5430 AC](https://www.acmicpc.net/problem/5430)"
   ]
  },
  {
   "cell_type": "markdown",
   "metadata": {},
   "source": [
    "## 16236 아기상어\n",
    "\n",
    "**문제로 이동** : [Baekjoon 아기 상어](https://www.acmicpc.net/problem/16236)\n",
    "\n",
    "- N\\*N 공간에 물고기 M마리와 아기 상어 한 마리가 있다\n",
    "- 아기상어와 물고기는 모두 자연수의 크기를 가지고 있고 초기 아기 상어 크기는 2이다\n",
    "- 아기 상어는 자신의 크기보다 큰 물고기의 칸은 지나갈 수 없다\n",
    "- 아기 상어는 자신보다 작은 물고기만 먹을 수 있다\n",
    "- 아기 상어는 자신의 크기와 같은 수의 물고기를 먹을 때마다 크기가 증가한다\n",
    "- 아기 상어가 엄마 상어에게 도움을 요청하지 않고 물고기를 몇 초동안 잡아먹는지 구하라"
   ]
  },
  {
   "cell_type": "code",
   "execution_count": 2,
   "metadata": {},
   "outputs": [
    {
     "name": "stdout",
     "output_type": "stream",
     "text": [
      "3\n",
      "0 0 1\n",
      "0 0 0\n",
      "0 9 0\n",
      "3\n"
     ]
    }
   ],
   "source": [
    "import sys\n",
    "from collections import deque\n",
    "\n",
    "#input = sys.stdin.readline\n",
    "n=int(input())\n",
    "board = []\n",
    "for i in range(n):\n",
    "    temp = list(map(int, input().split()))\n",
    "    board.append(temp)\n",
    "    for j in range(n):\n",
    "        if temp[j] == 9:\n",
    "            board[i][j] = 2\n",
    "            start = [i, j]\n",
    "\n",
    "dx = [-1, 1, 0, 0]\n",
    "dy = [0, 0, -1, 1]\n",
    "\n",
    "def bfs(i, j):\n",
    "    visited = [[0] * n for _ in range(n)]\n",
    "    visited[i][j] = 1\n",
    "    distance = [[0] * n for _ in range(n)]\n",
    "    eatAble = []\n",
    "    queue = deque()\n",
    "    queue.append((i, j))\n",
    "    while queue:\n",
    "        x, y = queue.popleft()\n",
    "        for k in range(4):\n",
    "            nx = x + dx[k]\n",
    "            ny = y + dy[k]\n",
    "            if 0 <= nx < n and 0 <= ny < n and visited[nx][ny] == 0:\n",
    "                if board[nx][ny] <= board[i][j]:\n",
    "                    visited[nx][ny] = 1\n",
    "                    distance[nx][ny] = distance[x][y] + 1\n",
    "                    queue.append((nx, ny))\n",
    "                if board[nx][ny] < board[i][j] and board[nx][ny] != 0:\n",
    "                    eatAble.append((nx, ny, distance[nx][ny]))\n",
    "    if not eatAble:\n",
    "        return -1, -1, -1\n",
    "    eatAble.sort(key=lambda x: (x[2], x[0], x[1]))\n",
    "    return eatAble[0][0], eatAble[0][1], eatAble[0][2]\n",
    "\n",
    "\n",
    "eatNum = 0\n",
    "answer = 0\n",
    "while True:\n",
    "    i, j = start[0], start[1]\n",
    "    nx, ny, dist = bfs(i, j)\n",
    "    if nx == -1:\n",
    "        break\n",
    "    board[nx][ny] = board[i][j]\n",
    "    board[i][j] = 0\n",
    "    start = [nx, ny]\n",
    "    eatNum += 1\n",
    "    if eatNum == board[nx][ny]:\n",
    "        eatNum = 0\n",
    "        board[nx][ny] += 1\n",
    "    answer += dist\n",
    "\n",
    "print(answer)"
   ]
  },
  {
   "cell_type": "markdown",
   "metadata": {},
   "source": [
    "## 2206 벽 부수고 이동하기\n",
    "\n",
    "**문제로 이동** : [Baekjoon 벽 부수고 이동하기](https://www.acmicpc.net/problem/2206)\n",
    "\n",
    "- N\\*M의 행렬로 표현되는 맵이 있다 (0:이동가능, 1:이동불가한 벽)\n",
    "- (1,1)에서 (N,M)까지 최단경로로 이동하려고 한다\n",
    "- 이동 도중에 한 개의 벽을 부수고 이동하는 것은 가능하다\n",
    "- 맵이 주어질 때 최단 경로를 구해내는 프로그램을 작성하라"
   ]
  },
  {
   "cell_type": "code",
   "execution_count": 4,
   "metadata": {},
   "outputs": [
    {
     "name": "stdout",
     "output_type": "stream",
     "text": [
      "6 4\n",
      "0100\n",
      "1110\n",
      "1000\n",
      "0000\n",
      "0111\n",
      "0000\n",
      "15\n"
     ]
    }
   ],
   "source": [
    "# 시간 초과\n",
    "import sys\n",
    "from collections import deque\n",
    "sys.setrecursionlimit(10000)\n",
    "\n",
    "# input=sys.stdin.readline\n",
    "N,M=map(int,input().split())\n",
    "matrix=[]\n",
    "wallAble=[]\n",
    "for i in range(N):\n",
    "    temp=list(input())\n",
    "    matrix.append(temp)\n",
    "    for j in range(len(temp)):\n",
    "        if temp[j]=='1':\n",
    "            wallAble.append((i,j))\n",
    "\n",
    "dx=[-1,1,0,0]\n",
    "dy=[0,0,-1,1]\n",
    "\n",
    "def BFS(i,j,distance):\n",
    "    queue=deque([(i,j)])\n",
    "    while (queue):\n",
    "        cur=queue.popleft()\n",
    "        if (cur[0]==N-1 and cur[1]==M-1):\n",
    "            return distance[cur[0]][cur[1]]+1\n",
    "        \n",
    "        for k in range(4):\n",
    "            nx,ny=cur[0]+dx[k], cur[1]+dy[k]\n",
    "            if (0<=nx<N and 0<=ny<M):\n",
    "                if (matrix[nx][ny]=='0' and distance[nx][ny]==0):\n",
    "                    distance[nx][ny]=distance[cur[0]][cur[1]]+1\n",
    "                    queue.append((nx,ny))\n",
    "    return -1\n",
    "\n",
    "answer=-2\n",
    "for i in range(len(wallAble)):\n",
    "    nx,ny=wallAble[i]\n",
    "    matrix[nx][ny]='0'\n",
    "    distance=[[0]*M for _ in range(N)]\n",
    "    answer=max(answer, BFS(0,0,distance))\n",
    "    matrix[nx][ny]='1'\n",
    "print(answer)"
   ]
  },
  {
   "cell_type": "code",
   "execution_count": 12,
   "metadata": {},
   "outputs": [
    {
     "name": "stdout",
     "output_type": "stream",
     "text": [
      "6 4\n",
      "0100\n",
      "1110\n",
      "1000\n",
      "0000\n",
      "0111\n",
      "0000\n",
      "15\n"
     ]
    }
   ],
   "source": [
    "from collections import deque \n",
    "\n",
    "n, m = map(int, input().split()) \n",
    "matrix = [] \n",
    "for i in range(n): \n",
    "    matrix.append(list(input()))\n",
    "    \n",
    "dx = [-1, 1, 0, 0] \n",
    "dy = [0, 0, -1, 1] \n",
    "\n",
    "def bfs(): \n",
    "    queue = deque() \n",
    "    queue.append([0, 0, 1]) \n",
    "    visited = [[[0] * 2 for _ in range(m)] for _ in range(n)] \n",
    "    visited[0][0][1] = 1 \n",
    "    while queue: \n",
    "        x, y, breakAble = queue.popleft() \n",
    "        if x == n-1 and y == m-1: \n",
    "            return visited[x][y][breakAble] \n",
    "        for i in range(4): \n",
    "            nx = dx[i] + x \n",
    "            ny = dy[i] + y \n",
    "            if 0 <= nx < n and 0 <= ny < m: \n",
    "                if matrix[nx][ny] == '1' and breakAble == 1: \n",
    "                    visited[nx][ny][0] = visited[x][y][1] + 1 \n",
    "                    queue.append([nx, ny, 0]) \n",
    "                elif matrix[nx][ny] == '0' and visited[nx][ny][breakAble] == 0:\n",
    "                    visited[nx][ny][breakAble] = visited[x][y][breakAble] + 1 \n",
    "                    queue.append([nx, ny, breakAble]) \n",
    "    return -1 \n",
    "    \n",
    "print(bfs())"
   ]
  },
  {
   "cell_type": "markdown",
   "metadata": {},
   "source": [
    "## 1931 회의실 배정\n",
    "\n",
    "**문제로 이동** : [Baekjoon 회의실 배정](https://www.acmicpc.net/problem/1931)\n",
    "\n",
    "- 한 개의 회의실에 N개의 회의에 대해 회의실 사용표를 만들려고 한다\n",
    "- 각 회의에 대해 시작시간과 끝나는 시간이 주어질 때 겹치지 않게 회의실을 사용할 수 있는 회의의 최대 개수를 구하자"
   ]
  },
  {
   "cell_type": "code",
   "execution_count": 16,
   "metadata": {},
   "outputs": [
    {
     "name": "stdout",
     "output_type": "stream",
     "text": [
      "11\n",
      "1 4\n",
      "3 5\n",
      "0 6\n",
      "5 7\n",
      "3 8\n",
      "5 9\n",
      "6 10\n",
      "8 11\n",
      "8 12\n",
      "2 13\n",
      "12 14\n",
      "4\n"
     ]
    }
   ],
   "source": [
    "N=int(input())\n",
    "timeTable=[list(map(int,input().split())) for _ in range(N)]\n",
    "timeTable.sort(key=lambda x:(x[1],x[0]))\n",
    "end=timeTable[0][1]\n",
    "count=1\n",
    "for i in range(1, len(timeTable)):\n",
    "    if (timeTable[i][0]>=end):\n",
    "        end=timeTable[i][1]\n",
    "        count+=1\n",
    "print(count)"
   ]
  },
  {
   "cell_type": "markdown",
   "metadata": {},
   "source": [
    "## 1654 랜선 자르기\n",
    "\n",
    "**문제로 이동** : [Baekjoon 랜선 자르기](https://www.acmicpc.net/problem/1654)\n",
    "\n",
    "- 길이가 제각각인 K개의 랜선으로 같은 길이의 랜선 N개를 만들고자 한다\n",
    "- 만들 수 있는 최대 랜선의 길이를 구하라"
   ]
  },
  {
   "cell_type": "code",
   "execution_count": 18,
   "metadata": {},
   "outputs": [
    {
     "name": "stdout",
     "output_type": "stream",
     "text": [
      "4 11\n",
      "802\n",
      "743\n",
      "457\n",
      "539\n",
      "200\n"
     ]
    }
   ],
   "source": [
    "K, N = map(int,input().split())\n",
    "line=[int(input()) for _ in range(K)]\n",
    "start, end=1, max(line)\n",
    "\n",
    "while (start<=end):\n",
    "    mid=(start+end)//2\n",
    "    num=0\n",
    "    for i in line:\n",
    "        num+=i//mid\n",
    "    if (num>=N):\n",
    "        start=mid+1\n",
    "    else:\n",
    "        end=mid-1\n",
    "print(end)"
   ]
  },
  {
   "cell_type": "markdown",
   "metadata": {},
   "source": [
    "## 3109 빵집\n",
    "\n",
    "**문제로 이동** : [Baekjoon 빵집](https://www.acmicpc.net/problem/3109)\n",
    "\n",
    "- 빵집이 있는 곳은 R\\*C 격자로 표현할 수 있다\n",
    "- 첫째 열은 근처 빵집의 가스관이고 마지막 열은 원웅이 빵집이다\n",
    "- 가스관과 빵집을 연결하는 파이프를 설치하고자 한다\n",
    "- 가스관과 빵집을 연결하는 파이프라인을 여러 개 설치할 것이다"
   ]
  },
  {
   "cell_type": "code",
   "execution_count": 22,
   "metadata": {},
   "outputs": [
    {
     "name": "stdout",
     "output_type": "stream",
     "text": [
      "5 5\n",
      ".xx..\n",
      "..x..\n",
      ".....\n",
      "...x.\n",
      "...x.\n",
      "2\n"
     ]
    }
   ],
   "source": [
    "R, C=map(int,input().split())\n",
    "board=[list(input()) for _ in range(R)]\n",
    "\n",
    "dx=[-1,0,1]\n",
    "dy=[1,1,1]\n",
    "\n",
    "def DFS(i,j):\n",
    "    global flag, answer\n",
    "    if i==-1 or i==R:\n",
    "        return\n",
    "    if board[i][j]=='x':\n",
    "        return\n",
    "    board[i][j]='x'\n",
    "    if (j==C-1):\n",
    "        flag=True\n",
    "        answer+=1\n",
    "        return\n",
    "    for d in range(3):\n",
    "        DFS(i+dx[d], j+dy[d])\n",
    "        if (flag): return\n",
    "        \n",
    "answer=0\n",
    "for i in range(R):\n",
    "    flag=False\n",
    "    DFS(i,0)\n",
    "print(answer)"
   ]
  },
  {
   "cell_type": "markdown",
   "metadata": {},
   "source": [
    "## 5430 AC\n",
    "\n",
    "**문제로 이동** : [Baekjoon AC](https://www.acmicpc.net/problem/5430)\n",
    "\n",
    "- AC는 정수 배열에 연산을 하기 위해 만든 언어이다\n",
    "- R은 배열에 있는 숫자의 순서를 뒤집는 함수\n",
    "- D는 첫번째 숫자를 버리는 함수이다. 배열이 비어있는 경우 에러가 발생\n",
    "- 배열의 초기값과 수행할 함수가 주어졌을 때 최종 결과를 구하는 프로그램을 작성하라"
   ]
  },
  {
   "cell_type": "code",
   "execution_count": 1,
   "metadata": {},
   "outputs": [
    {
     "name": "stdout",
     "output_type": "stream",
     "text": [
      "4\n",
      "RDD\n",
      "4\n",
      "[1,2,3,4]\n",
      "[2,1]\n",
      "DD\n",
      "1\n",
      "[42]\n",
      "error\n",
      "RRD\n",
      "6\n",
      "[1,1,2,3,5,8]\n",
      "[1,2,3,5,8]\n",
      "D\n",
      "0\n",
      "[]\n",
      "error\n"
     ]
    }
   ],
   "source": [
    "import sys\n",
    "from collections import deque\n",
    "# input=sys.stdin.readline\n",
    "\n",
    "T=int(input())\n",
    "for _ in range(T):\n",
    "    command=list(input())\n",
    "    num=int(input())\n",
    "    tc=input()[1:-1].split(\",\")\n",
    "    queue=deque()\n",
    "    for i in tc:\n",
    "        if i!=\"\":\n",
    "            queue.append(i)\n",
    "    \n",
    "    error, reverse=False, False\n",
    "    for c in command:\n",
    "        if (c=='R'):\n",
    "            reverse=not reverse\n",
    "        else:\n",
    "            if (queue and queue[0]!=''):\n",
    "                if (not reverse):\n",
    "                    queue.popleft()\n",
    "                else: queue.pop()\n",
    "            else:\n",
    "                error=True\n",
    "                break\n",
    "    if (error): print(\"error\")\n",
    "    else:\n",
    "        if (reverse):\n",
    "            queue.reverse()\n",
    "        print(\"[\", end='')\n",
    "        for i in range(len(queue)):\n",
    "            if (i==len(queue)-1):\n",
    "                print(queue[i], end='')\n",
    "            else:\n",
    "                print(queue[i],end=',')\n",
    "        print(\"]\")"
   ]
  },
  {
   "cell_type": "code",
   "execution_count": null,
   "metadata": {},
   "outputs": [],
   "source": []
  }
 ],
 "metadata": {
  "kernelspec": {
   "display_name": "Python 3",
   "language": "python",
   "name": "python3"
  },
  "language_info": {
   "codemirror_mode": {
    "name": "ipython",
    "version": 3
   },
   "file_extension": ".py",
   "mimetype": "text/x-python",
   "name": "python",
   "nbconvert_exporter": "python",
   "pygments_lexer": "ipython3",
   "version": "3.8.3"
  }
 },
 "nbformat": 4,
 "nbformat_minor": 4
}
