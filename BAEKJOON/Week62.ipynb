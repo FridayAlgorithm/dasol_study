{
 "cells": [
  {
   "cell_type": "markdown",
   "metadata": {},
   "source": [
    "# 62주차\n",
    "\n",
    "#### [62주차 문제집](https://www.acmicpc.net/group/workbook/view/10320/44703)\n",
    "\n",
    "* [7579 앱](https://www.acmicpc.net/problem/7579)\n",
    "* [1774 우주신과의 교감](https://www.acmicpc.net/problem/1774)\n",
    "* [18428 감시 피하기](https://www.acmicpc.net/problem/18428)\n",
    "* [1976 여행가자](https://www.acmicpc.net/problem/1976)\n",
    "* [18429 근손실](https://www.acmicpc.net/problem/18429)"
   ]
  },
  {
   "cell_type": "markdown",
   "metadata": {},
   "source": [
    "## 7579 앱\n",
    "\n",
    "**문제로 이동** : [Baekjoon 앱](https://www.acmicpc.net/problem/7579)\n",
    "\n",
    "- N개의 앱이 활성화 되어있을 때 각 앱은 m바이트만큼 메모리를 사용중이다\n",
    "- 앱을 비활성화한 후 다시 실행할 때 추가적으로 들어가는 비용은 c이다.\n",
    "- 사용자가 새로운 앱 B를 실행하고자하여 M바이트의 메모리가 필요하다\n",
    "- 앱 중에 몇 개를 비활성화하여 M바이트를 활성화해야한다. \n",
    "- 비활성화할 앱의 비용의 합을 최소로하여 메모리 M바이트를 확보하여라"
   ]
  },
  {
   "cell_type": "code",
   "execution_count": 3,
   "metadata": {},
   "outputs": [
    {
     "name": "stdout",
     "output_type": "stream",
     "text": [
      "5 60\n",
      "30 10 20 35 40\n",
      "3 0 3 5 4\n",
      "[[10, 0], [30, 3], [20, 3], [40, 4], [35, 5]]\n",
      "6\n"
     ]
    }
   ],
   "source": [
    "import sys\n",
    "\n",
    "#input=sys.stdin.readline\n",
    "N,M=map(int,input().split())\n",
    "memory=list(map(int,input().split()))\n",
    "moreNeed=list(map(int,input().split()))\n",
    "memories=[]\n",
    "for i in range(N):\n",
    "    memories.append([memory[i], moreNeed[i]])\n",
    "memories.sort(key=lambda x:(x[1],-x[0]))\n",
    "print(memories)\n",
    "temp,res=0,0\n",
    "for i in range(N):\n",
    "    temp+=memories[i][0]\n",
    "    res+=memories[i][1]\n",
    "    if (temp>=M):\n",
    "        break\n",
    "print(res)"
   ]
  },
  {
   "cell_type": "code",
   "execution_count": 9,
   "metadata": {},
   "outputs": [
    {
     "name": "stdout",
     "output_type": "stream",
     "text": [
      "5 60\n",
      "30 10 20 35 40\n",
      "3 0 3 5 4\n",
      "[0, 0, 0, 30, 30, 30, 30, 30, 30, 30, 30, 30, 30, 30, 30, 30]\n",
      "[0, 0, 0, 0, 0, 0, 0, 0, 0, 0, 0, 0, 0, 0, 0, 0]\n",
      "[0, 0, 0, 0, 0, 0, 0, 0, 0, 0, 0, 0, 0, 0, 0, 0]\n",
      "[0, 0, 0, 0, 0, 0, 0, 0, 0, 0, 0, 0, 0, 0, 0, 0]\n",
      "[0, 0, 0, 0, 0, 0, 0, 0, 0, 0, 0, 0, 0, 0, 0, 0]\n",
      "\n",
      "[0, 0, 0, 30, 30, 30, 30, 30, 30, 30, 30, 30, 30, 30, 30, 30]\n",
      "[10, 10, 10, 40, 40, 40, 40, 40, 40, 40, 40, 40, 40, 40, 40, 40]\n",
      "[0, 0, 0, 0, 0, 0, 0, 0, 0, 0, 0, 0, 0, 0, 0, 0]\n",
      "[0, 0, 0, 0, 0, 0, 0, 0, 0, 0, 0, 0, 0, 0, 0, 0]\n",
      "[0, 0, 0, 0, 0, 0, 0, 0, 0, 0, 0, 0, 0, 0, 0, 0]\n",
      "\n",
      "[0, 0, 0, 30, 30, 30, 30, 30, 30, 30, 30, 30, 30, 30, 30, 30]\n",
      "[10, 10, 10, 40, 40, 40, 40, 40, 40, 40, 40, 40, 40, 40, 40, 40]\n",
      "[10, 10, 10, 40, 40, 40, 60, 60, 60, 60, 60, 60, 60, 60, 60, 60]\n",
      "[0, 0, 0, 0, 0, 0, 0, 0, 0, 0, 0, 0, 0, 0, 0, 0]\n",
      "[0, 0, 0, 0, 0, 0, 0, 0, 0, 0, 0, 0, 0, 0, 0, 0]\n",
      "\n",
      "[0, 0, 0, 30, 30, 30, 30, 30, 30, 30, 30, 30, 30, 30, 30, 30]\n",
      "[10, 10, 10, 40, 40, 40, 40, 40, 40, 40, 40, 40, 40, 40, 40, 40]\n",
      "[10, 10, 10, 40, 40, 40, 60, 60, 60, 60, 60, 60, 60, 60, 60, 60]\n",
      "[10, 10, 10, 40, 40, 45, 60, 60, 75, 75, 75, 95, 95, 95, 95, 95]\n",
      "[0, 0, 0, 0, 0, 0, 0, 0, 0, 0, 0, 0, 0, 0, 0, 0]\n",
      "\n",
      "6\n"
     ]
    }
   ],
   "source": [
    "import sys\n",
    "\n",
    "#input=sys.stdin.readline\n",
    "N,M=map(int,input().split())\n",
    "memory=list(map(int,input().split()))\n",
    "moreNeed=list(map(int,input().split()))\n",
    "maxNeed=sum(moreNeed)\n",
    "dp=[[0]*(maxNeed+1) for _ in range(N)]\n",
    "res=maxNeed\n",
    "if M==0:\n",
    "    print(0)\n",
    "else:\n",
    "    for i in range(maxNeed+1):\n",
    "        if moreNeed[0]<=i:\n",
    "            dp[0][i]=memory[0]\n",
    "    for i in range(1,N):\n",
    "#         print(*dp,sep=\"\\n\")\n",
    "        for j in range(maxNeed+1):\n",
    "            if moreNeed[i]>j:\n",
    "                dp[i][j]=dp[i-1][j]\n",
    "            else:\n",
    "                dp[i][j]=max(memory[i]+dp[i-1][j-moreNeed[i]],dp[i-1][j])\n",
    "            if (dp[i][j]>=M):\n",
    "                res=min(res, j)\n",
    "    print(res)"
   ]
  },
  {
   "cell_type": "markdown",
   "metadata": {},
   "source": [
    "## 1774 우주신과의 교감\n",
    "\n",
    "**문제로 이동** : [Baekjoon 우주신과의 교감](https://www.acmicpc.net/problem/1774)\n",
    "\n",
    "- 이미 황선자씨와 연결된 통로들이 존재한다\n",
    "- 이미 연결된 우주신들을 통해 새로운 우주신들을 연결해야한다\n",
    "- 새로 만들어야 할 정신적 통로 길이의 합이 최소가 되게 만들어 \"빵상\"을 외칠수 있게 도와주자"
   ]
  },
  {
   "cell_type": "code",
   "execution_count": 5,
   "metadata": {},
   "outputs": [
    {
     "name": "stdout",
     "output_type": "stream",
     "text": [
      "2\n",
      "5\n",
      "1 2 3 4 5\n",
      "15\n",
      "5\n",
      "2 1 -2 3 -5\n",
      "4\n"
     ]
    }
   ],
   "source": [
    "import sys\n",
    "\n",
    "#input=sys.stdin.readline\n",
    "N,M=map(int,input().split())\n",
    "coordinate=[]\n",
    "isConnect=[[0]*N for _ in range(N)]\n",
    "for _ in range(1,N+1):\n",
    "    x,y=map(int,input().split())\n",
    "    coordinate.append([x,y])\n",
    "\n",
    "count=N-1\n",
    "for _ in range(M):\n",
    "    a,b=map(int,input().split())\n",
    "    pa,pb=findParent(a),findParent(b)\n",
    "    if pa!=pb:\n",
    "        union(pa, pb)\n",
    "        count-=1\n",
    "    isConnect[a][b]=1\n",
    "    isConnect[b][a]=1\n",
    "\n",
    "def findParent(x):\n",
    "    if x==parent[x]:\n",
    "        return x\n",
    "    parent[x]=find(parent[x])\n",
    "    return parent[x]\n",
    "\n",
    "def union(x,y):\n",
    "    parentX=findParent(x)\n",
    "    parentY=findParent(y)\n",
    "    if parentX<parentY:\n",
    "        parent[y]=parentX\n",
    "    else:\n",
    "        parent[x]=parentY\n",
    "        \n",
    "def getDistance(x,y):\n",
    "    return ((a[0]-b[0])**2+(a[1]-b[1])**2)**0.5"
   ]
  },
  {
   "cell_type": "markdown",
   "metadata": {},
   "source": [
    "## 18428 감시 피하기\n",
    "\n",
    "**문제로 이동** : [Baekjoon 감시 피하기](https://www.acmicpc.net/problem/18428)\n",
    "\n",
    "- 학생은 선생님의 감시에 들키지 않고 나가야한다\n",
    "- 선생님들은 자신의 위치에서 상하좌우 4 방향으로 감시를 진행한다\n",
    "- 선생님은 T, 학생은 S, 장애물은 O로 표시하며 장애물 뒤의 학생은 선생님이 볼 수 없다\n",
    "- 학생들은 원하는 위치에 장애물 3개를 설치 할 수 있다\n",
    "- 모든 학생들이 선생님들의 감시를 피할 수 있도록 3개의 장애물을 설치할 수 있는지 출력하는 프로그램을 작성하라\n",
    "- 모든 학생이 감시를 피할 수 있다면 \"YES\", 그렇지 않다면 \"NO\"를 출력한다"
   ]
  },
  {
   "cell_type": "code",
   "execution_count": 13,
   "metadata": {},
   "outputs": [
    {
     "name": "stdout",
     "output_type": "stream",
     "text": [
      "5\n",
      "X S X X T\n",
      "T X S X X\n",
      "X X X X X\n",
      "X T X X X\n",
      "X X T X X\n",
      "YES\n"
     ]
    }
   ],
   "source": [
    "from collections import deque\n",
    "import sys\n",
    "\n",
    "#input=sys.stdin.readline\n",
    "n=int(input())\n",
    "board=[list(input().split()) for _ in range(n)]\n",
    "\n",
    "dx=[-1,1,0,0]\n",
    "dy=[0,0,-1,1]\n",
    "queue=deque()\n",
    "def bfs():\n",
    "    visit=[[False]*n for _ in range(n)]\n",
    "    for i in range(n):\n",
    "        for j in range(n):\n",
    "            if board[i][j]=='T':\n",
    "                queue.append((i,j))  \n",
    "    while queue:\n",
    "        x,y=queue.popleft()\n",
    "        for i in range(4):\n",
    "            tempX, tempY=x,y\n",
    "            while True:\n",
    "                nx=tempX+dx[i]\n",
    "                ny=tempY+dy[i]\n",
    "                if 0<=nx<n and 0<=ny<n:\n",
    "                    if board[nx][ny]=='X' and not visit[nx][ny]:\n",
    "                        visit[nx][ny]=True\n",
    "                    elif board[nx][ny]=='S':\n",
    "                        return False\n",
    "                    elif board[nx][ny]=='O':\n",
    "                        break\n",
    "                    tempX, tempY=nx,ny\n",
    "                else:\n",
    "                    break\n",
    "    return True\n",
    "\n",
    "check=False\n",
    "def makeWall(idx):\n",
    "    global check\n",
    "    if idx==3:\n",
    "        if bfs():\n",
    "            check=True\n",
    "        return\n",
    "    for i in range(n):\n",
    "        for j in range(n):\n",
    "            if board[i][j]=='X':\n",
    "                board[i][j]='O'\n",
    "                makeWall(idx+1)\n",
    "                board[i][j]='X'\n",
    "                \n",
    "makeWall(0)\n",
    "if check: print('YES')\n",
    "else: print('NO')"
   ]
  },
  {
   "cell_type": "markdown",
   "metadata": {},
   "source": [
    "## 1976 여행 가자\n",
    "\n",
    "**문제로 이동** : [Baekjoon 여행 가자](https://www.acmicpc.net/problem/1976)\n",
    "\n",
    "- 도시가 N개가 있고 두 도시 사이에 길이 있을 수도, 없을 수도 있다\n",
    "- 동혁이의 여행 일정이 주어질 때 경로가 가능한 것인지 알아보자\n",
    "- 같은 도시를 여러 번 방문하는 것도 가능하다"
   ]
  },
  {
   "cell_type": "code",
   "execution_count": 16,
   "metadata": {},
   "outputs": [
    {
     "name": "stdout",
     "output_type": "stream",
     "text": [
      "3\n",
      "3\n",
      "0 1 0\n",
      "1 0 1\n",
      "0 1 0\n",
      "1 2 3\n",
      "NO\n"
     ]
    }
   ],
   "source": [
    "#시간초과\n",
    "import sys\n",
    "from collections import deque\n",
    "\n",
    "#input=sys.stdin.readline\n",
    "N=int(input())\n",
    "M=int(input())\n",
    "connect=[list(map(int,input().split())) for _ in range(N)]\n",
    "plan=list(map(int,input().split()))\n",
    "queue=deque()\n",
    "plan=deque(plan)\n",
    "queue.append(plan[0])\n",
    "\n",
    "while (queue):\n",
    "    cur=queue.popleft()\n",
    "    for i in range(N):\n",
    "        if (not plan): break\n",
    "        if (connect[cur-1][i]==1):\n",
    "            next=i+1\n",
    "            if (next==plan[0]):\n",
    "                plan.popleft()\n",
    "            queue.append(next)\n",
    "            \n",
    "if (plan):\n",
    "    print(\"NO\")\n",
    "else: print(\"YES\")"
   ]
  },
  {
   "cell_type": "code",
   "execution_count": 29,
   "metadata": {},
   "outputs": [
    {
     "name": "stdout",
     "output_type": "stream",
     "text": [
      "3\n",
      "3\n",
      "0 1 0\n",
      "1 0 1\n",
      "0 1 0\n",
      "[0, 0, 0]\n",
      "1 2 3\n",
      "YES\n"
     ]
    }
   ],
   "source": [
    "import sys\n",
    "\n",
    "#input=sys.stdin.readline\n",
    "N=int(input())\n",
    "M=int(input())\n",
    "connect=[list(map(int,input().split())) for _ in range(N)]\n",
    "\n",
    "for k in range(N):\n",
    "    for i in range(N):\n",
    "        for j in range(N):\n",
    "            if i==j:\n",
    "                connect[i][j]=1\n",
    "            if connect[i][k] and connect[k][j]:\n",
    "                connect[i][j]=1\n",
    "                \n",
    "plan=list(map(int,input().split()))\n",
    "isAble=True\n",
    "for i in range(len(plan)-1):\n",
    "    if connect[plan[i]-1][plan[i+1]-1]!=1:\n",
    "        isAble=False\n",
    "if (isAble): print('YES')\n",
    "else: print('NO')"
   ]
  },
  {
   "cell_type": "markdown",
   "metadata": {},
   "source": [
    "## 18429 근손실\n",
    "\n",
    "**문제로 이동** : [Baekjoon 근손실](https://www.acmicpc.net/problem/18429)\n",
    "\n",
    "- 현재 3대 500을 치지만 하루가 지날 때마다 중량이 K만큼 감소한다\n",
    "- 운동키트를 사용하면 각 중량 증가량에 따라 중량이 증가한다\n",
    "- 각 운동키트는 N일동안 한 번씩만 사용할 수 있다\n",
    "- 운동기간동안 항상 중량이 500 이상으로 유지가 되도록 플랜을 세우고자 한다\n",
    "- 운동기간 동안 항상 500이사이 되도록하는 운동플랜의 경우의 수를 출력하라"
   ]
  },
  {
   "cell_type": "code",
   "execution_count": 5,
   "metadata": {},
   "outputs": [
    {
     "name": "stdout",
     "output_type": "stream",
     "text": [
      "3 4\n",
      "3 7 5\n",
      "4\n"
     ]
    }
   ],
   "source": [
    "import sys\n",
    "\n",
    "#input=sys.stdin.readline\n",
    "N,K=map(int,input().split())\n",
    "weight=list(map(int,input().split()))\n",
    "visit=[0]*N\n",
    "res=0\n",
    "def backtracking(count, curWeight):\n",
    "    global K, res\n",
    "    if (curWeight<500): return\n",
    "    if (count>=N): \n",
    "        res+=1\n",
    "        return\n",
    "    for i in range(N):\n",
    "        if visit[i]==0:\n",
    "            visit[i]=1\n",
    "            backtracking(count+1, curWeight+weight[i]-K)\n",
    "            visit[i]=0\n",
    "\n",
    "backtracking(0, 500)\n",
    "print(res)"
   ]
  },
  {
   "cell_type": "code",
   "execution_count": null,
   "metadata": {},
   "outputs": [],
   "source": []
  }
 ],
 "metadata": {
  "kernelspec": {
   "display_name": "Python 3",
   "language": "python",
   "name": "python3"
  },
  "language_info": {
   "codemirror_mode": {
    "name": "ipython",
    "version": 3
   },
   "file_extension": ".py",
   "mimetype": "text/x-python",
   "name": "python",
   "nbconvert_exporter": "python",
   "pygments_lexer": "ipython3",
   "version": "3.8.3"
  }
 },
 "nbformat": 4,
 "nbformat_minor": 4
}
