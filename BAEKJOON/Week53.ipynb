{
 "cells": [
  {
   "cell_type": "markdown",
   "metadata": {},
   "source": [
    "# 53주차\n",
    "\n",
    "[53주차 문제집](https://www.acmicpc.net/group/workbook/view/10320/41332)\n",
    "\n",
    "* [18222 투에-모스 문자열](https://www.acmicpc.net/problem/18222)\n",
    "* [1197 최소 스패닝 트리](https://www.acmicpc.net/problem/1197)\n",
    "* [11062 카드 게임](https://www.acmicpc.net/problem/11062)\n",
    "* [1405 미친 로봇](https://www.acmicpc.net/problem/1405)\n",
    "* [14226 이모티콘](https://www.acmicpc.net/problem/14226)"
   ]
  },
  {
   "cell_type": "markdown",
   "metadata": {},
   "source": [
    "## 18222 투에-모스 문자열\n",
    "\n",
    "**문제로 이동** : [Baekjoon 투에-모스 문자열](https://www.acmicpc.net/problem/18222)\n",
    "\n",
    "- 0과 1로 이루어진 길이가 무한한 문자열 x가 있다\n",
    "  * x는 맨 처음에 0으로 시작한다\n",
    "  * x에서 0을 1로 1을 0으로 바꾼 문자열 x'를 만든다\n",
    "  * x뒤에 x'를 붙인 문자열을 다시 x로 정의한다\n",
    "  * 2~3의 과정을 무한히 반복한다\n",
    "- 자연수 k가 주어질 때 x의 k번째에는 무슨 문자가 오는지 구하라"
   ]
  },
  {
   "cell_type": "code",
   "execution_count": 22,
   "metadata": {},
   "outputs": [
    {
     "name": "stdout",
     "output_type": "stream",
     "text": [
      "10\n",
      "0\n"
     ]
    }
   ],
   "source": [
    "# 시간초과\n",
    "x=[0]\n",
    "k=int(input())\n",
    "while (len(x)<=k):\n",
    "    for i in range(len(x)):\n",
    "        x.append(int(not(x[i])))\n",
    "print(x[k])"
   ]
  },
  {
   "cell_type": "code",
   "execution_count": 16,
   "metadata": {},
   "outputs": [
    {
     "name": "stdout",
     "output_type": "stream",
     "text": [
      "4\n",
      "1\n",
      "0\n"
     ]
    }
   ],
   "source": [
    "k=int(input())\n",
    "def recur(n):\n",
    "    if n==0: return 0\n",
    "    if n==1: return 1\n",
    "    if n%2!=0:\n",
    "        return 1-recur(n//2)\n",
    "    else:\n",
    "        return recur(n//2)\n",
    "print(recur(k-1))"
   ]
  },
  {
   "cell_type": "markdown",
   "metadata": {},
   "source": [
    "## 1197 최소 스패닝 트리\n",
    "\n",
    "**문제로 이동** : [Baekjoon 최소 스패닝 트리](https://www.acmicpc.net/problem/1197)\n",
    "\n",
    "- 그래프가 주어질 때 그래프의 최소 스패닝 트리를 구하는 프로그램을 작성하라\n",
    "- 최소스패닝트리란 주어진 그래프의 모든 정점들을 연결하는 부분 그래프 중 가중치의 합이 최소인 트리이다\n",
    "- 그래프가 주어질 때 최소 스패닝 트리의 가중치를 출력하라"
   ]
  },
  {
   "cell_type": "code",
   "execution_count": 18,
   "metadata": {},
   "outputs": [
    {
     "name": "stdout",
     "output_type": "stream",
     "text": [
      "3 3\n",
      "1 2 1\n",
      "2 3 2\n",
      "1 3 3\n",
      "3\n"
     ]
    }
   ],
   "source": [
    "#크루스칼\n",
    "import sys\n",
    "\n",
    "#input=sys.stdin.readline\n",
    "V, E=map(int,input().split())\n",
    "graph=[list(map(int,input().split())) for _ in range(E)]\n",
    "graph.sort(key=lambda x:x[2])\n",
    "union=[i for i in range(V+1)]\n",
    "res, line=0,0\n",
    "for node in graph:\n",
    "    A,B,C=node[0],node[1],node[2]\n",
    "    if (union[A]!=union[B]):\n",
    "        res+=C\n",
    "        line+=1\n",
    "        mini=min(union[A],union[B])\n",
    "        union[A],union[B]=mini, mini\n",
    "print(res)"
   ]
  },
  {
   "cell_type": "code",
   "execution_count": null,
   "metadata": {},
   "outputs": [],
   "source": [
    "#크루스칼\n",
    "import sys\n",
    "\n",
    "#input=sys.stdin.readline\n",
    "V, E=map(int,input().split())\n",
    "graph=[list(map(int,input().split())) for _ in range(E)]\n",
    "graph.sort(key=lambda x:x[2])\n",
    "parent=[i for i in range(V+1)]\n",
    "\n",
    "def findParent(n):\n",
    "    if (n==parent[n]): return n;\n",
    "    else: return findParent(parent[n])\n",
    "    \n",
    "def union(x, y):\n",
    "    pX, pY=findParent(x), findParent(y)\n",
    "    if pX>pY: parent[pX]=pY\n",
    "    else: parent[pY]=pX\n",
    "\n",
    "res=0\n",
    "for node in graph:\n",
    "    A,B,C=node[0],node[1],node[2]\n",
    "    if (findParent(A)==findParent(B)):\n",
    "        continue\n",
    "    res+=C\n",
    "    union(A,B)\n",
    "print(res)"
   ]
  },
  {
   "cell_type": "markdown",
   "metadata": {},
   "source": [
    "## 11062 카드 게임\n",
    "\n",
    "**문제로 이동** : [Baekjoon 카드 게임](https://www.acmicpc.net/problem/11062)\n",
    "\n",
    "- 일렬로 놓인 N개의 카드에는 각각 점수가 적혀있다\n",
    "- 게임은 턴제로 진행되는데 가장 왼쪽이나 오른쪽의 카드를 가져갈 수 있다\n",
    "- 카드가 남아있지 않을때까지 턴은 반복되며 게임의 점수는 자신이 가진 카드에 적힌 수이다\n",
    "- 근우와 명우는 서로 자신의 점수를 높이기위해 최선의 전략으로 게임에 임한다\n",
    "- 게임은 근우부터 시작한다\n",
    "- 놓여있는 카드의 개수 N과 놓여있는 상태가 주어질 때 근우가 얻는 점수를 구하라"
   ]
  },
  {
   "cell_type": "code",
   "execution_count": null,
   "metadata": {},
   "outputs": [],
   "source": [
    "import sys\n",
    "\n",
    "#input=sys.stdin.readline\n",
    "T=int(input())\n",
    "for _ in range(T):\n",
    "    N=int(input())\n",
    "    kard=list(map(int,input().split()))\n",
    "    g,m=0,0\n",
    "    if (kard[0]>kard[-1]):g+=kard[0]\n",
    "    else: g+=kard[1]"
   ]
  },
  {
   "cell_type": "markdown",
   "metadata": {},
   "source": [
    "## 1405 미친 로봇\n",
    "\n",
    "**문제로 이동** : [Baekjoon 미친 로봇](https://www.acmicpc.net/problem/1405)\n",
    "\n",
    "- 평면 위에 있는 미친 로봇은 N번의 행동을 취할 것이다\n",
    "- 로봇은 4개의 방향을 임의로 선택하여 그 방향으로 한 칸 이동한다\n",
    "- 로봇이 같은 곳을 한 번 이상 이동하지 않을 때 경로가 단순하다고 한다\n",
    "- 로봇의 이동 경로가 단순할 확률을 구하는 프로그램을 작성하라"
   ]
  },
  {
   "cell_type": "code",
   "execution_count": 22,
   "metadata": {},
   "outputs": [
    {
     "name": "stdout",
     "output_type": "stream",
     "text": [
      "2 25 25 25 25\n",
      "0.75\n"
     ]
    }
   ],
   "source": [
    "dx=[1,-1,0,0]\n",
    "dy=[0,0,-1,1]\n",
    "\n",
    "N, east, west, south, north=map(int,input().split())\n",
    "probability=[east,west,south,north]\n",
    "res=0\n",
    "visit=[(0,0)]\n",
    "\n",
    "def dfs(x, y, prob):\n",
    "    global res\n",
    "    if len(visit)==N+1:\n",
    "        res+=prob\n",
    "        return\n",
    "    for d in range(4):\n",
    "        nx=x+dx[d]\n",
    "        ny=y+dy[d]\n",
    "        if (nx, ny) not in visit:\n",
    "            visit.append((nx,ny))\n",
    "            dfs(nx,ny,prob*probability[d])\n",
    "            visit.pop()\n",
    "\n",
    "dfs(0,0,1)\n",
    "print(res*(0.01**N))"
   ]
  },
  {
   "cell_type": "markdown",
   "metadata": {},
   "source": [
    "## 14226 이모티콘\n",
    "\n",
    "**문제로 이동** : [Baekjoon 14226 이모티콘](https://www.acmicpc.net/problem/14226)\n",
    "\n",
    "- 영선이는 효빈이에게 스마일 이모티콘을 S개 보내려고한다\n",
    "- 영선이는 이미 이모티콘 하나를 보내고 3가지 연산만 사용하여 S개를 만들려고 한다\n",
    "  * 화면에 있는 이모티콘을 모두 복사해서 클립보드에 저장한다\n",
    "  * 클립보드의 모든 이모티콘을 화면에 붙여넣기 한다\n",
    "  * 화면에 있는 이모티콘 중 하나를 삭제한다\n",
    "- 클립보드에 이모티콘을 복사하면 이전 클립보드의 내용은 덮여쓰기된다\n",
    "- 클립보드가 비어있는 상태에서 붙여넣기 할 수 없고 일부만 복사할 수 없다\n",
    "- 영선이가 S개의 이모티콘을 화면에 만드는데 걸리는 시간의 최솟값을 구하라"
   ]
  },
  {
   "cell_type": "code",
   "execution_count": 28,
   "metadata": {},
   "outputs": [
    {
     "name": "stdout",
     "output_type": "stream",
     "text": [
      "2\n",
      "2\n"
     ]
    }
   ],
   "source": [
    "from collections import deque\n",
    "\n",
    "S=int(input())\n",
    "visit=[[0]*1001 for _ in range(1001)]\n",
    "queue=deque()\n",
    "queue.append((1,0,0))\n",
    "\n",
    "while queue:\n",
    "    screen, clip, time=queue.popleft()\n",
    "    if screen==S:\n",
    "        print(time)\n",
    "        break\n",
    "    if visit[screen][screen]==0:\n",
    "        visit[screen][screen]=1\n",
    "        queue.append((screen, screen, time+1))\n",
    "    if clip+screen<1001 and visit[screen+clip][clip]==0:\n",
    "        visit[screen+clip][clip]=1\n",
    "        queue.append((screen+clip, clip, time+1))\n",
    "    if 1<screen<1001 and visit[screen-1][clip]==0:\n",
    "        visit[screen-1][clip]=1\n",
    "        queue.append((screen-1, clip, time+1))"
   ]
  },
  {
   "cell_type": "code",
   "execution_count": null,
   "metadata": {},
   "outputs": [],
   "source": []
  }
 ],
 "metadata": {
  "kernelspec": {
   "display_name": "Python 3",
   "language": "python",
   "name": "python3"
  },
  "language_info": {
   "codemirror_mode": {
    "name": "ipython",
    "version": 3
   },
   "file_extension": ".py",
   "mimetype": "text/x-python",
   "name": "python",
   "nbconvert_exporter": "python",
   "pygments_lexer": "ipython3",
   "version": "3.8.3"
  }
 },
 "nbformat": 4,
 "nbformat_minor": 4
}
