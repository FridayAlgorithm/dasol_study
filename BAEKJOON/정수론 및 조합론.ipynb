{
 "cells": [
  {
   "cell_type": "code",
   "execution_count": 10,
   "metadata": {},
   "outputs": [
    {
     "name": "stdout",
     "output_type": "stream",
     "text": [
      "8 16\n",
      "32 4\n",
      "17 5\n",
      "0 0\n",
      "factor\n",
      "multiple\n",
      "neither\n"
     ]
    }
   ],
   "source": [
    "#5086 배수와 약수 - 1차 시도 (틀림!)\n",
    "import math\n",
    "def isWhat (a,b):\n",
    "    for i in range (int(math.sqrt(b))):\n",
    "        if (a*i==b):\n",
    "            print(\"factor\")\n",
    "            return\n",
    "    \n",
    "    if (a%b==0):\n",
    "        print(\"multiple\")\n",
    "        return\n",
    "    \n",
    "    else : \n",
    "        print(\"neither\")\n",
    "        return\n",
    "\n",
    "inputArr=[]\n",
    "while(True):\n",
    "    a = list(map(int,input().split()))\n",
    "    if (a[0]==0 and a[1]==0): break\n",
    "    else : inputArr.append(a)\n",
    "        \n",
    "for i in range(len(inputArr)):\n",
    "    isWhat(inputArr[i][0], inputArr[i][1])\n"
   ]
  },
  {
   "cell_type": "code",
   "execution_count": 15,
   "metadata": {
    "scrolled": true
   },
   "outputs": [
    {
     "name": "stdout",
     "output_type": "stream",
     "text": [
      "8 16\n",
      "32 4\n",
      "17 6\n",
      "0 0\n",
      "factor\n",
      "multiple\n",
      "neither\n"
     ]
    }
   ],
   "source": [
    "#5086 배수와 약수 - 정답!\n",
    "def isWhat (a,b):\n",
    "    if (a<b):\n",
    "        if(b%a==0):\n",
    "            print(\"factor\")\n",
    "            return\n",
    "    elif (a%b==0):\n",
    "            print(\"multiple\")\n",
    "            return\n",
    "    else: \n",
    "        print(\"neither\")\n",
    "        return\n",
    "    \n",
    "inputArr=[]\n",
    "while(True):\n",
    "    a = list(map(int,input().split()))\n",
    "    if (a[0]==0 and a[1]==0): break\n",
    "    else : inputArr.append(a)\n",
    "        \n",
    "for i in range(len(inputArr)):\n",
    "    isWhat(inputArr[i][0], inputArr[i][1])"
   ]
  },
  {
   "cell_type": "code",
   "execution_count": 2,
   "metadata": {},
   "outputs": [
    {
     "name": "stdout",
     "output_type": "stream",
     "text": [
      "8 16\n",
      "factor\n",
      "32 4\n",
      "multiple\n",
      "17 6\n",
      "neither\n",
      "0 0\n"
     ]
    }
   ],
   "source": [
    "#스터디 후 추가\n",
    "while True:\n",
    "    a, b = map(int,input().split())\n",
    "    if a==0 and b==0: break\n",
    "    if b%a == 0 : print('factor')\n",
    "    elif a %b ==0 : print(\"multiple\")\n",
    "    else: print(\"neither\")"
   ]
  },
  {
   "cell_type": "code",
   "execution_count": 18,
   "metadata": {},
   "outputs": [
    {
     "name": "stdout",
     "output_type": "stream",
     "text": [
      "2\n",
      "4 2\n",
      "8\n"
     ]
    }
   ],
   "source": [
    "#1037 약수\n",
    "N = int(input())\n",
    "result=0\n",
    "divisor = list(map(int,input().split()))\n",
    "divisor.sort()\n",
    "if (N==1): result=pow(divisor[0],2)\n",
    "else : result=divisor[0]*divisor[len(divisor)-1]\n",
    "print(result)"
   ]
  },
  {
   "cell_type": "code",
   "execution_count": 1,
   "metadata": {},
   "outputs": [
    {
     "name": "stdout",
     "output_type": "stream",
     "text": [
      "24 18\n",
      "6\n",
      "72\n"
     ]
    }
   ],
   "source": [
    "#2609 최대공약수와 최소공배수\n",
    "def gcd (a,b):\n",
    "    while(a%b!=0):\n",
    "        a,b=b,a%b\n",
    "    return b\n",
    "    \n",
    "def lcm (a,b):\n",
    "    multi = gcd(a,b)\n",
    "    return multi*(a//multi)*(b//multi)\n",
    "    \n",
    "a,b=map(int,input().split())\n",
    "print(gcd(a,b))\n",
    "print(lcm(a,b))"
   ]
  },
  {
   "cell_type": "code",
   "execution_count": 2,
   "metadata": {},
   "outputs": [
    {
     "name": "stdout",
     "output_type": "stream",
     "text": [
      "3\n",
      "1 45000\n",
      "45000\n",
      "6 10\n",
      "30\n",
      "13 17\n",
      "221\n"
     ]
    }
   ],
   "source": [
    "#1934 최소공배수\n",
    "def gcd (a,b):\n",
    "    while(a%b!=0):\n",
    "        a,b=b,a%b\n",
    "    return b\n",
    "    \n",
    "def lcm (a,b):\n",
    "    multi = gcd(a,b)\n",
    "    return multi*(a//multi)*(b//multi)\n",
    "    \n",
    "T=int(input())\n",
    "for i in range(T):\n",
    "    a,b = map(int,input().split())\n",
    "    print(lcm(a,b))"
   ]
  },
  {
   "cell_type": "code",
   "execution_count": null,
   "metadata": {},
   "outputs": [],
   "source": []
  }
 ],
 "metadata": {
  "kernelspec": {
   "display_name": "Python 3",
   "language": "python",
   "name": "python3"
  },
  "language_info": {
   "codemirror_mode": {
    "name": "ipython",
    "version": 3
   },
   "file_extension": ".py",
   "mimetype": "text/x-python",
   "name": "python",
   "nbconvert_exporter": "python",
   "pygments_lexer": "ipython3",
   "version": "3.7.9"
  }
 },
 "nbformat": 4,
 "nbformat_minor": 4
}
