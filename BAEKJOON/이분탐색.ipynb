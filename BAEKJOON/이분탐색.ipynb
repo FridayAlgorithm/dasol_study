{
 "cells": [
  {
   "cell_type": "code",
   "execution_count": 21,
   "metadata": {},
   "outputs": [
    {
     "name": "stdout",
     "output_type": "stream",
     "text": [
      "5\n",
      "4 1 5 2 3\n",
      "5\n",
      "1 3 7 9 5\n",
      "1\n",
      "1\n",
      "0\n",
      "0\n",
      "1\n"
     ]
    }
   ],
   "source": [
    "#1920 수 찾기\n",
    "def findNum (left,right, n):\n",
    "    right-=1\n",
    "    while(left<=right):\n",
    "        mid = int((left+right)/2)\n",
    "        if (n==A[mid]):\n",
    "            return 1\n",
    "        elif (n < A[mid]):\n",
    "            right=mid-1\n",
    "        elif (n > A[mid]):\n",
    "            left=mid+1\n",
    "    return 0\n",
    "\n",
    "N = int(input())\n",
    "A = list(map(int,input().split()))\n",
    "A.sort()\n",
    "M = int(input())\n",
    "mInput = list(map(int,input().split()))\n",
    "for i in mInput:\n",
    "    print(findNum(0, N,i))\n"
   ]
  },
  {
   "cell_type": "code",
   "execution_count": 24,
   "metadata": {},
   "outputs": [
    {
     "name": "stdout",
     "output_type": "stream",
     "text": [
      "10\n",
      "6 3 2 10 10 10 -10 -10 7 3\n",
      "8\n",
      "10 9 -5 2 3 4 5 -10\n"
     ]
    },
    {
     "ename": "KeyboardInterrupt",
     "evalue": "",
     "output_type": "error",
     "traceback": [
      "\u001b[1;31m---------------------------------------------------------------------------\u001b[0m",
      "\u001b[1;31mKeyboardInterrupt\u001b[0m                         Traceback (most recent call last)",
      "\u001b[1;32m<ipython-input-24-8c1770318bdf>\u001b[0m in \u001b[0;36m<module>\u001b[1;34m\u001b[0m\n\u001b[0;32m     21\u001b[0m \u001b[1;32mfor\u001b[0m \u001b[0mi\u001b[0m \u001b[1;32min\u001b[0m \u001b[0mmInput\u001b[0m\u001b[1;33m:\u001b[0m\u001b[1;33m\u001b[0m\u001b[1;33m\u001b[0m\u001b[0m\n\u001b[0;32m     22\u001b[0m     \u001b[0mcount\u001b[0m\u001b[1;33m=\u001b[0m\u001b[1;36m0\u001b[0m\u001b[1;33m\u001b[0m\u001b[1;33m\u001b[0m\u001b[0m\n\u001b[1;32m---> 23\u001b[1;33m     \u001b[0mprint\u001b[0m\u001b[1;33m(\u001b[0m\u001b[0mfindNum\u001b[0m\u001b[1;33m(\u001b[0m\u001b[1;36m0\u001b[0m\u001b[1;33m,\u001b[0m \u001b[0mN\u001b[0m\u001b[1;33m,\u001b[0m\u001b[0mi\u001b[0m\u001b[1;33m)\u001b[0m\u001b[1;33m)\u001b[0m\u001b[1;33m\u001b[0m\u001b[1;33m\u001b[0m\u001b[0m\n\u001b[0m",
      "\u001b[1;32m<ipython-input-24-8c1770318bdf>\u001b[0m in \u001b[0;36mfindNum\u001b[1;34m(left, right, n)\u001b[0m\n\u001b[0;32m      4\u001b[0m     \u001b[0mright\u001b[0m\u001b[1;33m-=\u001b[0m\u001b[1;36m1\u001b[0m\u001b[1;33m\u001b[0m\u001b[1;33m\u001b[0m\u001b[0m\n\u001b[0;32m      5\u001b[0m     \u001b[1;32mwhile\u001b[0m\u001b[1;33m(\u001b[0m\u001b[0mleft\u001b[0m\u001b[1;33m<=\u001b[0m\u001b[0mright\u001b[0m\u001b[1;33m)\u001b[0m\u001b[1;33m:\u001b[0m\u001b[1;33m\u001b[0m\u001b[1;33m\u001b[0m\u001b[0m\n\u001b[1;32m----> 6\u001b[1;33m         \u001b[0mmid\u001b[0m \u001b[1;33m=\u001b[0m \u001b[0mint\u001b[0m\u001b[1;33m(\u001b[0m\u001b[1;33m(\u001b[0m\u001b[0mleft\u001b[0m\u001b[1;33m+\u001b[0m\u001b[0mright\u001b[0m\u001b[1;33m)\u001b[0m\u001b[1;33m/\u001b[0m\u001b[1;36m2\u001b[0m\u001b[1;33m)\u001b[0m\u001b[1;33m\u001b[0m\u001b[1;33m\u001b[0m\u001b[0m\n\u001b[0m\u001b[0;32m      7\u001b[0m         \u001b[1;32mif\u001b[0m \u001b[1;33m(\u001b[0m\u001b[0mn\u001b[0m\u001b[1;33m==\u001b[0m\u001b[0mA\u001b[0m\u001b[1;33m[\u001b[0m\u001b[0mmid\u001b[0m\u001b[1;33m]\u001b[0m\u001b[1;33m)\u001b[0m\u001b[1;33m:\u001b[0m\u001b[1;33m\u001b[0m\u001b[1;33m\u001b[0m\u001b[0m\n\u001b[0;32m      8\u001b[0m             \u001b[0mcount\u001b[0m\u001b[1;33m+=\u001b[0m\u001b[1;36m1\u001b[0m\u001b[1;33m\u001b[0m\u001b[1;33m\u001b[0m\u001b[0m\n",
      "\u001b[1;31mKeyboardInterrupt\u001b[0m: "
     ]
    }
   ],
   "source": [
    "#10816 숫자카드 2\n",
    "#시간초과\n",
    "\n",
    "import sys\n",
    "\n",
    "def lowerBound(target, size):\n",
    "    mid=0;\n",
    "    left =0; right=size-1\n",
    "    \n",
    "    while (right>left):\n",
    "        mid = int((left+right)/2)\n",
    "        if (arr[mid] >= target):\n",
    "            right = mid\n",
    "        else: left = mid+1\n",
    "    return right\n",
    "    \n",
    "def upperBound(target, size):\n",
    "    mid=0;\n",
    "    left =0; right=size-1\n",
    "    \n",
    "    while (right>left):\n",
    "        mid = int((left+right)/2)\n",
    "        if (arr[mid] > target):\n",
    "            right = mid\n",
    "        else: left = mid+1\n",
    "    return right\n",
    "    \n",
    "N=int(input())\n",
    "arr=list(map(int,sys.stdin.readline().split()))\n",
    "arr.sort()\n",
    "M=int(input())\n",
    "mArr=list(map(int,sys.stdin.readline().split()))\n",
    "for i in mArr:\n",
    "    upper=upperBound(i, N)\n",
    "    lower=lowerBound(i,N)\n",
    "    if (upper == N - 1 and arr[N - 1] == i):\n",
    "            upper+=1\n",
    "    print(upper-lower, end=' ')"
   ]
  },
  {
   "cell_type": "code",
   "execution_count": 2,
   "metadata": {},
   "outputs": [
    {
     "name": "stdout",
     "output_type": "stream",
     "text": [
      "4 11\n",
      "802\n",
      "743\n",
      "457\n",
      "539\n",
      "200\n"
     ]
    }
   ],
   "source": [
    "#1654 랜선자르기\n",
    "import sys\n",
    "\n",
    "K, N = map(int, input().split())\n",
    "#length = [int(sys.stdin.readline()) for _ in range(K)]\n",
    "length=[int(input()) for _ in range(K)]\n",
    "start, end = 1, max(length)\n",
    "\n",
    "while (start <= end):\n",
    "    mid=(start+end)//2\n",
    "    line=0\n",
    "    for i in length:\n",
    "        line+=i//mid\n",
    "        \n",
    "    if (line >= N):\n",
    "        start=mid+1\n",
    "    else:\n",
    "        end=mid-1\n",
    "print(end)"
   ]
  },
  {
   "cell_type": "code",
   "execution_count": 3,
   "metadata": {},
   "outputs": [
    {
     "name": "stdout",
     "output_type": "stream",
     "text": [
      "4 7\n",
      "20 15 10 17\n",
      "15\n"
     ]
    }
   ],
   "source": [
    "#2805 나무자르기\n",
    "#시간초과 -> pypy3\n",
    "import sys\n",
    "\n",
    "N,M = map(int, input().split())\n",
    "height = list(map(int,input().split()))\n",
    "start, end = 1, max(height)\n",
    "\n",
    "while (start <= end):\n",
    "    mid=(start+end)//2\n",
    "    tree=0\n",
    "    for i in height:\n",
    "        if (i>=mid):\n",
    "            tree+=(i-mid)\n",
    "        \n",
    "    if (tree >= M):\n",
    "        start=mid+1\n",
    "    else:\n",
    "        end=mid-1\n",
    "print(end)\n"
   ]
  },
  {
   "cell_type": "code",
   "execution_count": null,
   "metadata": {},
   "outputs": [],
   "source": []
  }
 ],
 "metadata": {
  "kernelspec": {
   "display_name": "Python 3",
   "language": "python",
   "name": "python3"
  },
  "language_info": {
   "codemirror_mode": {
    "name": "ipython",
    "version": 3
   },
   "file_extension": ".py",
   "mimetype": "text/x-python",
   "name": "python",
   "nbconvert_exporter": "python",
   "pygments_lexer": "ipython3",
   "version": "3.7.9"
  }
 },
 "nbformat": 4,
 "nbformat_minor": 4
}
