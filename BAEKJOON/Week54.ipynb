{
 "cells": [
  {
   "cell_type": "markdown",
   "metadata": {},
   "source": [
    "# 54주차\n",
    "\n",
    "[54주차 문제집](https://www.acmicpc.net/group/workbook/view/10320/41519)\n",
    "\n",
    "* [7576 토마토](https://www.acmicpc.net/problem/7576)\n",
    "* [14502 연구소](https://www.acmicpc.net/problem/14502)\n",
    "* [2641 다각형그리기](https://www.acmicpc.net/problem/2641)\n",
    "* [2529 부등호](https://www.acmicpc.net/problem/2529)\n",
    "* [2667 단지번호붙이기](https://www.acmicpc.net/problem/2667)"
   ]
  },
  {
   "cell_type": "markdown",
   "metadata": {},
   "source": [
    "## 7576 토마토\n",
    "\n",
    "**문제로 이동** : [Baekjoon 토마토](https://www.acmicpc.net/problem/7576)\n",
    "\n",
    "- 토마토 농장에서는 격자 모양 상자의 칸에 토마토를 하나씩 넣어 보관한다\n",
    "- 토마토는 잘 익은 토마토도 있지만 아직 익지 않은 토마토도 있을 수 있다\n",
    "- 보관 후 하루가 지나면 익은 토마토들의 인접한 곳에 있는 익지 않은 토마토들이 익게된다\n",
    "- 인접한 토마토는 상하좌우에 있는 토마토들이며 대각선에 있는 토마토는 영향을 받지 않는다\n",
    "- 토마토가 저절로 익는 경우는 없다고 가정한다\n",
    "- 창고에 익은 토마토와 익지않은 토마토들의 정보가 주어질 때 며칠이 지나면 모든 토마토가 익는지 최소 일수를 구하라"
   ]
  },
  {
   "cell_type": "code",
   "execution_count": 22,
   "metadata": {},
   "outputs": [
    {
     "name": "stdout",
     "output_type": "stream",
     "text": [
      "5 5\n",
      "-1 1 0 0 0\n",
      "0 -1 -1 -1 0\n",
      "0 -1 -1 -1 0\n",
      "0 -1 -1 -1 0\n",
      "0 0 0 0 0\n",
      "[-1, 1, 2, 3, 4]\n",
      "[15, -1, -1, -1, 5]\n",
      "[14, -1, -1, -1, 6]\n",
      "[13, -1, -1, -1, 7]\n",
      "[12, 11, 10, 9, 8]\n",
      "14\n"
     ]
    }
   ],
   "source": [
    "import sys\n",
    "from collections import deque\n",
    "\n",
    "#input=sys.stdin.readline\n",
    "M,N=map(int,input().split())\n",
    "storage=[list(map(int,input().split())) for _ in range(N)]\n",
    "queue=deque()\n",
    "for i in range(N):\n",
    "    for j in range(M):\n",
    "        if storage[i][j]==1:\n",
    "            queue.append((i,j))\n",
    "\n",
    "dx=[-1,1,0,0]\n",
    "dy=[0,0,-1,1]\n",
    "while(queue):\n",
    "    x,y=queue.popleft()\n",
    "    for i in range(4):\n",
    "        nx=x+dx[i]\n",
    "        ny=y+dy[i]\n",
    "        if (0<=nx<N and 0<=ny<M and storage[nx][ny]==0):\n",
    "            storage[nx][ny]=storage[x][y]+1\n",
    "            queue.append((nx,ny))\n",
    "\n",
    "possible=True\n",
    "# print(*storage, sep='\\n')\n",
    "res=0\n",
    "for tomato in storage:\n",
    "    if 0 in tomato:\n",
    "        possible=False\n",
    "        break\n",
    "    else:\n",
    "        maxi=max(tomato)\n",
    "        if (maxi>res): res=maxi\n",
    "            \n",
    "if not possible: print(-1)\n",
    "elif res==1: print(0)\n",
    "else: print(res-1)"
   ]
  },
  {
   "cell_type": "markdown",
   "metadata": {},
   "source": [
    "## 14502 연구소\n",
    "\n",
    "**문제로 이동** : [Baekjoon 연구소](https://www.acmicpc.net/problem/14502)\n",
    "\n",
    "- 바이러스를 연구하던 연구소에서 바이러스가 유출되었다\n",
    "- 바이러스의 확산을 막기 위해 연구소에 벽을 세우려고 한다\n",
    "- 연구소는 크기가 N\\*M인 직사각형으로 나타낼 수 있으며 연구소는 빈칸, 벽으로 이루어져 있다\n",
    "- 일부 칸은 바이러스가 존재하며 바이러스는 상하좌우 인접한 빈칸으로 퍼져나갈 수 있다\n",
    "- 세울 수 있는 벽의 개수는 3개이며 꼭 3개를 세워야 한다\n",
    "- 연구소의 지도가 주어질 때 안전영역의 최댓값을 구하라"
   ]
  },
  {
   "cell_type": "code",
   "execution_count": 11,
   "metadata": {},
   "outputs": [
    {
     "name": "stdout",
     "output_type": "stream",
     "text": [
      "4 6\n",
      "0 0 0 0 0 0\n",
      "1 0 0 0 0 2\n",
      "1 1 1 0 0 2\n",
      "0 0 0 0 0 2\n",
      "9\n"
     ]
    }
   ],
   "source": [
    "from itertools import combinations as combi\n",
    "from collections import deque\n",
    "import sys, copy\n",
    "\n",
    "# input=sys.stdin.readline\n",
    "N,M=map(int,input().split())\n",
    "board=[list(map(int,input().split())) for _ in range(N)]\n",
    "virus, blank=[],[]\n",
    "for i in range(N):\n",
    "    for j in range(M):\n",
    "        if board[i][j]==2: \n",
    "            virus.append((i,j))\n",
    "        elif board[i][j]==0: \n",
    "            blank.append((i,j))\n",
    "\n",
    "dx=[-1,1,0,0]\n",
    "dy=[0,0,-1,1]\n",
    "ableWall=combi(blank, 3)\n",
    "safeList=[]\n",
    "for wall in ableWall:\n",
    "    lab=copy.deepcopy(board)\n",
    "    lab[wall[0][0]][wall[0][1]]=1\n",
    "    lab[wall[1][0]][wall[1][1]]=1\n",
    "    lab[wall[2][0]][wall[2][1]]=1\n",
    "    queue=deque()\n",
    "    for v in virus:\n",
    "        queue.append(v)\n",
    "        while (queue):\n",
    "            x,y=queue.popleft()\n",
    "            for d in range(4):\n",
    "                nx=x+dx[d]\n",
    "                ny=y+dy[d]\n",
    "                if (0<=nx<N and 0<=ny<M and lab[nx][ny]==0):\n",
    "                    lab[nx][ny]=2\n",
    "                    queue.append((nx,ny))\n",
    "    safeSize=0\n",
    "    for l in lab:\n",
    "        safeSize+=l.count(0)\n",
    "    safeList.append(safeSize)\n",
    "    \n",
    "print(max(safeList))"
   ]
  },
  {
   "cell_type": "markdown",
   "metadata": {},
   "source": [
    "## 2641 다각형그리기\n",
    "**문제로 이동** : [Baekjoon 다각형 그리기](https://www.acmicpc.net/problem/2641)\n",
    "\n",
    "- 모눈종이에 다각형을 그리려고 한다 \n",
    "- 1은 오른쪽, 2는 위쪽, 3은 왼쪽, 4는 아래쪽으로 한칸씩 그리는 것을 말한다\n",
    "- 다각형이 회전된 것이나 뒤집어진 것은 같은 다각형이 아니다\n",
    "- 한 개의 표본 모양수열과 여러 모양수열들이 주어졌을 때 표본 모양수열과 같은 다각형을 그릴 수 있는 모양 수열들을 모두 찾는 프로그램을 작성하라"
   ]
  },
  {
   "cell_type": "code",
   "execution_count": 16,
   "metadata": {},
   "outputs": [
    {
     "name": "stdout",
     "output_type": "stream",
     "text": [
      "10\n",
      "1 4 1 1 4 3 3 3 2 2\n",
      "3\n",
      "3 2 2 1 4 1 1 4 3 3\n",
      "1 4 4 3 3 3 2 1 1 2\n",
      "4 4 1 1 1 2 3 3 2 3\n",
      "[3, 2, 2, 1, 4, 1, 1, 4, 3, 3]\n",
      "[4, 4, 1, 1, 1, 2, 3, 3, 2, 3]\n"
     ]
    }
   ],
   "source": [
    "import sys\n",
    "\n",
    "# input=sys.stdin.readline\n",
    "N=int(input())\n",
    "sample=list(map(int,input().split()))\n",
    "M=int(input())\n",
    "compare=[list(map(int,input().split())) for _ in range(M)]\n",
    "\n",
    "def sameAfterTurn(sample, turn):\n",
    "    temp=list(turn)\n",
    "    for i in range(N):\n",
    "        temp.append(temp.pop(0))\n",
    "        if temp==sample:\n",
    "            return True\n",
    "    return False\n",
    "        \n",
    "def oppositeDraw(arr):\n",
    "    opposite={1:3, 2:4, 3:1, 4:2}\n",
    "    for i in range(N):\n",
    "        arr[i]=opposite[arr[i]]\n",
    "    arr.reverse()\n",
    "    return arr\n",
    "\n",
    "res=[]\n",
    "for com in compare:\n",
    "    temp=list(com)\n",
    "    if sameAfterTurn(sample, temp):\n",
    "        res.append(com)\n",
    "    else:\n",
    "        temp=oppositeDraw(temp)\n",
    "        if sameAfterTurn(sample, temp):\n",
    "            res.append(com)\n",
    "print(len(res))\n",
    "for r in res:\n",
    "    print(*r)"
   ]
  },
  {
   "cell_type": "markdown",
   "metadata": {},
   "source": [
    "## 2529 부등호\n",
    "\n",
    "**문제로 이동** : [Baekjoon 부등호](https://www.acmicpc.net/problem/2529)\n",
    "\n",
    "- 두 종류의 부등호 기호 k개가 나열된 순서열 A가 있다\n",
    "- 부등호 기호 앞뒤에 서로 다른 숫자를 넣어 모든 부등호 관계를 만족시키고자 한다\n",
    "- 부등호 기호를 제외한 숫자문자열은 하나 이상 존재한다\n",
    "- 부등호 순서를 만족하는 정수 중 최댓값과 최솟값을 찾아라\n",
    "- 선택된 숫자는 모두 달라야한다"
   ]
  },
  {
   "cell_type": "code",
   "execution_count": 10,
   "metadata": {},
   "outputs": [
    {
     "name": "stdout",
     "output_type": "stream",
     "text": [
      "2\n",
      "> <\n",
      "['>', '<']\n"
     ]
    }
   ],
   "source": [
    "k=int(input())\n",
    "op=list(input().split())\n",
    "visit=[False]*10\n",
    "\n",
    "def isPossible(a,b,op):\n",
    "    if op=='>': return a>b\n",
    "    elif op=='<': return a<b\n",
    "    \n",
    "\n",
    "\n",
    "\n",
    "\n",
    "\n"
   ]
  },
  {
   "cell_type": "markdown",
   "metadata": {},
   "source": [
    "## 2667 단지번호붙이기\n",
    "\n",
    "**문제로 이동** : [Baekjoon 14226 단지번호붙이기](https://www.acmicpc.net/problem/2667)\n",
    "\n",
    "- 정사각형 모양의 지도에 1은 집이 있는곳, 0은 집이 없는 곳을 나타낸다\n",
    "- 철수는 연결된 집의 모임인 단지를 정의하고 단지에 번호를 붙이려 한다\n",
    "- 대각선상에 집이 있는 경우는 연결된 것이 아니다\n",
    "- 단지수를 출력하고 각 단지에 속하는 집의 수를 오름차순으로 정렬하려 출력하라"
   ]
  },
  {
   "cell_type": "code",
   "execution_count": 9,
   "metadata": {},
   "outputs": [
    {
     "name": "stdout",
     "output_type": "stream",
     "text": [
      "7\n",
      "0110100\n",
      "0110101\n",
      "1110101\n",
      "0000111\n",
      "0100000\n",
      "0111110\n",
      "0111000\n",
      "[0, 1, 1, 0, 2, 0, 0]\n",
      "[0, 1, 1, 0, 2, 0, 2]\n",
      "[1, 1, 1, 0, 2, 0, 2]\n",
      "[0, 0, 0, 0, 2, 2, 2]\n",
      "[0, 3, 0, 0, 0, 0, 0]\n",
      "[0, 3, 3, 3, 3, 3, 0]\n",
      "[0, 3, 3, 3, 0, 0, 0]\n",
      "3\n",
      "7\n",
      "8\n",
      "9\n"
     ]
    }
   ],
   "source": [
    "from collections import deque\n",
    "import sys\n",
    "\n",
    "#input=sys.stdin.readline\n",
    "N=int(input())\n",
    "board=[list(map(int,input().strip())) for _ in range(N)]\n",
    "visit=[[0]*N for _ in range(N)]\n",
    "queue=deque()\n",
    "dx=[-1,1,0,0]\n",
    "dy=[0,0,-1,1]\n",
    "house=1\n",
    "for i in range(N):\n",
    "    for j in range(N):\n",
    "        if board[i][j]==1 and visit[i][j]==0:\n",
    "            queue.append((i,j))\n",
    "            while queue:\n",
    "                x,y=queue.popleft()\n",
    "                visit[x][y]=house\n",
    "                for d in range(4):\n",
    "                    nx=x+dx[d]\n",
    "                    ny=y+dy[d]\n",
    "                    if (0<=nx<N and 0<=ny<N and visit[nx][ny]==0 and board[nx][ny]==1):\n",
    "                        queue.append((nx,ny))\n",
    "                        visit[nx][ny]=house\n",
    "            house+=1\n",
    "        \n",
    "\n",
    "print(*visit, sep='\\n')\n",
    "apartNum=0\n",
    "for t in visit:\n",
    "    apartNum=max(max(t), apartNum)\n",
    "res=[0]*apartNum\n",
    "for t in visit:\n",
    "    for i in range(1,apartNum+1):\n",
    "        res[i-1]+=t.count(i)\n",
    "res.sort()\n",
    "print(apartNum)\n",
    "print(*res, sep='\\n')"
   ]
  },
  {
   "cell_type": "code",
   "execution_count": null,
   "metadata": {},
   "outputs": [],
   "source": []
  }
 ],
 "metadata": {
  "kernelspec": {
   "display_name": "Python 3",
   "language": "python",
   "name": "python3"
  },
  "language_info": {
   "codemirror_mode": {
    "name": "ipython",
    "version": 3
   },
   "file_extension": ".py",
   "mimetype": "text/x-python",
   "name": "python",
   "nbconvert_exporter": "python",
   "pygments_lexer": "ipython3",
   "version": "3.8.3"
  }
 },
 "nbformat": 4,
 "nbformat_minor": 4
}
