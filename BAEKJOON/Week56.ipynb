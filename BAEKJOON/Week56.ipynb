{
 "cells": [
  {
   "cell_type": "markdown",
   "metadata": {},
   "source": [
    "# 56주차\n",
    "\n",
    "[56주차 문제집](https://www.acmicpc.net/group/workbook/view/10320/42131)\n",
    "\n",
    "* [2644 촌수계산](https://www.acmicpc.net/problem/2644)\n",
    "* [10775 공항](https://www.acmicpc.net/problem/10775)\n",
    "* [13913 숨바꼭질4](https://www.acmicpc.net/problem/13913)\n",
    "* [15486 퇴사2](https://www.acmicpc.net/problem/15486)\n",
    "* [2212 센서](https://www.acmicpc.net/problem/2212)"
   ]
  },
  {
   "cell_type": "markdown",
   "metadata": {},
   "source": [
    "## 2644 촌수계산\n",
    "\n",
    "**문제로 이동** : [Baekjoon 촌수계산](https://www.acmicpc.net/problem/2644)\n",
    "\n",
    "- 기본적으로 부모와 자식 사이를 1촌으로 정의하고 이로부터 사람들간의 촌수를 계산한다\n",
    "- 여러 사람들에 대한 부모 자식들 간의 관계가 주어질 때 주어진 두 사람의 촌수를 계산하라"
   ]
  },
  {
   "cell_type": "code",
   "execution_count": 10,
   "metadata": {},
   "outputs": [
    {
     "name": "stdout",
     "output_type": "stream",
     "text": [
      "9\n",
      "8 6\n",
      "7\n",
      "1 2\n",
      "1 3\n",
      "2 7\n",
      "2 8\n",
      "2 9\n",
      "4 5\n",
      "4 6\n",
      "-1\n"
     ]
    }
   ],
   "source": [
    "from collections import deque\n",
    "import sys\n",
    "\n",
    "#input=sys.stdin.readline\n",
    "n=int(input())\n",
    "relation=[[] for _ in range(n+1)]\n",
    "p1, p2=map(int,input().split())\n",
    "m=int(input())\n",
    "for _ in range(m):\n",
    "    a,b=map(int,input().split())\n",
    "    relation[a].append(b)\n",
    "    relation[b].append(a)\n",
    "    \n",
    "visit=[0]*(n+1)\n",
    "def bfs(p1, p2):\n",
    "    queue=deque()\n",
    "    queue.append(p1)\n",
    "    while queue:\n",
    "        person=queue.popleft()\n",
    "        if person==p2:\n",
    "            return 0\n",
    "        for nextPerson in relation[person]:\n",
    "            if visit[nextPerson]==0:\n",
    "                visit[nextPerson]=visit[person]+1\n",
    "                queue.append(nextPerson)\n",
    "    return -1\n",
    "\n",
    "\n",
    "if bfs(p1,p2)==0:\n",
    "    print(visit[p2])\n",
    "else: print(-1)"
   ]
  },
  {
   "cell_type": "markdown",
   "metadata": {},
   "source": [
    "## 10775 공항\n",
    "\n",
    "**문제로 이동** : [Baekjoon 공항](https://www.acmicpc.net/problem/10775)\n",
    "\n",
    "- 공항에는 G개의 게이트가 있으며 각각 1부터 G까지 번호를 가지고 있다\n",
    "- 공항에는 P개의 비행기가 순서대로 도착할 예정이다\n",
    "- 당신은 i번째 비행기를 1부터 gi번째 게이트 중 하나에 영구적으로 도킹하려한다\n",
    "- 비행기가 어느 게이트에도 도킹할 수 없다면 공항이 폐쇄되고 비행기도 오지 않는다\n",
    "- 가장 많은 비행기를 공항에 도킹시키려고 할 때 최대 몇 대 도킹시킬 수 있는가?"
   ]
  },
  {
   "cell_type": "code",
   "execution_count": 19,
   "metadata": {},
   "outputs": [
    {
     "name": "stdout",
     "output_type": "stream",
     "text": [
      "4\n",
      "6\n",
      "2\n",
      "2\n",
      "3\n",
      "3\n",
      "4\n",
      "4\n",
      "3\n"
     ]
    }
   ],
   "source": [
    "#시간초과\n",
    "import sys\n",
    "\n",
    "# input=sys.stdin.readline\n",
    "G=int(input())\n",
    "P=int(input())\n",
    "plane=[int(input()) for _ in range(P)]\n",
    "airport=[False]*(G+1)\n",
    "res=0\n",
    "for i in plane:\n",
    "    isParked=False\n",
    "    for j in range(i,0,-1):\n",
    "        if not airport[j]:\n",
    "            res+=1\n",
    "            isParked=True\n",
    "            airport[j]=True\n",
    "            break\n",
    "    if not isParked:\n",
    "        break\n",
    "        \n",
    "print(res)"
   ]
  },
  {
   "cell_type": "code",
   "execution_count": 24,
   "metadata": {},
   "outputs": [
    {
     "name": "stdout",
     "output_type": "stream",
     "text": [
      "4\n",
      "3\n",
      "4\n",
      "1\n",
      "1\n",
      "2\n"
     ]
    }
   ],
   "source": [
    "import sys\n",
    "\n",
    "#input=sys.stdin.readline\n",
    "G=int(input())\n",
    "P=int(input())\n",
    "plane=[int(input()) for _ in range(P)]\n",
    "planeParent={i:i for i in range(G+1)}\n",
    "\n",
    "def findParent(child):\n",
    "    if child==planeParent[child]:\n",
    "        return child\n",
    "    parent=findParent(planeParent[child])\n",
    "    planeParent[child]=parent\n",
    "    return parent\n",
    "\n",
    "def union(p1, p2):\n",
    "    parent1=findParent(p1)\n",
    "    parent2=findParent(p2)\n",
    "    planeParent[parent1]=parent2\n",
    "    \n",
    "res=0\n",
    "for i in plane:\n",
    "    parent=findParent(i)\n",
    "    if parent==0:\n",
    "        break\n",
    "    union(parent, parent-1)\n",
    "    res+=1\n",
    "print(res)"
   ]
  },
  {
   "cell_type": "markdown",
   "metadata": {},
   "source": [
    "## 13913 숨바꼭질4\n",
    "**문제로 이동** : [Baekjoon 숨바꼭질4](https://www.acmicpc.net/problem/13913)\n",
    "\n",
    "- 수빈이는 동생과 숨바꼭질을 하고 싱ㅆ다\n",
    "- 수빈이는 N에 있고 동생은 K에 있다\n",
    "- 수빈이는 걷거나 순간이동을 할 수 있다\n",
    "- 수빈이가 X일 때 걷는다면 X+1또는 X-1로 이동하게 된다\n",
    "- 수빈이가 순간이동한다면 2\\*X로 이동한다\n",
    "- 수빈이와 동생의 위치가 주어졌을 때 수빈이가 동생을 찾을 수 있는 가장 빠른 시간이 몇 초 후인지 구하라"
   ]
  },
  {
   "cell_type": "code",
   "execution_count": 44,
   "metadata": {},
   "outputs": [
    {
     "name": "stdout",
     "output_type": "stream",
     "text": [
      "5 17\n",
      "4\n",
      "5 4 8 16 17\n"
     ]
    }
   ],
   "source": [
    "import sys\n",
    "from collections import deque\n",
    "\n",
    "#input=sys.stdin.readline\n",
    "N,K=map(int,input().split())\n",
    "queue=deque()\n",
    "queue.append((N,0))\n",
    "visit=[-1]*(100001)\n",
    "visit[N]=N\n",
    "while queue:\n",
    "    cur, time=queue.popleft()\n",
    "    if cur==K: break\n",
    "    for i in [-1,1, cur]:\n",
    "        nextLoc=cur+i\n",
    "        if (0<=nextLoc<100001 and visit[nextLoc]==-1):\n",
    "            visit[nextLoc]=cur\n",
    "            queue.append((nextLoc, time+1))\n",
    "\n",
    "route=[]\n",
    "move=K\n",
    "while (move!=N):\n",
    "    route.append(move)\n",
    "    move=visit[move]\n",
    "route.append(move)\n",
    "route.reverse()\n",
    "print(time)\n",
    "print(*route)"
   ]
  },
  {
   "cell_type": "markdown",
   "metadata": {},
   "source": [
    "## 15486 퇴사 2\n",
    "\n",
    "**문제로 이동** : [Baekjoon 퇴사2](https://www.acmicpc.net/problem/15486)\n",
    "\n",
    "- 오늘부터 N+1일째 되는 날 퇴사를 하기 위해 남은 N일동안 최대한 많은 상담을 하고자 한다\n",
    "- 각 상담은 걸리는 시간 T와 받을 수 있는 금액 P로 이루어져있다\n",
    "- 상담을 적절히 하여 백준이가 얻을 수 있는 최대 수익을 구하는 프로그램을 작성하라"
   ]
  },
  {
   "cell_type": "code",
   "execution_count": 1,
   "metadata": {},
   "outputs": [
    {
     "name": "stdout",
     "output_type": "stream",
     "text": [
      "7\n",
      "3 10\n",
      "5 20\n",
      "1 10\n",
      "1 20\n",
      "2 15\n",
      "4 40\n",
      "2 200\n",
      "45\n"
     ]
    }
   ],
   "source": [
    "import sys\n",
    "\n",
    "# input=sys.stdin.readline\n",
    "N=int(input())\n",
    "work=[list(map(int,input().split())) for _ in range(N)]\n",
    "dp=[0]*(N+1)\n",
    "\n",
    "for i in range(N-1,-1,-1):\n",
    "    if i+work[i][0]>N:\n",
    "        dp[i]=dp[i+1]\n",
    "    else:\n",
    "        dp[i]=max(work[i][1]+dp[i+work[i][0]], dp[i+1])\n",
    "        \n",
    "print(max(dp))"
   ]
  },
  {
   "cell_type": "markdown",
   "metadata": {},
   "source": [
    "## 2212 센서\n",
    "\n",
    "**문제로 이동** : [Baekjoon 센서](https://www.acmicpc.net/problem/2212)\n",
    "\n",
    "- 고속도로위에 N개의 센서를 설치하였는데, 집중국은 최대 K개를 세울 수 있다\n",
    "- N개의 센서가 적어도 하나의 집중국과는 통신이 가능해야 한다\n",
    "- 각 집중국의 수신 가능 영역 거리의 합의 최솟값을 구하라"
   ]
  },
  {
   "cell_type": "code",
   "execution_count": 3,
   "metadata": {},
   "outputs": [
    {
     "name": "stdout",
     "output_type": "stream",
     "text": [
      "6\n",
      "2\n",
      "1 6 9 3 6 7\n",
      "5\n"
     ]
    }
   ],
   "source": [
    "import sys\n",
    "\n",
    "# input=sys.stdin.readline\n",
    "N=int(input())\n",
    "K=int(input())\n",
    "\n",
    "if K>=N:\n",
    "    print(0)\n",
    "else:\n",
    "    sensor=list(map(int,input().split()))\n",
    "    sensor.sort()\n",
    "    diff=[]\n",
    "    for i in range(1,len(sensor)):\n",
    "        diff.append(sensor[i]-sensor[i-1])\n",
    "    diff.sort()\n",
    "    for _ in range(K-1):\n",
    "        diff.pop()\n",
    "    print(sum(diff))"
   ]
  },
  {
   "cell_type": "code",
   "execution_count": null,
   "metadata": {},
   "outputs": [],
   "source": []
  }
 ],
 "metadata": {
  "kernelspec": {
   "display_name": "Python 3",
   "language": "python",
   "name": "python3"
  },
  "language_info": {
   "codemirror_mode": {
    "name": "ipython",
    "version": 3
   },
   "file_extension": ".py",
   "mimetype": "text/x-python",
   "name": "python",
   "nbconvert_exporter": "python",
   "pygments_lexer": "ipython3",
   "version": "3.8.3"
  }
 },
 "nbformat": 4,
 "nbformat_minor": 4
}
