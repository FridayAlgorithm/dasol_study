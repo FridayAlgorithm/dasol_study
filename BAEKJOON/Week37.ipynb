{
 "cells": [
  {
   "cell_type": "markdown",
   "metadata": {},
   "source": [
    "# 37주차 \n",
    "\n",
    "[37주차 문제집](https://www.acmicpc.net/group/workbook/view/10320/37301)\n",
    "\n",
    "* [1525 퍼즐](https://www.acmicpc.net/problem/1525)\n",
    "* [2234 성곽](https://www.acmicpc.net/problem/2234)\n",
    "* [1562 계단 수](https://www.acmicpc.net/problem/1562)\n",
    "* [2306 유전자](https://www.acmicpc.net/problem/2306)\n",
    "* [11055 가장 큰 증가 부분 수열](https://www.acmicpc.net/problem/11055)\n",
    "* [5214 환승](https://www.acmicpc.net/problem/5214)"
   ]
  },
  {
   "cell_type": "markdown",
   "metadata": {},
   "source": [
    "## 1525 퍼즐\n",
    "\n",
    "**문제로 이동** : [Baekjoon 퍼즐](https://www.acmicpc.net/problem/1525)\n",
    "\n",
    "- 3\\*3 표에 수가 채워져있다\n",
    "- 수와 인접한 네 칸 중 하나가 비어 있다면 그 칸으로 수를 이동할 수 있다\n",
    "- 초기 상태가 주어질 때 정리된 상태의 표를 만들고자 한다.\n",
    "- 정리된 상태로 만들기까지의 최소 이동 횟수를 구하는 프로그램을 작성하라"
   ]
  },
  {
   "cell_type": "code",
   "execution_count": 3,
   "metadata": {},
   "outputs": [
    {
     "name": "stdout",
     "output_type": "stream",
     "text": [
      "1 0 3\n",
      "4 2 5\n",
      "7 8 6\n",
      "3\n"
     ]
    }
   ],
   "source": [
    "from collections import deque\n",
    "\n",
    "straight='123456780'\n",
    "s=''\n",
    "for _ in range(3):\n",
    "    s+=''.join(input().split())\n",
    "\n",
    "visit={s:True}\n",
    "changable=[[1,3],[0,2,4],[1,5],[0,4,6],[1,3,5,7],[2,4,8],[3,7],[4,6,8],[5,7]]\n",
    "result=-1\n",
    "time=0\n",
    "queue=deque()\n",
    "queue.append((s, s.index('0')))\n",
    "nextQueue=deque()\n",
    "\n",
    "while queue or nextQueue:\n",
    "    if not queue:\n",
    "        queue = nextQueue\n",
    "        time+=1\n",
    "        nextQueue=deque()\n",
    "    now, zero=queue.popleft()\n",
    "    if now==straight:\n",
    "        result=time\n",
    "        break\n",
    "    for i in changable[zero]:\n",
    "        new=list(now)\n",
    "        new[zero],new[i]=new[i],new[zero]\n",
    "        new=''.join(new)\n",
    "        if new not in visit:\n",
    "            visit[new]=True\n",
    "            nextQueue.append((new,i))\n",
    "            \n",
    "print(result)"
   ]
  },
  {
   "cell_type": "markdown",
   "metadata": {},
   "source": [
    "## 2234 성곽\n",
    "\n",
    "**문제로 이동** : [Baekjoon 성곽](https://www.acmicpc.net/problem/2234)\n",
    "\n",
    "- 성곽에 대한 정보가 입력으로 주어진다 \n",
    "- 1 : 서쪽벽, 2 : 북쪽벽, 4 : 동쪽벽, 8 : 남쪽벽\n",
    "- 성의 지도를 입력받아 방의 개수, 가장 넓은 방의 넓이, 하나의 벽을 제거할 때 얻을 수 있는 가장 넓은 방의 크기를 구하라\n",
    "\n",
    "[비트마스킹?](https://justkode.kr/algorithm/bitmash)\n",
    "\n",
    "<!-- (https://zidarn87.tistory.com/254) -->"
   ]
  },
  {
   "cell_type": "code",
   "execution_count": 16,
   "metadata": {},
   "outputs": [
    {
     "name": "stdout",
     "output_type": "stream",
     "text": [
      "7 4\n",
      "11 6 11 6 3 10 6\n",
      "7 9 6 13 5 15 5\n",
      "1 10 12 7 13 7 5\n",
      "13 11 10 8 10 12 13\n",
      "5\n",
      "9\n",
      "16\n"
     ]
    }
   ],
   "source": [
    "import sys\n",
    "from collections import deque\n",
    "\n",
    "# input = sys.stdin.readline\n",
    "\n",
    "dx=[-1,0,1,0]\n",
    "dy=[0,-1,0,1]\n",
    "\n",
    "n, m=map(int,input().split())\n",
    "board=[]\n",
    "for _ in range(m):\n",
    "    board.append(list(map(int,input().split())))\n",
    "\n",
    "def bfs(y,x):\n",
    "    queue=deque()\n",
    "    queue.append((y,x))\n",
    "    visit[y][x]=True\n",
    "    res=1\n",
    "    while(queue):\n",
    "        ty,tx=queue.popleft()\n",
    "        for i in range(4):\n",
    "            if board[ty][tx]&(1<<i)==0:\n",
    "                nx=tx+dx[i]\n",
    "                ny=ty+dy[i]\n",
    "                if (nx<0 or nx>=n or ny<0 or ny>=m):\n",
    "                    break\n",
    "                if not visit[ny][nx]:\n",
    "                    visit[ny][nx]=True\n",
    "                    queue.append((ny,nx))\n",
    "                    res+=1\n",
    "    return res\n",
    "\n",
    "roomNum=0\n",
    "roomSize=0\n",
    "visit=[[False]*n for _ in range(m)]\n",
    "for i in range(m):\n",
    "    for j in range(n):\n",
    "        if not visit[i][j]:\n",
    "            roomNum+=1\n",
    "            roomSize=max(roomSize,bfs(i,j))\n",
    "            \n",
    "roomSizeBreak=0\n",
    "for i in range(m):\n",
    "    for j in range(n):\n",
    "        for k in range(4):\n",
    "            if board[i][j] & (1 << k)==(1 << k):\n",
    "                visit=[[False]*n for _ in range(m)]\n",
    "                board[i][j]-=(1 << k)\n",
    "                roomSizeBreak=max(roomSizeBreak, bfs(i,j))\n",
    "                board[i][j]+=(1 << k)\n",
    "                \n",
    "print(roomNum)\n",
    "print(roomSize)\n",
    "print(roomSizeBreak)"
   ]
  },
  {
   "cell_type": "markdown",
   "metadata": {},
   "source": [
    "## 1562 계단 수 \n",
    "\n",
    "**문제로 이동** : [Baekjoon 계단 수](https://www.acmicpc.net/problem/1562)\n",
    "\n",
    "- 인접한 모든 자리의 차이가 1인 수를 계단 수라고 한다\n",
    "- N이 주어질 때 길이가 N이면서 0~9가 모두 등장하는 계단 수의 갯수를 구하라\n",
    "\n",
    "\n",
    "\n",
    "[비트마스킹을 통한 DP?](https://peisea0830.tistory.com/56)"
   ]
  },
  {
   "cell_type": "code",
   "execution_count": null,
   "metadata": {},
   "outputs": [],
   "source": [
    "import sys\n",
    "\n",
    "# input = sys.stdin.readline\n",
    "mod = 1000000000\n",
    "n = int(input())\n",
    "\n",
    "# dp : 비트 정보, 자릿수, 끝나는 수에 대해 가능한 경우의 수를 담는 3차원 배열\n",
    "dp = [[[-1] * 11 for _ in range(101)] for _ in range(1 << 11)]\n",
    "\n",
    "# d[f][b][x]를 리턴하는 함수\n",
    "def solution(f, b, x):\n",
    "    # 끝나는 수가 범위가 넘어가는 경우는 없으므로 0 리턴\n",
    "    if x < 0 or x > 9:\n",
    "        return 0\n",
    "    # 다 뽑았으면\n",
    "    if b == n:\n",
    "        # 모든 수를 다 뽑으면 유효한 경우이므로 1 리턴\n",
    "        if f == (1 << 10) - 1:\n",
    "            return 1\n",
    "        else:\n",
    "            return 0\n",
    "    # Memoization\n",
    "    if dp[f][b][x] != -1:\n",
    "        return dp[f][b][x]\n",
    "    dp[f][b][x] = 0\n",
    "    # 끝나는 수가 0이면 그 뒤에 1만 올 수 있으므로\n",
    "    if x == 0:\n",
    "        dp[f][b][x] += solution(f | (1 << (x + 1)), b + 1, (x + 1))\n",
    "        dp[f][b][x] %= mod\n",
    "    # 끝나는 수가 9면 그 뒤에 8만 올 수 있으므로\n",
    "    elif x == 9:\n",
    "        dp[f][b][x] += solution(f | (1 << (x - 1)), b + 1, (x - 1))\n",
    "        dp[f][b][x] %= mod\n",
    "    # 둘다 아니면 +1, -1만 올 수 있으므로\n",
    "    else:\n",
    "        dp[f][b][x] += solution(f | (1 << (x + 1)), b + 1, (x + 1))\n",
    "        dp[f][b][x] %= mod\n",
    "        dp[f][b][x] += solution(f | (1 << (x - 1)), b + 1, (x - 1))\n",
    "        dp[f][b][x] %= mod\n",
    "\n",
    "    return dp[f][b][x]\n",
    "\n",
    "ans = 0\n",
    "\n",
    "# 각 숫자로 끝나는 모든 경우를 조사해야하므로 각 자리마다 go함수 호출\n",
    "for i in range(1, 10):\n",
    "    ans += solution(1 << i, 1, i)\n",
    "    ans %= mod\n",
    "\n",
    "# 정답 출력\n",
    "print(ans)"
   ]
  },
  {
   "cell_type": "markdown",
   "metadata": {},
   "source": [
    "## 2306 유전자\n",
    "\n",
    "**문제로 이동** : [Baekjoon 유전자](https://www.acmicpc.net/problem/2306)\n",
    "\n",
    "- DNA 서열은 4개의 문자로 이루어진 문자열이다\n",
    "- 유전자는 다음의 조건을 만족한다\n",
    "  * at와 gc는 가장 짧은 길이의 유전자이다\n",
    "  * X가 KOI유전자라면 aXt와 gXc도 KOI 유전자이다\n",
    "  * X,Y가 KOI유전자라면 연결한 XY도 KOI 유전자이다\n",
    "- 주어진 DNA 서열 중에서 길이가 최대가 되는 KOI 유전자를 찾아 길이를 출력하라"
   ]
  },
  {
   "cell_type": "code",
   "execution_count": 15,
   "metadata": {},
   "outputs": [
    {
     "name": "stdout",
     "output_type": "stream",
     "text": [
      "acattgagtc\n",
      "8\n"
     ]
    }
   ],
   "source": [
    "# 시간초과 => pypy 제출\n",
    "\n",
    "dna=list(input())\n",
    "length=len(dna)\n",
    "\n",
    "dp=[[0]*501 for _ in range(501)]\n",
    "for i in range(1, length):\n",
    "    for l in range(length-i):\n",
    "        r=i+l\n",
    "        if ((dna[l]=='a' and dna[r]=='t') or (dna[l]=='g' and dna[r]=='c')):\n",
    "            dp[l][r]=dp[l+1][r-1]+2\n",
    "        for k in range(l,r):\n",
    "            temp=dp[l][k]+dp[k+1][r]\n",
    "            dp[l][r]=max(dp[l][r],temp)\n",
    "            \n",
    "print(dp[0][length-1])"
   ]
  },
  {
   "cell_type": "markdown",
   "metadata": {},
   "source": [
    "## 11055 가장 큰 증가 부분 수열\n",
    "\n",
    "**문제로 이동** : [Baekjoon 가장 큰 증가 부분 수열](https://www.acmicpc.net/problem/11055)\n",
    "\n",
    "- 수열 A가 주어질 때 증가 부분 수열 중에서 합이 가장 큰 것을 구하라\n"
   ]
  },
  {
   "cell_type": "code",
   "execution_count": 9,
   "metadata": {},
   "outputs": [
    {
     "name": "stdout",
     "output_type": "stream",
     "text": [
      "10\n",
      "1 100 2 50 60 3 5 6 7 8\n",
      "113\n"
     ]
    }
   ],
   "source": [
    "N=int(input())\n",
    "A=list(map(int,input().split()))\n",
    "dp=list(A)\n",
    "\n",
    "for i in range(N):\n",
    "    for j in range(i):\n",
    "        if (A[i]>A[j]):\n",
    "            dp[i]=max(dp[i], dp[j]+A[i])\n",
    "            \n",
    "print(max(dp))"
   ]
  },
  {
   "cell_type": "markdown",
   "metadata": {},
   "source": [
    "## 5214 환승\n",
    "\n",
    "**문제로 이동** : [Baekjoon 환승](https://www.acmicpc.net/problem/5214)\n",
    "\n",
    "- 하이퍼튜브 하나는 역 K개를 서로 연결한다\n",
    "- 1번 역에서 N번역으로 이동하는데 방문하는 최소 역의 개수를 구하라"
   ]
  },
  {
   "cell_type": "code",
   "execution_count": 20,
   "metadata": {},
   "outputs": [
    {
     "name": "stdout",
     "output_type": "stream",
     "text": [
      "9 3 5\n",
      "1 2 3\n",
      "1 4 5\n",
      "3 6 7\n",
      "5 6 7\n",
      "6 8 9\n",
      "4\n"
     ]
    }
   ],
   "source": [
    "# 틀림..\n",
    "from collections import deque\n",
    "\n",
    "N, K, M = map(int,input().split())\n",
    "stationInfo=[[] for _ in range(N+1)]\n",
    "for _ in range(M):\n",
    "    inputStation=list(map(int,input().split()))\n",
    "    for i in range(len(inputStation)-1):\n",
    "        stationInfo[inputStation[i]].append(inputStation[i+1])\n",
    "        stationInfo[inputStation[i+1]].append(inputStation[i])\n",
    "        \n",
    "def bfs(graph, start, end):\n",
    "    queue=deque([(start,0)])\n",
    "    visit=[False for _ in range(N+1)]\n",
    "    while queue:\n",
    "        cur, distance=queue.popleft()\n",
    "        if cur==end:\n",
    "            return distance\n",
    "        if visit[cur]:\n",
    "            continue\n",
    "        visit[cur]=True\n",
    "        for i in stationInfo[cur]:\n",
    "            if not visit[i]:\n",
    "                queue.append((i, distance+1))\n",
    "    return -1\n",
    "\n",
    "result=bfs(stationInfo,1,N)\n",
    "print(result)"
   ]
  },
  {
   "cell_type": "code",
   "execution_count": null,
   "metadata": {},
   "outputs": [],
   "source": [
    "from collections import deque\n",
    "import sys\n",
    "\n",
    "# input = sys.stdin.readline\n",
    "\n",
    "def bfs():\n",
    "    q.append(0)\n",
    "    c[0] = 1\n",
    "    while q:\n",
    "        x = q.popleft()\n",
    "        if x == n-1:\n",
    "            print(c[x])\n",
    "            return\n",
    "        for nx in a[x]:\n",
    "            if not c[nx]:\n",
    "                if nx >= n: #하이퍼튜브\n",
    "                    c[nx] = c[x]\n",
    "                    q.append(nx)\n",
    "                else: #역 도착\n",
    "                    c[nx] = c[x] + 1\n",
    "                    q.append(nx)\n",
    "    print(-1)\n",
    "\n",
    "n, k, m = map(int, input().split())\n",
    "# 0~n-1 : 역,  n~n+m-1 : 하이퍼튜브\n",
    "a = [[] for _ in range(n+m)]\n",
    "c = [0 for _ in range(n+m)]\n",
    "q = deque()\n",
    "\n",
    "for i in range(m):\n",
    "    row = list(map(int, input().split()))\n",
    "    for j in range(k):\n",
    "        a[row[j]-1].append(n+i)\n",
    "        a[n+i].append(row[j]-1)\n",
    "\n",
    "bfs()"
   ]
  }
 ],
 "metadata": {
  "kernelspec": {
   "display_name": "Python 3",
   "language": "python",
   "name": "python3"
  },
  "language_info": {
   "codemirror_mode": {
    "name": "ipython",
    "version": 3
   },
   "file_extension": ".py",
   "mimetype": "text/x-python",
   "name": "python",
   "nbconvert_exporter": "python",
   "pygments_lexer": "ipython3",
   "version": "3.8.3"
  }
 },
 "nbformat": 4,
 "nbformat_minor": 4
}
