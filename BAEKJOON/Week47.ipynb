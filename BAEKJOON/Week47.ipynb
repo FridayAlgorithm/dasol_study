{
 "cells": [
  {
   "cell_type": "markdown",
   "metadata": {},
   "source": [
    "# 47주차\n",
    "\n",
    "[47주차 문제집](https://www.acmicpc.net/group/workbook/view/10320/39460)\n",
    "\n",
    "* [13913 숨바꼭질 4](https://www.acmicpc.net/problem/13913)\n",
    "* [1167 트리의 지름](https://www.acmicpc.net/problem/1167)\n",
    "* [1655 가운데를 말해요](https://www.acmicpc.net/problem/1655)\n",
    "* [15486 퇴사2](https://www.acmicpc.net/problem/15486)\n",
    "* [4963 섬의 개수](https://www.acmicpc.net/problem/4963)\n",
    "* [2212 센서](https://www.acmicpc.net/problem/2212)"
   ]
  },
  {
   "cell_type": "markdown",
   "metadata": {},
   "source": [
    "## 13913 숨바꼭질 4\n",
    "\n",
    "**문제로 이동** : [숨바꼭질4](https://www.acmicpc.net/problem/13913)\n",
    "\n",
    "- 수빈이는 현재 점 N에, 동생은 점 K에 있다\n",
    "- 수빈이는 걷거나 순간이동을 할 수 있다\n",
    "- 수빈이가 걷는다면 X-1또는 X+1로 순간이동 할 경우 2\\*X 위치로 이동한다\n",
    "- 수빈이와 동생 위치가 주어질 때 수빈이가 가장 빠르게 동생을 찾는 시간은 몇 초 후인가"
   ]
  },
  {
   "cell_type": "code",
   "execution_count": 13,
   "metadata": {},
   "outputs": [
    {
     "name": "stdout",
     "output_type": "stream",
     "text": [
      "5 17\n",
      "4\n",
      "5 10 9 18 17\n"
     ]
    }
   ],
   "source": [
    "from collections import deque\n",
    "import sys\n",
    "\n",
    "#input=sys.stdin.readline\n",
    "\n",
    "N, K=map(int,input().split())\n",
    "dx=[-1,1]\n",
    "visit=[-1]*100001\n",
    "move=[]\n",
    "def bfs(start, target):\n",
    "    queue=deque([(N,0)])\n",
    "    visit[start]=start\n",
    "    while queue:\n",
    "        cur, time=queue.popleft()\n",
    "        if cur==target:\n",
    "            idx=cur\n",
    "            while idx!=start:\n",
    "                move.append(idx)\n",
    "                idx=visit[idx]\n",
    "            move.append(start)\n",
    "            return time\n",
    "        if 0<=cur*2<100001 and visit[cur*2]==-1:\n",
    "            queue.append((cur*2, time+1))\n",
    "            visit[cur*2]=cur\n",
    "        for i in range(2):\n",
    "            nx=cur+dx[i]\n",
    "            if 0<=nx<100001 and visit[nx]==-1:\n",
    "                queue.append((nx, time+1))\n",
    "                visit[nx]=cur\n",
    "        \n",
    "\n",
    "print(bfs(N,K))\n",
    "move.reverse()\n",
    "print(*move)"
   ]
  },
  {
   "cell_type": "markdown",
   "metadata": {},
   "source": [
    "## 1167 트리의 지름\n",
    "\n",
    "**문제로 이동** : [트리의 지름](https://www.acmicpc.net/problem/1167)\n",
    "\n",
    "- 트리의 지름이란 트리에서 임의의 두 점 사이의 거리 중 가장 긴 것을 말한다\n",
    "- 트리 정점의 개수 V와 간선의 정보가 주어질 때 트리의 지름을 구하라"
   ]
  },
  {
   "cell_type": "code",
   "execution_count": 17,
   "metadata": {},
   "outputs": [
    {
     "name": "stdout",
     "output_type": "stream",
     "text": [
      "5\n",
      "1 3 2 -1\n",
      "2 4 4 -1\n",
      "3 1 2 4 3 -1\n",
      "4 2 4 3 3 5 6 -1\n",
      "5 4 6 -1\n",
      "11\n"
     ]
    }
   ],
   "source": [
    "from collections import deque\n",
    "import sys\n",
    "\n",
    "# input=sys.stdin.readline\n",
    "V=int(input())\n",
    "tree=[[] for _ in range(V+1)]\n",
    "for _ in range(V):\n",
    "    temp=list(map(int,input().split()))\n",
    "    for i in range(1,len(temp)-1,2):\n",
    "        tree[temp[0]].append((temp[i], temp[i+1]))\n",
    "        \n",
    "def bfs(x):\n",
    "    visit=[-1]*(V+1)\n",
    "    queue=deque([(x)])\n",
    "    visit[x]=0\n",
    "    maxi=[0,0]\n",
    "    while queue:\n",
    "        x=queue.popleft()\n",
    "        for node, distance in tree[x]:\n",
    "            if visit[node]==-1:\n",
    "                visit[node]=visit[x]+distance\n",
    "                queue.append(node)\n",
    "                if maxi[0]<visit[node]:\n",
    "                    maxi[0]=visit[node]\n",
    "                    maxi[1]=node\n",
    "    return maxi\n",
    "\n",
    "value, node=bfs(1)\n",
    "ans, node2=bfs(node)\n",
    "print(ans)"
   ]
  },
  {
   "cell_type": "markdown",
   "metadata": {},
   "source": [
    "## 1655 가운데를 말해요\n",
    "\n",
    "**문제로 이동** : [가운데를 말해요](https://www.acmicpc.net/problem/1655)\n",
    "\n",
    "- 백준이가 정수를 하나씩 외칠 떄마다 동생은 지금까지 백준이가 말한 수 중 중간 값을 말해야한다\n",
    "- 외친 수가 짝수개라면 중간에 있는 두 수 중 작은 수를 말한다\n",
    "- 백준이가 외치는 수가 주어질 때 동생이 말해야하는 수를 구하는 프로그램을 작성하라"
   ]
  },
  {
   "cell_type": "code",
   "execution_count": 4,
   "metadata": {},
   "outputs": [
    {
     "name": "stdout",
     "output_type": "stream",
     "text": [
      "7\n",
      "1\n",
      "1\n",
      "5\n",
      "1\n",
      "2\n",
      "2\n",
      "10\n",
      "2\n",
      "-99\n",
      "2\n",
      "7\n",
      "2\n",
      "5\n",
      "5\n"
     ]
    }
   ],
   "source": [
    "# 시간초과\n",
    "N=int(input())\n",
    "inputNum=[]\n",
    "for _ in range(N):\n",
    "    inputNum.append(int(input()))\n",
    "    inputNum.sort()\n",
    "    length=len(inputNum)\n",
    "    if length%2==0:\n",
    "        print(inputNum[length//2-1])\n",
    "    else:\n",
    "        print(inputNum[length//2])"
   ]
  },
  {
   "cell_type": "code",
   "execution_count": 24,
   "metadata": {},
   "outputs": [
    {
     "name": "stdout",
     "output_type": "stream",
     "text": [
      "7\n",
      "1\n",
      "5\n",
      "2\n",
      "10\n",
      "-99\n",
      "7\n",
      "5\n",
      "1\n",
      "1\n",
      "2\n",
      "2\n",
      "2\n",
      "2\n",
      "5\n"
     ]
    }
   ],
   "source": [
    "import sys\n",
    "import heapq\n",
    "\n",
    "#input=sys.stdin.readline\n",
    "N=int(input())\n",
    "leftHeap, rightHeap=[],[]\n",
    "answer=[]\n",
    "for i in range(N):\n",
    "    inputNum=int(input())\n",
    "    if len(leftHeap)==len(rightHeap):\n",
    "        heapq.heappush(leftHeap, (-inputNum, inputNum))\n",
    "    else:\n",
    "        heapq.heappush(rightHeap, (inputNum, inputNum))\n",
    "    if rightHeap and leftHeap[0][1]>rightHeap[0][1]:\n",
    "        mini=heapq.heappop(rightHeap)[1]\n",
    "        maxi=heapq.heappop(leftHeap)[1]\n",
    "        heapq.heappush(leftHeap, (-mini, mini))\n",
    "        heapq.heappush(rightHeap, (maxi, maxi))\n",
    "    answer.append(leftHeap[0][1])\n",
    "for i in answer:\n",
    "    print(i)"
   ]
  },
  {
   "cell_type": "markdown",
   "metadata": {},
   "source": [
    "## 15486 퇴사2\n",
    "\n",
    "**문제로 이동** : [퇴사2](https://www.acmicpc.net/problem/15486)\n",
    "\n",
    "- 백준이는 오늘부터 N+1일째 되는 날 퇴사하기 위해 남은 날동안 최대한 많은 상담을 하려고 한다\n",
    "- 각 상담은 걸리는 시간과 상담시 받을 수 있는 금액으로 이루어져 있다\n",
    "- 시간 내에 상담을 적절히 하여 백준이가 얻을 수 있는 최대 수익을 구하는 프로그램을 작성하라"
   ]
  },
  {
   "cell_type": "code",
   "execution_count": 1,
   "metadata": {},
   "outputs": [
    {
     "name": "stdout",
     "output_type": "stream",
     "text": [
      "7\n",
      "3 10\n",
      "5 20\n",
      "1 10\n",
      "1 20\n",
      "2 15\n",
      "4 40\n",
      "2 200\n",
      "45\n"
     ]
    }
   ],
   "source": [
    "import sys\n",
    "\n",
    "#input=sys.stdin.readline\n",
    "N=int(input())\n",
    "work=[list(map(int,input().split())) for _ in range(N)]\n",
    "dp=[0]*(N+1)\n",
    "\n",
    "for i in range(N-1,-1,-1):\n",
    "    if i+work[i][0]>N:\n",
    "        dp[i]=dp[i+1]\n",
    "    else:\n",
    "        dp[i]=max(work[i][1]+dp[i+work[i][0]], dp[i+1])\n",
    "        \n",
    "print(max(dp))"
   ]
  },
  {
   "cell_type": "markdown",
   "metadata": {},
   "source": [
    "## 4963 섬의 개수\n",
    "\n",
    "**문제로 이동** : [섬의 개수](https://www.acmicpc.net/problem/4963)\n",
    "\n",
    "- 정사각형으로 이루어져 있는 섬과 바다 지도가 주어질 때 섬의 개수를 세라\n",
    "- 한 정사각형과 가로, 세로, 대각선으로 연결되어 있는 사각형은 걸어 갈 수 있다\n",
    "- 두 정사각형이 같은 섬에 있으려면 한 정사각형에서 다른 정사각형으로 걸어갈 수 있는 경로가 있어야 한다\n",
    "- 입력은 여러개의 테스트 케이스로 이루어져 있으며 마지막 줄에는 0 두개가 주어진다"
   ]
  },
  {
   "cell_type": "code",
   "execution_count": 9,
   "metadata": {},
   "outputs": [
    {
     "name": "stdout",
     "output_type": "stream",
     "text": [
      "1 1\n",
      "0\n",
      "0\n",
      "2 2\n",
      "0 1\n",
      "1 0\n",
      "1\n",
      "3 2\n",
      "1 1 1\n",
      "1 1 1\n",
      "1\n",
      "5 4\n",
      "1 0 1 0 0\n",
      "1 0 0 0 0\n",
      "1 0 1 0 1\n",
      "1 0 0 1 0\n",
      "3\n",
      "0 0\n"
     ]
    }
   ],
   "source": [
    "from collections import deque\n",
    "import sys\n",
    "\n",
    "#input=sys.stdin.readline\n",
    "\n",
    "dx=[-1,-1,-1,0,0,1,1,1]\n",
    "dy=[-1,0,1,-1,1,-1,0,1]\n",
    "\n",
    "def bfs(i,j,board,visit):\n",
    "    queue=deque([(i,j)])\n",
    "    while queue:\n",
    "        x,y=queue.popleft()\n",
    "        visit[x][y]=1\n",
    "        for i in range(8):\n",
    "            nx=x+dx[i]\n",
    "            ny=y+dy[i]\n",
    "            if 0<=nx<h and 0<=ny<w and board[nx][ny]==1 and not visit[nx][ny]:\n",
    "                visit[nx][ny]=1\n",
    "                queue.append((nx,ny))\n",
    "\n",
    "while True:\n",
    "    w,h=map(int,input().split())\n",
    "    if w==0 and h==0: break\n",
    "    board=[list(map(int,input().split())) for _ in range(h)]\n",
    "    visit=[[0]*(w) for _ in range(h)]\n",
    "    count=0\n",
    "    for i in range(h):\n",
    "        for j in range(w):\n",
    "            if board[i][j]==1 and not visit[i][j]:\n",
    "                bfs(i,j,board,visit)\n",
    "                count+=1\n",
    "    print(count)"
   ]
  },
  {
   "cell_type": "markdown",
   "metadata": {},
   "source": [
    "## 2212 센서\n",
    "\n",
    "**문제로 이동** : [센서](https://www.acmicpc.net/problem/2212)\n",
    "\n",
    "- 한국도로공사는 유비쿼터스화를 위해 고속도로 위에 N개의 센서를 설치하였다\n",
    "- 예산 상의 문제로 고속도로 위에 최대 K개의 집중국을 세울 수 있다\n",
    "- N개의 센서가 적어도 하나의 집중국과는 통신이 가능해야한다\n",
    "- 유지비 문제로 각 집중국의 수신 가능 영역의 길이의 합을 최소화해야한다\n",
    "- 고속도로는 평면상의 직선이며 센서들은 직성위에 한 기점인 원점으로 부터 정수 거리에 위치한다\n",
    "- 각 집중국의 수신 가능영역의 거리의 합이 최솟값을 구하는 프로그램을 작성하라"
   ]
  },
  {
   "cell_type": "code",
   "execution_count": 23,
   "metadata": {},
   "outputs": [
    {
     "name": "stdout",
     "output_type": "stream",
     "text": [
      "10\n",
      "5\n",
      "20 3 14 6 7 8 18 10 12 15\n",
      "7\n"
     ]
    }
   ],
   "source": [
    "import sys\n",
    "\n",
    "#input=sys.stdin.readline\n",
    "N=int(input())\n",
    "K=int(input())\n",
    "\n",
    "if K>=N:\n",
    "    print(0)\n",
    "else:\n",
    "    sensor=list(map(int,input().split()))\n",
    "    sensor.sort()\n",
    "    diff=[]\n",
    "    for i in range(1,len(sensor)):\n",
    "        diff.append(sensor[i]-sensor[i-1])\n",
    "    diff.sort()\n",
    "    for _ in range(K-1):\n",
    "        diff.pop()\n",
    "    print(sum(diff))"
   ]
  },
  {
   "cell_type": "code",
   "execution_count": null,
   "metadata": {},
   "outputs": [],
   "source": []
  }
 ],
 "metadata": {
  "kernelspec": {
   "display_name": "Python 3",
   "language": "python",
   "name": "python3"
  },
  "language_info": {
   "codemirror_mode": {
    "name": "ipython",
    "version": 3
   },
   "file_extension": ".py",
   "mimetype": "text/x-python",
   "name": "python",
   "nbconvert_exporter": "python",
   "pygments_lexer": "ipython3",
   "version": "3.8.3"
  }
 },
 "nbformat": 4,
 "nbformat_minor": 4
}
