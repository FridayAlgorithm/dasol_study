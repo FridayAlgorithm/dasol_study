{
 "cells": [
  {
   "cell_type": "markdown",
   "metadata": {},
   "source": [
    "# 9주차 \n",
    "\n",
    "[9주차 문제집] (https://www.acmicpc.net/group/workbook/view/10320/30745)\n",
    "\n",
    "* [1406 에디터]\n",
    "* [10989 수 정렬하기3]\n",
    "* [10815 숫자 카드] \n",
    "* [7576 토마토] \n",
    "* [2565 전깃줄] \n",
    "* [1181 단어 정렬] \n",
    "* [2178 미로 탐색]\n",
    "* [9251 LCS] \n",
    "* [1026 보물]\n",
    "* [11650 좌표 정렬하기] \n",
    "\n",
    "#### 지난 주에 해결 못한 문제\n",
    "* [1300 K번째 수]"
   ]
  },
  {
   "cell_type": "markdown",
   "metadata": {},
   "source": [
    "## 1406 에디터\n",
    "\n",
    "**문제로 이동** : [Baekjoon 에디터](https://www.acmicpc.net/problem/1406)\n"
   ]
  },
  {
   "cell_type": "code",
   "execution_count": 10,
   "metadata": {},
   "outputs": [
    {
     "name": "stdout",
     "output_type": "stream",
     "text": [
      "abcd\n",
      "3\n",
      "P x\n",
      "L\n",
      "P y\n",
      "abcdyx"
     ]
    }
   ],
   "source": [
    "import sys\n",
    "stackLeft=list(input())\n",
    "stackRight=[]\n",
    "N=int(input())\n",
    "\n",
    "for _ in range(N):\n",
    "    #command=sys.stdin.readline()\n",
    "    command=list(input())\n",
    "    if command[0]=='L':\n",
    "        if(not stackLeft):\n",
    "            continue\n",
    "        stackRight.append(stackLeft.pop())\n",
    "    elif command[0]=='D':\n",
    "        if (not stackRight):\n",
    "            continue\n",
    "        stackLeft.append(stackRight.pop())\n",
    "    elif command[0]=='B':\n",
    "        if (not stackLeft):\n",
    "            continue\n",
    "        stackLeft.pop()\n",
    "    elif command[0]=='P':\n",
    "        stackLeft.append(command[2])\n",
    "        \n",
    "stackRight.reverse()\n",
    "stackLeft.extend(stackRight)\n",
    "\n",
    "for i in stackLeft:\n",
    "    print(i, end='')"
   ]
  },
  {
   "cell_type": "markdown",
   "metadata": {},
   "source": [
    "## 10989 수 정렬하기3\n",
    "\n",
    "**문제로 이동** : [Baekjoon 수 정렬하기3](https://www.acmicpc.net/problem/10989)\n",
    "\n",
    "* 첫번째 시도 : sort 이용 => 메모리 초과\n",
    "* 두번째 시도 : 버블 sort => 메모리 초과\n",
    "* 세번째 시도 : 배열 index 사용하여 해결"
   ]
  },
  {
   "cell_type": "code",
   "execution_count": 3,
   "metadata": {},
   "outputs": [
    {
     "name": "stdout",
     "output_type": "stream",
     "text": [
      "10\n",
      "5\n",
      "2\n",
      "3\n",
      "1\n",
      "4\n",
      "2\n",
      "3\n",
      "5\n",
      "1\n",
      "7\n",
      "1\n",
      "1\n",
      "2\n",
      "2\n",
      "3\n",
      "3\n",
      "4\n",
      "5\n",
      "5\n",
      "7\n"
     ]
    }
   ],
   "source": [
    "import sys\n",
    "N=int(input())\n",
    "#arr=[int(sys.stdin.readline()) for _ in range(N)]\n",
    "arr=[int(input()) for _ in range(N)]\n",
    "arr.sort()\n",
    "for i in range(N):\n",
    "    print(arr[i])"
   ]
  },
  {
   "cell_type": "code",
   "execution_count": 4,
   "metadata": {},
   "outputs": [
    {
     "name": "stdout",
     "output_type": "stream",
     "text": [
      "10\n",
      "5\n",
      "2\n",
      "3\n",
      "1\n",
      "4\n",
      "2\n",
      "3\n",
      "5\n",
      "1\n",
      "7\n",
      "1\n",
      "1\n",
      "2\n",
      "2\n",
      "3\n",
      "3\n",
      "4\n",
      "5\n",
      "5\n",
      "7\n"
     ]
    }
   ],
   "source": [
    "import sys\n",
    "N=int(input())\n",
    "#arr=[int(sys.stdin.readline()) for _ in range(N)]\n",
    "arr=[int(input()) for _ in range(N)]\n",
    "for i in range(N):\n",
    "    for j in range(N-1):\n",
    "        if(arr[j]>arr[j+1]):\n",
    "            arr[j],arr[j+1]=arr[j+1],arr[j]\n",
    "\n",
    "for i in range(N):\n",
    "    print(arr[i])"
   ]
  },
  {
   "cell_type": "code",
   "execution_count": 8,
   "metadata": {},
   "outputs": [
    {
     "name": "stdout",
     "output_type": "stream",
     "text": [
      "10\n",
      "5\n",
      "2\n",
      "3\n",
      "1\n",
      "4\n",
      "2\n",
      "3\n",
      "5\n",
      "1\n",
      "7\n",
      "1\n",
      "1\n",
      "2\n",
      "2\n",
      "3\n",
      "3\n",
      "4\n",
      "5\n",
      "5\n",
      "7\n"
     ]
    }
   ],
   "source": [
    "import sys\n",
    "isInput=[0]*10001\n",
    "N=int(input())\n",
    "for i in range(N):\n",
    "    #isInput[int(sys.stdin.readline())]+=1\n",
    "    isInput[int(input())]+=1\n",
    "    \n",
    "for i in range(10001):\n",
    "    if (isInput[i]):\n",
    "        for j in range(isInput[i]):\n",
    "            print(i)"
   ]
  },
  {
   "cell_type": "markdown",
   "metadata": {},
   "source": [
    "## 10815 숫자카드\n",
    "\n",
    "**문제로 이동** : [Baekjoon 숫자카드](https://www.acmicpc.net/problem/10815)\n"
   ]
  },
  {
   "cell_type": "code",
   "execution_count": 13,
   "metadata": {},
   "outputs": [
    {
     "name": "stdout",
     "output_type": "stream",
     "text": [
      "5\n",
      "6 3 2 10 -10\n",
      "8\n",
      "10 9 -5 2 3 4 5 -10\n",
      "1 0 0 1 1 0 0 1 "
     ]
    }
   ],
   "source": [
    "N=int(input())\n",
    "numCard=set(map(int,input().split()))\n",
    "M=int(input())\n",
    "isIn=list(map(int,input().split()))\n",
    "res=[]\n",
    "for i in isIn:\n",
    "    if i in numCard:\n",
    "        res.append(1)\n",
    "    else:\n",
    "        res.append(0)\n",
    "for i in range(M):\n",
    "    print(res[i],end=' ')"
   ]
  },
  {
   "cell_type": "markdown",
   "metadata": {},
   "source": [
    "## 7576 토마토\n",
    "\n",
    "**문제로 이동** : [Baekjoon 토마토](https://www.acmicpc.net/problem/7576)"
   ]
  },
  {
   "cell_type": "code",
   "execution_count": 15,
   "metadata": {},
   "outputs": [
    {
     "name": "stdout",
     "output_type": "stream",
     "text": [
      "6 4\n",
      "0 0 0 0 0 0\n",
      "0 0 0 0 0 0\n",
      "0 0 0 0 0 0\n",
      "0 0 0 0 0 1\n",
      "8\n"
     ]
    }
   ],
   "source": [
    "from collections import deque\n",
    "\n",
    "m, n=map(int,input().split())\n",
    "tomato=[list(map(int, input().split())) for _ in range(n)]\n",
    "\n",
    "dx=[-1,0,1,0]; dy=[0,1,0,-1]\n",
    "queue=deque()\n",
    "\n",
    "for i in range(n):\n",
    "    for j in range(m):\n",
    "        if tomato[i][j]==1:\n",
    "            queue.append([i,j])\n",
    "            \n",
    "while (len(queue)!=0):\n",
    "    x, y=queue.popleft()\n",
    "    for i in range(4):\n",
    "        nx=x+dx[i]\n",
    "        ny=y+dy[i]\n",
    "        \n",
    "        if (0<=nx<n and 0<=ny<m):\n",
    "            if (tomato[nx][ny]==0):\n",
    "                tomato[nx][ny]=tomato[x][y]+1\n",
    "                queue.append([nx,ny])\n",
    "\n",
    "isPoss=True\n",
    "result=-1\n",
    "for i in tomato:\n",
    "    for j in i:\n",
    "        if(j==0):\n",
    "            isPoss=False\n",
    "        result=max(result,j)\n",
    "\n",
    "if (not isPoss):\n",
    "    print(-1)\n",
    "elif (result==1):\n",
    "    print(0)\n",
    "else:\n",
    "    print(result-1)"
   ]
  },
  {
   "cell_type": "markdown",
   "metadata": {},
   "source": [
    "## 2565 전깃줄\n",
    "\n",
    "**문제로 이동** : [Baekjoon 전깃줄](https://www.acmicpc.net/problem/2565)\n",
    "#### 정렬 후 LIS 구하여 해결"
   ]
  },
  {
   "cell_type": "code",
   "execution_count": 16,
   "metadata": {},
   "outputs": [
    {
     "name": "stdout",
     "output_type": "stream",
     "text": [
      "8\n",
      "1 8\n",
      "3 9\n",
      "2 2\n",
      "4 1\n",
      "6 4\n",
      "10 10\n",
      "9 7\n",
      "7 6\n",
      "3\n"
     ]
    }
   ],
   "source": [
    "N=int(input())\n",
    "line=[list(map(int,input().split())) for _ in range (N)]\n",
    "line.sort()\n",
    "\n",
    "dp=[0]*N; dp[0]=1\n",
    "for i in range(1, N):\n",
    "    minVal=0\n",
    "    for j in range(i):\n",
    "        if (line[i][1]>line[j][1]):\n",
    "            minVal=max(dp[j],minVal)\n",
    "    dp[i]=minVal+1\n",
    "    \n",
    "print(N-max(dp))"
   ]
  },
  {
   "cell_type": "markdown",
   "metadata": {},
   "source": [
    "## 1181 단어 정렬\n",
    "\n",
    "**문제로 이동** : [Baekjoon 단어정렬](https://www.acmicpc.net/problem/1181)\n",
    "\n",
    "??? 출력형식이 잘못되었습니다 <br>\n",
    "=> readline()으로 입력받을 시 개행문자까지 입력받으므로 rstip()으로 입력받자!\n"
   ]
  },
  {
   "cell_type": "code",
   "execution_count": 31,
   "metadata": {},
   "outputs": [
    {
     "name": "stdout",
     "output_type": "stream",
     "text": [
      "13\n",
      "but\n",
      "i\n",
      "wont\n",
      "hesitate\n",
      "no\n",
      "more\n",
      "no\n",
      "more\n",
      "it\n",
      "cannot\n",
      "wait\n",
      "im\n",
      "yours\n",
      "i\n",
      "im\n",
      "it\n",
      "no\n",
      "but\n",
      "more\n",
      "wait\n",
      "wont\n",
      "yours\n",
      "cannot\n",
      "hesitate\n"
     ]
    }
   ],
   "source": [
    "import sys\n",
    "N=int(input())\n",
    "alpa=[]\n",
    "for i in range(N):\n",
    "    #word=sys.stdin.rstip()\n",
    "    word=input()\n",
    "    alpa.append(word)\n",
    "alpa=list(set(alpa))\n",
    "alpaLen=[]\n",
    "for i in alpa:\n",
    "    alpaLen.append([i,len(i)])\n",
    "res=sorted(alpaLen, key=lambda x :(x[1],x[0]))\n",
    "for i in res:\n",
    "    print(i[0])"
   ]
  },
  {
   "cell_type": "markdown",
   "metadata": {},
   "source": [
    "## 2178 미로 탐색\n",
    "\n",
    "**문제로 이동** : [Baekjoon 미로탐색](https://www.acmicpc.net/problem/2178)"
   ]
  },
  {
   "cell_type": "code",
   "execution_count": 18,
   "metadata": {},
   "outputs": [
    {
     "name": "stdout",
     "output_type": "stream",
     "text": [
      "4 6\n",
      "101111\n",
      "101010\n",
      "101011\n",
      "111011\n",
      "15\n"
     ]
    }
   ],
   "source": [
    "n, m=map(int,input().split())\n",
    "maze=[]\n",
    "queue=[]\n",
    "dx=[1,-1,0,0]; dy=[0,0,-1,1]\n",
    "for i in range(n):\n",
    "    maze.append(list(input()))\n",
    "queue=[[0,0]]\n",
    "maze[0][0]=1\n",
    "while (queue):\n",
    "    a, b=queue[0]\n",
    "    del queue[0]\n",
    "    for i in range(4):\n",
    "        x=a+dx[i]\n",
    "        y=b+dy[i]\n",
    "        if (0<=x<n and 0<=y<m and maze[x][y]==\"1\"):\n",
    "            queue.append([x,y])\n",
    "            maze[x][y]=maze[a][b]+1\n",
    "print(maze[n-1][m-1])"
   ]
  },
  {
   "cell_type": "markdown",
   "metadata": {},
   "source": [
    "## 9251 LCS\n",
    "\n",
    "**문제로 이동** : [Baekjoon LCS](https://www.acmicpc.net/problem/9251)"
   ]
  },
  {
   "cell_type": "code",
   "execution_count": 23,
   "metadata": {},
   "outputs": [
    {
     "name": "stdout",
     "output_type": "stream",
     "text": [
      "ACAYKP\n",
      "CAPCAK\n",
      "4\n"
     ]
    }
   ],
   "source": [
    "a=list(input())\n",
    "b=list(input())\n",
    "dp=[[0]*(len(a)+1) for _ in range(len(b)+1)]\n",
    "lenA=len(a); lenB=len(b)\n",
    "for i in range(1, lenB+1):\n",
    "    for j in range(1, lenA+1):\n",
    "        dp[i][j]=max(dp[i][j-1],dp[i-1][j],dp[i-1][j-1]+(a[j-1]==b[i-1]))\n",
    "print(dp[lenB][lenA])"
   ]
  },
  {
   "cell_type": "markdown",
   "metadata": {},
   "source": [
    "## 1026 보물\n",
    "\n",
    "**문제로 이동** : [Baekjoon 보물](https://www.acmicpc.net/problem/1026)"
   ]
  },
  {
   "cell_type": "code",
   "execution_count": 34,
   "metadata": {},
   "outputs": [
    {
     "name": "stdout",
     "output_type": "stream",
     "text": [
      "5\n",
      "1 1 1 6 0\n",
      "2 7 8 3 1\n",
      "18\n"
     ]
    }
   ],
   "source": [
    "N=int(input())\n",
    "A=list(map(int,input().split()))\n",
    "B=list(map(int,input().split()))\n",
    "A.sort(); B.sort(reverse=True)\n",
    "res=0\n",
    "for i in range(N):\n",
    "    res+=A[i]*B[i]\n",
    "print(res)"
   ]
  },
  {
   "cell_type": "markdown",
   "metadata": {},
   "source": [
    "## 11650 좌표 정렬하기\n",
    "\n",
    "**문제로 이동** : [Baekjoon 좌표정렬하기](https://www.acmicpc.net/problem/11650)\n",
    "\n",
    "##### pypy3로 시간초과 해결..  => 다른 방법??"
   ]
  },
  {
   "cell_type": "code",
   "execution_count": 38,
   "metadata": {},
   "outputs": [
    {
     "name": "stdout",
     "output_type": "stream",
     "text": [
      "5\n",
      "3 4\n",
      "1 1\n",
      "1 -1\n",
      "2 2\n",
      "3 3\n",
      "1 -1\n",
      "1 1\n",
      "2 2\n",
      "3 3\n",
      "3 4\n"
     ]
    }
   ],
   "source": [
    "N=int(input())\n",
    "xyArr=[]\n",
    "for i in range(N):\n",
    "    temp=list(map(int,input().split()))\n",
    "    xyArr.append(temp)\n",
    "res=sorted(xyArr, key=lambda x :(x[0],x[1]))\n",
    "for i in res:\n",
    "    print(i[0],i[1],sep=' ')"
   ]
  },
  {
   "cell_type": "code",
   "execution_count": null,
   "metadata": {},
   "outputs": [],
   "source": []
  },
  {
   "cell_type": "markdown",
   "metadata": {},
   "source": [
    "## 1300 K번째 수\n",
    "\n",
    "**문제로 이동** : [Baekjoon K번째 수](https://www.acmicpc.net/problem/1300) <br>\n",
    "**참고** : [K번째 수 풀이 블로그] (https://claude-u.tistory.com/449)"
   ]
  },
  {
   "cell_type": "code",
   "execution_count": null,
   "metadata": {},
   "outputs": [],
   "source": [
    "N=int(input())\n",
    "K=int(input())\n",
    "start,end =1,K\n",
    "\n",
    "while (start<=end):\n",
    "    mid = (start + end) // 2    \n",
    "    temp = 0\n",
    "    for i in range(1, N+1):\n",
    "        temp += min(mid//i, N)\n",
    "    \n",
    "    if temp >= K: \n",
    "        answer = mid\n",
    "        end = mid - 1\n",
    "    else:\n",
    "        start = mid + 1\n",
    "print(answer)"
   ]
  }
 ],
 "metadata": {
  "kernelspec": {
   "display_name": "Python 3",
   "language": "python",
   "name": "python3"
  },
  "language_info": {
   "codemirror_mode": {
    "name": "ipython",
    "version": 3
   },
   "file_extension": ".py",
   "mimetype": "text/x-python",
   "name": "python",
   "nbconvert_exporter": "python",
   "pygments_lexer": "ipython3",
   "version": "3.8.3"
  }
 },
 "nbformat": 4,
 "nbformat_minor": 4
}
