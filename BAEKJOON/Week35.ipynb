{
 "cells": [
  {
   "cell_type": "markdown",
   "metadata": {},
   "source": [
    "# 35주차 \n",
    "\n",
    "[35주차 문제집](https://www.acmicpc.net/group/workbook/view/10320/36612)\n",
    "\n",
    "* [9663 N-Queen](https://www.acmicpc.net/problem/9663)\n",
    "* [1916 최소비용 구하기](https://www.acmicpc.net/problem/1916)\n",
    "* [1707 이분 그래프](https://www.acmicpc.net/problem/1707)\n",
    "* [1759 암호 만들기](https://www.acmicpc.net/problem/1759)\n",
    "* [12865 평범한 배낭](https://www.acmicpc.net/problem/12865)\n",
    "* [9252 LCS2](https://www.acmicpc.net/problem/9252)"
   ]
  },
  {
   "cell_type": "markdown",
   "metadata": {},
   "source": [
    "## 9663 N-Queen\n",
    "\n",
    "**문제로 이동** : [Baekjoon N-Queen](https://www.acmicpc.net/problem/9663)\n",
    "\n",
    "- 크기가 N\\*N인 체스판 위에 퀸 N개를 서로 공격할 수 없게 놓는 문제이다\n",
    "- N이 주어졌을 때 퀸을 놓는 방법의 수를 구하라"
   ]
  },
  {
   "cell_type": "code",
   "execution_count": 43,
   "metadata": {},
   "outputs": [
    {
     "name": "stdout",
     "output_type": "stream",
     "text": [
      "8\n",
      "92\n"
     ]
    }
   ],
   "source": [
    "#시간초과 => pypy3\n",
    "def isSafe(x):\n",
    "    for i in range(x):\n",
    "        if (row[x]==row[i] or abs(row[x]-row[i])==x-i):\n",
    "            return False\n",
    "    return True\n",
    "        \n",
    "def dfs(x):\n",
    "    global result\n",
    "    if x == N:\n",
    "        result += 1\n",
    "    else:\n",
    "        for i in range(N):\n",
    "            row[x] = i\n",
    "            if isSafe(x):\n",
    "                dfs(x + 1)\n",
    "\n",
    "N = int(input())\n",
    "row = [0] * N\n",
    "result = 0\n",
    "dfs(0)\n",
    "print(result)"
   ]
  },
  {
   "cell_type": "markdown",
   "metadata": {},
   "source": [
    "## 1916 최소비용 구하기\n",
    "\n",
    "**문제로 이동** : [Baekjoon 최소비용 구하기](https://www.acmicpc.net/problem/1916)\n",
    "\n",
    "- N개의 도시에 M개의 버스가 있다\n",
    "- A번째 도시에서 B번째 도시까지 가는데 드는 최소 비용을 구하라\n",
    "\n",
    "- 버스의 출발도시, 도착도시, 비용 순으로 주어진다"
   ]
  },
  {
   "cell_type": "code",
   "execution_count": 5,
   "metadata": {},
   "outputs": [
    {
     "name": "stdout",
     "output_type": "stream",
     "text": [
      "5\n",
      "8\n",
      "1 2 2\n",
      "1 3 3\n",
      "1 4 1\n",
      "1 5 10\n",
      "2 4 2\n",
      "3 4 1\n",
      "3 5 1\n",
      "4 5 3\n",
      "1 5\n",
      "4\n"
     ]
    }
   ],
   "source": [
    "#시간초과\n",
    "import sys\n",
    "\n",
    "#input = sys.stdin.readline\n",
    "N=int(input())\n",
    "M=int(input())\n",
    "INF=1000001\n",
    "graph=[[INF]*(N+1) for _ in range(N+1)]\n",
    "for i in range(1,N+1):\n",
    "    graph[i][i]=0\n",
    "for _ in range(M):\n",
    "    s, e, c=map(int,input().split())\n",
    "    if (c<graph[s][e]): #같은 경로 다른 cost 들어옴\n",
    "        graph[s][e]=c\n",
    "    \n",
    "start, end = map(int,input().split())\n",
    "visit=[False]*(N+1)\n",
    "distance=[INF]*(N+1)\n",
    "\n",
    "def getSmallest():\n",
    "    mini=INF\n",
    "    index=0\n",
    "    for i in range(1,N+1):\n",
    "        if distance[i]<mini and not visit[i]:\n",
    "            mini=distance[i]\n",
    "            index=i\n",
    "    return index\n",
    "\n",
    "def dijkstra(start):\n",
    "    for i in range(1,N+1):\n",
    "        distance[i]=graph[start][i]\n",
    "    visit[start]=True\n",
    "    for i in range(1, N-1):\n",
    "        cur=getSmallest();\n",
    "        visit[cur]=True\n",
    "        for j in range(1,N+1):\n",
    "            if (not visit[j]):\n",
    "                if (distance[cur]+graph[cur][j]<distance[j]):\n",
    "                    distance[j]=distance[cur]+graph[cur][j]\n",
    "                    \n",
    "dijkstra(start)\n",
    "print(distance[end])"
   ]
  },
  {
   "cell_type": "code",
   "execution_count": 44,
   "metadata": {},
   "outputs": [
    {
     "name": "stdout",
     "output_type": "stream",
     "text": [
      "5\n",
      "8\n",
      "1 2 2\n",
      "1 3 3\n",
      "1 4 1\n",
      "1 5 10\n",
      "2 4 2\n",
      "3 4 1\n",
      "3 5 1\n",
      "4 5 3\n",
      "1 5\n",
      "4\n"
     ]
    }
   ],
   "source": [
    "import sys\n",
    "import heapq\n",
    "\n",
    "#input = sys.stdin.readline\n",
    "def dijkstra(s, e):\n",
    "    pq = []\n",
    "    heapq.heappush(pq, (0, s))\n",
    "    visited = [0] * (N + 1)\n",
    "    while pq:\n",
    "        cost, city = heapq.heappop(pq)\n",
    "        if city == e:\n",
    "            return cost\n",
    "        if visited[city]:\n",
    "            continue\n",
    "        visited[city] = 1\n",
    "        for nextWeight, nextCost in graph[city]:\n",
    "            if not visited[nextWeight]:\n",
    "                heapq.heappush(pq, (cost + nextCost, nextWeight))\n",
    "\n",
    "\n",
    "N = int(input())\n",
    "M = int(input())\n",
    "graph = {x + 1: [] for x in range(N)}\n",
    "for _ in range(M):\n",
    "    a, b, c = map(int, input().split())\n",
    "    graph[a].append((b, c))\n",
    "\n",
    "start, end = map(int, input().split())\n",
    "answer = dijkstra(start, end)\n",
    "print(answer)"
   ]
  },
  {
   "cell_type": "markdown",
   "metadata": {},
   "source": [
    "## 1707 이분 그래프\n",
    "\n",
    "**문제로 이동** : [Baekjoon 이분 그래프](https://www.acmicpc.net/problem/1707)\n",
    "\n",
    "- 그래프의 정점의 집합을 둘로 분할하여 각 집합에 속한 정점끼리 서로 인접하지 않도록 분할할 수 있을 때 이분그래프라 한다\n",
    "- 그래프가 주어질 때 이분 그래프인지 판별하라\n",
    "\n",
    "\n",
    "\n",
    "\n",
    " [이분그래프](https://ko.wikipedia.org/wiki/%EC%9D%B4%EB%B6%84_%EA%B7%B8%EB%9E%98%ED%94%84) : 인접한 정점끼리 서로 다른 색으로 칠해 모든 정점을 두 가지 색으로만 칠할 수 있는 그래프\n"
   ]
  },
  {
   "cell_type": "code",
   "execution_count": 38,
   "metadata": {},
   "outputs": [
    {
     "name": "stdout",
     "output_type": "stream",
     "text": [
      "2\n",
      "3 2\n",
      "1 3\n",
      "2 3\n",
      "NO\n",
      "4 4\n",
      "1 2\n",
      "2 3\n",
      "3 4\n",
      "4 2\n",
      "NO\n"
     ]
    }
   ],
   "source": [
    "#시간초과 => pypy3\n",
    "import sys\n",
    "from collections import deque\n",
    "\n",
    "def BFS(x):\n",
    "    visit[x]=1\n",
    "    queue=deque()\n",
    "    queue.append(x)\n",
    "    while (queue):\n",
    "        temp=queue.popleft()\n",
    "        for i in graph[temp]:\n",
    "            if (visit[i]==0):\n",
    "                visit[i]=-visit[temp]\n",
    "                queue.append(i)\n",
    "            else:\n",
    "                if visit[i]==visit[temp]:\n",
    "                    return False\n",
    "    return True\n",
    "\n",
    "TestNum=int(input())\n",
    "for _ in range(TestNum):\n",
    "    V, E = map(int,input().split())\n",
    "    graph=[[] for _ in range(V+1)]\n",
    "    visit=[0]*(V+1)\n",
    "    flag=1\n",
    "    for j in range(E):\n",
    "        a,b=map(int,input().split())\n",
    "        graph[a].append(b)\n",
    "        graph[b].append(a)\n",
    "    for k in range(1, V+1):\n",
    "        if (visit[k]==0):\n",
    "            if not BFS(k):\n",
    "                flag=-1\n",
    "                break\n",
    "    if (flag==1): print('YES')\n",
    "    else: print('NO')"
   ]
  },
  {
   "cell_type": "markdown",
   "metadata": {},
   "source": [
    "## 1759 암호 만들기\n",
    "\n",
    "**문제로 이동** : [Baekjoon 암호 만들기](https://www.acmicpc.net/problem/1759)\n",
    "\n",
    "- 암호는 서로 다른 L개의 알파벳 소문자들로 구성되며 최소 한 개의 모음과 두 개의 자음으로 구성되어 있어야 한다\n",
    "- 암호를 이루는 알파벳은 증가하는 순서로 배열된다\n",
    "- C개의 문자가 주어질 때 가능성 있는 암호들을 모두 구하라"
   ]
  },
  {
   "cell_type": "code",
   "execution_count": 1,
   "metadata": {},
   "outputs": [
    {
     "name": "stdout",
     "output_type": "stream",
     "text": [
      "4 6\n",
      "a t c i s w\n",
      "acis\n",
      "acit\n",
      "aciw\n",
      "acst\n",
      "acsw\n",
      "actw\n",
      "aist\n",
      "aisw\n",
      "aitw\n",
      "astw\n",
      "cist\n",
      "cisw\n",
      "citw\n",
      "istw\n"
     ]
    }
   ],
   "source": [
    "from copy import deepcopy\n",
    "\n",
    "L, C = map(int,input().split())\n",
    "alphabet=list(map(str,input().split()))\n",
    "alphabet.sort()\n",
    "aeiou=['a','e','i','o','u']\n",
    "visit=[False]*C\n",
    "\n",
    "def DFS(now, count, pw, jaNum, moNum):\n",
    "    if(count==L):\n",
    "        if (jaNum>=2 and moNum>=1):\n",
    "            print(''.join([str(ch) for ch in pw]))\n",
    "    else:\n",
    "        for i in range(now+1,C):\n",
    "            if not visit[i]:\n",
    "                visit[i]=True\n",
    "                copyPw=list(pw) #deepcopy대신 list가능\n",
    "                copyPw.append(alphabet[i])\n",
    "                if (alphabet[i] in aeiou):\n",
    "                    DFS(i,count+1,copyPw,jaNum,moNum+1)\n",
    "                else:\n",
    "                    DFS(i,count+1,copyPw,jaNum+1,moNum)\n",
    "                visit[i]=0\n",
    "                \n",
    "DFS(-1,0,[],0,0)"
   ]
  },
  {
   "cell_type": "markdown",
   "metadata": {},
   "source": [
    "## 12865 평범한 배낭\n",
    "\n",
    "**문제로 이동** : [Baekjoon 평범한 배낭](https://www.acmicpc.net/problem/12865)\n",
    "\n",
    "- 여행에 필요한 N개의 물건이 있다\n",
    "- 각 물건은 무게 W와 가치 V를 가진다\n",
    "- 최대 K만큼의 무게의 물건을 넣을 때 얻을 수 있는 가장 큰 가치를 구하라"
   ]
  },
  {
   "cell_type": "code",
   "execution_count": 25,
   "metadata": {},
   "outputs": [
    {
     "name": "stdout",
     "output_type": "stream",
     "text": [
      "4 7\n",
      "6 13\n",
      "4 8\n",
      "3 6\n",
      "5 12\n",
      "14\n"
     ]
    }
   ],
   "source": [
    "N, K=map(int,input().split())\n",
    "objects=[list(map(int,input().split())) for _ in range(N)]\n",
    "bag=[[0]*(K+1) for _ in range(N+1)]\n",
    "\n",
    "for i in range(N):\n",
    "    for j in range(1,K+1):\n",
    "        weight, value=objects[i][0],objects[i][1]\n",
    "        if (j<weight):\n",
    "            bag[i+1][j]=bag[i][j]\n",
    "        else:\n",
    "            bag[i+1][j]=max(value+bag[i][j-weight],bag[i][j])\n",
    "            \n",
    "print(bag[N][K])"
   ]
  },
  {
   "cell_type": "markdown",
   "metadata": {},
   "source": [
    "## 9252 LCS2\n",
    "\n",
    "**문제로 이동** : [Baekjoon LCS2](https://www.acmicpc.net/problem/9252)\n",
    "\n",
    "- LCS(최장 공통 부분 수열)문제는 두 수열이 주어졌을 때, 모두의 부분 수열이 되는 수열 중 가장 긴 것을 찾는 문제이다\n",
    "- 두 문자열이 주어질 때 두 문자열의 LCS의 길이와 LCS를 출력하라"
   ]
  },
  {
   "cell_type": "code",
   "execution_count": 28,
   "metadata": {},
   "outputs": [
    {
     "name": "stdout",
     "output_type": "stream",
     "text": [
      "ACAYKP\n",
      "CAPCAK\n",
      "4\n",
      "ACAK\n"
     ]
    }
   ],
   "source": [
    "str1=list(input())\n",
    "str2=list(input())\n",
    "dp=[[\"\"]*(len(str2)+1) for _ in range(len(str1)+1)]\n",
    "\n",
    "for i in range(1, len(str1)+1):\n",
    "    for j in range(1, len(str2)+1):\n",
    "        if str1[i-1]==str2[j-1]:\n",
    "            dp[i][j]=dp[i-1][j-1]+str1[i-1]\n",
    "        else:\n",
    "            if (len(dp[i-1][j])>=len(dp[i][j-1])):\n",
    "                dp[i][j]=dp[i-1][j]\n",
    "            else:\n",
    "                dp[i][j]=dp[i][j-1]\n",
    "            \n",
    "if (len(dp[-1][-1])==0):\n",
    "    print(0)\n",
    "else:\n",
    "    print(len(dp[-1][-1]),dp[-1][-1],sep='\\n')"
   ]
  },
  {
   "cell_type": "code",
   "execution_count": null,
   "metadata": {},
   "outputs": [],
   "source": []
  }
 ],
 "metadata": {
  "kernelspec": {
   "display_name": "Python 3",
   "language": "python",
   "name": "python3"
  },
  "language_info": {
   "codemirror_mode": {
    "name": "ipython",
    "version": 3
   },
   "file_extension": ".py",
   "mimetype": "text/x-python",
   "name": "python",
   "nbconvert_exporter": "python",
   "pygments_lexer": "ipython3",
   "version": "3.8.3"
  }
 },
 "nbformat": 4,
 "nbformat_minor": 4
}
