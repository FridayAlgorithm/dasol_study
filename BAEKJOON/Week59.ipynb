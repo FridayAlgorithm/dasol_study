{
 "cells": [
  {
   "cell_type": "markdown",
   "metadata": {},
   "source": [
    "# 59주차\n",
    "\n",
    "[59주차 문제집](https://www.acmicpc.net/group/workbook/view/10320/43374)\n",
    "\n",
    "* [16946 벽 부수고 이동하기4](https://www.acmicpc.net/problem/16946)\n",
    "* [2573 빙산](https://www.acmicpc.net/problem/2573)\n",
    "* [1244 스위치 켜고 끄기](https://www.acmicpc.net/problem/1244)\n",
    "* [11066 파일 합치기](https://www.acmicpc.net/problem/11066)\n",
    "* [5904 Moo 게임](https://www.acmicpc.net/problem/5904)"
   ]
  },
  {
   "cell_type": "markdown",
   "metadata": {},
   "source": [
    "## 16946 벽 부수고 이동하기4\n",
    "\n",
    "**문제로 이동** : [Baekjoon 벽 부수고 이동하기4](https://www.acmicpc.net/problem/16946)\n",
    "\n"
   ]
  },
  {
   "cell_type": "code",
   "execution_count": 25,
   "metadata": {},
   "outputs": [
    {
     "name": "stdout",
     "output_type": "stream",
     "text": [
      "3 3\n",
      "101\n",
      "010\n",
      "101\n",
      "303\n",
      "050\n",
      "303\n"
     ]
    }
   ],
   "source": [
    "#시간초과\n",
    "import sys\n",
    "import copy\n",
    "from collections import deque\n",
    "\n",
    "#input=sys.stdin.readline\n",
    "N,M=map(int,input().split())\n",
    "board=[list(input().strip()) for _ in range(N)]\n",
    "    \n",
    "dx=[-1,1,0,0]\n",
    "dy=[0,0,-1,1]\n",
    "def bfs(temp, i,j):\n",
    "    visit=[[0]*M for _ in range(N)]\n",
    "    count=1\n",
    "    queue=deque()\n",
    "    queue.append((i,j))\n",
    "    while queue:\n",
    "        x,y=queue.popleft()\n",
    "        temp[x][y]=0\n",
    "        for d in range(4):\n",
    "            nx=x+dx[d]\n",
    "            ny=y+dy[d]\n",
    "            if (0<=nx<N and 0<=ny<M and temp[nx][ny]=='0' and not visit[nx][ny]):\n",
    "                count+=1\n",
    "                visit[nx][ny]=True\n",
    "                queue.append((nx,ny))\n",
    "    return count\n",
    "\n",
    "res=[[0]*(M) for _ in range(N)]\n",
    "for i in range(N):\n",
    "    for j in range(M):\n",
    "        if board[i][j]=='1':\n",
    "            res[i][j]=bfs(copy.deepcopy(board), i,j)\n",
    "\n",
    "for i in range(N):\n",
    "    for j in range(M):\n",
    "        print(res[i][j], end='')\n",
    "    print()"
   ]
  },
  {
   "cell_type": "code",
   "execution_count": 18,
   "metadata": {},
   "outputs": [
    {
     "name": "stdout",
     "output_type": "stream",
     "text": [
      "4 4\n",
      "1111\n",
      "0000\n",
      "0000\n",
      "0111\n",
      "0000\n",
      "0000\n",
      "0000\n",
      "0000\n"
     ]
    }
   ],
   "source": [
    "import sys\n",
    "from collections import deque\n",
    "\n",
    "#input=sys.stdin.readline\n",
    "N,M=map(int,input().split())\n",
    "board=[list(map(int, list(input().strip()))) for _ in range(N)]\n",
    "visit=[[False]*M for _ in range(N)]\n",
    "answer=[[0]*M for _ in range(N)]\n",
    "\n",
    "for i in range(N):\n",
    "    for j in range(M):\n",
    "        if board[i][j]==1: \n",
    "            answer[i][j]=1\n",
    "            \n",
    "dx=[-1,1,0,0]\n",
    "dy=[0,0,-1,1]\n",
    "def bfs(x,y):\n",
    "    global answer\n",
    "    queue=deque()\n",
    "    queue.append((x,y))\n",
    "    count=1\n",
    "    ones=[]\n",
    "    \n",
    "    while queue:\n",
    "        x,y=queue.popleft()\n",
    "        for i in range(4):\n",
    "            nx=x+dx[i]\n",
    "            ny=y+dy[i]\n",
    "            if (0<=nx<N and 0<=ny<M and not visit[nx][ny]):\n",
    "                visit[nx][ny]=True\n",
    "                if (board[nx][ny]==0):\n",
    "                    queue.append((nx,ny))\n",
    "                    count+=1\n",
    "                else: ones.append((nx,ny))\n",
    "                    \n",
    "    for ox, oy in ones:\n",
    "        visit[ox][oy]=False\n",
    "        answer[ox][oy]+=count\n",
    "        if answer[ox][oy]>=10: answer[ox][oy]%=10\n",
    "            \n",
    "for i in range(N):\n",
    "    for j in range(M):\n",
    "        if board[i][j]==0:\n",
    "            if not visit[i][j]:\n",
    "                visit[i][j]=True\n",
    "                bfs(i,j)\n",
    "\n",
    "\n",
    "for i in range(N):\n",
    "    for j in range(M):\n",
    "        print(answer[i][j], end='')\n",
    "    print()"
   ]
  },
  {
   "cell_type": "markdown",
   "metadata": {},
   "source": [
    "## 2573 빙산\n",
    "\n",
    "**문제로 이동** : [Baekjoon 빙산](https://www.acmicpc.net/problem/2573)\n",
    "\n",
    "- 지구 온난화로 인해 북극의 빙산이 녹고 있다\n",
    "- 빙산의 높이는 바닷물에 많이 접해있는 부분에서 더 빨리 줄어든다\n",
    "- 빙산은 일년마다 그 칸의 인접한 바다의 수만큼 줄어든다.\n",
    "- 한 덩어리의 빙산이 주어질 때 빙산이 두 덩어리 이상으로 분리되는 최초의 시간을 구하라\n",
    "- 전부 다 녹을 때까지 두 덩어리 이상으로 분리되지 않으면 0을 출력하라"
   ]
  },
  {
   "cell_type": "code",
   "execution_count": 19,
   "metadata": {},
   "outputs": [
    {
     "name": "stdout",
     "output_type": "stream",
     "text": [
      "5 7\n",
      "0 0 0 0 0 0 0\n",
      "0 2 4 5 3 0 0\n",
      "0 3 0 2 5 2 0\n",
      "0 7 6 2 4 0 0\n",
      "0 0 0 0 0 0 0\n",
      "2\n"
     ]
    }
   ],
   "source": [
    "#시간초과\n",
    "import sys\n",
    "from collections import deque\n",
    "\n",
    "#input=sys.stdin.readline\n",
    "n,m=map(int,input().split())\n",
    "board=[list(map(int,input().split())) for _ in range(n)]\n",
    "\n",
    "dx=[-1,1,0,0]\n",
    "dy=[0,0,-1,1]\n",
    "queue=deque()\n",
    "def bfs(x,y):\n",
    "    queue.append((x,y))\n",
    "    while queue:\n",
    "        x,y=queue.popleft()\n",
    "        visit[x][y]=True\n",
    "        for i in range(4):\n",
    "            nx=x+dx[i]\n",
    "            ny=y+dy[i]\n",
    "            if 0<=nx<n and 0<=ny<m:\n",
    "                if board[nx][ny]!=0 and not visit[nx][ny]:\n",
    "                    visit[nx][ny]=True\n",
    "                    queue.append((nx,ny))\n",
    "                elif board[nx][ny]==0:\n",
    "                    seaCount[x][y]+=1\n",
    "    return 1\n",
    "\n",
    "day=0\n",
    "isSeparate=False\n",
    "while (True):\n",
    "    visit=[[False]*m for _ in range(n)]\n",
    "    seaCount=[[0]*m for _ in range(n)]\n",
    "    mountainNum=[]\n",
    "    for i in range(n):\n",
    "        for j in range(m):\n",
    "            if board[i][j]!=0 and not visit[i][j]:\n",
    "                mountainNum.append((bfs(i,j)))\n",
    "    for i in range(n):\n",
    "        for j in range(m):\n",
    "            board[i][j]-=seaCount[i][j]\n",
    "            if board[i][j]<0:\n",
    "                board[i][j]=0\n",
    "    if len(mountainNum)==0:\n",
    "        break;\n",
    "    if len(mountainNum)>=2:\n",
    "        isSeparate=True\n",
    "        break\n",
    "    day+=1\n",
    "    \n",
    "if isSeparate: print(day)\n",
    "else: print(0)"
   ]
  },
  {
   "cell_type": "markdown",
   "metadata": {},
   "source": [
    "## 1244 스위치 켜고 끄기\n",
    "\n",
    "**문제로 이동** : [Baekjoon 스위치 켜고 끄기](https://www.acmicpc.net/problem/1244)\n",
    "\n",
    "- 1부터 연속적 번호가 붙어있는 스위치들이 있다\n",
    "- 스위치는 켜져 있거나 꺼져있는 상태이다.\n",
    "- 학생들은 자신의 성별과 받은 수에 따라 아래와 같은 방식으로 스위치를 조작한다\n",
    "  * 남학생은 스위치 번호가 자기가 받은 수의 배수라면 스위치 상태를 바꾼다\n",
    "  * 여학생은 자신의 번호와 같은 번호의 스위치를 중심으로 좌우대칭이면서 가장 많은 스위치를 포함하는 구간을 찾아 스위치 상태를 모두 바꾼다\n",
    "  (스위치의 개수는 항상 홀수가 된다..)\n",
    "- 입력으로 스위치의 처음 상태와 각 학생을 성별, 번호가 주어진다\n",
    "- 남자는 1, 여자는 2로 표시한다\n",
    "- 학생들이 순서대로 스위치 상태를 바꿀 때 스위치의 마지막 상태를 출력하라"
   ]
  },
  {
   "cell_type": "code",
   "execution_count": 27,
   "metadata": {},
   "outputs": [
    {
     "name": "stdout",
     "output_type": "stream",
     "text": [
      "8\n",
      "0 1 0 1 0 0 0 1\n",
      "2\n",
      "1 3\n",
      "2 3\n",
      "[0, 1, 0, 1, 0, 0, 0, 1]\n",
      "[0, 1, 1, 1, 0, 1, 0, 1]\n",
      "1 0 0 0 1 1 0 1 "
     ]
    }
   ],
   "source": [
    "import sys\n",
    "\n",
    "#input=sys.stdin.readline\n",
    "N=int(input())\n",
    "switch=list(map(int,input().split()))\n",
    "stuNum=int(input())\n",
    "student=[list(map(int,input().split())) for _ in range(stuNum)]\n",
    "\n",
    "def male(switch, num):\n",
    "    for i in range(num, N+1, num):\n",
    "        switch[i-1]=(switch[i-1]+1)%2\n",
    "        \n",
    "def female(switch, num):\n",
    "    size=min(N-num+1, num)\n",
    "    switch[num-1]=(switch[num-1]+1)%2\n",
    "    for i in range(1,size):\n",
    "        if switch[num-i-1]==switch[num+i-1]:\n",
    "            switch[num-i-1]=(switch[num-i-1]+1)%2\n",
    "            switch[num+i-1]=(switch[num+i-1]+1)%2\n",
    "        else: break\n",
    "\n",
    "for s in student:\n",
    "    print(switch)\n",
    "    if s[0]==1:\n",
    "        male(switch, s[1])\n",
    "    elif s[0]==2:\n",
    "        female(switch, s[1])\n",
    "    \n",
    "for i in range(1,N+1):\n",
    "    print(switch[i-1], end=' ')\n",
    "    if (i%20==0):\n",
    "        print()"
   ]
  },
  {
   "cell_type": "markdown",
   "metadata": {},
   "source": [
    "## 11066 파일 합치기\n",
    "**문제로 이동** : [Baekjoon 파일 합치기](https://www.acmicpc.net/problem/11066)\n",
    "\n",
    "- 소설가는 소설을 여러 장으로 나누어 쓰는데 각 장을 다른 파일에 저장한다\n",
    "- 모든 장을 완성하면 각 장의 파일을 합쳐 하나의 완성된 파일을 만든다\n",
    "- 이 과정에서 두 파일을 합쳐 임시파일을 만들고 원래의 파일을 계속 두 개씩 합쳐 여러 장들이 연속이 되도록 파일을 합쳐나간다\n",
    "- 두 개의 파일을 합칠 때 필요한 비용이 두 파일 크기의 합이라고 가정한다\n",
    "- 최종적인 파일을 완성하는데 필요한 비용의 총 합을 계산하라\n",
    "- 파일의 크기가 주어질 때 파일들을 하나로 합칠 때 필요한 최소비용을 구하라"
   ]
  },
  {
   "cell_type": "code",
   "execution_count": 31,
   "metadata": {},
   "outputs": [
    {
     "name": "stdout",
     "output_type": "stream",
     "text": [
      "1 0 3\n",
      "4 2 5\n",
      "7 8 6\n",
      "3\n"
     ]
    }
   ],
   "source": [
    "\n"
   ]
  },
  {
   "cell_type": "markdown",
   "metadata": {},
   "source": [
    "## 5904 Moo 게임\n",
    "\n",
    "**문제로 이동** : [Baekjoon Moo게임](https://www.acmicpc.net/problem/5904)\n",
    "\n",
    "- Moo는 술자리에서 즐겁게 할 수 있는 게임이다\n",
    "- Moo수열을 각 사람이 하나씩 순서대로 외치면 된다\n",
    "- Moo수열은 재귀적으로 만들 수 있다\n",
    "  * K번째 수열은 K-1번째 Moo수열 + Moo(k+2개 o_ + k-1번쨰 Moo수열이다\n",
    "- N이 주어졌을 때 Moo 수열의 N번째 글자를 구하는 프로그램을 작성하라"
   ]
  },
  {
   "cell_type": "code",
   "execution_count": 14,
   "metadata": {},
   "outputs": [
    {
     "name": "stdout",
     "output_type": "stream",
     "text": [
      "26\n",
      "moomooomoomoooomoomooomoomooooomoomooomoomoooomoomooomoo\n",
      "m\n"
     ]
    }
   ],
   "source": [
    "#메모리초과\n",
    "import sys\n",
    "\n",
    "#input=sys.stdin.readline()\n",
    "N=int(input())\n",
    "moo='moo'\n",
    "idx=1\n",
    "while (len(moo)<N):\n",
    "    moo=moo+'m'+'o'*(idx+2)+moo\n",
    "    idx+=1\n",
    "print(moo)\n",
    "print(moo[N-1])"
   ]
  },
  {
   "cell_type": "code",
   "execution_count": 21,
   "metadata": {},
   "outputs": [
    {
     "name": "stdout",
     "output_type": "stream",
     "text": [
      "11\n",
      "m\n"
     ]
    }
   ],
   "source": [
    "#시간초과\n",
    "import sys\n",
    "import copy\n",
    "\n",
    "#input=sys.stdin.readline\n",
    "N=int(input())\n",
    "mGap=[3,4,3]\n",
    "mLocate=[0]\n",
    "while (max(mGap)<=N+2):\n",
    "    temp=copy.deepcopy(mGap)\n",
    "    mGap.append(max(mGap)+1)\n",
    "    mGap=mGap+temp\n",
    "    \n",
    "for i in mGap:\n",
    "    mLocate.append(mLocate[-1]+i)\n",
    "\n",
    "if (N-1) not in mLocate:\n",
    "    print('o')\n",
    "else: print('m')"
   ]
  },
  {
   "cell_type": "code",
   "execution_count": 20,
   "metadata": {},
   "outputs": [
    {
     "name": "stdout",
     "output_type": "stream",
     "text": [
      "11\n",
      "m\n"
     ]
    }
   ],
   "source": [
    "#시간초과\n",
    "import sys\n",
    "import copy\n",
    "\n",
    "#input=sys.stdin.readline\n",
    "N=int(input())\n",
    "mGap=[3,4,3]\n",
    "mLocate=[0]\n",
    "while (max(mGap)<=N+2):\n",
    "    temp=copy.deepcopy(mGap)\n",
    "    mGap.append(max(mGap)+1)\n",
    "    mGap=mGap+temp\n",
    "    \n",
    "for i in mGap:\n",
    "    mLocate.append(mLocate[-1]+i)\n",
    "\n",
    "if (N-1) not in mLocate:\n",
    "    print('o')\n",
    "else: print('m')"
   ]
  },
  {
   "cell_type": "code",
   "execution_count": 22,
   "metadata": {},
   "outputs": [
    {
     "name": "stdout",
     "output_type": "stream",
     "text": [
      "11\n",
      "m\n"
     ]
    }
   ],
   "source": [
    "N=int(input())\n",
    "\n",
    "def moo(length, midLength, N):\n",
    "    preLength=(length-midLength)//2\n",
    "    if N<=preLength: return moo(preLength, midLength-1, N)\n",
    "    elif N>preLength+midLength: return moo(preLength, midLength-1, N-preLength-midLength)\n",
    "    else: \n",
    "        if N-preLength-1: return \"o\"\n",
    "        else: return \"m\"\n",
    "    \n",
    "length, midLength=3,0\n",
    "while N>length:\n",
    "    midLength+=1\n",
    "    length=length*2+midLength+3\n",
    "    \n",
    "print(moo(length,midLength+3,N))"
   ]
  },
  {
   "cell_type": "code",
   "execution_count": null,
   "metadata": {},
   "outputs": [],
   "source": []
  }
 ],
 "metadata": {
  "kernelspec": {
   "display_name": "Python 3",
   "language": "python",
   "name": "python3"
  },
  "language_info": {
   "codemirror_mode": {
    "name": "ipython",
    "version": 3
   },
   "file_extension": ".py",
   "mimetype": "text/x-python",
   "name": "python",
   "nbconvert_exporter": "python",
   "pygments_lexer": "ipython3",
   "version": "3.8.3"
  }
 },
 "nbformat": 4,
 "nbformat_minor": 4
}
