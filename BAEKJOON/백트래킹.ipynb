{
 "cells": [
  {
   "cell_type": "code",
   "execution_count": 15,
   "metadata": {},
   "outputs": [
    {
     "name": "stdout",
     "output_type": "stream",
     "text": [
      "4 2\n",
      "1 2 \n",
      "1 3 \n",
      "1 4 \n",
      "2 1 \n",
      "2 3 \n",
      "2 4 \n",
      "3 1 \n",
      "3 2 \n",
      "3 4 \n",
      "4 1 \n",
      "4 2 \n",
      "4 3 \n"
     ]
    }
   ],
   "source": [
    "#15649 N과 M (1)\n",
    "N, M = map(int,input().split())\n",
    "arr = [0] * 10\n",
    "isUsed = [False] * 10\n",
    "\n",
    "def printSeq (k):\n",
    "    if (k == M):\n",
    "        for i in range (M):\n",
    "            print(arr[i], end=' ')\n",
    "        print()\n",
    "        return\n",
    "    for i in range (1,N+1):\n",
    "        if (not isUsed[i]):\n",
    "            arr[k]=i\n",
    "            isUsed[i]=True\n",
    "            printSeq(k+1)\n",
    "            isUsed[i]=False\n",
    "\n",
    "printSeq(0)"
   ]
  },
  {
   "cell_type": "code",
   "execution_count": 2,
   "metadata": {},
   "outputs": [
    {
     "name": "stdout",
     "output_type": "stream",
     "text": [
      "4 2\n",
      "1 2 \n",
      "1 3 \n",
      "1 4 \n",
      "2 1 \n",
      "2 3 \n",
      "2 4 \n",
      "3 1 \n",
      "3 2 \n",
      "3 4 \n",
      "4 1 \n",
      "4 2 \n",
      "4 3 \n"
     ]
    }
   ],
   "source": [
    "#스터디 추가 - 내장함수 추가 (참고만 하자!)\n",
    "import itertools\n",
    "\n",
    "N, M = map(int, input().split())\n",
    "num_list = [i for i in range(1, N+1)]\n",
    "    \n",
    "for num in itertools.permutations(num_list, M):\n",
    "    for i in num:\n",
    "        print(i, end = ' ')\n",
    "    print(end = '\\n')"
   ]
  },
  {
   "cell_type": "code",
   "execution_count": 27,
   "metadata": {},
   "outputs": [
    {
     "name": "stdout",
     "output_type": "stream",
     "text": [
      "4 2\n",
      "1 2 \n",
      "1 3 \n",
      "1 4 \n",
      "2 3 \n",
      "2 4 \n",
      "3 4 \n"
     ]
    }
   ],
   "source": [
    "#15650 N과 M (2)\n",
    "N, M = map(int,input().split())\n",
    "arr = [0] * 10\n",
    "isUsed = [False] * 10\n",
    "\n",
    "def printSeq (k):\n",
    "    if (k == M):\n",
    "        for i in range (M):\n",
    "            if (arr[i]<arr[i-1]):\n",
    "                return\n",
    "        for i in range (M):\n",
    "            print(arr[i], end=' ')\n",
    "        print()\n",
    "        return\n",
    "    for i in range (1,N+1):\n",
    "        if (not isUsed[i]):\n",
    "            arr[k]=i\n",
    "            isUsed[i]=True\n",
    "            printSeq(k+1)\n",
    "            isUsed[i]=False\n",
    "\n",
    "printSeq(0)"
   ]
  },
  {
   "cell_type": "code",
   "execution_count": 1,
   "metadata": {},
   "outputs": [
    {
     "name": "stdout",
     "output_type": "stream",
     "text": [
      "4 2\n",
      "1 1 \n",
      "1 2 \n",
      "1 3 \n",
      "1 4 \n",
      "2 1 \n",
      "2 2 \n",
      "2 3 \n",
      "2 4 \n",
      "3 1 \n",
      "3 2 \n",
      "3 3 \n",
      "3 4 \n",
      "4 1 \n",
      "4 2 \n",
      "4 3 \n",
      "4 4 \n"
     ]
    }
   ],
   "source": [
    "#15650 N과 M (3)\n",
    "N, M = map(int,input().split())\n",
    "arr = [0] * 10\n",
    "isUsed = [False] * 10\n",
    "\n",
    "def printSeq (k):\n",
    "    if (k == M):\n",
    "        for i in range (M):\n",
    "            print(arr[i], end=' ')\n",
    "        print()\n",
    "        return\n",
    "    for i in range (1,N+1):\n",
    "        if (not isUsed[i]):\n",
    "            arr[k]=i\n",
    "            printSeq(k+1)\n",
    "            isUsed[i]=False\n",
    "\n",
    "printSeq(0)"
   ]
  },
  {
   "cell_type": "code",
   "execution_count": 4,
   "metadata": {},
   "outputs": [
    {
     "name": "stdout",
     "output_type": "stream",
     "text": [
      "4 2\n",
      "1 1 \n",
      "1 2 \n",
      "1 3 \n",
      "1 4 \n",
      "2 1 \n",
      "2 2 \n",
      "2 3 \n",
      "2 4 \n",
      "3 1 \n",
      "3 2 \n",
      "3 3 \n",
      "3 4 \n",
      "4 1 \n",
      "4 2 \n",
      "4 3 \n",
      "4 4 \n"
     ]
    }
   ],
   "source": [
    "#15650 N과 M (3)\n",
    "N, M = map(int,input().split())\n",
    "arr = [0] * 10\n",
    "\n",
    "def printSeq (k):\n",
    "    if (k == M):\n",
    "        for i in range (M):\n",
    "            print(arr[i], end=' ')\n",
    "        print()\n",
    "        return\n",
    "    for i in range (1,N+1):\n",
    "        arr[k]=i\n",
    "        printSeq(k+1)\n",
    "\n",
    "printSeq(0)"
   ]
  },
  {
   "cell_type": "code",
   "execution_count": 14,
   "metadata": {},
   "outputs": [
    {
     "name": "stdout",
     "output_type": "stream",
     "text": [
      "4 2\n",
      "1 1 \n",
      "1 2 \n",
      "1 3 \n",
      "1 4 \n",
      "2 2 \n",
      "2 3 \n",
      "2 4 \n",
      "3 3 \n",
      "3 4 \n",
      "4 4 \n"
     ]
    }
   ],
   "source": [
    "#15652 N과 M (4)\n",
    "#시간초과 발생 -> pypy로 제출해서 해결...\n",
    "N, M = map(int,input().split())\n",
    "arr = [0] * 10\n",
    "\n",
    "def printSeq (k):\n",
    "    if (k == M):\n",
    "        for i in range (M):\n",
    "            if (arr[i]<arr[i-1]):\n",
    "                return\n",
    "        for i in range (M):\n",
    "            print(arr[i], end=' ')\n",
    "        print()\n",
    "        return\n",
    "    for i in range (1,N+1):\n",
    "        arr[k]=i\n",
    "        printSeq(k+1)\n",
    "\n",
    "printSeq(0)"
   ]
  },
  {
   "cell_type": "code",
   "execution_count": null,
   "metadata": {},
   "outputs": [],
   "source": [
    "#9663번 N-Queen\n",
    "def isSafe(x):\n",
    "    for i in range(x):\n",
    "        if (row[x]==row[i] or abs(row[x]-row[i])==x-i):\n",
    "            return False\n",
    "    return True\n",
    "        \n",
    "        \n",
    "#한줄씩 재귀하며 DFS를 실행\n",
    "def dfs(x):\n",
    "    global result\n",
    "    if x == N:\n",
    "        result += 1\n",
    "    else:\n",
    "        for i in range(N):\n",
    "            row[x] = i\n",
    "            if isSafe(x):\n",
    "                dfs(x + 1)\n",
    "\n",
    "N = int(input())\n",
    "row = [0] * N\n",
    "result = 0\n",
    "dfs(0)\n",
    "print(result)"
   ]
  },
  {
   "cell_type": "code",
   "execution_count": null,
   "metadata": {},
   "outputs": [],
   "source": [
    "#2580 스도쿠\n",
    "sudoku = [list(map(int, input().split())) for _ in range(9)]\n",
    "#해결해야될 칸만 받음\n",
    "zeros = [(i, j) for i in range(9) for j in range(9) if sudoku[i][j] == 0]\n",
    "\n",
    "def is_promising(i, j):\n",
    "    promising = [1,2,3,4,5,6,7,8,9]  \n",
    "    \n",
    "    #행렬 검사\n",
    "    for k in range(9):\n",
    "        if sudoku[i][k] in promising:\n",
    "            promising.remove(sudoku[i][k])\n",
    "        if sudoku[k][j] in promising:\n",
    "            promising.remove(sudoku[k][j])\n",
    "            \n",
    "    #3*3 박스 검사\n",
    "    i//= 3\n",
    "    j//= 3\n",
    "    for p in range(i*3, (i+1)*3):\n",
    "        for q in range(j*3, (j+1)*3):\n",
    "            if sudoku[p][q] in promising:\n",
    "                promising.remove(sudoku[p][q])\n",
    "    \n",
    "    return promising\n",
    "\n",
    "flag = False #답이 출력되었는가?\n",
    "def dfs(x):\n",
    "    global flag\n",
    "    \n",
    "    if flag: #이미 답이 출력된 경우\n",
    "        return\n",
    "        \n",
    "    if x == len(zeros): #마지막 0까지 다 채웠을 경우\n",
    "        for row in sudoku:\n",
    "            print(*row)\n",
    "        flag = True #답 출력\n",
    "        return\n",
    "        \n",
    "    else:    \n",
    "        (i, j) = zeros[x]\n",
    "        promising = is_promising(i, j) #유망한 숫자들을 받음\n",
    "        \n",
    "        for num in promising:\n",
    "            sudoku[i][j] = num #유망한 숫자 중 하나를 넣어줌\n",
    "            dfs(x + 1) #다음 0으로 넘어감\n",
    "            sudoku[i][j] = 0 #초기화 (정답이 없을 경우를 대비)\n",
    "dfs(0)"
   ]
  }
 ],
 "metadata": {
  "kernelspec": {
   "display_name": "Python 3",
   "language": "python",
   "name": "python3"
  },
  "language_info": {
   "codemirror_mode": {
    "name": "ipython",
    "version": 3
   },
   "file_extension": ".py",
   "mimetype": "text/x-python",
   "name": "python",
   "nbconvert_exporter": "python",
   "pygments_lexer": "ipython3",
   "version": "3.8.3"
  }
 },
 "nbformat": 4,
 "nbformat_minor": 4
}
