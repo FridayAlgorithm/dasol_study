{
 "cells": [
  {
   "cell_type": "markdown",
   "metadata": {},
   "source": [
    "# 가장 큰 수\n",
    "\n",
    "[가장 큰 수](https://programmers.co.kr/learn/courses/30/lessons/42746)\n",
    "\n",
    "- 0또는 양의 정수가 주어질 때 정수를 이어 붙여 만들 수 있는 가장 큰수를 알아내라\n",
    "- [6, 10, 2] => [6102,6210,1062,1026,2610,2106] => 6210\n",
    "- 정수 배열이 주어질 때 순서를 재배치하여 만들 수 있는 가장 큰 문자열을 반환하라\n",
    "\n"
   ]
  },
  {
   "cell_type": "code",
   "execution_count": 11,
   "metadata": {},
   "outputs": [
    {
     "name": "stdout",
     "output_type": "stream",
     "text": [
      "[[6, 0], [10, 0], [2, 0]]\n",
      "None\n",
      "[[3, 0], [30, 0], [34, 0], [5, 0], [9, 0]]\n",
      "None\n"
     ]
    }
   ],
   "source": [
    "def solution(numbers):\n",
    "    number=[[i,0] for i in numbers]\n",
    "    for i in range(len(number)):\n",
    "        \n",
    "    print(number)\n",
    "\n",
    "print(solution([6,10,2]))\n",
    "print(solution([3,30,34,5,9]))"
   ]
  },
  {
   "cell_type": "code",
   "execution_count": 2,
   "metadata": {},
   "outputs": [
    {
     "name": "stdout",
     "output_type": "stream",
     "text": [
      "가능\n"
     ]
    }
   ],
   "source": [
    "a='76'\n",
    "b='123'\n",
    "if (a[0]>b[0]):\n",
    "    print(\"가능\")"
   ]
  },
  {
   "cell_type": "code",
   "execution_count": 6,
   "metadata": {},
   "outputs": [
    {
     "name": "stdout",
     "output_type": "stream",
     "text": [
      "[34, 30, 9, 5, 3]\n"
     ]
    }
   ],
   "source": [
    "arr=[3,30,34,5,9]\n",
    "arr.sort(reverse=True)\n",
    "print(arr)"
   ]
  },
  {
   "cell_type": "code",
   "execution_count": null,
   "metadata": {},
   "outputs": [],
   "source": []
  }
 ],
 "metadata": {
  "kernelspec": {
   "display_name": "Python 3",
   "language": "python",
   "name": "python3"
  },
  "language_info": {
   "codemirror_mode": {
    "name": "ipython",
    "version": 3
   },
   "file_extension": ".py",
   "mimetype": "text/x-python",
   "name": "python",
   "nbconvert_exporter": "python",
   "pygments_lexer": "ipython3",
   "version": "3.8.3"
  }
 },
 "nbformat": 4,
 "nbformat_minor": 4
}
