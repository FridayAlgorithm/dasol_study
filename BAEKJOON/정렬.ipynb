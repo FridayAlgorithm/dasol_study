{
 "cells": [
  {
   "cell_type": "code",
   "execution_count": 5,
   "metadata": {},
   "outputs": [
    {
     "name": "stdout",
     "output_type": "stream",
     "text": [
      "5\n",
      "5\n",
      "2\n",
      "3\n",
      "4\n",
      "1\n",
      "1\n",
      "2\n",
      "3\n",
      "4\n",
      "5\n"
     ]
    }
   ],
   "source": [
    "#2750 수 정렬하기\n",
    "n=int(input())\n",
    "inputArr=[]\n",
    "for i in range (n):\n",
    "    a = int(input())\n",
    "    inputArr.append(a)\n",
    "inputArr.sort()\n",
    "for i in range (n):\n",
    "    print(inputArr[i])"
   ]
  },
  {
   "cell_type": "code",
   "execution_count": null,
   "metadata": {},
   "outputs": [],
   "source": [
    "#2751 수 정렬하기 2\n",
    "#시간초과 발생 >> pypy3 \n",
    "n=int(input())\n",
    "inputArr=[]\n",
    "for i in range (n):\n",
    "    a = int(input())\n",
    "    inputArr.append(a)\n",
    "inputArr.sort()\n",
    "for i in range (n):\n",
    "    print(inputArr[i])"
   ]
  }
 ],
 "metadata": {
  "kernelspec": {
   "display_name": "Python 3",
   "language": "python",
   "name": "python3"
  },
  "language_info": {
   "codemirror_mode": {
    "name": "ipython",
    "version": 3
   },
   "file_extension": ".py",
   "mimetype": "text/x-python",
   "name": "python",
   "nbconvert_exporter": "python",
   "pygments_lexer": "ipython3",
   "version": "3.7.9"
  }
 },
 "nbformat": 4,
 "nbformat_minor": 4
}
