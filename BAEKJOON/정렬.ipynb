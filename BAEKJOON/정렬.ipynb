{
 "cells": [
  {
   "cell_type": "code",
   "execution_count": 5,
   "metadata": {},
   "outputs": [
    {
     "name": "stdout",
     "output_type": "stream",
     "text": [
      "5\n",
      "5\n",
      "2\n",
      "3\n",
      "4\n",
      "1\n",
      "1\n",
      "2\n",
      "3\n",
      "4\n",
      "5\n"
     ]
    }
   ],
   "source": [
    "#2750 수 정렬하기\n",
    "n=int(input())\n",
    "inputArr=[]\n",
    "for i in range (n):\n",
    "    a = int(input())\n",
    "    inputArr.append(a)\n",
    "inputArr.sort()\n",
    "for i in range (n):\n",
    "    print(inputArr[i])"
   ]
  },
  {
   "cell_type": "code",
   "execution_count": null,
   "metadata": {},
   "outputs": [],
   "source": [
    "#2751 수 정렬하기 2\n",
    "#시간초과 발생 >> pypy3 \n",
    "n=int(input())\n",
    "inputArr=[]\n",
    "for i in range (n):\n",
    "    a = int(input())\n",
    "    inputArr.append(a)\n",
    "inputArr.sort()\n",
    "for i in range (n):\n",
    "    print(inputArr[i])"
   ]
  },
  {
   "cell_type": "code",
   "execution_count": 1,
   "metadata": {},
   "outputs": [
    {
     "name": "stdout",
     "output_type": "stream",
     "text": [
      "5\n",
      "5\n",
      "4\n",
      "3\n",
      "2\n",
      "1\n",
      "1\n",
      "2\n",
      "3\n",
      "4\n",
      "5\n"
     ]
    }
   ],
   "source": [
    "#2750 스터디 -> 버블정렬\n",
    "N = int(input())\n",
    "num = []\n",
    "for i in range(N):\n",
    "    num.append(int(input()))\n",
    "    \n",
    "for i in range(N-1):\n",
    "    for j in range(N-i-1):\n",
    "        if (num[j] > num[j+1]):\n",
    "            num[j], num[j+1]=num[j+1],num[j]\n",
    "            \n",
    "for _ in num:\n",
    "    print(_)"
   ]
  },
  {
   "cell_type": "code",
   "execution_count": null,
   "metadata": {},
   "outputs": [],
   "source": []
  }
 ],
 "metadata": {
  "kernelspec": {
   "display_name": "Python 3",
   "language": "python",
   "name": "python3"
  },
  "language_info": {
   "codemirror_mode": {
    "name": "ipython",
    "version": 3
   },
   "file_extension": ".py",
   "mimetype": "text/x-python",
   "name": "python",
   "nbconvert_exporter": "python",
   "pygments_lexer": "ipython3",
   "version": "3.8.3"
  }
 },
 "nbformat": 4,
 "nbformat_minor": 4
}
