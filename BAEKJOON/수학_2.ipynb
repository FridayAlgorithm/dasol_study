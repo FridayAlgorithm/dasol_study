{
 "cells": [
  {
   "cell_type": "code",
   "execution_count": 25,
   "metadata": {},
   "outputs": [
    {
     "name": "stdout",
     "output_type": "stream",
     "text": [
      "4\n",
      "2 4 6 8\n",
      "1\n"
     ]
    }
   ],
   "source": [
    "#1978 소수 찾기\n",
    "import math\n",
    "def isPrime(num):\n",
    "    maxNum=int(math.sqrt(num))\n",
    "    if (num<2):\n",
    "        return False\n",
    "    for i in range(2,maxNum+1):\n",
    "        if(num%i==0):\n",
    "            return False\n",
    "    return True\n",
    "    \n",
    "num=int(input())\n",
    "inputArr=list(map(int,input().split()))\n",
    "inputArr.sort()\n",
    "primeNum=0\n",
    "for i in range(num):\n",
    "    if (isPrime(inputArr[i])==True):\n",
    "        primeNum+=1\n",
    "    \n",
    "print(primeNum)"
   ]
  },
  {
   "cell_type": "code",
   "execution_count": 31,
   "metadata": {},
   "outputs": [
    {
     "name": "stdout",
     "output_type": "stream",
     "text": [
      "64\n",
      "65\n",
      "-1\n"
     ]
    }
   ],
   "source": [
    "#2581 소수\n",
    "import math\n",
    "def isPrime(num):\n",
    "    maxNum=int(math.sqrt(num))\n",
    "    if (num<2):\n",
    "        return False\n",
    "    for i in range(2,maxNum+1):\n",
    "        if(num%i==0):\n",
    "            return False\n",
    "    return True\n",
    "\n",
    "primeArr=[]\n",
    "M=int(input())\n",
    "N=int(input())\n",
    "for i in range(M,N+1):\n",
    "    if (isPrime(i)==True):\n",
    "        primeArr.append(i)\n",
    "        \n",
    "if (len(primeArr)==0):\n",
    "    print(-1)\n",
    "else:\n",
    "    print(sum(primeArr))\n",
    "    print(min(primeArr))"
   ]
  },
  {
   "cell_type": "code",
   "execution_count": null,
   "metadata": {},
   "outputs": [],
   "source": []
  }
 ],
 "metadata": {
  "kernelspec": {
   "display_name": "Python 3",
   "language": "python",
   "name": "python3"
  },
  "language_info": {
   "codemirror_mode": {
    "name": "ipython",
    "version": 3
   },
   "file_extension": ".py",
   "mimetype": "text/x-python",
   "name": "python",
   "nbconvert_exporter": "python",
   "pygments_lexer": "ipython3",
   "version": "3.8.3"
  }
 },
 "nbformat": 4,
 "nbformat_minor": 4
}
