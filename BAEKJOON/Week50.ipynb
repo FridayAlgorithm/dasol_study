{
 "cells": [
  {
   "cell_type": "markdown",
   "metadata": {},
   "source": [
    "# 50주차\n",
    "\n",
    "[50주차 문제집](https://www.acmicpc.net/group/workbook/view/10320/40089)\n",
    "\n",
    "* [2302 극장좌석](https://www.acmicpc.net/problem/2302)\n",
    "* [2947 나무 조각](https://www.acmicpc.net/problem/2947)\n",
    "* [3079 입국심사](https://www.acmicpc.net/problem/3079)\n",
    "* [2812 크게 만들기](https://www.acmicpc.net/problem/2812)\n",
    "* [1389 케빈 베이컨의 6단계 법칙](https://www.acmicpc.net/problem/1389)"
   ]
  },
  {
   "cell_type": "markdown",
   "metadata": {},
   "source": [
    "## 2302 극장 좌석\n",
    "\n",
    "**문제로 이동** : [Baekjoon 극장 좌석](https://www.acmicpc.net/problem/2302)\n",
    "\n",
    "- 극장 입장권에 쓰여진 숫자의 왼쪽 또는 오른쪽 좌석으로 자리를 옮길 수 있다\n",
    "- VIP회원들은 반드시 자기 좌석에만 앉아야한다\n",
    "- VIP회원 좌석번호가 주어졌을 때 좌석에 앉는 서로 다른 방법의 가짓수를 구하라"
   ]
  },
  {
   "cell_type": "code",
   "execution_count": 16,
   "metadata": {},
   "outputs": [
    {
     "name": "stdout",
     "output_type": "stream",
     "text": [
      "9\n",
      "2\n",
      "4\n",
      "7\n",
      "12\n"
     ]
    }
   ],
   "source": [
    "import sys\n",
    "\n",
    "# input = sys.stdin.readline\n",
    "N=int(input())\n",
    "M=int(input())\n",
    "fixSeat=[int(input()) for _ in range(M)]\n",
    "dp=[0]*(N+1)\n",
    "dp[1],dp[2]=1,2\n",
    "for i in range(3, N+1):\n",
    "    dp[i]=dp[i-1]+dp[i-2]\n",
    "temp=[]\n",
    "compare=0\n",
    "for i in fixSeat:\n",
    "    temp.append(i-compare-1)\n",
    "    compare=i\n",
    "temp.append(N-compare)\n",
    "res=1\n",
    "for i in temp:\n",
    "    res*=dp[i]\n",
    "print(res)"
   ]
  },
  {
   "cell_type": "code",
   "execution_count": 17,
   "metadata": {},
   "outputs": [
    {
     "name": "stdout",
     "output_type": "stream",
     "text": [
      "9\n",
      "2\n",
      "4\n",
      "7\n",
      "12\n"
     ]
    }
   ],
   "source": [
    "import sys\n",
    "\n",
    "# input = sys.stdin.readline\n",
    "N=int(input())\n",
    "M=int(input())\n",
    "fixSeat=[int(input()) for _ in range(M)]\n",
    "dp=[1,1,2]\n",
    "for i in range(3, N+1):\n",
    "    dp.append(dp[i-1]+dp[i-2])\n",
    "temp=[]\n",
    "res=1\n",
    "if M>=1:\n",
    "    compare=0\n",
    "    for i in fixSeat:\n",
    "        temp.append(i-compare-1)\n",
    "        compare=i\n",
    "    temp.append(N-compare)\n",
    "    for i in temp:\n",
    "        res*=dp[i]\n",
    "else:\n",
    "    res=dp[N]\n",
    "print(res)"
   ]
  },
  {
   "cell_type": "markdown",
   "metadata": {},
   "source": [
    "## 2947 나무 조각\n",
    "\n",
    "**문제로 이동** : [Baekjoon 나무 조각](https://www.acmicpc.net/problem/2947)\n",
    "\n",
    "- 나무 조각 5개 각각에 1~5까지의 숫자가 쓰여져있다\n",
    "- 다음 과정을 통해 1,2,3,4,5 순서로 만들고자 한다\n",
    "  * 첫번째수가 두번째수보다 크다면 둘의 위치를 바꾼다\n",
    "  * 두번째수가 세번째수보다 크다면 둘의 위치를 바꾼다\n",
    "  * 세번째수가 네번째수보다 크다면 둘의 위치를 바꾼다\n",
    "  * 네번째수가 다섯번쨰수보다 크면 둘의 위치를 바꾼다\n",
    "  * 순서가 1,2,3,4,5가 아니라면 1부터 다시 진행한다\n",
    "- 처음 조각의 순서가 주어질 때 위치를 바꿀때마다 조각의 순서를 출력하라"
   ]
  },
  {
   "cell_type": "code",
   "execution_count": 5,
   "metadata": {},
   "outputs": [
    {
     "name": "stdout",
     "output_type": "stream",
     "text": [
      "2 3 4 5 1\n",
      "2 3 4 1 5\n",
      "2 3 1 4 5\n",
      "2 1 3 4 5\n",
      "1 2 3 4 5\n"
     ]
    }
   ],
   "source": [
    "endCondition=[1,2,3,4,5]\n",
    "start=list(map(int,input().split()))\n",
    "while (endCondition!=start):\n",
    "    if start[0]>start[1]:\n",
    "        start[0],start[1]=start[1],start[0]\n",
    "        print(*start)\n",
    "    if start[1]>start[2]:\n",
    "        start[1],start[2]=start[2],start[1]\n",
    "        print(*start)\n",
    "    if start[2]>start[3]:\n",
    "        start[2],start[3]=start[3],start[2]\n",
    "        print(*start)\n",
    "    if start[3]>start[4]:\n",
    "        start[3],start[4]=start[4],start[3]\n",
    "        print(*start)"
   ]
  },
  {
   "cell_type": "markdown",
   "metadata": {},
   "source": [
    "## 3079 입국심사\n",
    "\n",
    "**문제로 이동** : [Baekjoon 입국심사](https://www.acmicpc.net/problem/3079)\n",
    "\n",
    "- 상근이와 친구 M명이 입국심사를 기다린다\n",
    "- N개의 입국심사대에서 걸리는 시간은 모두 다르다\n",
    "- 한 심사대에서는 한 번에 한 사람만 심사받을 수 있다\n",
    "- 상근이와 친구들이 심사를 받는데 걸리는 시간의 최솟값을 구하는 프로그램을 작성하라"
   ]
  },
  {
   "cell_type": "code",
   "execution_count": 24,
   "metadata": {},
   "outputs": [
    {
     "name": "stdout",
     "output_type": "stream",
     "text": [
      "2 6\n",
      "7\n",
      "10\n",
      "[7, 10, 14, 20, 21, 28, 30, 40]\n",
      "28\n"
     ]
    }
   ],
   "source": [
    "import sys\n",
    "\n",
    "# input = sys.stdin.readline\n",
    "N,M=map(int,input().split())\n",
    "time=[int(input()) for _ in range(N)]\n",
    "add=M//N\n",
    "temp=[]\n",
    "for i in range(add):\n",
    "    for j in time:\n",
    "        addTime=j*(i+2)\n",
    "        temp.append(addTime)\n",
    "time=time+temp\n",
    "time.sort()\n",
    "print(time[M-1])"
   ]
  },
  {
   "cell_type": "code",
   "execution_count": 27,
   "metadata": {},
   "outputs": [
    {
     "name": "stdout",
     "output_type": "stream",
     "text": [
      "2 6\n",
      "7\n",
      "10\n",
      "28\n"
     ]
    }
   ],
   "source": [
    "import sys\n",
    "\n",
    "# input = sys.stdin.readline\n",
    "\n",
    "N,M=map(int,input().split())\n",
    "time=[int(input()) for _ in range(N)]\n",
    "\n",
    "left=min(time)\n",
    "right=M*min(time)\n",
    "res=0\n",
    "while left<=right:\n",
    "    mid=(left+right)//2\n",
    "    finPeople=0\n",
    "    for i in time:\n",
    "        finPeople+=mid//i\n",
    "    if finPeople<M:\n",
    "        left=mid+1\n",
    "    else:\n",
    "        right=mid-1\n",
    "        res=mid\n",
    "print(res)"
   ]
  },
  {
   "cell_type": "markdown",
   "metadata": {},
   "source": [
    "## 2812 크게 만들기\n",
    "\n",
    "**문제로 이동** : [Baekjoon 크게 만들기](https://www.acmicpc.net/problem/2812)\n",
    "\n",
    "- N자리 숫자가 주어졌을 때 숫자 K개를 지워 얻을 수 있는 가장 큰 수를 구하는 프로그램을 작성하시오"
   ]
  },
  {
   "cell_type": "code",
   "execution_count": 14,
   "metadata": {},
   "outputs": [
    {
     "name": "stdout",
     "output_type": "stream",
     "text": [
      "10 4\n",
      "4177252841\n",
      "775841\n"
     ]
    }
   ],
   "source": [
    "N,K=map(int,input().split())\n",
    "number=list(map(int,input().strip()))\n",
    "stack=[]\n",
    "remove=0\n",
    "for n in number:\n",
    "    if stack:\n",
    "        while(stack and n>stack[-1] and remove<K):\n",
    "            stack.pop()\n",
    "            remove+=1\n",
    "        stack.append(n)\n",
    "    else:\n",
    "        stack.append(n)\n",
    "print(*stack, sep='')"
   ]
  },
  {
   "cell_type": "code",
   "execution_count": 15,
   "metadata": {},
   "outputs": [
    {
     "name": "stdout",
     "output_type": "stream",
     "text": [
      "10 4\n",
      "4177252841\n",
      "775841\n"
     ]
    }
   ],
   "source": [
    "N,K=map(int,input().split())\n",
    "number=list(map(int,input().strip()))\n",
    "stack=[]\n",
    "remove=0\n",
    "for n in number:\n",
    "    if stack:\n",
    "        while(stack and n>stack[-1] and remove<K):\n",
    "            stack.pop()\n",
    "            remove+=1\n",
    "        stack.append(n)\n",
    "    else:\n",
    "        stack.append(n)\n",
    "while (remove<K):\n",
    "    stack.remove(min(stack)) #뒤에 작은 수가 남을것\n",
    "    remove+=1\n",
    "print(*stack, sep='')"
   ]
  },
  {
   "cell_type": "markdown",
   "metadata": {},
   "source": [
    "## 1389 케빈 베이컨의 6단계 법칙\n",
    "\n",
    "**문제로 이동** : [Baekjoon 케빈 베이컨의 6단계 법칙](https://www.acmicpc.net/problem/1389)\n",
    "\n",
    "- 모든 사람들은 최대 6단계 이내에 아는 사람으로 연결될 수 있다\n",
    "- 유저 중 케빈 베이컨의 수가 가장 작은 사람을 찾으려고 한다\n",
    "- 유저의 수와 친구 관계가 주어질 때 케빈 베이컨의 수가 가장 작은 사람을 구하라"
   ]
  },
  {
   "cell_type": "code",
   "execution_count": 18,
   "metadata": {},
   "outputs": [
    {
     "name": "stdout",
     "output_type": "stream",
     "text": [
      "5 5\n",
      "1 3\n",
      "1 4\n",
      "4 5\n",
      "4 3\n",
      "3 2\n",
      "3\n"
     ]
    }
   ],
   "source": [
    "import sys\n",
    "from collections import deque\n",
    "\n",
    "# input = sys.stdin.readline\n",
    "n, m=map(int,input().split())\n",
    "\n",
    "def bfs(graph, start):\n",
    "    num=[0]*(n+1)\n",
    "    visit=[start]\n",
    "    queue=deque()\n",
    "    queue.append(start)\n",
    "    \n",
    "    while queue:\n",
    "        a=queue.popleft()\n",
    "        for i in graph[a]:\n",
    "            if i not in visit:\n",
    "                num[i]=num[a]+1\n",
    "                visit.append(i)\n",
    "                queue.append(i)\n",
    "    return sum(num)\n",
    "\n",
    "graph=[[] for _ in range(n+1)]\n",
    "for i in range(m):\n",
    "    a, b=map(int,input().split())\n",
    "    graph[a].append(b)\n",
    "    graph[b].append(a)\n",
    "    \n",
    "    kevin=[]\n",
    "    for i in range(1, n+1):\n",
    "        kevin.append(bfs(graph, i))\n",
    "print(kevin.index(min(kevin))+1)"
   ]
  },
  {
   "cell_type": "code",
   "execution_count": null,
   "metadata": {},
   "outputs": [],
   "source": []
  }
 ],
 "metadata": {
  "kernelspec": {
   "display_name": "Python 3",
   "language": "python",
   "name": "python3"
  },
  "language_info": {
   "codemirror_mode": {
    "name": "ipython",
    "version": 3
   },
   "file_extension": ".py",
   "mimetype": "text/x-python",
   "name": "python",
   "nbconvert_exporter": "python",
   "pygments_lexer": "ipython3",
   "version": "3.8.3"
  }
 },
 "nbformat": 4,
 "nbformat_minor": 4
}
