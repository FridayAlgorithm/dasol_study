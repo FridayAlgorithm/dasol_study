{
 "cells": [
  {
   "cell_type": "markdown",
   "metadata": {},
   "source": [
    "# 10주차 \n",
    "\n",
    "[10주차 문제집](https://www.acmicpc.net/group/workbook/view/10320/30940)\n",
    "\n",
    "* [14889 스타트와 링크](https://www.acmicpc.net/problem/14889)\n",
    "* [11651 좌표 정렬하기 2](https://www.acmicpc.net/problem/11651)\n",
    "* [6603 로또](https://www.acmicpc.net/problem/6603)\n",
    "* [1158 요세푸스 문제](https://www.acmicpc.net/problem/1158)\n",
    "* [9095 1,2,3 더하기](https://www.acmicpc.net/problem/9095)\n",
    "* [5430 AC](https://www.acmicpc.net/problem/5430)\n",
    "* [1182 부분수열의 합](https://www.acmicpc.net/problem/1182)\n",
    "* [1929 소수 구하기](https://www.acmicpc.net/problem/1929)\n",
    "* [10867 중복 빼고 정렬하기](https://www.acmicpc.net/problem/10867)\n",
    "* [15686 치킨 배달](https://www.acmicpc.net/problem/15686)\n"
   ]
  },
  {
   "cell_type": "markdown",
   "metadata": {},
   "source": [
    "## 14889 스타트와 링크\n",
    "\n",
    "**문제로 이동** : [Baekjoon 스타트와 링크](https://www.acmicpc.net/problem/14889)\n"
   ]
  },
  {
   "cell_type": "code",
   "execution_count": null,
   "metadata": {},
   "outputs": [],
   "source": [
    "import sys\n",
    "\n",
    "input = sys.stdin.readline()\n",
    "def dfs(idx, cnt):\n",
    "    global ans\n",
    "    if cnt == n // 2:\n",
    "        start, link = 0, 0\n",
    "        for i in range(n):\n",
    "            for j in range(n):\n",
    "                if select[i] and select[j]:\n",
    "                    start += a[i][j]\n",
    "                elif not select[i] and not select[j]:\n",
    "                    link += a[i][j]\n",
    "        ans = min(ans, abs(start - link))\n",
    "\n",
    "    for i in range(idx, n):\n",
    "        if select[i]:\n",
    "            continue\n",
    "        select[i] = 1\n",
    "        dfs(i + 1, cnt + 1)\n",
    "        select[i] = 0\n",
    "\n",
    "n = int(input())\n",
    "a = [list(map(int, input().split())) for _ in range(n)]\n",
    "\n",
    "select = [0 for _ in range(n)]\n",
    "ans = sys.maxsize\n",
    "dfs(0, 0)\n",
    "print(ans)"
   ]
  },
  {
   "cell_type": "markdown",
   "metadata": {},
   "source": [
    "## 11651 좌표 정렬하기 2\n",
    "\n",
    "**문제로 이동** : [Baekjoon 좌표 정렬하기 2](https://www.acmicpc.net/problem/11651)\n"
   ]
  },
  {
   "cell_type": "code",
   "execution_count": 6,
   "metadata": {},
   "outputs": [
    {
     "name": "stdout",
     "output_type": "stream",
     "text": [
      "5\n",
      "0 4\n",
      "1 2\n",
      "1 -1\n",
      "2 2\n",
      "3 3\n",
      "1 -1\n",
      "1 2\n",
      "2 2\n",
      "3 3\n",
      "0 4\n"
     ]
    }
   ],
   "source": [
    "N=int(input())\n",
    "xyLoc=[list(map(int,input().split())) for _ in range (N)]\n",
    "res=sorted(xyLoc, key=lambda x:(x[1], x[0]))\n",
    "for i in res:\n",
    "    print(i[0], i[1])"
   ]
  },
  {
   "cell_type": "markdown",
   "metadata": {},
   "source": [
    "## 6603 로또\n",
    "\n",
    "**문제로 이동** : [Baekjoon 로또](https://www.acmicpc.net/problem/6603)\n"
   ]
  },
  {
   "cell_type": "code",
   "execution_count": 1,
   "metadata": {
    "scrolled": true
   },
   "outputs": [
    {
     "name": "stdout",
     "output_type": "stream",
     "text": [
      "7 1 2 3 4 5 6 7\n",
      "1 2 3 4 5 6 \n",
      "1 2 3 4 5 7 \n",
      "1 2 3 4 6 7 \n",
      "1 2 3 5 6 7 \n",
      "1 2 4 5 6 7 \n",
      "1 3 4 5 6 7 \n",
      "2 3 4 5 6 7 \n",
      "\n",
      "8 1 2 3 5 8 13 21 34\n",
      "1 2 3 5 8 13 \n",
      "1 2 3 5 8 21 \n",
      "1 2 3 5 8 34 \n",
      "1 2 3 5 13 21 \n",
      "1 2 3 5 13 34 \n",
      "1 2 3 5 21 34 \n",
      "1 2 3 8 13 21 \n",
      "1 2 3 8 13 34 \n",
      "1 2 3 8 21 34 \n",
      "1 2 3 13 21 34 \n",
      "1 2 5 8 13 21 \n",
      "1 2 5 8 13 34 \n",
      "1 2 5 8 21 34 \n",
      "1 2 5 13 21 34 \n",
      "1 2 8 13 21 34 \n",
      "1 3 5 8 13 21 \n",
      "1 3 5 8 13 34 \n",
      "1 3 5 8 21 34 \n",
      "1 3 5 13 21 34 \n",
      "1 3 8 13 21 34 \n",
      "1 5 8 13 21 34 \n",
      "2 3 5 8 13 21 \n",
      "2 3 5 8 13 34 \n",
      "2 3 5 8 21 34 \n",
      "2 3 5 13 21 34 \n",
      "2 3 8 13 21 34 \n",
      "2 5 8 13 21 34 \n",
      "3 5 8 13 21 34 \n",
      "\n",
      "0\n"
     ]
    }
   ],
   "source": [
    "def dfs(start, depth):\n",
    "    if depth == 6:\n",
    "        for i in range(6):\n",
    "            print(lotto[i], end=' ')\n",
    "        print()\n",
    "        return\n",
    "    for i in range(start, len(s)):\n",
    "        lotto[depth] = s[i]\n",
    "        dfs(i + 1, depth + 1)\n",
    "lotto = [0 for i in range(13)]\n",
    "while True:\n",
    "    s = list(map(int, input().split()))\n",
    "    if s[0] == 0:\n",
    "        break\n",
    "    del s[0]\n",
    "    dfs(0, 0)\n",
    "    print()"
   ]
  },
  {
   "cell_type": "markdown",
   "metadata": {},
   "source": [
    "## 1158 요세푸스 문제\n",
    "\n",
    "**문제로 이동** : [Baekjoon 요세푸스](https://www.acmicpc.net/problem/1158)\n"
   ]
  },
  {
   "cell_type": "code",
   "execution_count": 85,
   "metadata": {},
   "outputs": [
    {
     "name": "stdout",
     "output_type": "stream",
     "text": [
      "7 3\n",
      "<3, 6, 2, 7, 5, 1, 4>"
     ]
    }
   ],
   "source": [
    "from collections import deque\n",
    "\n",
    "N,K=map(int,input().split())\n",
    "queue=deque()\n",
    "for i in range(1,N+1):\n",
    "    queue.append(i)\n",
    "\n",
    "print('<',end='')\n",
    "while(queue):\n",
    "    for i in range(K-1):\n",
    "        queue.append(queue.popleft())\n",
    "    if(len(queue)==1):\n",
    "        print(queue.popleft(),end='')\n",
    "    else:\n",
    "        print(queue.popleft(),\", \",sep='',end='')\n",
    "\n",
    "print('>',end='')"
   ]
  },
  {
   "cell_type": "markdown",
   "metadata": {},
   "source": [
    "## 9095 1,2,3 더하기\n",
    "\n",
    "**문제로 이동** : [Baekjoon 1,2,3 더하기](https://www.acmicpc.net/problem/9095)\n"
   ]
  },
  {
   "cell_type": "code",
   "execution_count": 87,
   "metadata": {},
   "outputs": [
    {
     "name": "stdout",
     "output_type": "stream",
     "text": [
      "3\n",
      "4\n",
      "7\n",
      "7\n",
      "44\n",
      "10\n",
      "274\n"
     ]
    }
   ],
   "source": [
    "import sys\n",
    "T=int(input())\n",
    "memo=[0 for _ in range(11)]\n",
    "memo[1]=1; memo[2]=2; memo[3]=4\n",
    "for i in range(4,11):\n",
    "    memo[i]=memo[i-3]+memo[i-2]+memo[i-1]\n",
    "for i in range(T):\n",
    "    testCase=int(input())\n",
    "    print(memo[testCase])"
   ]
  },
  {
   "cell_type": "markdown",
   "metadata": {},
   "source": [
    "## 5430 AC\n",
    "\n",
    "**문제로 이동** : [Baekjoon AC](https://www.acmicpc.net/problem/5430)\n",
    "\n",
    "시간초과 => ??"
   ]
  },
  {
   "cell_type": "code",
   "execution_count": 83,
   "metadata": {},
   "outputs": [
    {
     "name": "stdout",
     "output_type": "stream",
     "text": [
      "4\n",
      "RDD\n",
      "4\n",
      "[1,2,3,4]\n",
      "[2, 1]\n",
      "DD\n",
      "1\n",
      "[42]\n",
      "error\n",
      "RRD\n",
      "6\n",
      "[1,1,2,3,5,8]\n",
      "[1, 2, 3, 5, 8]\n",
      "D\n",
      "0\n",
      "[]\n",
      "error\n"
     ]
    }
   ],
   "source": [
    "import sys\n",
    "T=int(input())\n",
    "for _ in range(T):\n",
    "    isEnd=False\n",
    "    testCase=[]\n",
    "#     command=list(sys.stdin.readline())\n",
    "#     n=int(sys.stdin.readline())\n",
    "#     temp=sys.stdin.readline().lstrip('[').rstrip(']\\n')\n",
    "    command=list(input())\n",
    "    n=int(input())\n",
    "    temp=input().lstrip('[').rstrip(']')\n",
    "    if (temp):\n",
    "        testCase=list(map(int,temp.split(',')))\n",
    "    for i in command:\n",
    "        if (i=='R'):\n",
    "            testCase.reverse()\n",
    "        elif (i=='D'):\n",
    "            if (testCase):\n",
    "                del(testCase[0])\n",
    "            else:\n",
    "                print('error')\n",
    "                isEnd=True\n",
    "                break\n",
    "    if(not isEnd):\n",
    "        print(testCase)"
   ]
  },
  {
   "cell_type": "markdown",
   "metadata": {},
   "source": [
    "## 1182 부분수열의 합\n",
    "\n",
    "**문제로 이동** : [Baekjoon 부분수열의 합](https://www.acmicpc.net/problem/1182)\n"
   ]
  },
  {
   "cell_type": "code",
   "execution_count": 8,
   "metadata": {},
   "outputs": [
    {
     "name": "stdout",
     "output_type": "stream",
     "text": [
      "5 0\n",
      "-7 -3 -2 5 8\n",
      "0\n"
     ]
    }
   ],
   "source": [
    "def dfs(idx, tot):\n",
    "    global res\n",
    "    if(idx >= N):\n",
    "        if(S==tot):\n",
    "            res+=1\n",
    "            return        \n",
    "    else:\n",
    "        dfs(idx+1, tot+inputArr[idx])\n",
    "        dfs(idx+1, tot)\n",
    "\n",
    "N, S = map(int, input().split())\n",
    "inputArr = list(map(int, input().split()))\n",
    "res = 0\n",
    "dfs(0,0)\n",
    "if (not S): res-=1\n",
    "print(res)"
   ]
  },
  {
   "cell_type": "markdown",
   "metadata": {},
   "source": [
    "## 1929 소수 구하기\n",
    "\n",
    "**문제로 이동** : [Baekjoon 소수 구하기](https://www.acmicpc.net/problem/1929)\n"
   ]
  },
  {
   "cell_type": "code",
   "execution_count": 16,
   "metadata": {},
   "outputs": [
    {
     "name": "stdout",
     "output_type": "stream",
     "text": [
      "3 16\n",
      "3\n",
      "5\n",
      "7\n",
      "11\n",
      "13\n"
     ]
    }
   ],
   "source": [
    "import math\n",
    "\n",
    "def isPrime(num):\n",
    "    maxNum=int(math.sqrt(num))\n",
    "    if (num<2):\n",
    "        return False\n",
    "    for i in range(2,maxNum+1):\n",
    "        if(num%i==0):\n",
    "            return False\n",
    "    return True\n",
    "        \n",
    "M, N=map(int,input().split())\n",
    "res=[]\n",
    "for i in range(M,N+1):\n",
    "    if (isPrime(i)):\n",
    "        print(i)"
   ]
  },
  {
   "cell_type": "markdown",
   "metadata": {},
   "source": [
    "## 10867 중복 빼고 정렬하기\n",
    "\n",
    "**문제로 이동** : [Baekjoon 중복 빼고 정렬하기](https://www.acmicpc.net/problem/10867)\n"
   ]
  },
  {
   "cell_type": "code",
   "execution_count": 12,
   "metadata": {},
   "outputs": [
    {
     "name": "stdout",
     "output_type": "stream",
     "text": [
      "10\n",
      "1 4 2 3 1 4 2 3 1 2\n",
      "1 2 3 4 "
     ]
    }
   ],
   "source": [
    "import sys\n",
    "N=int(input())\n",
    "#inputArr=list(map(int,sys.stdin.readline().split()))\n",
    "inputArr=list(map(int,input().split()))\n",
    "inputArr=list(set(inputArr))\n",
    "inputArr.sort()\n",
    "for i in inputArr:\n",
    "    print(i,end=' ')"
   ]
  },
  {
   "cell_type": "markdown",
   "metadata": {},
   "source": [
    "## 15686 치킨 배달\n",
    "\n",
    "**문제로 이동** : [Baekjoon 치킨배달](https://www.acmicpc.net/problem/15686)\n"
   ]
  },
  {
   "cell_type": "code",
   "execution_count": null,
   "metadata": {},
   "outputs": [],
   "source": [
    "n, m = map(int, input().split())\n",
    "a = [list(map(int, input().split())) for _ in range(n)]\n",
    "home, chicken, v = [], [], []\n",
    "ans = 1e9\n",
    "\n",
    "def solve(idx, cnt):\n",
    "    global ans\n",
    "    if idx > len(chicken):\n",
    "        return\n",
    "    if cnt == m:\n",
    "        s = 0\n",
    "        for hx, hy in home:\n",
    "            d = 1e9\n",
    "            for j in v:\n",
    "                cx, cy = chicken[j]\n",
    "                d = min(d, abs(hx-cx)+abs(hy-cy))\n",
    "            s += d\n",
    "        ans = min(ans, s)\n",
    "        return\n",
    "    v.append(idx)\n",
    "    solve(idx+1, cnt+1)\n",
    "    v.pop()\n",
    "    solve(idx+1, cnt)\n",
    "\n",
    "for i in range(n):\n",
    "    for j in range(n):\n",
    "        if a[i][j] == 1:\n",
    "            home.append((i+1, j+1))\n",
    "        elif a[i][j] == 2:\n",
    "            chicken.append((i+1, j+1))\n",
    "solve(0, 0)\n",
    "print(ans)"
   ]
  }
 ],
 "metadata": {
  "kernelspec": {
   "display_name": "Python 3",
   "language": "python",
   "name": "python3"
  },
  "language_info": {
   "codemirror_mode": {
    "name": "ipython",
    "version": 3
   },
   "file_extension": ".py",
   "mimetype": "text/x-python",
   "name": "python",
   "nbconvert_exporter": "python",
   "pygments_lexer": "ipython3",
   "version": "3.8.3"
  }
 },
 "nbformat": 4,
 "nbformat_minor": 4
}
