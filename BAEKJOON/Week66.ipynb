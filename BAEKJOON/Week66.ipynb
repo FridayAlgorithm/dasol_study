{
 "cells": [
  {
   "cell_type": "markdown",
   "metadata": {},
   "source": [
    "# 6주차\n",
    "\n",
    "#### [66주차 문제집](https://www.acmicpc.net/group/workbook/view/10320/45681)\n",
    "\n",
    "* [1197 최소스패닝트리](https://www.acmicpc.net/problem/1197)\n",
    "* [1647 도시분할계획](https://www.acmicpc.net/problem/1647)\n",
    "* [1414 불우이웃돕기](https://www.acmicpc.net/problem/1414)\n",
    "* [2468 안전영역](https://www.acmicpc.net/problem/2468)\n",
    "* [15654 N과M(5)](https://www.acmicpc.net/problem/15654)"
   ]
  },
  {
   "cell_type": "markdown",
   "metadata": {},
   "source": [
    "## 1197 최소 스패닝 트리\n",
    "\n",
    "**문제로 이동** : [Baekjoon 최소스패닝트리](https://www.acmicpc.net/problem/1197)\n",
    "\n",
    "- 그래프가 주어졌을 떄 그 그래프의 최소 스패닝 트리를 구하는 프로그램을 작성하시오\n",
    "- 최소스패닝 트리 : 주어진 그래프의 모든 정점들을 연결하는 부분 그래프 중 가중치의 합이 최소인 트리"
   ]
  },
  {
   "cell_type": "code",
   "execution_count": 1,
   "metadata": {},
   "outputs": [
    {
     "name": "stdout",
     "output_type": "stream",
     "text": [
      "3 3\n",
      "1 2 1\n",
      "2 3 2\n",
      "1 3 3\n",
      "3\n"
     ]
    }
   ],
   "source": [
    "import sys\n",
    "\n",
    "#input=sys.stdin.readline\n",
    "V,E=map(int,input().split())\n",
    "graph=[list(map(int,input().split())) for _ in range(E)]\n",
    "graph.sort(key=lambda x:x[2])\n",
    "\n",
    "def findParent(x):\n",
    "    if (x==parent[x]):\n",
    "        return x\n",
    "    parent[x]=findParent(parent[x])        \n",
    "    return parent[x]\n",
    "    \n",
    "def union(x,y):\n",
    "    xParent=findParent(x)\n",
    "    yParent=findParent(y)\n",
    "    #parent[xParent]=yParent #시간차이 O\n",
    "    if (xParent>yParent):\n",
    "        parent[xParent]=yParent\n",
    "    else:\n",
    "        parent[yParent]=xParent\n",
    "        \n",
    "parent=[i for i in range(V+1)]\n",
    "res=0\n",
    "for i in graph:\n",
    "    if (findParent(i[0])==findParent(i[1])):\n",
    "        continue\n",
    "    union(i[0],i[1])\n",
    "    res+=i[2]\n",
    "print(res)"
   ]
  },
  {
   "cell_type": "markdown",
   "metadata": {},
   "source": [
    "## 1647 도시 분할 계획\n",
    "\n",
    "**문제로 이동** : [Baekjoon 도시 분할 계획](https://www.acmicpc.net/problem/1647)\n",
    "\n",
    "- N개의 집과 그들을 연결하는 M개의 길로 이루어져 있다.\n",
    "- 각 길마다 길을 유지하는데 드는 유지비가 있다\n",
    "- 마을 안 임이의 두 집 사이에 경로가 항상 경로가 존재하게 하며 길을 더 없애고자 한다."
   ]
  },
  {
   "cell_type": "code",
   "execution_count": 18,
   "metadata": {},
   "outputs": [
    {
     "name": "stdout",
     "output_type": "stream",
     "text": [
      "7 12\n",
      "1 2 3\n",
      "1 3 2\n",
      "3 2 1\n",
      "2 5 2\n",
      "3 4 4\n",
      "7 3 6\n",
      "5 1 5\n",
      "1 6 2\n",
      "6 4 1\n",
      "6 5 3\n",
      "4 5 3\n",
      "6 7 4\n",
      "8\n"
     ]
    }
   ],
   "source": [
    "#시간초과\n",
    "import heapq\n",
    "import sys\n",
    "\n",
    "INF=2000\n",
    "#input=sys.stdin.readline\n",
    "N,M=map(int,input().split())\n",
    "graph=[[]*M for _ in range(M)]\n",
    "for _ in range(M):\n",
    "    a,b,c=map(int,input().split())\n",
    "    graph[a].append([c,b])\n",
    "    graph[b].append([c,a])\n",
    "\n",
    "visit=[False]*(N+1)\n",
    "start=1\n",
    "res=0\n",
    "maxEdge=-1\n",
    "for i in range(N):\n",
    "    visit[start]=True\n",
    "    possible=graph[start]\n",
    "    heapq.heapify(possible)\n",
    "    while possible:\n",
    "        weight, nextNode=heapq.heappop(possible)\n",
    "        if not visit[nextNode]:\n",
    "            visit[nextNode]=True\n",
    "            res+=weight\n",
    "            maxEdge=max(maxEdge,weight)\n",
    "            for nnNode in graph[nextNode]:\n",
    "                if not visit[nnNode[1]]:\n",
    "                    heapq.heappush(possible, nnNode)\n",
    "print(res-maxEdge)"
   ]
  },
  {
   "cell_type": "code",
   "execution_count": 27,
   "metadata": {},
   "outputs": [
    {
     "name": "stdout",
     "output_type": "stream",
     "text": [
      "7 12\n",
      "1 2 3\n",
      "1 3 2\n",
      "3 2 1\n",
      "2 5 2\n",
      "3 4 4\n",
      "7 3 6\n",
      "5 1 5\n",
      "1 6 2\n",
      "6 4 1\n",
      "6 5 3\n",
      "4 5 3\n",
      "6 7 4\n",
      "8\n"
     ]
    }
   ],
   "source": [
    "import sys\n",
    "\n",
    "#input=sys.stdin.readline\n",
    "N,M=map(int,input().split())\n",
    "graph=[list(map(int,input().split())) for _ in range(M)]\n",
    "graph.sort(key=lambda x:x[2])\n",
    "\n",
    "def findParent(x):\n",
    "    if x==parent[x]:\n",
    "        return x\n",
    "    parent[x]=findParent(parent[x])\n",
    "    return parent[x]\n",
    "\n",
    "def union(x,y):\n",
    "    xParent=findParent(x)\n",
    "    yParent=findParent(y)\n",
    "    if xParent>yParent:\n",
    "        parent[xParent]=yParent\n",
    "    else:\n",
    "        parent[yParent]=xParent\n",
    "        \n",
    "parent=[i for i in range(N+1)]\n",
    "res=0\n",
    "maxWeight=-1\n",
    "for i in graph:\n",
    "    if (findParent(i[0])==findParent(i[1])):\n",
    "        continue\n",
    "    union(i[0],i[1])\n",
    "    res+=i[2]\n",
    "    maxWeight=max(maxWeight, i[2])\n",
    "print(res-maxWeight)"
   ]
  },
  {
   "cell_type": "markdown",
   "metadata": {},
   "source": [
    "## 1414 불우이웃돕기\n",
    "\n",
    "**문제로 이동** : [Baekjoon 불우이웃돕기](https://www.acmicpc.net/problem/1414)\n",
    "\n",
    "- 집에는 N개의 방이 있다. 각 방에는 모두 한 개의 컴퓨터가 있다\n",
    "- 집 안의 N개의 컴퓨터를 모두 연결되게 하고 싶다\n",
    "- 서로 연결된 랜선의 길이가 주어질 때 기부할 수 있는 랜선의 최댓값을 구하라\n"
   ]
  },
  {
   "cell_type": "code",
   "execution_count": 23,
   "metadata": {},
   "outputs": [
    {
     "name": "stdout",
     "output_type": "stream",
     "text": [
      "4\n",
      "0top\n",
      "c0od\n",
      "er0o\n",
      "pen0\n",
      "134\n"
     ]
    }
   ],
   "source": [
    "import sys\n",
    "import heapq\n",
    "\n",
    "#input=sys.stdin.readline\n",
    "N=int(input())\n",
    "board=[[0]*N for _ in range(N)]\n",
    "total=0\n",
    "for i in range(N):\n",
    "    temp=list(input())\n",
    "    for j in range(N):\n",
    "        weight=ord(temp[j])\n",
    "        if weight==48:\n",
    "            board[i][j]=0\n",
    "        elif weight>=97:\n",
    "            newW=weight-96\n",
    "            board[i][j]=newW\n",
    "            total+=newW\n",
    "        else:\n",
    "            newW=weight-38\n",
    "            board[i][j]=newW\n",
    "            total+=newW\n",
    "\n",
    "graph=[[]*N for _ in range(N)]\n",
    "for a in range(N):\n",
    "    for b in range(N):\n",
    "        if board[a][b]!=0:\n",
    "            graph[a].append([board[a][b],b])\n",
    "            graph[b].append([board[a][b],a])\n",
    "            \n",
    "visit=[False]*N\n",
    "start=0\n",
    "res=0\n",
    "for i in range(N):\n",
    "    visit[start]=True\n",
    "    possible=graph[start]\n",
    "    heapq.heapify(possible)\n",
    "    while (possible):\n",
    "        weight, nextNode=heapq.heappop(possible)\n",
    "        if not visit[nextNode]:\n",
    "            visit[nextNode]=True\n",
    "            res+=weight\n",
    "            for nnNode in graph[nextNode]:\n",
    "                if not visit[nnNode[1]]:\n",
    "                    heapq.heappush(possible, nnNode)\n",
    "                    \n",
    "flag=True\n",
    "for i in visit:\n",
    "    if not i:\n",
    "        flag=False\n",
    "if flag:print(total-res)\n",
    "else: print(-1)"
   ]
  },
  {
   "cell_type": "markdown",
   "metadata": {},
   "source": [
    "## 2468 안전 영역\n",
    "\n",
    "**문제로 이동** : [Baekjoon 안전영역](https://www.acmicpc.net/problem/2468)\n",
    "\n",
    "- 어떤 지역의 높이 정보가 있을 때 물에 잠기지 않는 안전 영역의 최대 수를 조사하고자 한다\n",
    "- 높이 정보가 주어질 때 물에 잠기지 않는 안전한 영역의 최대 개수를 계산하라"
   ]
  },
  {
   "cell_type": "code",
   "execution_count": 47,
   "metadata": {},
   "outputs": [
    {
     "name": "stdout",
     "output_type": "stream",
     "text": [
      "5\n",
      "6 8 2 6 2\n",
      "3 2 3 4 6\n",
      "6 7 3 3 2\n",
      "7 2 5 3 6\n",
      "8 9 5 2 7\n",
      "5\n"
     ]
    }
   ],
   "source": [
    "from collections import deque\n",
    "import copy\n",
    "import sys\n",
    "\n",
    "#input=sys.stdin.readline\n",
    "N=int(input())\n",
    "board=[list(map(int,input().split())) for _ in range(N)]\n",
    "maxNum=0\n",
    "for i in board:\n",
    "    maxNum=max(maxNum, max(i))\n",
    "\n",
    "dx=[-1,1,0,0]\n",
    "dy=[0,0,-1,1]\n",
    "def bfs(i,j, height, visit):\n",
    "    queue=deque()\n",
    "    queue.append((i,j))\n",
    "    visit[i][j]=True\n",
    "    while queue:\n",
    "        x,y=queue.popleft()\n",
    "        for d in range(4):\n",
    "            nx=x+dx[d]\n",
    "            ny=y+dy[d]\n",
    "            if 0<=nx<N and 0<=ny<N and board[nx][ny]>height and not visit[nx][ny]:\n",
    "                visit[nx][ny]=True\n",
    "                queue.append((nx,ny))\n",
    "\n",
    "res=0\n",
    "for rain in range(maxNum):\n",
    "    visit=[[False]*N for _ in range(N)]\n",
    "    count=0\n",
    "    for i in range(N):\n",
    "        for j in range(N):\n",
    "            if board[i][j]>rain and not visit[i][j]:\n",
    "                bfs(i,j,rain,visit)\n",
    "                count+=1\n",
    "    res=max(res,count)\n",
    "    \n",
    "print(res)"
   ]
  },
  {
   "cell_type": "markdown",
   "metadata": {},
   "source": [
    "## 15654 N과 M (5)\n",
    "\n",
    "**문제로 이동** : [Baekjoon N과 M](https://www.acmicpc.net/problem/15654)\n",
    "\n",
    "- N개의 자연수와 자연수 M이 주어졌을 떄 아래 조건을 만족하는 길이가 M인 수열을 모두 구하는 프로그램을 작성하라\n",
    "- N개의 자연 수 중에서 M개를 고른 수열"
   ]
  },
  {
   "cell_type": "code",
   "execution_count": 44,
   "metadata": {},
   "outputs": [
    {
     "name": "stdout",
     "output_type": "stream",
     "text": [
      "4 2\n",
      "9 8 7 1\n",
      "1 7\n",
      "1 8\n",
      "1 9\n",
      "7 1\n",
      "7 8\n",
      "7 9\n",
      "8 1\n",
      "8 7\n",
      "8 9\n",
      "9 1\n",
      "9 7\n",
      "9 8\n"
     ]
    }
   ],
   "source": [
    "import sys\n",
    "\n",
    "#input=sys.stdin.readline\n",
    "N,M=map(int,input().split())\n",
    "num=list(map(int,input().split()))\n",
    "num.sort()\n",
    "visit=[False]*N\n",
    "res=[]\n",
    "\n",
    "def backtracking(depth):\n",
    "    if depth==M:\n",
    "        print(' '.join(str(i) for i in res))\n",
    "    for i in range(N):\n",
    "        if not visit[i]:\n",
    "            res.append(num[i])\n",
    "            visit[i]=True\n",
    "            backtracking(depth+1)\n",
    "            res.pop()\n",
    "            visit[i]=False\n",
    "\n",
    "backtracking(0)"
   ]
  },
  {
   "cell_type": "code",
   "execution_count": 31,
   "metadata": {},
   "outputs": [
    {
     "name": "stdout",
     "output_type": "stream",
     "text": [
      "3 1\n",
      "4 5 2\n",
      "2\n",
      "4\n",
      "5\n"
     ]
    }
   ],
   "source": [
    "import sys\n",
    "N, M = map(int, input().split())\n",
    "num = list(map(int, input().split()))\n",
    "num.sort()\n",
    "visited = [False]*N\n",
    "result = []\n",
    "\n",
    "def dfs(depth):\n",
    "    if depth == M:\n",
    "        print(' '.join(map(str, result)))\n",
    "    for i in range(N):\n",
    "        if not visited[i]:\n",
    "            result.append(num[i])\n",
    "            visited[i] = True\n",
    "            dfs(depth+1)\n",
    "            result.pop()\n",
    "            visited[i] = False\n",
    "\n",
    "dfs(0)"
   ]
  },
  {
   "cell_type": "code",
   "execution_count": null,
   "metadata": {},
   "outputs": [],
   "source": []
  }
 ],
 "metadata": {
  "kernelspec": {
   "display_name": "Python 3",
   "language": "python",
   "name": "python3"
  },
  "language_info": {
   "codemirror_mode": {
    "name": "ipython",
    "version": 3
   },
   "file_extension": ".py",
   "mimetype": "text/x-python",
   "name": "python",
   "nbconvert_exporter": "python",
   "pygments_lexer": "ipython3",
   "version": "3.8.3"
  }
 },
 "nbformat": 4,
 "nbformat_minor": 4
}
