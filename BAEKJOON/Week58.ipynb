{
 "cells": [
  {
   "cell_type": "markdown",
   "metadata": {},
   "source": [
    "# 58주차\n",
    "\n",
    "[58주차 문제집](https://www.acmicpc.net/group/workbook/view/10320/42830)\n",
    "\n",
    "* [2615 오목](https://www.acmicpc.net/problem/2615)\n",
    "* [21921 블로그](https://www.acmicpc.net/problem/21921)\n",
    "* [1525 퍼즐](https://www.acmicpc.net/problem/1525)\n",
    "* [2206 벽부수고 이동하기](https://www.acmicpc.net/problem/2206)\n",
    "* [16946 벽 부수고 이동하기4](https://www.acmicpc.net/problem/16946)\n",
    "* [1940 주몽](https://www.acmicpc.net/problem/1940)"
   ]
  },
  {
   "cell_type": "markdown",
   "metadata": {},
   "source": [
    "## 2615 오목\n",
    "\n",
    "**문제로 이동** : [Baekjoon 오목](https://www.acmicpc.net/problem/2615)\n",
    "\n",
    "- 오목은 바둑판에 검은바둑알과 흰바둑알을 교대로 놓아서 겨루는 게임이다.\n",
    "- 바둑판은 19\\*19로 그려지면 각 줄마다 번호가 붙는다\n",
    "- 같은 색의 바둑알이 연속적으로 다섯알 놓이면 그 색이 이긴다\n",
    "- 여섯알 이상이 연속적으로 놓인 경우에는 이긴 것이 아니다\n",
    "- 입력으로 바둑판의 상태가 주어질 때 어느쪽이 이겼는지, 승부가 결정되지 않았는지 판단하는 프로그램을 작성하라\n",
    "- 동시에 이기거나 동시에 여러군데에서 승리 조건을 만족하는 경우는 입력되지 않는다.\n",
    "- 검은 바둑알은 1, 흰 바둑알은 2, 빈칸은 0으로 표시된다\n",
    "- 검은색이 이기면1, 흰색이 이기면2, 승부가 결정되지않았다면 0을 출력하고, 이긴 돌의 가장 왼쪽 위 위치를 출력하라"
   ]
  },
  {
   "cell_type": "code",
   "execution_count": null,
   "metadata": {},
   "outputs": [],
   "source": [
    "from collections import deque\n",
    "import sys\n",
    "\n",
    "board=[list(map(int,input().split())) for _ in range(19)]\n",
    "black, white=deque(),deque()\n",
    "winnerExis=False\n",
    "for i in range(19):\n",
    "    for j in range(19):\n",
    "        if board[i][j]=='1':\n",
    "            black.append([i,j])\n",
    "            res=bfs(1, black)\n",
    "            if res!=0:\n",
    "                winnerExis=True\n",
    "                print(1)\n",
    "                print(res[0], res[1])\n",
    "        elif board[i][j]=='2':\n",
    "            white.append([i,j])\n",
    "            res=bfs(2, white)\n",
    "            if res!=0:\n",
    "                winnerExis=True\n",
    "                print(1)\n",
    "                print(res[0],res[1])\n",
    "if not winnerExis:\n",
    "    print(0)\n",
    "\n",
    "dx=[-1,-1,0,1,-1,0,1,1]\n",
    "dy=[-1,0,-1,-1,1,1,0,1]\n",
    "\n",
    "def bfs(stone, queue):\n",
    "    visit=[[0]*19 for _ in range(19)]\n",
    "    while queue:\n",
    "        count=0\n",
    "        x,y=queue.popleft()\n",
    "        if visit[x][y]==5:\n",
    "            return [x,y]\n",
    "        for d in range(3):\n",
    "            nx=x+dx[d]\n",
    "            ny=y+dy[d]\n",
    "            if 0<=x<19 and 0<=y<19 and board[nx][ny]==stone and visit[nx][ny]==0:\n",
    "                queue.append([nx,ny])\n",
    "                visit[nx][ny]=visit[x][y]+1\n",
    "    return 0"
   ]
  },
  {
   "cell_type": "code",
   "execution_count": null,
   "metadata": {},
   "outputs": [],
   "source": [
    "from collections import deque\n",
    "import sys\n",
    "\n",
    "#input=sys.stdin.readline\n",
    "boardSize=19\n",
    "board=[list(map(int,input().split())) for _ in range(boardSize)]\n",
    "\n",
    "dx=[-1,1,0,0]\n",
    "dy=[0,0,-1,1]\n",
    "def solution():\n",
    "    for i in range(boardSize):\n",
    "        for j in range(boardSize):\n",
    "            if board[i][j]!=0:\n",
    "                x,y=i,j\n",
    "                for i in range(4):\n",
    "                    nx=x+dx[i]\n",
    "                    ny=y+dy[i]\n",
    "                    count=1\n",
    "                    if (0<=nx<boardSize and 0<=ny<boardSize):\n",
    "                        while True:\n",
    "                            if board[x][y]==board[nx][ny]:\n",
    "                                count+=1\n",
    "                            else:\n",
    "                                break\n",
    "\n",
    "                            if count==5:\n",
    "                                nnx=nx+dx[i]\n",
    "                                nny=ny+dy[i]\n",
    "                                bx=nx-dx[i]\n",
    "                                by=ny-dy[i]\n",
    "                                if 0<=nnx<boardSize and 0<=nny<boardSize:\n",
    "                                    if board[nx][ny]==board[nnx][nny]:\n",
    "                                        break\n",
    "                                if 0<=bx<boardSize and 0<=by<boardSize:\n",
    "                                    if board[x][y]==board[bx][by]:\n",
    "                                        break\n",
    "                                return [x+1, y+1, board[x, y]]\n",
    "                            nx+=dx[i]\n",
    "                            ny+=dy[i]\n",
    "        return -1,-1,0\n",
    "    \n",
    "x,y,color=solution()\n",
    "if color==0:\n",
    "    print(color)\n",
    "else:\n",
    "    print(color)\n",
    "    print(x,y)"
   ]
  },
  {
   "cell_type": "markdown",
   "metadata": {},
   "source": [
    "## 21921 블로그\n",
    "\n",
    "**문제로 이동** : [Baekjoon 블로그](https://www.acmicpc.net/problem/21921)\n",
    "\n",
    "- 찬솔이는 블로그를 시작한지 N일이 지났다\n",
    "- 누적 방문수가 6만을 넘었을 때 X일 동안 가장 많이 들어온 방문자 수와 기간들을 알고자 한다\n",
    "- 블로그를 시작하고 지난 일수 N과 X, 1일차부터 하루 방문자수가 주어진다\n",
    "- X일동안 가장 많이 들어온 방문자 수와 기간이 몇개 있는지 출력하자\n",
    "- 최대 방문자 수가 0명이라면 SAD를 출력한다"
   ]
  },
  {
   "cell_type": "code",
   "execution_count": 1,
   "metadata": {},
   "outputs": [
    {
     "name": "stdout",
     "output_type": "stream",
     "text": [
      "5 2\n",
      "1 4 2 5 1\n",
      "7\n",
      "1\n"
     ]
    }
   ],
   "source": [
    "import sys\n",
    "\n",
    "#input=sys.stdin.readline\n",
    "N,X=map(int,input().split())\n",
    "visitNum=list(map(int,input().split()))\n",
    "sumArr=[0]\n",
    "maxi,count=0,0\n",
    "for i in visitNum:\n",
    "    sumArr.append(sumArr[-1]+i)\n",
    "for i in range(N-X+1):\n",
    "    temp=sumArr[i+X]-sumArr[i]\n",
    "    if temp>maxi:\n",
    "        maxi=temp\n",
    "        count=1\n",
    "    elif temp==maxi:\n",
    "        count+=1\n",
    "if (maxi==0):\n",
    "    print('SAD')\n",
    "else:\n",
    "    print(maxi)\n",
    "    print(count)"
   ]
  },
  {
   "cell_type": "markdown",
   "metadata": {},
   "source": [
    "## 1525 퍼즐\n",
    "**문제로 이동** : [Baekjoon 퍼즐](https://www.acmicpc.net/problem/1525)\n",
    "\n",
    "- 3\\*3 표에 숫자가 채워져 있다. (오른쪽 아래 가장 끝 칸은 비어있는 칸이다.)\n",
    "- 인접한 4칸 중 하나가 비어있으면 수를 빈 칸으로 이동시킬 수 있다.\n",
    "- 최소한의 이동으로 정리된 상태를 만들고자 한다\n",
    "- 표에 채워진 아홉수가 주어질 때 정리된 상태까지의 최소 이동 횟수를 구하라"
   ]
  },
  {
   "cell_type": "code",
   "execution_count": 31,
   "metadata": {},
   "outputs": [
    {
     "name": "stdout",
     "output_type": "stream",
     "text": [
      "1 0 3\n",
      "4 2 5\n",
      "7 8 6\n",
      "3\n"
     ]
    }
   ],
   "source": [
    "from collections import deque\n",
    "\n",
    "straight='123456780'\n",
    "s=''\n",
    "for _ in range(3):\n",
    "    s+=''.join(input().split())\n",
    "\n",
    "visit={s:True}\n",
    "changable=[[1,3],[0,2,4],[1,5],[0,4,6],[1,3,5,7],[2,4,8],[3,7],[4,6,8],[5,7]]\n",
    "result=-1\n",
    "time=0\n",
    "queue=deque()\n",
    "queue.append((s, s.index('0')))\n",
    "nextQueue=deque()\n",
    "\n",
    "while queue or nextQueue:\n",
    "    if not queue:\n",
    "        queue = nextQueue\n",
    "        time+=1\n",
    "        nextQueue=deque()\n",
    "    now, zero=queue.popleft()\n",
    "    if now==straight:\n",
    "        result=time\n",
    "        break\n",
    "    for i in changable[zero]:\n",
    "        new=list(now)\n",
    "        new[zero],new[i]=new[i],new[zero]\n",
    "        new=''.join(new)\n",
    "        if new not in visit:\n",
    "            visit[new]=True\n",
    "            nextQueue.append((new,i))\n",
    "            \n",
    "print(result)"
   ]
  },
  {
   "cell_type": "code",
   "execution_count": 17,
   "metadata": {},
   "outputs": [
    {
     "name": "stdout",
     "output_type": "stream",
     "text": [
      "1 0 3\n",
      "4 2 5\n",
      "7 8 6\n",
      "3\n"
     ]
    }
   ],
   "source": [
    "import sys\n",
    "from collections import deque\n",
    "\n",
    "#input=sys.stdin.readline\n",
    "straight='123456780'\n",
    "s=''\n",
    "for _ in range(3):\n",
    "    s+=''.join(input().split())\n",
    "\n",
    "dx=[-1,1,0,0]\n",
    "dy=[0,0,-1,1]\n",
    "queue=deque()\n",
    "queue.append(s)\n",
    "visit={s:0}\n",
    "def bfs():\n",
    "    while (queue):\n",
    "        now = queue.popleft()\n",
    "        if now=='123456780':\n",
    "            return visit[now]\n",
    "        pos=now.find(\"0\")\n",
    "        x=pos//3\n",
    "        y=pos%3\n",
    "        for i in range(4):\n",
    "            nx=x+dx[i]\n",
    "            ny=y+dy[i]\n",
    "            if (0<=nx<3 and 0<=ny<3):\n",
    "                nextPos=nx*3+ny\n",
    "                new=list(now)\n",
    "                new[nextPos], new[pos]=new[pos],new[nextPos]\n",
    "                new=''.join(new)\n",
    "                if new not in visit:\n",
    "                    queue.append(new)\n",
    "                    visit[new]=visit[now]+1\n",
    "\n",
    "result=bfs()\n",
    "print(result if result!=None else \"-1\")"
   ]
  },
  {
   "cell_type": "markdown",
   "metadata": {},
   "source": [
    "## 2206 벽 부수고 이동하기\n",
    "\n",
    "**문제로 이동** : [Baekjoon 벽 부수고 이동하기](https://www.acmicpc.net/problem/2206)\n",
    "\n",
    "- N\\*M의 맵에서 0은 이동가능한 곳, 1은 벽을 나타낸다\n",
    "- (1, 1)에서 (N, M)까지 이동하려할 때 최단거리로 이동하려한다\n",
    "- 최단거리는 시작칸과 끝나는 칸도 포함한다\n",
    "- 이동하는 도중에 한 개의 벽을 부수고 이동할 수 있다\n",
    "- 맵이 주어졌을 때 최단 경로를 구해내는 프로그램을 작성하라\n",
    "- 최단거리로 이동이 불가할 때는 -1을 출력한다"
   ]
  },
  {
   "cell_type": "code",
   "execution_count": 23,
   "metadata": {},
   "outputs": [
    {
     "name": "stdout",
     "output_type": "stream",
     "text": [
      "6 4\n",
      "0100\n",
      "1110\n",
      "1000\n",
      "0000\n",
      "0111\n",
      "0000\n",
      "15\n"
     ]
    }
   ],
   "source": [
    "#시간초과\n",
    "from collections import deque\n",
    "import sys, copy\n",
    "\n",
    "# input = sys.stdin.readline\n",
    "N,M=map(int,input().split())\n",
    "board=[list(map(int,input().strip())) for _ in range(N)]\n",
    "\n",
    "dx=[-1,1,0,0]\n",
    "dy=[0,0,-1,1]\n",
    "def bfs(board):\n",
    "    visit=[[0]*M for _ in range(N)]\n",
    "    queue=deque()\n",
    "    queue.append([0,0])\n",
    "    visit[0][0]=1\n",
    "    while queue:\n",
    "        x,y=queue.popleft()\n",
    "        if x==N-1 and y==M-1:\n",
    "            return visit[x][y]\n",
    "        for d in range(4):\n",
    "            nx=x+dx[d]\n",
    "            ny=y+dy[d]\n",
    "            if (0<=nx<N and 0<=ny<M and board[nx][ny]==0 and visit[nx][ny]==0):\n",
    "                queue.append([nx,ny])\n",
    "                visit[nx][ny]=visit[x][y]+1\n",
    "    return -1\n",
    "\n",
    "mini=1e9\n",
    "for i in range(N):\n",
    "    for j in range(M):\n",
    "        if board[i][j]==1:\n",
    "            tempBoard=copy.deepcopy(board)\n",
    "            tempBoard[i][j]=0\n",
    "            temp=bfs(tempBoard)\n",
    "            if temp!=-1 and temp<mini:\n",
    "                mini=temp\n",
    "if mini!=1e9:\n",
    "    print(mini)\n",
    "else:\n",
    "    print(-1)"
   ]
  },
  {
   "cell_type": "code",
   "execution_count": 24,
   "metadata": {},
   "outputs": [
    {
     "name": "stdout",
     "output_type": "stream",
     "text": [
      "6 4\n",
      "0100\n",
      "1110\n",
      "1000\n",
      "0000\n",
      "0111\n",
      "0000\n",
      "15\n"
     ]
    }
   ],
   "source": [
    "from collections import deque \n",
    "\n",
    "n, m = map(int, input().split()) \n",
    "board=[] \n",
    "for i in range(n): \n",
    "    board.append(list(input()))\n",
    "    \n",
    "dx = [-1, 1, 0, 0] \n",
    "dy = [0, 0, -1, 1] \n",
    "\n",
    "def bfs(): \n",
    "    queue = deque() \n",
    "    queue.append([0, 0, 1]) \n",
    "    visited = [[[0] * 2 for _ in range(m)] for _ in range(n)] \n",
    "    visited[0][0][1] = 1 \n",
    "    while queue: \n",
    "        x, y, breakAble = queue.popleft() \n",
    "        if x == n-1 and y == m-1: \n",
    "            return visited[x][y][breakAble]\n",
    "        for i in range(4): \n",
    "            nx = x+dx[i]\n",
    "            ny = y+dy[i]\n",
    "            if 0<=nx<n and 0<=ny<m: \n",
    "                if board[nx][ny] == '1' and breakAble == 1: \n",
    "                    visited[nx][ny][0] = visited[x][y][1] + 1 \n",
    "                    queue.append([nx, ny, 0]) \n",
    "                elif board[nx][ny] == '0' and not visited[nx][ny][breakAble]:\n",
    "                    visited[nx][ny][breakAble] = visited[x][y][breakAble] + 1 \n",
    "                    queue.append([nx, ny, breakAble]) \n",
    "    return -1 \n",
    "    \n",
    "print(bfs())"
   ]
  },
  {
   "cell_type": "markdown",
   "metadata": {},
   "source": [
    "## 16946 벽 부수고 이동하기4\n",
    "\n",
    "**문제로 이동** : [Baekjoon 벽 부수고 이동하기4](https://www.acmicpc.net/problem/16946)\n",
    "\n"
   ]
  },
  {
   "cell_type": "code",
   "execution_count": 25,
   "metadata": {},
   "outputs": [
    {
     "name": "stdout",
     "output_type": "stream",
     "text": [
      "3 3\n",
      "101\n",
      "010\n",
      "101\n",
      "303\n",
      "050\n",
      "303\n"
     ]
    }
   ],
   "source": [
    "#시간초과\n",
    "import sys\n",
    "import copy\n",
    "from collections import deque\n",
    "\n",
    "#input=sys.stdin.readline\n",
    "N,M=map(int,input().split())\n",
    "board=[list(input().strip()) for _ in range(N)]\n",
    "    \n",
    "dx=[-1,1,0,0]\n",
    "dy=[0,0,-1,1]\n",
    "def bfs(temp, i,j):\n",
    "    visit=[[0]*M for _ in range(N)]\n",
    "    count=1\n",
    "    queue=deque()\n",
    "    queue.append((i,j))\n",
    "    while queue:\n",
    "        x,y=queue.popleft()\n",
    "        temp[x][y]=0\n",
    "        for d in range(4):\n",
    "            nx=x+dx[d]\n",
    "            ny=y+dy[d]\n",
    "            if (0<=nx<N and 0<=ny<M and temp[nx][ny]=='0' and not visit[nx][ny]):\n",
    "                count+=1\n",
    "                visit[nx][ny]=True\n",
    "                queue.append((nx,ny))\n",
    "    return count\n",
    "\n",
    "res=[[0]*(M) for _ in range(N)]\n",
    "for i in range(N):\n",
    "    for j in range(M):\n",
    "        if board[i][j]=='1':\n",
    "            res[i][j]=bfs(copy.deepcopy(board), i,j)\n",
    "\n",
    "for i in range(N):\n",
    "    for j in range(M):\n",
    "        print(res[i][j], end='')\n",
    "    print()"
   ]
  },
  {
   "cell_type": "markdown",
   "metadata": {},
   "source": [
    "## 1940 주몽\n",
    "\n",
    "**문제로 이동** : [Baekjoon 주몽](https://www.acmicpc.net/problem/1940)\n",
    "\n",
    "- 주몽은 철기군을 양성하기 위해 갑옷을 만들게 하였다\n",
    "- 갑옷을 만드는 재료들은 각 고유번호를 가지고 있다.\n",
    "- 갑옷은 2개의 재료로 만들며 고유번호를 합쳐 M이 되면 갑옷이 만들어진다\n",
    "- 가지고 있는 재료로 갑옷을 몇 개나 만들 수 있는지 구하라"
   ]
  },
  {
   "cell_type": "code",
   "execution_count": null,
   "metadata": {},
   "outputs": [],
   "source": [
    "#시간초과\n",
    "import sys\n",
    "from itertools import combinations as combi\n",
    "\n",
    "#input=sys.stdin.readline\n",
    "N=int(input())\n",
    "M=int(input())\n",
    "serialNum=list(map(int,input().split()))\n",
    "able=combi(serialNum, 2)\n",
    "res=0\n",
    "for i in able:\n",
    "    if sum(i)==M:\n",
    "        res+=1\n",
    "print(res)"
   ]
  },
  {
   "cell_type": "code",
   "execution_count": null,
   "metadata": {},
   "outputs": [],
   "source": [
    "#시간초과\n",
    "import sys\n",
    "\n",
    "#input=sys.stdin.readline\n",
    "N=int(input())\n",
    "M=int(input())\n",
    "serialNum=list(map(int,input().split()))\n",
    "res=0\n",
    "for i in range(N):\n",
    "    for j in range(i+1,N):\n",
    "        if serialNum[i]+serialNum[j]==M:\n",
    "            res+=1\n",
    "print(res)"
   ]
  },
  {
   "cell_type": "code",
   "execution_count": 22,
   "metadata": {},
   "outputs": [
    {
     "name": "stdout",
     "output_type": "stream",
     "text": [
      "6\n",
      "9\n",
      "2 7 4 1 5 3\n",
      "2\n"
     ]
    }
   ],
   "source": [
    "import sys\n",
    "\n",
    "#input=sys.stdin.readline\n",
    "N=int(input())\n",
    "M=int(input())\n",
    "serialNum=list(map(int,input().split()))\n",
    "serialNum.sort()\n",
    "start, end=0,len(serialNum)-1\n",
    "res=0\n",
    "\n",
    "while start<end:\n",
    "    sumNum=serialNum[start]+serialNum[end]\n",
    "    if sumNum<M:\n",
    "        start+=1\n",
    "    elif sumNum>M:\n",
    "        end-=1\n",
    "    else:\n",
    "        res+=1\n",
    "        start+=1\n",
    "        end-=1\n",
    "print(res)"
   ]
  },
  {
   "cell_type": "code",
   "execution_count": null,
   "metadata": {},
   "outputs": [],
   "source": []
  }
 ],
 "metadata": {
  "kernelspec": {
   "display_name": "Python 3",
   "language": "python",
   "name": "python3"
  },
  "language_info": {
   "codemirror_mode": {
    "name": "ipython",
    "version": 3
   },
   "file_extension": ".py",
   "mimetype": "text/x-python",
   "name": "python",
   "nbconvert_exporter": "python",
   "pygments_lexer": "ipython3",
   "version": "3.8.3"
  }
 },
 "nbformat": 4,
 "nbformat_minor": 4
}
