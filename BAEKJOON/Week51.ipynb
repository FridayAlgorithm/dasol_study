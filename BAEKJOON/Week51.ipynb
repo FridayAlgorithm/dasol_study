{
 "cells": [
  {
   "cell_type": "markdown",
   "metadata": {},
   "source": [
    "# 51주차\n",
    "\n",
    "[51주차 문제집](https://www.acmicpc.net/group/workbook/view/10320/40411)\n",
    "\n",
    "* [2110 공유기 설치](https://www.acmicpc.net/problem/2110)\n",
    "* [1781 컵라면](https://www.acmicpc.net/problem/1781)\n",
    "* [1911 흙길 보수하기](https://www.acmicpc.net/problem/1911)\n",
    "* [11501 주식](https://www.acmicpc.net/problem/11501)\n",
    "* [1461 도서관](https://www.acmicpc.net/problem/1461)\n",
    "* [10844 쉬운 계단 수](https://www.acmicpc.net/problem/10844)\n",
    "* [11052 카드 구매하기](https://www.acmicpc.net/problem/11052)\n",
    "* [7562 나이트의 이동](https://www.acmicpc.net/problem/7562)"
   ]
  },
  {
   "cell_type": "markdown",
   "metadata": {},
   "source": [
    "## 2110 공유기 설치\n",
    "\n",
    "**문제로 이동** : [Baekjoon 공유기 설치](https://www.acmicpc.net/problem/2110)\n",
    "\n",
    "- 집 N개가 수직선 위에 있다 (집 여러개가 같은 좌표를 가지진 않는다)\n",
    "- 어디서나 와이파이를 즐기기 위해 공유기 C개를 설치하려고 한다\n",
    "- 한 집에는 공유기를 하나만 설치할 수 있고 인접한 두 공유기 사이의 거리를 최대로 하고자한다\n",
    "- C개의 공유기를 N개의 집에 설치하여 인접한 두 공유기 사이의 거리를 최대로 하는 프로그램을 작성하라"
   ]
  },
  {
   "cell_type": "code",
   "execution_count": 2,
   "metadata": {},
   "outputs": [
    {
     "name": "stdout",
     "output_type": "stream",
     "text": [
      "5 3\n",
      "1\n",
      "2\n",
      "9\n",
      "4\n",
      "8\n",
      "3\n"
     ]
    }
   ],
   "source": [
    "N,C=map(int,input().split())\n",
    "home=[int(input()) for _ in range(N)]\n",
    "home.sort()\n",
    "\n",
    "left, right=1, home[-1]-home[0]\n",
    "res=0\n",
    "while (left<=right):\n",
    "    mid=(left+right)//2\n",
    "    wifiLoc=home[0]\n",
    "    install=1\n",
    "    for i in range(1, N):\n",
    "        if (home[i]>=wifiLoc+mid):\n",
    "            wifiLoc=home[i]\n",
    "            install+=1\n",
    "    if install<C:\n",
    "        right=mid-1\n",
    "    else:\n",
    "        left=mid+1\n",
    "        res=mid\n",
    "print(res)"
   ]
  },
  {
   "cell_type": "markdown",
   "metadata": {},
   "source": [
    "## 1781 컵라면\n",
    "\n",
    "**문제로 이동** : [Baekjoon 컵라면](https://www.acmicpc.net/problem/1781)\n",
    "\n",
    "- N개의 각 문제를 풀었을 때 컵라면을 몇 개 줄 것인지 제시하였다\n",
    "- 각 문제는 데드라인을 가지고 있다\n",
    "- 동호가 받을 수 있는 최대의 컵라면 수를 구하라\n",
    "- 문제를 푸는데 1의 시간이 걸리며 데드라인은 N이하의 자연수이다"
   ]
  },
  {
   "cell_type": "code",
   "execution_count": 16,
   "metadata": {},
   "outputs": [
    {
     "name": "stdout",
     "output_type": "stream",
     "text": [
      "3\n",
      "1 1\n",
      "2 50\n",
      "2 100\n",
      "101\n"
     ]
    }
   ],
   "source": [
    "import sys\n",
    "\n",
    "#input=sys.stdin.readline\n",
    "N=int(input())\n",
    "problem=[list(map(int,input().split())) for _ in range(N)]\n",
    "problem.sort(key=(lambda x:(x[0],-x[1])))\n",
    "solve=[[0,0]]\n",
    "temp=[]\n",
    "for i in range(N):\n",
    "    if problem[i][0]>solve[-1][0]:\n",
    "        solve.append(problem[i])\n",
    "    else:\n",
    "        temp.append(problem[i])\n",
    "solveSeq=solve+temp\n",
    "cup=0\n",
    "for i in range(N+1):\n",
    "    if solveSeq[i][0]>=i:\n",
    "        cup+=solveSeq[i][1]\n",
    "print(cup)"
   ]
  },
  {
   "cell_type": "code",
   "execution_count": 18,
   "metadata": {},
   "outputs": [
    {
     "name": "stdout",
     "output_type": "stream",
     "text": [
      "7\n",
      "1 6\n",
      "1 7\n",
      "3 2\n",
      "3 1\n",
      "2 4\n",
      "2 5\n",
      "6 1\n",
      "15\n"
     ]
    }
   ],
   "source": [
    "import heapq\n",
    "import sys\n",
    "\n",
    "input=sys.stdin.readline\n",
    "N=int(input())\n",
    "problem=[list(map(int,input().split())) for _ in range(N)]\n",
    "problem.sort()\n",
    "\n",
    "heap=[]\n",
    "for i in problem:\n",
    "    heapq.heappush(heap, i[1])\n",
    "    if i[0]<len(heap):\n",
    "        heapq.heappop(heap)\n",
    "print(sum(heap))"
   ]
  },
  {
   "cell_type": "markdown",
   "metadata": {},
   "source": [
    "## 1911 흙길 보수하기\n",
    "\n",
    "**문제로 이동** : [Baekjoon 흙길 보수하기](https://www.acmicpc.net/problem/1911)\n",
    "\n",
    "- 겨울캠핑 장소에 비밀길 위에 N개의 물 웅덩이가 생겼다\n",
    "- 덮을 수 있는 길이 L짜리 널판지들을 가지고 있어서 물웅덩이를 덮으려한다\n",
    "- 물웅덩이들의 위치와 크기가 주어질 때 모든 물 웅덩이를 덮기위한 최소 널판지 갯수를 구하라\n",
    "- 첫째줄에 N개와 길이 L이 주어지며 각 웅덩이들의 정보가 주어진다"
   ]
  },
  {
   "cell_type": "code",
   "execution_count": 61,
   "metadata": {},
   "outputs": [
    {
     "name": "stdout",
     "output_type": "stream",
     "text": [
      "3 3\n",
      "1 6\n",
      "13 17\n",
      "8 12\n",
      "5\n"
     ]
    }
   ],
   "source": [
    "import sys\n",
    "import math\n",
    "\n",
    "# input=sys.stdin.readline\n",
    "N,L=map(int,input().split())\n",
    "water=[list(map(int,input().split())) for _ in range(N)]\n",
    "water.sort()\n",
    "\n",
    "res=0\n",
    "lastLoc=0\n",
    "for start, end in water:\n",
    "    if start<=lastLoc:\n",
    "        start=lastLoc+1\n",
    "        if end<=start:\n",
    "            continue\n",
    "    temp=math.ceil((end-start)/L)\n",
    "    res+=temp\n",
    "    lastLoc=max(lastLoc, start+temp*L-1)\n",
    "\n",
    "print(res)"
   ]
  },
  {
   "cell_type": "markdown",
   "metadata": {},
   "source": [
    "## 11501 주식\n",
    "\n",
    "**문제로 이동** : [Baekjoon 주식](https://www.acmicpc.net/problem/11501)\n",
    "\n",
    "- 홍준이는 매일 세 가지 중 한 행동을 한다\n",
    "  * 주식 하나를 산다\n",
    "  * 원하는 만큼 가지고 있는 주식을 판다\n",
    "  * 아무것도 안한다\n",
    "- 날 별로 주식의 가격을 알려줄 때 최대 이익이 얼마나 되는지 계산하고자한다\n",
    "- 테스트케이스의 수 T와 날짜 N, 주가를 나타내는 N개의 숫자들이 주어질 때 최대 이익을 출력하라"
   ]
  },
  {
   "cell_type": "code",
   "execution_count": 19,
   "metadata": {},
   "outputs": [
    {
     "name": "stdout",
     "output_type": "stream",
     "text": [
      "1\n",
      "5\n",
      "1 2 3 2 4\n",
      "가진주식 : 1  현재 돈 5\n",
      "5\n"
     ]
    }
   ],
   "source": [
    "import sys\n",
    "\n",
    "# input = sys.stdin.readline\n",
    "tc=int(input())\n",
    "for _ in range(tc):\n",
    "    day=int(input())\n",
    "    cost=list(map(int,input().split()))\n",
    "    haveStocks=0\n",
    "    totalCost=0\n",
    "    for i in range(day-1):\n",
    "        if (cost[i]<=cost[i+1]):\n",
    "            haveStocks+=1\n",
    "            totalCost-=cost[i]\n",
    "        elif (haveStocks>=0):\n",
    "            totalCost+=haveStocks*cost[i]\n",
    "            haveStocks=0\n",
    "    if haveStocks>=0:\n",
    "        totalCost+=haveStocks*cost[day-1]\n",
    "    print(totalCost)"
   ]
  },
  {
   "cell_type": "code",
   "execution_count": 33,
   "metadata": {},
   "outputs": [
    {
     "name": "stdout",
     "output_type": "stream",
     "text": [
      "1\n",
      "6\n",
      "1 9 1 9 2 8\n",
      "22\n"
     ]
    }
   ],
   "source": [
    "#시간초과\n",
    "import sys\n",
    "\n",
    "# input = sys.stdin.readline\n",
    "tc=int(input())\n",
    "for _ in range(tc):\n",
    "    day=int(input())\n",
    "    cost=list(map(int,input().split()))\n",
    "    maxCost=max(cost)\n",
    "    haveStocks=0\n",
    "    totalCost=0\n",
    "    for i in range(day-1):\n",
    "        if (cost[i]==maxCost):\n",
    "            if (haveStocks>=0):\n",
    "                totalCost+=haveStocks*cost[i]\n",
    "                haveStocks=0\n",
    "                \n",
    "            maxCost=max(cost[i+1:])\n",
    "        else:\n",
    "            haveStocks+=1\n",
    "            totalCost-=cost[i]\n",
    "    if haveStocks>=0:\n",
    "        totalCost+=haveStocks*cost[day-1]\n",
    "    print(totalCost)"
   ]
  },
  {
   "cell_type": "code",
   "execution_count": null,
   "metadata": {},
   "outputs": [],
   "source": [
    "#뒤에서부터 돌리자\n",
    "#시간초과\n",
    "import sys\n",
    "\n",
    "# input = sys.stdin.readline\n",
    "tc=int(input())\n",
    "for _ in range(tc):\n",
    "    day=int(input())\n",
    "    cost=list(map(int,input().split()))\n",
    "    maxCost=0\n",
    "    totalCost=0\n"
   ]
  },
  {
   "cell_type": "markdown",
   "metadata": {},
   "source": [
    "## 1461 도서관\n",
    "\n",
    "**문제로 이동** : [Baekjoon 도서관](https://www.acmicpc.net/problem/1461)\n",
    "\n",
    "- 세준이와 사람들이 마구 놓은 책은 전부 0에 있다\n",
    "- 책들의 각자 원래 위치가 주어질 때 제자리에 나둘 때 걷는 최소 걸음수를 구하라\n",
    "- 책을 제자리에 놔둗 후 다시 0으로 돌아올 필요는 없으며 세준이는 최대 M권의 책을 들 수 있다"
   ]
  },
  {
   "cell_type": "code",
   "execution_count": 102,
   "metadata": {},
   "outputs": [
    {
     "name": "stdout",
     "output_type": "stream",
     "text": [
      "8 3\n",
      "-18 -9 -4 50 22 -26 40 -45\n",
      "[50, 40, 22] [-45, -26, -18, -9, -4]\n",
      "[9, 45, 50]\n",
      "158\n"
     ]
    }
   ],
   "source": [
    "#NameError -> \n",
    "N, M=map(int,input().split())\n",
    "bookLocate=list(map(int,input().split()))\n",
    "bookLocate.sort()\n",
    "for i in range(N):\n",
    "    if bookLocate[i]>0:\n",
    "        bookMinus=bookLocate[:i]\n",
    "        bookPlus=bookLocate[i:]\n",
    "        break\n",
    "bookPlus=bookPlus[::-1]\n",
    "print(bookPlus, bookMinus)\n",
    "\n",
    "res=[]\n",
    "for i in range(0, len(bookMinus), M):\n",
    "    res.append(abs(bookMinus[i]))\n",
    "    \n",
    "for i in range(0, len(bookPlus), M):\n",
    "    res.append(abs(bookPlus[i]))\n",
    "    \n",
    "res.sort()\n",
    "print(res)\n",
    "result=(2*sum(res)-res[-1])\n",
    "print(result)"
   ]
  },
  {
   "cell_type": "markdown",
   "metadata": {},
   "source": [
    "## 10844 쉬운 계단 수\n",
    "\n",
    "**문제로 이동** : [Baekjoon 쉬운 계단 수](https://www.acmicpc.net/problem/10844)\n",
    "\n",
    "- 인접한 모든 자리의 차이가 1인 수를 계단수라고 한다\n",
    "- N이 주어질 때 길이가 N인 계단수가 총 몇 개 있는지 구하라"
   ]
  },
  {
   "cell_type": "code",
   "execution_count": 37,
   "metadata": {},
   "outputs": [
    {
     "name": "stdout",
     "output_type": "stream",
     "text": [
      "3\n",
      "32\n"
     ]
    }
   ],
   "source": [
    "N=int(input())\n",
    "divide=1000000000\n",
    "dp=[[0]*10 for _ in range(N)]\n",
    "dp[0]=[0,1,1,1,1,1,1,1,1,1]\n",
    "\n",
    "for i in range(1, N):\n",
    "    dp[i][0], dp[i][-1]= dp[i-1][1]%divide, dp[i-1][-2]%divide\n",
    "    for j in range(1, 9):\n",
    "        dp[i][j]=(dp[i-1][j-1]+dp[i-1][j+1])%divide\n",
    "print(sum(dp[N-1])%divide)"
   ]
  },
  {
   "cell_type": "markdown",
   "metadata": {},
   "source": [
    "## 11052 카드 구매하기\n",
    "\n",
    "**문제로 이동** : [Baekjoon 카드 구매하기](https://www.acmicpc.net/problem/11052)\n",
    "\n",
    "- 카드에는 8개의 등급을 나타내는 색이 칠해져있다\n",
    "- 카드는 카드팩의 형태로만 구매할 수 있다\n",
    "- 카드팩은 들어있는 카드의 갯수에 따라 N가지 종류가 있다\n",
    "- 개수가 적더라도 가격이 비싸면 높은 등급이 많다는 미신을 믿고있다\n",
    "- 돈을 최대한 많이 지불하여 카드 N개를 구입하고자 한다\n",
    "- 카드팩의 가격이 주어질때 N개의 카드를 구매하기 위해 지불해야하는 최댓값을 구하라\n",
    "- N개보다 많은 수의 카드를 구매하는 것은 불가능하다"
   ]
  },
  {
   "cell_type": "code",
   "execution_count": 84,
   "metadata": {},
   "outputs": [
    {
     "name": "stdout",
     "output_type": "stream",
     "text": [
      "4\n",
      "1 5 6 7\n",
      "[0, 1, 5, 6, 10]\n",
      "10\n"
     ]
    }
   ],
   "source": [
    "N=int(input())\n",
    "kardCost=list(map(int,input().split()))\n",
    "\n",
    "dp=[0]*(N+1)\n",
    "dp[1]=kardCost[0]\n",
    "for i in range(2, N+1):\n",
    "    for j in range(1,i+1):\n",
    "        dp[i]=max(dp[i], dp[i-j]+kardCost[j-1])\n",
    "print(dp)  \n",
    "print(dp[N])"
   ]
  },
  {
   "cell_type": "markdown",
   "metadata": {},
   "source": [
    "## 7562 나이트의 이동\n",
    "**문제로 이동** : [Baekjoon 나이트의 이동](https://www.acmicpc.net/problem/7562)\n",
    "\n"
   ]
  },
  {
   "cell_type": "code",
   "execution_count": 59,
   "metadata": {},
   "outputs": [
    {
     "name": "stdout",
     "output_type": "stream",
     "text": [
      "3\n",
      "8\n",
      "0 0\n",
      "7 0\n",
      "5\n",
      "100\n",
      "0 0\n",
      "30 50\n",
      "28\n",
      "10\n",
      "1 1\n",
      "1 1\n",
      "0\n"
     ]
    }
   ],
   "source": [
    "import sys\n",
    "from collections import deque\n",
    "\n",
    "#input=sys.stdin.readline\n",
    "moveAble=[(2,1),(1,2),(2,-1),(1,-2),(-1,-2),(-2,-1),(-1,2),(-2,1)]\n",
    "\n",
    "T=int(input())\n",
    "for _ in range(T):\n",
    "    l=int(input())\n",
    "    tempX,tempY=map(int,input().split())\n",
    "    queue=deque()\n",
    "    queue.append((tempX,tempY))\n",
    "    target=list(map(int,input().split()))\n",
    "    visit=[[0]*l for _ in range(l)]\n",
    "    \n",
    "    while (queue):\n",
    "        x,y=queue.popleft()\n",
    "        if x==target[0] and y==target[1]:\n",
    "            break\n",
    "        for i in range(8):\n",
    "            nx=x+moveAble[i][0]\n",
    "            ny=y+moveAble[i][1]\n",
    "            if (0<=nx<l and 0<=ny<l and visit[nx][ny]==0):\n",
    "                visit[nx][ny]=visit[x][y]+1\n",
    "                queue.append((nx,ny))\n",
    "    print(visit[target[0]][target[1]])"
   ]
  },
  {
   "cell_type": "code",
   "execution_count": null,
   "metadata": {},
   "outputs": [],
   "source": []
  }
 ],
 "metadata": {
  "kernelspec": {
   "display_name": "Python 3",
   "language": "python",
   "name": "python3"
  },
  "language_info": {
   "codemirror_mode": {
    "name": "ipython",
    "version": 3
   },
   "file_extension": ".py",
   "mimetype": "text/x-python",
   "name": "python",
   "nbconvert_exporter": "python",
   "pygments_lexer": "ipython3",
   "version": "3.8.3"
  }
 },
 "nbformat": 4,
 "nbformat_minor": 4
}
