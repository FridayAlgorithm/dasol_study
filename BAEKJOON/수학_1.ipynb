{
 "cells": [
  {
   "cell_type": "code",
   "execution_count": null,
   "metadata": {},
   "outputs": [],
   "source": [
    "#1712 손익분기점\n",
    "A,B,C=map(int,input().split())\n",
    "if C-B<=0:\n",
    "    BreakEven=-1\n",
    "else :\n",
    "    BreakEven = A/(C-B)+1\n",
    "print(int(BreakEven))\n"
   ]
  },
  {
   "cell_type": "code",
   "execution_count": 5,
   "metadata": {},
   "outputs": [
    {
     "name": "stdout",
     "output_type": "stream",
     "text": [
      "11\n",
      "3\n"
     ]
    }
   ],
   "source": [
    "#2839 설탕배달\n",
    "#백준 테스트케이스는 모두 돌아가나 제출 시 실패\n",
    "n=int(input())\n",
    "minNum=-1\n",
    "if (n%5==0):\n",
    "    minNum=int(n/5)\n",
    "elif (n%3==0):\n",
    "    if(n%5%3==0):\n",
    "        minNum=int(n/5)+(n%5)/3\n",
    "    else :\n",
    "        minNum=int(n/3)\n",
    "else:\n",
    "    for i in range(1,int(n/5)+1):\n",
    "        if(n-5*i)%3==0:\n",
    "            minNum=i+int((n-5*i)/3)\n",
    "print(int(minNum))"
   ]
  },
  {
   "cell_type": "code",
   "execution_count": null,
   "metadata": {},
   "outputs": [],
   "source": []
  }
 ],
 "metadata": {
  "kernelspec": {
   "display_name": "Python 3",
   "language": "python",
   "name": "python3"
  },
  "language_info": {
   "codemirror_mode": {
    "name": "ipython",
    "version": 3
   },
   "file_extension": ".py",
   "mimetype": "text/x-python",
   "name": "python",
   "nbconvert_exporter": "python",
   "pygments_lexer": "ipython3",
   "version": "3.8.3"
  }
 },
 "nbformat": 4,
 "nbformat_minor": 4
}
