{
 "cells": [
  {
   "cell_type": "markdown",
   "metadata": {},
   "source": [
    "# 61주차\n",
    "\n",
    "* [10942 팰린드롬](https://www.acmicpc.net/problem/10942)\n",
    "* [10211 Maximum Subarray](https://www.acmicpc.net/problem/10211)\n",
    "* [1074 Z](https://www.acmicpc.net/problem/1074)\n",
    "* [11725 트리의 부모찾기](https://www.acmicpc.net/problem/11725)\n",
    "* [14601 샤워실 타일깔기](https://www.acmicpc.net/problem/14601)"
   ]
  },
  {
   "cell_type": "markdown",
   "metadata": {},
   "source": [
    "## 10942 팰린드롬\n",
    "\n",
    "**문제로 이동** : [Baekjoon 팰린드롬](https://www.acmicpc.net/problem/10942)\n",
    "\n",
    "- 명우는 홍준이와 팰린드롬 놀이를 해보려고 한다\n",
    "- 홍준이는 자연수 N개를 칠판에 적고, 명우에게 M번 질문한다\n",
    "- 각 질문은 두 정수 S와 E로 나타내며 S번째 수부터 E번째까지 수가 팰린드롬을 이루는지 물어본다.\n",
    "- 명우는 각 질문마다 팰린드롬이다 아니라를 말해야한다"
   ]
  },
  {
   "cell_type": "code",
   "execution_count": null,
   "metadata": {},
   "outputs": [],
   "source": [
    "#시간초과\n",
    "import sys\n",
    "\n",
    "#input=sys.stdin.readline\n",
    "N=int(input())\n",
    "number=list(map(int,input().split()))\n",
    "question=int(input())\n",
    "\n",
    "def isPalindrom1(arr):\n",
    "    temp=arr[::-1]\n",
    "    if (temp==arr):\n",
    "        return 1\n",
    "    return 0\n",
    "\n",
    "def isPalindrom2(arr):\n",
    "    for i in range(len(arr)//2):\n",
    "        if (arr[i]!=arr[-1-i]):\n",
    "            return 0\n",
    "    return 1\n",
    "\n",
    "for _ in range(question):\n",
    "    S, E=map(int,input().split())\n",
    "    print(isPalindrom2(number[S-1:E]))"
   ]
  },
  {
   "cell_type": "code",
   "execution_count": null,
   "metadata": {},
   "outputs": [],
   "source": [
    "import sys\n",
    "\n",
    "#input=sys.stdin.readline\n",
    "N=int(input())\n",
    "number=list(map(int,input().split()))\n",
    "question=int(input())\n",
    "dp=[[0]*(N+1) for _ in range(N+1)]\n",
    "\n",
    "def isPalindrom(arr):\n",
    "    for i in range(len(arr)//2):\n",
    "        if (arr[i]!=arr[-1-i]):\n",
    "            return 0\n",
    "    return 1\n",
    "\n",
    "for _ in range(question):\n",
    "    S, E=map(int,input().split())\n",
    "    if (dp[S][E]!=0):\n",
    "        print(dp[S][E])\n",
    "    else:\n",
    "        dp[S][E]=isPalindrom(number[S-1:E])\n",
    "        print(dp[S][E])"
   ]
  },
  {
   "cell_type": "markdown",
   "metadata": {},
   "source": [
    "## 10211 Maximum Subarray\n",
    "\n",
    "**문제로 이동** : [Baekjoon Maximum Subarray](https://www.acmicpc.net/problem/10211)\n",
    "\n",
    "- 크기가 N인 정수형 배열 X의 부분배열 중 각 원소의 합이 가장 큰 부분 배열을 찾아라"
   ]
  },
  {
   "cell_type": "code",
   "execution_count": 5,
   "metadata": {},
   "outputs": [
    {
     "name": "stdout",
     "output_type": "stream",
     "text": [
      "2\n",
      "5\n",
      "1 2 3 4 5\n",
      "15\n",
      "5\n",
      "2 1 -2 3 -5\n",
      "4\n"
     ]
    }
   ],
   "source": [
    "import sys\n",
    "\n",
    "#input=sys.stdin.readline\n",
    "T=int(input())\n",
    "for _ in range(T):\n",
    "    N=int(input())\n",
    "    X=list(map(int,input().split()))\n",
    "    maxSum, thisSum=0,0\n",
    "    for i in range(N):\n",
    "        thisSum=max(thisSum+X[i], X[i])\n",
    "        maxSum=max(maxSum, thisSum)\n",
    "    print(maxSum)"
   ]
  },
  {
   "cell_type": "markdown",
   "metadata": {},
   "source": [
    "## 1074 Z\n",
    "\n",
    "**문제로 이동** : [Baekjoon Z](https://www.acmicpc.net/problem/1074)\n",
    "\n",
    "- 크기가 2^N\\*2^N인 2차원 배열을 Z모양으로 탐색하려고 한다\n",
    "- N이 주어질 때 r행 c열을 몇 번째로 방문하는지 출력하라"
   ]
  },
  {
   "cell_type": "code",
   "execution_count": 1,
   "metadata": {},
   "outputs": [
    {
     "name": "stdout",
     "output_type": "stream",
     "text": [
      "2 3 1\n",
      "[0, 1, 4, 5]\n",
      "[2, 3, 6, 7]\n",
      "[8, 9, 12, 13]\n",
      "[10, 11, 14, 15]\n",
      "11\n"
     ]
    }
   ],
   "source": [
    "#메모리초과\n",
    "import sys\n",
    "\n",
    "#input=sys.stdin.readline\n",
    "N,r,c=map(int,input().split())\n",
    "board=[[0]*(2**N) for _ in range(2**N)]\n",
    "count=0\n",
    "\n",
    "def setBoard(x, y, size):\n",
    "    global count\n",
    "    if (size==2):\n",
    "        board[x][y]=count\n",
    "        board[x][y+1]=count+1\n",
    "        board[x+1][y]=count+2\n",
    "        board[x+1][y+1]=count+3\n",
    "        count+=4\n",
    "        return\n",
    "    \n",
    "    divideSize=size//2\n",
    "    setBoard(x, y, divideSize)\n",
    "    setBoard(x,y+divideSize,divideSize)\n",
    "    setBoard(x+divideSize, y, divideSize)\n",
    "    setBoard(x+divideSize, y+divideSize, divideSize)\n",
    "    \n",
    "setBoard(0,0,2**N)\n",
    "print(*board, sep='\\n')\n",
    "print(board[r][c])"
   ]
  },
  {
   "cell_type": "code",
   "execution_count": 4,
   "metadata": {},
   "outputs": [
    {
     "name": "stdout",
     "output_type": "stream",
     "text": [
      "2 3 1\n",
      "2\n",
      "11\n",
      "11\n"
     ]
    }
   ],
   "source": [
    "import sys\n",
    "\n",
    "#input=sys.stdin.readline\n",
    "N,r,c=map(int,input().split())\n",
    "\n",
    "def getRes(N, r, c):\n",
    "    if N==0:\n",
    "        return 0\n",
    "    res=2*(r%2)+(c%2)+4*getRes(N-1, r//2, c//2)\n",
    "    return res\n",
    "\n",
    "print(getRes(N,r,c))"
   ]
  },
  {
   "cell_type": "markdown",
   "metadata": {},
   "source": [
    "## 11725 트리의 부모찾기\n",
    "\n",
    "**문제로 이동** : [Baekjoon 트리의 부모찾기](https://www.acmicpc.net/problem/11725)\n",
    "\n",
    "- 루트 없는 트리가 주어진다\n",
    "- 트리의 루트를 1이라고 정했을 때 각 노드의 부모를 구하는 프로그램을 작성하라"
   ]
  },
  {
   "cell_type": "code",
   "execution_count": null,
   "metadata": {},
   "outputs": [],
   "source": []
  },
  {
   "cell_type": "markdown",
   "metadata": {},
   "source": [
    "## 14601 샤워실 타일깔기\n",
    "\n",
    "**문제로 이동** : [Baekjoon 샤워실 타일깔기](https://www.acmicpc.net/problem/14601)\n",
    "\n",
    "- 배수구를 제외하고 한 변이 2의 제곱수인 정사각형을 채우고자 한다\n",
    "- 3칸을 차지하는 ㄱ자 타일로 배수구 제외하고 정사각형을 채우자"
   ]
  },
  {
   "cell_type": "code",
   "execution_count": null,
   "metadata": {},
   "outputs": [],
   "source": [
    "import sys\n",
    "\n",
    "#input=sys.stdin.readline\n",
    "k=int(input())\n",
    "size = 2**k\n",
    "input_x,input_y = map(int,input().split())\n",
    "x = size-input_y\n",
    "y = input_x-1\n",
    "board = [[0 for _ in range(size)] for _ in range(size)]\n",
    "board[x][y] = -1\n",
    "\n",
    "def haveBlank(x,y,size):\n",
    "    for i in range(x, x+size):\n",
    "        for j in range(y, y+size):\n",
    "            if board[i][j]==-1 or board[i][j]!=0:\n",
    "                return True\n",
    "    return False\n",
    "\n",
    "def recursion(x,y,size):\n",
    "    global tileNum\n",
    "    tileNum += 1\n",
    "    divideNum = size//2\n",
    "    if (not haveBlank(x, y, divideNum)):\n",
    "        board[x+divideNum-1][y+divideNum-1]=tileNum\n",
    "    if (not haveBlank(x+divideNum, y, divideNum)):\n",
    "        board[x+divideNum][y+divideNum-1]=tileNum\n",
    "    if (not haveBlank(x, y+divideNum, divideNum)):\n",
    "        board[x+divideNum-1][y+divideNum]=tileNum\n",
    "    if (not haveBlank(x+divideNum, y+divideNum, divideNum)):\n",
    "        board[x+divideNum][y+divideNum]=tileNum\n",
    " \n",
    "    if size == 2:\n",
    "        return\n",
    "    recursion(x,y,divideNum)\n",
    "    recursion(x+divideNum,y,divideNum)\n",
    "    recursion(x,y+divideNum,divideNum)\n",
    "    recursion(x+divideNum,y+divideNum,divideNum)\n",
    "    \n",
    "\n",
    "tileNum = 0\n",
    "recursion(0,0,size)\n",
    "for row in board:\n",
    "    print(*row)"
   ]
  },
  {
   "cell_type": "code",
   "execution_count": null,
   "metadata": {},
   "outputs": [],
   "source": []
  }
 ],
 "metadata": {
  "kernelspec": {
   "display_name": "Python 3",
   "language": "python",
   "name": "python3"
  },
  "language_info": {
   "codemirror_mode": {
    "name": "ipython",
    "version": 3
   },
   "file_extension": ".py",
   "mimetype": "text/x-python",
   "name": "python",
   "nbconvert_exporter": "python",
   "pygments_lexer": "ipython3",
   "version": "3.8.3"
  }
 },
 "nbformat": 4,
 "nbformat_minor": 4
}
