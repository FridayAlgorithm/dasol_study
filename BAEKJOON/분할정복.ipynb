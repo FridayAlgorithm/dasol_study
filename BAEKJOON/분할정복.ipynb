{
 "cells": [
  {
   "cell_type": "code",
   "execution_count": 18,
   "metadata": {},
   "outputs": [
    {
     "name": "stdout",
     "output_type": "stream",
     "text": [
      "8\n",
      "1 1 0 0 0 0 1 1\n",
      "1 1 0 0 0 0 1 1\n",
      "0 0 0 0 1 1 0 0\n",
      "0 0 0 0 1 1 0 0\n",
      "1 0 0 0 1 1 1 1\n",
      "0 1 0 0 1 1 1 1\n",
      "0 0 1 1 1 1 1 1\n",
      "0 0 1 1 1 1 1 1\n",
      "9\n",
      "7\n"
     ]
    }
   ],
   "source": [
    "#2630 색종이 만들기\n",
    "paper=[]\n",
    "bcount=0; wcount=0\n",
    "def getColor (coll, colr, rowl, rowr):\n",
    "    global bcount\n",
    "    global wcount\n",
    "    sum=0\n",
    "    size = (colr-coll+1)*(rowr-rowl+1)\n",
    "    for i in range(coll,colr+1):\n",
    "        for j in range(rowl,rowr+1):\n",
    "            sum+=paper[i][j]\n",
    "    if (sum==size): \n",
    "        bcount+=1\n",
    "        return\n",
    "    elif (sum==0): \n",
    "        wcount+=1\n",
    "        return\n",
    "    else:\n",
    "        colMid = int((colr+coll)/2)\n",
    "        rowMid = int((rowr+rowl)/2)\n",
    "        getColor(coll,colMid,rowl,rowMid)\n",
    "        getColor(coll,colMid,rowMid+1,rowr)\n",
    "        getColor(colMid+1,colr,rowl,rowMid)\n",
    "        getColor(colMid+1,colr,rowMid+1,rowr)\n",
    "        \n",
    "N=int(input())\n",
    "for i in range(N):\n",
    "    a=list(map(int,input().split()))\n",
    "    paper.append(a)\n",
    "getColor(0,N-1,0,N-1)\n",
    "print(wcount)\n",
    "print(bcount)"
   ]
  },
  {
   "cell_type": "code",
   "execution_count": 35,
   "metadata": {},
   "outputs": [
    {
     "name": "stdout",
     "output_type": "stream",
     "text": [
      "8\n",
      "11110000\n",
      "11110000\n",
      "00011100\n",
      "00011100\n",
      "11110000\n",
      "11110000\n",
      "11110011\n",
      "11110011\n",
      "((110(0101))(0010)1(0001))"
     ]
    }
   ],
   "source": [
    "#1992 쿼드트리\n",
    "tree=[]\n",
    "def getCompress (coll, colr, rowl, rowr):\n",
    "    sum=0\n",
    "    size = (colr-coll+1)*(rowr-rowl+1)\n",
    "    for i in range(coll,colr+1):\n",
    "        for j in range(rowl,rowr+1):\n",
    "            sum+=int(tree[i][j])\n",
    "    if (sum==size): \n",
    "        print(1,end='')\n",
    "        return\n",
    "    elif (sum==0): \n",
    "        print(0,end='')\n",
    "        return\n",
    "    else:\n",
    "        colMid = int((colr+coll)/2)\n",
    "        rowMid = int((rowr+rowl)/2)\n",
    "        print(\"(\",end='')\n",
    "        getCompress(coll,colMid,rowl,rowMid)\n",
    "        getCompress(coll,colMid,rowMid+1,rowr)\n",
    "        getCompress(colMid+1,colr,rowl,rowMid)\n",
    "        getCompress(colMid+1,colr,rowMid+1,rowr)\n",
    "        print(\")\",end='')\n",
    "        \n",
    "N=int(input())\n",
    "for i in range(N):\n",
    "    a=list(input())\n",
    "    tree.append(a)\n",
    "getCompress(0,N-1,0,N-1)"
   ]
  },
  {
   "cell_type": "code",
   "execution_count": 1,
   "metadata": {},
   "outputs": [
    {
     "name": "stdout",
     "output_type": "stream",
     "text": [
      "9\n",
      "0 0 0 1 1 1 -1 -1 -1\n",
      "0 0 0 1 1 1 -1 -1 -1\n",
      "0 0 0 1 1 1 -1 -1 -1\n",
      "1 1 1 0 0 0 0 0 0\n",
      "1 1 1 0 0 0 0 0 0\n",
      "1 1 1 0 0 0 0 0 0\n",
      "0 1 -1 0 1 -1 0 1 -1\n",
      "0 -1 1 0 1 -1 0 1 -1\n",
      "0 1 -1 1 0 -1 0 1 -1\n",
      "10\n",
      "12\n",
      "11\n"
     ]
    }
   ],
   "source": [
    "#1780 종이의 개수\n",
    "N = int(input())\n",
    "paper = [list(map(int, input().split())) for _ in range(N)]\n",
    "minus=0; zero=0; one=0\n",
    "\n",
    "def clip_paper(x, y, n):\n",
    "    global minus, zero, one\n",
    "    \n",
    "    num_check = paper[x][y]\n",
    "    for i in range(x, x + n):\n",
    "        for j in range(y, y + n):\n",
    "            if(paper[i][j] != num_check):\n",
    "                for k in range(3):\n",
    "                    for l in range(3):\n",
    "                        clip_paper(x + k * n//3, y + l * n//3, n//3)\n",
    "                return\n",
    "            \n",
    "    if(num_check == -1):\n",
    "        minus += 1\n",
    "    elif(num_check == 0):\n",
    "        zero += 1\n",
    "    else:\n",
    "        one+= 1\n",
    "        \n",
    "clip_paper(0, 0, N)\n",
    "print(minus)\n",
    "print(zero)\n",
    "print(one)"
   ]
  },
  {
   "cell_type": "code",
   "execution_count": 2,
   "metadata": {},
   "outputs": [
    {
     "name": "stdout",
     "output_type": "stream",
     "text": [
      "10 11 12\n",
      "4\n"
     ]
    }
   ],
   "source": [
    "#1629 곱셈\n",
    "A,B,C=map(int,input().split())\n",
    "\n",
    "def times(a, b):\n",
    "    if (b==0):\n",
    "        return 1\n",
    "    elif (b==1):\n",
    "        return a%C\n",
    "    else:\n",
    "        temp = times(a,b//2)\n",
    "        if (b%2==0):\n",
    "            return temp*temp%C\n",
    "        else:\n",
    "            return temp*temp*a%C\n",
    "            \n",
    "print(times(A,B))"
   ]
  },
  {
   "cell_type": "code",
   "execution_count": null,
   "metadata": {},
   "outputs": [],
   "source": [
    "#11401 이항 계수 3\n",
    "# ???? "
   ]
  },
  {
   "cell_type": "code",
   "execution_count": 1,
   "metadata": {},
   "outputs": [
    {
     "name": "stdout",
     "output_type": "stream",
     "text": [
      "3 2\n",
      "1 2\n",
      "3 4\n",
      "5 6\n",
      "2 3\n",
      "-1 -2 0\n",
      "0 0 3\n",
      "-1 -2 6 \n",
      "-3 -6 12 \n",
      "-5 -10 18 \n"
     ]
    }
   ],
   "source": [
    "#10830 행렬 곱셈\n",
    "N, M = map(int,input().split())\n",
    "A=[]\n",
    "for _ in range(N):\n",
    "    A.append(list(map(int,input().split())))\n",
    "\n",
    "M, K = map(int,input().split())\n",
    "B=[]\n",
    "for _ in range(M):\n",
    "    B.append(list(map(int,input().split())))\n",
    "\n",
    "C=[[0 for _ in range(K)] for _ in range(N)]\n",
    "for i in range(N):\n",
    "    for j in range(K):\n",
    "        for k in range(M):\n",
    "            C[i][j] += A[i][k] * B[k][j]\n",
    "\n",
    "for i in C:\n",
    "    for j in i:\n",
    "        print(j, end = ' ')\n",
    "    print()"
   ]
  },
  {
   "cell_type": "code",
   "execution_count": null,
   "metadata": {},
   "outputs": [],
   "source": []
  }
 ],
 "metadata": {
  "kernelspec": {
   "display_name": "Python 3",
   "language": "python",
   "name": "python3"
  },
  "language_info": {
   "codemirror_mode": {
    "name": "ipython",
    "version": 3
   },
   "file_extension": ".py",
   "mimetype": "text/x-python",
   "name": "python",
   "nbconvert_exporter": "python",
   "pygments_lexer": "ipython3",
   "version": "3.8.3"
  }
 },
 "nbformat": 4,
 "nbformat_minor": 4
}
