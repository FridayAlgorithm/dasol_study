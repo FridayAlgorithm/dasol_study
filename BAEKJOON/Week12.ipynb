{
 "cells": [
  {
   "cell_type": "markdown",
   "metadata": {},
   "source": [
    "# 12주차 \n",
    "\n",
    "[12주차 문제집](https://www.acmicpc.net/group/workbook/view/10320/31522)\n",
    "\n",
    "* [2293 동전 1](https://www.acmicpc.net/problem/2293)\n",
    "* [1654 랜선 자르기](https://www.acmicpc.net/problem/1654)\n",
    "* [2217 로프](https://www.acmicpc.net/problem/2217)\n",
    "* [2805 나무 자르기](https://www.acmicpc.net/problem/2805)\n",
    "* [2636 치즈](https://www.acmicpc.net/problem/2636)\n",
    "* [11727 2Xn 타일링 2](https://www.acmicpc.net/problem/11727)\n",
    "* [2529 부등호](https://www.acmicpc.net/problem/2529)\n",
    "* [2512 예산](https://www.acmicpc.net/problem/2512)\n",
    "\n",
    "#### 지난 주에 해결 못한 문제\n",
    "* [2661 좋은수열](https://www.acmicpc.net/problem/2661)\n",
    "* [1644 소수의 연속합](https://www.acmicpc.net/problem/1644)\n"
   ]
  },
  {
   "cell_type": "markdown",
   "metadata": {},
   "source": [
    "## 2661 좋은 수열\n",
    "\n",
    "**문제로 이동** : [Baekjoon 좋은 수열](https://www.acmicpc.net/problem/2661)\n",
    "\n",
    "??? - 리스트 슬라이싱"
   ]
  },
  {
   "cell_type": "code",
   "execution_count": null,
   "metadata": {},
   "outputs": [],
   "source": [
    "def backTracking(index):\n",
    "    for i in range(1, index//2)+1):\n",
    "        #-i~0 == -2*i~-i\n",
    "        if s[-i:]==s[-2*i:-i]:\n",
    "            return -1\n",
    "    if index==n:\n",
    "        for i in range(n):\n",
    "            print(s[i], end='')\n",
    "            return 0\n",
    "    for i in range(1,4):\n",
    "        s.append(i)\n",
    "        if (backTracking(index+1)==0):\n",
    "            return 0\n",
    "        s.pop()\n",
    "\n",
    "n=int(input())\n",
    "s=[]\n",
    "backTracking(0)"
   ]
  },
  {
   "cell_type": "markdown",
   "metadata": {},
   "source": [
    "## 2293 동전 1\n",
    "\n",
    "**문제로 이동** : [Baekjoon 동전 1](https://www.acmicpc.net/problem/2293)\n",
    "\n",
    "????? => 다음주"
   ]
  },
  {
   "cell_type": "code",
   "execution_count": 31,
   "metadata": {},
   "outputs": [
    {
     "ename": "SyntaxError",
     "evalue": "invalid syntax (<ipython-input-31-bee0ccc5d8a1>, line 4)",
     "output_type": "error",
     "traceback": [
      "\u001b[1;36m  File \u001b[1;32m\"<ipython-input-31-bee0ccc5d8a1>\"\u001b[1;36m, line \u001b[1;32m4\u001b[0m\n\u001b[1;33m    //??\u001b[0m\n\u001b[1;37m    ^\u001b[0m\n\u001b[1;31mSyntaxError\u001b[0m\u001b[1;31m:\u001b[0m invalid syntax\n"
     ]
    }
   ],
   "source": [
    "n,k=map(int,input().split())\n",
    "coin=[int(input()) for _ in range(n)]\n",
    "memo=[0 for _ in range(k+1)]\n",
    "#???\n",
    "print(memo[k])"
   ]
  },
  {
   "cell_type": "markdown",
   "metadata": {},
   "source": [
    "## 1654 랜선 자르기\n",
    "\n",
    "**문제로 이동** : [Baekjoon 랜선 자르기](https://www.acmicpc.net/problem/1654)\n"
   ]
  },
  {
   "cell_type": "code",
   "execution_count": 5,
   "metadata": {},
   "outputs": [
    {
     "name": "stdout",
     "output_type": "stream",
     "text": [
      "4 11\n",
      "802\n",
      "743\n",
      "457\n",
      "539\n",
      "200\n"
     ]
    }
   ],
   "source": [
    "import sys\n",
    "\n",
    "K, N = map(int, input().split())\n",
    "#length = [int(sys.stdin.readline()) for _ in range(K)]\n",
    "length=[int(input()) for _ in range(K)]\n",
    "start, end = 1, max(length)\n",
    "\n",
    "while (start <= end):\n",
    "    mid=(start+end)//2\n",
    "    line=0\n",
    "    for i in length:\n",
    "        line+=i//mid\n",
    "        \n",
    "    if (line >= N):\n",
    "        start=mid+1\n",
    "    else:\n",
    "        end=mid-1\n",
    "print(end)"
   ]
  },
  {
   "cell_type": "markdown",
   "metadata": {},
   "source": [
    "## 1644 소수의 연속합\n",
    "\n",
    "**문제로 이동** : [Baekjoon 소수의 연속합](https://www.acmicpc.net/problem/1644)\n",
    "\n",
    "투포인터 : https://claude-u.tistory.com/393\n",
    "\n",
    "런타임에러......"
   ]
  },
  {
   "cell_type": "code",
   "execution_count": 52,
   "metadata": {},
   "outputs": [
    {
     "name": "stdout",
     "output_type": "stream",
     "text": [
      "41\n",
      "primeList  [2, 3, 5, 7, 11, 13, 17, 19, 23, 29, 31, 37, 41]\n",
      "sumPrime  [0, 2, 5, 10, 17, 28, 41, 58, 77, 100, 129, 160, 197, 238]\n",
      "3\n"
     ]
    }
   ],
   "source": [
    "n = int(input())\n",
    " \n",
    "isPrime = [True] * (n+1)\n",
    "for i in range(2, int(n**0.5+1)):\n",
    "    if isPrime[i]:\n",
    "        for j in range(i+i,n+1,i):\n",
    "            isPrime[j]=False\n",
    "\n",
    "primeList=[]\n",
    "for i in range(2,n+1):\n",
    "    if (isPrime[i]):\n",
    "        primeList.append(i)\n",
    "\n",
    "sumPrime=[0]*(len(primeList)+1)\n",
    "for i in range(1,len(primeList)+1):\n",
    "    sumPrime[i]=sumPrime[i-1]+primeList[i-1]\n",
    "\n",
    "print(\"primeList \",primeList)\n",
    "print(\"sumPrime \",sumPrime)\n",
    "\n",
    "#투포인터\n",
    "res=0; start=0; end=1\n",
    "while (start <len(sumPrime) and primeList[end-1]<=n):\n",
    "    if sumPrime[end]-sumPrime[start]==n:\n",
    "        res+=1\n",
    "        start+=1\n",
    "    elif sumPrime[end]-sumPrime[start]>n:\n",
    "        start+=1\n",
    "    else:\n",
    "        if end<len(sumPrime)-1:\n",
    "            end+=1\n",
    "        else:\n",
    "            start+=1\n",
    "print(res)"
   ]
  },
  {
   "cell_type": "markdown",
   "metadata": {},
   "source": [
    "## 2217 로프\n",
    "\n",
    "**문제로 이동** : [Baekjoon 로프](https://www.acmicpc.net/problem/2217)\n"
   ]
  },
  {
   "cell_type": "code",
   "execution_count": 2,
   "metadata": {},
   "outputs": [
    {
     "name": "stdout",
     "output_type": "stream",
     "text": [
      "2\n",
      "10\n",
      "15\n",
      "20\n"
     ]
    }
   ],
   "source": [
    "N=int(input())\n",
    "rope=[int(input()) for _ in range(N)]\n",
    "rope.sort()\n",
    "for i in range (N):\n",
    "    rope[i]=rope[i]*(N-i)\n",
    "print(max(rope))"
   ]
  },
  {
   "cell_type": "markdown",
   "metadata": {},
   "source": [
    "## 2805 나무 자르기\n",
    "\n",
    "**문제로 이동** : [Baekjoon 나무 자르기](https://www.acmicpc.net/problem/2805)\n",
    "\n",
    "시간초과 => pypy로 해결\n"
   ]
  },
  {
   "cell_type": "code",
   "execution_count": 6,
   "metadata": {},
   "outputs": [
    {
     "name": "stdout",
     "output_type": "stream",
     "text": [
      "4 7\n",
      "20 15 10 17\n",
      "15\n"
     ]
    }
   ],
   "source": [
    "N,M = map(int, input().split())\n",
    "height = list(map(int,input().split()))\n",
    "start, end = 1, max(height)\n",
    "\n",
    "while (start <= end):\n",
    "    mid=(start+end)//2\n",
    "    tree=0\n",
    "    for i in height:\n",
    "        if (i>=mid):\n",
    "            tree+=(i-mid)\n",
    "        \n",
    "    if (tree >= M):\n",
    "        start=mid+1\n",
    "    else:\n",
    "        end=mid-1\n",
    "print(end)"
   ]
  },
  {
   "cell_type": "markdown",
   "metadata": {},
   "source": [
    "## 2636 치즈\n",
    "\n",
    "**문제로 이동** : [Baekjoon 치즈](https://www.acmicpc.net/problem/2636)\n",
    "\n",
    "치즈 내부?? -> 참고 : https://hooongs.tistory.com/264\n"
   ]
  },
  {
   "cell_type": "code",
   "execution_count": 25,
   "metadata": {},
   "outputs": [
    {
     "name": "stdout",
     "output_type": "stream",
     "text": [
      "13 12\n",
      "0 0 0 0 0 0 0 0 0 0 0 0\n",
      "0 0 0 0 0 0 0 0 0 0 0 0\n",
      "0 0 0 0 0 0 0 1 1 0 0 0\n",
      "0 1 1 1 0 0 0 1 1 0 0 0\n",
      "0 1 1 1 1 1 1 0 0 0 0 0\n",
      "0 1 1 1 1 1 0 1 1 0 0 0\n",
      "0 1 1 1 1 0 0 1 1 0 0 0\n",
      "0 0 1 1 0 0 0 1 1 0 0 0\n",
      "0 0 1 1 1 1 1 1 1 0 0 0\n",
      "0 0 1 1 1 1 1 1 1 0 0 0\n",
      "0 0 1 1 1 1 1 1 1 0 0 0\n",
      "0 0 1 1 1 1 1 1 1 0 0 0\n",
      "0 0 0 0 0 0 0 0 0 0 0 0\n",
      "3\n",
      "5\n"
     ]
    }
   ],
   "source": [
    "from _collections import deque\n",
    "\n",
    "dx=[-1, 1, 0, 0]\n",
    "dy=[0, 0, -1, 1]\n",
    "\n",
    "def cheeseSolution():\n",
    "    visited=[[False]*c for _ in range(r)]\n",
    "    queue=deque()\n",
    "    queue.append([0,0])\n",
    "    visited[0][0]=True\n",
    "    cnt=0\n",
    "    while queue:\n",
    "        y,x = queue.popleft()\n",
    "        for i in range(4):\n",
    "            nx=x+dx[i]\n",
    "            ny=y+dy[i]\n",
    "            if (0<=ny<r and 0<=nx<c and not visited[ny][nx]):\n",
    "                if board[ny][nx]==0:\n",
    "                    visited[ny][nx]=True\n",
    "                    queue.append([ny,nx])\n",
    "                elif board[ny][nx]==1:\n",
    "                    board[ny][nx]=0\n",
    "                    cnt+=1\n",
    "                    visited[ny][nx]=True\n",
    "    cheese.append(cnt)\n",
    "    return cnt\n",
    "\n",
    "r,c=map(int,input().split())\n",
    "board=[list(map(int,input().split())) for _ in range(r)]\n",
    "cheese=[]\n",
    "\n",
    "time=0\n",
    "while True:\n",
    "    time+=1\n",
    "    cnt = cheeseSolution()\n",
    "    if cnt==0:\n",
    "        break\n",
    "print(time-1)\n",
    "print(cheese[-2])"
   ]
  },
  {
   "cell_type": "markdown",
   "metadata": {},
   "source": [
    "## 11727 2Xn 타일링 2\n",
    "\n",
    "**문제로 이동** : [Baekjoon 2xn 타일링 2](https://www.acmicpc.net/problem/11727)\n",
    "\n",
    "Index Error"
   ]
  },
  {
   "cell_type": "code",
   "execution_count": 55,
   "metadata": {},
   "outputs": [
    {
     "name": "stdout",
     "output_type": "stream",
     "text": [
      "12\n",
      "2731\n"
     ]
    }
   ],
   "source": [
    "n=int(input())\n",
    "memo=[0]*(n+1)\n",
    "memo[1]=1; memo[2]=3\n",
    "for i in range(3, n+1):\n",
    "    memo[i]=(memo[i-2]*2+memo[i-1])%10007\n",
    "print(memo[n])"
   ]
  },
  {
   "cell_type": "markdown",
   "metadata": {},
   "source": [
    "## 2529 부등호\n",
    "\n",
    "**문제로 이동** : [Baekjoon 부등호](https://www.acmicpc.net/problem/2529)\n",
    "\n",
    "https://rebas.kr/755 [PROJECT REBAS]\n",
    "\n",
    "????????????????"
   ]
  },
  {
   "cell_type": "code",
   "execution_count": 1,
   "metadata": {},
   "outputs": [
    {
     "name": "stdout",
     "output_type": "stream",
     "text": [
      "2\n",
      "< >\n",
      "897\n",
      "021\n"
     ]
    }
   ],
   "source": [
    "def possible(i, j, k):\n",
    "    if k == '<':\n",
    "        return i < j\n",
    "    if k == '>':\n",
    "        return i > j\n",
    "    return True\n",
    "\n",
    "def solve(cnt, s):\n",
    "    global mx, mn\n",
    "    if cnt == n+1:\n",
    "        if not len(mn):\n",
    "            mn = s\n",
    "        else:\n",
    "            mx = s\n",
    "        return\n",
    "    for i in range(10):\n",
    "        if not c[i]:\n",
    "            if cnt == 0 or possible(s[-1], str(i), op[cnt-1]):\n",
    "                c[i] = True\n",
    "                solve(cnt+1, s+str(i))\n",
    "                c[i] = False\n",
    "\n",
    "\n",
    "n = int(input())\n",
    "op = input().split()\n",
    "c = [False]*10\n",
    "mx, mn = \"\", \"\"                \n",
    "solve(0, \"\")\n",
    "print(mx, mn, sep='\\n')"
   ]
  },
  {
   "cell_type": "markdown",
   "metadata": {},
   "source": [
    "## 2512 예산\n",
    "\n",
    "**문제로 이동** : [Baekjoon 예산](https://www.acmicpc.net/problem/2512)"
   ]
  },
  {
   "cell_type": "code",
   "execution_count": 22,
   "metadata": {},
   "outputs": [
    {
     "name": "stdout",
     "output_type": "stream",
     "text": [
      "4\n",
      "120 110 140 150\n",
      "485\n",
      "127\n"
     ]
    }
   ],
   "source": [
    "N=int(input())\n",
    "budget=list(map(int,input().split()))\n",
    "totalBud=int(input())\n",
    "budget.sort()\n",
    "start, end=0, max(budget)\n",
    "maxBud=0\n",
    "while (start<=end):\n",
    "    mid=(start+end)//2\n",
    "    temp=0\n",
    "    for i in budget:\n",
    "        if (i>=mid):\n",
    "            temp+=mid\n",
    "        else:\n",
    "            temp+=i\n",
    "    if (temp<=totalBud):\n",
    "        start=mid+1\n",
    "        maxBud=mid\n",
    "    else:\n",
    "        end=mid-1\n",
    "print(maxBud)"
   ]
  },
  {
   "cell_type": "code",
   "execution_count": null,
   "metadata": {},
   "outputs": [],
   "source": []
  }
 ],
 "metadata": {
  "kernelspec": {
   "display_name": "Python 3",
   "language": "python",
   "name": "python3"
  },
  "language_info": {
   "codemirror_mode": {
    "name": "ipython",
    "version": 3
   },
   "file_extension": ".py",
   "mimetype": "text/x-python",
   "name": "python",
   "nbconvert_exporter": "python",
   "pygments_lexer": "ipython3",
   "version": "3.8.3"
  }
 },
 "nbformat": 4,
 "nbformat_minor": 4
}
