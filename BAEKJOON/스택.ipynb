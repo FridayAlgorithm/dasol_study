{
 "cells": [
  {
   "cell_type": "code",
   "execution_count": 14,
   "metadata": {},
   "outputs": [
    {
     "name": "stdout",
     "output_type": "stream",
     "text": [
      "14\n",
      "push 1\n",
      "push 2\n",
      "top\n",
      "2\n",
      "size\n",
      "2\n",
      "empty\n",
      "0\n",
      "pop\n",
      "2\n",
      "pop\n",
      "1\n",
      "pop\n",
      "-1\n",
      "size\n",
      "0\n",
      "empty\n",
      "1\n",
      " pop\n",
      "-1\n",
      "push 3\n",
      "empty\n",
      "0\n",
      "top\n",
      "3\n"
     ]
    }
   ],
   "source": [
    "#10828 스택\n",
    "#시간 초과\n",
    "stack=[]\n",
    "def push (x):\n",
    "    stack.append(x)\n",
    "    \n",
    "def pop ():\n",
    "    if (len(stack)<=0): return -1\n",
    "    else : \n",
    "        a = stack[len(stack)-1]\n",
    "        del(stack[len(stack)-1])\n",
    "        return a\n",
    "\n",
    "def size ():\n",
    "    return len(stack)\n",
    "\n",
    "def empty ():\n",
    "    if (len(stack)==0): return 1\n",
    "    else: return 0\n",
    "\n",
    "def top ():\n",
    "    if (len(stack)<=0): return -1\n",
    "    else: return stack[len(stack)-1]\n",
    "\n",
    "N = int(input())\n",
    "for i in range (N):\n",
    "    command = list(input().split())\n",
    "    if (command[0] == 'push'):\n",
    "        push(command[1])\n",
    "    elif (command[0] == 'pop'):\n",
    "        print(pop())\n",
    "    elif (command[0] == 'size'):\n",
    "        print(size())\n",
    "    elif (command[0] == 'empty'):\n",
    "        print(empty())\n",
    "    elif (command[0] == 'top'):\n",
    "        print(top())\n",
    "    "
   ]
  },
  {
   "cell_type": "code",
   "execution_count": 5,
   "metadata": {},
   "outputs": [
    {
     "name": "stdout",
     "output_type": "stream",
     "text": [
      "7\n",
      "pop\n",
      "-1\n",
      "top\n",
      "-1\n",
      "push 123\n",
      "top\n",
      "123\n",
      "pop\n",
      "123\n",
      "top\n",
      "-1\n",
      "pop\n",
      "-1\n"
     ]
    }
   ],
   "source": [
    "#10828 스택\n",
    "# 시간초과\n",
    "stack=[]\n",
    "N = int(input())\n",
    "for i in range (N):\n",
    "    length = len(stack)\n",
    "    command = list(input().split())\n",
    "    if (command[0] == 'push'):\n",
    "        stack.append(command[1])\n",
    "    elif (command[0] == 'pop'):\n",
    "        if (length<=0): print(-1)\n",
    "        else:\n",
    "            print(stack.pop())\n",
    "    elif (command[0] == 'size'):\n",
    "        print(length)\n",
    "    elif (command[0] == 'empty'):\n",
    "        if (length==0): print(1)\n",
    "        else: print(0)\n",
    "    elif (command[0] == 'top'):\n",
    "        if (length<=0): print(-1)\n",
    "        else:\n",
    "            print(stack[-1])"
   ]
  },
  {
   "cell_type": "code",
   "execution_count": 20,
   "metadata": {},
   "outputs": [
    {
     "name": "stdout",
     "output_type": "stream",
     "text": [
      "10\n",
      "1\n",
      "3\n",
      "5\n",
      "4\n",
      "0\n",
      "0\n",
      "7\n",
      "0\n",
      "0\n",
      "6\n",
      "7\n"
     ]
    }
   ],
   "source": [
    "#10773 제로\n",
    "stack=[]\n",
    "sum=0\n",
    "K = int(input())\n",
    "for i in range(K):\n",
    "    n=int(input())\n",
    "    if (n==0):\n",
    "        stack.pop()\n",
    "    else :\n",
    "        stack.append(n)\n",
    "        \n",
    "for i in range (K):\n",
    "    if (len(stack)>0):\n",
    "        top = stack.pop()\n",
    "        sum+=top\n",
    "    \n",
    "print(sum)"
   ]
  },
  {
   "cell_type": "code",
   "execution_count": null,
   "metadata": {},
   "outputs": [],
   "source": []
  }
 ],
 "metadata": {
  "kernelspec": {
   "display_name": "Python 3",
   "language": "python",
   "name": "python3"
  },
  "language_info": {
   "codemirror_mode": {
    "name": "ipython",
    "version": 3
   },
   "file_extension": ".py",
   "mimetype": "text/x-python",
   "name": "python",
   "nbconvert_exporter": "python",
   "pygments_lexer": "ipython3",
   "version": "3.8.3"
  }
 },
 "nbformat": 4,
 "nbformat_minor": 4
}
