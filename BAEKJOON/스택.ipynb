{
 "cells": [
  {
   "cell_type": "code",
   "execution_count": 4,
   "metadata": {},
   "outputs": [
    {
     "name": "stdout",
     "output_type": "stream",
     "text": [
      "15\n"
     ]
    },
    {
     "ename": "IndexError",
     "evalue": "list index out of range",
     "output_type": "error",
     "traceback": [
      "\u001b[1;31m---------------------------------------------------------------------------\u001b[0m",
      "\u001b[1;31mIndexError\u001b[0m                                Traceback (most recent call last)",
      "\u001b[1;32m<ipython-input-4-d7603f7efc33>\u001b[0m in \u001b[0;36m<module>\u001b[1;34m\u001b[0m\n\u001b[0;32m     27\u001b[0m \u001b[1;32mfor\u001b[0m \u001b[0mi\u001b[0m \u001b[1;32min\u001b[0m \u001b[0mrange\u001b[0m \u001b[1;33m(\u001b[0m\u001b[0mN\u001b[0m\u001b[1;33m)\u001b[0m\u001b[1;33m:\u001b[0m\u001b[1;33m\u001b[0m\u001b[1;33m\u001b[0m\u001b[0m\n\u001b[0;32m     28\u001b[0m     \u001b[0mcommand\u001b[0m \u001b[1;33m=\u001b[0m \u001b[0msys\u001b[0m\u001b[1;33m.\u001b[0m\u001b[0mstdin\u001b[0m\u001b[1;33m.\u001b[0m\u001b[0mreadline\u001b[0m\u001b[1;33m(\u001b[0m\u001b[1;33m)\u001b[0m\u001b[1;33m.\u001b[0m\u001b[0mrstrip\u001b[0m\u001b[1;33m(\u001b[0m\u001b[1;33m)\u001b[0m\u001b[1;33m.\u001b[0m\u001b[0msplit\u001b[0m\u001b[1;33m(\u001b[0m\u001b[1;33m)\u001b[0m\u001b[1;33m\u001b[0m\u001b[1;33m\u001b[0m\u001b[0m\n\u001b[1;32m---> 29\u001b[1;33m     \u001b[1;32mif\u001b[0m \u001b[1;33m(\u001b[0m\u001b[0mcommand\u001b[0m\u001b[1;33m[\u001b[0m\u001b[1;36m0\u001b[0m\u001b[1;33m]\u001b[0m \u001b[1;33m==\u001b[0m \u001b[1;34m'push'\u001b[0m\u001b[1;33m)\u001b[0m\u001b[1;33m:\u001b[0m\u001b[1;33m\u001b[0m\u001b[1;33m\u001b[0m\u001b[0m\n\u001b[0m\u001b[0;32m     30\u001b[0m         \u001b[0mpush\u001b[0m\u001b[1;33m(\u001b[0m\u001b[0mcommand\u001b[0m\u001b[1;33m[\u001b[0m\u001b[1;36m1\u001b[0m\u001b[1;33m]\u001b[0m\u001b[1;33m)\u001b[0m\u001b[1;33m\u001b[0m\u001b[1;33m\u001b[0m\u001b[0m\n\u001b[0;32m     31\u001b[0m     \u001b[1;32melif\u001b[0m \u001b[1;33m(\u001b[0m\u001b[0mcommand\u001b[0m\u001b[1;33m[\u001b[0m\u001b[1;36m0\u001b[0m\u001b[1;33m]\u001b[0m \u001b[1;33m==\u001b[0m \u001b[1;34m'pop'\u001b[0m\u001b[1;33m)\u001b[0m\u001b[1;33m:\u001b[0m\u001b[1;33m\u001b[0m\u001b[1;33m\u001b[0m\u001b[0m\n",
      "\u001b[1;31mIndexError\u001b[0m: list index out of range"
     ]
    }
   ],
   "source": [
    "#10828 스택\n",
    "#시간 초과\n",
    "stack=[]\n",
    "def push (x):\n",
    "    stack.append(x)\n",
    "    \n",
    "def pop ():\n",
    "    if (len(stack)<=0): return -1\n",
    "    else : \n",
    "        a = stack[len(stack)-1]\n",
    "        del(stack[len(stack)-1])\n",
    "        return a\n",
    "\n",
    "def size ():\n",
    "    return len(stack)\n",
    "\n",
    "def empty ():\n",
    "    if (len(stack)==0): return 1\n",
    "    else: return 0\n",
    "\n",
    "def top ():\n",
    "    if (len(stack)<=0): return -1\n",
    "    else: return stack[len(stack)-1]\n",
    "\n",
    "N = int(input())\n",
    "for i in range (N):\n",
    "    command = list(input().split())\n",
    "    if (command[0] == 'push'):\n",
    "        push(int(command[1]))\n",
    "    elif (command[0] == 'pop'):\n",
    "        print(pop())\n",
    "    elif (command[0] == 'size'):\n",
    "        print(size())\n",
    "    elif (command[0] == 'empty'):\n",
    "        print(empty())\n",
    "    elif (command[0] == 'top'):\n",
    "        print(top())\n",
    "    "
   ]
  },
  {
   "cell_type": "code",
   "execution_count": 3,
   "metadata": {},
   "outputs": [
    {
     "data": {
      "text/plain": [
       "'3.8.3 (default, Jul  2 2020, 17:30:36) [MSC v.1916 64 bit (AMD64)]'"
      ]
     },
     "execution_count": 3,
     "metadata": {},
     "output_type": "execute_result"
    }
   ],
   "source": [
    "#10828 스택\n",
    "import sys\n",
    "\n",
    "stack=[]\n",
    "N = int(input())\n",
    "for i in range (N):\n",
    "    command = list(sys.stdin.readline().split())\n",
    "    if (command[0] == 'push'):\n",
    "        stack.append(command[1])\n",
    "    elif (command[0] == 'pop'):\n",
    "        if (stack!=[]): print(stack.pop())\n",
    "        else:\n",
    "            print(-1)\n",
    "    elif (command[0] == 'size'):\n",
    "        print(len(stack))\n",
    "    elif (command[0] == 'empty'):\n",
    "        if (stack!=[]): print(0)\n",
    "        else:\n",
    "            print(1)\n",
    "    elif (command[0] == 'top'):\n",
    "        if (stack!=[]): print(stack[-1])\n",
    "        else:\n",
    "            print(-1)"
   ]
  },
  {
   "cell_type": "code",
   "execution_count": 20,
   "metadata": {},
   "outputs": [
    {
     "name": "stdout",
     "output_type": "stream",
     "text": [
      "10\n",
      "1\n",
      "3\n",
      "5\n",
      "4\n",
      "0\n",
      "0\n",
      "7\n",
      "0\n",
      "0\n",
      "6\n",
      "7\n"
     ]
    }
   ],
   "source": [
    "#10773 제로\n",
    "stack=[]\n",
    "sum=0\n",
    "K = int(input())\n",
    "for i in range(K):\n",
    "    n=int(input())\n",
    "    if (n==0):\n",
    "        stack.pop()\n",
    "    else :\n",
    "        stack.append(n)\n",
    "        \n",
    "for i in range (K):\n",
    "    if (len(stack)>0):\n",
    "        top = stack.pop()\n",
    "        sum+=top\n",
    "    \n",
    "print(sum)"
   ]
  },
  {
   "cell_type": "code",
   "execution_count": 3,
   "metadata": {},
   "outputs": [
    {
     "name": "stdout",
     "output_type": "stream",
     "text": [
      "4\n",
      "(((()())()\n",
      "NO\n",
      "(()())((()))\n",
      "YES\n",
      "()()()()(()()())()\n",
      "YES\n",
      "(()((())()(\n",
      "NO\n"
     ]
    }
   ],
   "source": [
    "#9012 괄호\n",
    "bool=False\n",
    "T=int(input())\n",
    "for i in range(T):\n",
    "    stack=[]; bool=False\n",
    "    a=list(input())\n",
    "    for i in a:\n",
    "        if (i=='('):\n",
    "            stack.append(1)\n",
    "        else:\n",
    "            if(stack):\n",
    "                stack.pop()\n",
    "            else:\n",
    "                print(\"NO\")\n",
    "                bool=True\n",
    "                break\n",
    "    if(stack):\n",
    "        print(\"NO\")\n",
    "    elif(not bool): \n",
    "        print(\"YES\")\n"
   ]
  },
  {
   "cell_type": "code",
   "execution_count": 2,
   "metadata": {},
   "outputs": [
    {
     "name": "stdout",
     "output_type": "stream",
     "text": [
      "[ first in ] ( first out ).\n",
      "yes\n",
      "A rope may form )( a trail in a maze.\n",
      "no\n",
      "([ (([( [ ] ) ( ) (( ))] )) ]).\n",
      "yes\n",
      ".\n"
     ]
    }
   ],
   "source": [
    "#4949 균형잡힌 세상\n",
    "import sys\n",
    "\n",
    "while (True):\n",
    "    stack=[]\n",
    "    isBalance=True\n",
    "    #sentence=list(sys.stdin.readline())\n",
    "    sentence=list(input())\n",
    "    if (sentence[0]=='.'): break\n",
    "    for a in sentence:\n",
    "        if (a=='(' or a=='['):\n",
    "            stack.append(a)\n",
    "        elif (a==')'):\n",
    "            if((not stack) or stack[-1]=='['):\n",
    "                isBalance=False\n",
    "                break\n",
    "            else:\n",
    "                stack.pop()\n",
    "        elif (a==']'):\n",
    "            if((not stack) or stack[-1]=='('):\n",
    "                isBalance=False\n",
    "                break\n",
    "            else:\n",
    "                stack.pop()\n",
    "    if((not stack) and isBalance):\n",
    "        print(\"yes\")\n",
    "    else:\n",
    "        print(\"no\")"
   ]
  },
  {
   "cell_type": "code",
   "execution_count": 7,
   "metadata": {},
   "outputs": [
    {
     "name": "stdout",
     "output_type": "stream",
     "text": [
      "8\n",
      "4\n",
      "3\n",
      "6\n",
      "8\n",
      "7\n",
      "5\n",
      "2\n",
      "1\n",
      "+\n",
      "+\n",
      "+\n",
      "+\n",
      "-\n",
      "-\n",
      "+\n",
      "+\n",
      "-\n",
      "+\n",
      "+\n",
      "-\n",
      "-\n",
      "-\n",
      "-\n",
      "-\n"
     ]
    }
   ],
   "source": [
    "#1874 스택수열\n",
    "n = int(input())\n",
    "stack=[]; res=[]\n",
    "count = 0\n",
    "poss = True\n",
    "for i in range(n):\n",
    "    num = int(input())\n",
    "    while (count < num):\n",
    "        count += 1\n",
    "        stack.append(count)\n",
    "        res.append('+')\n",
    "    if (stack[-1] == num):\n",
    "        stack.pop()\n",
    "        res.append('-')\n",
    "    else:\n",
    "        poss = False\n",
    "        \n",
    "if (not poss):\n",
    "    print('NO')\n",
    "else:\n",
    "    for i in res:\n",
    "        print(i)"
   ]
  },
  {
   "cell_type": "code",
   "execution_count": 5,
   "metadata": {},
   "outputs": [
    {
     "name": "stdout",
     "output_type": "stream",
     "text": [
      "4\n",
      "3 5 2 7\n",
      "5 7 7 -1 "
     ]
    }
   ],
   "source": [
    "#17298 오큰수\n",
    "N=int(input())\n",
    "numArr=list(map(int,input().split()))\n",
    "stack=[]\n",
    "res=[-1 for _ in range(N)]\n",
    "\n",
    "for i in range(N):\n",
    "    while (stack and numArr[stack[-1]]<numArr[i]):\n",
    "        res[stack.pop()]=numArr[i]\n",
    "    stack.append(i)\n",
    "\n",
    "for i in range(N):\n",
    "    print(res[i], end=' ')"
   ]
  },
  {
   "cell_type": "code",
   "execution_count": null,
   "metadata": {},
   "outputs": [],
   "source": []
  }
 ],
 "metadata": {
  "kernelspec": {
   "display_name": "Python 3",
   "language": "python",
   "name": "python3"
  },
  "language_info": {
   "codemirror_mode": {
    "name": "ipython",
    "version": 3
   },
   "file_extension": ".py",
   "mimetype": "text/x-python",
   "name": "python",
   "nbconvert_exporter": "python",
   "pygments_lexer": "ipython3",
   "version": "3.8.3"
  }
 },
 "nbformat": 4,
 "nbformat_minor": 4
}
