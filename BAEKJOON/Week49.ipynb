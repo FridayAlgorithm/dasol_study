{
 "cells": [
  {
   "cell_type": "markdown",
   "metadata": {},
   "source": [
    "# 49주차\n",
    "\n",
    "[49주차 문제집](https://www.acmicpc.net/group/workbook/view/10320/39974)\n",
    "\n",
    "* [11399 ATM](https://www.acmicpc.net/problem/11399)\n",
    "* [1012 유기농 배추](https://www.acmicpc.net/problem/1012)\n",
    "* [1912 연속합](https://www.acmicpc.net/problem/1912)\n",
    "* [12865 평범한 배낭](https://www.acmicpc.net/problem/12865)\n",
    "* [1300 k번째 수](https://www.acmicpc.net/problem/1300)\n",
    "* [1759 암호 만들기](https://www.acmicpc.net/problem/1759)"
   ]
  },
  {
   "cell_type": "markdown",
   "metadata": {},
   "source": [
    "## 11399 ATM\n",
    "\n",
    "**문제로 이동** : [Baekjoon ATM](https://www.acmicpc.net/problem/11399)\n",
    "\n",
    "- i번째 사람이 돈을 인출하는데 Pi분이 걸린다\n",
    "- 사람들이 줄을 서는 순서에 따라 돈을 인출하는데 필요한 시간 합이 달라진다\n",
    "- 줄을 서 있는 사람 수와 걸리는 시간이 주어질 때 돈을 인출하는데 필요한 시간의 최솟값을 구하는 프로그램을 작성하라"
   ]
  },
  {
   "cell_type": "code",
   "execution_count": 4,
   "metadata": {},
   "outputs": [
    {
     "name": "stdout",
     "output_type": "stream",
     "text": [
      "5\n",
      "3 1 4 3 2\n",
      "32\n"
     ]
    }
   ],
   "source": [
    "N=int(input())\n",
    "time=list(map(int,input().split()))\n",
    "time.sort()\n",
    "wait=[time[0]]\n",
    "for i in range(1,len(time)):\n",
    "    wait.append(wait[i-1]+time[i])\n",
    "print(sum(wait))"
   ]
  },
  {
   "cell_type": "markdown",
   "metadata": {},
   "source": [
    "## 1012 유기농 배추\n",
    "\n",
    "**문제로 이동** : [유기농 배추](https://www.acmicpc.net/problem/1012)\n",
    "\n",
    "- 한나는 해충 방지에 효과적인 지렁이를 구입하려고 한다\n",
    "- 지렁이는 인접한 배추에 이동하여 인접 배추도 보호할 수 있다\n",
    "- 상하좌우 네 방향에 배추가 있을 경우 인접하다고 본다\n",
    "- 서로 인접한 배추들이 몇 군데 퍼져있는지 조사하여 몇 마리의 지렁이가 필요한지 알고자 한다\n",
    "- 0은 배추가 없는 땅을 의미하고 1은 배추를 의미한다\n",
    "- 테스트케이스의 개수와 배추밭의 가로/세로길이, 배추 위치가 주어질 때 필요한 최소 지렁이 갯수를 구하라 "
   ]
  },
  {
   "cell_type": "code",
   "execution_count": 13,
   "metadata": {},
   "outputs": [
    {
     "name": "stdout",
     "output_type": "stream",
     "text": [
      "1\n",
      "5 3 6\n",
      "0 2\n",
      "1 2\n",
      "2 2\n",
      "3 2\n",
      "4 2\n",
      "4 0\n",
      "2\n"
     ]
    }
   ],
   "source": [
    "from collections import deque\n",
    "import sys\n",
    "\n",
    "# input = sys.stdin.readline\n",
    "T=int(input())\n",
    "dx=[-1,1,0,0]\n",
    "dy=[0,0,-1,1]\n",
    "\n",
    "for _ in range(T):\n",
    "    M,N,K=map(int,input().split())\n",
    "    board=[[0]*M for _ in range(N)]\n",
    "    for _ in range(K):\n",
    "        x,y=map(int,input().split())\n",
    "        board[y][x]=1\n",
    "    result=0\n",
    "    for i in range(N):\n",
    "        for j in range(M):\n",
    "            if board[i][j]==1:\n",
    "                queue=deque([(i,j)])\n",
    "                while queue:\n",
    "                    x,y=queue.popleft()\n",
    "                    for d in range(4):\n",
    "                        nx=x+dx[d]\n",
    "                        ny=y+dy[d]\n",
    "                        if 0<=nx<N and 0<=ny<M and board[nx][ny]==1:\n",
    "                            board[nx][ny]=0\n",
    "                            queue.append((nx,ny))\n",
    "                board[x][y]=0\n",
    "                result+=1\n",
    "    print(result)"
   ]
  },
  {
   "cell_type": "markdown",
   "metadata": {},
   "source": [
    "## 1912 연속합\n",
    "\n",
    "**문제로 이동** : [Baekjoon 연속합](https://www.acmicpc.net/problem/1912)\n",
    "\n",
    "- n개의 정수로 이루어진 임의의 수열이 주어진다\n",
    "- 연속된 몇 개의 수를 선택하여 구할 수 있는 합 중 가장 큰 합을 구하려고 한다\n",
    "- 정수 n과 수열이 주어질 때 답을 출력하라"
   ]
  },
  {
   "cell_type": "code",
   "execution_count": 18,
   "metadata": {},
   "outputs": [
    {
     "name": "stdout",
     "output_type": "stream",
     "text": [
      "10\n",
      "2 1 -4 3 4 -4 6 5 -5 1\n",
      "14\n"
     ]
    }
   ],
   "source": [
    "n=int(input())\n",
    "numList=list(map(int,input().split()))\n",
    "dp=[0]*len(numList)\n",
    "dp[0]=numList[0]\n",
    "for i in range(1, len(numList)):\n",
    "    dp[i]=max(dp[i-1]+numList[i], numList[i-1]+numList[i])\n",
    "print(max(dp))"
   ]
  },
  {
   "cell_type": "code",
   "execution_count": 20,
   "metadata": {},
   "outputs": [
    {
     "name": "stdout",
     "output_type": "stream",
     "text": [
      "10\n",
      "10 -4 3 1 5 6 -35 12 21 -1\n",
      "33\n"
     ]
    }
   ],
   "source": [
    "n=int(input())\n",
    "numList=list(map(int,input().split()))\n",
    "dp=[0]*len(numList)\n",
    "dp[0]=numList[0]\n",
    "for i in range(1, len(numList)):\n",
    "    dp[i]=max(dp[i-1]+numList[i], numList[i])\n",
    "print(max(dp))"
   ]
  },
  {
   "cell_type": "markdown",
   "metadata": {},
   "source": [
    "## 12865 평범한 배낭\n",
    "\n",
    "**문제로 이동** : [Baekjoon 평범한 배낭](https://www.acmicpc.net/problem/12865)\n",
    "\n",
    "- N개의 물건은 각각 무게 W와 가치 V를 가진다\n",
    "- 준서는 최대 K만큼의 무게만을 가지고 다닐 수 있다\n",
    "- 최대한 즐거운 여행을 위해 가지고 다닐 수 있는 가치의 최댓값을 구하라"
   ]
  },
  {
   "cell_type": "code",
   "execution_count": 24,
   "metadata": {},
   "outputs": [
    {
     "name": "stdout",
     "output_type": "stream",
     "text": [
      "4 7\n",
      "6 13\n",
      "4 8\n",
      "3 6\n",
      "5 12\n",
      "[[3, 6], [0, 0], [0, 0], [0, 0]]\n"
     ]
    }
   ],
   "source": [
    "import sys\n",
    "\n",
    "# input = sys.stdin.readline\n",
    "N, K=map(int,input().split())\n",
    "objet=[list(map(int,input().split())) for _ in range(N)]\n",
    "objet.sort()\n",
    "dp=[[0, 0] for _ in range(N)]\n",
    "dp[0]=objet[0]\n",
    "for i in range(1, N):\n",
    "    if dp[i-1][0]+objet[i][0]>K:"
   ]
  },
  {
   "cell_type": "code",
   "execution_count": 43,
   "metadata": {},
   "outputs": [
    {
     "name": "stdout",
     "output_type": "stream",
     "text": [
      "4 7\n",
      "6 13\n",
      "4 8\n",
      "3 6\n",
      "5 12\n",
      "14\n"
     ]
    }
   ],
   "source": [
    "N, K=map(int,input().split())\n",
    "objet=[list(map(int,input().split())) for _ in range(N)]\n",
    "bag=[[0]*(K+1) for _ in range(N+1)]\n",
    "\n",
    "for i in range(N):\n",
    "    for j in range(1,K+1):\n",
    "        weight, value=objet[i][0],objet[i][1]\n",
    "        if (j<weight):\n",
    "            bag[i+1][j]=bag[i][j]\n",
    "        else:\n",
    "            bag[i+1][j]=max(value+bag[i][j-weight],bag[i][j])\n",
    "            \n",
    "print(bag[N][K])"
   ]
  },
  {
   "cell_type": "markdown",
   "metadata": {},
   "source": [
    "## 1300 K번째 수\n",
    "\n",
    "**문제로 이동** : [Baekjoon K번째 수](https://www.acmicpc.net/problem/1300)\n",
    "\n",
    "- 크기가 N\\*N인 배열 A를 A\\[i\\]\\[j\\]=i\\*j로 만들었다\n",
    "- 일차원 배열 B에 넣을 때 B[k]를 구하라\n",
    "- 배열 A,B의 인덱스는 1부터 시작한다"
   ]
  },
  {
   "cell_type": "code",
   "execution_count": 41,
   "metadata": {},
   "outputs": [
    {
     "name": "stdout",
     "output_type": "stream",
     "text": [
      "3\n",
      "7\n",
      "6\n"
     ]
    }
   ],
   "source": [
    "import numpy as np\n",
    "\n",
    "N=int(input())\n",
    "k=int(input())\n",
    "arr=np.zeros((N,N))\n",
    "for i in range(1,N+1):\n",
    "    for j in range(1,N+1):\n",
    "        arr[i-1][j-1]=i*j\n",
    "arr=arr.reshape(1,N*N)\n",
    "arr.sort()\n",
    "print(int(arr[0][k-1]))"
   ]
  },
  {
   "cell_type": "code",
   "execution_count": 42,
   "metadata": {},
   "outputs": [
    {
     "name": "stdout",
     "output_type": "stream",
     "text": [
      "3\n",
      "7\n",
      "6\n"
     ]
    }
   ],
   "source": [
    "N=int(input())\n",
    "K=int(input())\n",
    "start,end =1,K\n",
    "\n",
    "while (start<=end):\n",
    "    mid = (start + end) // 2    \n",
    "    temp = 0\n",
    "    for i in range(1, N+1):\n",
    "        temp += min(mid//i, N)\n",
    "    \n",
    "    if temp >= K: \n",
    "        answer = mid\n",
    "        end = mid - 1\n",
    "    else:\n",
    "        start = mid + 1\n",
    "print(answer)"
   ]
  },
  {
   "cell_type": "markdown",
   "metadata": {},
   "source": [
    "## 1759 암호 만들기\n",
    "\n",
    "**문제로 이동** : [Baekjoon 암호 만들기](https://www.acmicpc.net/problem/1759)\n",
    "\n",
    "- 암호는 서로 다른 L개의 알파벳 소문자들로 최소 한 개의 모음과 두 개의 자음으로 구성된다\n",
    "- 암호를 이루는 알파벳이 증가하는 순서로 배열되었을 것이다\n",
    "- 암호로 사용했을 법한 문자 종류 C가지가 있을 때 가능성 있는 암호들을 구하는 프로그램을 작성하라"
   ]
  },
  {
   "cell_type": "code",
   "execution_count": null,
   "metadata": {},
   "outputs": [],
   "source": []
  }
 ],
 "metadata": {
  "kernelspec": {
   "display_name": "Python 3",
   "language": "python",
   "name": "python3"
  },
  "language_info": {
   "codemirror_mode": {
    "name": "ipython",
    "version": 3
   },
   "file_extension": ".py",
   "mimetype": "text/x-python",
   "name": "python",
   "nbconvert_exporter": "python",
   "pygments_lexer": "ipython3",
   "version": "3.8.3"
  }
 },
 "nbformat": 4,
 "nbformat_minor": 4
}
