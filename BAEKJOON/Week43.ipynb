{
 "cells": [
  {
   "cell_type": "markdown",
   "metadata": {},
   "source": [
    "# 43주차\n",
    "\n",
    "[43주차 문제집](https://www.acmicpc.net/group/workbook/view/10320/38791)\n",
    "\n",
    "* [2688 줄어들지 않아](https://www.acmicpc.net/problem/2688)\n",
    "* [2482 색상환](https://www.acmicpc.net/problem/2482)\n",
    "* [1254 팰린드롬 만들기](https://www.acmicpc.net/problem/1254)\n",
    "* [17609 회문](https://www.acmicpc.net/problem/17609)\n",
    "* [1041 주사위](https://www.acmicpc.net/problem/1041)\n",
    "* [1092 배](https://www.acmicpc.net/problem/1092)"
   ]
  },
  {
   "cell_type": "markdown",
   "metadata": {},
   "source": [
    "## 2688 줄어들지 않아\n",
    "\n",
    "**문제로 이동** : [Baekjoon 줄어들지 않아](https://www.acmicpc.net/problem/2688)\n",
    "\n",
    "- 어떤 숫자가 각 자리 수보다 그 왼쪽 자리 수가 작거나 같을 때 줄어들지 않는다\n",
    "- 숫자의 앞에 0이 있어도 된다\n",
    "- n이 주어졌을 때 줄어들지 않는 n자리 수의 개수를 구하라"
   ]
  },
  {
   "cell_type": "code",
   "execution_count": 36,
   "metadata": {},
   "outputs": [
    {
     "name": "stdout",
     "output_type": "stream",
     "text": [
      "3\n",
      "2\n",
      "55\n",
      "3\n",
      "220\n",
      "4\n",
      "715\n"
     ]
    }
   ],
   "source": [
    "import sys\n",
    "\n",
    "# input=sys.stdin.readline\n",
    "T=int(input())\n",
    "dp=[[0]*11 for _ in range(65)]\n",
    "\n",
    "for _ in range(T):\n",
    "    n=int(input())\n",
    "    dp[1]=[1,1,1,1,1,1,1,1,1,1]\n",
    "    if sum(dp[n])!=0:\n",
    "        print(sum(dp[n]))\n",
    "        continue\n",
    "    for i in range(2, n+1):\n",
    "        for j in range(10):\n",
    "            if j==0:\n",
    "                dp[i][0]=sum(dp[i-1])\n",
    "            else:\n",
    "                dp[i][j]=dp[i][j-1]-dp[i-1][j-1]\n",
    "    print(sum(dp[n]))"
   ]
  },
  {
   "cell_type": "markdown",
   "metadata": {},
   "source": [
    "## 2482 색상환\n",
    "\n",
    "**문제로 이동** : [Baekjoon 색상환](https://www.acmicpc.net/problem/2482)\n",
    "\n",
    "- 주어진 색상환에서 서로 이웃하지 않은 색들을 선택하는 경우의 수를 생각하자\n",
    "- N개의 색으로 구성되어 있는 색상환에서 어떤 인접한 두 색도 동시에 선택하지 않으면서 서로 다른 K개의 색을 선택하는 경우의 수를 구하라\n",
    "- 경우의 수를 1000000003으로 나눈 나머지를 출력하라"
   ]
  },
  {
   "cell_type": "code",
   "execution_count": 2,
   "metadata": {},
   "outputs": [
    {
     "name": "stdout",
     "output_type": "stream",
     "text": [
      "6\n",
      "2\n",
      "9\n"
     ]
    }
   ],
   "source": [
    "N=int(input())\n",
    "K=int(input())\n",
    "dp=[[-1]*(N+1) for _ in range(N+1)]\n",
    "for i in range(N+1):\n",
    "    dp[i][0]=1\n",
    "    dp[i][1]=i\n",
    "\n",
    "def solution(N, K):\n",
    "    if K>(N/2):\n",
    "        dp[N][K]=0\n",
    "        return 0\n",
    "    if (dp[N][K]!=-1):\n",
    "        return dp[N][K]\n",
    "    else:\n",
    "        dp[N][K]=solution(N-1,K)+solution(N-2,K-1)\n",
    "        if dp[N][K]>1000000003:\n",
    "            dp[N][K]/=1000000003\n",
    "        return dp[N][K]\n",
    "\n",
    "print(solution(N,K))"
   ]
  },
  {
   "cell_type": "code",
   "execution_count": 17,
   "metadata": {},
   "outputs": [
    {
     "name": "stdout",
     "output_type": "stream",
     "text": [
      "6\n",
      "2\n",
      "9\n"
     ]
    }
   ],
   "source": [
    "N=int(input())\n",
    "K=int(input())\n",
    "dp=[[0]*(K+1) for _ in range(N+1)]\n",
    "for i in range(N+1):\n",
    "    dp[i][0]=1\n",
    "    dp[i][1]=i\n",
    "    \n",
    "for i in range(2,N+1):\n",
    "    for j in range(2,K+1):\n",
    "        if i==N:\n",
    "            dp[i][j]=dp[i-3][j-1]+dp[i-1][j]\n",
    "        else:\n",
    "            dp[i][j]=dp[i-1][j]+dp[i-2][j-1]\n",
    "        dp[i][j]%=1000000003\n",
    "        \n",
    "print(dp[N][K])"
   ]
  },
  {
   "cell_type": "markdown",
   "metadata": {},
   "source": [
    "## 1254 팰린드롬 만들기\n",
    "\n",
    "**문제로 이동** : [Baekjoon 팰린드롬 만들기](https://www.acmicpc.net/problem/1254)\n",
    "\n",
    "- 팰린드롬이란 앞, 뒤 모두 같게 읽히는 문자열을 말한다\n",
    "- 문자열 S에 0개 이상의 문자를 추가하여 팰린드롬을 만들고자 한다\n",
    "- 만들 수 있는 가장 짧은 팰린드롬의 길이를 출력하라"
   ]
  },
  {
   "cell_type": "code",
   "execution_count": 89,
   "metadata": {},
   "outputs": [
    {
     "name": "stdout",
     "output_type": "stream",
     "text": [
      "abdfhdyrbdbsdfghjkllkjhgfds\n",
      "38\n"
     ]
    }
   ],
   "source": [
    "import copy\n",
    "\n",
    "S=list(input())\n",
    "compare=copy.deepcopy(S)\n",
    "compare.reverse()\n",
    "maxLen=len(S)*2-1\n",
    "\n",
    "isFirst=True\n",
    "for i in range(len(S)):\n",
    "    if S==compare:\n",
    "        maxLen=min(maxLen,len(S))\n",
    "        break\n",
    "    if S[i]!=compare[i]:\n",
    "        if (isFirst):\n",
    "            isFirst=False\n",
    "            S.append(S[i])\n",
    "            compare.insert(0,S[i])\n",
    "        else:\n",
    "            S.insert(-i,S[i])\n",
    "            compare.insert(i,S[i])\n",
    "print(maxLen)"
   ]
  },
  {
   "cell_type": "code",
   "execution_count": 22,
   "metadata": {},
   "outputs": [
    {
     "name": "stdout",
     "output_type": "stream",
     "text": [
      "qwerty\n",
      "11\n"
     ]
    }
   ],
   "source": [
    "import copy\n",
    "\n",
    "def isPalin(string):\n",
    "    temp=copy.deepcopy(string)\n",
    "    temp.reverse()\n",
    "    if (string==temp):\n",
    "        return True\n",
    "    return False\n",
    "\n",
    "S=list(input())\n",
    "if isPalin(S):\n",
    "    print(len(S))\n",
    "else:\n",
    "    compare=copy.deepcopy(S)\n",
    "    compare.reverse()\n",
    "    for i in range(len(S)-1,0,-1):\n",
    "        if isPalin(compare[:i]):\n",
    "            print(len(S)*2-i)\n",
    "            break\n",
    "        elif i==1:\n",
    "            print(len(S)*2)"
   ]
  },
  {
   "cell_type": "code",
   "execution_count": 1,
   "metadata": {},
   "outputs": [
    {
     "name": "stdout",
     "output_type": "stream",
     "text": [
      "qwerty\n",
      "11\n"
     ]
    }
   ],
   "source": [
    "import copy\n",
    "\n",
    "def isPalin(string):\n",
    "    temp=copy.deepcopy(string)\n",
    "    temp.reverse()\n",
    "    if (string==temp):\n",
    "        return True\n",
    "    return False\n",
    "\n",
    "S=list(input())\n",
    "if isPalin(S):\n",
    "    print(len(S))\n",
    "else:\n",
    "    compare=S[::-1]\n",
    "    for i in range(len(S)-1,0,-1):\n",
    "        if isPalin(compare[:i]):\n",
    "            print(len(S)*2-i)\n",
    "            break\n",
    "        elif i==1:\n",
    "            print(len(S)*2)"
   ]
  },
  {
   "cell_type": "markdown",
   "metadata": {},
   "source": [
    "## 17609 회문\n",
    "\n",
    "**문제로 이동** : [Baekjoon 회문](https://www.acmicpc.net/problem/17609)\n",
    "\n",
    "- 회문(팰린드롬)은 앞 뒤 방향으로 볼 때 같은 순서의 문자로 구성된 문자열이다\n",
    "- 그 자체로 회문은 아니지만 한 글자를 삭제하여 회문으로 만들 수 있다면 유사 회문이라 한다\n",
    "- 제시된 문자열을 분석하여 회문인지 유사회문인지 일반 문자열인지 판단하라\n",
    "- 회문일경우 0, 유사회문은 1, 그 외는 2를 출력한다"
   ]
  },
  {
   "cell_type": "code",
   "execution_count": 98,
   "metadata": {},
   "outputs": [
    {
     "name": "stdout",
     "output_type": "stream",
     "text": [
      "7\n",
      "abba\n",
      "0\n",
      "summuus\n",
      "1\n",
      "xabba\n",
      "1\n",
      "xabbay\n",
      "2\n",
      "comcom\n",
      "2\n",
      "comwwmoc\n",
      "0\n",
      "comwwtmoc\n",
      "1\n"
     ]
    }
   ],
   "source": [
    "#시간초과\n",
    "import copy\n",
    "import sys\n",
    "\n",
    "# input=sys.stdin.readline\n",
    "def isPalin(string):\n",
    "    temp=copy.deepcopy(string)\n",
    "    temp.reverse()\n",
    "    if (string==temp):\n",
    "        return True\n",
    "    return False\n",
    "\n",
    "def isPseudoPalin(string):\n",
    "    for i in range(len(string)):\n",
    "        temp=string[i]\n",
    "        del(string[i])\n",
    "        if (isPalin(string)):\n",
    "            return True\n",
    "        string.insert(i,temp)\n",
    "    return False\n",
    "\n",
    "T=int(input())\n",
    "for _ in range(T):\n",
    "    string=list(input())\n",
    "    if isPalin(string):\n",
    "        print(0)\n",
    "    elif isPseudoPalin(string):\n",
    "        print(1)\n",
    "    else:\n",
    "        print(2)"
   ]
  },
  {
   "cell_type": "code",
   "execution_count": 25,
   "metadata": {},
   "outputs": [
    {
     "name": "stdout",
     "output_type": "stream",
     "text": [
      "7\n",
      "abba\n",
      "0\n",
      "summuus\n",
      "1\n",
      "xabba\n",
      "1\n",
      "xabbay\n",
      "2\n",
      "comcom\n",
      "2\n",
      "comwwmoc\n",
      "0\n",
      "comwwtmoc\n",
      "1\n"
     ]
    }
   ],
   "source": [
    "def isPalin(left, right):\n",
    "    while left<right:\n",
    "        if string[left]==string[right]:\n",
    "            left+=1\n",
    "            right-=1\n",
    "        else:\n",
    "            return False\n",
    "    return True\n",
    "\n",
    "def check(left, right):\n",
    "    while left<right:\n",
    "        if string[left]==string[right]:\n",
    "            left+=1\n",
    "            right-=1\n",
    "        else:\n",
    "            if isPalin(left+1, right) or isPalin(left,right-1):\n",
    "                return 1\n",
    "            return 2\n",
    "    return 0\n",
    "    \n",
    "T=int(input())\n",
    "for _ in range(T):\n",
    "    string=input()\n",
    "    print(check(0, len(string)-1))"
   ]
  },
  {
   "cell_type": "markdown",
   "metadata": {},
   "source": [
    "## 1041 주사위\n",
    "\n",
    "**문제로 이동** : [Baekjoon 주사위](https://www.acmicpc.net/problem/1041)\n",
    "\n",
    "- 동일한 주사위 N^3개가 있을 때 적절히 회전시키고 쌓아 N\\*N\\*N 크기의 정육면체를 만들려고 한다\n",
    "- 정육면체는 탁자 위에 있으므로 5개의 면만 보인다\n",
    "- 보이는 5개의 면에 쓰여 있는 수의 합의 최솟값을 출력하는 프로그램을 작성하라"
   ]
  },
  {
   "cell_type": "code",
   "execution_count": 33,
   "metadata": {},
   "outputs": [
    {
     "name": "stdout",
     "output_type": "stream",
     "text": [
      "2\n",
      "1 2 3 4 5 6\n",
      "36\n"
     ]
    }
   ],
   "source": [
    "import sys\n",
    "\n",
    "# input=sys.stdin.readline\n",
    "n = int(input())\n",
    "nums = list(map(int, input().split()))\n",
    "total=0\n",
    "sumLists=[]\n",
    "if(n==1):\n",
    "    nums = sorted(nums)\n",
    "    total+=sum(num)\n",
    "    for i in range(0,5):\n",
    "        total+=nums[i]\n",
    "else:\n",
    "    sumLists.append(min(nums[0],nums[5]))\n",
    "    sumLists.append(min(nums[1],nums[4]))\n",
    "    sumLists.append(min(nums[2],nums[3]))\n",
    "    sumLists = sorted(sumLists)\n",
    "\n",
    "    min1 = sumLists[0]\n",
    "    min2 = sumLists[0] + sumLists[1]\n",
    "    min3 = sumLists[0] + sumLists[1] + sumLists[2]\n",
    "\n",
    "    n1 = (n-2)*(n-2) + 4*(n-1)*(n-2)\n",
    "    n2 = 4*(n-2) + 4*(n-1)\n",
    "    n3 = 4\n",
    "\n",
    "    total+=(n1*min1+n2*min2+n3*min3)\n",
    "\n",
    "print(total)"
   ]
  },
  {
   "cell_type": "markdown",
   "metadata": {},
   "source": [
    "## 1092 배\n",
    "\n",
    "**문제로 이동** : [Baekjoon 배](https://www.acmicpc.net/problem/1092)\n",
    "\n",
    "- 항구에는 크레인이 N대 있고, 1분에 박스를 하나씩 배에 실을 수 있다\n",
    "- 모든 크레인은 동시에 움직이며 무게 제한이 있다\n",
    "- 무게제한보다 무거운 박스는 크레인으로 움직일 수 없다\n",
    "- 모든 박스를 배로 옮기는데 드는 시간의 최솟값을 구하라\n",
    "- 모든 박스를 배로 옮길 수 없다면 -1을 출력한다"
   ]
  },
  {
   "cell_type": "code",
   "execution_count": 35,
   "metadata": {},
   "outputs": [
    {
     "name": "stdout",
     "output_type": "stream",
     "text": [
      "2\n",
      "19 20\n",
      "7\n",
      "14 12 16 19 16 1 5\n",
      "4\n"
     ]
    }
   ],
   "source": [
    "#시간초과 => pypy 제출\n",
    "N=int(input())\n",
    "crane=list(map(int,input().split()))\n",
    "M=int(input())\n",
    "box=list(map(int,input().split()))\n",
    "\n",
    "time=0\n",
    "crane.sort(reverse=True)\n",
    "box.sort(reverse=True)\n",
    "\n",
    "if crane[0]<box[0]:\n",
    "    print(-1)\n",
    "else:\n",
    "    while(len(box)>0):\n",
    "        for i in crane:\n",
    "            for j in range(len(box)):\n",
    "                if i>=box[j]:\n",
    "                    box.remove(box[j])\n",
    "                    break\n",
    "        time+=1\n",
    "    print(time)"
   ]
  },
  {
   "cell_type": "code",
   "execution_count": null,
   "metadata": {},
   "outputs": [],
   "source": []
  }
 ],
 "metadata": {
  "kernelspec": {
   "display_name": "Python 3",
   "language": "python",
   "name": "python3"
  },
  "language_info": {
   "codemirror_mode": {
    "name": "ipython",
    "version": 3
   },
   "file_extension": ".py",
   "mimetype": "text/x-python",
   "name": "python",
   "nbconvert_exporter": "python",
   "pygments_lexer": "ipython3",
   "version": "3.8.3"
  }
 },
 "nbformat": 4,
 "nbformat_minor": 4
}
