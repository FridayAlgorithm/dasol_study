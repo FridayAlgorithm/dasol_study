{
 "cells": [
  {
   "cell_type": "markdown",
   "metadata": {},
   "source": [
    "# 52주차\n",
    "\n",
    "[52주차 문제집](https://www.acmicpc.net/group/workbook/view/10320/41006)\n",
    "\n",
    "* [19939 박 터뜨리기](https://www.acmicpc.net/problem/19939)\n",
    "* [19941 햄버거 분배](https://www.acmicpc.net/problem/19941)\n",
    "* [1713 후보 추천하기](https://www.acmicpc.net/problem/1713)\n",
    "* [1520 내리막길](https://www.acmicpc.net/problem/1520)\n",
    "* [14889 스타트와 링크](https://www.acmicpc.net/problem/14889)"
   ]
  },
  {
   "cell_type": "markdown",
   "metadata": {},
   "source": [
    "## 19939 박 터뜨리기\n",
    "\n",
    "**문제로 이동** : [Baekjoon 박 터뜨리기](https://www.acmicpc.net/problem/19939)\n",
    "\n",
    "- 각 팀은 하나의 바구니를 가지고 박터트리기 게임을 한다\n",
    "- 바구니에 들어있는 공을 던져 자신의 팀의 박을 터트려야한다\n",
    "- N개의 공을 K개의 바구니에 나눠담아야한다\n",
    "- 바구니에 담기는 공의 개수는 모두 달라야하며 한 바구니에 하나 이상의 공이 담겨야한다\n",
    "- 게임의 불공정함을 줄이기위해 가장 많이 담긴 바구니와 적게 담긴 바구니의 공의 개수 차이가 최소가 되도록 담을 것이다\n",
    "- N개의 공을 K개의 바구니에 나눠 담을 때 나눠 담을 수 있는지 여부를 결정하고 최대와 최소 개수의 차이를 계산하여 출력하다"
   ]
  },
  {
   "cell_type": "code",
   "execution_count": 1,
   "metadata": {},
   "outputs": [
    {
     "name": "stdout",
     "output_type": "stream",
     "text": [
      "17 5\n",
      "[6, 5, 3, 2, 1]\n",
      "5\n"
     ]
    }
   ],
   "source": [
    "N, K=map(int,input().split())\n",
    "\n",
    "isPossible=(K*(K+1))//2\n",
    "if (N<isPossible): print(-1)\n",
    "elif (N==isPossible): print(K-1)\n",
    "else:\n",
    "    basket=[0]*K\n",
    "    for i in range(K):\n",
    "        basket[i]=K-i\n",
    "    N-=isPossible\n",
    "    while (N>0):\n",
    "        for i in range(K):\n",
    "            if (N>0):\n",
    "                basket[i]+=1\n",
    "                N-=1\n",
    "    print(basket)\n",
    "    print(max(basket)-min(basket))"
   ]
  },
  {
   "cell_type": "markdown",
   "metadata": {},
   "source": [
    "## 19941 햄버거 분배\n",
    "\n",
    "**문제로 이동** : [Baekjoon 햄버거 분배](https://www.acmicpc.net/problem/19941)\n",
    "\n",
    "- 기다란 벤치 모양의 식탁에 사람들과 햄버거가 아래와 같이 단위 간격으로 놓여있다\n",
    "- 사람들은 자신의 위치에서 거리가 K이하인 햄버거를 먹을 수 있다\n",
    "- 식탁의 길이 N, 햄버거를 선택할 수 있는 거리 K, 사람과 햄버거의 위치가 주어질 때 햄버거를 먹을 수 있는 사람의 최대 수를 구하라"
   ]
  },
  {
   "cell_type": "code",
   "execution_count": 16,
   "metadata": {},
   "outputs": [
    {
     "name": "stdout",
     "output_type": "stream",
     "text": [
      "20 1\n",
      "HHPHPPHHPPHPPPHPHPHP\n",
      "8\n"
     ]
    }
   ],
   "source": [
    "N, K=map(int,input().split())\n",
    "bench=list(input().strip())\n",
    "for i in range(K+1):\n",
    "    bench.append(0)\n",
    "res=0\n",
    "for i in range(N):\n",
    "    if bench[i]=='H':\n",
    "        for j in range(1,K+1):\n",
    "            if bench[i+j]=='P':\n",
    "                res+=1\n",
    "                bench[i]=0\n",
    "                bench[i+j]=0\n",
    "                break\n",
    "    if bench[i]=='P':\n",
    "        for j in range(1,K+1):\n",
    "            if bench[i+j]=='H':\n",
    "                res+=1\n",
    "                bench[i]=0\n",
    "                bench[i+j]=0\n",
    "                break\n",
    "print(res)  "
   ]
  },
  {
   "cell_type": "markdown",
   "metadata": {},
   "source": [
    "## 1713 후보 추천하기\n",
    "\n",
    "**문제로 이동** : [Baekjoon 후보 추천하기](https://www.acmicpc.net/problem/1713)\n",
    "\n",
    "- 학생회장 후보는 일정기간 동안 학생의 추천에 의하여 선정된다\n",
    "- 추천받은 횟수를 표시하는 규칙은 다음과 같다\n",
    "  * 추천을 시작하기 전 모든 사진틀은 비어있다\n",
    "  * 특정 학생을 추천하면 추천받은 학생의 사진이 사진틀에 게시된다\n",
    "  * 비어있는 사진틀이 없는 경우 추천받은 횟수가 가장 적은 학생의 사진을 삭제한다\n",
    "  * 추천받은 횟수가 가장 적은 학생이 둘 이상일 경우 오래 게시된 사진을 삭제한다\n",
    "  * 사진이 게시된 학생이 다른 학생의 추천을 받을 경우 추천 횟수를 증가시킨다\n",
    "  * 게시된 사진이 삭제되는 경우 해당 학생의 추천 횟수는 0으로 초기화된다\n",
    "- 사진틀의 갯수와 전체 학생의 추천 결과가 주어질 때 최종 후보를 결정하는 프로그램을 결정하라"
   ]
  },
  {
   "cell_type": "code",
   "execution_count": 26,
   "metadata": {},
   "outputs": [
    {
     "name": "stdout",
     "output_type": "stream",
     "text": [
      "2\n",
      "11\n",
      "1 2 2 2 3 3 1 1 1 3 3\n",
      "[]\n",
      "[[1, 1]]\n",
      "[[1, 1], [2, 1]]\n",
      "[[1, 1], [2, 1]]\n",
      "[[1, 1], [2, 1]]\n",
      "[[2, 1], [3, 1]]\n",
      "[[2, 1], [3, 1]]\n",
      "[[3, 1], [1, 1]]\n",
      "[[3, 1], [1, 1]]\n",
      "[[3, 1], [1, 1]]\n",
      "[[3, 1], [1, 1]]\n",
      "1 3\n"
     ]
    }
   ],
   "source": [
    "N=int(input())\n",
    "rec=int(input())\n",
    "recommend=list(map(int,input().split()))\n",
    "photo=[]\n",
    "for voteStu in recommend:\n",
    "    print(photo)\n",
    "    if len(photo)<N:\n",
    "        idx=-1\n",
    "        for i in range(len(photo)):\n",
    "            if photo[i][0]==voteStu:\n",
    "                idx=i\n",
    "        if (idx!=-1): photo[idx][1]+=1\n",
    "        else: photo.append([voteStu,1])\n",
    "    else:\n",
    "        minIndex=-1\n",
    "        for i in range((len(photo))):\n",
    "            if photo[i][0]==voteStu:\n",
    "                minIndex=i\n",
    "        if (minIndex==-1):\n",
    "            minVal=min(i[1] for i in photo)\n",
    "            for i in range(len(photo)):\n",
    "                if photo[i][1]==minVal:\n",
    "                    minIndex=i\n",
    "                    break\n",
    "            del(photo[minIndex])\n",
    "            photo.append([voteStu, 1])\n",
    "res=[]\n",
    "for i in photo:\n",
    "    res.append(i[0])\n",
    "res.sort()\n",
    "print(*res)"
   ]
  },
  {
   "cell_type": "code",
   "execution_count": 36,
   "metadata": {},
   "outputs": [
    {
     "name": "stdout",
     "output_type": "stream",
     "text": [
      "3\n",
      "9\n",
      "2 1 4 3 5 6 2 7 2\n",
      "2 6 7\n"
     ]
    }
   ],
   "source": [
    "N=int(input())\n",
    "rec=int(input())\n",
    "recommend=list(map(int,input().split()))\n",
    "photo=[]\n",
    "\n",
    "for voteStu in recommend:\n",
    "    isIn=-1\n",
    "    for i in range(len(photo)):\n",
    "        if photo[i][0]==voteStu:\n",
    "            isIn=i\n",
    "    if (isIn!=-1):\n",
    "        photo[isIn][1]+=1\n",
    "    else:\n",
    "        if len(photo)>=N:\n",
    "            minVal=min(i[1] for i in photo)\n",
    "            for i in range(len(photo)):\n",
    "                if photo[i][1]==minVal:\n",
    "                    del(photo[i])\n",
    "                    break\n",
    "        photo.append([voteStu, 1])\n",
    "\n",
    "res=[]\n",
    "for i in photo:\n",
    "    res.append(i[0])\n",
    "res.sort()\n",
    "print(*res)"
   ]
  },
  {
   "cell_type": "markdown",
   "metadata": {},
   "source": [
    "## 1520 내리막 길\n",
    "\n",
    "**문제로 이동** : [Baekjoon 내리막 길](https://www.acmicpc.net/problem/1520)\n",
    "\n",
    "- 지도는 한칸에 한 지점을 나타내며 각 칸에는 그 지점의 높이가 쓰여있다\n",
    "- 각 지점 사이의 이동은 지도에서 상하좌우 이웃한 곳끼리만 가능하다\n",
    "- 제일 왼쪽위에서 제일 오른쪽 아래로 이동하고자 한다\n",
    "- 항상 높이가 낮은 지점으로만 이동하여 목표지점까지 가려고한다\n",
    "- 항상 내리막길로만 이동하는 경로의 개수를 구하라"
   ]
  },
  {
   "cell_type": "code",
   "execution_count": 29,
   "metadata": {},
   "outputs": [
    {
     "name": "stdout",
     "output_type": "stream",
     "text": [
      "4 5\n",
      "50 45 37 32 30\n",
      "35 50 40 20 25\n",
      "30 30 25 17 28\n",
      "27 24 22 15 10\n",
      "3\n"
     ]
    }
   ],
   "source": [
    "import sys\n",
    "from collections import deque\n",
    "\n",
    "sys.setrecursionlimit(10**6)\n",
    "#input=sys.stdin.readline\n",
    "M,N=map(int,input().split())\n",
    "board=[list(map(int,input().split())) for _ in range(M)]\n",
    "dx=[-1,1,0,0]\n",
    "dy=[0,0,-1,1]\n",
    "visit=[[-1]*N for _ in range(M)]\n",
    "visit[0][0]=1\n",
    "\n",
    "def dfs(x,y):\n",
    "    global board, visit\n",
    "    cur=board[x][y]\n",
    "    if x==0 and y==0:\n",
    "        return 1\n",
    "    if visit[x][y]==-1:\n",
    "        visit[x][y]+=1\n",
    "        for i in range(4):\n",
    "            nx=x+dx[i]\n",
    "            ny=y+dy[i]\n",
    "            if 0<=nx<M and 0<=ny<N:\n",
    "                if board[nx][ny]>cur:\n",
    "                    visit[x][y]+=dfs(nx,ny)\n",
    "    return visit[x][y]\n",
    "\n",
    "print(dfs(M-1,N-1))"
   ]
  },
  {
   "cell_type": "markdown",
   "metadata": {},
   "source": [
    "## 14889 스타트와 링크\n",
    "\n",
    "**문제로 이동** : [Baekjoon 스타트와 링크](https://www.acmicpc.net/problem/14889)\n",
    "\n",
    "- 축구를 하기위해 모인 N명의 사람을 N/2명으로 이루어진 스타트팀과 링크 팀으로 나눠야한다\n",
    "- 팀의 능력치는 팀에 속한 모든 쌍의 능력치의 합니다\n",
    "- 스타트팀과 링크팀의 능력치의 차이를 최소를 구해 반환하라"
   ]
  },
  {
   "cell_type": "code",
   "execution_count": 34,
   "metadata": {},
   "outputs": [
    {
     "name": "stdout",
     "output_type": "stream",
     "text": [
      "6\n",
      "0 1 2 3 4 5\n",
      "1 0 2 3 4 5\n",
      "1 2 0 3 4 5\n",
      "1 2 3 0 4 5\n",
      "1 2 3 4 0 5\n",
      "1 2 3 4 5 0\n",
      "2\n"
     ]
    }
   ],
   "source": [
    "import sys\n",
    "\n",
    "#sys.stdin.readline\n",
    "N=int(input())\n",
    "ability=[list(map(int,input().split())) for _ in range(N)]\n",
    "minDiff=10**5\n",
    "\n",
    "def dfs(idx):\n",
    "    global minDiff, start, link\n",
    "    if idx==N//2:\n",
    "        startSum, linkSum=0,0\n",
    "        for i in range(N):\n",
    "            if i not in start:\n",
    "                link.append(i)\n",
    "        for i in range(N//2-1):\n",
    "            for j in range(i+1, N//2):\n",
    "                startSum+=ability[start[i]][start[j]]+ability[start[j]][start[i]]\n",
    "                linkSum+=ability[link[i]][link[j]]+ability[link[j]][link[i]]\n",
    "        diff=abs(startSum-linkSum)\n",
    "        if minDiff>diff:\n",
    "            minDiff=diff\n",
    "        link=[]\n",
    "        return\n",
    "    for i in range(N):\n",
    "        if i in start: continue\n",
    "        if start and start[-1]>i : continue\n",
    "        start.append(i)\n",
    "        dfs(idx+1)\n",
    "        start.pop()\n",
    "    \n",
    "start, link=[], []\n",
    "dfs(0)\n",
    "print(minDiff)"
   ]
  },
  {
   "cell_type": "code",
   "execution_count": null,
   "metadata": {},
   "outputs": [],
   "source": []
  }
 ],
 "metadata": {
  "kernelspec": {
   "display_name": "Python 3",
   "language": "python",
   "name": "python3"
  },
  "language_info": {
   "codemirror_mode": {
    "name": "ipython",
    "version": 3
   },
   "file_extension": ".py",
   "mimetype": "text/x-python",
   "name": "python",
   "nbconvert_exporter": "python",
   "pygments_lexer": "ipython3",
   "version": "3.8.3"
  }
 },
 "nbformat": 4,
 "nbformat_minor": 4
}
