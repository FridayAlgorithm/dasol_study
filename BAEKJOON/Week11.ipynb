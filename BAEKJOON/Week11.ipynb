{
 "cells": [
  {
   "cell_type": "markdown",
   "metadata": {},
   "source": [
    "# 11주차 \n",
    "\n",
    "[11주차 문제집](https://www.acmicpc.net/group/workbook/view/10320/31234)\n",
    "\n",
    "* [7569 토마토](https://www.acmicpc.net/problem/7569)\n",
    "* [11726 2xn 타일링](https://www.acmicpc.net/problem/11726)\n",
    "* [2661 좋은수열](https://www.acmicpc.net/problem/2661)\n",
    "* [2583 영역 구하기](https://www.acmicpc.net/problem/2583)\n",
    "* [1697 숨바꼭질](https://www.acmicpc.net/problem/1697)\n",
    "* [1644 소수의 연속합](https://www.acmicpc.net/problem/1644)\n",
    "* [2485 가로수](https://www.acmicpc.net/problem/2485)\n",
    "* [1912 연속합](https://www.acmicpc.net/problem/1912)\n",
    "* [2580 스도쿠](https://www.acmicpc.net/problem/2580)\n",
    "\n",
    "#### 지난 주에 해결 못한 문제\n",
    "* [15686 치킨 배달](https://www.acmicpc.net/problem/15686)\n",
    "* [5430 AC](https://www.acmicpc.net/problem/5430) \n"
   ]
  },
  {
   "cell_type": "markdown",
   "metadata": {},
   "source": [
    "## 15686 치킨 배달\n",
    "\n",
    "**문제로 이동** : [Baekjoon 치킨배달](https://www.acmicpc.net/problem/15686)\n"
   ]
  },
  {
   "cell_type": "code",
   "execution_count": 3,
   "metadata": {},
   "outputs": [
    {
     "name": "stdout",
     "output_type": "stream",
     "text": [
      "5 3\n",
      "0 0 1 0 0\n",
      "0 0 2 0 1\n",
      "0 1 2 0 0\n",
      "0 0 1 0 0\n",
      "0 0 0 0 2\n",
      "5\n"
     ]
    }
   ],
   "source": [
    "n, m = map(int, input().split())\n",
    "a = [list(map(int, input().split())) for _ in range(n)]\n",
    "home, chicken, v = [], [], []\n",
    "res = 1e9\n",
    "\n",
    "def getMin(idx, cnt):\n",
    "    global res\n",
    "    if idx > len(chicken):\n",
    "        return\n",
    "    if cnt == m:\n",
    "        s = 0\n",
    "        for homeX, homeY in home:\n",
    "            d = 1e9\n",
    "            for j in v:\n",
    "                chickenX, chickenY = chicken[j]\n",
    "                d = min(d, abs(homeX-chickenX)+abs(homeY-chickenY))\n",
    "            s += d\n",
    "        res = min(res, s)\n",
    "        return\n",
    "    v.append(idx)\n",
    "    getMin(idx+1, cnt+1)\n",
    "    v.pop()\n",
    "    getMin(idx+1, cnt)\n",
    "\n",
    "for i in range(n):\n",
    "    for j in range(n):\n",
    "        if a[i][j] == 1:\n",
    "            home.append((i+1, j+1))\n",
    "        elif a[i][j] == 2:\n",
    "            chicken.append((i+1, j+1))\n",
    "getMin(0, 0)\n",
    "print(res)"
   ]
  },
  {
   "cell_type": "markdown",
   "metadata": {},
   "source": [
    "## 5430 AC\n",
    "\n",
    "**문제로 이동** : [Baekjoon AC](https://www.acmicpc.net/problem/5430)\n",
    "\n",
    "\n",
    "- 지난주에 해결 못한 코드 => reverse에서 시간초과??\n",
    "\n",
    "```\n",
    "import sys\n",
    "T=int(input())\n",
    "for _ in range(T):\n",
    "    isEnd=False\n",
    "    testCase=[]\n",
    "#     command=list(sys.stdin.readline())\n",
    "#     n=int(sys.stdin.readline())\n",
    "#     temp=sys.stdin.readline().lstrip('[').rstrip(']\\n')\n",
    "    command=list(input())\n",
    "    n=int(input())\n",
    "    temp=input().lstrip('[').rstrip(']')\n",
    "    if (temp):\n",
    "        testCase=list(map(int,temp.split(',')))\n",
    "    for i in command:\n",
    "        if (i=='R'):\n",
    "            testCase.reverse()\n",
    "        elif (i=='D'):\n",
    "            if (testCase):\n",
    "                del(testCase[0])\n",
    "            else:\n",
    "                print('error')\n",
    "                isEnd=True\n",
    "                break\n",
    "    if(not isEnd):\n",
    "        print(testCase)\n",
    "```\n"
   ]
  },
  {
   "cell_type": "code",
   "execution_count": 30,
   "metadata": {},
   "outputs": [
    {
     "name": "stdout",
     "output_type": "stream",
     "text": [
      "4\n",
      "RDD\n",
      "4\n",
      "[1,2,3,4]\n",
      "[2, 1]\n",
      "DD\n",
      "1\n",
      "[42]\n",
      "error\n",
      "RRD\n",
      "6\n",
      "[1,1,2,3,5,8]\n",
      "[1, 2, 3, 5, 8]\n",
      "D\n",
      "0\n",
      "[]\n",
      "error\n"
     ]
    }
   ],
   "source": [
    "import sys\n",
    "T=int(input())\n",
    "for _ in range(T):\n",
    "    isEnd=False; isReverse=False\n",
    "    testCase=[]\n",
    "#     command=list(sys.stdin.readline())\n",
    "#     n=int(sys.stdin.readline())\n",
    "#     temp=sys.stdin.readline().lstrip('[').rstrip(']\\n')\n",
    "    command=list(input())\n",
    "    n=int(input())\n",
    "    temp=input().lstrip('[').rstrip(']')\n",
    "    if (temp):\n",
    "        testCase=list(map(int,temp.split(',')))\n",
    "    for i in command:\n",
    "        if (i=='R'):\n",
    "            isReverse=not isReverse\n",
    "        elif (i=='D'):\n",
    "            if (testCase):\n",
    "                if(isReverse):\n",
    "                    del(testCase[-1])\n",
    "                else:\n",
    "                    del(testCase[0])\n",
    "            else:\n",
    "                print('error')\n",
    "                isEnd=True\n",
    "                break\n",
    "    if(not isEnd):\n",
    "        if (not isReverse):\n",
    "            print(testCase)\n",
    "        else:\n",
    "            res=[]\n",
    "            for i in testCase[::-1]:\n",
    "                res.append(i)\n",
    "            print(res)"
   ]
  },
  {
   "cell_type": "markdown",
   "metadata": {},
   "source": [
    "## 7569 토마토\n",
    "\n",
    "**문제로 이동** : [Baekjoon 토마토](https://www.acmicpc.net/problem/7569)\n"
   ]
  },
  {
   "cell_type": "code",
   "execution_count": 7,
   "metadata": {},
   "outputs": [
    {
     "name": "stdout",
     "output_type": "stream",
     "text": [
      "5 3 2\n",
      "0 0 0 0 0\n",
      "0 0 0 0 0\n",
      "0 0 0 0 0\n",
      "0 0 0 0 0\n",
      "0 0 1 0 0\n",
      "0 0 0 0 0\n",
      "4\n"
     ]
    }
   ],
   "source": [
    "from _collections import deque\n",
    "\n",
    "dx=[-1, 1, 0, 0, 0, 0]\n",
    "dy=[0, 0, -1, 1, 0, 0]\n",
    "dz=[0, 0, 0, 0, -1, 1]\n",
    "\n",
    "def tomato():\n",
    "    while q:\n",
    "        x, y, z = q.popleft()\n",
    "        for k in range(6):\n",
    "            nx = x + dx[k]\n",
    "            ny = y + dy[k]\n",
    "            nz = z + dz[k]\n",
    "            if 0 <= nx < H and 0 <= ny < M and 0 <= nz < N:\n",
    "                if box[nx][ny][nz] == 0:\n",
    "                    box[nx][ny][nz] = box[x][y][z] + 1\n",
    "                    q.append((nx, ny, nz))\n",
    "\n",
    "def getRes():\n",
    "    day = 0\n",
    "    for i in range(H):\n",
    "        for j in range(M):\n",
    "            for k in range(N):\n",
    "                if box[i][j][k] == 0:\n",
    "                    return -1\n",
    "                else:\n",
    "                    day = max(day, box[i][j][k])\n",
    "    return day - 1\n",
    "\n",
    "\n",
    "N, M, H = map(int, input().split())\n",
    "box=[[list(map(int,input().split())) for _ in range(M)] for _ in range(H)]\n",
    "q = deque()\n",
    "for i in range(H):\n",
    "    for j in range(M):\n",
    "        for k in range(N):\n",
    "            if box[i][j][k] == 1:\n",
    "                q.append((i, j, k))\n",
    "\n",
    "tomato()\n",
    "res = getRes()\n",
    "print(res)"
   ]
  },
  {
   "cell_type": "markdown",
   "metadata": {},
   "source": [
    "## 11726 2xn 타일링\n",
    "\n",
    "**문제로 이동** : [Baekjoon 2xn 타일링](https://www.acmicpc.net/problem/11726)\n"
   ]
  },
  {
   "cell_type": "code",
   "execution_count": 4,
   "metadata": {},
   "outputs": [
    {
     "name": "stdout",
     "output_type": "stream",
     "text": [
      "9\n",
      "55\n"
     ]
    }
   ],
   "source": [
    "n=int(input())\n",
    "memo=[0 for _ in range (1001)]\n",
    "memo[1]=1; memo[2]=2; memo[3]=3\n",
    "for i in range(4,n+1):\n",
    "    memo[i]=(memo[i-1]+memo[i-2])%10007\n",
    "print(memo[n])"
   ]
  },
  {
   "cell_type": "markdown",
   "metadata": {},
   "source": [
    "## 2661 좋은 수열\n",
    "\n",
    "**문제로 이동** : [Baekjoon 좋은 수열](https://www.acmicpc.net/problem/2661)\n",
    "\n",
    "???????????????????"
   ]
  },
  {
   "cell_type": "code",
   "execution_count": null,
   "metadata": {},
   "outputs": [],
   "source": []
  },
  {
   "cell_type": "markdown",
   "metadata": {},
   "source": [
    "## 2583 영역 구하기\n",
    "\n",
    "**문제로 이동** : [Baekjoon 영역 구하기](https://www.acmicpc.net/problem/2583)\n"
   ]
  },
  {
   "cell_type": "code",
   "execution_count": 8,
   "metadata": {},
   "outputs": [
    {
     "name": "stdout",
     "output_type": "stream",
     "text": [
      "5 7 3\n",
      "0 2 4 4\n",
      "1 1 2 5\n",
      "4 0 6 2\n",
      "3\n",
      "1 7 13 "
     ]
    }
   ],
   "source": [
    "from _collections import deque\n",
    "\n",
    "m, n, k = map(int, input().split())\n",
    "board = [[0] * n for i in range(m)]\n",
    "queue=deque()\n",
    "dx = [0, 0, -1, 1]\n",
    "dy = [-1, 1, 0, 0]\n",
    "cnt = []\n",
    "for i in range(k):\n",
    "    x1, y1, x2, y2 = map(int, input().split())\n",
    "    for j in range(y1, y2):\n",
    "        for k in range(x1, x2):\n",
    "            board[j][k] = 1\n",
    "for i in range(m):\n",
    "    for j in range(n):\n",
    "        if board[i][j] == 0:\n",
    "            count = 1\n",
    "            board[i][j] = 1\n",
    "            queue.append((i,j))\n",
    "            while queue:\n",
    "                x, y = queue.popleft()\n",
    "                for k in range(4):\n",
    "                    x1 = x + dx[k]\n",
    "                    y1 = y + dy[k]\n",
    "                    if 0 <= x1 < m and 0 <= y1 < n and board[x1][y1] == 0:\n",
    "                        board[x1][y1] = 1\n",
    "                        count += 1\n",
    "                        queue.append((x1, y1))\n",
    "            cnt.append(count)\n",
    "print(len(cnt))\n",
    "cnt.sort()\n",
    "for i in cnt:\n",
    "    print(i, end=' ')"
   ]
  },
  {
   "cell_type": "markdown",
   "metadata": {},
   "source": [
    "## 1697 숨바꼭질\n",
    "**문제로 이동** : [Baekjoon 숨바꼭질](https://www.acmicpc.net/problem/1697)\n"
   ]
  },
  {
   "cell_type": "code",
   "execution_count": 50,
   "metadata": {},
   "outputs": [
    {
     "name": "stdout",
     "output_type": "stream",
     "text": [
      "5 17\n",
      "4\n"
     ]
    }
   ],
   "source": [
    "from collections import deque\n",
    "\n",
    "n, k = map(int, input().split())\n",
    "time = [0 for i in range(100001)]\n",
    "\n",
    "queue = deque()\n",
    "queue.append(n)\n",
    "while (queue):\n",
    "    location=queue.popleft()\n",
    "    if location == k:\n",
    "        print(time[k])\n",
    "        break\n",
    "    for move in (location+1,location-1,location*2):\n",
    "        if (0<=move<100001 and time[move]==0):\n",
    "            time[move]=time[location]+1\n",
    "            queue.append(move)"
   ]
  },
  {
   "cell_type": "markdown",
   "metadata": {},
   "source": [
    "## 1644 소수의 연속합\n",
    "\n",
    "**문제로 이동** : [Baekjoon 소수의 연속합](https://www.acmicpc.net/problem/1644)\n",
    "\n",
    "?? 런타임 에러"
   ]
  },
  {
   "cell_type": "code",
   "execution_count": 33,
   "metadata": {},
   "outputs": [
    {
     "name": "stdout",
     "output_type": "stream",
     "text": [
      "41\n",
      "3\n"
     ]
    }
   ],
   "source": [
    "n = int(input())\n",
    " \n",
    "isPrime = [True] * (n+1)\n",
    "for i in range(2, int(n**0.5+1)):\n",
    "    if isPrime[i]:\n",
    "        for j in range(i+i,n+1,i):\n",
    "            isPrime[j]=False\n",
    "\n",
    "res=0\n",
    "for i in range(n,1,-1):\n",
    "    if(isPrime[i]):\n",
    "        temp=0\n",
    "    for j in range(i,1,-1):\n",
    "        if (isPrime[j]):\n",
    "            temp+=j\n",
    "            if(temp==n):\n",
    "                res+=1\n",
    "                break\n",
    "            elif(temp>n):\n",
    "                break\n",
    "print(res)"
   ]
  },
  {
   "cell_type": "markdown",
   "metadata": {},
   "source": [
    "## 2485 가로수\n",
    "\n",
    "**문제로 이동** : [Baekjoon 가로수](https://www.acmicpc.net/problem/2485)\n"
   ]
  },
  {
   "cell_type": "code",
   "execution_count": null,
   "metadata": {},
   "outputs": [],
   "source": [
    "#런타임에러\n",
    "def gcd (a,b):\n",
    "    while(a%b!=0):\n",
    "        a,b=b,a%b\n",
    "    return b\n",
    "\n",
    "N=int(input())\n",
    "location=[int(input()) for _ in range(N)]\n",
    "distance=[location[i]-location[i-1] for i in range(1,N)]\n",
    "tree=distance[0]\n",
    "for i in range(1,N-1):\n",
    "    tree=gcd(res,distance[i])\n",
    "res=(int(location[-1]/tree))-N\n",
    "if(location[-1]%tree!=0):\n",
    "    print(res+1)\n",
    "else:\n",
    "    print(res)"
   ]
  },
  {
   "cell_type": "code",
   "execution_count": 73,
   "metadata": {},
   "outputs": [
    {
     "name": "stdout",
     "output_type": "stream",
     "text": [
      "4\n",
      "2\n",
      "6\n",
      "12\n",
      "18\n",
      "5\n"
     ]
    }
   ],
   "source": [
    "#쓸데없는 배열 줄이고\n",
    "#res 계산 거리차이로 일반화 계산 거리차이로 일반화\n",
    "def gcd (a,b):\n",
    "    while(a%b!=0):\n",
    "        a,b=b,a%b\n",
    "    return b\n",
    "\n",
    "N=int(input())\n",
    "location=[int(input()) for _ in range(N)]\n",
    "distance=location[1]-location[0]\n",
    "for i in range(2,N):\n",
    "    distance=gcd(distance, location[i]-location[i-1])\n",
    "res=(location[-1]-location[0])//distance-N+1\n",
    "print(res)"
   ]
  },
  {
   "cell_type": "markdown",
   "metadata": {},
   "source": [
    "## 1912 연속합\n",
    "\n",
    "**문제로 이동** : [Baekjoon 연속합](https://www.acmicpc.net/problem/1912)\n"
   ]
  },
  {
   "cell_type": "code",
   "execution_count": 2,
   "metadata": {},
   "outputs": [
    {
     "name": "stdout",
     "output_type": "stream",
     "text": [
      "10\n",
      "10 -4 3 1 5 6 -35 12 21 -1\n",
      "33\n"
     ]
    }
   ],
   "source": [
    "# 마이너스 값으로 나누어서 비교\n",
    "# => 음수 값이 더해져도 최댓값 나오는 반례 존재\n",
    "N=int(input())\n",
    "inputArr=list(map(int,input().split()))\n",
    "sumArr=[0]*len(inputArr)\n",
    "index=0\n",
    "for i in inputArr:\n",
    "    if (i>=0):\n",
    "        sumArr[index]+=i\n",
    "    else:\n",
    "        index+=1\n",
    "print(max(sumArr))"
   ]
  },
  {
   "cell_type": "code",
   "execution_count": 16,
   "metadata": {},
   "outputs": [
    {
     "name": "stdout",
     "output_type": "stream",
     "text": [
      "10\n",
      "10 -4 3 1 5 6 -35 12 21 -1\n",
      "33\n"
     ]
    }
   ],
   "source": [
    "N=int(input())\n",
    "inputArr=list(map(int,input().split()))\n",
    "sumArr=[inputArr[0]]\n",
    "for i in range(N - 1):\n",
    "    sumArr.append(max(sumArr[i] + inputArr[i + 1], inputArr[i + 1]))\n",
    "print(max(sumArr))"
   ]
  },
  {
   "cell_type": "markdown",
   "metadata": {},
   "source": [
    "## 2580 스도쿠\n",
    "\n",
    "**문제로 이동** : [Baekjoon 스도쿠](https://www.acmicpc.net/problem/2580)\n"
   ]
  },
  {
   "cell_type": "code",
   "execution_count": 54,
   "metadata": {},
   "outputs": [
    {
     "name": "stdout",
     "output_type": "stream",
     "text": [
      "0 3 5 4 6 9 2 7 8\n",
      "7 8 2 1 0 5 6 0 9\n",
      "0 6 0 2 7 8 1 3 5\n",
      "3 2 1 0 4 6 8 9 7\n",
      "8 0 4 9 1 3 5 0 6\n",
      "5 9 6 8 2 0 4 1 3\n",
      "9 1 7 6 5 2 0 8 0\n",
      "6 0 3 7 0 1 9 5 2\n",
      "2 5 8 3 9 4 7 6 0\n",
      "1 3 5 4 6 9 2 7 8\n",
      "7 8 2 1 3 5 6 4 9\n",
      "4 6 9 2 7 8 1 3 5\n",
      "3 2 1 5 4 6 8 9 7\n",
      "8 7 4 9 1 3 5 2 6\n",
      "5 9 6 8 2 7 4 1 3\n",
      "9 1 7 6 5 2 3 8 4\n",
      "6 4 3 7 8 1 9 5 2\n",
      "2 5 8 3 9 4 7 6 1\n"
     ]
    }
   ],
   "source": [
    "#2580 스도쿠\n",
    "sudoku = [list(map(int, input().split())) for _ in range(9)]\n",
    "zeros = [(i, j) for i in range(9) for j in range(9) if sudoku[i][j] == 0]\n",
    "\n",
    "def isCorrect(i, j):\n",
    "    correct = [1,2,3,4,5,6,7,8,9]    \n",
    "    \n",
    "    for k in range(9):\n",
    "        if sudoku[i][k] in correct:\n",
    "            correct.remove(sudoku[i][k])\n",
    "        if sudoku[k][j] in correct:\n",
    "            correct.remove(sudoku[k][j])  \n",
    "    i//= 3\n",
    "    j//= 3\n",
    "    for p in range(i*3, (i+1)*3):\n",
    "        for q in range(j*3, (j+1)*3):\n",
    "            if sudoku[p][q] in correct:\n",
    "                correct.remove(sudoku[p][q])\n",
    "    return correct\n",
    "\n",
    "flag = False \n",
    "def dfs(x):\n",
    "    global flag\n",
    "    if flag:\n",
    "        return\n",
    "    if x == len(zeros):\n",
    "        for row in sudoku:\n",
    "            print(*row)\n",
    "        flag = True\n",
    "        return\n",
    "        \n",
    "    else:    \n",
    "        (i, j) = zeros[x]\n",
    "        correct = isCorrect(i, j) #들어갈 수 있는 숫자들\n",
    "        \n",
    "        for num in correct:\n",
    "            sudoku[i][j]=num\n",
    "            dfs(x + 1)\n",
    "            sudoku[i][j]=0\n",
    "dfs(0)"
   ]
  },
  {
   "cell_type": "code",
   "execution_count": null,
   "metadata": {},
   "outputs": [],
   "source": []
  }
 ],
 "metadata": {
  "kernelspec": {
   "display_name": "Python 3",
   "language": "python",
   "name": "python3"
  },
  "language_info": {
   "codemirror_mode": {
    "name": "ipython",
    "version": 3
   },
   "file_extension": ".py",
   "mimetype": "text/x-python",
   "name": "python",
   "nbconvert_exporter": "python",
   "pygments_lexer": "ipython3",
   "version": "3.8.3"
  }
 },
 "nbformat": 4,
 "nbformat_minor": 4
}
