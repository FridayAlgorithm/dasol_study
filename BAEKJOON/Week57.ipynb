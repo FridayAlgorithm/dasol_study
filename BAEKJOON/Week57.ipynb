{
 "cells": [
  {
   "cell_type": "markdown",
   "metadata": {},
   "source": [
    "# 57주차\n",
    "\n",
    "[57주차 문제집](https://www.acmicpc.net/group/workbook/view/10320/42467)\n",
    "\n",
    "* [11404 플로이드](https://www.acmicpc.net/problem/11404)\n",
    "* [16946 벽 부수고 이동하기4](https://www.acmicpc.net/problem/16946)\n",
    "* [2156 포도주 시식](https://www.acmicpc.net/problem/2156)\n",
    "* [3020 개똥벌레](https://www.acmicpc.net/problem/3020)\n",
    "* [7795 먹을 것인가 먹힐 것인가](https://www.acmicpc.net/problem/7795)"
   ]
  },
  {
   "cell_type": "markdown",
   "metadata": {},
   "source": [
    "## 11404 플로이드\n",
    "\n",
    "**문제로 이동** : [Baekjoon 플로이드](https://www.acmicpc.net/problem/11404)\n",
    "\n",
    "- n개의 도시에 m개의 버스가 있다\n",
    "- 각 버스는 사용할 때마다 필요한 비용이 있다\n",
    "- 모든 도시의 쌍에 대해 비용이 주어졌을 때 필요한 비용의 최솟값을 구하라"
   ]
  },
  {
   "cell_type": "code",
   "execution_count": 2,
   "metadata": {},
   "outputs": [
    {
     "name": "stdout",
     "output_type": "stream",
     "text": [
      "5\n",
      "14\n",
      "1 2 2\n",
      "1 3 3\n",
      "1 4 1\n",
      "1 5 10\n",
      "2 4 2\n",
      "3 4 1\n",
      "3 5 1\n",
      "4 5 3\n",
      "3 5 10\n",
      "3 1 8\n",
      "1 4 2\n",
      "5 1 7\n",
      "3 4 2\n",
      "5 2 4\n",
      "0 2 3 1 4 \n",
      "12 0 15 2 5 \n",
      "8 5 0 1 1 \n",
      "10 7 13 0 3 \n",
      "7 4 10 6 0 \n"
     ]
    }
   ],
   "source": [
    "import sys\n",
    "\n",
    "#input=sys.stdin.readline\n",
    "INF=1e9\n",
    "n=int(input())\n",
    "m=int(input())\n",
    "cost=[[INF]*(n+1) for _ in range(n+1)]\n",
    "for _ in range(m):\n",
    "    a,b,c=map(int,input().split())\n",
    "    cost[a][b]=min(cost[a][b],c)\n",
    "    \n",
    "for k in range(1,n+1):\n",
    "    for i in range(1,n+1):\n",
    "        for j in range(1, n+1):\n",
    "            cost[i][j]=min(cost[i][j], cost[i][k]+cost[k][j])\n",
    "\n",
    "for i in range(1,n+1):\n",
    "    for j in range(1,n+1):\n",
    "        if cost[i][j]==INF or i==j:\n",
    "            print(0, end=' ')\n",
    "        else:\n",
    "            print(cost[i][j], end=' ')\n",
    "    print()"
   ]
  },
  {
   "cell_type": "markdown",
   "metadata": {},
   "source": [
    "## 16946 벽 부수고 이동하기 4\n",
    "\n",
    "**문제로 이동** : [Baekjoon 벽 부수고 이동하기 4](https://www.acmicpc.net/problem/16946)\n",
    "\n",
    "- N\\*M의 행렬로 표현되는 맵이 있다\n",
    "- 0은 이동할 수 있는곳, 1은 이동한 수 없는 벽이다\n",
    "- 한 칸에서 다른 칸으로 이동하기 위해서는 두 칸이 인접해야 한다\n",
    "- 각 벽에 대해 다음을 구하려고 한다\n",
    "  * 벽을 부수고 이동할 수 있는 곳으로 변경한다\n",
    "  * 그 위치에서 이동할 수 있는 칸의 개수를 세어본다"
   ]
  },
  {
   "cell_type": "code",
   "execution_count": 14,
   "metadata": {},
   "outputs": [
    {
     "name": "stdout",
     "output_type": "stream",
     "text": [
      "3 3\n",
      "101\n",
      "010\n",
      "101\n",
      "303\n",
      "050\n",
      "303\n"
     ]
    }
   ],
   "source": [
    "#시간초과\n",
    "import sys\n",
    "import copy\n",
    "from collections import deque\n",
    "\n",
    "#input=sys.stdin.readline\n",
    "N,M=map(int,input().split())\n",
    "board=[list(input().strip()) for _ in range(N)]\n",
    "    \n",
    "dx=[-1,1,0,0]\n",
    "dy=[0,0,-1,1]\n",
    "def bfs(temp, i,j):\n",
    "    visit=[[0]*M for _ in range(N)]\n",
    "    count=1\n",
    "    queue=deque()\n",
    "    queue.append((i,j))\n",
    "    while queue:\n",
    "        x,y=queue.popleft()\n",
    "        temp[x][y]=0\n",
    "        for d in range(4):\n",
    "            nx=x+dx[d]\n",
    "            ny=y+dy[d]\n",
    "            if (0<=nx<N and 0<=ny<M and temp[nx][ny]=='0' and not visit[nx][ny]):\n",
    "                count+=1\n",
    "                visit[nx][ny]=True\n",
    "                queue.append((nx,ny))\n",
    "    return count\n",
    "\n",
    "res=[[0]*(M) for _ in range(N)]\n",
    "for i in range(N):\n",
    "    for j in range(M):\n",
    "        if board[i][j]=='1':\n",
    "            res[i][j]=bfs(copy.deepcopy(board), i,j)\n",
    "\n",
    "for i in range(N):\n",
    "    for j in range(M):\n",
    "        print(res[i][j]%10, end='')\n",
    "    print()"
   ]
  },
  {
   "cell_type": "markdown",
   "metadata": {},
   "source": [
    "## 2156 포도주 시식\n",
    "**문제로 이동** : [Baekjoon 포도주 시식](https://www.acmicpc.net/problem/2156)\n",
    "\n",
    "- 포도주 시사회에는 다음 두 가지 규칙이 있다\n",
    "  * 포도주 잔을 선택하면 포도주는 모두 마시고 원래 위치에 놓아야한다\n",
    "  * 연속으로 놓여있는 3잔을 모두 마실 수는 없다\n",
    "- 최대한 많은 양의 포도주를 맛보기 위해 어떤 포도주 잔을 선택해야하는가\n",
    "- 포도주는 1부터 n까지의 번호의 잔이 일렬로 놓여있다"
   ]
  },
  {
   "cell_type": "code",
   "execution_count": 16,
   "metadata": {},
   "outputs": [
    {
     "name": "stdout",
     "output_type": "stream",
     "text": [
      "6\n",
      "6\n",
      "10\n",
      "13\n",
      "9\n",
      "8\n",
      "1\n",
      "33\n"
     ]
    }
   ],
   "source": [
    "import sys\n",
    "\n",
    "#input=sys.stdin.readline\n",
    "n=int(input())\n",
    "dp=[0]\n",
    "wine=[int(input()) for _ in range(n)]\n",
    "dp.append(wine[0])\n",
    "if n>1:\n",
    "    dp.append(wine[0]+wine[1])\n",
    "\n",
    "for i in range(3, n+1):\n",
    "    dp.append(max(dp[i-3]+wine[i-1-1]+wine[i-1], dp[i-1], dp[i-2]+wine[i-1]))\n",
    "print(dp[-1])"
   ]
  },
  {
   "cell_type": "markdown",
   "metadata": {},
   "source": [
    "## 3020 개똥벌레\n",
    "\n",
    "**문제로 이동** : [Baekjoon 개똥벌레](https://www.acmicpc.net/problem/3020)\n",
    "\n",
    "- 개똥벌레 한마리가 장애물로 가득찬 동굴에 들어갔다\n",
    "- 동굴의 길이는 N미터, 높이는 H미터이다\n",
    "- 장애물은 석순, 종유석이 번갈아 등장한다\n",
    "- 동굴의 정보가 주어질 때 개똥벌레가 가장 적은 장애물을 파괴하는 구간이 몇 개인지 구하라"
   ]
  },
  {
   "cell_type": "code",
   "execution_count": 10,
   "metadata": {},
   "outputs": [
    {
     "name": "stdout",
     "output_type": "stream",
     "text": [
      "14 5\n",
      "1\n",
      "3\n",
      "4\n",
      "2\n",
      "2\n",
      "4\n",
      "3\n",
      "4\n",
      "3\n",
      "3\n",
      "3\n",
      "2\n",
      "3\n",
      "3\n",
      "7 2\n"
     ]
    }
   ],
   "source": [
    "#메모리 초과\n",
    "import sys\n",
    "\n",
    "# input = sys.stdin.readline\n",
    "N,H=map(int,input().split())\n",
    "cave=[[0]*N for _ in range(H)]\n",
    "for i in range(N):\n",
    "    a=int(input())\n",
    "    if i%2==0:\n",
    "        for j in range(a):\n",
    "            cave[H-j-1][i]=1\n",
    "    else:\n",
    "        for j in range(a):\n",
    "            cave[j][i]=1\n",
    "            \n",
    "total, mini=0,1e9\n",
    "for i in cave:\n",
    "    if mini>sum(i):\n",
    "        mini=sum(i)\n",
    "        total=1\n",
    "    elif mini==sum(i):\n",
    "        total+=1\n",
    "print(mini, total)"
   ]
  },
  {
   "cell_type": "code",
   "execution_count": 36,
   "metadata": {},
   "outputs": [
    {
     "name": "stdout",
     "output_type": "stream",
     "text": [
      "6 7\n",
      "1\n",
      "5\n",
      "3\n",
      "3\n",
      "5\n",
      "1\n",
      "2 3\n"
     ]
    }
   ],
   "source": [
    "import sys\n",
    "\n",
    "#input=sys.stdin.readline\n",
    "N,H=map(int,input().split())\n",
    "top=[0]*H\n",
    "bottom=[0]*H\n",
    "\n",
    "for i in range(N):\n",
    "    num=int(input())\n",
    "    if i%2==0:\n",
    "        bottom[H-num]+=1\n",
    "    else: \n",
    "        top[num-1]+=1\n",
    "        \n",
    "for i in range(H-2,-1,-1):\n",
    "    top[i]+=top[i+1]\n",
    "for i in range(1, H):\n",
    "    bottom[i]+=bottom[i-1]\n",
    "\n",
    "total=[0]*H\n",
    "for i in range(H):\n",
    "    total[i]=top[i]+bottom[i]\n",
    "res=min(total)\n",
    "print(res, total.count(res))"
   ]
  },
  {
   "cell_type": "markdown",
   "metadata": {},
   "source": [
    "## 7795 먹을 것인가 먹힐 것인가\n",
    "\n",
    "**문제로 이동** : [Baekjoon 먹을 것인가 먹힐 것인가](https://www.acmicpc.net/problem/7795)\n",
    "\n",
    "- A는 자기보다 크기가 작은 먹이만 먹을 수 있다\n",
    "- 두 생명체 크기가 주어질 때 A의 크기가 B보다 큰 쌍이 몇개나 있는가?"
   ]
  },
  {
   "cell_type": "code",
   "execution_count": 14,
   "metadata": {},
   "outputs": [
    {
     "name": "stdout",
     "output_type": "stream",
     "text": [
      "2\n",
      "5 3\n",
      "8 1 7 3 1\n",
      "3 6 1\n",
      "7\n",
      "3 4\n",
      "2 13 7\n",
      "103 11 290 215\n",
      "1\n"
     ]
    }
   ],
   "source": [
    "import sys\n",
    "\n",
    "#input=sys.stdin.readline\n",
    "T=int(input())\n",
    "for _ in range(T):\n",
    "    N,M=map(int,input().split())\n",
    "    a=list(map(int,input().split()))\n",
    "    b=list(map(int,input().split()))\n",
    "    count=0\n",
    "    for i in a:\n",
    "        for j in b:\n",
    "            if (i>j):count+=1\n",
    "    print(count)"
   ]
  },
  {
   "cell_type": "code",
   "execution_count": 30,
   "metadata": {},
   "outputs": [
    {
     "name": "stdout",
     "output_type": "stream",
     "text": [
      "2\n",
      "5 3\n",
      "8 1 7 3 1\n",
      "3 6 1\n",
      "[1, 1, 3, 7, 8]\n",
      "[1, 3, 6]\n",
      "7\n",
      "3 4\n",
      "2 13 7\n",
      "103 11 290 215\n",
      "[2, 7, 13]\n",
      "[11, 103, 215, 290]\n",
      "1\n"
     ]
    }
   ],
   "source": [
    "import sys\n",
    "\n",
    "#input=sys.stdin.readline\n",
    "T=int(input())\n",
    "\n",
    "def searchIdx(arr, num):\n",
    "    start, end=0,len(arr)-1\n",
    "    idx=-1\n",
    "    while start<=end:\n",
    "        mid=(start+end)//2\n",
    "        if arr[mid]<num:\n",
    "            idx=mid\n",
    "            start=mid+1\n",
    "        else:\n",
    "            end=mid-1\n",
    "    return idx\n",
    "    \n",
    "    \n",
    "for _ in range(T):\n",
    "    N,M=map(int,input().split())\n",
    "    a=list(map(int,input().split()))\n",
    "    b=list(map(int,input().split()))\n",
    "    a.sort()\n",
    "    b.sort()\n",
    "    count=0\n",
    "    for num in a:\n",
    "        count+=(searchIdx(b, num)+1)\n",
    "    print(count)"
   ]
  },
  {
   "cell_type": "code",
   "execution_count": null,
   "metadata": {},
   "outputs": [],
   "source": []
  }
 ],
 "metadata": {
  "kernelspec": {
   "display_name": "Python 3",
   "language": "python",
   "name": "python3"
  },
  "language_info": {
   "codemirror_mode": {
    "name": "ipython",
    "version": 3
   },
   "file_extension": ".py",
   "mimetype": "text/x-python",
   "name": "python",
   "nbconvert_exporter": "python",
   "pygments_lexer": "ipython3",
   "version": "3.8.3"
  }
 },
 "nbformat": 4,
 "nbformat_minor": 4
}
