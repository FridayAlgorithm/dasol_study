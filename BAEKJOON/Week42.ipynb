{
 "cells": [
  {
   "cell_type": "markdown",
   "metadata": {},
   "source": [
    "# 42주차\n",
    "\n",
    "[42주차 문제집](https://www.acmicpc.net/group/workbook/view/10320/38645)\n",
    "\n",
    "* [2470 두 용액](https://www.acmicpc.net/problem/2470)\n",
    "* [1946 신입 사원](https://www.acmicpc.net/problem/1946)\n",
    "* [2302 극장 좌석](https://www.acmicpc.net/problem/2302)\n",
    "* [2206 벽 부수고 이동하기](https://www.acmicpc.net/problem/2206)\n",
    "* [16234 인구 이동](https://www.acmicpc.net/problem/16234)\n",
    "* [2589 보물섬](https://www.acmicpc.net/problem/2589)"
   ]
  },
  {
   "cell_type": "markdown",
   "metadata": {},
   "source": [
    "## 2470 두 용액\n",
    "\n",
    "**문제로 이동** : [Baekjoon 두 용액](https://www.acmicpc.net/problem/2470)\n",
    "\n",
    "- 용액에는 특성을 나타내는 하나의 정수가 주어져있다\n",
    "- 산성용액은 양의정수, 알칼리성 용액은 음의 정수로 나타낸다\n",
    "- 혼합한 용액의 특성값은 각 용액의 특성값의 합으로 정의한다\n",
    "- 같은 양의 두 용액을 혼합하여 특성값이 0에 가까운 용액을 만들려고 한다\n",
    "- 특성 값이 주어졌을 때 서로 다른 용액을 혼합하여 특성값이 0에 가까운 용액을 만들어내는 프로그램을 작성하라"
   ]
  },
  {
   "cell_type": "code",
   "execution_count": 8,
   "metadata": {},
   "outputs": [
    {
     "name": "stdout",
     "output_type": "stream",
     "text": [
      "4\n",
      "7 6 -2 -1\n",
      "-1 -1\n"
     ]
    }
   ],
   "source": [
    "N=int(input())\n",
    "liquid=list(map(int,input().split()))\n",
    "liquid.sort()\n",
    "\n",
    "left,right=0, N-1\n",
    "res1, res2=0,0\n",
    "maxDiff=2000000000\n",
    "\n",
    "while(left<right):\n",
    "    mix=liquid[left]+liquid[right]\n",
    "    diff=abs(mix)\n",
    "    \n",
    "    if (maxDiff>diff):\n",
    "        maxDiff=diff\n",
    "        res1, res2=liquid[left],liquid[right]\n",
    "        \n",
    "    if mix>0:\n",
    "        right-=1\n",
    "    else:\n",
    "        left+=1\n",
    "        \n",
    "print(res1, res2)"
   ]
  },
  {
   "cell_type": "markdown",
   "metadata": {},
   "source": [
    "## 1946 신입 사원\n",
    "\n",
    "**문제로 이동** : [Baekjoon 신입 사원](https://www.acmicpc.net/problem/1946)\n",
    "\n",
    "- 신규 사원 채용은 1차 서류심사와 2차 면접시험으로 이루어진다\n",
    "- 2차의 심사 성적 모두 다른 어떤 지원자보다 모두 떨어진다면 선발되지 못한다\n",
    "- 신규 사원 채용에서 선발할 수 있는 신입사원의 최대 인원수를 구하라"
   ]
  },
  {
   "cell_type": "code",
   "execution_count": 11,
   "metadata": {},
   "outputs": [
    {
     "name": "stdout",
     "output_type": "stream",
     "text": [
      "1\n",
      "5\n",
      "3 2\n",
      "1 4\n",
      "4 1\n",
      "2 3\n",
      "5 5\n",
      "[[1, 4], [2, 3], [3, 2], [4, 1], [5, 5]]\n"
     ]
    }
   ],
   "source": [
    "import sys\n",
    "\n",
    "#input=sys.stdin.readline\n",
    "T=int(input())\n",
    "\n",
    "for _ in range(T):\n",
    "    N=int(input())\n",
    "    rank=[list(map(int,input().split())) for _ in range(N)]\n",
    "    rank.sort()\n",
    "    \n",
    "    minScore=rank[0][1]\n",
    "    res=1\n",
    "    for i in range(1,N):\n",
    "        if rank[i][1]<minScore:\n",
    "            res+=1\n",
    "            minScore=rank[i][1]\n",
    "    print(res)"
   ]
  },
  {
   "cell_type": "markdown",
   "metadata": {},
   "source": [
    "## 2302 극장 좌석\n",
    "\n",
    "**문제로 이동** : [Baekjoon 극장 좌석](https://www.acmicpc.net/problem/2302)\n",
    "\n",
    "- 극장의 좌석은 자신의 바로 왼쪽 또는 오른쪽 좌석으로 옮길 수 있다\n",
    "- VIP 회원들은 반드시 자기 좌석에만 앉아야한다\n",
    "- 1번부터 N번 좌석까지 모두 팔렸을 때 사람들이 좌석에 앉는 서로 다른 가짓수를 구하는 프로그램을 작성하라"
   ]
  },
  {
   "cell_type": "code",
   "execution_count": 15,
   "metadata": {},
   "outputs": [
    {
     "name": "stdout",
     "output_type": "stream",
     "text": [
      "9\n",
      "2\n",
      "4\n",
      "7\n",
      "[4, 7]\n"
     ]
    }
   ],
   "source": [
    "N=int(input())\n",
    "M=int(input())\n",
    "vipSeat=[int(input()) for _ in range(M)]\n",
    "print(vipSeat)"
   ]
  },
  {
   "cell_type": "markdown",
   "metadata": {},
   "source": [
    "## 2206 벽 부수고 이동하기\n",
    "\n",
    "**문제로 이동** : [Baekjoon 벽 부수고 이동하기](https://www.acmicpc.net/problem/2206)\n",
    "\n",
    "- 맵에서 0은 이동할 수 있고, 1은 이동할 수 없는 벽을 의미한다\n",
    "- (1, 1)에서 (N, M)으로 최단 경로로 이동하려 한다\n",
    "- 벽은 한 개까지 부수고 이동할 수 있다\n",
    "- 맵이 주어질 때 최단 경로를 구하는 프로그램을 작성하라"
   ]
  },
  {
   "cell_type": "code",
   "execution_count": 22,
   "metadata": {},
   "outputs": [
    {
     "name": "stdout",
     "output_type": "stream",
     "text": [
      "6 4\n",
      "0100\n",
      "1110\n",
      "1000\n",
      "0000\n",
      "0111\n",
      "0000\n",
      "15\n"
     ]
    }
   ],
   "source": [
    "from collections import deque \n",
    "\n",
    "n, m = map(int, input().split()) \n",
    "board=[] \n",
    "for i in range(n): \n",
    "    board.append(list(input()))\n",
    "    \n",
    "dx = [-1, 1, 0, 0] \n",
    "dy = [0, 0, -1, 1] \n",
    "\n",
    "def bfs(): \n",
    "    queue = deque() \n",
    "    queue.append([0, 0, 1]) \n",
    "    visited = [[[0] * 2 for _ in range(m)] for _ in range(n)] \n",
    "    visited[0][0][1] = 1 \n",
    "    while queue: \n",
    "        x, y, breakAble = queue.popleft() \n",
    "        if x == n-1 and y == m-1: \n",
    "            return visited[x][y][breakAble] \n",
    "        for i in range(4): \n",
    "            nx = dx[i] + x \n",
    "            ny = dy[i] + y \n",
    "            if 0 <= nx < n and 0 <= ny < m: \n",
    "                if board[nx][ny] == '1' and breakAble == 1: \n",
    "                    visited[nx][ny][0] = visited[x][y][1] + 1 \n",
    "                    queue.append([nx, ny, 0]) \n",
    "                elif board[nx][ny] == '0' and not visited[nx][ny][breakAble]:\n",
    "                    visited[nx][ny][breakAble] = visited[x][y][breakAble] + 1 \n",
    "                    queue.append([nx, ny, breakAble]) \n",
    "    return -1 \n",
    "    \n",
    "print(bfs())"
   ]
  },
  {
   "cell_type": "markdown",
   "metadata": {},
   "source": [
    "## 16234 인구 이동\n",
    "\n",
    "**문제로 이동** : [Baekjoon 인구 이동](https://www.acmicpc.net/problem/16234)\n",
    "\n",
    "- N\\*N 크기의 땅에 나라가 하나씩 존재하며 인접한 나라 사이에 국경이 존재한다\n",
    "- 인구이동은 하루동안 다음과 같이 진행되고 이동이 없을 때까지 지속된다\n",
    "  * 두 나라의 인구 차이가 L명 이상, R명 이하라면 국경을 연다\n",
    "  * 국경이 열려 인접한 칸을 이용해 이동가능하면 연합이라고 한다\n",
    "  * 연합을 이루고 있는 각 칸의 인구는 (연합 인구)/(연합 칸 개수)이다\n",
    "  * 연합을 해체하고 국격을 닫는다\n",
    "- 각 나라의 인구수가 주어질 때 인구이동이 며칠동안 발생하는지 구하라"
   ]
  },
  {
   "cell_type": "code",
   "execution_count": 21,
   "metadata": {},
   "outputs": [
    {
     "name": "stdout",
     "output_type": "stream",
     "text": [
      "2 20 50\n",
      "50 30\n",
      "20 40\n",
      "1\n"
     ]
    }
   ],
   "source": [
    "#시간초과 -> pypy제출\n",
    "from collections import deque\n",
    "\n",
    "def findUnion(start,num):\n",
    "    queue = deque()\n",
    "    queue.append(start)\n",
    "    union[start[0]][start[1]]=num\n",
    "    people=country[start[0]][start[1]]\n",
    "    count=1\n",
    "    while queue:\n",
    "        x,y=queue.popleft()\n",
    "        for k in range(4):\n",
    "            nx=x+dx[k]\n",
    "            ny=y+dy[k]\n",
    "            if 0<=nx<N and 0<=ny<N and union[nx][ny]==-1:\n",
    "                if (mini<=abs(country[x][y]-country[nx][ny])<=maxi):\n",
    "                    people+=country[nx][ny]\n",
    "                    union[nx][ny]=num\n",
    "                    count+=1\n",
    "                    queue.append([nx,ny])\n",
    "    return [people,count]\n",
    "\n",
    "N,mini,maxi=map(int,input().split())\n",
    "country = [list(map(int,input().split())) for _ in range(N)]\n",
    "\n",
    "dx=[0,0,-1,1]\n",
    "dy=[-1,1,0,0]\n",
    "cnt=0\n",
    "while True:\n",
    "    union = [[-1] * N for _ in range(N)]\n",
    "    n=0\n",
    "    unionInfo={}\n",
    "    for i in range(N):\n",
    "        for j in range(N):\n",
    "            if union[i][j]==-1:\n",
    "                unionInfo[n]=findUnion([i,j],n)\n",
    "                n+=1\n",
    "\n",
    "    if n==N*N:\n",
    "        break\n",
    "    for i in range(N):\n",
    "        for j in range(N):\n",
    "            country[i][j]=unionInfo[union[i][j]][0]//unionInfo[union[i][j]][1]\n",
    "    cnt+=1\n",
    "print(cnt)"
   ]
  },
  {
   "cell_type": "markdown",
   "metadata": {},
   "source": [
    "## 2589 보물섬\n",
    "\n",
    "**문제로 이동** : [Baekjoon 보물섬](https://www.acmicpc.net/problem/2589)\n",
    "\n",
    "- 지도에서 이동은 상하좌우로 이웃한 육지로만 가능하고 한 칸 이동하는데 한 시간이 걸린다\n",
    "- 보물은 최단거리 이동시 가장 긴 시간이 걸리는 육지 두 곳에 묻혀있다\n",
    "- 최단거리를 이동할 때에는 같은 곳을 지나거나 멀리 돌아가서는 안된다\n",
    "- 보물 지도가 주어질 때 보물이 묻힌 두 곳 간의 최단거리 이동 시간을 구하라"
   ]
  },
  {
   "cell_type": "code",
   "execution_count": 20,
   "metadata": {},
   "outputs": [
    {
     "name": "stdout",
     "output_type": "stream",
     "text": [
      "5 7\n",
      "WLLWWWL\n",
      "LLLWLLL\n",
      "LWLWLWW\n",
      "LWLWLLL\n",
      "WLLWLWW\n",
      "8\n"
     ]
    }
   ],
   "source": [
    "#시간초과 -> pypy\n",
    "import sys\n",
    "from collections import deque\n",
    "\n",
    "#input=sys.stdin.readline\n",
    "L,W=map(int,input().split())\n",
    "board=[list(map(str,input().rstrip())) for _ in range(L)]\n",
    "\n",
    "dx=[1,-1,0,0]\n",
    "dy=[0,0,1,-1]\n",
    "res=[]\n",
    "for i in range(L):\n",
    "    for j in range(W):\n",
    "        if board[i][j]=='L':\n",
    "            queue=deque()\n",
    "            visit=[[False]*W for _ in range(L)]\n",
    "            queue.append((i,j,0))\n",
    "            visit[i][j]=True\n",
    "            maxDist=0\n",
    "            while queue:\n",
    "                x,y,distance=queue.popleft()\n",
    "                if distance>maxDist:\n",
    "                    maxDist=distance\n",
    "                for d in range(4):\n",
    "                    nx=x+dx[d]\n",
    "                    ny=y+dy[d]\n",
    "                    if (0<=nx<L and 0<=ny<W and board[nx][ny]==\"L\"):\n",
    "                        if not visit[nx][ny]:\n",
    "                            queue.append((nx,ny,distance+1))\n",
    "                            visit[nx][ny]=True\n",
    "            res.append(maxDist)\n",
    "print(max(res))"
   ]
  },
  {
   "cell_type": "code",
   "execution_count": null,
   "metadata": {},
   "outputs": [],
   "source": []
  }
 ],
 "metadata": {
  "kernelspec": {
   "display_name": "Python 3",
   "language": "python",
   "name": "python3"
  },
  "language_info": {
   "codemirror_mode": {
    "name": "ipython",
    "version": 3
   },
   "file_extension": ".py",
   "mimetype": "text/x-python",
   "name": "python",
   "nbconvert_exporter": "python",
   "pygments_lexer": "ipython3",
   "version": "3.8.3"
  }
 },
 "nbformat": 4,
 "nbformat_minor": 4
}
