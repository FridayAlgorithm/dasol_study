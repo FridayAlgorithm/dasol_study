{
 "cells": [
  {
   "cell_type": "markdown",
   "metadata": {},
   "source": [
    "# 67주차\n",
    "\n",
    "#### [67주차 문제집](https://www.acmicpc.net/group/workbook/view/10320/46576)\n",
    "\n",
    "* [16946 벽 부수고 이동하기4](https://www.acmicpc.net/problem/16946)\n",
    "* [15486 퇴사2](https://www.acmicpc.net/problem/15486)\n",
    "* [2644 촌수계산](https://www.acmicpc.net/problem/2644)\n",
    "* [11656 접미사 배열](https://www.acmicpc.net/problem/11656)\n",
    "* [1525 퍼즐](https://www.acmicpc.net/problem/1525)"
   ]
  },
  {
   "cell_type": "markdown",
   "metadata": {},
   "source": [
    "## 16946 벽 부수고 이동하기 4\n",
    "\n",
    "**문제로 이동** : [Baekjoon 벽부수고 이동하기4](https://www.acmicpc.net/problem/16946)\n",
    "\n",
    "- N\\*M의 행렬로 표현되는 맵이 있다.\n",
    "- 0은 이동할 수 있는 곳을 나타내고, 1은 이동할 수 없는 벽을 나타낸다\n",
    "- 다른 칸으로 이동하기 위해 두 칸이 인접해야 한다\n",
    "- 각 벽에 대해 다음을 구해보려 한다\n",
    "  * 벽을 부수고 이동할 수 있는 곳으로 변경한다\n",
    "  * 그 위치에서 이동할 수 있는 칸의 개수를 세어본다\n",
    "- 벽인 곳은 이동할 수 있는 칸의 개수를 10으로 나눈 나머지를 출력한다"
   ]
  },
  {
   "cell_type": "code",
   "execution_count": 6,
   "metadata": {},
   "outputs": [
    {
     "name": "stdout",
     "output_type": "stream",
     "text": [
      "3 3\n",
      "101\n",
      "010\n",
      "101\n",
      "303\n",
      "050\n",
      "303\n"
     ]
    }
   ],
   "source": [
    "#시간초과\n",
    "import sys\n",
    "import copy\n",
    "from collections import deque\n",
    "\n",
    "#input=sys.stdin.readline\n",
    "N,M=map(int,input().split())\n",
    "board=[list(input()) for _ in range(N)]\n",
    "\n",
    "dx=[-1,1,0,0]\n",
    "dy=[0,0,-1,1]\n",
    "\n",
    "def bfs(i, j):\n",
    "    res=1\n",
    "    visit=[[0]*M for _ in range(N)]\n",
    "    queue=deque()\n",
    "    queue.append([i,j])\n",
    "    while queue:\n",
    "        x,y=queue.popleft()\n",
    "        visit[x][y]=1\n",
    "        for d in range(4):\n",
    "            nx=x+dx[d]\n",
    "            ny=y+dy[d]\n",
    "            if (0<=nx<N and 0<=ny<M and not visit[nx][ny] and board[nx][ny]=='0'):\n",
    "                res+=1\n",
    "                visit[nx][ny]=1\n",
    "                queue.append([nx,ny])\n",
    "    return res\n",
    "\n",
    "for i in range(N):\n",
    "    for j in range(M):\n",
    "        if (board[i][j]=='1'):\n",
    "            board[i][j]='0'\n",
    "            board[i][j]=bfs(i,j)\n",
    "            \n",
    "for i in board:\n",
    "    for j in range(M):\n",
    "        if i[j]==\"0\": print(0, end='')\n",
    "        else: print(i[j]%10, end='')\n",
    "    print()"
   ]
  },
  {
   "cell_type": "code",
   "execution_count": 8,
   "metadata": {},
   "outputs": [
    {
     "name": "stdout",
     "output_type": "stream",
     "text": [
      "4 5\n",
      "11001\n",
      "00111\n",
      "01010\n",
      "10101\n",
      "46003\n",
      "00732\n",
      "06040\n",
      "50403\n"
     ]
    }
   ],
   "source": [
    "#시간초과\n",
    "import sys\n",
    "import copy\n",
    "from collections import deque\n",
    "\n",
    "#input=sys.stdin.readline\n",
    "N,M=map(int,input().split())\n",
    "board=[list(input()) for _ in range(N)]\n",
    "\n",
    "dx=[-1,1,0,0]\n",
    "dy=[0,0,-1,1]\n",
    "\n",
    "def bfs(i, j):\n",
    "    res=1\n",
    "    visit=[[0]*M for _ in range(N)]\n",
    "    queue=deque()\n",
    "    queue.append([i,j])\n",
    "    while queue:\n",
    "        x,y=queue.popleft()\n",
    "        visit[x][y]=1\n",
    "        for d in range(4):\n",
    "            nx=x+dx[d]\n",
    "            ny=y+dy[d]\n",
    "            if (0<=nx<N and 0<=ny<M and not visit[nx][ny] and board[nx][ny]=='0'):\n",
    "                res+=1\n",
    "                visit[nx][ny]=1\n",
    "                queue.append([nx,ny])\n",
    "    return res\n",
    "\n",
    "for i in range(N):\n",
    "    for j in range(M):\n",
    "        if (board[i][j]=='1'):\n",
    "            board[i][j]='0'\n",
    "            board[i][j]=bfs(i,j)\n",
    "            \n",
    "for i in board:\n",
    "    for j in range(M):\n",
    "        if i[j]==\"0\": print(0, end='')\n",
    "        else: print(i[j]%10, end='')\n",
    "    print()"
   ]
  },
  {
   "cell_type": "markdown",
   "metadata": {},
   "source": [
    "## 15486 퇴사2\n",
    "\n",
    "**문제로 이동** : [Baekjoon 퇴사2](https://www.acmicpc.net/problem/15486)\n",
    "\n",
    "- 상담원으로 일하고 있는 백준이는 퇴사를 하려고 한다\n",
    "- N+1일째 되는 날 퇴사를 하기 위해 남은 N일동안 최대한 많은 상담을 하려 한다\n",
    "- 각 상담은 완료하는데 걸리는 시간과 상담시 받을 수 있는 금액으로 이루어진다.\n",
    "- N+1일째에는 퇴사하기 때문에 퇴사후까지의 시간이 걸리는 상담은 진행할 수 없다.\n",
    "- 상담을 적절히 하여 백준이가 얻을 수 있는 최대 수익을 구하라"
   ]
  },
  {
   "cell_type": "code",
   "execution_count": 1,
   "metadata": {},
   "outputs": [
    {
     "name": "stdout",
     "output_type": "stream",
     "text": [
      "10\n",
      "1 1\n",
      "1 2\n",
      "1 3\n",
      "1 4\n",
      "1 5\n",
      "1 6\n",
      "1 7\n",
      "1 8\n",
      "1 9\n",
      "1 10\n",
      "55\n"
     ]
    }
   ],
   "source": [
    "import sys\n",
    "\n",
    "#input=sys.stdin.readline\n",
    "N=int(input())\n",
    "work=[list(map(int,input().split())) for _ in range(N)]\n",
    "dp=[0]*(N+1)\n",
    "\n",
    "for i in range(N-1,-1,-1):\n",
    "    if i+work[i][0]>N:\n",
    "        dp[i]=dp[i+1]\n",
    "    else:\n",
    "        dp[i]=max(work[i][1]+dp[i+work[i][0]], dp[i+1])\n",
    "        \n",
    "print(max(dp))"
   ]
  },
  {
   "cell_type": "markdown",
   "metadata": {},
   "source": [
    "## 2644 촌수계산\n",
    "\n",
    "**문제로 이동** : [Baekjoon 촌수계산](https://www.acmicpc.net/problem/2644)\n",
    "\n",
    "- 우리나라는 가족 혹은 친척 사이 관계를 촌수로 표현하는 문화를 가지고 있다\n",
    "- 기본적으로 부모와 자식 사이를 1촌으로 정의하고 이로부터 사람들 간의 촌수를 계산한다\n",
    "- 여러 사람들에 대한 부모, 자식 관계가 주어질 때 주어진 두 사람의 촌수를 계산하는 프로그램을 작성하라\n",
    "- 친척 관계가 아예 없을 경우 -1을 출력한다.\n"
   ]
  },
  {
   "cell_type": "code",
   "execution_count": 9,
   "metadata": {},
   "outputs": [
    {
     "name": "stdout",
     "output_type": "stream",
     "text": [
      "9\n",
      "8 6\n",
      "7\n",
      "1 2\n",
      "1 3\n",
      "2 7\n",
      "2 8\n",
      "2 9\n",
      "4 5\n",
      "4 6\n",
      "-1\n"
     ]
    }
   ],
   "source": [
    "import sys\n",
    "\n",
    "#input=sys.stdin.readline\n",
    "n=int(input())\n",
    "p1, p2=map(int,input().split())\n",
    "m=int(input())\n",
    "relation=[[0]*(n+1) for _ in range(n+1)]\n",
    "for _ in range(m):\n",
    "    a,b=map(int,input().split())\n",
    "    relation[a][b], relation[b][a]=1,1\n",
    "\n",
    "visit=[0]*n\n",
    "answer=0\n",
    "def dfs(p, res):\n",
    "    global answer\n",
    "    visit[p-1]=1\n",
    "    if (p==p2):\n",
    "        answer=res\n",
    "    for i in range(1, n+1):\n",
    "        if (relation[p][i]==1 and not visit[i-1]):\n",
    "            dfs(i, res+1)\n",
    "            \n",
    "dfs(p1, 0)\n",
    "print(answer) if (answer!=0) else print(-1)"
   ]
  },
  {
   "cell_type": "markdown",
   "metadata": {},
   "source": [
    "## 11656 접미사 배열\n",
    "\n",
    "**문제로 이동** : [Baekjoon 접미사 배열](https://www.acmicpc.net/problem/11656)\n",
    "\n",
    "- 접미사 배열은 문자열 S의 모든 접미사를 사전순으로 정렬해 놓은 배열이다\n",
    "- 문자열 S가 주어질 때 모든 접미사를 사전순으로 정렬한 후 출력하는 프로그램을 작성하라"
   ]
  },
  {
   "cell_type": "code",
   "execution_count": 25,
   "metadata": {},
   "outputs": [
    {
     "name": "stdout",
     "output_type": "stream",
     "text": [
      "baekjoon\n",
      "['aekjoon', 'baekjoon', 'ekjoon', 'joon', 'kjoon', 'n', 'on', 'oon']\n",
      "aekjoon\n",
      "baekjoon\n",
      "ekjoon\n",
      "joon\n",
      "kjoon\n",
      "n\n",
      "on\n",
      "oon\n"
     ]
    }
   ],
   "source": [
    "import sys\n",
    "\n",
    "#input=sys.stdin.readline\n",
    "s=input()\n",
    "res=[]\n",
    "for i in range(len(s)):\n",
    "    temp=s[i:]\n",
    "    res.append(temp)\n",
    "res.sort()\n",
    "print(*res, sep='\\n')"
   ]
  },
  {
   "cell_type": "markdown",
   "metadata": {},
   "source": [
    "## 1525 퍼즐\n",
    "\n",
    "**문제로 이동** : [Baekjoon 퍼즐](https://www.acmicpc.net/problem/1525)\n",
    "\n",
    "- 3\\*3에 다음과 같이 수가 채워져 있다. 오른쪽 가장 아래 끝칸은 비어있다.\n",
    "- 인접한 네 개의 칸 중 하나가 비어있다면 수를 그 칸으로 이동시킬 수 있다.\n",
    "- 초기상태가 주어질 때 최소의 이동으로 정리된 상태를 만들어야 한다\n",
    "- 주어진 상태에서 정리된 상태를 만드는 최소 이동횟수를 구하라\n",
    "- 불가능한 경우 -1을 출력한다."
   ]
  },
  {
   "cell_type": "code",
   "execution_count": 2,
   "metadata": {},
   "outputs": [
    {
     "name": "stdout",
     "output_type": "stream",
     "text": [
      "3 6 0\n",
      "8 1 2\n",
      "7 4 5\n",
      "-1\n"
     ]
    }
   ],
   "source": [
    "import sys\n",
    "import copy\n",
    "from collections import deque\n",
    "\n",
    "# input=sys.stdin.readline\n",
    "straight='123456780'\n",
    "s=''\n",
    "for _ in range(3):\n",
    "    s+=''.join(input().split())\n",
    "\n",
    "dx=[-1,1,0,0]\n",
    "dy=[0,0,-1,1]\n",
    "queue=deque()\n",
    "queue.append(s)\n",
    "visit={s:0}\n",
    "result=-1\n",
    "\n",
    "while (queue):\n",
    "    now = queue.popleft()\n",
    "    if now=='123456780':\n",
    "        result=visit[now]\n",
    "    pos=now.find(\"0\")\n",
    "    x=pos//3\n",
    "    y=pos%3\n",
    "    for i in range(4):\n",
    "        nx=x+dx[i]\n",
    "        ny=y+dy[i]\n",
    "        if (0<=nx<3 and 0<=ny<3):\n",
    "            nextPos=nx*3+ny\n",
    "            new=list(now)\n",
    "            new[nextPos]=new[pos]\n",
    "            new[pos]=new[nextPos]\n",
    "            new=''.join(new)\n",
    "            if new not in visit:\n",
    "                queue.append(new)\n",
    "                visit[new]=visit[now]+1\n",
    "\n",
    "print(result)"
   ]
  },
  {
   "cell_type": "code",
   "execution_count": null,
   "metadata": {},
   "outputs": [],
   "source": []
  }
 ],
 "metadata": {
  "kernelspec": {
   "display_name": "Python 3",
   "language": "python",
   "name": "python3"
  },
  "language_info": {
   "codemirror_mode": {
    "name": "ipython",
    "version": 3
   },
   "file_extension": ".py",
   "mimetype": "text/x-python",
   "name": "python",
   "nbconvert_exporter": "python",
   "pygments_lexer": "ipython3",
   "version": "3.8.3"
  }
 },
 "nbformat": 4,
 "nbformat_minor": 4
}
