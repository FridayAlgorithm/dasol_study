{
 "cells": [
  {
   "cell_type": "markdown",
   "metadata": {},
   "source": [
    "# 44주차\n",
    "\n",
    "[44주차 문제집](https://www.acmicpc.net/group/workbook/view/10320/38943)\n",
    "\n",
    "* [13460 구슬 탈출2](https://www.acmicpc.net/problem/13460)\n",
    "* [2644 촌수계산](https://www.acmicpc.net/problem/2644)\n",
    "* [11656 접미사 배열](https://www.acmicpc.net/problem/11656)\n",
    "* [10775 공항](https://www.acmicpc.net/problem/10775)\n",
    "* [1238 파티](https://www.acmicpc.net/problem/1238)\n",
    "* [1965 상자넣기](https://www.acmicpc.net/problem/1965)"
   ]
  },
  {
   "cell_type": "markdown",
   "metadata": {},
   "source": [
    "## 13460 구슬 탈출 2\n",
    "\n",
    "**문제로 이동** : [Baekjoon 구슬 탈출 2](https://www.acmicpc.net/problem/13460)\n",
    "\n",
    "- 구슬탈출은 직사각형 보드에 빨간구슬과 파란구슬을 넣은 후 빨간구슬을 뺴내는 게임이다\n",
    "- 보드는 N\\*M크기로 구멍이 하나 있다\n",
    "- 빨간구슬을 구멍을 통해 빼내야하며 파란구슬이 구멍에 들어가서는 안된다\n",
    "- 보드를 왼쪽, 오른쪽, 위쪽, 아래쪽으로 기울여 중력을 이용해 구슬을 굴려야한다\n",
    "- 파란구슬이 구멍에 빠지거나, 두 구슬이 구멍에 동시에 빠지면 실패이다\n",
    "- 최소 몇 번 만에 빨간구슬을 빼낼수 있는지 구하는 프로그램을 작성하라\n",
    "- 10번 이하로 움직여서 빨간구슬을 빼낼 수 없다면 -1을 출력한다"
   ]
  },
  {
   "cell_type": "code",
   "execution_count": null,
   "metadata": {},
   "outputs": [],
   "source": [
    "from collections import deque\n",
    "import sys\n",
    "\n",
    "#input=sys.stdin.readline\n",
    "N,M=map(int, input().split())\n",
    "board=[list(input().strip()) for _ in range(N)]\n",
    "visit=[[[[False] * M for _ in range(N)] for _ in range(M)] for _ in range(N)]\n",
    "\n",
    "def move(x, y, dx, dy):\n",
    "    cnt=0\n",
    "    while board[x + dx][y + dy]!='#' and board[x][y]!='O':\n",
    "        x+=dx\n",
    "        y+=dy\n",
    "        cnt+=1\n",
    "    return x,y,cnt\n",
    "\n",
    "dx=[-1,1,0,0]\n",
    "dy=[0,0,-1,1]\n",
    "\n",
    "def bfs(rx, ry, bx, by):\n",
    "    queue = deque()\n",
    "    queue.append((rx, ry, bx, by,1))\n",
    "    visit[rx][ry][bx][by]=True\n",
    "    while queue:\n",
    "        rx,ry,bx,by,count=queue.popleft()\n",
    "        if count > 10:\n",
    "            break\n",
    "        for i in range(4):\n",
    "            nrx, nry, rcnt = move(rx, ry, dx[i], dy[i])\n",
    "            nbx, nby, bcnt = move(bx, by, dx[i], dy[i])\n",
    "            if board[nbx][nby] != 'O':\n",
    "                if board[nrx][nry] == 'O':\n",
    "                    return count\n",
    "                if nrx == nbx and nry == nby:\n",
    "                    if rcnt > bcnt:\n",
    "                        nrx -= dx[i]\n",
    "                        nry -= dy[i]\n",
    "                    else:\n",
    "                        nbx -= dx[i]\n",
    "                        nby -= dy[i]\n",
    "                if not visit[nrx][nry][nbx][nby]:\n",
    "                    visit[nrx][nry][nbx][nby] = True\n",
    "                    queue.append((nrx, nry, nbx, nby,count+1))\n",
    "    return -1\n",
    "\n",
    "\n",
    "for i in range(N):\n",
    "    for j in range(M):\n",
    "        if board[i][j]=='R':\n",
    "            rx,ry = i,j\n",
    "        if board[i][j]=='B':\n",
    "            bx,by = i,j\n",
    "\n",
    "print(bfs(rx,ry,bx,by))"
   ]
  },
  {
   "cell_type": "markdown",
   "metadata": {},
   "source": [
    "## 2644 촌수계산\n",
    "\n",
    "**문제로 이동** : [Baekjoon 촌수계산](https://www.acmicpc.net/problem/2644)\n",
    "\n",
    "- 우리나라는가족 혹은 친척들 사이의 관계를 촌수로 표현하는 문화를 가지고 있다\n",
    "- 기본적으로 부모와 자식 사이를 1촌으로 정의한다\n",
    "- 여러 사람들의 부모 자식 관계가 주어질 때 주어진 두 사람의 촌수를 계산하라\n",
    "- 앞서 나오는 번호가 뒤따라오는 번호의 부모이다\n",
    "- 각 사람의 부모는 최대 한 명만 주어진다\n",
    "- 두 사람의 친척관계가 전혀 없을 경우 -1을 출력한다"
   ]
  },
  {
   "cell_type": "code",
   "execution_count": 8,
   "metadata": {},
   "outputs": [
    {
     "name": "stdout",
     "output_type": "stream",
     "text": [
      "9\n",
      "7 3\n",
      "7\n",
      "1 2\n",
      "1 3\n",
      "2 7\n",
      "2 8\n",
      "2 9\n",
      "4 5\n",
      "4 6\n",
      "3\n"
     ]
    }
   ],
   "source": [
    "from collections import deque\n",
    "import sys\n",
    "\n",
    "#input=sys.stdin.readline\n",
    "N=int(input())\n",
    "p1,p2=map(int,input().split())\n",
    "family=[[] for _ in range(N+1)]\n",
    "fNum=int(input())\n",
    "for _ in range(fNum):\n",
    "    f1,f2=map(int,input().split())\n",
    "    family[f1].append(f2)\n",
    "    family[f2].append(f1)\n",
    "    \n",
    "visit=[0 for _ in range(N+1)]\n",
    "result=[0 for _ in range(N+1)]\n",
    "queue=deque()\n",
    "queue.append(p1)\n",
    "visit[p1]=1\n",
    "while queue:\n",
    "    person=queue.popleft()\n",
    "    for p in family[person]:\n",
    "        if not visit[p]:\n",
    "            visit[p]=1\n",
    "            result[p]=result[person]+1\n",
    "            queue.append(p)\n",
    "            \n",
    "if result[p2]!=0:\n",
    "    print(result[p2])\n",
    "else:\n",
    "    print(-1)"
   ]
  },
  {
   "cell_type": "markdown",
   "metadata": {},
   "source": [
    "## 11656 접미사 배열\n",
    "\n",
    "**문제로 이동** : [Baekjoon 접미사 배열](https://www.acmicpc.net/problem/11656)\n",
    "\n",
    "- 접미사배열은 문자열 S의 모든 접미사를 사전순으로 정렬해 놓은 배열이다\n",
    "- 문자열 S가 주어질 때 모든 접미사를 사전순으로 정렬한 다음 출력하는 프로그램을 작성하시오"
   ]
  },
  {
   "cell_type": "code",
   "execution_count": 19,
   "metadata": {
    "scrolled": true
   },
   "outputs": [
    {
     "name": "stdout",
     "output_type": "stream",
     "text": [
      "baekjoon\n",
      "aekjoon\n",
      "baekjoon\n",
      "ekjoon\n",
      "joon\n",
      "kjoon\n",
      "n\n",
      "on\n",
      "oon\n"
     ]
    }
   ],
   "source": [
    "S=list(input())\n",
    "result=[]\n",
    "for i in range(len(S)):\n",
    "    result.append(''.join(S[i:]))\n",
    "result.sort()\n",
    "print(*result, sep='\\n')"
   ]
  },
  {
   "cell_type": "markdown",
   "metadata": {},
   "source": [
    "## 10775 공항\n",
    "\n",
    "**문제로 이동** : [Baekjoon 공항](https://www.acmicpc.net/problem/10775)\n",
    "\n",
    "- 공항에는 G개의 게이트가 있으며 각각 번호를 가지고 있다\n",
    "- 공항에는 P개의 비행기가 순서대로 도착할 예정이다\n",
    "- i번 비행기를 1번부터 Gi번째 게이트 중 하나에 영구적 도킹하려 한다\n",
    "- 비행기가 어느 게이트에도 도킹할 수 없다면 공항이 폐쇄된다\n",
    "- 가장 많은 비행기를 도킹하려할 때 최대 몇 대의 비행기를 도킹할 수 있는가?"
   ]
  },
  {
   "cell_type": "code",
   "execution_count": 8,
   "metadata": {},
   "outputs": [
    {
     "name": "stdout",
     "output_type": "stream",
     "text": [
      "4\n",
      "6\n",
      "2\n",
      "2\n",
      "3\n",
      "3\n",
      "4\n",
      "4\n",
      "2\n"
     ]
    }
   ],
   "source": [
    "G=int(input())\n",
    "P=int(input())\n",
    "plane=[int(input()) for _ in range(P)]\n",
    "plane.sort(reverse=True)\n",
    "ableGate=[1]*(G+1)\n",
    "\n",
    "result=0\n",
    "for p in plane:\n",
    "    maxAble=p\n",
    "    if ableGate[maxAble]:\n",
    "        ableGate[maxAble]=0\n",
    "        result+=1\n",
    "    else:\n",
    "        for i in range(maxAble-1,-1,-1):\n",
    "            if ableGate[i]:\n",
    "                ableGate[i]=0\n",
    "                result+=1\n",
    "                break\n",
    "        break\n",
    "        \n",
    "print(result)"
   ]
  },
  {
   "cell_type": "code",
   "execution_count": 10,
   "metadata": {},
   "outputs": [
    {
     "name": "stdout",
     "output_type": "stream",
     "text": [
      "4\n",
      "6\n",
      "2\n",
      "2\n",
      "3\n",
      "3\n",
      "4\n",
      "4\n",
      "3\n"
     ]
    }
   ],
   "source": [
    "import sys\n",
    "\n",
    "#input=sys.stdin.readline\n",
    "G=int(input())\n",
    "P=int(input())\n",
    "plane=[int(input()) for _ in range(P)]\n",
    "parent={i:i for i in range(G+1)}\n",
    "\n",
    "def FindParent(x):\n",
    "    if x==parent[x]:\n",
    "        return x\n",
    "    p=FindParent(parent[x])\n",
    "    parent[x]=p\n",
    "    return p\n",
    "\n",
    "def Union(x, y):\n",
    "    x=FindParent(x)\n",
    "    y=FindParent(y)\n",
    "    parent[x]=y\n",
    "    \n",
    "count=0\n",
    "for p in plane:\n",
    "    x=FindParent(p)\n",
    "    if x==0:\n",
    "        break\n",
    "    Union(x, x-1)\n",
    "    count+=1\n",
    "print(count)"
   ]
  },
  {
   "cell_type": "markdown",
   "metadata": {},
   "source": [
    "## 1238 파티\n",
    "\n",
    "**문제로 이동** : [Baekjoon 파티](https://www.acmicpc.net/problem/1238)\n",
    "\n",
    "- N개로 구분된 각 마을에 한 명의 학생이 살고있다\n",
    "- N명의 학생이 X번마을에 모여 파티를 벌이기로 했다\n",
    "- 마을 사이에는 총 M개의 단방향 도로들이 있으면 i번째 길은 Ti만큼의 시간을 소요한다\n",
    "- 학생들은 최단 시간에 오고가며 도로가 단방향이기때문에 서로 길이 다를지도 모른다\n",
    "- 학생들 중 오고가는 시간이 가장 긴 학생이 누구일지 구하라"
   ]
  },
  {
   "cell_type": "code",
   "execution_count": 1,
   "metadata": {},
   "outputs": [
    {
     "name": "stdout",
     "output_type": "stream",
     "text": [
      "4 8 2\n",
      "1 2 4\n",
      "1 3 2\n",
      "1 4 7\n",
      "2 1 1\n",
      "2 3 5\n",
      "3 1 2\n",
      "3 4 4\n",
      "4 2 3\n",
      "10\n"
     ]
    }
   ],
   "source": [
    "#시간초과\n",
    "import heapq\n",
    "import sys\n",
    "\n",
    "#input=sys.stdin.readline\n",
    "N,M,X=map(int,input().split())\n",
    "bridge=[[] for _ in range(N+1)]\n",
    "for _ in range(M):\n",
    "    start,end,time=map(int,input().split())\n",
    "    bridge[start].append((end, time))\n",
    "\n",
    "    \n",
    "def dijkstra(start):\n",
    "    resultTime=[1e7]*(N+1)\n",
    "    queue=[]\n",
    "    heapq.heappush(queue, (start, 0))\n",
    "    resultTime[start]=0\n",
    "    \n",
    "    while queue:\n",
    "        nowNode, nowTime=heapq.heappop(queue)\n",
    "        if resultTime[nowNode]<nowTime:\n",
    "            continue\n",
    "        for nextNode, nextTime in bridge[nowNode]:\n",
    "            nextTime=nowTime+nextTime\n",
    "            if nextTime<resultTime[nextNode]:\n",
    "                resultTime[nextNode]=nextTime\n",
    "                heapq.heappush(queue, (nextNode, nextTime))\n",
    "    return resultTime\n",
    "                \n",
    "result=[0]*(N+1)\n",
    "for i in range(1,N+1):\n",
    "    goTime=dijkstra(i)\n",
    "    result[i]+=goTime[X]\n",
    "    returnTime=dijkstra(X)\n",
    "    result[i]+=returnTime[i]\n",
    "print(max(result))"
   ]
  },
  {
   "cell_type": "markdown",
   "metadata": {},
   "source": [
    "## 1965 상자넣기\n",
    "\n",
    "**문제로 이동** : [Baekjoon 상자넣기](https://www.acmicpc.net/problem/1965)\n",
    "\n",
    "- 정육면체 모양의 크기가 주어진 상자가 일렬로 늘어서 있다\n",
    "- 상자의 크기가 뒤에있는 상자보다 작으면 앞에 있는 상자를 뒤에 넣을 수 있다\n",
    "- 상자의 크기가 주어질 때 한번에 넣을 수 있는 최대 상자 개수를 출력하라"
   ]
  },
  {
   "cell_type": "code",
   "execution_count": 5,
   "metadata": {},
   "outputs": [
    {
     "name": "stdout",
     "output_type": "stream",
     "text": [
      "8\n",
      "1 6 2 5 7 3 5 6\n",
      "5\n"
     ]
    }
   ],
   "source": [
    "n=int(input())\n",
    "box=list(map(int,input().split()))\n",
    "dp=[1]*(n)\n",
    "\n",
    "for i in range(1,n):\n",
    "    for j in range(i):\n",
    "        if box[i]>box[j]:\n",
    "            dp[i]=max(dp[i],dp[j]+1)\n",
    "print(max(dp))"
   ]
  },
  {
   "cell_type": "code",
   "execution_count": null,
   "metadata": {},
   "outputs": [],
   "source": []
  }
 ],
 "metadata": {
  "kernelspec": {
   "display_name": "Python 3",
   "language": "python",
   "name": "python3"
  },
  "language_info": {
   "codemirror_mode": {
    "name": "ipython",
    "version": 3
   },
   "file_extension": ".py",
   "mimetype": "text/x-python",
   "name": "python",
   "nbconvert_exporter": "python",
   "pygments_lexer": "ipython3",
   "version": "3.8.3"
  }
 },
 "nbformat": 4,
 "nbformat_minor": 4
}
