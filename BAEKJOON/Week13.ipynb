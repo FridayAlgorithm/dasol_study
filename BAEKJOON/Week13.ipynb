{
 "cells": [
  {
   "cell_type": "markdown",
   "metadata": {},
   "source": [
    "# 13주차 \n",
    "\n",
    "[13주차 문제집](https://www.acmicpc.net/group/workbook/view/10320/31800)\n",
    "\n",
    "* [2659 십자카드 문제]\n",
    "* [1715 카드 정렬하기]\n",
    "* [2668 숫자 고르기]\n",
    "* [2641 다각형 그리기]\n",
    "* [2660 회장 뽑기]\n",
    "* [2650 교차점개수]\n",
    "* [2669 직사각형 네개의 합집합의 면적 구하기]\n",
    "* [2658 직각이등변삼각형 찾기]\n",
    "\n",
    "#### 지난 주에 해결 못한 문제\n",
    "* [2293 동전 1]\n",
    "* [2529 부등호]\n"
   ]
  },
  {
   "cell_type": "markdown",
   "metadata": {},
   "source": [
    "## 2659 십자카드 문제\n",
    "\n",
    "**문제로 이동** : [Baekjoon 십자카드 문제](https://www.acmicpc.net/problem/2659)"
   ]
  },
  {
   "cell_type": "code",
   "execution_count": 2,
   "metadata": {},
   "outputs": [
    {
     "name": "stdout",
     "output_type": "stream",
     "text": [
      "2 1 1 2\n",
      "10\n"
     ]
    }
   ],
   "source": [
    "def getMinClock(n):\n",
    "    temp=n\n",
    "    for i in range(3):\n",
    "        n=n%1000*10+n//1000\n",
    "        if (temp>n):\n",
    "            temp=n\n",
    "    return temp\n",
    "\n",
    "N=list(map(int,input().split()))\n",
    "num=1000*N[0]+100*N[1]+10*N[2]+N[3]\n",
    "res=getMinClock(num); cnt=0\n",
    "for i in range(1111, res+1):\n",
    "    if (getMinClock(i)==i):\n",
    "        cnt+=1\n",
    "print(cnt)"
   ]
  },
  {
   "cell_type": "markdown",
   "metadata": {},
   "source": [
    "## 1715 카드 정렬하기 \n",
    "\n",
    "**문제로 이동** : [Baekjoon 카드 정렬하기](https://www.acmicpc.net/problem/1715)"
   ]
  },
  {
   "cell_type": "code",
   "execution_count": 3,
   "metadata": {},
   "outputs": [
    {
     "name": "stdout",
     "output_type": "stream",
     "text": [
      "3\n",
      "10\n",
      "20\n",
      "40\n",
      "100\n"
     ]
    }
   ],
   "source": [
    "import heapq\n",
    "\n",
    "N=int(input())\n",
    "card=[]\n",
    "for _ in range(N):\n",
    "    heapq.heappush(card, int(input()))\n",
    "res=0\n",
    "\n",
    "while(len(card)!=1):\n",
    "    n1=heapq.heappop(card)\n",
    "    n2=heapq.heappop(card)\n",
    "    mixCard=n1+n2\n",
    "    res+=mixCard\n",
    "    heapq.heappush(card, mixCard)\n",
    "    \n",
    "print(res)"
   ]
  },
  {
   "cell_type": "markdown",
   "metadata": {},
   "source": [
    "## 2293 동전 1\n",
    "\n",
    "**문제로 이동** : [Baekjoon 동전 1](https://www.acmicpc.net/problem/2293)\n",
    "\n",
    "https://mong9data.tistory.com/68"
   ]
  },
  {
   "cell_type": "code",
   "execution_count": 4,
   "metadata": {},
   "outputs": [
    {
     "name": "stdout",
     "output_type": "stream",
     "text": [
      "3 10\n",
      "1\n",
      "2\n",
      "5\n",
      "10\n"
     ]
    }
   ],
   "source": [
    "n,k=map(int,input().split())\n",
    "coin=[int(input()) for _ in range(n)]\n",
    "memo=[0 for _ in range(k+1)]\n",
    "memo[0]=1\n",
    "for i in coin:\n",
    "    for j in range(1,k+1):\n",
    "        if (j-i)>=0:\n",
    "            memo[j]+=memo[j-i]\n",
    "print(memo[k])"
   ]
  },
  {
   "cell_type": "markdown",
   "metadata": {},
   "source": [
    "## 2668 숫자고르기\n",
    "\n",
    "**문제로 이동** : [Baekjoon 숫자고르기](https://www.acmicpc.net/problem/2668)\n",
    "\n",
    "https://breakcoding.tistory.com/340"
   ]
  },
  {
   "cell_type": "code",
   "execution_count": 5,
   "metadata": {},
   "outputs": [
    {
     "name": "stdout",
     "output_type": "stream",
     "text": [
      "7\n",
      "3\n",
      "1\n",
      "1\n",
      "5\n",
      "5\n",
      "4\n",
      "6\n",
      "3\n",
      "1\n",
      "3\n",
      "5\n"
     ]
    }
   ],
   "source": [
    "def dfs (v, idx):\n",
    "    visit[v]=True\n",
    "    for key in numList[v]:\n",
    "        if not visit[key]:\n",
    "            dfs(key, idx)\n",
    "        elif visit[key] and key==idx:\n",
    "            res.append(key)\n",
    "        \n",
    "N=int(input())\n",
    "numList=[[] for _ in range(N+1)]\n",
    "for i in range(N):\n",
    "    numList[i+1].append(int(input()))\n",
    "\n",
    "res=[]\n",
    "for i in range(1, N+1):\n",
    "    visit=[False]*(N+1)\n",
    "    dfs(i, i)\n",
    "print(len(res))\n",
    "for i in res:\n",
    "    print(i)"
   ]
  },
  {
   "cell_type": "markdown",
   "metadata": {},
   "source": [
    "## 2641 다각형 그리기\n",
    "\n",
    "**문제로 이동** : [Baekjoon 다각형 그리기](https://www.acmicpc.net/problem/2641)\n",
    "\n",
    "????? \n",
    "문자열로 풀어보자!"
   ]
  },
  {
   "cell_type": "code",
   "execution_count": null,
   "metadata": {},
   "outputs": [],
   "source": [
    "n=int(input())\n",
    "basic=list(map(int,input().split()))\n",
    "testNum=int(input())\n",
    "testCase=[]\n",
    "for _ in range(testNum):\n",
    "    testCase.append(list(map(int,input().split())))\n",
    "\n",
    "possibleList=[]; possibleList.append(basic)\n",
    "for i in range(n):\n",
    "    temp=possibleList[i]\n",
    "    appendNum=temp[0]\n",
    "    del(temp[0])\n",
    "    temp.append(appendNum)\n",
    "    possibleList.append(list(temp))\n",
    "    \n",
    "for i in possibleList:\n",
    "    reTemp=i\n",
    "    for j in range(n):\n",
    "        if reTemp[j]==1: reTemp[j]=3\n",
    "        elif reTemp[j]==2: reTemp[j]=4\n",
    "        elif reTemp[j]==3: reTemp[j]=1\n",
    "        elif reTemp[j]==4: reTemp[j]=2\n",
    "    reTemp.reverse()\n",
    "    possibleList.append(list(reTemp))\n",
    "\n",
    "res=[]\n",
    "for i in range (n):\n",
    "    for j in range (testNum):\n",
    "        if (possibleList[i]==testCase[j]):\n",
    "            res.append(possibleList[i])\n",
    "            \n",
    "print(len(res))\n",
    "print(res)"
   ]
  },
  {
   "cell_type": "markdown",
   "metadata": {},
   "source": [
    "## 2660 회장뽑기\n",
    "\n",
    "**문제로 이동** : [Baekjoon 회장뽑기](https://www.acmicpc.net/problem/2660)\n",
    "\n",
    "플로이드 와샬? \n",
    "https://url.kr/d1icky"
   ]
  },
  {
   "cell_type": "code",
   "execution_count": 6,
   "metadata": {},
   "outputs": [
    {
     "name": "stdout",
     "output_type": "stream",
     "text": [
      "5\n",
      "1 2\n",
      "2 3\n",
      "3 4\n",
      "4 5\n",
      "2 4\n",
      "5 3\n",
      "-1 -1\n",
      "2 3\n",
      "2 3 4\n"
     ]
    }
   ],
   "source": [
    "import sys\n",
    "from collections import deque\n",
    "#input=sys.stdin.readline\n",
    "\n",
    "n=int(input())\n",
    "friend=[[100 for _ in range(n+1)] for _ in range(n+1)]\n",
    "for i in range(1,n+1): friend[i][i]=0\n",
    "\n",
    "while True:\n",
    "    p1,p2=map(int,input().split())\n",
    "    if p1==-1 or p2==-1:\n",
    "        break\n",
    "    friend[p1][p2]=1\n",
    "    friend[p2][p1]=1\n",
    "\n",
    "for k in range(1,n+1):\n",
    "    for i in range(1,n+1):\n",
    "        for j in range(1,n+1):\n",
    "            if friend[i][j]>friend[i][k]+friend[k][j]:\n",
    "                friend[i][j]=friend[i][k]+friend[k][j]\n",
    "            \n",
    "maxArr,res=[],[]\n",
    "for i in range(1,n+1):\n",
    "    maxArr.append(max(friend[i][1:n+1]))\n",
    "    \n",
    "MIN=min(maxArr)\n",
    "print(MIN, maxArr.count(MIN))\n",
    "for i in range(n):\n",
    "    if (maxArr[i]==MIN):\n",
    "        res.append(i+1)\n",
    "print(*res)"
   ]
  },
  {
   "cell_type": "markdown",
   "metadata": {},
   "source": [
    "## 2529 부등호\n",
    "\n",
    "**문제로 이동** : [Baekjoon 부등호](https://www.acmicpc.net/problem/2529)"
   ]
  },
  {
   "cell_type": "code",
   "execution_count": 1,
   "metadata": {},
   "outputs": [
    {
     "name": "stdout",
     "output_type": "stream",
     "text": [
      "2\n",
      "< >\n",
      "897\n",
      "021\n"
     ]
    }
   ],
   "source": [
    "def possible(i, j, k):\n",
    "    if k == '<':\n",
    "        return i < j\n",
    "    if k == '>':\n",
    "        return i > j\n",
    "    return True\n",
    "\n",
    "def solve(cnt, s):\n",
    "    global mx, mn\n",
    "    if cnt == n+1:\n",
    "        if not len(mn):\n",
    "            mn = s\n",
    "        else:\n",
    "            mx = s\n",
    "        return\n",
    "    for i in range(10):\n",
    "        if not c[i]:\n",
    "            if cnt == 0 or possible(s[-1], str(i), op[cnt-1]):\n",
    "                c[i] = True\n",
    "                solve(cnt+1, s + str(i))\n",
    "                c[i] = False\n",
    "\n",
    "\n",
    "n = int(input())\n",
    "op = input().split()\n",
    "c = [False]*10\n",
    "mx, mn = \"\", \"\"                \n",
    "solve(0, \"\")\n",
    "print(mx, mn, sep='\\n')"
   ]
  },
  {
   "cell_type": "markdown",
   "metadata": {},
   "source": [
    "## 2650 교차점 개수\n",
    "\n",
    "**문제로 이동** : [Baekjoon 교차점 개수](https://www.acmicpc.net/problem/2650)\n",
    "\n",
    "=> 다음주"
   ]
  },
  {
   "cell_type": "code",
   "execution_count": null,
   "metadata": {},
   "outputs": [],
   "source": []
  },
  {
   "cell_type": "markdown",
   "metadata": {},
   "source": [
    "## 2669 직사각형 네개의 합집합의 면적 구하기\n",
    "\n",
    "**문제로 이동** : [Baekjoon 직사각형 네개의 합집합의 면적 구하기](https://www.acmicpc.net/problem/2669)"
   ]
  },
  {
   "cell_type": "code",
   "execution_count": 7,
   "metadata": {},
   "outputs": [
    {
     "name": "stdout",
     "output_type": "stream",
     "text": [
      "1 2 4 4\n",
      "2 3 5 7\n",
      "3 1 6 5\n",
      "7 3 8 6\n",
      "26\n"
     ]
    }
   ],
   "source": [
    "board=[[0 for _ in range(101)] for _ in range(101)]\n",
    "for i in range(4):\n",
    "    x1,y1,x2,y2=map(int,input().split())\n",
    "    for j in range(x1, x2):\n",
    "        for k in range(y1, y2):\n",
    "            board[j][k]=1\n",
    "\n",
    "res=0\n",
    "for i in board:\n",
    "    res+=sum(i)\n",
    "print(res)"
   ]
  },
  {
   "cell_type": "markdown",
   "metadata": {},
   "source": [
    "## 2658 직각이등변삼각형 찾기\n",
    "\n",
    "**문제로 이동** : [Baekjoon 직각이등변삼각형 찾기](https://www.acmicpc.net/problem/2658)"
   ]
  },
  {
   "cell_type": "code",
   "execution_count": null,
   "metadata": {},
   "outputs": [],
   "source": []
  }
 ],
 "metadata": {
  "kernelspec": {
   "display_name": "Python 3",
   "language": "python",
   "name": "python3"
  },
  "language_info": {
   "codemirror_mode": {
    "name": "ipython",
    "version": 3
   },
   "file_extension": ".py",
   "mimetype": "text/x-python",
   "name": "python",
   "nbconvert_exporter": "python",
   "pygments_lexer": "ipython3",
   "version": "3.8.3"
  }
 },
 "nbformat": 4,
 "nbformat_minor": 4
}
