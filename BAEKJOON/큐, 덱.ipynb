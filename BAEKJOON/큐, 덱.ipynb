{
 "cells": [
  {
   "cell_type": "code",
   "execution_count": 17,
   "metadata": {},
   "outputs": [
    {
     "name": "stdout",
     "output_type": "stream",
     "text": [
      "15\n",
      "push 1\n",
      "push 2\n",
      "front\n",
      "1\n",
      "back\n",
      "2\n",
      "size\n",
      "2\n",
      "empty\n",
      "0\n",
      "pop\n",
      "1\n",
      "pop\n",
      "2\n",
      "pop\n",
      "-1\n",
      "size\n",
      "0\n",
      "empty\n",
      "1\n",
      "pop\n",
      "-1\n",
      "push 3\n",
      "empty\n",
      "0\n",
      "front\n",
      "3\n"
     ]
    }
   ],
   "source": [
    "#18258 큐 2\n",
    "#런타임 에러\n",
    "queue = []\n",
    "N=int(input())\n",
    "for i in range(N):\n",
    "    a=list(input().split())\n",
    "    if (a[0]=='push'):\n",
    "        queue.append(a[1])\n",
    "    elif (a[0]=='pop'):\n",
    "        if (len(queue)!=0): \n",
    "            print(queue[0])\n",
    "            del(queue[0])\n",
    "        else : print(-1)\n",
    "        \n",
    "    elif (a[0]=='size'):\n",
    "        print(len(queue))\n",
    "    elif (a[0]=='empty'):\n",
    "        if (len(queue)==0): print(1)\n",
    "        else : print(0)\n",
    "    elif (a[0]=='front'):\n",
    "        if (len(queue)!=0): print(queue[0])\n",
    "        else : print(-1)\n",
    "    elif (a[0]=='back'):\n",
    "        if (len(queue)!=0): print(queue[-1])\n",
    "        else : print(-1)\n"
   ]
  },
  {
   "cell_type": "code",
   "execution_count": 18,
   "metadata": {},
   "outputs": [
    {
     "name": "stdout",
     "output_type": "stream",
     "text": [
      "6\n",
      "4\n"
     ]
    }
   ],
   "source": [
    "#2164 카드2\n",
    "#시간 초과\n",
    "queue = []\n",
    "N=int(input())\n",
    "\n",
    "for i in range(1,N+1):\n",
    "    queue.append(i)\n",
    "    \n",
    "while (len(queue)>1):\n",
    "    del(queue[0])\n",
    "    queue.append(queue[0])\n",
    "    del(queue[0])\n",
    "    \n",
    "print(queue[0])\n"
   ]
  },
  {
   "cell_type": "code",
   "execution_count": null,
   "metadata": {},
   "outputs": [],
   "source": []
  }
 ],
 "metadata": {
  "kernelspec": {
   "display_name": "Python 3",
   "language": "python",
   "name": "python3"
  },
  "language_info": {
   "codemirror_mode": {
    "name": "ipython",
    "version": 3
   },
   "file_extension": ".py",
   "mimetype": "text/x-python",
   "name": "python",
   "nbconvert_exporter": "python",
   "pygments_lexer": "ipython3",
   "version": "3.8.3"
  }
 },
 "nbformat": 4,
 "nbformat_minor": 4
}
