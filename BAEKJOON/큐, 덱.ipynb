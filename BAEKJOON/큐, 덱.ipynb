{
 "cells": [
  {
   "cell_type": "code",
   "execution_count": 17,
   "metadata": {},
   "outputs": [
    {
     "name": "stdout",
     "output_type": "stream",
     "text": [
      "15\n",
      "push 1\n",
      "push 2\n",
      "front\n",
      "1\n",
      "back\n",
      "2\n",
      "size\n",
      "2\n",
      "empty\n",
      "0\n",
      "pop\n",
      "1\n",
      "pop\n",
      "2\n",
      "pop\n",
      "-1\n",
      "size\n",
      "0\n",
      "empty\n",
      "1\n",
      "pop\n",
      "-1\n",
      "push 3\n",
      "empty\n",
      "0\n",
      "front\n",
      "3\n"
     ]
    }
   ],
   "source": [
    "#18258 큐 2\n",
    "#시간초과\n",
    "import sys\n",
    "\n",
    "queue = []\n",
    "N=int(input())\n",
    "for i in range(N):\n",
    "    length = len(queue)\n",
    "    a=list(sys.stdin.readline().split())\n",
    "    if (a[0]=='push'):\n",
    "        queue.append(a[1])\n",
    "    elif (a[0]=='pop'):\n",
    "        if (length!=0): \n",
    "            print(queue.pop(0))\n",
    "        else : print(-1)\n",
    "    elif (a[0]=='size'):\n",
    "        print(length)\n",
    "    elif (a[0]=='empty'):\n",
    "        if (length==0): print(1)\n",
    "        else : print(0)\n",
    "    elif (a[0]=='front'):\n",
    "        if (length!=0): print(queue[0])\n",
    "        else : print(-1)\n",
    "    elif (a[0]=='back'):\n",
    "        if (length!=0): print(queue[-1])\n",
    "        else : print(-1)"
   ]
  },
  {
   "cell_type": "code",
   "execution_count": null,
   "metadata": {},
   "outputs": [],
   "source": [
    "#시간 초과 deque로 해결\n",
    "import sys\n",
    "from collections import deque\n",
    "\n",
    "queue = deque()\n",
    "N = int(sys.stdin.readline().rstrip())\n",
    "for _ in range(N):\n",
    "    order = sys.stdin.readline().rstrip().split()\n",
    "    command = order[0]\n",
    "    if(command == \"push\"):\n",
    "        queue.append(order[1])\n",
    "    elif(command == \"pop\"):\n",
    "        if(queue): \n",
    "            print(queue.popleft())\n",
    "        else:\n",
    "            print(-1)\n",
    "    elif(command == \"size\"):\n",
    "        print(len(queue))\n",
    "    elif(command == \"empty\"):\n",
    "        if(not queue): print(1)\n",
    "        else: print(0)\n",
    "    elif(command == \"front\"):\n",
    "        if(queue):\n",
    "            print(queue[0])\n",
    "        else: print(-1)\n",
    "    elif(command == \"back\"):\n",
    "        if(queue):\n",
    "            print(queue[-1])\n",
    "        else: print(-1)"
   ]
  },
  {
   "cell_type": "code",
   "execution_count": 18,
   "metadata": {},
   "outputs": [
    {
     "name": "stdout",
     "output_type": "stream",
     "text": [
      "6\n",
      "4\n"
     ]
    }
   ],
   "source": [
    "#2164 카드2\n",
    "#시간 초과\n",
    "queue = []\n",
    "N=int(input())\n",
    "\n",
    "for i in range(1,N+1):\n",
    "    queue.append(i)\n",
    "    \n",
    "while (len(queue)>1):\n",
    "    del(queue[0])\n",
    "    queue.append(queue[0])\n",
    "    del(queue[0])\n",
    "    \n",
    "print(queue[0])\n"
   ]
  },
  {
   "cell_type": "code",
   "execution_count": null,
   "metadata": {},
   "outputs": [],
   "source": [
    "#시간초과 deque로 해결\n",
    "import sys\n",
    "from collections import deque\n",
    "        \n",
    "queue = deque()\n",
    "N=int(input())\n",
    "\n",
    "for i in range(1,N+1):\n",
    "    queue.append(i)\n",
    "    \n",
    "while (len(queue)>1):\n",
    "    queue.popleft()\n",
    "    queue.append(queue.popleft())\n",
    "    \n",
    "print(queue[0])"
   ]
  },
  {
   "cell_type": "code",
   "execution_count": 1,
   "metadata": {},
   "outputs": [
    {
     "name": "stdout",
     "output_type": "stream",
     "text": [
      "7 3\n",
      "<3, 6, 2, 7, 5, 1, 4>"
     ]
    }
   ],
   "source": [
    "#11866 요세푸스 문제 0\n",
    "from collections import deque\n",
    "\n",
    "N,K=map(int,input().split())\n",
    "queue=deque()\n",
    "for i in range(1,N+1):\n",
    "    queue.append(i)\n",
    "\n",
    "print('<',end='')\n",
    "while(queue):\n",
    "    for i in range(K-1):\n",
    "        queue.append(queue.popleft())\n",
    "    if(len(queue)==1):\n",
    "        print(queue.popleft(),end='')\n",
    "    else:\n",
    "        print(queue.popleft(),\", \",sep='',end='')\n",
    "\n",
    "print('>',end='')"
   ]
  },
  {
   "cell_type": "code",
   "execution_count": 7,
   "metadata": {},
   "outputs": [
    {
     "name": "stdout",
     "output_type": "stream",
     "text": [
      "3\n",
      "1 0\n",
      "5\n"
     ]
    },
    {
     "ename": "ValueError",
     "evalue": "max() arg is an empty sequence",
     "output_type": "error",
     "traceback": [
      "\u001b[1;31m---------------------------------------------------------------------------\u001b[0m",
      "\u001b[1;31mValueError\u001b[0m                                Traceback (most recent call last)",
      "\u001b[1;32m<ipython-input-7-f1a19ea34306>\u001b[0m in \u001b[0;36m<module>\u001b[1;34m\u001b[0m\n\u001b[0;32m     13\u001b[0m \u001b[1;33m\u001b[0m\u001b[0m\n\u001b[0;32m     14\u001b[0m     \u001b[1;32mfor\u001b[0m \u001b[0mi\u001b[0m \u001b[1;32min\u001b[0m \u001b[0mrange\u001b[0m\u001b[1;33m(\u001b[0m\u001b[0mN\u001b[0m\u001b[1;33m)\u001b[0m\u001b[1;33m:\u001b[0m\u001b[1;33m\u001b[0m\u001b[1;33m\u001b[0m\u001b[0m\n\u001b[1;32m---> 15\u001b[1;33m         \u001b[1;32mif\u001b[0m\u001b[1;33m(\u001b[0m\u001b[0mimportance\u001b[0m\u001b[1;33m.\u001b[0m\u001b[0mpopleft\u001b[0m\u001b[1;33m(\u001b[0m\u001b[1;33m)\u001b[0m\u001b[1;33m!=\u001b[0m\u001b[0mmax\u001b[0m\u001b[1;33m(\u001b[0m\u001b[0mimportance\u001b[0m\u001b[1;33m)\u001b[0m\u001b[1;33m)\u001b[0m\u001b[1;33m:\u001b[0m\u001b[1;33m\u001b[0m\u001b[1;33m\u001b[0m\u001b[0m\n\u001b[0m\u001b[0;32m     16\u001b[0m             \u001b[0mimportance\u001b[0m\u001b[1;33m.\u001b[0m\u001b[0mappend\u001b[0m\u001b[1;33m(\u001b[0m\u001b[0mimportance\u001b[0m\u001b[1;33m.\u001b[0m\u001b[0mpopleft\u001b[0m\u001b[1;33m(\u001b[0m\u001b[1;33m)\u001b[0m\u001b[1;33m)\u001b[0m\u001b[1;33m\u001b[0m\u001b[1;33m\u001b[0m\u001b[0m\n\u001b[0;32m     17\u001b[0m             \u001b[0mseqQueue\u001b[0m\u001b[1;33m.\u001b[0m\u001b[0mappend\u001b[0m\u001b[1;33m(\u001b[0m\u001b[0mseqQueue\u001b[0m\u001b[1;33m.\u001b[0m\u001b[0mpopleft\u001b[0m\u001b[1;33m(\u001b[0m\u001b[1;33m)\u001b[0m\u001b[1;33m)\u001b[0m\u001b[1;33m\u001b[0m\u001b[1;33m\u001b[0m\u001b[0m\n",
      "\u001b[1;31mValueError\u001b[0m: max() arg is an empty sequence"
     ]
    }
   ],
   "source": [
    "#1966 프린터큐\n",
    "#해결 못함 ㅠㅠ\n",
    "import sys\n",
    "from collections import deque\n",
    "\n",
    "T=int(input())\n",
    "for i in range(T):\n",
    "    printSeq=0\n",
    "    N, seq=map(int,input().split())\n",
    "    #importance=deque(map(int,sys.stdin.readline().split()))\n",
    "    importance=deque(map(int,input()))\n",
    "    seqQueue=deque(i for i in range(N))\n",
    "    \n",
    "    for i in range(N):\n",
    "        if(importance.popleft()!=max(importance)):\n",
    "            importance.append(importance.popleft())\n",
    "            seqQueue.append(seqQueue.popleft())\n",
    "        else:\n",
    "            printSeq+=1\n",
    "            if (printSeq==seq):\n",
    "                print(seqQueue.popleft())\n",
    "                break\n",
    "            else:\n",
    "                importance.popleft()\n",
    "                seqQueue.popleft()\n",
    "        "
   ]
  },
  {
   "cell_type": "code",
   "execution_count": 6,
   "metadata": {},
   "outputs": [
    {
     "name": "stdout",
     "output_type": "stream",
     "text": [
      "3\n",
      "1 0\n",
      "5\n",
      "1\n",
      "4 2\n",
      "1 2 3 4\n",
      "2\n",
      "6 0\n",
      "1 1 9 1 1 1\n",
      "5\n"
     ]
    }
   ],
   "source": [
    "import sys\n",
    "T=int(input())\n",
    "\n",
    "for i in range(T):\n",
    "    N, seq=map(int,input().split())\n",
    "    #importance=list(map(int,sys.stdin.readline().split()))\n",
    "    importance=list(map(int,input().split()))\n",
    "    seqQ=[0 for _ in range(N)]\n",
    "    seqQ[seq]=True\n",
    "    \n",
    "    printCount=0\n",
    "    while(True):\n",
    "        if (importance[0]==max(importance)):\n",
    "            printCount+=1\n",
    "            if (seqQ[0]):\n",
    "                print(printCount)\n",
    "                break\n",
    "            else:\n",
    "                importance.pop(0)\n",
    "                seqQ.pop(0)\n",
    "        else:\n",
    "            importance.append(importance.pop(0))\n",
    "            seqQ.append(seqQ.pop(0))\n",
    "            "
   ]
  },
  {
   "cell_type": "code",
   "execution_count": null,
   "metadata": {},
   "outputs": [],
   "source": []
  }
 ],
 "metadata": {
  "kernelspec": {
   "display_name": "Python 3",
   "language": "python",
   "name": "python3"
  },
  "language_info": {
   "codemirror_mode": {
    "name": "ipython",
    "version": 3
   },
   "file_extension": ".py",
   "mimetype": "text/x-python",
   "name": "python",
   "nbconvert_exporter": "python",
   "pygments_lexer": "ipython3",
   "version": "3.7.9"
  }
 },
 "nbformat": 4,
 "nbformat_minor": 4
}
