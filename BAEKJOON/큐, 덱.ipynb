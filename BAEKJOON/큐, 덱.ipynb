{
 "cells": [
  {
   "cell_type": "code",
   "execution_count": 17,
   "metadata": {},
   "outputs": [
    {
     "name": "stdout",
     "output_type": "stream",
     "text": [
      "15\n",
      "push 1\n",
      "push 2\n",
      "front\n",
      "1\n",
      "back\n",
      "2\n",
      "size\n",
      "2\n",
      "empty\n",
      "0\n",
      "pop\n",
      "1\n",
      "pop\n",
      "2\n",
      "pop\n",
      "-1\n",
      "size\n",
      "0\n",
      "empty\n",
      "1\n",
      "pop\n",
      "-1\n",
      "push 3\n",
      "empty\n",
      "0\n",
      "front\n",
      "3\n"
     ]
    }
   ],
   "source": [
    "#18258 큐 2\n",
    "#시간초과\n",
    "import sys\n",
    "\n",
    "queue = []\n",
    "N=int(input())\n",
    "for i in range(N):\n",
    "    length = len(queue)\n",
    "    a=list(sys.stdin.readline().split())\n",
    "    if (a[0]=='push'):\n",
    "        queue.append(a[1])\n",
    "    elif (a[0]=='pop'):\n",
    "        if (length!=0): \n",
    "            print(queue.pop(0))\n",
    "        else : print(-1)\n",
    "    elif (a[0]=='size'):\n",
    "        print(length)\n",
    "    elif (a[0]=='empty'):\n",
    "        if (length==0): print(1)\n",
    "        else : print(0)\n",
    "    elif (a[0]=='front'):\n",
    "        if (length!=0): print(queue[0])\n",
    "        else : print(-1)\n",
    "    elif (a[0]=='back'):\n",
    "        if (length!=0): print(queue[-1])\n",
    "        else : print(-1)"
   ]
  },
  {
   "cell_type": "code",
   "execution_count": null,
   "metadata": {},
   "outputs": [],
   "source": [
    "#시간 초과 deque로 해결\n",
    "import sys\n",
    "from collections import deque\n",
    "\n",
    "queue = deque()\n",
    "N = int(sys.stdin.readline().rstrip())\n",
    "for _ in range(N):\n",
    "    order = sys.stdin.readline().rstrip().split()\n",
    "    command = order[0]\n",
    "    if(command == \"push\"):\n",
    "        queue.append(order[1])\n",
    "    elif(command == \"pop\"):\n",
    "        if(queue): \n",
    "            print(queue.popleft())\n",
    "        else:\n",
    "            print(-1)\n",
    "    elif(command == \"size\"):\n",
    "        print(len(queue))\n",
    "    elif(command == \"empty\"):\n",
    "        if(not queue): print(1)\n",
    "        else: print(0)\n",
    "    elif(command == \"front\"):\n",
    "        if(queue):\n",
    "            print(queue[0])\n",
    "        else: print(-1)\n",
    "    elif(command == \"back\"):\n",
    "        if(queue):\n",
    "            print(queue[-1])\n",
    "        else: print(-1)"
   ]
  },
  {
   "cell_type": "code",
   "execution_count": 18,
   "metadata": {},
   "outputs": [
    {
     "name": "stdout",
     "output_type": "stream",
     "text": [
      "6\n",
      "4\n"
     ]
    }
   ],
   "source": [
    "#2164 카드2\n",
    "#시간 초과\n",
    "queue = []\n",
    "N=int(input())\n",
    "\n",
    "for i in range(1,N+1):\n",
    "    queue.append(i)\n",
    "    \n",
    "while (len(queue)>1):\n",
    "    del(queue[0])\n",
    "    queue.append(queue[0])\n",
    "    del(queue[0])\n",
    "    \n",
    "print(queue[0])\n"
   ]
  },
  {
   "cell_type": "code",
   "execution_count": null,
   "metadata": {},
   "outputs": [],
   "source": [
    "#시간초과 deque로 해결\n",
    "import sys\n",
    "from collections import deque\n",
    "        \n",
    "queue = deque()\n",
    "N=int(input())\n",
    "\n",
    "for i in range(1,N+1):\n",
    "    queue.append(i)\n",
    "    \n",
    "while (len(queue)>1):\n",
    "    queue.popleft()\n",
    "    queue.append(queue.popleft())\n",
    "    \n",
    "print(queue[0])"
   ]
  }
 ],
 "metadata": {
  "kernelspec": {
   "display_name": "Python 3",
   "language": "python",
   "name": "python3"
  },
  "language_info": {
   "codemirror_mode": {
    "name": "ipython",
    "version": 3
   },
   "file_extension": ".py",
   "mimetype": "text/x-python",
   "name": "python",
   "nbconvert_exporter": "python",
   "pygments_lexer": "ipython3",
   "version": "3.8.3"
  }
 },
 "nbformat": 4,
 "nbformat_minor": 4
}
