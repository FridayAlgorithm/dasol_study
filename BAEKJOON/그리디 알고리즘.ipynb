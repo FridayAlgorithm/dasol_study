{
 "cells": [
  {
   "cell_type": "code",
   "execution_count": null,
   "metadata": {},
   "outputs": [],
   "source": [
    "#11047 동전 0\n",
    "N, K = map(int,input().split())\n",
    "valueArr=[]\n",
    "for i in range(N):\n",
    "    a=int(input())\n",
    "    valueArr.append(a)\n",
    "currentCost=K; maxIndex=0; count=0\n",
    "for i in range (len(valueArr)):\n",
    "    if (valueArr[i] > currentCost):\n",
    "        maxIndex=i\n",
    "        \n",
    "while (currentCost > 0):\n",
    "    if (maxIndex == 0): \n",
    "        break\n",
    "    elif (valueArr[maxIndex] <= currentCost):\n",
    "        currentCost = currentCost - valueArr[maxIndex]\n",
    "        count+=1\n",
    "    else :\n",
    "        maxIndex -= 1\n",
    "\n",
    "print(count)"
   ]
  },
  {
   "cell_type": "code",
   "execution_count": 7,
   "metadata": {},
   "outputs": [
    {
     "name": "stdout",
     "output_type": "stream",
     "text": [
      "11\n",
      "1 4\n",
      "3 5\n",
      "0 6\n",
      "5 7\n",
      "3 8\n",
      "5 9\n",
      "6 10\n",
      "8 11\n",
      "8 12\n",
      "2 13\n",
      "12 14\n",
      "[[1, 4], [3, 5], [0, 6], [5, 7], [3, 8], [5, 9], [6, 10], [8, 11], [8, 12], [2, 13], [12, 14]]\n",
      "5 7\n",
      "8 11\n",
      "12 14\n",
      "4\n"
     ]
    }
   ],
   "source": [
    "#1931 회의실 배정\n",
    "N = int(input())\n",
    "timeArr=[]\n",
    "for i in range (N):\n",
    "    a = list(map(int,input().split()))\n",
    "    timeArr.append(a)\n",
    "    \n",
    "timeArr.sort(key = lambda x:x[1])\n",
    "print(timeArr)\n",
    "\n",
    "endTime = timeArr[0][1]\n",
    "count = 1\n",
    "for i in range (len(timeArr)):\n",
    "    if (timeArr[i][0]>=endTime):\n",
    "        endTime = timeArr[i][1]\n",
    "        print(timeArr[i][0],timeArr[i][1])\n",
    "        count+=1\n",
    "    \n",
    "print(count)"
   ]
  },
  {
   "cell_type": "code",
   "execution_count": null,
   "metadata": {},
   "outputs": [],
   "source": []
  }
 ],
 "metadata": {
  "kernelspec": {
   "display_name": "Python 3",
   "language": "python",
   "name": "python3"
  },
  "language_info": {
   "codemirror_mode": {
    "name": "ipython",
    "version": 3
   },
   "file_extension": ".py",
   "mimetype": "text/x-python",
   "name": "python",
   "nbconvert_exporter": "python",
   "pygments_lexer": "ipython3",
   "version": "3.8.3"
  }
 },
 "nbformat": 4,
 "nbformat_minor": 4
}
