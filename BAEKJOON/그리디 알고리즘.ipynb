{
 "cells": [
  {
   "cell_type": "code",
   "execution_count": 22,
   "metadata": {},
   "outputs": [
    {
     "name": "stdout",
     "output_type": "stream",
     "text": [
      "10 99999\n",
      "1\n",
      "5\n",
      "10\n",
      "50\n",
      "100\n",
      "500\n",
      "1000\n",
      "5000\n",
      "10000\n",
      "50000\n",
      "25\n"
     ]
    }
   ],
   "source": [
    "#11047 동전 0\n",
    "N, K = map(int,input().split())\n",
    "valueArr=[]\n",
    "maxIndex=0; count=0\n",
    "for i in range(N):\n",
    "    a=int(input())\n",
    "    if(a > K) : maxIndex=i-1\n",
    "    elif (a==K or i==N-1) : maxIndex=i\n",
    "    valueArr.append(a)\n",
    "    \n",
    "currentCost=K;  \n",
    "while (currentCost != 0):\n",
    "    if (valueArr[maxIndex] <= currentCost):\n",
    "        count += int(currentCost / valueArr[maxIndex])\n",
    "        currentCost = currentCost % valueArr[maxIndex]\n",
    "        maxIndex -= 1\n",
    "    else :\n",
    "        maxIndex -= 1\n",
    "\n",
    "print(count)"
   ]
  },
  {
   "cell_type": "code",
   "execution_count": 1,
   "metadata": {},
   "outputs": [
    {
     "name": "stdout",
     "output_type": "stream",
     "text": [
      "5\n",
      "1 1\n",
      "1 1\n",
      "1 1\n",
      "1 1\n",
      "1 1\n",
      "1\n"
     ]
    }
   ],
   "source": [
    "#1931 회의실 배정\n",
    "#틀렸습니다 -> 정렬 시 끝시작 정렬 -> 시작 시간 또한 정렬 해주어야 한다!\n",
    "N = int(input())\n",
    "timeArr=[]\n",
    "for i in range (N):\n",
    "    a = list(map(int,input().split()))\n",
    "    timeArr.append(a)\n",
    "    \n",
    "timeArr.sort(key = lambda x:(x[1], x[0]))\n",
    "\n",
    "endTime = timeArr[0][1]\n",
    "count = 1\n",
    "for i in range (1, len(timeArr)):\n",
    "    if (timeArr[i][0]>endTime or (timeArr[i][0]==endTime and timeArr[i][1]>timeArr[i-1][0])):\n",
    "        endTime = timeArr[i][1]\n",
    "        count+=1\n",
    "    \n",
    "print(count)"
   ]
  },
  {
   "cell_type": "code",
   "execution_count": null,
   "metadata": {},
   "outputs": [],
   "source": []
  }
 ],
 "metadata": {
  "kernelspec": {
   "display_name": "Python 3",
   "language": "python",
   "name": "python3"
  },
  "language_info": {
   "codemirror_mode": {
    "name": "ipython",
    "version": 3
   },
   "file_extension": ".py",
   "mimetype": "text/x-python",
   "name": "python",
   "nbconvert_exporter": "python",
   "pygments_lexer": "ipython3",
   "version": "3.8.3"
  }
 },
 "nbformat": 4,
 "nbformat_minor": 4
}
