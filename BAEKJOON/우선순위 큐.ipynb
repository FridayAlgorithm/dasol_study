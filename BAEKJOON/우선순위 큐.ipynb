{
 "cells": [
  {
   "cell_type": "code",
   "execution_count": null,
   "metadata": {},
   "outputs": [],
   "source": [
    "#11279 최대 힙\n",
    "import heapq\n",
    "import sys\n",
    "\n",
    "heap=[]\n",
    "N=int(input())\n",
    "for i in range(N):\n",
    "    command = int(sys.stdin.readline())\n",
    "    if (command==0):\n",
    "        if (len(heap)==0): print(0)\n",
    "        else:\n",
    "            print(heap[0][1])\n",
    "            heapq.heappop(heap)\n",
    "    else:\n",
    "        heapq.heappush(heap, (-command,command))"
   ]
  },
  {
   "cell_type": "code",
   "execution_count": null,
   "metadata": {},
   "outputs": [],
   "source": [
    "#1927 최소 힙\n",
    "import heapq\n",
    "import sys\n",
    "\n",
    "heap=[]\n",
    "N=int(input())\n",
    "for i in range(N):\n",
    "    command = int(sys.stdin.readline())\n",
    "    if (command==0):\n",
    "        if (len(heap)==0): print(0)\n",
    "        else:\n",
    "            print(heap[0])\n",
    "            heapq.heappop(heap)\n",
    "    else:\n",
    "        heapq.heappush(heap, command)"
   ]
  }
 ],
 "metadata": {
  "kernelspec": {
   "display_name": "Python 3",
   "language": "python",
   "name": "python3"
  },
  "language_info": {
   "codemirror_mode": {
    "name": "ipython",
    "version": 3
   },
   "file_extension": ".py",
   "mimetype": "text/x-python",
   "name": "python",
   "nbconvert_exporter": "python",
   "pygments_lexer": "ipython3",
   "version": "3.8.3"
  }
 },
 "nbformat": 4,
 "nbformat_minor": 4
}
