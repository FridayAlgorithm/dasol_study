{
 "cells": [
  {
   "cell_type": "code",
   "execution_count": null,
   "metadata": {},
   "outputs": [],
   "source": [
    "#11279 최대 힙\n",
    "# 시간초과!!!\n",
    "import sys\n",
    "\n",
    "def insertHeap (n):\n",
    "    length=len(heap)\n",
    "    heap.append(n)\n",
    "    parent=int(length/2)\n",
    "    while(True):\n",
    "        if(heap[parent]>=n):\n",
    "            return\n",
    "        else:\n",
    "            heap[parent],heap[length]=heap[length],heap[parent]\n",
    "            parent=int(parent/2)\n",
    "            \n",
    "            \n",
    "def popHeap ():\n",
    "    if (len(heap)==0): \n",
    "        print(0)\n",
    "    else:\n",
    "        print(heap[0])\n",
    "        del(heap[0])\n",
    "        \n",
    "heap=[]\n",
    "N=int(input())\n",
    "for i in range(N):\n",
    "    command = int(sys.stdin.readline())\n",
    "    if (command==0):\n",
    "        popHeap()\n",
    "    else:\n",
    "        insertHeap(command)"
   ]
  },
  {
   "cell_type": "code",
   "execution_count": null,
   "metadata": {},
   "outputs": [],
   "source": [
    "#11279 최대 힙\n",
    "#heapq 사용해서 시간초과 해결..\n",
    "import heapq\n",
    "import sys\n",
    "\n",
    "heap=[]\n",
    "N=int(input())\n",
    "for i in range(N):\n",
    "    command = int(sys.stdin.readline())\n",
    "    if (command==0):\n",
    "        if (len(heap)==0): print(0)\n",
    "        else:\n",
    "            print(heap[0][1])\n",
    "            heapq.heappop(heap)\n",
    "    else:\n",
    "        heapq.heappush(heap, (-command,command))"
   ]
  },
  {
   "cell_type": "code",
   "execution_count": null,
   "metadata": {},
   "outputs": [],
   "source": [
    "#1927 최소 힙\n",
    "import heapq\n",
    "import sys\n",
    "\n",
    "heap=[]\n",
    "N=int(input())\n",
    "for i in range(N):\n",
    "    command = int(sys.stdin.readline())\n",
    "    if (command==0):\n",
    "        if (len(heap)==0): print(0)\n",
    "        else:\n",
    "            print(heap[0])\n",
    "            heapq.heappop(heap)\n",
    "    else:\n",
    "        heapq.heappush(heap, command)"
   ]
  },
  {
   "cell_type": "code",
   "execution_count": 2,
   "metadata": {},
   "outputs": [
    {
     "name": "stdout",
     "output_type": "stream",
     "text": [
      "18\n",
      "1\n",
      "-1\n",
      "0\n",
      "-1\n",
      "0\n",
      "1\n",
      "0\n",
      "0\n",
      "1\n",
      "1\n",
      "-1\n",
      "-1\n",
      "2\n",
      "-2\n",
      "0\n",
      "-1\n",
      "0\n",
      "-1\n",
      "0\n",
      "1\n",
      "0\n",
      "1\n",
      "0\n",
      "-2\n",
      "0\n",
      "2\n",
      "0\n",
      "0\n"
     ]
    }
   ],
   "source": [
    "#11286 절댓값 힙\n",
    "import heapq\n",
    "import sys\n",
    "\n",
    "heap=[]\n",
    "N=int(input())\n",
    "for i in range(N):\n",
    "    #command = int(sys.stdin.readline())\n",
    "    command = int(input())\n",
    "    if (command==0):\n",
    "        if (len(heap)==0): print(0)\n",
    "        else:\n",
    "            print(heap[0][1])\n",
    "            heapq.heappop(heap)\n",
    "    else:\n",
    "        heapq.heappush(heap, [abs(command),command])"
   ]
  },
  {
   "cell_type": "code",
   "execution_count": null,
   "metadata": {},
   "outputs": [],
   "source": []
  }
 ],
 "metadata": {
  "kernelspec": {
   "display_name": "Python 3",
   "language": "python",
   "name": "python3"
  },
  "language_info": {
   "codemirror_mode": {
    "name": "ipython",
    "version": 3
   },
   "file_extension": ".py",
   "mimetype": "text/x-python",
   "name": "python",
   "nbconvert_exporter": "python",
   "pygments_lexer": "ipython3",
   "version": "3.7.9"
  }
 },
 "nbformat": 4,
 "nbformat_minor": 4
}
