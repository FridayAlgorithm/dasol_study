{
 "cells": [
  {
   "cell_type": "code",
   "execution_count": null,
   "metadata": {},
   "outputs": [],
   "source": [
    "#2798 블랙잭\n",
    "N, M = map(int,input().split())\n",
    "card = list(map(int,input().split()))\n",
    "card.sort()\n",
    "res=[]\n",
    "for i in range (N-2):\n",
    "    for j in range (i+1,N-1):\n",
    "        for k in range (j+1,N):\n",
    "            res.append(card[i]+card[j]+card[k])\n",
    "resSet = set(res)\n",
    "res = list(resSet)\n",
    "res.sort()\n",
    "resNum=len(res)\n",
    "for i in range (resNum):\n",
    "    if (res[i]>M):\n",
    "        if (i==0): print(res[i])\n",
    "        else: print(res[i-1])\n",
    "        break\n",
    "    if (i==resNum-1):\n",
    "        print(res[i])\n",
    "        break\n"
   ]
  },
  {
   "cell_type": "code",
   "execution_count": null,
   "metadata": {},
   "outputs": [],
   "source": [
    "#2231 분해합\n",
    "N=int(input())\n",
    "candidate=[]\n",
    "for i in range(1,10):\n",
    "    for j in range(1,10):\n",
    "        for k in range(1,10):\n",
    "            temp=[i,j,k,N-i-j-k]\n",
    "            candidate.append(temp)\n",
    "\n",
    "print(candidate)\n",
    "candNum=len(candidate)\n",
    "res=[]\n",
    "for i in range(candNum):\n",
    "    if (candidate[i][0]*100+candidate[i][1]*10+candidate[i][2]==candidate[i][3]):\n",
    "        res.append(candidate[i])\n",
    "res.sort(key=lambda x:x[3])\n",
    "if len(res)==0:\n",
    "    print(0)\n",
    "else:\n",
    "    print(res[0][3])"
   ]
  },
  {
   "cell_type": "code",
   "execution_count": 1,
   "metadata": {},
   "outputs": [
    {
     "name": "stdout",
     "output_type": "stream",
     "text": [
      "200\n",
      "190\n"
     ]
    }
   ],
   "source": [
    "#2231 스터디 후 수정\n",
    "N=int(input())\n",
    "resNum=0\n",
    "for i in range(1,N+1):\n",
    "    divNum = list(map(int,str(i)))\n",
    "    sumNum=i+sum(divNum)\n",
    "    if (sumNum == N):\n",
    "        resNum=i\n",
    "        break\n",
    "print(resNum)"
   ]
  },
  {
   "cell_type": "code",
   "execution_count": 2,
   "metadata": {},
   "outputs": [
    {
     "name": "stdout",
     "output_type": "stream",
     "text": [
      "5\n",
      "55 185\n",
      "58 183\n",
      "88 186\n",
      "60 175\n",
      "46 155\n",
      "2 2 1 2 5 "
     ]
    }
   ],
   "source": [
    "#7568 덩치\n",
    "import sys\n",
    "\n",
    "personInfo=[]\n",
    "N=int(input())\n",
    "for i in range(N):\n",
    "    #a=list(map(int,sys.stdin.readline().split()))\n",
    "    a=list(map(int,input().split()))\n",
    "    personInfo.append(a)\n",
    "\n",
    "for i in range(N):\n",
    "    k=1\n",
    "    for j in range(N):\n",
    "        if (personInfo[i][0] < personInfo[j][0] and personInfo[i][1] < personInfo[j][1]):\n",
    "            k+=1\n",
    "    personInfo[i].append(k)\n",
    "\n",
    "for i in range(N):\n",
    "    print(personInfo[i][2], end=' ')"
   ]
  },
  {
   "cell_type": "code",
   "execution_count": null,
   "metadata": {},
   "outputs": [],
   "source": []
  }
 ],
 "metadata": {
  "kernelspec": {
   "display_name": "Python 3",
   "language": "python",
   "name": "python3"
  },
  "language_info": {
   "codemirror_mode": {
    "name": "ipython",
    "version": 3
   },
   "file_extension": ".py",
   "mimetype": "text/x-python",
   "name": "python",
   "nbconvert_exporter": "python",
   "pygments_lexer": "ipython3",
   "version": "3.8.3"
  }
 },
 "nbformat": 4,
 "nbformat_minor": 4
}
