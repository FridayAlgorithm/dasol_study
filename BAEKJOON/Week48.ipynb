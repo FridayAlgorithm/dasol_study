{
 "cells": [
  {
   "cell_type": "markdown",
   "metadata": {},
   "source": [
    "# 48주차\n",
    "\n",
    "[48주차 문제집](https://www.acmicpc.net/group/workbook/view/10320/39585)\n",
    "\n",
    "* [1913 달팽이](https://www.acmicpc.net/problem/1913)\n",
    "* [23290 마법사 상어와 복제](https://www.acmicpc.net/problem/23290)\n",
    "* [2531 회전초밥](https://www.acmicpc.net/problem/2531)\n",
    "* [2470 두 용액](https://www.acmicpc.net/problem/2470)\n",
    "* [17404 RGB거리2](https://www.acmicpc.net/problem/17404)\n",
    "* [23288 주사위 굴리기2](https://www.acmicpc.net/problem/23288)"
   ]
  },
  {
   "cell_type": "markdown",
   "metadata": {},
   "source": [
    "## 1913 달팽이\n",
    "\n",
    "**문제로 이동** : [Baekjoon 달팽이](https://www.acmicpc.net/problem/1913)\n",
    "\n",
    "- 홀수인 자연수 N이 주어지면 1부터 N^2까지의 자연수를 달팽이 모양으로 표에 채울 수 있다\n",
    "- N이 주어졌을 때 이러한 표를 출력하는 프로그램을 작성하라\n",
    "- 또한 N^2 이하의 자연수가 하나 주어질 때 그 수의 좌표를 출력하라"
   ]
  },
  {
   "cell_type": "code",
   "execution_count": 16,
   "metadata": {},
   "outputs": [
    {
     "name": "stdout",
     "output_type": "stream",
     "text": [
      "7\n",
      "35\n",
      "49 26 27 28 29 30 31\n",
      "48 25 10 11 12 13 32\n",
      "47 24 9 2 3 14 33\n",
      "46 23 8 1 4 15 34\n",
      "45 22 7 6 5 16 35\n",
      "44 21 20 19 18 17 36\n",
      "43 42 41 40 39 38 37\n",
      "5 7\n"
     ]
    }
   ],
   "source": [
    "N=int(input())\n",
    "whereNum=int(input())\n",
    "snail=[[0]*N for _ in range(N)]\n",
    "dx=[0,1,0,-1]\n",
    "dy=[1,0,-1,0]\n",
    "direction=0\n",
    "num=N**2\n",
    "x,y=0,0\n",
    "while num>0:\n",
    "    snail[y][x]=num\n",
    "    nx=x+dx[direction]\n",
    "    ny=y+dy[direction]\n",
    "    if nx<0 or nx>=N or ny<0 or ny>=N or snail[ny][nx]!=0:\n",
    "        direction=(direction+1)%4\n",
    "    x+=dx[direction]\n",
    "    y+=dy[direction]\n",
    "    num-=1\n",
    "\n",
    "for i in snail:\n",
    "    print(*i, end='\\n')\n",
    "    \n",
    "for i in range(N):\n",
    "    if whereNum in snail[i]:\n",
    "        x,y=i,snail[i].index(whereNum)\n",
    "print(x+1, y+1)"
   ]
  },
  {
   "cell_type": "markdown",
   "metadata": {},
   "source": [
    "## 23290 마법사 상어와 복제\n",
    "\n",
    "**문제로 이동** : [마법사 상어와 복제](https://www.acmicpc.net/problem/23290)\n",
    "\n",
    "- 마법사 상어는 복제마법을 배워 4\\*4격자에서 연습하고자 한다\n",
    "- 격자에는 8개의 이동방향을 가진 물고기가 M마리 있다\n",
    "- 둘 이상의 물고기가 같은 칸에 있을 수 있으며 상어와 같은 칸에 있을 수도 있다\n",
    "- 상어의 마법 연습은 다음과 같은 순서로 이루어진다 \n",
    "  * 상어가 복제마법을 시전한다. (5번단계에서 칸에 나타난다)\n",
    "  * 모든 물고기가 한 칸 이동한다 (이동할수없을 경우 방향을 45도 반시계회전한다 그럼에도 없다면 이동하지 않는다)\n",
    "  * 상어가 연속 3칸 이동한다. 물고기가 있는 칸으로 이동하면 물고기는 제외되며 물고기 냄새를 남긴다 상어는 이동방법중 제외되는 물고기가 가장 많은 방법으로 이동한다\n",
    "  * 두번 전 연습에서 생긴 물고기의 냄새가 격자에서 사라진다\n",
    "  * 1에서 사용한 복제 마법이 완료된다\n",
    "- 격자에 있는 물고기의 위치와 방향정보, 상어의 위치와 연습횟수가 주어질 때 연습 후 격자에 남은 물고기의 수를 구하라"
   ]
  },
  {
   "cell_type": "code",
   "execution_count": null,
   "metadata": {},
   "outputs": [],
   "source": []
  },
  {
   "cell_type": "markdown",
   "metadata": {},
   "source": [
    "## 2531 회전초밥\n",
    "\n",
    "**문제로 이동** : [Baekjoon 회전초밥](https://www.acmicpc.net/problem/2531)\n",
    "\n",
    "- 회전초밥 집에는 회전하는 벨트 위에 여러 가지 종류의 초밥이 놓여있다\n",
    "- 벨트 위에는 같은 종류의 초밥이 있을 수 있으며 다음 행사를 통해 매출을 올리고자 한다\n",
    "  * 벨트의 임의의 한 위치부터 K개의 접시를 연속해서 먹은 경우 할인된 가격으로 제공\n",
    "  * 각 고객에게 초밥 한 종류의 쿠폰을 발행하고 1번 행사에 참여할 시 쿠폰의 초밥을 무료로 제공\n",
    "- 회전 초밥 음식점의 벨트 상태, 메뉴에 있는 초밥의 가짓수, 연속해서 먹는 접시의 개수, 쿠폰 번호가 주어질 때 손님이 먹을 수 있는 초밥 가짓수의 최댓값을 구하라"
   ]
  },
  {
   "cell_type": "code",
   "execution_count": 20,
   "metadata": {},
   "outputs": [
    {
     "name": "stdout",
     "output_type": "stream",
     "text": [
      "8 30 4 30\n",
      "7\n",
      "9\n",
      "7\n",
      "30\n",
      "2\n",
      "7\n",
      "9\n",
      "25\n",
      "5\n"
     ]
    }
   ],
   "source": [
    "import sys\n",
    "\n",
    "# input = sys.stdin.readline\n",
    "N,d,k,c=map(int,input().split())\n",
    "sushi=[int(input()) for _ in range(N)]\n",
    "eaten=[0]*(d+1)\n",
    "count=0\n",
    "for i in range(k):\n",
    "    if eaten[sushi[i]]==0:\n",
    "        count+=1\n",
    "    eaten[sushi[i]]+=1\n",
    "    \n",
    "result=count\n",
    "for left in range(1,N):\n",
    "    if result<=count:\n",
    "        if eaten[c]==0:\n",
    "            result=count+1\n",
    "        else:\n",
    "            result=count\n",
    "            \n",
    "    right=(left+k-1)%N\n",
    "    if eaten[sushi[right]]==0:\n",
    "        count+=1\n",
    "    eaten[sushi[right]]+=1\n",
    "    eaten[sushi[left-1]]-=1\n",
    "    if eaten[sushi[left-1]]==0:\n",
    "        count-=1\n",
    "print(result)"
   ]
  },
  {
   "cell_type": "markdown",
   "metadata": {},
   "source": [
    "## 2470 두 용액\n",
    "\n",
    "**문제로 이동** : [Baekjoon 두 용액](https://www.acmicpc.net/problem/2470)\n",
    "\n",
    "- 과학 연구소에서 산성 용액은 양의 정수, 알칼리성 용액은 음의 정수로 나타낸다\n",
    "- 같은 양의 두 용액을 혼합하여 특성값이 0에 가까운 용액을 만들고자 한다\n",
    "- 두 종류의 알칼리, 산성 용액만으로 특성값이 0에 가깝게 만들 수 있다\n",
    "- 산성과 알칼리성 용액의 특성값이 주어질 때 특성값이 0에 가까운 용액을 만드는 두 용액을 찾아라"
   ]
  },
  {
   "cell_type": "code",
   "execution_count": 22,
   "metadata": {},
   "outputs": [
    {
     "name": "stdout",
     "output_type": "stream",
     "text": [
      "5\n",
      "-2 4 -99 -1 98\n",
      "-99 98\n"
     ]
    }
   ],
   "source": [
    "N=int(input())\n",
    "liquid=list(map(int,input().split()))\n",
    "liquid.sort()\n",
    "\n",
    "left,right=0, N-1\n",
    "res1, res2=0,0\n",
    "maxDiff=2000000000\n",
    "\n",
    "while(left<right):\n",
    "    mix=liquid[left]+liquid[right]\n",
    "    diff=abs(mix)\n",
    "    \n",
    "    if (maxDiff>diff):\n",
    "        maxDiff=diff\n",
    "        res1, res2=liquid[left],liquid[right]\n",
    "        \n",
    "    if mix>0:\n",
    "        right-=1\n",
    "    else:\n",
    "        left+=1\n",
    "        \n",
    "print(res1, res2)"
   ]
  },
  {
   "cell_type": "markdown",
   "metadata": {},
   "source": [
    "## 17404 RGB 거리2\n",
    "\n",
    "**문제로 이동** : [Baekjoon RGB 거리2](https://www.acmicpc.net/problem/17404)\n",
    "\n",
    "- RGB 거리에는 1번 집부터 N번 집이 순서대로 있다\n",
    "- 집은 빨강, 초록, 파랑 중 하나의 색으로 칠해야 한다\n",
    "- 집을 각 색으로 칠할 때의 비용이 주어졌을 때 다음 조건을 만족하는 최소 비용을 구하라\n",
    "  * 1번 집의 색은 2번, N번집의 색과 같지 않아야 한다\n",
    "  * N번 집의 색은 N-1번, 1번 집의 색과 같지 않아야 한다\n",
    "  * i번 집의 색은 i-1, i+1번 집의 색과 같지 않아야 한다"
   ]
  },
  {
   "cell_type": "code",
   "execution_count": 21,
   "metadata": {},
   "outputs": [
    {
     "name": "stdout",
     "output_type": "stream",
     "text": [
      "6\n",
      "30 19 5\n",
      "64 77 64\n",
      "15 19 97\n",
      "4 71 57\n",
      "90 86 84\n",
      "93 32 91\n",
      "208\n"
     ]
    }
   ],
   "source": [
    "import sys\n",
    "# input = sys.stdin.readline\n",
    "\n",
    "n=int(input())\n",
    "cost=[list(map(int,input().split())) for _ in range(n)]\n",
    "result, inf=1e9, 1e9\n",
    "\n",
    "for c in range(3):\n",
    "    dp=[[0]*3 for _ in range(n)]\n",
    "    for i in range(3):\n",
    "        if i==c:\n",
    "            dp[0][i]=cost[0][i]\n",
    "        else:\n",
    "            dp[0][i]=inf\n",
    "    for i in range(1,n):\n",
    "        dp[i][0]=cost[i][0]+min(dp[i-1][1], dp[i-1][2])\n",
    "        dp[i][1]=cost[i][1]+min(dp[i-1][0], dp[i-1][2])\n",
    "        dp[i][2]=cost[i][2]+min(dp[i-1][0], dp[i-1][1])\n",
    "    for i in range(3):\n",
    "        if i!=c:\n",
    "            result=min(result, dp[-1][i])\n",
    "print(result)"
   ]
  },
  {
   "cell_type": "markdown",
   "metadata": {},
   "source": [
    "## 23288 주사위 굴리기 2\n",
    "\n",
    "**문제로 이동** : [Baekjoon 주사위 굴리기2](https://www.acmicpc.net/problem/23288)\n",
    "\n",
    "- 크기가 N\\*M인 지도에 오른쪽은 동쪽, 위쪽은 북쪽이다\n",
    "- 지도 위에 각 면에 숫자가 적힌 주사위가 놓여져있다\n",
    "- 지도의 각 칸에 정수가 적혀있으며 가장 처음 주사위의 이동은 동쪽이다\n",
    "- 주사위의 이동은 다음과 같이 이루어진다\n",
    "  * 주사위가 이동방향으로 한칸 굴러간다, 이동방향에 칸이 없다면 그 반대 방향으로 구른다\n",
    "  * 주사위가 도착한 칸에 적힌 정수만큼 점수를 획득한다\n",
    "  * 주사위의 아랫면에 있는 정수와 주사위가 있는 칸의 정수를 비교하여 이동방향을 결정한다 \n",
    "  * A>B:이동방향 시계방향, A<B:이동방향 반시계방향 A==B:변화없듬\n",
    "- 점수는 칸에 있는 정수와 이동가능한 칸의 수를 곱하여 구할 수 있다\n",
    "- 보드의 크기와 각 칸에 정수, 주사위 이동횟수가 주어졌을 때 획득하는 점수의 합을 구하라"
   ]
  },
  {
   "cell_type": "code",
   "execution_count": 23,
   "metadata": {},
   "outputs": [
    {
     "name": "stdout",
     "output_type": "stream",
     "text": [
      "4 5 1\n",
      "4 1 2 3 3\n",
      "6 1 1 3 3\n",
      "5 6 1 3 2\n",
      "5 5 6 5 5\n",
      "4\n"
     ]
    }
   ],
   "source": [
    "from collections import deque\n",
    "import sys\n",
    "\n",
    "# input=sys.stdin.readline\n",
    "N,M,K=map(int,input().split())\n",
    "board=[list(map(int,input().split())) for _ in range(N)]\n",
    "\n",
    "score=[[0]*M for _ in range(N)]\n",
    "visit=[[0]*M for _ in range(N)]\n",
    "dx=[0,1,0,-1]\n",
    "dy=[1,0,-1,0]\n",
    "for i in range(N):\n",
    "    for j in range(M):\n",
    "        if not visit[i][j]:\n",
    "            queue=deque([[i,j]])\n",
    "            visit[i][j]=1\n",
    "            able=1\n",
    "            temp=[(i,j)]\n",
    "            while queue:\n",
    "                x,y=queue.popleft()\n",
    "                for k in range(4):\n",
    "                    nx,ny=x+dx[k],y+dy[k]\n",
    "                    if 0<=nx<N and 0<=ny<M and not visit[nx][ny] and board[x][y]==board[nx][ny]:\n",
    "                        visit[nx][ny]=1\n",
    "                        able+=1\n",
    "                        temp.append([nx,ny])\n",
    "                        queue.append([nx,ny])\n",
    "            for x,y in temp:\n",
    "                score[x][y]=board[x][y]*able\n",
    "            \n",
    "dice=[2,1,5,6,4,3]\n",
    "result=0\n",
    "direction=0\n",
    "x,y,nx,ny=0,0,0,0\n",
    "for _ in range(K):\n",
    "    x,y=nx,ny\n",
    "    nx,ny=x+dx[direction], y+dy[direction]\n",
    "    if not(0<=nx<N and 0<=ny<M):\n",
    "        direction=(direction+2)%4\n",
    "        nx,ny=x+dx[direction],y+dy[direction]\n",
    "    result+=score[nx][ny]\n",
    "    \n",
    "    if direction == 0: \n",
    "        dice[4], dice[1], dice[5], dice[3] = dice[3],dice[4], dice[1], dice[5]\n",
    "    if direction == 1: \n",
    "        dice[0], dice[1], dice[2], dice[3] = dice[3], dice[0], dice[1], dice[2]\n",
    "    if direction == 2: \n",
    "        dice[4], dice[1], dice[5], dice[3] = dice[1], dice[5], dice[3], dice[4]\n",
    "    if direction == 3: \n",
    "        dice[0], dice[1], dice[2], dice[3] = dice[1], dice[2], dice[3], dice[0]\n",
    "\n",
    "    if dice[3]>board[nx][ny]: \n",
    "        direction=(direction + 1)%4\n",
    "    if dice[3]<board[nx][ny]: \n",
    "        direction=(direction + 3)%4\n",
    "    \n",
    "print(result)"
   ]
  },
  {
   "cell_type": "code",
   "execution_count": null,
   "metadata": {},
   "outputs": [],
   "source": []
  }
 ],
 "metadata": {
  "kernelspec": {
   "display_name": "Python 3",
   "language": "python",
   "name": "python3"
  },
  "language_info": {
   "codemirror_mode": {
    "name": "ipython",
    "version": 3
   },
   "file_extension": ".py",
   "mimetype": "text/x-python",
   "name": "python",
   "nbconvert_exporter": "python",
   "pygments_lexer": "ipython3",
   "version": "3.8.3"
  }
 },
 "nbformat": 4,
 "nbformat_minor": 4
}
