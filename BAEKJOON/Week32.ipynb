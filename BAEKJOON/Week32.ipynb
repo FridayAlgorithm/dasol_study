{
 "cells": [
  {
   "cell_type": "markdown",
   "metadata": {},
   "source": [
    "# 32주차 \n",
    "\n",
    "[32주차 문제집](https://www.acmicpc.net/group/workbook/view/10320/35917)\n",
    "\n",
    "* [16234 인구 이동](https://www.acmicpc.net/problem/16234)\n",
    "* [9207 페그 솔리테어](https://www.acmicpc.net/problem/9207)\n",
    "* [1915 가장 큰 정사각형](https://www.acmicpc.net/problem/1915)\n",
    "* [2096 내려가기](https://www.acmicpc.net/problem/2096)\n",
    "* [2631 줄세우기](https://www.acmicpc.net/problem/2631)\n",
    "* [14503 로봇 청소기](https://www.acmicpc.net/problem/14503)"
   ]
  },
  {
   "cell_type": "markdown",
   "metadata": {},
   "source": [
    "## 16234 인구이동\n",
    "\n",
    "**문제로 이동** : [Baekjoon 인구 이동](https://www.acmicpc.net/problem/16234)\n",
    "\n",
    "- N\\*N 땅 각각에 나라가 하나씩 존재하며 나라에는 A[r][c]명이 살고있다\n",
    "- 인구이동은 하루동안 다음과 같이 진행된다\n",
    "  1. 국경선 공유하는 나라의 인구 차이가 L명이상 R명 이하면 국경선을 연다\n",
    "  2. 열어야하는 국경선이 모두 열렸다면 인구 이동을 시작한다\n",
    "  3. 연합을 이루고 있는 각 칸의 인구수는 (연합인구수)/(연합이루는 칸의 수)\n",
    "  4. 연합을 해체하고 모든 국경선을 닫느다\n",
    "- 각 나라의 인구수가 주어졌을 때 인구 이동이 며칠 동안 발생하는지 구하는 프로그램을 작성하라"
   ]
  },
  {
   "cell_type": "code",
   "execution_count": 34,
   "metadata": {},
   "outputs": [
    {
     "name": "stdout",
     "output_type": "stream",
     "text": [
      "2 20 50\n",
      "50 30\n",
      "20 40\n",
      "1\n"
     ]
    }
   ],
   "source": [
    "#시간초과 => pypy 제출\n",
    "from collections import deque\n",
    "\n",
    "def findUnion(start,num):\n",
    "    queue = deque()\n",
    "    queue.append(start)\n",
    "    union[start[0]][start[1]]=num\n",
    "    people=country[start[0]][start[1]]\n",
    "    count=1\n",
    "    while queue:\n",
    "        x,y=queue.popleft()\n",
    "        for k in range(4):\n",
    "            nx=x+dx[k]\n",
    "            ny=y+dy[k]\n",
    "\n",
    "            if 0<=nx<N and 0<=ny<N and union[nx][ny]==-1:\n",
    "                if (mini<=abs(country[x][y]-country[nx][ny])<=maxi):\n",
    "                    people+=country[nx][ny]\n",
    "                    union[nx][ny]=num\n",
    "                    count+=1\n",
    "                    queue.append([nx,ny])\n",
    "    return [people,count]\n",
    "\n",
    "N,mini,maxi=map(int,input().split())\n",
    "country = [list(map(int,input().split())) for _ in range(N)]\n",
    "\n",
    "dx=[0,0,-1,1]\n",
    "dy=[-1,1,0,0]\n",
    "cnt=0\n",
    "while True:\n",
    "    union = [[-1] * N for _ in range(N)]\n",
    "    n=0\n",
    "    unionInfo={}\n",
    "    for i in range(N):\n",
    "        for j in range(N):\n",
    "            if union[i][j]==-1:\n",
    "                unionInfo[n]=findUnion([i,j],n)\n",
    "                n+=1\n",
    "    if n==N*N:\n",
    "        break\n",
    "    for i in range(N):\n",
    "        for j in range(N):\n",
    "            country[i][j]=unionInfo[union[i][j]][0]//unionInfo[union[i][j]][1]\n",
    "    cnt+=1\n",
    "print(cnt)"
   ]
  },
  {
   "cell_type": "markdown",
   "metadata": {},
   "source": [
    "## 9207 페그 솔리테어\n",
    "\n",
    "**문제로 이동** : [Baekjoon 페그 솔리테어](https://www.acmicpc.net/problem/9207)\n",
    "\n",
    "- 페그 솔리테어는 구멍이 뚫려있는 이차원 게임판에서 하는 게임이다\n",
    "- 핀은 수직, 수평방향으로 인접한 핀을 뛰어 넘어 그 핀의 다음 칸으로 이동만 허용\n",
    "- 인접한 핀의 다음 칸은 비어있어야하며 그 인접한 핀은 제거된다\n",
    "- 게임판의 핀의 상태가 주어질 때 핀을 적절히 움직여 남아있는 핀의 수를 최소로 하고자 한다\n",
    "- 각 테스트케이스에 대해 남은 핀의 최소 개수와 필요한 최소 이동횟수를 구하라"
   ]
  },
  {
   "cell_type": "code",
   "execution_count": 7,
   "metadata": {},
   "outputs": [
    {
     "name": "stdout",
     "output_type": "stream",
     "text": [
      "3\n",
      "###...###\n",
      "..oo.....\n",
      ".....oo..\n",
      ".........\n",
      "###...###\n",
      "1 3\n",
      "###...###\n",
      "..oo.o...\n",
      "...o.oo..\n",
      "...oo....\n",
      "###...###\n",
      "1 7\n",
      "###o..###\n",
      ".o.oo....\n",
      "o.o......\n",
      ".o.o.....\n",
      "###...###\n",
      "1 7\n"
     ]
    }
   ],
   "source": [
    "import sys\n",
    "\n",
    "#input = sys.stdin.readline\n",
    "testcase=int(input())\n",
    "dx=[-1,1,0,0]\n",
    "dy=[0,0,-1,1]\n",
    "\n",
    "def DFS(x,y, r, m):\n",
    "    global remainPin, move\n",
    "    if (r<=remainPin):\n",
    "        remainPin=r\n",
    "        move=m\n",
    "    for i in range(4):\n",
    "        nx=x+dx[i]\n",
    "        ny=y+dy[i]\n",
    "        if (0<=nx<5 and 0<=ny<9 and board[nx][ny]=='o'):\n",
    "            nnx=nx+dx[i]\n",
    "            nny=ny+dy[i]\n",
    "            if (0<=nnx<5 and 0<=nny<9 and board[nnx][nny]=='.'):\n",
    "                board[x][y]='.'\n",
    "                board[nx][ny]='.'\n",
    "                board[nnx][nny]='o'\n",
    "                for j in range(5):\n",
    "                    for k in range(9):\n",
    "                        if (board[j][k]=='o'):\n",
    "                            DFS(j,k,r-1,m+1)\n",
    "                board[x][y]='o'\n",
    "                board[nx][ny]='o'\n",
    "                board[nnx][nny]='.'\n",
    "\n",
    "    \n",
    "for i in range(testcase):\n",
    "    board=[]\n",
    "    j=5; pin=0\n",
    "    while(j):\n",
    "        temp=input()\n",
    "        if (temp!=''):\n",
    "            j-=1\n",
    "            pin+=temp.count('o')\n",
    "            board.append(list(temp))\n",
    "    remainPin, move, pin=0,0,0\n",
    "    remainPin=pin\n",
    "    for i in range(5):\n",
    "        for j in range(9):\n",
    "            if (board[i][j]=='o'):\n",
    "                DFS(i,j,pin,0)\n",
    "    print(remainPin, move)"
   ]
  },
  {
   "cell_type": "markdown",
   "metadata": {},
   "source": [
    "## 1915 가장 큰 정사각형\n",
    "\n",
    "**문제로 이동** : [Baekjoon 가장 큰 정사각형](https://www.acmicpc.net/problem/1915)\n",
    "\n",
    "- n\\*m의 0,1로 된 배열에서 1로 된 가장 큰 정사각형의 크기를 구하여라"
   ]
  },
  {
   "cell_type": "code",
   "execution_count": 11,
   "metadata": {},
   "outputs": [
    {
     "name": "stdout",
     "output_type": "stream",
     "text": [
      "4 4\n",
      "0100\n",
      "0111\n",
      "1110\n",
      "0010\n",
      "[[0, 1, 0, 0], [0, 1, 1, 1], [1, 1, 1, 0], [0, 0, 1, 0]]\n",
      "4\n"
     ]
    }
   ],
   "source": [
    "n,m=map(int,input().split())\n",
    "arr=[list(map(int, list(input()))) for _ in range(n)]\n",
    "print(arr)\n",
    "dp=[[0]*(m+1) for _ in range(n+1)]\n",
    "res=0\n",
    "for i in range(1, n+1):\n",
    "    for j in range(1, m+1):\n",
    "        if arr[i-1][j-1]==1:\n",
    "            dp[i][j]=min(dp[i][j-1],dp[i-1][j],dp[i-1][j-1])+1\n",
    "            if (dp[i][j]>res):\n",
    "                res=dp[i][j]\n",
    "print(res**2)"
   ]
  },
  {
   "cell_type": "markdown",
   "metadata": {},
   "source": [
    "## 2096 내려가기\n",
    "\n",
    "**문제로 이동** : [Baekjoon 내려가기](https://www.acmicpc.net/problem/2096)\n",
    "\n",
    "- N줄에 0~9 숫자가 세 개씩 적혀있다\n",
    "- 처음에 적혀있는 세 개의 숫자 중에서 하나를 골라 다음줄로 내려간다\n",
    "- 다음 줄로 내려갈 때에는 바로 아래의 수나 바로 아래의 수와 붙어있는 수로만 이동 가능하다\n",
    "- 숫자표가 주어질 때 얻을 수 있는 최대 점수와 최소 점수를 구하여라"
   ]
  },
  {
   "cell_type": "code",
   "execution_count": 21,
   "metadata": {},
   "outputs": [
    {
     "name": "stdout",
     "output_type": "stream",
     "text": [
      "3\n",
      "1 2 3\n",
      "4 5 6\n",
      "4 9 0\n",
      "[[1, 2, 3], [6, 8, 9], [12, 18, 9]] [[1, 2, 3], [5, 6, 8], [9, 14, 6]]\n",
      "18 6\n"
     ]
    }
   ],
   "source": [
    "#메모리 초과\n",
    "n=int(input())\n",
    "scoreArr=[list(map(int,input().split())) for _ in range(n)]\n",
    "maxDp=[[0,0,0] for _ in range(n)]\n",
    "minDp=[[0,0,0] for _ in range(n)]\n",
    "maxDp[0],minDp[0]=scoreArr[0],scoreArr[0]\n",
    "\n",
    "for i in range(1, n):\n",
    "    maxDp[i][0]=max(maxDp[i-1][0],maxDp[i-1][1])+scoreArr[i][0]\n",
    "    maxDp[i][1]=max(maxDp[i-1][0],maxDp[i-1][1], maxDp[i-1][2])+scoreArr[i][1]\n",
    "    maxDp[i][2]=max(maxDp[i-1][1],maxDp[i-1][2])+scoreArr[i][2]\n",
    "    \n",
    "    minDp[i][0]=min(minDp[i-1][0], minDp[i-1][1])+scoreArr[i][0]\n",
    "    minDp[i][1]=min(minDp[i-1][0], minDp[i-1][1], minDp[i-1][2])+scoreArr[i][1]\n",
    "    minDp[i][2]=min(minDp[i-1][1], minDp[i-1][2])+scoreArr[i][2]\n",
    "\n",
    "print(max(maxDp[-1]),min(minDp[-1]))"
   ]
  },
  {
   "cell_type": "code",
   "execution_count": 26,
   "metadata": {},
   "outputs": [
    {
     "name": "stdout",
     "output_type": "stream",
     "text": [
      "3\n",
      "1 2 3\n",
      "4 5 6\n",
      "4 9 0\n",
      "18 6\n"
     ]
    }
   ],
   "source": [
    "n=int(input())\n",
    "maxDp = [[0 for _ in range(3)] for _ in range(2)]\n",
    "minDp = [[0 for _ in range(3)] for _ in range(2)]\n",
    "for i in range(n):\n",
    "    temp = list(map(int, input().split()))\n",
    "    maxDp[1][0] = max(maxDp[0][0], maxDp[0][1]) + temp[0]\n",
    "    maxDp[1][1] = max(maxDp[0][0], maxDp[0][1], maxDp[0][2]) + temp[1]\n",
    "    maxDp[1][2] = max(maxDp[0][1], maxDp[0][2]) + temp[2]\n",
    "    \n",
    "    minDp[1][0] = min(minDp[0][0], minDp[0][1]) + temp[0]\n",
    "    minDp[1][1] = min(minDp[0][0], minDp[0][1], minDp[0][2]) + temp[1]\n",
    "    minDp[1][2] = min(minDp[0][1], minDp[0][2]) + temp[2]\n",
    " \n",
    "    maxDp[0][0], maxDp[0][1], maxDp[0][2] = maxDp[1][0], maxDp[1][1], maxDp[1][2]\n",
    "    minDp[0][0], minDp[0][1], minDp[0][2] = minDp[1][0], minDp[1][1], minDp[1][2]\n",
    "print(max(maxDp[1]), min(minDp[1]))"
   ]
  },
  {
   "cell_type": "markdown",
   "metadata": {},
   "source": [
    "## 2631 줄세우기\n",
    "\n",
    "**문제로 이동** : [Baekjoon 줄세우기](https://www.acmicpc.net/problem/2631)\n",
    "\n",
    "- 바뀐 번호 순서를 최소로 옮겨서 다시 순서대로 줄을 세우고자 한다\n",
    "- 아이들이 임의로 줄을 서 있을 때 순서대로 배치하기 위해 움직이는 아이의 최소 수를 구하라\n",
    "\n",
    "[최장증가수열 (LIS)]\n",
    "```\n",
    "for (int k = 0; k < n; k++){\n",
    "\tlength[k] = 1;\n",
    "    for (int i = 0; i < k; i++){\n",
    "        if(arr[i] < arr[k]){\n",
    "            length[k] = max(length[k], length[i] + 1);\n",
    "        }        \n",
    "    }\n",
    "}\n",
    "```"
   ]
  },
  {
   "cell_type": "code",
   "execution_count": 27,
   "metadata": {},
   "outputs": [
    {
     "name": "stdout",
     "output_type": "stream",
     "text": [
      "7\n",
      "3\n",
      "7\n",
      "5\n",
      "2\n",
      "6\n",
      "1\n",
      "4\n",
      "4\n"
     ]
    }
   ],
   "source": [
    "n=int(input())\n",
    "number=[int(input()) for _ in range(n)]\n",
    "\n",
    "dp=[1]*n\n",
    "for i in range(n):\n",
    "    for j in range(i):\n",
    "        if (number[i]>number[j]):\n",
    "            dp[i]=max(dp[i],dp[j]+1)\n",
    "print(n-max(dp))"
   ]
  },
  {
   "cell_type": "markdown",
   "metadata": {},
   "source": [
    "## 14503 로봇청소기\n",
    "\n",
    "**문제로 이동** : [Baekjoon 로봇청소기](https://www.acmicpc.net/problem/14503)\n",
    "\n",
    "- 로봇 청소기는 다음과 같이 작동한다\n",
    "  1. 현재 위치를 청소한다\n",
    "  2. 현재 위치에서 현재 방향을 기준으로 왼쪽 방향부터 차례대로 인접한 칸을 탐색한다\n",
    "     * 왼쪽방향에 청소하지 않은 공간이 있다면 그 방향으로 회전 후에 1번부터 진행\n",
    "     * 왼쪽방향에 청소할 공간이 없다면 방향 회전 후 2번부터 진행\n",
    "     * 네 방향 모두 청소가 되어있다면 방향을 유지한 채 한 칸 후진 후 2번 진행\n",
    "     * 네 방향 모두 청소가 되어있고, 후진할 공간이 없다면 작동 멈춘다\n",
    "- 로봇청소기가 청소하는 칸의 개수를 구하라"
   ]
  },
  {
   "cell_type": "code",
   "execution_count": 31,
   "metadata": {},
   "outputs": [
    {
     "name": "stdout",
     "output_type": "stream",
     "text": [
      "3 3\n",
      "1 1 0\n",
      "1 1 1\n",
      "1 0 1\n",
      "1 1 1\n",
      "1\n"
     ]
    }
   ],
   "source": [
    "#시간초과\n",
    "from collections import deque\n",
    "\n",
    "n,m=map(int,input().split())\n",
    "r,c,d=map(int,input().split())\n",
    "area=[list(map(int,input().split())) for _ in range(n)]\n",
    "\n",
    "dx=[0,1,0,-1]\n",
    "dy=[-1,0,1,0]\n",
    "queue=deque()\n",
    "queue.append((r,c,d))\n",
    "result=1\n",
    "while(queue):\n",
    "    y,x,look=queue.popleft()\n",
    "    area[y][x]=2\n",
    "    temp=look\n",
    "    for i in range(4):\n",
    "        #북:0 동:1 남:2  서:3 \n",
    "        temp-=1\n",
    "        if temp==-1:\n",
    "            temp=3\n",
    "        nx=x+dx[temp]\n",
    "        ny=y+dy[temp]\n",
    "        if (0<=nx<m and 0<=ny<n and area[ny][nx]==0):\n",
    "            result+=1\n",
    "            area[ny][nx]=2\n",
    "            queue.append((ny,nx,temp))\n",
    "            break\n",
    "        elif (i==3):\n",
    "            #후진\n",
    "            temp=(look+2)%4\n",
    "            nx=x+dx[temp]\n",
    "            ny=y+dy[temp]\n",
    "            if area[ny][nx]==1:\n",
    "                print(result)\n",
    "            else:\n",
    "                queue.append((ny,nx,temp))"
   ]
  },
  {
   "cell_type": "code",
   "execution_count": null,
   "metadata": {},
   "outputs": [],
   "source": []
  }
 ],
 "metadata": {
  "kernelspec": {
   "display_name": "Python 3",
   "language": "python",
   "name": "python3"
  },
  "language_info": {
   "codemirror_mode": {
    "name": "ipython",
    "version": 3
   },
   "file_extension": ".py",
   "mimetype": "text/x-python",
   "name": "python",
   "nbconvert_exporter": "python",
   "pygments_lexer": "ipython3",
   "version": "3.8.3"
  }
 },
 "nbformat": 4,
 "nbformat_minor": 4
}
