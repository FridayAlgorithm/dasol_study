{
 "cells": [
  {
   "cell_type": "markdown",
   "metadata": {},
   "source": [
    "# 55주차\n",
    "\n",
    "[55주차 문제집](https://www.acmicpc.net/group/workbook/view/10320/41856)\n",
    "\n",
    "* [2661 좋은수열](https://www.acmicpc.net/problem/2661)\n",
    "* [5214 환승](https://www.acmicpc.net/problem/5214)\n",
    "* [18427 함께 블록쌓기](https://www.acmicpc.net/problem/18427)\n",
    "* [2580 스도쿠](https://www.acmicpc.net/problem/2580)\n",
    "* [11559 Puyo Puyo](https://www.acmicpc.net/problem/11559)"
   ]
  },
  {
   "cell_type": "markdown",
   "metadata": {},
   "source": [
    "## 2661 좋은 수열\n",
    "\n",
    "**문제로 이동** : [Baekjoon 좋은 수열](https://www.acmicpc.net/problem/2661)\n",
    "\n",
    "- 수열 1,2,3으로만 이루어지는 수열이 있다.\n",
    "- 임의의 길이의 인접한 두 개의 부분 수열이 동일하다면 그 수열을 나쁜 수열이라 한다\n",
    "- 길이가 N인 좋은 수열들을 N자리의 정수로 보아 그 중 가장 작은 수를 나타내는 수열을 구하는 프로그램을 작성하라"
   ]
  },
  {
   "cell_type": "code",
   "execution_count": 1,
   "metadata": {},
   "outputs": [
    {
     "name": "stdout",
     "output_type": "stream",
     "text": [
      "7\n",
      "1213121\n"
     ]
    },
    {
     "ename": "SystemExit",
     "evalue": "",
     "output_type": "error",
     "traceback": [
      "An exception has occurred, use %tb to see the full traceback.\n",
      "\u001b[1;31mSystemExit\u001b[0m\n"
     ]
    },
    {
     "name": "stderr",
     "output_type": "stream",
     "text": [
      "C:\\Users\\user\\anaconda3\\lib\\site-packages\\IPython\\core\\interactiveshell.py:3351: UserWarning: To exit: use 'exit', 'quit', or Ctrl-D.\n",
      "  warn(\"To exit: use 'exit', 'quit', or Ctrl-D.\", stacklevel=1)\n"
     ]
    }
   ],
   "source": [
    "import sys\n",
    "N=int(input())\n",
    "\n",
    "def isGood(seq):\n",
    "    idx=len(seq)\n",
    "    for i in range(1, idx//2+1):\n",
    "        if (seq[idx-2*i:idx-i]==seq[idx-i:idx]):\n",
    "            return False\n",
    "    return True\n",
    "\n",
    "def backtracking(seq, length):\n",
    "    global N\n",
    "    if length>=N:\n",
    "        print(seq)\n",
    "        sys.exit()\n",
    "    for i in range(1,4):\n",
    "        seq+=str(i)\n",
    "        length+=1\n",
    "        if isGood(seq):\n",
    "            backtracking(seq,length)\n",
    "        seq=seq[:-1]\n",
    "        length-=1\n",
    "\n",
    "backtracking(\"\",0)"
   ]
  },
  {
   "cell_type": "markdown",
   "metadata": {},
   "source": [
    "## 5214 환승\n",
    "\n",
    "**문제로 이동** : [Baekjoon 환승](https://www.acmicpc.net/problem/5214)\n",
    "\n",
    "- 아주 먼 미래에 사람들이 가장 많이 사용하는 대중교통은 하이퍼튜브이다\n",
    "- 하이퍼튜브 하나는 역 K개를 서로 연결한다\n",
    "- 1번역에서 N번역으로 가는데 방문하는 최소 역의 수는 몇개인가?"
   ]
  },
  {
   "cell_type": "code",
   "execution_count": 12,
   "metadata": {},
   "outputs": [
    {
     "name": "stdout",
     "output_type": "stream",
     "text": [
      "15 8 4\n",
      "11 12 8 14 13 6 10 7\n",
      "1 5 8 12 13 6 2 4\n",
      "10 15 4 5 9 8 14 12\n",
      "11 12 14 3 5 6 1 13\n",
      "2\n"
     ]
    }
   ],
   "source": [
    "import sys\n",
    "import copy\n",
    "from collections import deque\n",
    "\n",
    "N, K, M=map(int,input().split())\n",
    "hypertube=[[] for _ in range(N+1)]\n",
    "for _ in range(M):\n",
    "    link=list(map(int,input().split()))\n",
    "    for i in link:\n",
    "        temp=copy.deepcopy(link)\n",
    "        temp.remove(i)\n",
    "        hypertube[i]=temp\n",
    "\n",
    "visit=[False]*(N+1)\n",
    "queue=deque()\n",
    "queue.append((1,1))\n",
    "visit[1]=True\n",
    "while queue:\n",
    "    cur,throughNum=queue.popleft()\n",
    "    if cur==N: break\n",
    "    for nextTube in hypertube[cur]:\n",
    "        if (not visit[nextTube]):\n",
    "            queue.append((nextTube,throughNum+1))\n",
    "            visit[nextTube]=True\n",
    "        \n",
    "print(throughNum)"
   ]
  },
  {
   "cell_type": "code",
   "execution_count": null,
   "metadata": {},
   "outputs": [],
   "source": [
    "import sys\n",
    "import copy\n",
    "from collections import deque\n",
    "\n",
    "N, K, M=map(int,input().split())\n",
    "hypertube=[[] for _ in range(N+1)]\n",
    "for _ in range(M):\n",
    "    link=list(map(int,input().split()))\n",
    "    for i in link:\n",
    "        temp=copy.deepcopy(link)\n",
    "        temp.remove(i)\n",
    "        hypertube[i]=temp\n",
    "\n",
    "visit=[-1]*(N+1)\n",
    "queue=deque()\n",
    "queue.append((1,1))\n",
    "visit[1]=1\n",
    "while queue:\n",
    "    cur,throughNum=queue.popleft()\n",
    "    if cur==N: break\n",
    "    for nextTube in hypertube[cur]:\n",
    "        if (visit[nextTube]==-1):\n",
    "            queue.append((nextTube,throughNum+1))\n",
    "            visit[nextTube]=cur\n",
    "        \n",
    "print(throughNum)\n",
    "print(visit[N])"
   ]
  },
  {
   "cell_type": "markdown",
   "metadata": {},
   "source": [
    "## 18427 함께 블록 쌓기\n",
    "**문제로 이동** : [Baekjoon 함께 블록 쌓기](https://www.acmicpc.net/problem/18427)\n",
    "\n",
    "- 1번부터 N번까지 학생들은 각각 블록들을 가지고 있다\n",
    "- 학생마다 최대 M개의 블록을 가지고 있을 수 있으며 각 블록들의 높이는 서로 다르다\n",
    "- 1번부터 N번까지의 학생들이 가진 블록을 사용하여 하나의 탑을 만들고자한다\n",
    "- 반드시 학생의 블럭을 사용할 필요는 없으며 최대 1개의 블록을 사용할 수 있다\n",
    "- 학생들이 가진 블록 정보가 주어질 때 높이가 정확히 H인 탑을 만들 수 있는 경우의 수를 계산하라"
   ]
  },
  {
   "cell_type": "code",
   "execution_count": 22,
   "metadata": {},
   "outputs": [
    {
     "name": "stdout",
     "output_type": "stream",
     "text": [
      "3 3 5\n",
      "2 3 5\n",
      "3 5\n",
      "1 2 3\n",
      "dp [[1, 0, 0, 0, 0, 0], [1, 0, 1, 1, 0, 1], [1, 0, 1, 2, 0, 3], [1, 1, 2, 4, 3, 6]]\n",
      "6\n"
     ]
    }
   ],
   "source": [
    "import sys\n",
    "import copy\n",
    "\n",
    "#input=sys.stdin.readline\n",
    "N,M,H=map(int,input().split())\n",
    "dp=[[0]*(H+1) for _ in range(N+1)]\n",
    "dp[0][0]=1\n",
    "for i in range(1, N+1):\n",
    "    dp[i]=copy.deepcopy(dp[i-1])\n",
    "    block=list(map(int,input().split()))\n",
    "    for b in block:\n",
    "        for j in range(b, H+1):\n",
    "            dp[i][j]+=dp[i-1][j-b]\n",
    "        \n",
    "print(dp[N][H]%10007)"
   ]
  },
  {
   "cell_type": "code",
   "execution_count": null,
   "metadata": {},
   "outputs": [],
   "source": [
    "import sys\n",
    "\n",
    "#input=sys.stdin.readline\n",
    "N,M,H=map(int,input().split())\n",
    "dp=[[0]*(H+1) for _ in range(N+1)]\n",
    "block=[[]]\n",
    "for _ in range(M):\n",
    "    block.append(list(map(int,input().split())))\n",
    "dp[0][0]=1\n",
    "for b in block[1]:\n",
    "    dp[1][b]+=1\n",
    "    \n",
    "for i in range(2, N+1):\n",
    "    for b in block[i]:\n",
    "        for j in range(b, H+1):\n",
    "            dp[i][j]+=dp[i-1][j-b]\n",
    "        \n",
    "print(\"block\",block)\n",
    "print(\"dp\",dp)\n",
    "print(dp[N][H]%10007)"
   ]
  },
  {
   "cell_type": "markdown",
   "metadata": {},
   "source": [
    "## 2580 스도쿠\n",
    "\n",
    "**문제로 이동** : [Baekjoon 스도쿠](https://www.acmicpc.net/problem/2580)\n",
    "\n",
    "- 스도쿠 판에 쓰여있는 숫자들의 정보가 주어질 때 모든 빈 칸이 채워진 최종 모습을 출력하라"
   ]
  },
  {
   "cell_type": "code",
   "execution_count": 13,
   "metadata": {},
   "outputs": [
    {
     "name": "stdout",
     "output_type": "stream",
     "text": [
      "0 3 5 4 6 9 2 7 8\n",
      "7 8 2 1 0 5 6 0 9\n",
      "0 6 0 2 7 8 1 3 5\n",
      "3 2 1 0 4 6 8 9 7\n",
      "8 0 4 9 1 3 5 0 6\n",
      "5 9 6 8 2 0 4 1 3\n",
      "9 1 7 6 5 2 0 8 0\n",
      "6 0 3 7 0 1 9 5 2\n",
      "2 5 8 3 9 4 7 6 0\n",
      "1 3 5 4 6 9 2 7 8\n",
      "7 8 2 1 3 5 6 4 9\n",
      "4 6 9 2 7 8 1 3 5\n",
      "3 2 1 5 4 6 8 9 7\n",
      "8 7 4 9 1 3 5 2 6\n",
      "5 9 6 8 2 7 4 1 3\n",
      "9 1 7 6 5 2 3 8 4\n",
      "6 4 3 7 8 1 9 5 2\n",
      "2 5 8 3 9 4 7 6 1\n"
     ]
    },
    {
     "ename": "SystemExit",
     "evalue": "",
     "output_type": "error",
     "traceback": [
      "An exception has occurred, use %tb to see the full traceback.\n",
      "\u001b[1;31mSystemExit\u001b[0m\n"
     ]
    }
   ],
   "source": [
    "import sys\n",
    "\n",
    "# input = sys.stdin.readline\n",
    "board=[list(map(int,input().split())) for _ in range(9)]\n",
    "blank=[]\n",
    "for i in range(9):\n",
    "    for j in range(9):\n",
    "        if board[i][j]==0:\n",
    "            blank.append([i,j])\n",
    "            \n",
    "def PossibleNum(i, j):\n",
    "    poss=[1,2,3,4,5,6,7,8,9]\n",
    "    for d in range(9):\n",
    "        if board[i][d] in poss:\n",
    "            poss.remove(board[i][d])\n",
    "        if board[d][j] in poss:\n",
    "            poss.remove(board[d][j])\n",
    "    i,j=i//3,j//3\n",
    "    for p in range(i*3, i*3+3):\n",
    "        for q in range(j*3, j*3+3):\n",
    "            if board[p][q] in poss:\n",
    "                poss.remove(board[p][q])\n",
    "    return poss\n",
    " \n",
    "def dfs(n):\n",
    "    if n==len(blank):\n",
    "        for row in board:\n",
    "            print(*row)\n",
    "        sys.exit()\n",
    "    else:\n",
    "        (i,j)=blank[n]\n",
    "        poss=PossibleNum(i,j)\n",
    "        for p in poss:\n",
    "            board[i][j]=p\n",
    "            dfs(n+1)\n",
    "            board[i][j]=0\n",
    "        \n",
    "dfs(0)"
   ]
  },
  {
   "cell_type": "markdown",
   "metadata": {},
   "source": [
    "## 11559 Puyo Puyo\n",
    "\n",
    "**문제로 이동** : [Baekjoon Puyo Puyo](https://www.acmicpc.net/problem/11559)\n",
    "\n",
    "- 필드에 여러가지 색의 뿌요를 놓는다. \n",
    "- 뿌요는 중력의 영향으로 바닥이나 다른 뿌요가 나올때까지 아래로 떨어진다\n",
    "- 뿌요를 놓고 난 후 같은 색 뿌요가 4개 이상 상하좌우로 연결되어 있다면 연결된 같은 색 뿌요들이 한번에 없어진다\n",
    "- 뿌요들이 없어지고 나서 위에 다른 뿌요가 있다면 역시 중력의 영향을 받아 떨어진다\n",
    "- 터질 수 있는 뿌요가 여러 그룹이 있다면 동시에 터져야한다\n",
    "- 필드가 주어졌을 때 연쇄가 몇 번 연속으로 일어나는지 계산하라"
   ]
  },
  {
   "cell_type": "code",
   "execution_count": 23,
   "metadata": {},
   "outputs": [
    {
     "name": "stdout",
     "output_type": "stream",
     "text": [
      "......\n",
      "......\n",
      "......\n",
      "......\n",
      "......\n",
      "......\n",
      "......\n",
      "......\n",
      ".Y....\n",
      ".YG...\n",
      "RRYG..\n",
      "RRYGG.\n",
      "3\n"
     ]
    }
   ],
   "source": [
    "import sys\n",
    "from collections import deque\n",
    "\n",
    "#input=sys.stdin.readline\n",
    "field=[list(input().strip()) for _ in range(12)]\n",
    "dx=[-1,1,0,0]\n",
    "dy=[0,0,-1,1]\n",
    "\n",
    "def fall():\n",
    "    for y in range(6):\n",
    "        queue=deque()\n",
    "        for x in range(11,-1,-1):\n",
    "            if field[x][y]!='.':\n",
    "                queue.append(field[x][y])\n",
    "        for x in range(11,-1,-1):\n",
    "            if queue:\n",
    "                field[x][y]=queue.popleft()\n",
    "            else:\n",
    "                field[x][y]='.'\n",
    "                \n",
    "def bfs(i,j,c):\n",
    "    queue=deque([(i,j)])\n",
    "    explode=deque([(i,j)])\n",
    "    visit=[[False]*6 for _ in range(12)]\n",
    "    visit[i][j]=True\n",
    "    count=1\n",
    "    flag=0\n",
    "    while queue:\n",
    "        x,y=queue.popleft()\n",
    "        for d in range(4):\n",
    "            nx=x+dx[d]\n",
    "            ny=y+dy[d]\n",
    "            if 0<=nx<12 and 0<=ny<12:\n",
    "                if field[nx][ny]==c and not visit[nx][ny]:\n",
    "                    queue.append((nx,ny))\n",
    "                    explode.append((nx,ny))\n",
    "                    visit[nx][ny]=True\n",
    "                    count+=1\n",
    "    if count>=4:\n",
    "        flag=1\n",
    "        for x,y in explode:\n",
    "            field[x][y]=\".\"\n",
    "    return flag\n",
    "\n",
    "result=0\n",
    "while True:\n",
    "    explodeCount=0\n",
    "    for i in range(12):\n",
    "        for j in range(6):\n",
    "            if field[i][j]!='.':\n",
    "                explodeCount+=bfs(i,j,field[i][j])\n",
    "    if explodeCount==0:\n",
    "        print(result)\n",
    "        break\n",
    "    else:\n",
    "        result+=1\n",
    "    fall()"
   ]
  },
  {
   "cell_type": "code",
   "execution_count": null,
   "metadata": {},
   "outputs": [],
   "source": []
  }
 ],
 "metadata": {
  "kernelspec": {
   "display_name": "Python 3",
   "language": "python",
   "name": "python3"
  },
  "language_info": {
   "codemirror_mode": {
    "name": "ipython",
    "version": 3
   },
   "file_extension": ".py",
   "mimetype": "text/x-python",
   "name": "python",
   "nbconvert_exporter": "python",
   "pygments_lexer": "ipython3",
   "version": "3.8.3"
  }
 },
 "nbformat": 4,
 "nbformat_minor": 4
}
