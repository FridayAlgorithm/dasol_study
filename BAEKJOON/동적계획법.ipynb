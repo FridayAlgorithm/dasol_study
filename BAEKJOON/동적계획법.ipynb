{
 "cells": [
  {
   "cell_type": "code",
   "execution_count": null,
   "metadata": {},
   "outputs": [],
   "source": [
    "#1003 피보나치 함수\n",
    "# fibonacci 함수에 count로 직접 계산 -> 런타임에러\n",
    "fibo = [0]*40\n",
    "fibo[1]=1\n",
    "zeroCount=0; oneCount=0\n",
    "\n",
    "def getFibo (n):\n",
    "    global zeroCount, oneCount\n",
    "    if (n==0): \n",
    "        zeroCount+=1\n",
    "        return 0\n",
    "    if (n==1): \n",
    "        oneCount+=1\n",
    "        return 1\n",
    "    else :\n",
    "        if (fibo[n]!=0): \n",
    "            return fibo[n]\n",
    "        else :\n",
    "            fibo[n] = getFibo(n-1)+getFibo(n-2)\n",
    "            return fibo[n]\n",
    "        \n",
    "inputArr=[]\n",
    "T = int(input())\n",
    "for i in range(T):\n",
    "    N = int(input())\n",
    "    inputArr.append(N)\n",
    "for i in range(T):\n",
    "    getFibo(inputArr[i])\n",
    "    print(zeroCount, oneCount)\n",
    "    zeroCount=0; oneCount=0"
   ]
  },
  {
   "cell_type": "code",
   "execution_count": 3,
   "metadata": {},
   "outputs": [
    {
     "name": "stdout",
     "output_type": "stream",
     "text": [
      "3\n",
      "0\n",
      "1\n",
      "3\n",
      "1 0\n",
      "0 1\n",
      "1 1\n"
     ]
    }
   ],
   "source": [
    "#1003 피보나치 함수\n",
    "#피보나치 함수의 0과 1 출력 횟수 정해져있다.\n",
    "#메모리초과\n",
    "resArr=[[1, 0],[0,1],[1,1]]\n",
    "for i in range (38):\n",
    "    resArr.append([0,0])\n",
    "\n",
    "def dp (n):\n",
    "    if (n<=2 or resArr[n][0]!=0 or resArr[n][1]!=0):\n",
    "        return resArr[n]\n",
    "    else :\n",
    "        resArr[n]=dp(n-1)+dp(n-2)\n",
    "        return resArr[n]\n",
    "\n",
    "T=int(input())\n",
    "inputArr=[]\n",
    "for i in range(T):\n",
    "    N=int(input())\n",
    "    inputArr.append(N)\n",
    "    dp(N)\n",
    "\n",
    "for i in range (T):\n",
    "    print(resArr[inputArr[i]][0], resArr[inputArr[i]][1])"
   ]
  },
  {
   "cell_type": "code",
   "execution_count": null,
   "metadata": {},
   "outputs": [],
   "source": [
    "#9184 신나는 함수 실행\n"
   ]
  }
 ],
 "metadata": {
  "kernelspec": {
   "display_name": "Python 3",
   "language": "python",
   "name": "python3"
  },
  "language_info": {
   "codemirror_mode": {
    "name": "ipython",
    "version": 3
   },
   "file_extension": ".py",
   "mimetype": "text/x-python",
   "name": "python",
   "nbconvert_exporter": "python",
   "pygments_lexer": "ipython3",
   "version": "3.8.3"
  }
 },
 "nbformat": 4,
 "nbformat_minor": 4
}
