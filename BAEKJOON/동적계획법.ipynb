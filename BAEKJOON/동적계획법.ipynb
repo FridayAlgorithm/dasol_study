{
 "cells": [
  {
   "cell_type": "code",
   "execution_count": null,
   "metadata": {},
   "outputs": [],
   "source": [
    "#1003 피보나치 함수\n",
    "# fibonacci 함수에 count로 직접 계산 -> 런타임에러\n",
    "fibo = [0]*40\n",
    "fibo[1]=1\n",
    "zeroCount=0; oneCount=0\n",
    "\n",
    "def getFibo (n):\n",
    "    global zeroCount, oneCount\n",
    "    if (n==0): \n",
    "        zeroCount+=1\n",
    "        return 0\n",
    "    if (n==1): \n",
    "        oneCount+=1\n",
    "        return 1\n",
    "    else :\n",
    "        if (fibo[n]!=0): \n",
    "            return fibo[n]\n",
    "        else :\n",
    "            fibo[n] = getFibo(n-1)+getFibo(n-2)\n",
    "            return fibo[n]\n",
    "        \n",
    "inputArr=[]\n",
    "T = int(input())\n",
    "for i in range(T):\n",
    "    N = int(input())\n",
    "    inputArr.append(N)\n",
    "for i in range(T):\n",
    "    getFibo(inputArr[i])\n",
    "    print(zeroCount, oneCount)\n",
    "    zeroCount=0; oneCount=0"
   ]
  },
  {
   "cell_type": "code",
   "execution_count": null,
   "metadata": {},
   "outputs": [],
   "source": [
    "#1003 피보나치 함수\n",
    "#피보나치 함수의 0과 1 출력 횟수 정해져있다.\n",
    "resArr=[[1, 0],[0,1],[1,1]]\n",
    "for i in range (38):\n",
    "    resArr.append([0,0])\n",
    "\n",
    "def dp (n):\n",
    "    if (resArr[n][0]!=0 or resArr[n][1]!=0):\n",
    "        return resArr[n]\n",
    "    else :\n",
    "        dp(n-1); dp(n-2);\n",
    "        resArr[n]=[resArr[n-1][0]+resArr[n-2][0], resArr[n-1][1]+resArr[n-2][1]]\n",
    "        return resArr[n]\n",
    "\n",
    "T=int(input())\n",
    "inputArr=[]\n",
    "for i in range(T):\n",
    "    N=int(input())\n",
    "    inputArr.append(N)\n",
    "    dp(N)\n",
    "\n",
    "for i in range (T):\n",
    "    print(resArr[inputArr[i]][0], resArr[inputArr[i]][1])"
   ]
  },
  {
   "cell_type": "code",
   "execution_count": null,
   "metadata": {},
   "outputs": [],
   "source": [
    "#9184 신나는 함수 실행\n",
    "## 배열 선언 시 주의하자!\n",
    "#wArr = [[[0]*21]*21]*21\n",
    "wArr = [[[0]*21 for _ in range(21)] for _ in range(21)]\n",
    "\n",
    "def wDp (a,b,c):\n",
    "    if (a<=0 or b<=0 or c<=0): return 1\n",
    "    if (a>20 or b>20 or c>20): return wDp(20,20,20)\n",
    "    if (wArr[a][b][c]): return wArr[a][b][c]\n",
    "    if (a<b and b<c): \n",
    "        wArr[a][b][c]=wDp(a,b,c-1)+wDp(a,b-1,c-1)-wDp(a,b-1,c)\n",
    "        return wArr[a][b][c]\n",
    "    \n",
    "    wArr[a][b][c]=wDp(a-1,b,c)+wDp(a-1,b-1,c)+wDp(a-1,b,c-1)-wDp(a-1,b-1,c-1)\n",
    "    return wArr[a][b][c]\n",
    "\n",
    "\n",
    "# while (True):\n",
    "#     a,b,c = map(int,input().split())\n",
    "#     if (a==-1 and b==-1 and c==-1): break\n",
    "#     print(\"w(%d, %d, %d) = %d\"%(a,b,c,wDp(a,b,c)))\n",
    "while (True):\n",
    "    a = list(map(int,input().split()))\n",
    "    if (a[0]==-1 and a[1]==-1 and a[2]==-1): break\n",
    "    else : inputArr.append(a)\n",
    "\n",
    "for i in range (len(inputArr)):\n",
    "    print(\"w(%d, %d, %d) = %d\"%(inputArr[i][0], inputArr[i][1],inputArr[i][2],wDp(inputArr[i][0],inputArr[i][1],inputArr[i][2])))"
   ]
  },
  {
   "cell_type": "code",
   "execution_count": 7,
   "metadata": {},
   "outputs": [
    {
     "name": "stdout",
     "output_type": "stream",
     "text": [
      "[[[0, 0, 0, 0, 0], [0, 0, 0, 0, 0], [0, 0, 0, 0, 0], [0, 0, 0, 0, 0], [0, 0, 0, 0, 0]], [[0, 0, 0, 0, 0], [0, 0, 0, 0, 0], [0, 0, 0, 0, 0], [0, 0, 0, 0, 0], [0, 0, 0, 0, 0]], [[0, 0, 0, 0, 0], [0, 0, 0, 0, 0], [0, 0, 0, 0, 0], [0, 0, 0, 0, 0], [0, 0, 0, 0, 0]], [[0, 0, 0, 0, 0], [0, 0, 0, 0, 0], [0, 0, 0, 0, 0], [0, 0, 0, 0, 0], [0, 0, 0, 0, 0]], [[0, 0, 0, 0, 0], [0, 0, 0, 0, 0], [0, 0, 0, 0, 0], [0, 0, 0, 0, 0], [0, 0, 0, 0, 0]]]\n",
      "[[[0, 0, 0, 0, 0], [0, 0, 0, 0, 0], [0, 0, 0, 0, 0], [0, 0, 0, 0, 0], [0, 0, 0, 0, 0]], [[0, 0, 0, 0, 0], [0, 0, 0, 0, 0], [0, 0, 0, 0, 0], [0, 0, 0, 0, 0], [0, 0, 0, 0, 0]], [[0, 0, 0, 0, 0], [0, 0, 0, 0, 0], [0, 0, 0, 0, 0], [0, 0, 0, 0, 0], [0, 0, 0, 0, 0]], [[0, 0, 0, 0, 0], [0, 0, 0, 0, 0], [0, 0, 0, 0, 0], [0, 0, 0, 0, 0], [0, 0, 0, 0, 0]], [[0, 0, 0, 0, 0], [0, 0, 0, 0, 0], [0, 0, 0, 0, 0], [0, 0, 0, 0, 0], [0, 0, 0, 0, 0]]]\n",
      "\n",
      "[[[0, 0, 0, 0, 0], [0, 0, 0, 0, 0], [0, 0, 0, 0, 0], [0, 0, 0, 0, 0], [0, 0, 0, 0, 0]], [[0, 0, 0, 0, 0], [0, 0, 0, 0, 0], [0, 0, 0, 0, 0], [0, 0, 0, 0, 0], [0, 0, 0, 0, 0]], [[0, 0, 0, 0, 0], [0, 0, 0, 0, 0], [0, 0, 0, 0, 0], [0, 0, 0, 0, 0], [0, 0, 0, 0, 0]], [[0, 0, 0, 0, 0], [0, 0, 0, 0, 0], [0, 0, 0, 0, 0], [0, 0, 0, 0, 0], [0, 0, 0, 0, 0]], [[0, 0, 0, 0, 0], [0, 0, 0, 0, 0], [0, 0, 0, 1, 0], [0, 0, 0, 0, 0], [0, 0, 0, 0, 0]]]\n",
      "[[[0, 0, 0, 1, 0], [0, 0, 0, 1, 0], [0, 0, 0, 1, 0], [0, 0, 0, 1, 0], [0, 0, 0, 1, 0]], [[0, 0, 0, 1, 0], [0, 0, 0, 1, 0], [0, 0, 0, 1, 0], [0, 0, 0, 1, 0], [0, 0, 0, 1, 0]], [[0, 0, 0, 1, 0], [0, 0, 0, 1, 0], [0, 0, 0, 1, 0], [0, 0, 0, 1, 0], [0, 0, 0, 1, 0]], [[0, 0, 0, 1, 0], [0, 0, 0, 1, 0], [0, 0, 0, 1, 0], [0, 0, 0, 1, 0], [0, 0, 0, 1, 0]], [[0, 0, 0, 1, 0], [0, 0, 0, 1, 0], [0, 0, 0, 1, 0], [0, 0, 0, 1, 0], [0, 0, 0, 1, 0]]]\n"
     ]
    }
   ],
   "source": [
    "#배열 생성시 주의하자! \n",
    "#B의 경우 인덱스 참조 시 오류 발생하는 것 확인할 수 있다\n",
    "A = [[[0]*5 for _ in range(5)] for _ in range(5)]\n",
    "B = [[[0]*5]*5]*5\n",
    "print(A)\n",
    "print(B)\n",
    "A[4][2][3]=1\n",
    "B[4][2][3]=1\n",
    "print()\n",
    "print(A)\n",
    "print(B)"
   ]
  },
  {
   "cell_type": "code",
   "execution_count": 3,
   "metadata": {},
   "outputs": [
    {
     "name": "stdout",
     "output_type": "stream",
     "text": [
      "4\n",
      "5\n"
     ]
    }
   ],
   "source": [
    "#1904 01타일\n",
    "#메모리 초과! \n",
    "#재귀를 사용하면 안되는듯..\n",
    "import sys\n",
    "\n",
    "def fibo (n):\n",
    "    if (n==0): return 0\n",
    "    if (memo[n] != 0):\n",
    "        return memo[n]\n",
    "    else:\n",
    "        memo[n]=(fibo(n-1)+fibo(n-2))%15746\n",
    "        return memo[n]\n",
    "        \n",
    "memo=[]        \n",
    "#N=int(sys.stdin.readline())\n",
    "N=int(input())\n",
    "sys.setrecursionlimit(10**7)\n",
    "memo=[0]*(N+1)\n",
    "memo[0]=0; memo[1]=1; memo[2]=2; memo[3]=3\n",
    "print(fibo(N))"
   ]
  },
  {
   "cell_type": "code",
   "execution_count": 1,
   "metadata": {},
   "outputs": [
    {
     "name": "stdout",
     "output_type": "stream",
     "text": [
      "4\n",
      "5\n"
     ]
    }
   ],
   "source": [
    "#1904 01타일\n",
    "\n",
    "N=int(input())\n",
    "fibo=[0]*(N+1)\n",
    "fibo[0]=1; fibo[1]=1;\n",
    "if (N>1): \n",
    "    for i in range(2,N+1):\n",
    "        fibo[i]=(fibo[i-1]+fibo[i-2])%15746\n",
    "   \n",
    "print(fibo[N])"
   ]
  },
  {
   "cell_type": "code",
   "execution_count": 5,
   "metadata": {},
   "outputs": [
    {
     "name": "stdout",
     "output_type": "stream",
     "text": [
      "2\n",
      "6\n",
      "3\n",
      "12\n",
      "16\n"
     ]
    }
   ],
   "source": [
    "#9461 파도반 수열\n",
    "import sys\n",
    "memo=[0]*101\n",
    "\n",
    "def tri(n):\n",
    "    if (memo[n]!=0):\n",
    "        return memo[n]\n",
    "    else:\n",
    "        memo[n]=tri(n-2)+tri(n-3)\n",
    "        return memo[n]\n",
    "        \n",
    "memo[1]=1; memo[2]=1; memo[3]=1\n",
    "N=int(input())\n",
    "for i in range(N):\n",
    "    #a=int(sys.stdin.readline())\n",
    "    a=int(input())\n",
    "    print(tri(a))"
   ]
  },
  {
   "cell_type": "code",
   "execution_count": 2,
   "metadata": {},
   "outputs": [
    {
     "name": "stdout",
     "output_type": "stream",
     "text": [
      "3\n",
      "26 40 83\n",
      "49 60 57\n",
      "13 89 99\n",
      "96\n"
     ]
    }
   ],
   "source": [
    "#1149 RGB 거리\n",
    "import sys\n",
    "N=int(input())\n",
    "house=[]\n",
    "for i in range(N):\n",
    "    #rgb=list(map(int,sys.stdin.readline().split()))\n",
    "    rgb=list(map(int,input().split()))\n",
    "    house.append(rgb)\n",
    "\n",
    "for i in range(1,N):\n",
    "    house[i][0]=house[i][0]+min(house[i-1][1],house[i-1][2])\n",
    "    house[i][1]=house[i][1]+min(house[i-1][0],house[i-1][2])\n",
    "    house[i][2]=house[i][2]+min(house[i-1][0],house[i-1][1])\n",
    "\n",
    "print(min(house[N-1][0],house[N-1][1],house[N-1][2]))\n",
    "    "
   ]
  },
  {
   "cell_type": "code",
   "execution_count": 3,
   "metadata": {},
   "outputs": [
    {
     "name": "stdout",
     "output_type": "stream",
     "text": [
      "5\n",
      "7\n",
      "3 8\n",
      "8 1 0\n",
      "2 7 4 4\n",
      "4 5 2 6 5\n",
      "30\n"
     ]
    }
   ],
   "source": [
    "#1932 정수 삼각형\n",
    "import sys \n",
    "n = int(input())\n",
    "tri=[]\n",
    "for i in range(n):\n",
    "    #a=list(map(int,sys.stdin.readline().split()))\n",
    "    a=list(map(int,input().split()))\n",
    "    tri.append(a)\n",
    "\n",
    "for i in range(1,n): \n",
    "    for j in range(len(tri[i])): \n",
    "        if (j == 0) : \n",
    "            tri[i][j] += (tri[i-1][j]) \n",
    "        elif (j==i): \n",
    "            tri[i][j] +=(tri[i-1][j-1]) \n",
    "        else : \n",
    "            tri[i][j] += (max(tri[i-1][j],tri[i-1][j-1])) \n",
    "\n",
    "print(max(tri[n-1]))"
   ]
  },
  {
   "cell_type": "code",
   "execution_count": 1,
   "metadata": {},
   "outputs": [
    {
     "name": "stdout",
     "output_type": "stream",
     "text": [
      "6\n",
      "10\n",
      "20\n",
      "15\n",
      "25\n",
      "10\n",
      "20\n",
      "75\n"
     ]
    }
   ],
   "source": [
    "#2579 계단 오르기\n",
    "import sys\n",
    "\n",
    "N=int(input())\n",
    "stair=[0]\n",
    "score=[[0 for _ in range(2)] for _ in range(N+1)]\n",
    "for _ in range(N):\n",
    "    #num=int(sys.stdin.readline())\n",
    "    num=int(input())\n",
    "    stair.append(num)\n",
    "    \n",
    "score[1][0]=stair[1]; score[1][1]=stair[1]\n",
    "for i in range(2,N+1):\n",
    "    score[i][0]=max(score[i-2])+stair[i]\n",
    "    score[i][1]=score[i-1][0]+stair[i]\n",
    "\n",
    "print(max(score[N]))\n",
    "    "
   ]
  },
  {
   "cell_type": "code",
   "execution_count": 2,
   "metadata": {},
   "outputs": [
    {
     "name": "stdout",
     "output_type": "stream",
     "text": [
      "10\n",
      "3\n"
     ]
    }
   ],
   "source": [
    "#1463 1로 만들기\n",
    "n = int(input())\n",
    "\n",
    "dp = [0 for _ in range(n+1)]\n",
    "\n",
    "for i in range(2, n+1):\n",
    "    dp[i] = dp[i-1] + 1  \n",
    "\n",
    "    if (i%2 == 0 and dp[i] > dp[i//2]+1):\n",
    "        dp[i] = dp[i//2]+1\n",
    "        \n",
    "    if (i%3 == 0 and dp[i] > dp[i//3]+1):\n",
    "        dp[i] = dp[i//3]+1\n",
    "        \n",
    "print(dp[n])"
   ]
  },
  {
   "cell_type": "code",
   "execution_count": null,
   "metadata": {},
   "outputs": [],
   "source": []
  }
 ],
 "metadata": {
  "kernelspec": {
   "display_name": "Python 3",
   "language": "python",
   "name": "python3"
  },
  "language_info": {
   "codemirror_mode": {
    "name": "ipython",
    "version": 3
   },
   "file_extension": ".py",
   "mimetype": "text/x-python",
   "name": "python",
   "nbconvert_exporter": "python",
   "pygments_lexer": "ipython3",
   "version": "3.7.9"
  }
 },
 "nbformat": 4,
 "nbformat_minor": 4
}
