{
 "cells": [
  {
   "cell_type": "code",
   "execution_count": null,
   "metadata": {},
   "outputs": [],
   "source": [
    "#1003 피보나치 함수\n",
    "# fibonacci 함수에 count로 직접 계산 -> 런타임에러\n",
    "fibo = [0]*40\n",
    "fibo[1]=1\n",
    "zeroCount=0; oneCount=0\n",
    "\n",
    "def getFibo (n):\n",
    "    global zeroCount, oneCount\n",
    "    if (n==0): \n",
    "        zeroCount+=1\n",
    "        return 0\n",
    "    if (n==1): \n",
    "        oneCount+=1\n",
    "        return 1\n",
    "    else :\n",
    "        if (fibo[n]!=0): \n",
    "            return fibo[n]\n",
    "        else :\n",
    "            fibo[n] = getFibo(n-1)+getFibo(n-2)\n",
    "            return fibo[n]\n",
    "        \n",
    "inputArr=[]\n",
    "T = int(input())\n",
    "for i in range(T):\n",
    "    N = int(input())\n",
    "    inputArr.append(N)\n",
    "for i in range(T):\n",
    "    getFibo(inputArr[i])\n",
    "    print(zeroCount, oneCount)\n",
    "    zeroCount=0; oneCount=0"
   ]
  },
  {
   "cell_type": "code",
   "execution_count": null,
   "metadata": {},
   "outputs": [],
   "source": [
    "#1003 피보나치 함수\n",
    "#피보나치 함수의 0과 1 출력 횟수 정해져있다.\n",
    "resArr=[[1, 0],[0,1],[1,1]]\n",
    "for i in range (38):\n",
    "    resArr.append([0,0])\n",
    "\n",
    "def dp (n):\n",
    "    if (resArr[n][0]!=0 or resArr[n][1]!=0):\n",
    "        return resArr[n]\n",
    "    else :\n",
    "        dp(n-1); dp(n-2);\n",
    "        resArr[n]=[resArr[n-1][0]+resArr[n-2][0], resArr[n-1][1]+resArr[n-2][1]]\n",
    "        return resArr[n]\n",
    "\n",
    "T=int(input())\n",
    "inputArr=[]\n",
    "for i in range(T):\n",
    "    N=int(input())\n",
    "    inputArr.append(N)\n",
    "    dp(N)\n",
    "\n",
    "for i in range (T):\n",
    "    print(resArr[inputArr[i]][0], resArr[inputArr[i]][1])"
   ]
  },
  {
   "cell_type": "code",
   "execution_count": null,
   "metadata": {},
   "outputs": [],
   "source": [
    "#9184 신나는 함수 실행\n",
    "## 배열 선언 시 주의하자!\n",
    "#wArr = [[[0]*21]*21]*21\n",
    "wArr = [[[0]*21 for _ in range(21)] for _ in range(21)]\n",
    "\n",
    "def wDp (a,b,c):\n",
    "    if (a<=0 or b<=0 or c<=0): return 1\n",
    "    if (a>20 or b>20 or c>20): return wDp(20,20,20)\n",
    "    if (wArr[a][b][c]): return wArr[a][b][c]\n",
    "    if (a<b and b<c): \n",
    "        wArr[a][b][c]=wDp(a,b,c-1)+wDp(a,b-1,c-1)-wDp(a,b-1,c)\n",
    "        return wArr[a][b][c]\n",
    "    \n",
    "    wArr[a][b][c]=wDp(a-1,b,c)+wDp(a-1,b-1,c)+wDp(a-1,b,c-1)-wDp(a-1,b-1,c-1)\n",
    "    return wArr[a][b][c]\n",
    "\n",
    "\n",
    "# while (True):\n",
    "#     a,b,c = map(int,input().split())\n",
    "#     if (a==-1 and b==-1 and c==-1): break\n",
    "#     print(\"w(%d, %d, %d) = %d\"%(a,b,c,wDp(a,b,c)))\n",
    "while (True):\n",
    "    a = list(map(int,input().split()))\n",
    "    if (a[0]==-1 and a[1]==-1 and a[2]==-1): break\n",
    "    else : inputArr.append(a)\n",
    "\n",
    "for i in range (len(inputArr)):\n",
    "    print(\"w(%d, %d, %d) = %d\"%(inputArr[i][0], inputArr[i][1],inputArr[i][2],wDp(inputArr[i][0],inputArr[i][1],inputArr[i][2])))"
   ]
  },
  {
   "cell_type": "code",
   "execution_count": 7,
   "metadata": {},
   "outputs": [
    {
     "name": "stdout",
     "output_type": "stream",
     "text": [
      "[[[0, 0, 0, 0, 0], [0, 0, 0, 0, 0], [0, 0, 0, 0, 0], [0, 0, 0, 0, 0], [0, 0, 0, 0, 0]], [[0, 0, 0, 0, 0], [0, 0, 0, 0, 0], [0, 0, 0, 0, 0], [0, 0, 0, 0, 0], [0, 0, 0, 0, 0]], [[0, 0, 0, 0, 0], [0, 0, 0, 0, 0], [0, 0, 0, 0, 0], [0, 0, 0, 0, 0], [0, 0, 0, 0, 0]], [[0, 0, 0, 0, 0], [0, 0, 0, 0, 0], [0, 0, 0, 0, 0], [0, 0, 0, 0, 0], [0, 0, 0, 0, 0]], [[0, 0, 0, 0, 0], [0, 0, 0, 0, 0], [0, 0, 0, 0, 0], [0, 0, 0, 0, 0], [0, 0, 0, 0, 0]]]\n",
      "[[[0, 0, 0, 0, 0], [0, 0, 0, 0, 0], [0, 0, 0, 0, 0], [0, 0, 0, 0, 0], [0, 0, 0, 0, 0]], [[0, 0, 0, 0, 0], [0, 0, 0, 0, 0], [0, 0, 0, 0, 0], [0, 0, 0, 0, 0], [0, 0, 0, 0, 0]], [[0, 0, 0, 0, 0], [0, 0, 0, 0, 0], [0, 0, 0, 0, 0], [0, 0, 0, 0, 0], [0, 0, 0, 0, 0]], [[0, 0, 0, 0, 0], [0, 0, 0, 0, 0], [0, 0, 0, 0, 0], [0, 0, 0, 0, 0], [0, 0, 0, 0, 0]], [[0, 0, 0, 0, 0], [0, 0, 0, 0, 0], [0, 0, 0, 0, 0], [0, 0, 0, 0, 0], [0, 0, 0, 0, 0]]]\n",
      "\n",
      "[[[0, 0, 0, 0, 0], [0, 0, 0, 0, 0], [0, 0, 0, 0, 0], [0, 0, 0, 0, 0], [0, 0, 0, 0, 0]], [[0, 0, 0, 0, 0], [0, 0, 0, 0, 0], [0, 0, 0, 0, 0], [0, 0, 0, 0, 0], [0, 0, 0, 0, 0]], [[0, 0, 0, 0, 0], [0, 0, 0, 0, 0], [0, 0, 0, 0, 0], [0, 0, 0, 0, 0], [0, 0, 0, 0, 0]], [[0, 0, 0, 0, 0], [0, 0, 0, 0, 0], [0, 0, 0, 0, 0], [0, 0, 0, 0, 0], [0, 0, 0, 0, 0]], [[0, 0, 0, 0, 0], [0, 0, 0, 0, 0], [0, 0, 0, 1, 0], [0, 0, 0, 0, 0], [0, 0, 0, 0, 0]]]\n",
      "[[[0, 0, 0, 1, 0], [0, 0, 0, 1, 0], [0, 0, 0, 1, 0], [0, 0, 0, 1, 0], [0, 0, 0, 1, 0]], [[0, 0, 0, 1, 0], [0, 0, 0, 1, 0], [0, 0, 0, 1, 0], [0, 0, 0, 1, 0], [0, 0, 0, 1, 0]], [[0, 0, 0, 1, 0], [0, 0, 0, 1, 0], [0, 0, 0, 1, 0], [0, 0, 0, 1, 0], [0, 0, 0, 1, 0]], [[0, 0, 0, 1, 0], [0, 0, 0, 1, 0], [0, 0, 0, 1, 0], [0, 0, 0, 1, 0], [0, 0, 0, 1, 0]], [[0, 0, 0, 1, 0], [0, 0, 0, 1, 0], [0, 0, 0, 1, 0], [0, 0, 0, 1, 0], [0, 0, 0, 1, 0]]]\n"
     ]
    }
   ],
   "source": [
    "#배열 생성시 주의하자! \n",
    "#B의 경우 인덱스 참조 시 오류 발생하는 것 확인할 수 있다\n",
    "A = [[[0]*5 for _ in range(5)] for _ in range(5)]\n",
    "B = [[[0]*5]*5]*5\n",
    "print(A)\n",
    "print(B)\n",
    "A[4][2][3]=1\n",
    "B[4][2][3]=1\n",
    "print()\n",
    "print(A)\n",
    "print(B)"
   ]
  },
  {
   "cell_type": "code",
   "execution_count": 3,
   "metadata": {},
   "outputs": [
    {
     "name": "stdout",
     "output_type": "stream",
     "text": [
      "4\n",
      "5\n"
     ]
    }
   ],
   "source": [
    "#1904 01타일\n",
    "#메모리 초과! \n",
    "#재귀를 사용하면 안되는듯..\n",
    "import sys\n",
    "\n",
    "def fibo (n):\n",
    "    if (n==0): return 0\n",
    "    if (memo[n] != 0):\n",
    "        return memo[n]\n",
    "    else:\n",
    "        memo[n]=(fibo(n-1)+fibo(n-2))%15746\n",
    "        return memo[n]\n",
    "        \n",
    "memo=[]        \n",
    "#N=int(sys.stdin.readline())\n",
    "N=int(input())\n",
    "sys.setrecursionlimit(10**7) \n",
    "memo=[0]*(N+1)\n",
    "memo[0]=0; memo[1]=1; memo[2]=2; memo[3]=3\n",
    "print(fibo(N))"
   ]
  },
  {
   "cell_type": "code",
   "execution_count": 1,
   "metadata": {},
   "outputs": [
    {
     "name": "stdout",
     "output_type": "stream",
     "text": [
      "4\n",
      "5\n"
     ]
    }
   ],
   "source": [
    "#1904 01타일\n",
    "\n",
    "N=int(input())\n",
    "fibo=[0]*(N+1)\n",
    "fibo[0]=1; fibo[1]=1;\n",
    "if (N>1): \n",
    "    for i in range(2,N+1):\n",
    "        fibo[i]=(fibo[i-1]+fibo[i-2])%15746\n",
    "   \n",
    "print(fibo[N])"
   ]
  },
  {
   "cell_type": "code",
   "execution_count": 5,
   "metadata": {},
   "outputs": [
    {
     "name": "stdout",
     "output_type": "stream",
     "text": [
      "2\n",
      "6\n",
      "3\n",
      "12\n",
      "16\n"
     ]
    }
   ],
   "source": [
    "#9461 파도반 수열\n",
    "import sys\n",
    "memo=[0]*101\n",
    "\n",
    "def tri(n):\n",
    "    if (memo[n]!=0):\n",
    "        return memo[n]\n",
    "    else:\n",
    "        memo[n]=tri(n-2)+tri(n-3)\n",
    "        return memo[n]\n",
    "        \n",
    "memo[1]=1; memo[2]=1; memo[3]=1\n",
    "N=int(input())\n",
    "for i in range(N):\n",
    "    #a=int(sys.stdin.readline())\n",
    "    a=int(input())\n",
    "    print(tri(a))"
   ]
  },
  {
   "cell_type": "code",
   "execution_count": null,
   "metadata": {},
   "outputs": [],
   "source": []
  }
 ],
 "metadata": {
  "kernelspec": {
   "display_name": "Python 3",
   "language": "python",
   "name": "python3"
  },
  "language_info": {
   "codemirror_mode": {
    "name": "ipython",
    "version": 3
   },
   "file_extension": ".py",
   "mimetype": "text/x-python",
   "name": "python",
   "nbconvert_exporter": "python",
   "pygments_lexer": "ipython3",
   "version": "3.8.3"
  }
 },
 "nbformat": 4,
 "nbformat_minor": 4
}
